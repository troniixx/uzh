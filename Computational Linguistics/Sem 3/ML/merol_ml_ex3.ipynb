{
  "cells": [
    {
      "cell_type": "markdown",
      "metadata": {
        "id": "UrkDic2dAWRv"
      },
      "source": [
        "#Exercise 3: A Simple Classifier, Optimization and BERT.\n",
        "\n",
        "You can work in pairs or individually.\n",
        "\n",
        "Upload your solution on OLAT before the deadline: **Friday, 22nd November 2024,  at 12:15**.\n",
        "\n",
        "If you have any questions, post them on OLAT.\n",
        "\n",
        "**Submission Format**\n",
        "- Filename: **olatnameStudent1_olatnameStudent2_ml_ex2.ipynb**\n",
        "- Include the names of **both team members** in the block below.\n",
        "- If you have multiple files, place your file(s) in a compressed folder (zip).\n",
        "\n",
        "\n",
        "Good luck! :)"
      ]
    },
    {
      "cell_type": "markdown",
      "metadata": {
        "id": "Tt-GBpM8A44D"
      },
      "source": [
        "Mert Erol, 20-915-245, merol"
      ]
    },
    {
      "cell_type": "markdown",
      "metadata": {
        "id": "kMxI0N0feLlR"
      },
      "source": [
        "**Important: only change the code where you're asked to (TODO). Please don't change the rest of the code.**"
      ]
    },
    {
      "cell_type": "markdown",
      "metadata": {
        "id": "bszxM6Hb0M1U"
      },
      "source": [
        "# Task 1. Training a Classifier"
      ]
    },
    {
      "cell_type": "markdown",
      "metadata": {
        "id": "wMdpvgLgS84_"
      },
      "source": [
        "In this task you will train a simple classifier using a feed-forward network. Go through the code, finish it where necessary (TODO) and answer the questions in code comments and in the text cell."
      ]
    },
    {
      "cell_type": "code",
      "execution_count": null,
      "metadata": {
        "id": "Z4yxae_b2gnP"
      },
      "outputs": [],
      "source": [
        "#import all the necessary libraries\n",
        "\n",
        "import torch\n",
        "import torch.nn as nn\n",
        "import torch.optim as optim\n",
        "import torch.utils.data as data\n",
        "from torch.utils.data import DataLoader, TensorDataset\n",
        "from sklearn.datasets import load_iris\n",
        "from sklearn.model_selection import train_test_split\n",
        "from sklearn.preprocessing import StandardScaler\n",
        "from sklearn.metrics import accuracy_score, confusion_matrix\n",
        "import numpy as np\n",
        "\n",
        "import matplotlib.pyplot as plt"
      ]
    },
    {
      "cell_type": "code",
      "execution_count": null,
      "metadata": {
        "id": "TP-ES7mr3udh"
      },
      "outputs": [],
      "source": [
        "#here we will load the Iris dataset: a dataset that contains information about 3 kinds of Iris flowers\n",
        "\n",
        "iris = load_iris()\n",
        "X = iris.data\n",
        "y = iris.target"
      ]
    },
    {
      "cell_type": "code",
      "execution_count": null,
      "metadata": {
        "id": "10o9XYGG4E85"
      },
      "outputs": [],
      "source": [
        "#always remember to split your data into at least 2 sets: train and test\n",
        "\n",
        "#DONE: set test size to 20%\n",
        "X_train, X_test, y_train, y_test = train_test_split(X, y, test_size=0.2, random_state=42)\n",
        "\n",
        "#we will also standardize the data to improve model convergence\n",
        "\n",
        "scaler = StandardScaler()\n",
        "X_train = scaler.fit_transform(X_train)\n",
        "X_test = scaler.transform(X_test)\n",
        "\n",
        "#and now we convert our data into PyTorch tensors\n",
        "\n",
        "X_train_tensor = torch.tensor(X_train, dtype=torch.float32)\n",
        "y_train_tensor = torch.tensor(y_train, dtype=torch.long)\n",
        "X_test_tensor = torch.tensor(X_test, dtype=torch.float32)\n",
        "y_test_tensor = torch.tensor(y_test, dtype=torch.long)\n"
      ]
    },
    {
      "cell_type": "markdown",
      "metadata": {
        "id": "XeImdKrjTo9_"
      },
      "source": [
        "Model equations:\n",
        "\n",
        "- $\\mathbf{h} = \\mathbf{\\sigma(Hx)}$\n",
        "\n",
        "- $\\mathbf{out} = \\mathbf{Oh}$\n",
        "\n",
        "where $\\mathbf{\\sigma} = \\mathbf{ReLU}$"
      ]
    },
    {
      "cell_type": "code",
      "execution_count": null,
      "metadata": {
        "id": "xA33XjFF6RWz"
      },
      "outputs": [],
      "source": [
        "#here we define the model\n",
        "\n",
        "class Iris(nn.Module):\n",
        "  def __init__(self):\n",
        "    super(Iris, self).__init__()\n",
        "    self.H = nn.Linear(4, 10)\n",
        "    self.O = nn.Linear(10, 3)\n",
        "    self.relu = nn.ReLU()\n",
        "\n",
        "  def forward(self, x):\n",
        "\n",
        "    #TODO: define the forward pass\n",
        "    h = self.relu(self.H(x))\n",
        "    out = self.O(h)\n",
        "\n",
        "    return out"
      ]
    },
    {
      "cell_type": "code",
      "execution_count": null,
      "metadata": {
        "id": "ozLQ0RvK69wp"
      },
      "outputs": [],
      "source": [
        "#instantiate the model, the loss function and an optimizer\n",
        "\n",
        "torch.manual_seed(42)\n",
        "\n",
        "model = Iris() #TODO\n",
        "loss_function = nn.CrossEntropyLoss()\n",
        "optimizer = optim.SGD(model.parameters(), lr=0.01)"
      ]
    },
    {
      "cell_type": "code",
      "execution_count": null,
      "metadata": {
        "id": "21-ctoCFKbty"
      },
      "outputs": [],
      "source": [
        "#now we create a dataset using data loader from PyTorch\n",
        "\n",
        "dataset_size = len(X_train_tensor)\n",
        "train_dataset = TensorDataset(X_train_tensor, y_train_tensor)\n",
        "train_loader = DataLoader(train_dataset, batch_size=dataset_size, shuffle=False)"
      ]
    },
    {
      "cell_type": "code",
      "execution_count": null,
      "metadata": {
        "id": "hqYDacoB7PWu",
        "colab": {
          "base_uri": "https://localhost:8080/"
        },
        "outputId": "cab16eb0-7196-4b76-f36d-058cfe79bb99"
      },
      "outputs": [
        {
          "output_type": "stream",
          "name": "stdout",
          "text": [
            "Epoch: 0/10,\n",
            "Loss: 1.0531744956970215\n",
            "Epoch: 1/10,\n",
            "Loss: 1.0500966310501099\n",
            "Epoch: 2/10,\n",
            "Loss: 1.04703950881958\n",
            "Epoch: 3/10,\n",
            "Loss: 1.043992280960083\n",
            "Epoch: 4/10,\n",
            "Loss: 1.0409557819366455\n",
            "Epoch: 5/10,\n",
            "Loss: 1.0379427671432495\n",
            "Epoch: 6/10,\n",
            "Loss: 1.0349594354629517\n",
            "Epoch: 7/10,\n",
            "Loss: 1.0320091247558594\n",
            "Epoch: 8/10,\n",
            "Loss: 1.029105544090271\n",
            "Epoch: 9/10,\n",
            "Loss: 1.026219129562378\n"
          ]
        }
      ],
      "source": [
        "#train the model\n",
        "\n",
        "epochs = 10\n",
        "\n",
        "loss_values = [] #we will store the values here so that we can visualize them later\n",
        "\n",
        "for epoch in range(epochs):\n",
        "  epoch_loss = 0\n",
        "\n",
        "  for inputs, labels in train_loader:\n",
        "\n",
        "    optimizer.zero_grad() #DONE: Clear previous gradients to prevent accumulation\n",
        "\n",
        "    outputs = model(inputs)\n",
        "    loss = loss_function(outputs, labels)\n",
        "\n",
        "    epoch_loss += loss.item()\n",
        "\n",
        "    #here we perform the backward pass\n",
        "\n",
        "    loss.backward() #DONE: This computes the derivative of the loss function w.r.t the model's parameters\n",
        "    optimizer.step() #DONE: Update model parameters using the gradients calculated by loss.backward()\n",
        "\n",
        "  average_loss = epoch_loss / len(train_loader)\n",
        "  loss_values.append(average_loss)\n",
        "\n",
        "  #we will print the loss so we can see how it progresses\n",
        "  print(f'Epoch: {epoch}/{epochs},\\nLoss: {loss.item()}')\n",
        "\n"
      ]
    },
    {
      "cell_type": "code",
      "execution_count": null,
      "metadata": {
        "id": "ns_5PHsyOSiZ",
        "colab": {
          "base_uri": "https://localhost:8080/",
          "height": 472
        },
        "outputId": "0d5f9ec4-798f-49d2-94b0-ccded8876295"
      },
      "outputs": [
        {
          "output_type": "display_data",
          "data": {
            "text/plain": [
              "<Figure size 640x480 with 1 Axes>"
            ],
            "image/png": "[encoded data removed]"
          },
          "metadata": {}
        }
      ],
      "source": [
        "#TODO: visualise the progression of loss using a line plot (loss per epoch)\n",
        "\n",
        "import matplotlib.pyplot as plt\n",
        "\n",
        "plt.plot(range(epochs), loss_values, label=\"Training Loss\")\n",
        "\n",
        "plt.xlabel(\"Epochs\")\n",
        "plt.ylabel(\"Loss\")\n",
        "plt.title(\"Training Loss per Epoch\")\n",
        "\n",
        "plt.legend()\n",
        "plt.show()"
      ]
    },
    {
      "cell_type": "markdown",
      "metadata": {
        "id": "fgrc1mE3Vjq0"
      },
      "source": [
        "TODO: answer the following questions.\n",
        "\n",
        "- Look at the cell where we create a data loader. Which optimization algorithm are we using: GD, SGD or mini-batch GD? How do you know?\n",
        "    - mini Batch because we update the parameters after each iteration of the inner loop\n",
        "\n",
        "- Observe how the loss value changes. Considering the optimizer, do you notice any trends? How do these trends align with the expected behaviour of the optimizer?\n",
        "    - The SGD optimizer steadily reduces the loss over epochs, as shown by the linear decrease in the plot. This aligns with the expected behavior of SGD, which iteratively adjusts parameters to minimize loss."
      ]
    },
    {
      "cell_type": "markdown",
      "metadata": {
        "id": "A5ra3tF40pHu"
      },
      "source": [
        "# Task 2. Adjusting Hyperparameters"
      ]
    },
    {
      "cell_type": "markdown",
      "metadata": {
        "id": "KqS-Os4cXiz4"
      },
      "source": [
        "In this task you will experiment with **the same model** setup, but **different hyperparameters** to observe their effect."
      ]
    },
    {
      "cell_type": "markdown",
      "metadata": {
        "id": "-yKC1g-Y02VI"
      },
      "source": [
        "## Task 2.1. Adjusting Optimizers"
      ]
    },
    {
      "cell_type": "markdown",
      "metadata": {
        "id": "FpsM7igoX9Jw"
      },
      "source": [
        "In task 1 you used one of the following optimizing algorithms: GD, SGD or mini-batch GD.\n",
        "\n",
        "Your task is:\n",
        "\n",
        "- to **finish the code** in the cells below and implement the other **2 optimizers** (e.g., if you say that task 1 uses SGD, you have to implement GD and mini-batch GD);\n",
        "\n",
        "- to answer the questions (comments in code and text cell at the end of the task);\n",
        "\n",
        "- to visualise loss (you can reuse your code from task 1).\n",
        "\n",
        "\n",
        "\n",
        "Note #1: don't be intimidated by all the code - it's the same code as in task 1, you just need to adjust it wherever there's a 'TODO'.\n",
        "\n",
        "Note #2: To implement different optimizers, you just need to set the right batch size."
      ]
    },
    {
      "cell_type": "code",
      "execution_count": null,
      "metadata": {
        "id": "eeeoxLBdKIM5"
      },
      "outputs": [],
      "source": [
        "#TODO: reinstantiate the model, the loss function and the optimizer. Why do we need to do it?\n",
        "\n",
        "torch.manual_seed(42) #TODO: What does this line of code do?\n",
        "\n",
        "model = Iris() #TODO\n",
        "loss_function = nn.CrossEntropyLoss() #TODO\n",
        "optimizer = optim.SGD(model.parameters(), lr=0.01) #TODO"
      ]
    },
    {
      "cell_type": "code",
      "execution_count": null,
      "metadata": {
        "id": "W3jajBN3KlAt"
      },
      "outputs": [],
      "source": [
        "#now we create a dataset using data loader from PyTorch\n",
        "\n",
        "dataset_size = len(X_train_tensor)\n",
        "train_dataset = TensorDataset(X_train_tensor, y_train_tensor)\n",
        "train_loader = DataLoader(train_dataset, batch_size=1, shuffle=True) #TODO: adjust the batch size"
      ]
    },
    {
      "cell_type": "code",
      "execution_count": null,
      "metadata": {
        "id": "TYGHqOQ_KLwy",
        "colab": {
          "base_uri": "https://localhost:8080/"
        },
        "outputId": "4222c93e-6325-4a34-dc90-af2c958267a2"
      },
      "outputs": [
        {
          "output_type": "stream",
          "name": "stdout",
          "text": [
            "Epoch: 0/10,\n",
            "Loss: 1.0592658519744873\n",
            "Epoch: 1/10,\n",
            "Loss: 0.34543657302856445\n",
            "Epoch: 2/10,\n",
            "Loss: 0.174723818898201\n",
            "Epoch: 3/10,\n",
            "Loss: 0.12185793370008469\n",
            "Epoch: 4/10,\n",
            "Loss: 0.7237241268157959\n",
            "Epoch: 5/10,\n",
            "Loss: 0.5397452116012573\n",
            "Epoch: 6/10,\n",
            "Loss: 0.1266338974237442\n",
            "Epoch: 7/10,\n",
            "Loss: 0.34989964962005615\n",
            "Epoch: 8/10,\n",
            "Loss: 0.04827488958835602\n",
            "Epoch: 9/10,\n",
            "Loss: 0.04079185798764229\n"
          ]
        }
      ],
      "source": [
        "#train the model\n",
        "\n",
        "epochs = 10\n",
        "\n",
        "loss_values = [] #we will store the values here so that we can visualize them later\n",
        "\n",
        "for epoch in range(epochs):\n",
        "  epoch_loss = 0\n",
        "\n",
        "  for inputs, labels in train_loader:\n",
        "\n",
        "    optimizer.zero_grad()\n",
        "\n",
        "    outputs = model(inputs)\n",
        "    loss = loss_function(outputs, labels)\n",
        "\n",
        "    epoch_loss += loss.item()\n",
        "\n",
        "    #TODO: perform the backward pass\n",
        "\n",
        "    loss.backward()\n",
        "    optimizer.step()\n",
        "\n",
        "  average_loss = epoch_loss / len(train_loader)\n",
        "  loss_values.append(average_loss)\n",
        "\n",
        "  #we will print the loss so we can see how it progresses\n",
        "  print(f'Epoch: {epoch}/{epochs},\\nLoss: {loss.item()}')\n",
        "\n"
      ]
    },
    {
      "cell_type": "code",
      "execution_count": null,
      "metadata": {
        "id": "w-COJzWSZIRG",
        "colab": {
          "base_uri": "https://localhost:8080/",
          "height": 472
        },
        "outputId": "aa28f80b-f00d-45f3-abee-d517e7fe5c79"
      },
      "outputs": [
        {
          "output_type": "display_data",
          "data": {
            "text/plain": [
              "<Figure size 640x480 with 1 Axes>"
            ],
            "image/png": "[encoded data removed]"
          },
          "metadata": {}
        }
      ],
      "source": [
        "#visualise the loss - you can reuse your code from task 1\n",
        "import matplotlib.pyplot as plt\n",
        "\n",
        "plt.plot(range(epochs), loss_values, label=\"Training Loss\")\n",
        "\n",
        "plt.xlabel(\"Epochs\")\n",
        "plt.ylabel(\"Loss\")\n",
        "plt.title(\"Training Loss per Epoch\")\n",
        "\n",
        "plt.legend()\n",
        "plt.show()"
      ]
    },
    {
      "cell_type": "markdown",
      "metadata": {
        "id": "rfhD_8AVZaIb"
      },
      "source": [
        "Now repeat the process for the 3rd optimizer"
      ]
    },
    {
      "cell_type": "code",
      "execution_count": null,
      "metadata": {
        "id": "foOonRgGZhpE"
      },
      "outputs": [],
      "source": [
        "#TODO: reinstantiate the model, the loss function and the optimizer.\n",
        "\n",
        "torch.manual_seed(42)\n",
        "\n",
        "model = Iris() #TODO\n",
        "loss_function = nn.CrossEntropyLoss() #TODO\n",
        "optimizer = optim.SGD(model.parameters(), lr=0.01) #TODO"
      ]
    },
    {
      "cell_type": "code",
      "execution_count": null,
      "metadata": {
        "id": "PqAH3kKNZhpF"
      },
      "outputs": [],
      "source": [
        "#now we create a dataset using data loader from PyTorch\n",
        "\n",
        "dataset_size = len(X_train_tensor)\n",
        "train_dataset = TensorDataset(X_train_tensor, y_train_tensor)\n",
        "train_loader = DataLoader(train_dataset, batch_size=32, shuffle=True) #TODO: adjust the batch size"
      ]
    },
    {
      "cell_type": "code",
      "execution_count": null,
      "metadata": {
        "id": "JY7DdRsgZhpF",
        "colab": {
          "base_uri": "https://localhost:8080/"
        },
        "outputId": "ccbdfe53-23f8-496d-ab1e-1e6f268d1d7d"
      },
      "outputs": [
        {
          "output_type": "stream",
          "name": "stdout",
          "text": [
            "Epoch: 0/10,\n",
            "Loss: 1.101258635520935\n",
            "Epoch: 1/10,\n",
            "Loss: 1.0393818616867065\n",
            "Epoch: 2/10,\n",
            "Loss: 1.0003453493118286\n",
            "Epoch: 3/10,\n",
            "Loss: 0.9748765826225281\n",
            "Epoch: 4/10,\n",
            "Loss: 1.0491794347763062\n",
            "Epoch: 5/10,\n",
            "Loss: 1.0841038227081299\n",
            "Epoch: 6/10,\n",
            "Loss: 0.9221776127815247\n",
            "Epoch: 7/10,\n",
            "Loss: 0.9913058280944824\n",
            "Epoch: 8/10,\n",
            "Loss: 0.9830357432365417\n",
            "Epoch: 9/10,\n",
            "Loss: 0.9251051545143127\n"
          ]
        }
      ],
      "source": [
        "#train the model\n",
        "\n",
        "epochs = 10\n",
        "\n",
        "loss_values = [] #we will store the values here so that we can visualize them later\n",
        "\n",
        "for epoch in range(epochs):\n",
        "  epoch_loss = 0\n",
        "\n",
        "  for inputs, labels in train_loader:\n",
        "\n",
        "    optimizer.zero_grad()\n",
        "\n",
        "    outputs = model(inputs)\n",
        "    loss = loss_function(outputs, labels)\n",
        "\n",
        "    epoch_loss += loss.item()\n",
        "\n",
        "    #TODO: perform the backward pass\n",
        "\n",
        "    loss.backward()\n",
        "    optimizer.step()\n",
        "\n",
        "  average_loss = epoch_loss / len(train_loader)\n",
        "  loss_values.append(average_loss)\n",
        "\n",
        "  #we will print the loss so we can see how it progresses\n",
        "  print(f'Epoch: {epoch}/{epochs},\\nLoss: {loss.item()}')\n",
        "\n"
      ]
    },
    {
      "cell_type": "code",
      "execution_count": null,
      "metadata": {
        "id": "ZrSE_8ycZhpF",
        "colab": {
          "base_uri": "https://localhost:8080/",
          "height": 472
        },
        "outputId": "2747e115-7ed2-4940-f747-f6f0be509d67"
      },
      "outputs": [
        {
          "output_type": "display_data",
          "data": {
            "text/plain": [
              "<Figure size 640x480 with 1 Axes>"
            ],
            "image/png": "[encoded data removed]"
          },
          "metadata": {}
        }
      ],
      "source": [
        "#visualise the loss - you can reuse your code from task 1\n",
        "import matplotlib.pyplot as plt\n",
        "\n",
        "plt.plot(range(epochs), loss_values, label=\"Training Loss\")\n",
        "\n",
        "plt.xlabel(\"Epochs\")\n",
        "plt.ylabel(\"Loss\")\n",
        "plt.title(\"Training Loss per Epoch\")\n",
        "\n",
        "plt.legend()\n",
        "plt.show()"
      ]
    },
    {
      "cell_type": "markdown",
      "metadata": {
        "id": "RHWpqfMOZldE"
      },
      "source": [
        "TODO: answer the following questions.\n",
        "\n",
        "- Observe the loss values for all 3 optimizers (including the one in task 1). What trends do you observe?\n",
        "    - There are times where the loss gets worse and times where it gets better. The loss values are not consistent and vary a lot. But in general, the loss is decreasing over time.\n",
        "\n",
        "- How does changing the batch size impact the training process? What is the trade-off between using a smaller batch size versus a larger one in terms of training time and model performance?\n",
        "    - In my opinion, the larger the batch size the \"linear\" the graph\n",
        "    -"
      ]
    },
    {
      "cell_type": "markdown",
      "metadata": {
        "id": "VkZ-5XNt06E0"
      },
      "source": [
        "## Task 2.2. Adjusting the Learning Rate"
      ]
    },
    {
      "cell_type": "markdown",
      "metadata": {
        "id": "3wsRN4rZgqGB"
      },
      "source": [
        "In this part of the task you will experiment with the learning rate."
      ]
    },
    {
      "cell_type": "markdown",
      "metadata": {
        "id": "lHoC3C7pntBa"
      },
      "source": [
        "Finish the training function below. It collects and returns loss values for a given learning rate."
      ]
    },
    {
      "cell_type": "code",
      "execution_count": null,
      "metadata": {
        "id": "iW6WqsQvR9t2",
        "colab": {
          "base_uri": "https://localhost:8080/"
        },
        "outputId": "d42f7c4c-3d0b-49eb-e98c-e604f8698bb1"
      },
      "outputs": [
        {
          "output_type": "execute_result",
          "data": {
            "text/plain": [
              "{0.01: [1.0443763807415962,\n",
              "  1.0140580981969833,\n",
              "  1.0020607933402061,\n",
              "  0.982064425945282,\n",
              "  0.9614473432302475,\n",
              "  0.9413332492113113,\n",
              "  0.9080088958144188,\n",
              "  0.8993261903524399,\n",
              "  0.8757209181785583,\n",
              "  0.8645834401249886,\n",
              "  0.8416028246283531,\n",
              "  0.824836865067482,\n",
              "  0.8206149190664291,\n",
              "  0.814876526594162,\n",
              "  0.7942548096179962,\n",
              "  0.7675596624612808,\n",
              "  0.7468973025679588,\n",
              "  0.738715186715126,\n",
              "  0.732689768075943,\n",
              "  0.7208580076694489,\n",
              "  0.7135039865970612,\n",
              "  0.6805671527981758,\n",
              "  0.6819596514105797,\n",
              "  0.6699745059013367,\n",
              "  0.652934867888689,\n",
              "  0.6500366777181625,\n",
              "  0.6404665932059288,\n",
              "  0.6196310482919216,\n",
              "  0.610417865216732,\n",
              "  0.6105613857507706,\n",
              "  0.6017991080880165,\n",
              "  0.5709689781069756,\n",
              "  0.5783854499459267,\n",
              "  0.583309892565012,\n",
              "  0.5616936050355434,\n",
              "  0.5452751442790031,\n",
              "  0.5419803410768509,\n",
              "  0.5265189930796623,\n",
              "  0.5322357825934887,\n",
              "  0.5307054780423641,\n",
              "  0.522824652493,\n",
              "  0.5203141644597054,\n",
              "  0.5039902627468109,\n",
              "  0.5053657367825508,\n",
              "  0.5105062499642372,\n",
              "  0.491165466606617,\n",
              "  0.4805660881102085,\n",
              "  0.4721207730472088,\n",
              "  0.46668554842472076,\n",
              "  0.4782707691192627],\n",
              " 0.1: [0.9682121202349663,\n",
              "  0.7844032794237137,\n",
              "  0.6543280333280563,\n",
              "  0.5628118701279163,\n",
              "  0.516249056905508,\n",
              "  0.4541928507387638,\n",
              "  0.40539100393652916,\n",
              "  0.3866441436111927,\n",
              "  0.34876206889748573,\n",
              "  0.3387808632105589,\n",
              "  0.3243757635354996,\n",
              "  0.3032145816832781,\n",
              "  0.28975790925323963,\n",
              "  0.27518630400300026,\n",
              "  0.2628345899283886,\n",
              "  0.24645007215440273,\n",
              "  0.2306444002315402,\n",
              "  0.23102309182286263,\n",
              "  0.21441029105335474,\n",
              "  0.21156911179423332,\n",
              "  0.196834284812212,\n",
              "  0.18788564298301935,\n",
              "  0.18120192363858223,\n",
              "  0.1854741033166647,\n",
              "  0.17793847806751728,\n",
              "  0.15735821519047022,\n",
              "  0.16553674079477787,\n",
              "  0.14400405902415514,\n",
              "  0.1414265250787139,\n",
              "  0.1454543899744749,\n",
              "  0.13619202421978116,\n",
              "  0.12403867265675217,\n",
              "  0.125829572789371,\n",
              "  0.1251851925626397,\n",
              "  0.11911856988444924,\n",
              "  0.11727059446275234,\n",
              "  0.11266968981362879,\n",
              "  0.11212791316211224,\n",
              "  0.10652307095006108,\n",
              "  0.11266820225864649,\n",
              "  0.10392196290194988,\n",
              "  0.10274353390559554,\n",
              "  0.09874131251126528,\n",
              "  0.10280551668256521,\n",
              "  0.105299191782251,\n",
              "  0.09054134599864483,\n",
              "  0.09749500546604395,\n",
              "  0.09202133631333709,\n",
              "  0.08942233864217997,\n",
              "  0.09907372249290347],\n",
              " 0.5: [0.7530600130558014,\n",
              "  0.4273655489087105,\n",
              "  0.3692459799349308,\n",
              "  0.24854340218007565,\n",
              "  0.21847805846482515,\n",
              "  0.17817543353885412,\n",
              "  0.13138173427432775,\n",
              "  0.1440271190367639,\n",
              "  0.1162206691224128,\n",
              "  0.10443321545608342,\n",
              "  0.10270968452095985,\n",
              "  0.15260958764702082,\n",
              "  0.098287935834378,\n",
              "  0.08187627361621708,\n",
              "  0.08264647878240794,\n",
              "  0.0930202784948051,\n",
              "  0.07477467437274754,\n",
              "  0.0755198101978749,\n",
              "  0.09798530663829297,\n",
              "  0.10554548900108784,\n",
              "  0.07204588665626943,\n",
              "  0.07439953018911183,\n",
              "  0.07037421152926981,\n",
              "  0.08034928212873638,\n",
              "  0.0898385199252516,\n",
              "  0.06726399250328541,\n",
              "  0.07074945914791897,\n",
              "  0.12617249065078795,\n",
              "  0.07238019991200417,\n",
              "  0.10152503766585141,\n",
              "  0.06016436289064586,\n",
              "  0.06432677336852066,\n",
              "  0.08391857770038769,\n",
              "  0.06608558731386438,\n",
              "  0.06758861907292157,\n",
              "  0.05888060532743111,\n",
              "  0.07288134517148137,\n",
              "  0.08507587213534862,\n",
              "  0.07990161230554804,\n",
              "  0.07960389566142112,\n",
              "  0.08315323939314112,\n",
              "  0.06320452783256769,\n",
              "  0.06779314484447241,\n",
              "  0.08899885561550036,\n",
              "  0.08349668933078647,\n",
              "  0.04984486408648081,\n",
              "  0.06938752433052287,\n",
              "  0.0846228722948581,\n",
              "  0.0762431854964234,\n",
              "  0.06817575549939647],\n",
              " 1.0: [0.6821860671043396,\n",
              "  0.4464310370385647,\n",
              "  0.32522872649133205,\n",
              "  0.16826494690030813,\n",
              "  0.1577095752581954,\n",
              "  0.1329464241862297,\n",
              "  0.09456976503133774,\n",
              "  0.14067124295979738,\n",
              "  0.11362433934118599,\n",
              "  0.08534927375148982,\n",
              "  0.09097736957482994,\n",
              "  0.2020245986059308,\n",
              "  0.09361648606136441,\n",
              "  0.07017650245688856,\n",
              "  0.08033268852159381,\n",
              "  0.08905889256857336,\n",
              "  0.06592475564684719,\n",
              "  0.07440318237058818,\n",
              "  0.13477897242410108,\n",
              "  0.10564657463692129,\n",
              "  0.06687218230217695,\n",
              "  0.07040755316847935,\n",
              "  0.06507815117947757,\n",
              "  0.08111638520495035,\n",
              "  0.07674233888974413,\n",
              "  0.07795423117931932,\n",
              "  0.07300018396927044,\n",
              "  0.22613361600087956,\n",
              "  0.07587953202892095,\n",
              "  0.1129625195171684,\n",
              "  0.05599893140606582,\n",
              "  0.0624793278548168,\n",
              "  0.08073817158583552,\n",
              "  0.061759148607961833,\n",
              "  0.06487717607524246,\n",
              "  0.05742181758978404,\n",
              "  0.07551058888202533,\n",
              "  0.09748849173774943,\n",
              "  0.09002557734493166,\n",
              "  0.07804233802016824,\n",
              "  0.08274994895327836,\n",
              "  0.06241896969731897,\n",
              "  0.06558779266197234,\n",
              "  0.08378753741271794,\n",
              "  0.07721345184836537,\n",
              "  0.047234057914465666,\n",
              "  0.06487728198408149,\n",
              "  0.07597944256849587,\n",
              "  0.06741008389508352,\n",
              "  0.0602405532845296],\n",
              " 0.04: [1.0174264162778854,\n",
              "  0.9276301935315132,\n",
              "  0.8636102974414825,\n",
              "  0.7986513003706932,\n",
              "  0.7499142810702324,\n",
              "  0.6894304901361465,\n",
              "  0.629606731235981,\n",
              "  0.6031077951192856,\n",
              "  0.555684220045805,\n",
              "  0.5362693108618259,\n",
              "  0.5154429227113724,\n",
              "  0.4843604043126106,\n",
              "  0.47458135336637497,\n",
              "  0.4590710364282131,\n",
              "  0.44268886372447014,\n",
              "  0.41740985214710236,\n",
              "  0.40105242654681206,\n",
              "  0.3972000852227211,\n",
              "  0.3845303803682327,\n",
              "  0.38352836295962334,\n",
              "  0.3681899979710579,\n",
              "  0.35497337579727173,\n",
              "  0.34521374106407166,\n",
              "  0.34691305086016655,\n",
              "  0.3392377868294716,\n",
              "  0.32243266329169273,\n",
              "  0.32397432811558247,\n",
              "  0.3007296398282051,\n",
              "  0.2986776549369097,\n",
              "  0.29632723331451416,\n",
              "  0.2942275255918503,\n",
              "  0.2690443969331682,\n",
              "  0.2754033301025629,\n",
              "  0.28178306110203266,\n",
              "  0.2647853083908558,\n",
              "  0.25872209668159485,\n",
              "  0.25440988410264254,\n",
              "  0.2486829049885273,\n",
              "  0.24385241977870464,\n",
              "  0.2494207490235567,\n",
              "  0.23381406255066395,\n",
              "  0.236894303932786,\n",
              "  0.2224130630493164,\n",
              "  0.22826950252056122,\n",
              "  0.230664175003767,\n",
              "  0.21306303702294827,\n",
              "  0.21064405515789986,\n",
              "  0.2026097271591425,\n",
              "  0.20110500790178776,\n",
              "  0.21212703920900822],\n",
              " 0.3: [0.8403325974941254,\n",
              "  0.5189873017370701,\n",
              "  0.4099382534623146,\n",
              "  0.3316298872232437,\n",
              "  0.30170085467398167,\n",
              "  0.25480945967137814,\n",
              "  0.20422315783798695,\n",
              "  0.1962270401418209,\n",
              "  0.16106170555576682,\n",
              "  0.15272000851109624,\n",
              "  0.14097694773226976,\n",
              "  0.150333845987916,\n",
              "  0.12074671126902103,\n",
              "  0.10883179726079106,\n",
              "  0.10371233150362968,\n",
              "  0.1041855183430016,\n",
              "  0.09210619749501348,\n",
              "  0.09158847574144602,\n",
              "  0.09483983321115375,\n",
              "  0.09927133726887405,\n",
              "  0.08047423977404833,\n",
              "  0.08223519520834088,\n",
              "  0.07958026463165879,\n",
              "  0.08688692084979266,\n",
              "  0.09337353811133653,\n",
              "  0.06911923107691109,\n",
              "  0.07977050892077386,\n",
              "  0.08730150980409235,\n",
              "  0.07354659494012594,\n",
              "  0.09588181180879474,\n",
              "  0.06443169363774359,\n",
              "  0.06581060064490885,\n",
              "  0.07736838777782395,\n",
              "  0.06635351420845836,\n",
              "  0.06745851098094136,\n",
              "  0.06395055900793523,\n",
              "  0.0678715561516583,\n",
              "  0.07323260535486042,\n",
              "  0.06740131275728345,\n",
              "  0.07433308113832027,\n",
              "  0.07317356066778302,\n",
              "  0.062042056932114065,\n",
              "  0.0676092547364533,\n",
              "  0.07844512787414715,\n",
              "  0.07647850143257529,\n",
              "  0.0533000435680151,\n",
              "  0.07123946794308722,\n",
              "  0.07466053415555507,\n",
              "  0.06670191255398095,\n",
              "  0.06774065172066912],\n",
              " 0.8: [0.6910520046949387,\n",
              "  0.4178070481866598,\n",
              "  0.35712768137454987,\n",
              "  0.1892186040058732,\n",
              "  0.16847952920943499,\n",
              "  0.1402751887217164,\n",
              "  0.10110588790848851,\n",
              "  0.14009082759730518,\n",
              "  0.11105138150742278,\n",
              "  0.08900287165306509,\n",
              "  0.09142948361113667,\n",
              "  0.18566333572380245,\n",
              "  0.09456200012937188,\n",
              "  0.07177113264333457,\n",
              "  0.08426458603935316,\n",
              "  0.09101786138489842,\n",
              "  0.06934040202759206,\n",
              "  0.0757565206149593,\n",
              "  0.12484777480131015,\n",
              "  0.10993623069953173,\n",
              "  0.06864912051241845,\n",
              "  0.07474533491767943,\n",
              "  0.06606676563387737,\n",
              "  0.08218685368774459,\n",
              "  0.08230403426568955,\n",
              "  0.07857136696111411,\n",
              "  0.07174558081896976,\n",
              "  0.21177842316683382,\n",
              "  0.07298357470426708,\n",
              "  0.10626999451778829,\n",
              "  0.05200396335567348,\n",
              "  0.06398825571523048,\n",
              "  0.08555762938340195,\n",
              "  0.06364754011156037,\n",
              "  0.06287151359720156,\n",
              "  0.0565536072535906,\n",
              "  0.0718153323396109,\n",
              "  0.10015825612936169,\n",
              "  0.09793763712514192,\n",
              "  0.07552476559067145,\n",
              "  0.08570468210382387,\n",
              "  0.05956653843168169,\n",
              "  0.0666469536954537,\n",
              "  0.09065739810466766,\n",
              "  0.07713535020593554,\n",
              "  0.04553472393308766,\n",
              "  0.06529519753530622,\n",
              "  0.08781452500261366,\n",
              "  0.07418794539989904,\n",
              "  0.06306429303367622],\n",
              " 0.45: [0.7725887149572372,\n",
              "  0.441360529512167,\n",
              "  0.37049461528658867,\n",
              "  0.2631905321031809,\n",
              "  0.23213964980095625,\n",
              "  0.19130477029830217,\n",
              "  0.1429993463680148,\n",
              "  0.15030524134635925,\n",
              "  0.12159169279038906,\n",
              "  0.11144914641045034,\n",
              "  0.10720813646912575,\n",
              "  0.1453117923811078,\n",
              "  0.09977772599086165,\n",
              "  0.08554642321541905,\n",
              "  0.08398823207244277,\n",
              "  0.09258060459978878,\n",
              "  0.07648420799523592,\n",
              "  0.07739894860424101,\n",
              "  0.09479796246159822,\n",
              "  0.100720428628847,\n",
              "  0.07248551934026182,\n",
              "  0.07549460709560663,\n",
              "  0.07041729730553925,\n",
              "  0.08023150847293437,\n",
              "  0.08987691020593047,\n",
              "  0.06549007387366146,\n",
              "  0.0717076794244349,\n",
              "  0.11031921941321343,\n",
              "  0.07147794298361987,\n",
              "  0.09929834050126374,\n",
              "  0.0584718371683266,\n",
              "  0.06384218616585713,\n",
              "  0.0810328887309879,\n",
              "  0.0650337251718156,\n",
              "  0.06669482181314379,\n",
              "  0.058623879216611385,\n",
              "  0.07003999303560704,\n",
              "  0.08132807147921994,\n",
              "  0.07595704516279511,\n",
              "  0.07810132543090731,\n",
              "  0.07999791548354551,\n",
              "  0.06161442073062062,\n",
              "  0.06754742638440803,\n",
              "  0.0846176648628898,\n",
              "  0.08002685883548111,\n",
              "  0.0494256345264148,\n",
              "  0.06975848122965544,\n",
              "  0.08195185207296163,\n",
              "  0.0740443030372262,\n",
              "  0.06696249288506806],\n",
              " 0.425: [0.7816271409392357,\n",
              "  0.45090390369296074,\n",
              "  0.3742943527176976,\n",
              "  0.273033207282424,\n",
              "  0.24208852462470531,\n",
              "  0.19989275373518467,\n",
              "  0.15093263611197472,\n",
              "  0.15557096432894468,\n",
              "  0.12565356586128473,\n",
              "  0.11621808167546988,\n",
              "  0.11086635198444128,\n",
              "  0.14388930331915617,\n",
              "  0.10132164368405938,\n",
              "  0.08782466710545123,\n",
              "  0.08660481916740537,\n",
              "  0.0925024077296257,\n",
              "  0.07797656510956585,\n",
              "  0.0785718688275665,\n",
              "  0.09414759126957506,\n",
              "  0.10187071235850453,\n",
              "  0.0730612447950989,\n",
              "  0.07679247367195785,\n",
              "  0.07233296264894307,\n",
              "  0.08110515121370554,\n",
              "  0.08986277296207845,\n",
              "  0.06593450671061873,\n",
              "  0.07357276394031942,\n",
              "  0.10721200273837894,\n",
              "  0.07276902545709163,\n",
              "  0.10048812523018569,\n",
              "  0.059536951885093004,\n",
              "  0.06449649097339716,\n",
              "  0.0828093335730955,\n",
              "  0.06652679375838488,\n",
              "  0.06754475587513298,\n",
              "  0.05989441048586741,\n",
              "  0.0704121824237518,\n",
              "  0.08004494314081967,\n",
              "  0.0749920921807643,\n",
              "  0.0792149951448664,\n",
              "  0.08203191647771746,\n",
              "  0.06290578015614301,\n",
              "  0.06867747445357963,\n",
              "  0.08756958285812289,\n",
              "  0.08188302017515525,\n",
              "  0.05083099004696123,\n",
              "  0.07062778563704342,\n",
              "  0.08304430590942502,\n",
              "  0.07450569182401523,\n",
              "  0.06801913469098508]}"
            ]
          },
          "metadata": {},
          "execution_count": 17
        }
      ],
      "source": [
        "def train_model(learning_rate):\n",
        "\n",
        "    torch.manual_seed(42)\n",
        "    model = Iris()\n",
        "    loss_function = nn.CrossEntropyLoss()\n",
        "    optimizer = optim.SGD(model.parameters(), lr=learning_rate)\n",
        "\n",
        "    train_dataset = TensorDataset(X_train_tensor, y_train_tensor)\n",
        "    train_loader = DataLoader(train_dataset, batch_size=16, shuffle=True)\n",
        "\n",
        "    epochs = 50\n",
        "    loss_values = []\n",
        "\n",
        "    for epoch in range(epochs):\n",
        "        epoch_loss = 0\n",
        "        for inputs, labels in train_loader:\n",
        "\n",
        "            #TODO: perform the forward pass\n",
        "            outputs = model(inputs)\n",
        "            #TODO: compute loss\n",
        "            loss = loss_function(outputs, labels)\n",
        "            epoch_loss += loss.item()\n",
        "            #TODO: perform the backward pass\n",
        "            optimizer.zero_grad()\n",
        "            loss.backward()\n",
        "            optimizer.step()\n",
        "\n",
        "\n",
        "        average_loss = epoch_loss / len(train_loader)\n",
        "        loss_values.append(average_loss)\n",
        "\n",
        "    return loss_values\n",
        "\n",
        "#TODO: collect and observe loss values with different learning rates. Make sure you have data for high and low learning rates!\n",
        "learning_rates = [0.01, 0.1, 0.5, 1.0, 0.04, 0.3, 0.8, 0.45, 0.425]\n",
        "loss_history = {}\n",
        "\n",
        "for lr in learning_rates:\n",
        "    loss_history[lr] = train_model(lr)\n",
        "\n",
        "loss_history"
      ]
    },
    {
      "cell_type": "markdown",
      "metadata": {
        "id": "foaUOCMvq0ZC"
      },
      "source": [
        "TODO: plot the loss per epoch for different learning rates:\n",
        "\n",
        "- create a single plot figure;\n",
        "\n",
        "- for each learning rate, plot the loss values against the epochs;\n",
        "\n",
        "- make sure that each learning rate is represented by a distinct line: use different colours or markers to differentiate between them."
      ]
    },
    {
      "cell_type": "code",
      "execution_count": null,
      "metadata": {
        "id": "XdHN0FCSrNJU",
        "colab": {
          "base_uri": "https://localhost:8080/",
          "height": 718
        },
        "outputId": "d75f8032-c876-453e-bc7d-0b3c0629ea7c"
      },
      "outputs": [
        {
          "output_type": "display_data",
          "data": {
            "text/plain": [
              "<Figure size 1200x800 with 1 Axes>"
            ],
            "image/png": "[encoded data removed]"
          },
          "metadata": {}
        }
      ],
      "source": [
        "#TODO: code to visualize the losses\n",
        "plt.figure(figsize=(12, 8))\n",
        "\n",
        "for lr, loss_values in loss_history.items():\n",
        "    plt.plot(loss_values, label=f'LR: {lr}')\n",
        "\n",
        "plt.xlabel('Epochs')\n",
        "plt.ylabel('Loss')\n",
        "plt.title('Loss over Epochs for Different Learning Rates')\n",
        "plt.legend()\n",
        "plt.grid(True)\n",
        "plt.show()"
      ]
    },
    {
      "cell_type": "markdown",
      "metadata": {
        "id": "kA4QlT9QrSEg"
      },
      "source": [
        "TODO: answer the question\n",
        "\n",
        "- Observe the plot. What trends do you notice? What differences do you notice? Can you explain them?\n",
        "    - We can observe that higher learning rates lead to faster initial loss reduction, but they also cause more fluctuation, possibly due to overshooting optimal values. Lower learning rates show a slower, more stable decrease in loss but require more epochs to converge. --> higher learning rates converge quickly but risk instability, while lower rates provide steadier, more controlled convergence.\n"
      ]
    },
    {
      "cell_type": "markdown",
      "metadata": {
        "id": "FlAvB6w71CPE"
      },
      "source": [
        "## Task 2.3. Adjusting Dropout"
      ]
    },
    {
      "cell_type": "markdown",
      "metadata": {
        "id": "krMoRPTuopYy"
      },
      "source": [
        "Three tasks:\n",
        "1. Finish the code block \"Model with dropout\"\n",
        "2. Change the drop out rate, observe the patterns, and answer what is going on in the graph."
      ]
    },
    {
      "cell_type": "code",
      "execution_count": null,
      "metadata": {
        "id": "f3__NlPEmdSq"
      },
      "outputs": [],
      "source": [
        "import torch\n",
        "import torch.nn as nn\n",
        "import torch.optim as optim\n",
        "import numpy as np\n",
        "from sklearn.model_selection import train_test_split\n",
        "import matplotlib.pyplot as plt"
      ]
    },
    {
      "cell_type": "code",
      "execution_count": null,
      "metadata": {
        "id": "-w0i4F5uUWHE"
      },
      "outputs": [],
      "source": [
        "# nothing to change here\n",
        "torch.manual_seed(42)\n",
        "np.random.seed(42)\n",
        "\n",
        "def create_noisy_dataset(n_samples=1000):\n",
        "    X = np.random.randn(n_samples, 50)  # 100 noisy features\n",
        "    # true pattern: only first five features\n",
        "    y = (2 * X[:, 0] + X[:, 1] - 1.5 * X[:, 2] + 0.5 * X[:, 3] - X[:, 4] > 0).astype(int)\n",
        "    # add noise to labels (15% random flip in this binary classification task)\n",
        "    noise_mask = np.random.random(n_samples) < 0.15\n",
        "    y[noise_mask] = 1 - y[noise_mask]\n",
        "    return torch.FloatTensor(X), torch.LongTensor(y)\n",
        "\n",
        "# create dataset\n",
        "X, y = create_noisy_dataset(2000)  # 2000 samples\n",
        "X_train, X_test, y_train, y_test = train_test_split(X, y, test_size=0.2)"
      ]
    },
    {
      "cell_type": "code",
      "execution_count": null,
      "metadata": {
        "id": "JLBJwPftm-ay"
      },
      "outputs": [],
      "source": [
        "# add dropout layers here\n",
        "\n",
        "# Model with dropout\n",
        "# read this: https://pytorch.org/docs/stable/generated/torch.nn.Dropout.html\n",
        "class ModelWithDropout(nn.Module):\n",
        "    def __init__(self, dropout_rate=0.5):\n",
        "        super(ModelWithDropout, self).__init__()\n",
        "        self.fc1 = nn.Linear(50, 128)\n",
        "        self.dropout1 = nn.Dropout() ## TOOO\n",
        "        self.fc2 = nn.Linear(128, 128)\n",
        "        self.dropout2 = nn.Dropout() ## TOOO\n",
        "        self.fc3 = nn.Linear(128, 64)\n",
        "        self.dropout3 = nn.Dropout() ## TOOO\n",
        "        self.fc4 = nn.Linear(64, 2)\n",
        "\n",
        "    def forward(self, x):\n",
        "        x = torch.relu(self.fc1(x))\n",
        "        x = self.dropout1(x)\n",
        "        x = torch.relu(self.fc2(x))\n",
        "        x = self.dropout2(x)\n",
        "        x = torch.relu(self.fc3(x))\n",
        "        x = self.dropout3(x)\n",
        "        return self.fc4(x)"
      ]
    },
    {
      "cell_type": "code",
      "execution_count": null,
      "metadata": {
        "id": "G_sYnLQfnJNa"
      },
      "outputs": [],
      "source": [
        "# Model without dropout\n",
        "class ModelWithoutDropout(nn.Module):\n",
        "    def __init__(self):\n",
        "        super(ModelWithoutDropout, self).__init__()\n",
        "        self.fc1 = nn.Linear(50, 128)\n",
        "        self.fc2 = nn.Linear(128, 128)\n",
        "        self.fc3 = nn.Linear(128, 64)\n",
        "        self.fc4 = nn.Linear(64, 2)\n",
        "\n",
        "    def forward(self, x):\n",
        "        x = torch.relu(self.fc1(x))\n",
        "        x = torch.relu(self.fc2(x))\n",
        "        x = torch.relu(self.fc3(x))\n",
        "        return self.fc4(x)"
      ]
    },
    {
      "cell_type": "code",
      "execution_count": null,
      "metadata": {
        "id": "aTvNkHyMnCy6"
      },
      "outputs": [],
      "source": [
        "# nothing to change here\n",
        "def train_and_evaluate(model, X_train, y_train, X_test, y_test, epochs=200):\n",
        "    optimizer = optim.Adam(model.parameters(), lr=0.001)\n",
        "    criterion = nn.CrossEntropyLoss()\n",
        "\n",
        "    train_accs = []\n",
        "    test_accs = []\n",
        "\n",
        "    for epoch in range(epochs):\n",
        "        # training\n",
        "        model.train()\n",
        "        optimizer.zero_grad()\n",
        "        outputs = model(X_train)\n",
        "        loss = criterion(outputs, y_train)\n",
        "        loss.backward()\n",
        "        optimizer.step()\n",
        "\n",
        "        # evaluation\n",
        "        model.eval()\n",
        "        with torch.no_grad():\n",
        "            # train accuracy\n",
        "            train_preds = torch.argmax(model(X_train), dim=1)\n",
        "            train_acc = (train_preds == y_train).float().mean().item()\n",
        "\n",
        "            # test accuracy\n",
        "            test_preds = torch.argmax(model(X_test), dim=1)\n",
        "            test_acc = (test_preds == y_test).float().mean().item()\n",
        "\n",
        "            # collect the accuracies for plotting\n",
        "            train_accs.append(train_acc)\n",
        "            test_accs.append(test_acc)\n",
        "\n",
        "        if (epoch + 1) % 20 == 0:\n",
        "            print(f'Epoch {epoch+1}, Train Acc: {train_acc:.4f}, Test Acc: {test_acc:.4f}')\n",
        "\n",
        "    return train_accs, test_accs"
      ]
    },
    {
      "cell_type": "code",
      "execution_count": null,
      "metadata": {
        "id": "hbMmAF35pq8c"
      },
      "outputs": [],
      "source": [
        "# nothing to change in this block\n",
        "def plot_training_results(train_acc_dropout, test_acc_dropout, train_acc_no_dropout, test_acc_no_dropout, dropout_rate):\n",
        "    plt.figure(figsize=(12, 6))\n",
        "\n",
        "    # plot model with dropout\n",
        "    plt.subplot(1, 2, 1)\n",
        "    plt.plot(train_acc_dropout, 'b-', label='Train (with dropout)', alpha=0.7)\n",
        "    plt.plot(test_acc_dropout, 'r-', label='Test (with dropout)', alpha=0.7)\n",
        "    plt.title(f'Model with Dropout (rate={dropout_rate})')\n",
        "    plt.xlabel('Epoch')\n",
        "    plt.ylabel('Accuracy')\n",
        "    plt.legend()\n",
        "    plt.grid(True)\n",
        "    plt.ylim(0.4, 1.0)\n",
        "\n",
        "    # plot model without dropout\n",
        "    plt.subplot(1, 2, 2)\n",
        "    plt.plot(train_acc_no_dropout, 'b-', label='Train (no dropout)', alpha=0.7)\n",
        "    plt.plot(test_acc_no_dropout, 'r-', label='Test (no dropout)', alpha=0.7)\n",
        "    plt.title('Model without Dropout')\n",
        "    plt.xlabel('Epoch')\n",
        "    plt.ylabel('Accuracy')\n",
        "    plt.legend()\n",
        "    plt.grid(True)\n",
        "    plt.ylim(0.4, 1.0)\n",
        "\n",
        "    plt.tight_layout()\n",
        "    plt.show()"
      ]
    },
    {
      "cell_type": "code",
      "execution_count": null,
      "metadata": {
        "id": "YcctDcELqYw7",
        "colab": {
          "base_uri": "https://localhost:8080/",
          "height": 1000
        },
        "outputId": "27779122-c6b4-445e-e5d1-adee950580ec"
      },
      "outputs": [
        {
          "output_type": "stream",
          "name": "stdout",
          "text": [
            "Training model with dropout...\n",
            "Epoch 20, Train Acc: 0.7462, Test Acc: 0.6700\n",
            "Epoch 40, Train Acc: 0.7969, Test Acc: 0.7200\n",
            "Epoch 60, Train Acc: 0.8400, Test Acc: 0.7575\n",
            "Epoch 80, Train Acc: 0.8606, Test Acc: 0.7650\n",
            "Epoch 100, Train Acc: 0.8813, Test Acc: 0.7700\n",
            "Epoch 120, Train Acc: 0.8956, Test Acc: 0.7675\n",
            "Epoch 140, Train Acc: 0.9212, Test Acc: 0.7650\n",
            "Epoch 160, Train Acc: 0.9269, Test Acc: 0.7625\n",
            "Epoch 180, Train Acc: 0.9425, Test Acc: 0.7650\n",
            "Epoch 200, Train Acc: 0.9506, Test Acc: 0.7625\n",
            "\n",
            "Training model without dropout...\n",
            "Epoch 20, Train Acc: 0.7987, Test Acc: 0.6975\n",
            "Epoch 40, Train Acc: 0.9000, Test Acc: 0.7325\n",
            "Epoch 60, Train Acc: 0.9806, Test Acc: 0.6825\n",
            "Epoch 80, Train Acc: 0.9981, Test Acc: 0.6675\n",
            "Epoch 100, Train Acc: 1.0000, Test Acc: 0.6750\n",
            "Epoch 120, Train Acc: 1.0000, Test Acc: 0.6700\n",
            "Epoch 140, Train Acc: 1.0000, Test Acc: 0.6775\n",
            "Epoch 160, Train Acc: 1.0000, Test Acc: 0.6800\n",
            "Epoch 180, Train Acc: 1.0000, Test Acc: 0.6800\n",
            "Epoch 200, Train Acc: 1.0000, Test Acc: 0.6800\n"
          ]
        },
        {
          "output_type": "display_data",
          "data": {
            "text/plain": [
              "<Figure size 1200x600 with 2 Axes>"
            ],
            "image/png": "[encoded data removed]"
          },
          "metadata": {}
        }
      ],
      "source": [
        "# you can play around with this dropout rate\n",
        "my_dropout_rate = 0.5\n",
        "\n",
        "# nothing to change below\n",
        "print(\"Training model with dropout...\")\n",
        "model_with_dropout = ModelWithDropout(dropout_rate=my_dropout_rate)\n",
        "train_acc_dropout, test_acc_dropout = train_and_evaluate(\n",
        "    model_with_dropout, X_train, y_train, X_test, y_test\n",
        ")\n",
        "\n",
        "print(\"\\nTraining model without dropout...\")\n",
        "model_without_dropout = ModelWithoutDropout()\n",
        "train_acc_no_dropout, test_acc_no_dropout = train_and_evaluate(\n",
        "    model_without_dropout, X_train, y_train, X_test, y_test\n",
        ")\n",
        "\n",
        "plot_training_results(\n",
        "   train_acc_dropout,\n",
        "   test_acc_dropout,\n",
        "   train_acc_no_dropout,\n",
        "   test_acc_no_dropout,\n",
        "   dropout_rate=my_dropout_rate\n",
        ")"
      ]
    },
    {
      "cell_type": "markdown",
      "metadata": {
        "id": "NnYxJ1ITqotO"
      },
      "source": [
        "**TODO:**\n",
        "\n",
        "What do you observe when you set my_dropout_rate to 0.5 in the plot? Explain what happened in both models.\n",
        "\n",
        "When setting the dropout rate to 0.5, the model with dropout (left plot) shows slower training accuracy improvement compared to the model without dropout (right plot), but it achieves more stable and higher test accuracy.\n",
        "\n",
        "The model without dropout overfits, showing high training accuracy but lower and less stable test accuracy."
      ]
    },
    {
      "cell_type": "markdown",
      "metadata": {
        "id": "0HA0mfsSrpke"
      },
      "source": [
        "# Task 3: Huggingface and transformers library\n",
        "\n",
        "Goals:\n",
        "- Test out an interactive inference API on HF 🤗\n",
        "- Import a model from hugging face\n",
        "- define the model and perform a NLP task\n",
        "- experiment with its capabilities and possible biases.\n"
      ]
    },
    {
      "cell_type": "markdown",
      "metadata": {
        "id": "oDDsMT2MysRL"
      },
      "source": [
        "## Task 3.1 Huggingface: inference API\n",
        "\n",
        "Follow the Link to view the model on Huggingface 🤗: https://huggingface.co/cardiffnlp/twitter-xlm-roberta-base-sentiment\n",
        "\n",
        "For more Information about the model and its intended use and performance, check out the corresponding paper: https://arxiv.org/abs/2104.12250\n",
        "\n",
        "\n"
      ]
    },
    {
      "cell_type": "markdown",
      "metadata": {
        "id": "4JxYsa0ilLrp"
      },
      "source": [
        "**TODO: Answer the following Questions:**\n",
        "\n",
        "a) What kind of data was the model trained on, and for which subgroup of languages was sentiment-finetuning performed?\n",
        "\n",
        "Trained on: tweets\n",
        "Finetuned on: 8 languages (Ar, En, Fr, De, Hi, It, Sp, Pt)\n",
        "\n",
        "b) You have the Sentence: **\"My cat had kittens\"** and you want test how the sentiment lable is influenced by including Punctuation **(.,?,!)**. You can use the Inference API on the website to get your outputs. Further more you are also curious what effect **different emojis** at the end of the sentence have on the model output, find 3 interesting examples and note them down as well.\n",
        "  -   My cat had kittens --> Neutral: 0.676\n",
        "  -   My cat had kittens. --> Neutral: 0.693\n",
        "  -   My cat had kittens ♥ --> positive: 0.784\n",
        "  -   My cat had kittens 😍😙😙 --> positive: 0.789\n",
        "  -   My cat had kittens 😰 --> negative: 0.780\n",
        "  -   My cat had kittens 🤖 --> neutral: 0.675\n",
        "  -   My cat had kittens 🥷🏼--> neutral: 0.549\n",
        "\n",
        "\n",
        "Your interpretation:\n",
        "\n",
        "c) Find one or two interesting examples on your own and describe your results and why you thought they were noteworthy (if you choose a language different than english or german, we would appreciate a translation).\n",
        "\n",
        "  - Such a beautiful disaster. --> negative: 0.732\n",
        "      - I tried to use a sentence which might confuse the model and in the case of this sentence it is classified as negative. Depending on the context tho it might be considered to be positive"
      ]
    },
    {
      "cell_type": "markdown",
      "metadata": {
        "id": "-Yuth4WM5Lbs"
      },
      "source": [
        "## Task 3.2 Huggingface: import a model and use it locally.\n",
        "\n",
        "- We now know how to find a model on Huggingface and how to interact with the inference API (if available). But how can we load the model locally and actually work with it? There are 2 main approaches, using the pipeline or loading a model directly. We will have a closer look at both appraoches below."
      ]
    },
    {
      "cell_type": "code",
      "execution_count": null,
      "metadata": {
        "id": "02WKK9sd0FLw",
        "outputId": "33391251-a10e-407b-d371-35a2cd8cf58a",
        "colab": {
          "base_uri": "https://localhost:8080/"
        }
      },
      "outputs": [
        {
          "output_type": "stream",
          "name": "stdout",
          "text": [
            "Requirement already satisfied: transformers in /usr/local/lib/python3.10/dist-packages (4.46.2)\n",
            "Requirement already satisfied: sentencepiece in /usr/local/lib/python3.10/dist-packages (0.2.0)\n",
            "Collecting tiktoken\n",
            "  Downloading tiktoken-0.8.0-cp310-cp310-manylinux_2_17_x86_64.manylinux2014_x86_64.whl.metadata (6.6 kB)\n",
            "Requirement already satisfied: protobuf in /usr/local/lib/python3.10/dist-packages (4.25.5)\n",
            "Requirement already satisfied: filelock in /usr/local/lib/python3.10/dist-packages (from transformers) (3.16.1)\n",
            "Requirement already satisfied: huggingface-hub<1.0,>=0.23.2 in /usr/local/lib/python3.10/dist-packages (from transformers) (0.26.2)\n",
            "Requirement already satisfied: numpy>=1.17 in /usr/local/lib/python3.10/dist-packages (from transformers) (1.26.4)\n",
            "Requirement already satisfied: packaging>=20.0 in /usr/local/lib/python3.10/dist-packages (from transformers) (24.2)\n",
            "Requirement already satisfied: pyyaml>=5.1 in /usr/local/lib/python3.10/dist-packages (from transformers) (6.0.2)\n",
            "Requirement already satisfied: regex!=2019.12.17 in /usr/local/lib/python3.10/dist-packages (from transformers) (2024.9.11)\n",
            "Requirement already satisfied: requests in /usr/local/lib/python3.10/dist-packages (from transformers) (2.32.3)\n",
            "Requirement already satisfied: safetensors>=0.4.1 in /usr/local/lib/python3.10/dist-packages (from transformers) (0.4.5)\n",
            "Requirement already satisfied: tokenizers<0.21,>=0.20 in /usr/local/lib/python3.10/dist-packages (from transformers) (0.20.3)\n",
            "Requirement already satisfied: tqdm>=4.27 in /usr/local/lib/python3.10/dist-packages (from transformers) (4.66.6)\n",
            "Requirement already satisfied: fsspec>=2023.5.0 in /usr/local/lib/python3.10/dist-packages (from huggingface-hub<1.0,>=0.23.2->transformers) (2024.10.0)\n",
            "Requirement already satisfied: typing-extensions>=3.7.4.3 in /usr/local/lib/python3.10/dist-packages (from huggingface-hub<1.0,>=0.23.2->transformers) (4.12.2)\n",
            "Requirement already satisfied: charset-normalizer<4,>=2 in /usr/local/lib/python3.10/dist-packages (from requests->transformers) (3.4.0)\n",
            "Requirement already satisfied: idna<4,>=2.5 in /usr/local/lib/python3.10/dist-packages (from requests->transformers) (3.10)\n",
            "Requirement already satisfied: urllib3<3,>=1.21.1 in /usr/local/lib/python3.10/dist-packages (from requests->transformers) (2.2.3)\n",
            "Requirement already satisfied: certifi>=2017.4.17 in /usr/local/lib/python3.10/dist-packages (from requests->transformers) (2024.8.30)\n",
            "Downloading tiktoken-0.8.0-cp310-cp310-manylinux_2_17_x86_64.manylinux2014_x86_64.whl (1.2 MB)\n",
            "\u001b[2K   \u001b[90m━━━━━━━━━━━━━━━━━━━━━━━━━━━━━━━━━━━━━━━━\u001b[0m \u001b[32m1.2/1.2 MB\u001b[0m \u001b[31m13.9 MB/s\u001b[0m eta \u001b[36m0:00:00\u001b[0m\n",
            "\u001b[?25hInstalling collected packages: tiktoken\n",
            "Successfully installed tiktoken-0.8.0\n"
          ]
        }
      ],
      "source": [
        "# first we need to have all necessary libraries installed\n",
        "!pip3 install transformers sentencepiece tiktoken protobuf"
      ]
    },
    {
      "cell_type": "code",
      "execution_count": null,
      "metadata": {
        "id": "-1PWOc6Ywwlv",
        "colab": {
          "base_uri": "https://localhost:8080/",
          "height": 275,
          "referenced_widgets": [
            "254f2a136605478f874b4a892eb8cf82",
            "e312639203c1413f829b1a91ddbc31cd",
            "62e833c2f6424426a1279eaef0d73fca",
            "616d7666306743c4abd302afd5862fcc",
            "175e306e2e654abfafe6a5de49add286",
            "66f259743d6a4ddea8c5862f1bb7159c",
            "c5ee62bfff444a43a7588eb305ccbf45",
            "0a6d78e3edb645f18b219651d1d39e5c",
            "c1fe188fa88143c1bd67ec1b84f649e3",
            "a43bf696c8844006bbe6f03c233b3120",
            "2884cd01730947b4ac2b4b509dcffba7",
            "1b3e8b843c7047aebe449b763d2a2b0c",
            "b57aecb6bf62442e9c36a4cb835f2751",
            "9e89e21acf4346c7ae970db3aea71211",
            "bc1182bfb9bf4a0cab434697e8f99552",
            "483f3ee7c3df4c40a732099a5562016d",
            "59fa813ebc254e23935fee0058c491bc",
            "b5aad7827b414debaee9e18a82d9f129",
            "d4243647c69342429c9858a0c722d1e7",
            "ae6918d919c44113a99cb7832928d9b9",
            "1eba93cdf65d404091f0ebdad01a8d5c",
            "f15b369d81d64f2bba0d1d900c21e4fb",
            "c75c826914cf499ca0671f927beaf087",
            "703f71f949414a3cbc51b86e6f93c0cd",
            "c499884c79ef4ff3991621a8457902b9",
            "f7adbe5539f24b5eb3d29e3012338d34",
            "3212078cce2c438bbcfe68007509f684",
            "92e396d363f042e8a25a89af88f388d5",
            "dabd8219462b487984bc3ab9758a0359",
            "84a8d96451df4c91bfa566577c92669f",
            "5e72c3bc500d49c68810f7f5037ca57f",
            "4bdd5d1e203c4c1092844f37cb8bb61d",
            "2691eb7765b6407290ab5bea84e0bb59",
            "dc7bf3e9e90d4325a322b2c88f92e725",
            "413055ae545e4c2d92ac1e6789661e01",
            "887f3fcf125f438fab5d69c8d5fc616a",
            "b0047893f3804b29ba3f495253377231",
            "5b3a123636c34cc594fe7d1ab7bc1c9b",
            "9996ce294c844b059452c1400f4f72bc",
            "5068de2c0b434944b21d9bd2fa3abecd",
            "148a82a11849474788ce01fa3dc98c00",
            "5bf0f0eee0944186b1513f2d172e24a5",
            "d624340574d947febb77cef491bcc2be",
            "ff42fd8631a1415cac8af5ecc3d850fb"
          ]
        },
        "outputId": "9e80575c-8d43-49f3-9a9e-bba0e3be1e80"
      },
      "outputs": [
        {
          "output_type": "stream",
          "name": "stderr",
          "text": [
            "/usr/local/lib/python3.10/dist-packages/huggingface_hub/utils/_auth.py:94: UserWarning: \n",
            "The secret `HF_TOKEN` does not exist in your Colab secrets.\n",
            "To authenticate with the Hugging Face Hub, create a token in your settings tab (https://huggingface.co/settings/tokens), set it as secret in your Google Colab and restart your session.\n",
            "You will be able to reuse this secret in all of your notebooks.\n",
            "Please note that authentication is recommended but still optional to access public models or datasets.\n",
            "  warnings.warn(\n"
          ]
        },
        {
          "output_type": "display_data",
          "data": {
            "text/plain": [
              "config.json:   0%|          | 0.00/841 [00:00<?, ?B/s]"
            ],
            "application/vnd.jupyter.widget-view+json": {
              "version_major": 2,
              "version_minor": 0,
              "model_id": "254f2a136605478f874b4a892eb8cf82"
            }
          },
          "metadata": {}
        },
        {
          "output_type": "display_data",
          "data": {
            "text/plain": [
              "pytorch_model.bin:   0%|          | 0.00/1.11G [00:00<?, ?B/s]"
            ],
            "application/vnd.jupyter.widget-view+json": {
              "version_major": 2,
              "version_minor": 0,
              "model_id": "1b3e8b843c7047aebe449b763d2a2b0c"
            }
          },
          "metadata": {}
        },
        {
          "output_type": "display_data",
          "data": {
            "text/plain": [
              "sentencepiece.bpe.model:   0%|          | 0.00/5.07M [00:00<?, ?B/s]"
            ],
            "application/vnd.jupyter.widget-view+json": {
              "version_major": 2,
              "version_minor": 0,
              "model_id": "c75c826914cf499ca0671f927beaf087"
            }
          },
          "metadata": {}
        },
        {
          "output_type": "display_data",
          "data": {
            "text/plain": [
              "special_tokens_map.json:   0%|          | 0.00/150 [00:00<?, ?B/s]"
            ],
            "application/vnd.jupyter.widget-view+json": {
              "version_major": 2,
              "version_minor": 0,
              "model_id": "dc7bf3e9e90d4325a322b2c88f92e725"
            }
          },
          "metadata": {}
        }
      ],
      "source": [
        "from transformers import AutoTokenizer, XLMRobertaForSequenceClassification, pipeline\n",
        "from scipy.special import softmax\n",
        "from transformers import AutoConfig\n",
        "import numpy as np\n",
        "import torch\n",
        "\n",
        "# define model variable with path to the model in Huggingface\n",
        "model_path = \"cardiffnlp/twitter-xlm-roberta-base-sentiment\"\n",
        "\n",
        "# define Model and Tokenizer you want to use\n",
        "model = XLMRobertaForSequenceClassification.from_pretrained(model_path)\n",
        "\n",
        "tokenizer = AutoTokenizer.from_pretrained(model_path)"
      ]
    },
    {
      "cell_type": "markdown",
      "metadata": {
        "id": "9z_MW71Q9BvL"
      },
      "source": [
        "### 3.2.1 Using the Pipeline"
      ]
    },
    {
      "cell_type": "code",
      "execution_count": null,
      "metadata": {
        "id": "Vaa0NkdJ3Yux",
        "colab": {
          "base_uri": "https://localhost:8080/"
        },
        "outputId": "548e068e-e534-47e9-b518-b5b8789a271b"
      },
      "outputs": [
        {
          "output_type": "stream",
          "name": "stdout",
          "text": [
            "[{'label': 'positive', 'score': 0.9343641400337219}]\n"
          ]
        }
      ],
      "source": [
        "# No change is needed for this block\n",
        "# Create the sentiment analysis pipeline with the chosen tokenizer and model\n",
        "sentiment_task = pipeline(\"sentiment-analysis\", model=model, tokenizer=tokenizer)\n",
        "\n",
        "# Analyze sentiment for a given text\n",
        "result = sentiment_task(\"Huggingface es lo mejor! Awesome library 🤗😎\")\n",
        "\n",
        "# Print top label and score\n",
        "print(result)"
      ]
    },
    {
      "cell_type": "markdown",
      "metadata": {
        "id": "7JqFwk84ddAE"
      },
      "source": [
        "**TODO**: What is the advantage of the transformer pipeline?\n",
        "\n",
        "Allows for quick implementation of complex tasks, like sentiment analysis, by handling all necessary preprocessing and model inference steps. This makes it efficient for developers to get high-quality results without needing to configure each component manually."
      ]
    },
    {
      "cell_type": "markdown",
      "metadata": {
        "id": "GXmMjh_R9JJH"
      },
      "source": [
        "### 3.2.2 Apply tokenizer and model step by step\n",
        "\n",
        "Find the hugging face quick tour here: https://huggingface.co/docs/transformers/en/quicktour\n",
        "\n",
        "On the top right corner, there is a colab link - choose pytorch and open it. Or, the link is here: https://colab.research.google.com/github/huggingface/notebooks/blob/main/transformers_doc/en/pytorch/quicktour.ipynb\n",
        "\n",
        "There are also other languages! It is on the top left corner, next to the versions.\n",
        "\n",
        "The videos from Huggingface are also very helpful.\n",
        "\n",
        "If you find the problems below are difficult to solve, check out these resources."
      ]
    },
    {
      "cell_type": "code",
      "execution_count": null,
      "metadata": {
        "id": "roH9ffM91e-c"
      },
      "outputs": [],
      "source": [
        "config = AutoConfig.from_pretrained(model_path)\n",
        "# Tokenize the input str.\n",
        "inputs = tokenizer(\"Huggingface es lo mejor! Awesome library 🤗😎\", return_tensors=\"pt\")"
      ]
    },
    {
      "cell_type": "markdown",
      "metadata": {
        "id": "ZDxB7PZUlZoT"
      },
      "source": [
        "**Fill in six TODO blocks below**"
      ]
    },
    {
      "cell_type": "code",
      "execution_count": null,
      "metadata": {
        "id": "IxcICjP4ex9Q",
        "colab": {
          "base_uri": "https://localhost:8080/"
        },
        "outputId": "fd8b666a-b606-4514-936b-9d02cda687a1"
      },
      "outputs": [
        {
          "output_type": "execute_result",
          "data": {
            "text/plain": [
              "tensor([[     0,   7674,  36659,  40404,    198,    459,   8114,     38, 227865,\n",
              "          35773,   1294,      6, 243544, 161546,      2]])"
            ]
          },
          "metadata": {},
          "execution_count": 30
        }
      ],
      "source": [
        "## TODO_1: print out the input_ids\n",
        "inputs[\"input_ids\"]"
      ]
    },
    {
      "cell_type": "code",
      "execution_count": null,
      "metadata": {
        "id": "iIuhO-2jezyz",
        "colab": {
          "base_uri": "https://localhost:8080/",
          "height": 36
        },
        "outputId": "a421c414-a148-4736-94fa-913b5bc119ed"
      },
      "outputs": [
        {
          "output_type": "execute_result",
          "data": {
            "text/plain": [
              "'Huggingface es lo mejor! Awesome library 🤗😎'"
            ],
            "application/vnd.google.colaboratory.intrinsic+json": {
              "type": "string"
            }
          },
          "metadata": {},
          "execution_count": 31
        }
      ],
      "source": [
        "## TODO_2: convert the input_ids back to text and print out the first result\n",
        "tokenizer.decode(inputs[\"input_ids\"][0], skip_special_tokens=True)"
      ]
    },
    {
      "cell_type": "code",
      "execution_count": null,
      "metadata": {
        "id": "ffB2rZORe1EY"
      },
      "outputs": [],
      "source": [
        "## TODO_3: Tokenize a new word \"Huggingface\" (or any word you like)\n",
        "new = tokenizer(\"Huggingface is great\", return_tensors=\"pt\")\n"
      ]
    },
    {
      "cell_type": "code",
      "execution_count": null,
      "metadata": {
        "id": "TiMpn9VXe-Zl",
        "colab": {
          "base_uri": "https://localhost:8080/"
        },
        "outputId": "555e28d8-8ee7-4f10-e82e-610d45304616"
      },
      "outputs": [
        {
          "output_type": "stream",
          "name": "stdout",
          "text": [
            "tensor([[    0,  7674, 36659, 40404,    83,  6782,     2]])\n",
            "<s> Huggingface is great</s>\n",
            "<s> Huggingface is great</s>\n"
          ]
        }
      ],
      "source": [
        "## TODO_4: What's the input_id \"0\" and \"2\" refering to? Find them using code. --> beggining and end of sentence\n",
        "print(new[\"input_ids\"])\n",
        "print(tokenizer.decode(new[\"input_ids\"][-1], skip_special_tokens = False))\n",
        "print(tokenizer.decode(new[\"input_ids\"][0], skip_special_tokens = False))"
      ]
    },
    {
      "cell_type": "code",
      "execution_count": null,
      "metadata": {
        "id": "UG5OsDR7fCLJ",
        "colab": {
          "base_uri": "https://localhost:8080/"
        },
        "outputId": "275d5af9-380f-4b0d-d51b-a559256af191"
      },
      "outputs": [
        {
          "output_type": "stream",
          "name": "stdout",
          "text": [
            "Raw model output: {'input_ids': tensor([[    0,  7674, 36659, 40404,    83,  6782,     2]]), 'attention_mask': tensor([[1, 1, 1, 1, 1, 1, 1]])}\n",
            "Logits: tensor([[-1.4712, -0.4544,  1.6827]])\n",
            "Probabilities: [[0.03677651 0.10166396 0.8615595 ]]\n",
            "Predicted class: 2\n"
          ]
        }
      ],
      "source": [
        "# TODO_5: perform forward pass, and check the what the output looks like\n",
        "with torch.no_grad():\n",
        "    outputs = model(**new)\n",
        "\n",
        "print(\"Raw model output:\", new)\n",
        "\n",
        "logits = outputs.logits\n",
        "print(\"Logits:\", logits)\n",
        "\n",
        "from scipy.special import softmax\n",
        "\n",
        "probs = softmax(logits.detach().numpy(), axis=-1)\n",
        "print(\"Probabilities:\", probs)\n",
        "\n",
        "predicted_class = logits.argmax(dim=-1).item()\n",
        "print(f\"Predicted class: {predicted_class}\")"
      ]
    },
    {
      "cell_type": "code",
      "execution_count": null,
      "metadata": {
        "id": "4IZAJE8MfxDw",
        "colab": {
          "base_uri": "https://localhost:8080/"
        },
        "outputId": "425aa6c9-a3f1-44f8-b244-9fea410ee352"
      },
      "outputs": [
        {
          "output_type": "stream",
          "name": "stdout",
          "text": [
            "1) positive 0.8616\n",
            "2) neutral 0.1017\n",
            "3) negative 0.0368\n"
          ]
        }
      ],
      "source": [
        "import numpy as np\n",
        "from scipy.special import softmax\n",
        "\n",
        "def show_scores(output):\n",
        "    # Convert output tensor to numpy array\n",
        "    scores = output[0][0].detach().numpy()\n",
        "\n",
        "    # Apply softmax to get probabilities\n",
        "    scores = softmax(scores)\n",
        "\n",
        "    # Sort indices by score in ascending order\n",
        "    ranking = np.argsort(scores)\n",
        "\n",
        "    # Reverse the order to have the highest score first\n",
        "    ranking = ranking[::-1]\n",
        "\n",
        "    # Print each label with its corresponding probability\n",
        "    for i in range(scores.shape[0]):\n",
        "        label = config.id2label[ranking[i]]\n",
        "        probability = scores[ranking[i]]\n",
        "        print(f\"{i+1}) {label} {np.round(float(probability), 4)}\")\n",
        "\n",
        "# Example usage:\n",
        "show_scores(outputs)\n"
      ]
    },
    {
      "cell_type": "markdown",
      "metadata": {
        "id": "TPfObBa9dzE0"
      },
      "source": [
        "**TODO**\n",
        "\n"
      ]
    },
    {
      "cell_type": "markdown",
      "metadata": {
        "id": "nKxj_iv8eCgU"
      },
      "source": [
        "Task 1: finish TODO_1, TODO_2, TODO_3, TODO_4, TODO_5, TODO_6 in the code above"
      ]
    },
    {
      "cell_type": "markdown",
      "metadata": {
        "id": "FS3u9g5aeDTs"
      },
      "source": [
        "Task 2: What is the advantage/disadvantage of this approach (compared to task 3.2.1)?\n",
        "\n",
        "The pipeline approach is simpler and quicker.\n",
        "It requires minimal code but lacks flexibility and transparency, making it harder to customize or debug.\n",
        "\n",
        "The detailed implementation offers more control and transparency, allowing for customization.\n",
        "\n",
        "However, it is more complex, time-consuming, and prone to errors, requiring a deeper understanding.\n"
      ]
    },
    {
      "cell_type": "markdown",
      "metadata": {
        "id": "Riek0K7rGR07"
      },
      "source": [
        "## 3.3 Huggingface: Fill-Mask-Task\n",
        "For different tasks you might want to use different models. In the previous task we looked into SequenceClassification or more specifically \"sentiment analysis\". In this task we look at the \"Fill-Mask\" Task, where a model predicts the masked word. Documentation of ForMaskedLM: https://huggingface.co/docs/transformers/tasks/masked_language_modeling\n",
        "\n",
        "- For more details about the model, you can visit the model page on HF: https://huggingface.co/cardiffnlp/twitter-xlm-roberta-base\n"
      ]
    },
    {
      "cell_type": "markdown",
      "metadata": {
        "id": "G5dSiWsRJYbc"
      },
      "source": [
        "**TODO**\n",
        "\n",
        "Write your own example sentence. Then we already provided you with a base code for your task and you can **choose one of the two approaches** (pipeline or step by step application).\n",
        "\n",
        "**You are allowed to change/adapt the code, as long as the output is presented the way it's described in 3.**\n",
        "\n",
        "Your task is to adapt the code so that:\n",
        "\n",
        "1. You define **3 different versions** of your original sentence, each version masks a different word/token.\n",
        "\n",
        "2. loop over each sample sentence and print out the **top 5** results for you masked word in each input sentence.\n",
        "\n",
        "3. your output sould show all results **at once** (e.g. show input + top 5 results incl. probability scores, show input_2 + top 5 results incl. probability scores, etc.). It doen't need to look pretty, as long as its functional and easy to read.\n",
        "\n",
        "4. What do you think about the results?\n",
        "    - In my opinion i like approach two more because it gives me more information to work with and see how the model came to its result.\n",
        "\n"
      ]
    },
    {
      "cell_type": "code",
      "execution_count": null,
      "metadata": {
        "id": "WSlbYuPeFcJ2",
        "colab": {
          "base_uri": "https://localhost:8080/",
          "height": 145,
          "referenced_widgets": [
            "a4e04420c6b44742a303951635125867",
            "51db76312a4a4641a5555de10556011a",
            "825d7dea1177461f95af026ae08f27c2",
            "7225e00af4e74ab7860be04222268d86",
            "ac9b42b07ecd4303b6736a02cdddf6b6",
            "002b9e09b2e949f28891a5f904abb348",
            "9cbafb92eeff40ef9142683282ce1e20",
            "4f8955d008c6406995edf493f28e38da",
            "f6b673d59f484886969f77d25c8c832e",
            "55b926fc63894ba988846205fc97cd86",
            "56d68c4552184a5bbee6534e9b0ae20e",
            "c005776238e44b1fa4e7ac188719d9cb",
            "00d49b98ae3e4600a7906bd808f5eaa4",
            "407f6eba66164607ad2c5e58489026b4",
            "d7a3ac30dd6940c58b77301f6ade7a27",
            "8abd8b57e3244091a158d67c2025b51c",
            "182e6b8e992f4c2caca7e05a6c18205d",
            "2d49ca3ee04d40f9a9c69f75ed9bd007",
            "c0502bfb525f4fc6aa11a5c0f5a431a4",
            "0dea0ae6045d46a99a5dfd313e594260",
            "8a3d9bd17e5c41c083b04147ac33542c",
            "12915e8d957742c6bf911a8031e49661",
            "98b845edc1b6416caa54ae8a3373ec54",
            "03e132befd394007a333a8c239aa3e09",
            "ddda4b2f541e461b8feab18bdab3d1d4",
            "88a148e2d9364fb99c63ad162740a03f",
            "199afce431dc447cb0cb8d45d2acd50b",
            "3bcbbfd3b39b43048dec3352a0a57147",
            "b232560135724d509dce993e99baf7c8",
            "ce28197f8c6041638aa0d7966f469dd2",
            "81ba662a9b7445c7a59da20ed4d757b8",
            "53531090d0ee477f82003b0ddd77fbf6",
            "ec865a97e63f461d93fb536a0562ef54",
            "b2dc6a2fb2da4189b822f883a6f4677c",
            "45c3404595f94cf4b2d40b43fd691bc7",
            "536962dbd69e4c63944901ace208099b",
            "e7d0023b29de44d7b8a3d93d2af58c8a",
            "c34659aae74b4585af8775e2925d1970",
            "478bbaa51f0447c5aaffe2bd929a4379",
            "6b1be25955024121bfc1d61a8d625689",
            "093cffd186804bb8bca9bbb50b7167be",
            "53746164a464483ca98f84ff16c3c6e7",
            "d5ca1d862b184928ae51695225f1132b",
            "31ab149400184996bdc30dff9c928c25"
          ]
        },
        "outputId": "512087ef-2c97-45ad-b6af-175bd8109481"
      },
      "outputs": [
        {
          "output_type": "display_data",
          "data": {
            "text/plain": [
              "config.json:   0%|          | 0.00/652 [00:00<?, ?B/s]"
            ],
            "application/vnd.jupyter.widget-view+json": {
              "version_major": 2,
              "version_minor": 0,
              "model_id": "a4e04420c6b44742a303951635125867"
            }
          },
          "metadata": {}
        },
        {
          "output_type": "display_data",
          "data": {
            "text/plain": [
              "sentencepiece.bpe.model:   0%|          | 0.00/5.07M [00:00<?, ?B/s]"
            ],
            "application/vnd.jupyter.widget-view+json": {
              "version_major": 2,
              "version_minor": 0,
              "model_id": "c005776238e44b1fa4e7ac188719d9cb"
            }
          },
          "metadata": {}
        },
        {
          "output_type": "display_data",
          "data": {
            "text/plain": [
              "tokenizer.json:   0%|          | 0.00/9.10M [00:00<?, ?B/s]"
            ],
            "application/vnd.jupyter.widget-view+json": {
              "version_major": 2,
              "version_minor": 0,
              "model_id": "98b845edc1b6416caa54ae8a3373ec54"
            }
          },
          "metadata": {}
        },
        {
          "output_type": "display_data",
          "data": {
            "text/plain": [
              "pytorch_model.bin:   0%|          | 0.00/1.11G [00:00<?, ?B/s]"
            ],
            "application/vnd.jupyter.widget-view+json": {
              "version_major": 2,
              "version_minor": 0,
              "model_id": "b2dc6a2fb2da4189b822f883a6f4677c"
            }
          },
          "metadata": {}
        }
      ],
      "source": [
        "# Load model and tokenizer\n",
        "from transformers import AutoTokenizer, AutoModelForMaskedLM\n",
        "import torch\n",
        "tokenizer = AutoTokenizer.from_pretrained(\"cardiffnlp/twitter-xlm-roberta-base\")\n",
        "model = AutoModelForMaskedLM.from_pretrained(\"cardiffnlp/twitter-xlm-roberta-base\")"
      ]
    },
    {
      "cell_type": "markdown",
      "metadata": {
        "id": "IyutJsQMSCrx"
      },
      "source": [
        "### Approach 1"
      ]
    },
    {
      "cell_type": "code",
      "execution_count": null,
      "metadata": {
        "id": "uNI-u-BEJknW",
        "colab": {
          "base_uri": "https://localhost:8080/"
        },
        "outputId": "75b1663c-3c1a-45cd-a843-065131219546"
      },
      "outputs": [
        {
          "output_type": "stream",
          "name": "stdout",
          "text": [
            "I enjoy doing <mask> . \n",
            "\n",
            "Filled text: I enjoy doing this ., Probability: 0.5140\n",
            "Filled text: I enjoy doing it ., Probability: 0.0660\n",
            "Filled text: I enjoy doing that ., Probability: 0.0418\n"
          ]
        }
      ],
      "source": [
        "text = \"I enjoy doing <mask> .\"\n",
        "inputs = tokenizer(text, return_tensors=\"pt\")\n",
        "mask_token_index = torch.where(inputs[\"input_ids\"] == tokenizer.mask_token_id)[1]\n",
        "logits = model(**inputs).logits\n",
        "mask_token_logits = logits[0, mask_token_index, :]\n",
        "\n",
        "# Apply softmax to get probabilities\n",
        "softmax_output = torch.nn.functional.softmax(mask_token_logits, dim=-1)\n",
        "\n",
        "# Get the top 3 results\n",
        "top_3_results = torch.topk(softmax_output, 3, dim=1)\n",
        "\n",
        "print(text, \"\\n\")\n",
        "for i in range(len(top_3_results.indices[0])):\n",
        "    token = top_3_results.indices[0][i].item()\n",
        "    probability = top_3_results.values[0][i].item()\n",
        "    filled_text = text.replace(tokenizer.mask_token, tokenizer.decode([token]))\n",
        "    print(f\"Filled text: {filled_text}, Probability: {probability:.4f}\")\n"
      ]
    },
    {
      "cell_type": "markdown",
      "metadata": {
        "id": "V86V2ZYXSKBD"
      },
      "source": [
        "### Approach 2"
      ]
    },
    {
      "cell_type": "code",
      "execution_count": null,
      "metadata": {
        "id": "40ronK93HFbK"
      },
      "outputs": [],
      "source": [
        "# Use a pipeline as a high-level helper\n",
        "from transformers import pipeline\n",
        "pipe = pipeline(\"fill-mask\", model=model, tokenizer=tokenizer)"
      ]
    },
    {
      "cell_type": "code",
      "execution_count": null,
      "metadata": {
        "id": "lauB3XfuHr4k",
        "colab": {
          "base_uri": "https://localhost:8080/"
        },
        "outputId": "ac9c6eaf-86b4-4cea-d7ff-5d887cb55f8f"
      },
      "outputs": [
        {
          "output_type": "stream",
          "name": "stdout",
          "text": [
            "I enjoy doing <mask> . \n",
            "\n",
            "{'score': 0.5140401124954224, 'token': 903, 'token_str': 'this', 'sequence': 'I enjoy doing this .'}\n",
            "{'score': 0.06602844595909119, 'token': 442, 'token_str': 'it', 'sequence': 'I enjoy doing it .'}\n",
            "{'score': 0.04183744266629219, 'token': 450, 'token_str': 'that', 'sequence': 'I enjoy doing that .'}\n"
          ]
        }
      ],
      "source": [
        "#Todo: Use your own sentence here\n",
        "results = pipe(\"I enjoy doing <mask>.\")\n",
        "\n",
        "# Display only the top 3 results\n",
        "print(text, \"\\n\")\n",
        "for res in results[:3]:  # Slicing to get the top 3 results\n",
        "    print(res)\n"
      ]
    }
  ],
  "metadata": {
    "colab": {
      "provenance": []
    },
    "kernelspec": {
      "display_name": "Python 3",
      "name": "python3"
    },
    "language_info": {
      "codemirror_mode": {
        "name": "ipython",
        "version": 3
      },
      "file_extension": ".py",
      "mimetype": "text/x-python",
      "name": "python",
      "nbconvert_exporter": "python",
      "pygments_lexer": "ipython3",
      "version": "3.12.3"
    },
    "widgets": {
      "application/vnd.jupyter.widget-state+json": {
        "254f2a136605478f874b4a892eb8cf82": {
          "model_module": "@jupyter-widgets/controls",
          "model_name": "HBoxModel",
          "model_module_version": "1.5.0",
          "state": {
            "_dom_classes": [],
            "_model_module": "@jupyter-widgets/controls",
            "_model_module_version": "1.5.0",
            "_model_name": "HBoxModel",
            "_view_count": null,
            "_view_module": "@jupyter-widgets/controls",
            "_view_module_version": "1.5.0",
            "_view_name": "HBoxView",
            "box_style": "",
            "children": [
              "IPY_MODEL_e312639203c1413f829b1a91ddbc31cd",
              "IPY_MODEL_62e833c2f6424426a1279eaef0d73fca",
              "IPY_MODEL_616d7666306743c4abd302afd5862fcc"
            ],
            "layout": "IPY_MODEL_175e306e2e654abfafe6a5de49add286"
          }
        },
        "e312639203c1413f829b1a91ddbc31cd": {
          "model_module": "@jupyter-widgets/controls",
          "model_name": "HTMLModel",
          "model_module_version": "1.5.0",
          "state": {
            "_dom_classes": [],
            "_model_module": "@jupyter-widgets/controls",
            "_model_module_version": "1.5.0",
            "_model_name": "HTMLModel",
            "_view_count": null,
            "_view_module": "@jupyter-widgets/controls",
            "_view_module_version": "1.5.0",
            "_view_name": "HTMLView",
            "description": "",
            "description_tooltip": null,
            "layout": "IPY_MODEL_66f259743d6a4ddea8c5862f1bb7159c",
            "placeholder": "​",
            "style": "IPY_MODEL_c5ee62bfff444a43a7588eb305ccbf45",
            "value": "config.json: 100%"
          }
        },
        "62e833c2f6424426a1279eaef0d73fca": {
          "model_module": "@jupyter-widgets/controls",
          "model_name": "FloatProgressModel",
          "model_module_version": "1.5.0",
          "state": {
            "_dom_classes": [],
            "_model_module": "@jupyter-widgets/controls",
            "_model_module_version": "1.5.0",
            "_model_name": "FloatProgressModel",
            "_view_count": null,
            "_view_module": "@jupyter-widgets/controls",
            "_view_module_version": "1.5.0",
            "_view_name": "ProgressView",
            "bar_style": "success",
            "description": "",
            "description_tooltip": null,
            "layout": "IPY_MODEL_0a6d78e3edb645f18b219651d1d39e5c",
            "max": 841,
            "min": 0,
            "orientation": "horizontal",
            "style": "IPY_MODEL_c1fe188fa88143c1bd67ec1b84f649e3",
            "value": 841
          }
        },
        "616d7666306743c4abd302afd5862fcc": {
          "model_module": "@jupyter-widgets/controls",
          "model_name": "HTMLModel",
          "model_module_version": "1.5.0",
          "state": {
            "_dom_classes": [],
            "_model_module": "@jupyter-widgets/controls",
            "_model_module_version": "1.5.0",
            "_model_name": "HTMLModel",
            "_view_count": null,
            "_view_module": "@jupyter-widgets/controls",
            "_view_module_version": "1.5.0",
            "_view_name": "HTMLView",
            "description": "",
            "description_tooltip": null,
            "layout": "IPY_MODEL_a43bf696c8844006bbe6f03c233b3120",
            "placeholder": "​",
            "style": "IPY_MODEL_2884cd01730947b4ac2b4b509dcffba7",
            "value": " 841/841 [00:00&lt;00:00, 18.4kB/s]"
          }
        },
        "175e306e2e654abfafe6a5de49add286": {
          "model_module": "@jupyter-widgets/base",
          "model_name": "LayoutModel",
          "model_module_version": "1.2.0",
          "state": {
            "_model_module": "@jupyter-widgets/base",
            "_model_module_version": "1.2.0",
            "_model_name": "LayoutModel",
            "_view_count": null,
            "_view_module": "@jupyter-widgets/base",
            "_view_module_version": "1.2.0",
            "_view_name": "LayoutView",
            "align_content": null,
            "align_items": null,
            "align_self": null,
            "border": null,
            "bottom": null,
            "display": null,
            "flex": null,
            "flex_flow": null,
            "grid_area": null,
            "grid_auto_columns": null,
            "grid_auto_flow": null,
            "grid_auto_rows": null,
            "grid_column": null,
            "grid_gap": null,
            "grid_row": null,
            "grid_template_areas": null,
            "grid_template_columns": null,
            "grid_template_rows": null,
            "height": null,
            "justify_content": null,
            "justify_items": null,
            "left": null,
            "margin": null,
            "max_height": null,
            "max_width": null,
            "min_height": null,
            "min_width": null,
            "object_fit": null,
            "object_position": null,
            "order": null,
            "overflow": null,
            "overflow_x": null,
            "overflow_y": null,
            "padding": null,
            "right": null,
            "top": null,
            "visibility": null,
            "width": null
          }
        },
        "66f259743d6a4ddea8c5862f1bb7159c": {
          "model_module": "@jupyter-widgets/base",
          "model_name": "LayoutModel",
          "model_module_version": "1.2.0",
          "state": {
            "_model_module": "@jupyter-widgets/base",
            "_model_module_version": "1.2.0",
            "_model_name": "LayoutModel",
            "_view_count": null,
            "_view_module": "@jupyter-widgets/base",
            "_view_module_version": "1.2.0",
            "_view_name": "LayoutView",
            "align_content": null,
            "align_items": null,
            "align_self": null,
            "border": null,
            "bottom": null,
            "display": null,
            "flex": null,
            "flex_flow": null,
            "grid_area": null,
            "grid_auto_columns": null,
            "grid_auto_flow": null,
            "grid_auto_rows": null,
            "grid_column": null,
            "grid_gap": null,
            "grid_row": null,
            "grid_template_areas": null,
            "grid_template_columns": null,
            "grid_template_rows": null,
            "height": null,
            "justify_content": null,
            "justify_items": null,
            "left": null,
            "margin": null,
            "max_height": null,
            "max_width": null,
            "min_height": null,
            "min_width": null,
            "object_fit": null,
            "object_position": null,
            "order": null,
            "overflow": null,
            "overflow_x": null,
            "overflow_y": null,
            "padding": null,
            "right": null,
            "top": null,
            "visibility": null,
            "width": null
          }
        },
        "c5ee62bfff444a43a7588eb305ccbf45": {
          "model_module": "@jupyter-widgets/controls",
          "model_name": "DescriptionStyleModel",
          "model_module_version": "1.5.0",
          "state": {
            "_model_module": "@jupyter-widgets/controls",
            "_model_module_version": "1.5.0",
            "_model_name": "DescriptionStyleModel",
            "_view_count": null,
            "_view_module": "@jupyter-widgets/base",
            "_view_module_version": "1.2.0",
            "_view_name": "StyleView",
            "description_width": ""
          }
        },
        "0a6d78e3edb645f18b219651d1d39e5c": {
          "model_module": "@jupyter-widgets/base",
          "model_name": "LayoutModel",
          "model_module_version": "1.2.0",
          "state": {
            "_model_module": "@jupyter-widgets/base",
            "_model_module_version": "1.2.0",
            "_model_name": "LayoutModel",
            "_view_count": null,
            "_view_module": "@jupyter-widgets/base",
            "_view_module_version": "1.2.0",
            "_view_name": "LayoutView",
            "align_content": null,
            "align_items": null,
            "align_self": null,
            "border": null,
            "bottom": null,
            "display": null,
            "flex": null,
            "flex_flow": null,
            "grid_area": null,
            "grid_auto_columns": null,
            "grid_auto_flow": null,
            "grid_auto_rows": null,
            "grid_column": null,
            "grid_gap": null,
            "grid_row": null,
            "grid_template_areas": null,
            "grid_template_columns": null,
            "grid_template_rows": null,
            "height": null,
            "justify_content": null,
            "justify_items": null,
            "left": null,
            "margin": null,
            "max_height": null,
            "max_width": null,
            "min_height": null,
            "min_width": null,
            "object_fit": null,
            "object_position": null,
            "order": null,
            "overflow": null,
            "overflow_x": null,
            "overflow_y": null,
            "padding": null,
            "right": null,
            "top": null,
            "visibility": null,
            "width": null
          }
        },
        "c1fe188fa88143c1bd67ec1b84f649e3": {
          "model_module": "@jupyter-widgets/controls",
          "model_name": "ProgressStyleModel",
          "model_module_version": "1.5.0",
          "state": {
            "_model_module": "@jupyter-widgets/controls",
            "_model_module_version": "1.5.0",
            "_model_name": "ProgressStyleModel",
            "_view_count": null,
            "_view_module": "@jupyter-widgets/base",
            "_view_module_version": "1.2.0",
            "_view_name": "StyleView",
            "bar_color": null,
            "description_width": ""
          }
        },
        "a43bf696c8844006bbe6f03c233b3120": {
          "model_module": "@jupyter-widgets/base",
          "model_name": "LayoutModel",
          "model_module_version": "1.2.0",
          "state": {
            "_model_module": "@jupyter-widgets/base",
            "_model_module_version": "1.2.0",
            "_model_name": "LayoutModel",
            "_view_count": null,
            "_view_module": "@jupyter-widgets/base",
            "_view_module_version": "1.2.0",
            "_view_name": "LayoutView",
            "align_content": null,
            "align_items": null,
            "align_self": null,
            "border": null,
            "bottom": null,
            "display": null,
            "flex": null,
            "flex_flow": null,
            "grid_area": null,
            "grid_auto_columns": null,
            "grid_auto_flow": null,
            "grid_auto_rows": null,
            "grid_column": null,
            "grid_gap": null,
            "grid_row": null,
            "grid_template_areas": null,
            "grid_template_columns": null,
            "grid_template_rows": null,
            "height": null,
            "justify_content": null,
            "justify_items": null,
            "left": null,
            "margin": null,
            "max_height": null,
            "max_width": null,
            "min_height": null,
            "min_width": null,
            "object_fit": null,
            "object_position": null,
            "order": null,
            "overflow": null,
            "overflow_x": null,
            "overflow_y": null,
            "padding": null,
            "right": null,
            "top": null,
            "visibility": null,
            "width": null
          }
        },
        "2884cd01730947b4ac2b4b509dcffba7": {
          "model_module": "@jupyter-widgets/controls",
          "model_name": "DescriptionStyleModel",
          "model_module_version": "1.5.0",
          "state": {
            "_model_module": "@jupyter-widgets/controls",
            "_model_module_version": "1.5.0",
            "_model_name": "DescriptionStyleModel",
            "_view_count": null,
            "_view_module": "@jupyter-widgets/base",
            "_view_module_version": "1.2.0",
            "_view_name": "StyleView",
            "description_width": ""
          }
        },
        "1b3e8b843c7047aebe449b763d2a2b0c": {
          "model_module": "@jupyter-widgets/controls",
          "model_name": "HBoxModel",
          "model_module_version": "1.5.0",
          "state": {
            "_dom_classes": [],
            "_model_module": "@jupyter-widgets/controls",
            "_model_module_version": "1.5.0",
            "_model_name": "HBoxModel",
            "_view_count": null,
            "_view_module": "@jupyter-widgets/controls",
            "_view_module_version": "1.5.0",
            "_view_name": "HBoxView",
            "box_style": "",
            "children": [
              "IPY_MODEL_b57aecb6bf62442e9c36a4cb835f2751",
              "IPY_MODEL_9e89e21acf4346c7ae970db3aea71211",
              "IPY_MODEL_bc1182bfb9bf4a0cab434697e8f99552"
            ],
            "layout": "IPY_MODEL_483f3ee7c3df4c40a732099a5562016d"
          }
        },
        "b57aecb6bf62442e9c36a4cb835f2751": {
          "model_module": "@jupyter-widgets/controls",
          "model_name": "HTMLModel",
          "model_module_version": "1.5.0",
          "state": {
            "_dom_classes": [],
            "_model_module": "@jupyter-widgets/controls",
            "_model_module_version": "1.5.0",
            "_model_name": "HTMLModel",
            "_view_count": null,
            "_view_module": "@jupyter-widgets/controls",
            "_view_module_version": "1.5.0",
            "_view_name": "HTMLView",
            "description": "",
            "description_tooltip": null,
            "layout": "IPY_MODEL_59fa813ebc254e23935fee0058c491bc",
            "placeholder": "​",
            "style": "IPY_MODEL_b5aad7827b414debaee9e18a82d9f129",
            "value": "pytorch_model.bin: 100%"
          }
        },
        "9e89e21acf4346c7ae970db3aea71211": {
          "model_module": "@jupyter-widgets/controls",
          "model_name": "FloatProgressModel",
          "model_module_version": "1.5.0",
          "state": {
            "_dom_classes": [],
            "_model_module": "@jupyter-widgets/controls",
            "_model_module_version": "1.5.0",
            "_model_name": "FloatProgressModel",
            "_view_count": null,
            "_view_module": "@jupyter-widgets/controls",
            "_view_module_version": "1.5.0",
            "_view_name": "ProgressView",
            "bar_style": "success",
            "description": "",
            "description_tooltip": null,
            "layout": "IPY_MODEL_d4243647c69342429c9858a0c722d1e7",
            "max": 1112271561,
            "min": 0,
            "orientation": "horizontal",
            "style": "IPY_MODEL_ae6918d919c44113a99cb7832928d9b9",
            "value": 1112271561
          }
        },
        "bc1182bfb9bf4a0cab434697e8f99552": {
          "model_module": "@jupyter-widgets/controls",
          "model_name": "HTMLModel",
          "model_module_version": "1.5.0",
          "state": {
            "_dom_classes": [],
            "_model_module": "@jupyter-widgets/controls",
            "_model_module_version": "1.5.0",
            "_model_name": "HTMLModel",
            "_view_count": null,
            "_view_module": "@jupyter-widgets/controls",
            "_view_module_version": "1.5.0",
            "_view_name": "HTMLView",
            "description": "",
            "description_tooltip": null,
            "layout": "IPY_MODEL_1eba93cdf65d404091f0ebdad01a8d5c",
            "placeholder": "​",
            "style": "IPY_MODEL_f15b369d81d64f2bba0d1d900c21e4fb",
            "value": " 1.11G/1.11G [00:15&lt;00:00, 97.9MB/s]"
          }
        },
        "483f3ee7c3df4c40a732099a5562016d": {
          "model_module": "@jupyter-widgets/base",
          "model_name": "LayoutModel",
          "model_module_version": "1.2.0",
          "state": {
            "_model_module": "@jupyter-widgets/base",
            "_model_module_version": "1.2.0",
            "_model_name": "LayoutModel",
            "_view_count": null,
            "_view_module": "@jupyter-widgets/base",
            "_view_module_version": "1.2.0",
            "_view_name": "LayoutView",
            "align_content": null,
            "align_items": null,
            "align_self": null,
            "border": null,
            "bottom": null,
            "display": null,
            "flex": null,
            "flex_flow": null,
            "grid_area": null,
            "grid_auto_columns": null,
            "grid_auto_flow": null,
            "grid_auto_rows": null,
            "grid_column": null,
            "grid_gap": null,
            "grid_row": null,
            "grid_template_areas": null,
            "grid_template_columns": null,
            "grid_template_rows": null,
            "height": null,
            "justify_content": null,
            "justify_items": null,
            "left": null,
            "margin": null,
            "max_height": null,
            "max_width": null,
            "min_height": null,
            "min_width": null,
            "object_fit": null,
            "object_position": null,
            "order": null,
            "overflow": null,
            "overflow_x": null,
            "overflow_y": null,
            "padding": null,
            "right": null,
            "top": null,
            "visibility": null,
            "width": null
          }
        },
        "59fa813ebc254e23935fee0058c491bc": {
          "model_module": "@jupyter-widgets/base",
          "model_name": "LayoutModel",
          "model_module_version": "1.2.0",
          "state": {
            "_model_module": "@jupyter-widgets/base",
            "_model_module_version": "1.2.0",
            "_model_name": "LayoutModel",
            "_view_count": null,
            "_view_module": "@jupyter-widgets/base",
            "_view_module_version": "1.2.0",
            "_view_name": "LayoutView",
            "align_content": null,
            "align_items": null,
            "align_self": null,
            "border": null,
            "bottom": null,
            "display": null,
            "flex": null,
            "flex_flow": null,
            "grid_area": null,
            "grid_auto_columns": null,
            "grid_auto_flow": null,
            "grid_auto_rows": null,
            "grid_column": null,
            "grid_gap": null,
            "grid_row": null,
            "grid_template_areas": null,
            "grid_template_columns": null,
            "grid_template_rows": null,
            "height": null,
            "justify_content": null,
            "justify_items": null,
            "left": null,
            "margin": null,
            "max_height": null,
            "max_width": null,
            "min_height": null,
            "min_width": null,
            "object_fit": null,
            "object_position": null,
            "order": null,
            "overflow": null,
            "overflow_x": null,
            "overflow_y": null,
            "padding": null,
            "right": null,
            "top": null,
            "visibility": null,
            "width": null
          }
        },
        "b5aad7827b414debaee9e18a82d9f129": {
          "model_module": "@jupyter-widgets/controls",
          "model_name": "DescriptionStyleModel",
          "model_module_version": "1.5.0",
          "state": {
            "_model_module": "@jupyter-widgets/controls",
            "_model_module_version": "1.5.0",
            "_model_name": "DescriptionStyleModel",
            "_view_count": null,
            "_view_module": "@jupyter-widgets/base",
            "_view_module_version": "1.2.0",
            "_view_name": "StyleView",
            "description_width": ""
          }
        },
        "d4243647c69342429c9858a0c722d1e7": {
          "model_module": "@jupyter-widgets/base",
          "model_name": "LayoutModel",
          "model_module_version": "1.2.0",
          "state": {
            "_model_module": "@jupyter-widgets/base",
            "_model_module_version": "1.2.0",
            "_model_name": "LayoutModel",
            "_view_count": null,
            "_view_module": "@jupyter-widgets/base",
            "_view_module_version": "1.2.0",
            "_view_name": "LayoutView",
            "align_content": null,
            "align_items": null,
            "align_self": null,
            "border": null,
            "bottom": null,
            "display": null,
            "flex": null,
            "flex_flow": null,
            "grid_area": null,
            "grid_auto_columns": null,
            "grid_auto_flow": null,
            "grid_auto_rows": null,
            "grid_column": null,
            "grid_gap": null,
            "grid_row": null,
            "grid_template_areas": null,
            "grid_template_columns": null,
            "grid_template_rows": null,
            "height": null,
            "justify_content": null,
            "justify_items": null,
            "left": null,
            "margin": null,
            "max_height": null,
            "max_width": null,
            "min_height": null,
            "min_width": null,
            "object_fit": null,
            "object_position": null,
            "order": null,
            "overflow": null,
            "overflow_x": null,
            "overflow_y": null,
            "padding": null,
            "right": null,
            "top": null,
            "visibility": null,
            "width": null
          }
        },
        "ae6918d919c44113a99cb7832928d9b9": {
          "model_module": "@jupyter-widgets/controls",
          "model_name": "ProgressStyleModel",
          "model_module_version": "1.5.0",
          "state": {
            "_model_module": "@jupyter-widgets/controls",
            "_model_module_version": "1.5.0",
            "_model_name": "ProgressStyleModel",
            "_view_count": null,
            "_view_module": "@jupyter-widgets/base",
            "_view_module_version": "1.2.0",
            "_view_name": "StyleView",
            "bar_color": null,
            "description_width": ""
          }
        },
        "1eba93cdf65d404091f0ebdad01a8d5c": {
          "model_module": "@jupyter-widgets/base",
          "model_name": "LayoutModel",
          "model_module_version": "1.2.0",
          "state": {
            "_model_module": "@jupyter-widgets/base",
            "_model_module_version": "1.2.0",
            "_model_name": "LayoutModel",
            "_view_count": null,
            "_view_module": "@jupyter-widgets/base",
            "_view_module_version": "1.2.0",
            "_view_name": "LayoutView",
            "align_content": null,
            "align_items": null,
            "align_self": null,
            "border": null,
            "bottom": null,
            "display": null,
            "flex": null,
            "flex_flow": null,
            "grid_area": null,
            "grid_auto_columns": null,
            "grid_auto_flow": null,
            "grid_auto_rows": null,
            "grid_column": null,
            "grid_gap": null,
            "grid_row": null,
            "grid_template_areas": null,
            "grid_template_columns": null,
            "grid_template_rows": null,
            "height": null,
            "justify_content": null,
            "justify_items": null,
            "left": null,
            "margin": null,
            "max_height": null,
            "max_width": null,
            "min_height": null,
            "min_width": null,
            "object_fit": null,
            "object_position": null,
            "order": null,
            "overflow": null,
            "overflow_x": null,
            "overflow_y": null,
            "padding": null,
            "right": null,
            "top": null,
            "visibility": null,
            "width": null
          }
        },
        "f15b369d81d64f2bba0d1d900c21e4fb": {
          "model_module": "@jupyter-widgets/controls",
          "model_name": "DescriptionStyleModel",
          "model_module_version": "1.5.0",
          "state": {
            "_model_module": "@jupyter-widgets/controls",
            "_model_module_version": "1.5.0",
            "_model_name": "DescriptionStyleModel",
            "_view_count": null,
            "_view_module": "@jupyter-widgets/base",
            "_view_module_version": "1.2.0",
            "_view_name": "StyleView",
            "description_width": ""
          }
        },
        "c75c826914cf499ca0671f927beaf087": {
          "model_module": "@jupyter-widgets/controls",
          "model_name": "HBoxModel",
          "model_module_version": "1.5.0",
          "state": {
            "_dom_classes": [],
            "_model_module": "@jupyter-widgets/controls",
            "_model_module_version": "1.5.0",
            "_model_name": "HBoxModel",
            "_view_count": null,
            "_view_module": "@jupyter-widgets/controls",
            "_view_module_version": "1.5.0",
            "_view_name": "HBoxView",
            "box_style": "",
            "children": [
              "IPY_MODEL_703f71f949414a3cbc51b86e6f93c0cd",
              "IPY_MODEL_c499884c79ef4ff3991621a8457902b9",
              "IPY_MODEL_f7adbe5539f24b5eb3d29e3012338d34"
            ],
            "layout": "IPY_MODEL_3212078cce2c438bbcfe68007509f684"
          }
        },
        "703f71f949414a3cbc51b86e6f93c0cd": {
          "model_module": "@jupyter-widgets/controls",
          "model_name": "HTMLModel",
          "model_module_version": "1.5.0",
          "state": {
            "_dom_classes": [],
            "_model_module": "@jupyter-widgets/controls",
            "_model_module_version": "1.5.0",
            "_model_name": "HTMLModel",
            "_view_count": null,
            "_view_module": "@jupyter-widgets/controls",
            "_view_module_version": "1.5.0",
            "_view_name": "HTMLView",
            "description": "",
            "description_tooltip": null,
            "layout": "IPY_MODEL_92e396d363f042e8a25a89af88f388d5",
            "placeholder": "​",
            "style": "IPY_MODEL_dabd8219462b487984bc3ab9758a0359",
            "value": "sentencepiece.bpe.model: 100%"
          }
        },
        "c499884c79ef4ff3991621a8457902b9": {
          "model_module": "@jupyter-widgets/controls",
          "model_name": "FloatProgressModel",
          "model_module_version": "1.5.0",
          "state": {
            "_dom_classes": [],
            "_model_module": "@jupyter-widgets/controls",
            "_model_module_version": "1.5.0",
            "_model_name": "FloatProgressModel",
            "_view_count": null,
            "_view_module": "@jupyter-widgets/controls",
            "_view_module_version": "1.5.0",
            "_view_name": "ProgressView",
            "bar_style": "success",
            "description": "",
            "description_tooltip": null,
            "layout": "IPY_MODEL_84a8d96451df4c91bfa566577c92669f",
            "max": 5069051,
            "min": 0,
            "orientation": "horizontal",
            "style": "IPY_MODEL_5e72c3bc500d49c68810f7f5037ca57f",
            "value": 5069051
          }
        },
        "f7adbe5539f24b5eb3d29e3012338d34": {
          "model_module": "@jupyter-widgets/controls",
          "model_name": "HTMLModel",
          "model_module_version": "1.5.0",
          "state": {
            "_dom_classes": [],
            "_model_module": "@jupyter-widgets/controls",
            "_model_module_version": "1.5.0",
            "_model_name": "HTMLModel",
            "_view_count": null,
            "_view_module": "@jupyter-widgets/controls",
            "_view_module_version": "1.5.0",
            "_view_name": "HTMLView",
            "description": "",
            "description_tooltip": null,
            "layout": "IPY_MODEL_4bdd5d1e203c4c1092844f37cb8bb61d",
            "placeholder": "​",
            "style": "IPY_MODEL_2691eb7765b6407290ab5bea84e0bb59",
            "value": " 5.07M/5.07M [00:00&lt;00:00, 49.8MB/s]"
          }
        },
        "3212078cce2c438bbcfe68007509f684": {
          "model_module": "@jupyter-widgets/base",
          "model_name": "LayoutModel",
          "model_module_version": "1.2.0",
          "state": {
            "_model_module": "@jupyter-widgets/base",
            "_model_module_version": "1.2.0",
            "_model_name": "LayoutModel",
            "_view_count": null,
            "_view_module": "@jupyter-widgets/base",
            "_view_module_version": "1.2.0",
            "_view_name": "LayoutView",
            "align_content": null,
            "align_items": null,
            "align_self": null,
            "border": null,
            "bottom": null,
            "display": null,
            "flex": null,
            "flex_flow": null,
            "grid_area": null,
            "grid_auto_columns": null,
            "grid_auto_flow": null,
            "grid_auto_rows": null,
            "grid_column": null,
            "grid_gap": null,
            "grid_row": null,
            "grid_template_areas": null,
            "grid_template_columns": null,
            "grid_template_rows": null,
            "height": null,
            "justify_content": null,
            "justify_items": null,
            "left": null,
            "margin": null,
            "max_height": null,
            "max_width": null,
            "min_height": null,
            "min_width": null,
            "object_fit": null,
            "object_position": null,
            "order": null,
            "overflow": null,
            "overflow_x": null,
            "overflow_y": null,
            "padding": null,
            "right": null,
            "top": null,
            "visibility": null,
            "width": null
          }
        },
        "92e396d363f042e8a25a89af88f388d5": {
          "model_module": "@jupyter-widgets/base",
          "model_name": "LayoutModel",
          "model_module_version": "1.2.0",
          "state": {
            "_model_module": "@jupyter-widgets/base",
            "_model_module_version": "1.2.0",
            "_model_name": "LayoutModel",
            "_view_count": null,
            "_view_module": "@jupyter-widgets/base",
            "_view_module_version": "1.2.0",
            "_view_name": "LayoutView",
            "align_content": null,
            "align_items": null,
            "align_self": null,
            "border": null,
            "bottom": null,
            "display": null,
            "flex": null,
            "flex_flow": null,
            "grid_area": null,
            "grid_auto_columns": null,
            "grid_auto_flow": null,
            "grid_auto_rows": null,
            "grid_column": null,
            "grid_gap": null,
            "grid_row": null,
            "grid_template_areas": null,
            "grid_template_columns": null,
            "grid_template_rows": null,
            "height": null,
            "justify_content": null,
            "justify_items": null,
            "left": null,
            "margin": null,
            "max_height": null,
            "max_width": null,
            "min_height": null,
            "min_width": null,
            "object_fit": null,
            "object_position": null,
            "order": null,
            "overflow": null,
            "overflow_x": null,
            "overflow_y": null,
            "padding": null,
            "right": null,
            "top": null,
            "visibility": null,
            "width": null
          }
        },
        "dabd8219462b487984bc3ab9758a0359": {
          "model_module": "@jupyter-widgets/controls",
          "model_name": "DescriptionStyleModel",
          "model_module_version": "1.5.0",
          "state": {
            "_model_module": "@jupyter-widgets/controls",
            "_model_module_version": "1.5.0",
            "_model_name": "DescriptionStyleModel",
            "_view_count": null,
            "_view_module": "@jupyter-widgets/base",
            "_view_module_version": "1.2.0",
            "_view_name": "StyleView",
            "description_width": ""
          }
        },
        "84a8d96451df4c91bfa566577c92669f": {
          "model_module": "@jupyter-widgets/base",
          "model_name": "LayoutModel",
          "model_module_version": "1.2.0",
          "state": {
            "_model_module": "@jupyter-widgets/base",
            "_model_module_version": "1.2.0",
            "_model_name": "LayoutModel",
            "_view_count": null,
            "_view_module": "@jupyter-widgets/base",
            "_view_module_version": "1.2.0",
            "_view_name": "LayoutView",
            "align_content": null,
            "align_items": null,
            "align_self": null,
            "border": null,
            "bottom": null,
            "display": null,
            "flex": null,
            "flex_flow": null,
            "grid_area": null,
            "grid_auto_columns": null,
            "grid_auto_flow": null,
            "grid_auto_rows": null,
            "grid_column": null,
            "grid_gap": null,
            "grid_row": null,
            "grid_template_areas": null,
            "grid_template_columns": null,
            "grid_template_rows": null,
            "height": null,
            "justify_content": null,
            "justify_items": null,
            "left": null,
            "margin": null,
            "max_height": null,
            "max_width": null,
            "min_height": null,
            "min_width": null,
            "object_fit": null,
            "object_position": null,
            "order": null,
            "overflow": null,
            "overflow_x": null,
            "overflow_y": null,
            "padding": null,
            "right": null,
            "top": null,
            "visibility": null,
            "width": null
          }
        },
        "5e72c3bc500d49c68810f7f5037ca57f": {
          "model_module": "@jupyter-widgets/controls",
          "model_name": "ProgressStyleModel",
          "model_module_version": "1.5.0",
          "state": {
            "_model_module": "@jupyter-widgets/controls",
            "_model_module_version": "1.5.0",
            "_model_name": "ProgressStyleModel",
            "_view_count": null,
            "_view_module": "@jupyter-widgets/base",
            "_view_module_version": "1.2.0",
            "_view_name": "StyleView",
            "bar_color": null,
            "description_width": ""
          }
        },
        "4bdd5d1e203c4c1092844f37cb8bb61d": {
          "model_module": "@jupyter-widgets/base",
          "model_name": "LayoutModel",
          "model_module_version": "1.2.0",
          "state": {
            "_model_module": "@jupyter-widgets/base",
            "_model_module_version": "1.2.0",
            "_model_name": "LayoutModel",
            "_view_count": null,
            "_view_module": "@jupyter-widgets/base",
            "_view_module_version": "1.2.0",
            "_view_name": "LayoutView",
            "align_content": null,
            "align_items": null,
            "align_self": null,
            "border": null,
            "bottom": null,
            "display": null,
            "flex": null,
            "flex_flow": null,
            "grid_area": null,
            "grid_auto_columns": null,
            "grid_auto_flow": null,
            "grid_auto_rows": null,
            "grid_column": null,
            "grid_gap": null,
            "grid_row": null,
            "grid_template_areas": null,
            "grid_template_columns": null,
            "grid_template_rows": null,
            "height": null,
            "justify_content": null,
            "justify_items": null,
            "left": null,
            "margin": null,
            "max_height": null,
            "max_width": null,
            "min_height": null,
            "min_width": null,
            "object_fit": null,
            "object_position": null,
            "order": null,
            "overflow": null,
            "overflow_x": null,
            "overflow_y": null,
            "padding": null,
            "right": null,
            "top": null,
            "visibility": null,
            "width": null
          }
        },
        "2691eb7765b6407290ab5bea84e0bb59": {
          "model_module": "@jupyter-widgets/controls",
          "model_name": "DescriptionStyleModel",
          "model_module_version": "1.5.0",
          "state": {
            "_model_module": "@jupyter-widgets/controls",
            "_model_module_version": "1.5.0",
            "_model_name": "DescriptionStyleModel",
            "_view_count": null,
            "_view_module": "@jupyter-widgets/base",
            "_view_module_version": "1.2.0",
            "_view_name": "StyleView",
            "description_width": ""
          }
        },
        "dc7bf3e9e90d4325a322b2c88f92e725": {
          "model_module": "@jupyter-widgets/controls",
          "model_name": "HBoxModel",
          "model_module_version": "1.5.0",
          "state": {
            "_dom_classes": [],
            "_model_module": "@jupyter-widgets/controls",
            "_model_module_version": "1.5.0",
            "_model_name": "HBoxModel",
            "_view_count": null,
            "_view_module": "@jupyter-widgets/controls",
            "_view_module_version": "1.5.0",
            "_view_name": "HBoxView",
            "box_style": "",
            "children": [
              "IPY_MODEL_413055ae545e4c2d92ac1e6789661e01",
              "IPY_MODEL_887f3fcf125f438fab5d69c8d5fc616a",
              "IPY_MODEL_b0047893f3804b29ba3f495253377231"
            ],
            "layout": "IPY_MODEL_5b3a123636c34cc594fe7d1ab7bc1c9b"
          }
        },
        "413055ae545e4c2d92ac1e6789661e01": {
          "model_module": "@jupyter-widgets/controls",
          "model_name": "HTMLModel",
          "model_module_version": "1.5.0",
          "state": {
            "_dom_classes": [],
            "_model_module": "@jupyter-widgets/controls",
            "_model_module_version": "1.5.0",
            "_model_name": "HTMLModel",
            "_view_count": null,
            "_view_module": "@jupyter-widgets/controls",
            "_view_module_version": "1.5.0",
            "_view_name": "HTMLView",
            "description": "",
            "description_tooltip": null,
            "layout": "IPY_MODEL_9996ce294c844b059452c1400f4f72bc",
            "placeholder": "​",
            "style": "IPY_MODEL_5068de2c0b434944b21d9bd2fa3abecd",
            "value": "special_tokens_map.json: 100%"
          }
        },
        "887f3fcf125f438fab5d69c8d5fc616a": {
          "model_module": "@jupyter-widgets/controls",
          "model_name": "FloatProgressModel",
          "model_module_version": "1.5.0",
          "state": {
            "_dom_classes": [],
            "_model_module": "@jupyter-widgets/controls",
            "_model_module_version": "1.5.0",
            "_model_name": "FloatProgressModel",
            "_view_count": null,
            "_view_module": "@jupyter-widgets/controls",
            "_view_module_version": "1.5.0",
            "_view_name": "ProgressView",
            "bar_style": "success",
            "description": "",
            "description_tooltip": null,
            "layout": "IPY_MODEL_148a82a11849474788ce01fa3dc98c00",
            "max": 150,
            "min": 0,
            "orientation": "horizontal",
            "style": "IPY_MODEL_5bf0f0eee0944186b1513f2d172e24a5",
            "value": 150
          }
        },
        "b0047893f3804b29ba3f495253377231": {
          "model_module": "@jupyter-widgets/controls",
          "model_name": "HTMLModel",
          "model_module_version": "1.5.0",
          "state": {
            "_dom_classes": [],
            "_model_module": "@jupyter-widgets/controls",
            "_model_module_version": "1.5.0",
            "_model_name": "HTMLModel",
            "_view_count": null,
            "_view_module": "@jupyter-widgets/controls",
            "_view_module_version": "1.5.0",
            "_view_name": "HTMLView",
            "description": "",
            "description_tooltip": null,
            "layout": "IPY_MODEL_d624340574d947febb77cef491bcc2be",
            "placeholder": "​",
            "style": "IPY_MODEL_ff42fd8631a1415cac8af5ecc3d850fb",
            "value": " 150/150 [00:00&lt;00:00, 4.80kB/s]"
          }
        },
        "5b3a123636c34cc594fe7d1ab7bc1c9b": {
          "model_module": "@jupyter-widgets/base",
          "model_name": "LayoutModel",
          "model_module_version": "1.2.0",
          "state": {
            "_model_module": "@jupyter-widgets/base",
            "_model_module_version": "1.2.0",
            "_model_name": "LayoutModel",
            "_view_count": null,
            "_view_module": "@jupyter-widgets/base",
            "_view_module_version": "1.2.0",
            "_view_name": "LayoutView",
            "align_content": null,
            "align_items": null,
            "align_self": null,
            "border": null,
            "bottom": null,
            "display": null,
            "flex": null,
            "flex_flow": null,
            "grid_area": null,
            "grid_auto_columns": null,
            "grid_auto_flow": null,
            "grid_auto_rows": null,
            "grid_column": null,
            "grid_gap": null,
            "grid_row": null,
            "grid_template_areas": null,
            "grid_template_columns": null,
            "grid_template_rows": null,
            "height": null,
            "justify_content": null,
            "justify_items": null,
            "left": null,
            "margin": null,
            "max_height": null,
            "max_width": null,
            "min_height": null,
            "min_width": null,
            "object_fit": null,
            "object_position": null,
            "order": null,
            "overflow": null,
            "overflow_x": null,
            "overflow_y": null,
            "padding": null,
            "right": null,
            "top": null,
            "visibility": null,
            "width": null
          }
        },
        "9996ce294c844b059452c1400f4f72bc": {
          "model_module": "@jupyter-widgets/base",
          "model_name": "LayoutModel",
          "model_module_version": "1.2.0",
          "state": {
            "_model_module": "@jupyter-widgets/base",
            "_model_module_version": "1.2.0",
            "_model_name": "LayoutModel",
            "_view_count": null,
            "_view_module": "@jupyter-widgets/base",
            "_view_module_version": "1.2.0",
            "_view_name": "LayoutView",
            "align_content": null,
            "align_items": null,
            "align_self": null,
            "border": null,
            "bottom": null,
            "display": null,
            "flex": null,
            "flex_flow": null,
            "grid_area": null,
            "grid_auto_columns": null,
            "grid_auto_flow": null,
            "grid_auto_rows": null,
            "grid_column": null,
            "grid_gap": null,
            "grid_row": null,
            "grid_template_areas": null,
            "grid_template_columns": null,
            "grid_template_rows": null,
            "height": null,
            "justify_content": null,
            "justify_items": null,
            "left": null,
            "margin": null,
            "max_height": null,
            "max_width": null,
            "min_height": null,
            "min_width": null,
            "object_fit": null,
            "object_position": null,
            "order": null,
            "overflow": null,
            "overflow_x": null,
            "overflow_y": null,
            "padding": null,
            "right": null,
            "top": null,
            "visibility": null,
            "width": null
          }
        },
        "5068de2c0b434944b21d9bd2fa3abecd": {
          "model_module": "@jupyter-widgets/controls",
          "model_name": "DescriptionStyleModel",
          "model_module_version": "1.5.0",
          "state": {
            "_model_module": "@jupyter-widgets/controls",
            "_model_module_version": "1.5.0",
            "_model_name": "DescriptionStyleModel",
            "_view_count": null,
            "_view_module": "@jupyter-widgets/base",
            "_view_module_version": "1.2.0",
            "_view_name": "StyleView",
            "description_width": ""
          }
        },
        "148a82a11849474788ce01fa3dc98c00": {
          "model_module": "@jupyter-widgets/base",
          "model_name": "LayoutModel",
          "model_module_version": "1.2.0",
          "state": {
            "_model_module": "@jupyter-widgets/base",
            "_model_module_version": "1.2.0",
            "_model_name": "LayoutModel",
            "_view_count": null,
            "_view_module": "@jupyter-widgets/base",
            "_view_module_version": "1.2.0",
            "_view_name": "LayoutView",
            "align_content": null,
            "align_items": null,
            "align_self": null,
            "border": null,
            "bottom": null,
            "display": null,
            "flex": null,
            "flex_flow": null,
            "grid_area": null,
            "grid_auto_columns": null,
            "grid_auto_flow": null,
            "grid_auto_rows": null,
            "grid_column": null,
            "grid_gap": null,
            "grid_row": null,
            "grid_template_areas": null,
            "grid_template_columns": null,
            "grid_template_rows": null,
            "height": null,
            "justify_content": null,
            "justify_items": null,
            "left": null,
            "margin": null,
            "max_height": null,
            "max_width": null,
            "min_height": null,
            "min_width": null,
            "object_fit": null,
            "object_position": null,
            "order": null,
            "overflow": null,
            "overflow_x": null,
            "overflow_y": null,
            "padding": null,
            "right": null,
            "top": null,
            "visibility": null,
            "width": null
          }
        },
        "5bf0f0eee0944186b1513f2d172e24a5": {
          "model_module": "@jupyter-widgets/controls",
          "model_name": "ProgressStyleModel",
          "model_module_version": "1.5.0",
          "state": {
            "_model_module": "@jupyter-widgets/controls",
            "_model_module_version": "1.5.0",
            "_model_name": "ProgressStyleModel",
            "_view_count": null,
            "_view_module": "@jupyter-widgets/base",
            "_view_module_version": "1.2.0",
            "_view_name": "StyleView",
            "bar_color": null,
            "description_width": ""
          }
        },
        "d624340574d947febb77cef491bcc2be": {
          "model_module": "@jupyter-widgets/base",
          "model_name": "LayoutModel",
          "model_module_version": "1.2.0",
          "state": {
            "_model_module": "@jupyter-widgets/base",
            "_model_module_version": "1.2.0",
            "_model_name": "LayoutModel",
            "_view_count": null,
            "_view_module": "@jupyter-widgets/base",
            "_view_module_version": "1.2.0",
            "_view_name": "LayoutView",
            "align_content": null,
            "align_items": null,
            "align_self": null,
            "border": null,
            "bottom": null,
            "display": null,
            "flex": null,
            "flex_flow": null,
            "grid_area": null,
            "grid_auto_columns": null,
            "grid_auto_flow": null,
            "grid_auto_rows": null,
            "grid_column": null,
            "grid_gap": null,
            "grid_row": null,
            "grid_template_areas": null,
            "grid_template_columns": null,
            "grid_template_rows": null,
            "height": null,
            "justify_content": null,
            "justify_items": null,
            "left": null,
            "margin": null,
            "max_height": null,
            "max_width": null,
            "min_height": null,
            "min_width": null,
            "object_fit": null,
            "object_position": null,
            "order": null,
            "overflow": null,
            "overflow_x": null,
            "overflow_y": null,
            "padding": null,
            "right": null,
            "top": null,
            "visibility": null,
            "width": null
          }
        },
        "ff42fd8631a1415cac8af5ecc3d850fb": {
          "model_module": "@jupyter-widgets/controls",
          "model_name": "DescriptionStyleModel",
          "model_module_version": "1.5.0",
          "state": {
            "_model_module": "@jupyter-widgets/controls",
            "_model_module_version": "1.5.0",
            "_model_name": "DescriptionStyleModel",
            "_view_count": null,
            "_view_module": "@jupyter-widgets/base",
            "_view_module_version": "1.2.0",
            "_view_name": "StyleView",
            "description_width": ""
          }
        },
        "a4e04420c6b44742a303951635125867": {
          "model_module": "@jupyter-widgets/controls",
          "model_name": "HBoxModel",
          "model_module_version": "1.5.0",
          "state": {
            "_dom_classes": [],
            "_model_module": "@jupyter-widgets/controls",
            "_model_module_version": "1.5.0",
            "_model_name": "HBoxModel",
            "_view_count": null,
            "_view_module": "@jupyter-widgets/controls",
            "_view_module_version": "1.5.0",
            "_view_name": "HBoxView",
            "box_style": "",
            "children": [
              "IPY_MODEL_51db76312a4a4641a5555de10556011a",
              "IPY_MODEL_825d7dea1177461f95af026ae08f27c2",
              "IPY_MODEL_7225e00af4e74ab7860be04222268d86"
            ],
            "layout": "IPY_MODEL_ac9b42b07ecd4303b6736a02cdddf6b6"
          }
        },
        "51db76312a4a4641a5555de10556011a": {
          "model_module": "@jupyter-widgets/controls",
          "model_name": "HTMLModel",
          "model_module_version": "1.5.0",
          "state": {
            "_dom_classes": [],
            "_model_module": "@jupyter-widgets/controls",
            "_model_module_version": "1.5.0",
            "_model_name": "HTMLModel",
            "_view_count": null,
            "_view_module": "@jupyter-widgets/controls",
            "_view_module_version": "1.5.0",
            "_view_name": "HTMLView",
            "description": "",
            "description_tooltip": null,
            "layout": "IPY_MODEL_002b9e09b2e949f28891a5f904abb348",
            "placeholder": "​",
            "style": "IPY_MODEL_9cbafb92eeff40ef9142683282ce1e20",
            "value": "config.json: 100%"
          }
        },
        "825d7dea1177461f95af026ae08f27c2": {
          "model_module": "@jupyter-widgets/controls",
          "model_name": "FloatProgressModel",
          "model_module_version": "1.5.0",
          "state": {
            "_dom_classes": [],
            "_model_module": "@jupyter-widgets/controls",
            "_model_module_version": "1.5.0",
            "_model_name": "FloatProgressModel",
            "_view_count": null,
            "_view_module": "@jupyter-widgets/controls",
            "_view_module_version": "1.5.0",
            "_view_name": "ProgressView",
            "bar_style": "success",
            "description": "",
            "description_tooltip": null,
            "layout": "IPY_MODEL_4f8955d008c6406995edf493f28e38da",
            "max": 652,
            "min": 0,
            "orientation": "horizontal",
            "style": "IPY_MODEL_f6b673d59f484886969f77d25c8c832e",
            "value": 652
          }
        },
        "7225e00af4e74ab7860be04222268d86": {
          "model_module": "@jupyter-widgets/controls",
          "model_name": "HTMLModel",
          "model_module_version": "1.5.0",
          "state": {
            "_dom_classes": [],
            "_model_module": "@jupyter-widgets/controls",
            "_model_module_version": "1.5.0",
            "_model_name": "HTMLModel",
            "_view_count": null,
            "_view_module": "@jupyter-widgets/controls",
            "_view_module_version": "1.5.0",
            "_view_name": "HTMLView",
            "description": "",
            "description_tooltip": null,
            "layout": "IPY_MODEL_55b926fc63894ba988846205fc97cd86",
            "placeholder": "​",
            "style": "IPY_MODEL_56d68c4552184a5bbee6534e9b0ae20e",
            "value": " 652/652 [00:00&lt;00:00, 14.8kB/s]"
          }
        },
        "ac9b42b07ecd4303b6736a02cdddf6b6": {
          "model_module": "@jupyter-widgets/base",
          "model_name": "LayoutModel",
          "model_module_version": "1.2.0",
          "state": {
            "_model_module": "@jupyter-widgets/base",
            "_model_module_version": "1.2.0",
            "_model_name": "LayoutModel",
            "_view_count": null,
            "_view_module": "@jupyter-widgets/base",
            "_view_module_version": "1.2.0",
            "_view_name": "LayoutView",
            "align_content": null,
            "align_items": null,
            "align_self": null,
            "border": null,
            "bottom": null,
            "display": null,
            "flex": null,
            "flex_flow": null,
            "grid_area": null,
            "grid_auto_columns": null,
            "grid_auto_flow": null,
            "grid_auto_rows": null,
            "grid_column": null,
            "grid_gap": null,
            "grid_row": null,
            "grid_template_areas": null,
            "grid_template_columns": null,
            "grid_template_rows": null,
            "height": null,
            "justify_content": null,
            "justify_items": null,
            "left": null,
            "margin": null,
            "max_height": null,
            "max_width": null,
            "min_height": null,
            "min_width": null,
            "object_fit": null,
            "object_position": null,
            "order": null,
            "overflow": null,
            "overflow_x": null,
            "overflow_y": null,
            "padding": null,
            "right": null,
            "top": null,
            "visibility": null,
            "width": null
          }
        },
        "002b9e09b2e949f28891a5f904abb348": {
          "model_module": "@jupyter-widgets/base",
          "model_name": "LayoutModel",
          "model_module_version": "1.2.0",
          "state": {
            "_model_module": "@jupyter-widgets/base",
            "_model_module_version": "1.2.0",
            "_model_name": "LayoutModel",
            "_view_count": null,
            "_view_module": "@jupyter-widgets/base",
            "_view_module_version": "1.2.0",
            "_view_name": "LayoutView",
            "align_content": null,
            "align_items": null,
            "align_self": null,
            "border": null,
            "bottom": null,
            "display": null,
            "flex": null,
            "flex_flow": null,
            "grid_area": null,
            "grid_auto_columns": null,
            "grid_auto_flow": null,
            "grid_auto_rows": null,
            "grid_column": null,
            "grid_gap": null,
            "grid_row": null,
            "grid_template_areas": null,
            "grid_template_columns": null,
            "grid_template_rows": null,
            "height": null,
            "justify_content": null,
            "justify_items": null,
            "left": null,
            "margin": null,
            "max_height": null,
            "max_width": null,
            "min_height": null,
            "min_width": null,
            "object_fit": null,
            "object_position": null,
            "order": null,
            "overflow": null,
            "overflow_x": null,
            "overflow_y": null,
            "padding": null,
            "right": null,
            "top": null,
            "visibility": null,
            "width": null
          }
        },
        "9cbafb92eeff40ef9142683282ce1e20": {
          "model_module": "@jupyter-widgets/controls",
          "model_name": "DescriptionStyleModel",
          "model_module_version": "1.5.0",
          "state": {
            "_model_module": "@jupyter-widgets/controls",
            "_model_module_version": "1.5.0",
            "_model_name": "DescriptionStyleModel",
            "_view_count": null,
            "_view_module": "@jupyter-widgets/base",
            "_view_module_version": "1.2.0",
            "_view_name": "StyleView",
            "description_width": ""
          }
        },
        "4f8955d008c6406995edf493f28e38da": {
          "model_module": "@jupyter-widgets/base",
          "model_name": "LayoutModel",
          "model_module_version": "1.2.0",
          "state": {
            "_model_module": "@jupyter-widgets/base",
            "_model_module_version": "1.2.0",
            "_model_name": "LayoutModel",
            "_view_count": null,
            "_view_module": "@jupyter-widgets/base",
            "_view_module_version": "1.2.0",
            "_view_name": "LayoutView",
            "align_content": null,
            "align_items": null,
            "align_self": null,
            "border": null,
            "bottom": null,
            "display": null,
            "flex": null,
            "flex_flow": null,
            "grid_area": null,
            "grid_auto_columns": null,
            "grid_auto_flow": null,
            "grid_auto_rows": null,
            "grid_column": null,
            "grid_gap": null,
            "grid_row": null,
            "grid_template_areas": null,
            "grid_template_columns": null,
            "grid_template_rows": null,
            "height": null,
            "justify_content": null,
            "justify_items": null,
            "left": null,
            "margin": null,
            "max_height": null,
            "max_width": null,
            "min_height": null,
            "min_width": null,
            "object_fit": null,
            "object_position": null,
            "order": null,
            "overflow": null,
            "overflow_x": null,
            "overflow_y": null,
            "padding": null,
            "right": null,
            "top": null,
            "visibility": null,
            "width": null
          }
        },
        "f6b673d59f484886969f77d25c8c832e": {
          "model_module": "@jupyter-widgets/controls",
          "model_name": "ProgressStyleModel",
          "model_module_version": "1.5.0",
          "state": {
            "_model_module": "@jupyter-widgets/controls",
            "_model_module_version": "1.5.0",
            "_model_name": "ProgressStyleModel",
            "_view_count": null,
            "_view_module": "@jupyter-widgets/base",
            "_view_module_version": "1.2.0",
            "_view_name": "StyleView",
            "bar_color": null,
            "description_width": ""
          }
        },
        "55b926fc63894ba988846205fc97cd86": {
          "model_module": "@jupyter-widgets/base",
          "model_name": "LayoutModel",
          "model_module_version": "1.2.0",
          "state": {
            "_model_module": "@jupyter-widgets/base",
            "_model_module_version": "1.2.0",
            "_model_name": "LayoutModel",
            "_view_count": null,
            "_view_module": "@jupyter-widgets/base",
            "_view_module_version": "1.2.0",
            "_view_name": "LayoutView",
            "align_content": null,
            "align_items": null,
            "align_self": null,
            "border": null,
            "bottom": null,
            "display": null,
            "flex": null,
            "flex_flow": null,
            "grid_area": null,
            "grid_auto_columns": null,
            "grid_auto_flow": null,
            "grid_auto_rows": null,
            "grid_column": null,
            "grid_gap": null,
            "grid_row": null,
            "grid_template_areas": null,
            "grid_template_columns": null,
            "grid_template_rows": null,
            "height": null,
            "justify_content": null,
            "justify_items": null,
            "left": null,
            "margin": null,
            "max_height": null,
            "max_width": null,
            "min_height": null,
            "min_width": null,
            "object_fit": null,
            "object_position": null,
            "order": null,
            "overflow": null,
            "overflow_x": null,
            "overflow_y": null,
            "padding": null,
            "right": null,
            "top": null,
            "visibility": null,
            "width": null
          }
        },
        "56d68c4552184a5bbee6534e9b0ae20e": {
          "model_module": "@jupyter-widgets/controls",
          "model_name": "DescriptionStyleModel",
          "model_module_version": "1.5.0",
          "state": {
            "_model_module": "@jupyter-widgets/controls",
            "_model_module_version": "1.5.0",
            "_model_name": "DescriptionStyleModel",
            "_view_count": null,
            "_view_module": "@jupyter-widgets/base",
            "_view_module_version": "1.2.0",
            "_view_name": "StyleView",
            "description_width": ""
          }
        },
        "c005776238e44b1fa4e7ac188719d9cb": {
          "model_module": "@jupyter-widgets/controls",
          "model_name": "HBoxModel",
          "model_module_version": "1.5.0",
          "state": {
            "_dom_classes": [],
            "_model_module": "@jupyter-widgets/controls",
            "_model_module_version": "1.5.0",
            "_model_name": "HBoxModel",
            "_view_count": null,
            "_view_module": "@jupyter-widgets/controls",
            "_view_module_version": "1.5.0",
            "_view_name": "HBoxView",
            "box_style": "",
            "children": [
              "IPY_MODEL_00d49b98ae3e4600a7906bd808f5eaa4",
              "IPY_MODEL_407f6eba66164607ad2c5e58489026b4",
              "IPY_MODEL_d7a3ac30dd6940c58b77301f6ade7a27"
            ],
            "layout": "IPY_MODEL_8abd8b57e3244091a158d67c2025b51c"
          }
        },
        "00d49b98ae3e4600a7906bd808f5eaa4": {
          "model_module": "@jupyter-widgets/controls",
          "model_name": "HTMLModel",
          "model_module_version": "1.5.0",
          "state": {
            "_dom_classes": [],
            "_model_module": "@jupyter-widgets/controls",
            "_model_module_version": "1.5.0",
            "_model_name": "HTMLModel",
            "_view_count": null,
            "_view_module": "@jupyter-widgets/controls",
            "_view_module_version": "1.5.0",
            "_view_name": "HTMLView",
            "description": "",
            "description_tooltip": null,
            "layout": "IPY_MODEL_182e6b8e992f4c2caca7e05a6c18205d",
            "placeholder": "​",
            "style": "IPY_MODEL_2d49ca3ee04d40f9a9c69f75ed9bd007",
            "value": "sentencepiece.bpe.model: 100%"
          }
        },
        "407f6eba66164607ad2c5e58489026b4": {
          "model_module": "@jupyter-widgets/controls",
          "model_name": "FloatProgressModel",
          "model_module_version": "1.5.0",
          "state": {
            "_dom_classes": [],
            "_model_module": "@jupyter-widgets/controls",
            "_model_module_version": "1.5.0",
            "_model_name": "FloatProgressModel",
            "_view_count": null,
            "_view_module": "@jupyter-widgets/controls",
            "_view_module_version": "1.5.0",
            "_view_name": "ProgressView",
            "bar_style": "success",
            "description": "",
            "description_tooltip": null,
            "layout": "IPY_MODEL_c0502bfb525f4fc6aa11a5c0f5a431a4",
            "max": 5069051,
            "min": 0,
            "orientation": "horizontal",
            "style": "IPY_MODEL_0dea0ae6045d46a99a5dfd313e594260",
            "value": 5069051
          }
        },
        "d7a3ac30dd6940c58b77301f6ade7a27": {
          "model_module": "@jupyter-widgets/controls",
          "model_name": "HTMLModel",
          "model_module_version": "1.5.0",
          "state": {
            "_dom_classes": [],
            "_model_module": "@jupyter-widgets/controls",
            "_model_module_version": "1.5.0",
            "_model_name": "HTMLModel",
            "_view_count": null,
            "_view_module": "@jupyter-widgets/controls",
            "_view_module_version": "1.5.0",
            "_view_name": "HTMLView",
            "description": "",
            "description_tooltip": null,
            "layout": "IPY_MODEL_8a3d9bd17e5c41c083b04147ac33542c",
            "placeholder": "​",
            "style": "IPY_MODEL_12915e8d957742c6bf911a8031e49661",
            "value": " 5.07M/5.07M [00:00&lt;00:00, 15.6MB/s]"
          }
        },
        "8abd8b57e3244091a158d67c2025b51c": {
          "model_module": "@jupyter-widgets/base",
          "model_name": "LayoutModel",
          "model_module_version": "1.2.0",
          "state": {
            "_model_module": "@jupyter-widgets/base",
            "_model_module_version": "1.2.0",
            "_model_name": "LayoutModel",
            "_view_count": null,
            "_view_module": "@jupyter-widgets/base",
            "_view_module_version": "1.2.0",
            "_view_name": "LayoutView",
            "align_content": null,
            "align_items": null,
            "align_self": null,
            "border": null,
            "bottom": null,
            "display": null,
            "flex": null,
            "flex_flow": null,
            "grid_area": null,
            "grid_auto_columns": null,
            "grid_auto_flow": null,
            "grid_auto_rows": null,
            "grid_column": null,
            "grid_gap": null,
            "grid_row": null,
            "grid_template_areas": null,
            "grid_template_columns": null,
            "grid_template_rows": null,
            "height": null,
            "justify_content": null,
            "justify_items": null,
            "left": null,
            "margin": null,
            "max_height": null,
            "max_width": null,
            "min_height": null,
            "min_width": null,
            "object_fit": null,
            "object_position": null,
            "order": null,
            "overflow": null,
            "overflow_x": null,
            "overflow_y": null,
            "padding": null,
            "right": null,
            "top": null,
            "visibility": null,
            "width": null
          }
        },
        "182e6b8e992f4c2caca7e05a6c18205d": {
          "model_module": "@jupyter-widgets/base",
          "model_name": "LayoutModel",
          "model_module_version": "1.2.0",
          "state": {
            "_model_module": "@jupyter-widgets/base",
            "_model_module_version": "1.2.0",
            "_model_name": "LayoutModel",
            "_view_count": null,
            "_view_module": "@jupyter-widgets/base",
            "_view_module_version": "1.2.0",
            "_view_name": "LayoutView",
            "align_content": null,
            "align_items": null,
            "align_self": null,
            "border": null,
            "bottom": null,
            "display": null,
            "flex": null,
            "flex_flow": null,
            "grid_area": null,
            "grid_auto_columns": null,
            "grid_auto_flow": null,
            "grid_auto_rows": null,
            "grid_column": null,
            "grid_gap": null,
            "grid_row": null,
            "grid_template_areas": null,
            "grid_template_columns": null,
            "grid_template_rows": null,
            "height": null,
            "justify_content": null,
            "justify_items": null,
            "left": null,
            "margin": null,
            "max_height": null,
            "max_width": null,
            "min_height": null,
            "min_width": null,
            "object_fit": null,
            "object_position": null,
            "order": null,
            "overflow": null,
            "overflow_x": null,
            "overflow_y": null,
            "padding": null,
            "right": null,
            "top": null,
            "visibility": null,
            "width": null
          }
        },
        "2d49ca3ee04d40f9a9c69f75ed9bd007": {
          "model_module": "@jupyter-widgets/controls",
          "model_name": "DescriptionStyleModel",
          "model_module_version": "1.5.0",
          "state": {
            "_model_module": "@jupyter-widgets/controls",
            "_model_module_version": "1.5.0",
            "_model_name": "DescriptionStyleModel",
            "_view_count": null,
            "_view_module": "@jupyter-widgets/base",
            "_view_module_version": "1.2.0",
            "_view_name": "StyleView",
            "description_width": ""
          }
        },
        "c0502bfb525f4fc6aa11a5c0f5a431a4": {
          "model_module": "@jupyter-widgets/base",
          "model_name": "LayoutModel",
          "model_module_version": "1.2.0",
          "state": {
            "_model_module": "@jupyter-widgets/base",
            "_model_module_version": "1.2.0",
            "_model_name": "LayoutModel",
            "_view_count": null,
            "_view_module": "@jupyter-widgets/base",
            "_view_module_version": "1.2.0",
            "_view_name": "LayoutView",
            "align_content": null,
            "align_items": null,
            "align_self": null,
            "border": null,
            "bottom": null,
            "display": null,
            "flex": null,
            "flex_flow": null,
            "grid_area": null,
            "grid_auto_columns": null,
            "grid_auto_flow": null,
            "grid_auto_rows": null,
            "grid_column": null,
            "grid_gap": null,
            "grid_row": null,
            "grid_template_areas": null,
            "grid_template_columns": null,
            "grid_template_rows": null,
            "height": null,
            "justify_content": null,
            "justify_items": null,
            "left": null,
            "margin": null,
            "max_height": null,
            "max_width": null,
            "min_height": null,
            "min_width": null,
            "object_fit": null,
            "object_position": null,
            "order": null,
            "overflow": null,
            "overflow_x": null,
            "overflow_y": null,
            "padding": null,
            "right": null,
            "top": null,
            "visibility": null,
            "width": null
          }
        },
        "0dea0ae6045d46a99a5dfd313e594260": {
          "model_module": "@jupyter-widgets/controls",
          "model_name": "ProgressStyleModel",
          "model_module_version": "1.5.0",
          "state": {
            "_model_module": "@jupyter-widgets/controls",
            "_model_module_version": "1.5.0",
            "_model_name": "ProgressStyleModel",
            "_view_count": null,
            "_view_module": "@jupyter-widgets/base",
            "_view_module_version": "1.2.0",
            "_view_name": "StyleView",
            "bar_color": null,
            "description_width": ""
          }
        },
        "8a3d9bd17e5c41c083b04147ac33542c": {
          "model_module": "@jupyter-widgets/base",
          "model_name": "LayoutModel",
          "model_module_version": "1.2.0",
          "state": {
            "_model_module": "@jupyter-widgets/base",
            "_model_module_version": "1.2.0",
            "_model_name": "LayoutModel",
            "_view_count": null,
            "_view_module": "@jupyter-widgets/base",
            "_view_module_version": "1.2.0",
            "_view_name": "LayoutView",
            "align_content": null,
            "align_items": null,
            "align_self": null,
            "border": null,
            "bottom": null,
            "display": null,
            "flex": null,
            "flex_flow": null,
            "grid_area": null,
            "grid_auto_columns": null,
            "grid_auto_flow": null,
            "grid_auto_rows": null,
            "grid_column": null,
            "grid_gap": null,
            "grid_row": null,
            "grid_template_areas": null,
            "grid_template_columns": null,
            "grid_template_rows": null,
            "height": null,
            "justify_content": null,
            "justify_items": null,
            "left": null,
            "margin": null,
            "max_height": null,
            "max_width": null,
            "min_height": null,
            "min_width": null,
            "object_fit": null,
            "object_position": null,
            "order": null,
            "overflow": null,
            "overflow_x": null,
            "overflow_y": null,
            "padding": null,
            "right": null,
            "top": null,
            "visibility": null,
            "width": null
          }
        },
        "12915e8d957742c6bf911a8031e49661": {
          "model_module": "@jupyter-widgets/controls",
          "model_name": "DescriptionStyleModel",
          "model_module_version": "1.5.0",
          "state": {
            "_model_module": "@jupyter-widgets/controls",
            "_model_module_version": "1.5.0",
            "_model_name": "DescriptionStyleModel",
            "_view_count": null,
            "_view_module": "@jupyter-widgets/base",
            "_view_module_version": "1.2.0",
            "_view_name": "StyleView",
            "description_width": ""
          }
        },
        "98b845edc1b6416caa54ae8a3373ec54": {
          "model_module": "@jupyter-widgets/controls",
          "model_name": "HBoxModel",
          "model_module_version": "1.5.0",
          "state": {
            "_dom_classes": [],
            "_model_module": "@jupyter-widgets/controls",
            "_model_module_version": "1.5.0",
            "_model_name": "HBoxModel",
            "_view_count": null,
            "_view_module": "@jupyter-widgets/controls",
            "_view_module_version": "1.5.0",
            "_view_name": "HBoxView",
            "box_style": "",
            "children": [
              "IPY_MODEL_03e132befd394007a333a8c239aa3e09",
              "IPY_MODEL_ddda4b2f541e461b8feab18bdab3d1d4",
              "IPY_MODEL_88a148e2d9364fb99c63ad162740a03f"
            ],
            "layout": "IPY_MODEL_199afce431dc447cb0cb8d45d2acd50b"
          }
        },
        "03e132befd394007a333a8c239aa3e09": {
          "model_module": "@jupyter-widgets/controls",
          "model_name": "HTMLModel",
          "model_module_version": "1.5.0",
          "state": {
            "_dom_classes": [],
            "_model_module": "@jupyter-widgets/controls",
            "_model_module_version": "1.5.0",
            "_model_name": "HTMLModel",
            "_view_count": null,
            "_view_module": "@jupyter-widgets/controls",
            "_view_module_version": "1.5.0",
            "_view_name": "HTMLView",
            "description": "",
            "description_tooltip": null,
            "layout": "IPY_MODEL_3bcbbfd3b39b43048dec3352a0a57147",
            "placeholder": "​",
            "style": "IPY_MODEL_b232560135724d509dce993e99baf7c8",
            "value": "tokenizer.json: 100%"
          }
        },
        "ddda4b2f541e461b8feab18bdab3d1d4": {
          "model_module": "@jupyter-widgets/controls",
          "model_name": "FloatProgressModel",
          "model_module_version": "1.5.0",
          "state": {
            "_dom_classes": [],
            "_model_module": "@jupyter-widgets/controls",
            "_model_module_version": "1.5.0",
            "_model_name": "FloatProgressModel",
            "_view_count": null,
            "_view_module": "@jupyter-widgets/controls",
            "_view_module_version": "1.5.0",
            "_view_name": "ProgressView",
            "bar_style": "success",
            "description": "",
            "description_tooltip": null,
            "layout": "IPY_MODEL_ce28197f8c6041638aa0d7966f469dd2",
            "max": 9096718,
            "min": 0,
            "orientation": "horizontal",
            "style": "IPY_MODEL_81ba662a9b7445c7a59da20ed4d757b8",
            "value": 9096718
          }
        },
        "88a148e2d9364fb99c63ad162740a03f": {
          "model_module": "@jupyter-widgets/controls",
          "model_name": "HTMLModel",
          "model_module_version": "1.5.0",
          "state": {
            "_dom_classes": [],
            "_model_module": "@jupyter-widgets/controls",
            "_model_module_version": "1.5.0",
            "_model_name": "HTMLModel",
            "_view_count": null,
            "_view_module": "@jupyter-widgets/controls",
            "_view_module_version": "1.5.0",
            "_view_name": "HTMLView",
            "description": "",
            "description_tooltip": null,
            "layout": "IPY_MODEL_53531090d0ee477f82003b0ddd77fbf6",
            "placeholder": "​",
            "style": "IPY_MODEL_ec865a97e63f461d93fb536a0562ef54",
            "value": " 9.10M/9.10M [00:00&lt;00:00, 21.6MB/s]"
          }
        },
        "199afce431dc447cb0cb8d45d2acd50b": {
          "model_module": "@jupyter-widgets/base",
          "model_name": "LayoutModel",
          "model_module_version": "1.2.0",
          "state": {
            "_model_module": "@jupyter-widgets/base",
            "_model_module_version": "1.2.0",
            "_model_name": "LayoutModel",
            "_view_count": null,
            "_view_module": "@jupyter-widgets/base",
            "_view_module_version": "1.2.0",
            "_view_name": "LayoutView",
            "align_content": null,
            "align_items": null,
            "align_self": null,
            "border": null,
            "bottom": null,
            "display": null,
            "flex": null,
            "flex_flow": null,
            "grid_area": null,
            "grid_auto_columns": null,
            "grid_auto_flow": null,
            "grid_auto_rows": null,
            "grid_column": null,
            "grid_gap": null,
            "grid_row": null,
            "grid_template_areas": null,
            "grid_template_columns": null,
            "grid_template_rows": null,
            "height": null,
            "justify_content": null,
            "justify_items": null,
            "left": null,
            "margin": null,
            "max_height": null,
            "max_width": null,
            "min_height": null,
            "min_width": null,
            "object_fit": null,
            "object_position": null,
            "order": null,
            "overflow": null,
            "overflow_x": null,
            "overflow_y": null,
            "padding": null,
            "right": null,
            "top": null,
            "visibility": null,
            "width": null
          }
        },
        "3bcbbfd3b39b43048dec3352a0a57147": {
          "model_module": "@jupyter-widgets/base",
          "model_name": "LayoutModel",
          "model_module_version": "1.2.0",
          "state": {
            "_model_module": "@jupyter-widgets/base",
            "_model_module_version": "1.2.0",
            "_model_name": "LayoutModel",
            "_view_count": null,
            "_view_module": "@jupyter-widgets/base",
            "_view_module_version": "1.2.0",
            "_view_name": "LayoutView",
            "align_content": null,
            "align_items": null,
            "align_self": null,
            "border": null,
            "bottom": null,
            "display": null,
            "flex": null,
            "flex_flow": null,
            "grid_area": null,
            "grid_auto_columns": null,
            "grid_auto_flow": null,
            "grid_auto_rows": null,
            "grid_column": null,
            "grid_gap": null,
            "grid_row": null,
            "grid_template_areas": null,
            "grid_template_columns": null,
            "grid_template_rows": null,
            "height": null,
            "justify_content": null,
            "justify_items": null,
            "left": null,
            "margin": null,
            "max_height": null,
            "max_width": null,
            "min_height": null,
            "min_width": null,
            "object_fit": null,
            "object_position": null,
            "order": null,
            "overflow": null,
            "overflow_x": null,
            "overflow_y": null,
            "padding": null,
            "right": null,
            "top": null,
            "visibility": null,
            "width": null
          }
        },
        "b232560135724d509dce993e99baf7c8": {
          "model_module": "@jupyter-widgets/controls",
          "model_name": "DescriptionStyleModel",
          "model_module_version": "1.5.0",
          "state": {
            "_model_module": "@jupyter-widgets/controls",
            "_model_module_version": "1.5.0",
            "_model_name": "DescriptionStyleModel",
            "_view_count": null,
            "_view_module": "@jupyter-widgets/base",
            "_view_module_version": "1.2.0",
            "_view_name": "StyleView",
            "description_width": ""
          }
        },
        "ce28197f8c6041638aa0d7966f469dd2": {
          "model_module": "@jupyter-widgets/base",
          "model_name": "LayoutModel",
          "model_module_version": "1.2.0",
          "state": {
            "_model_module": "@jupyter-widgets/base",
            "_model_module_version": "1.2.0",
            "_model_name": "LayoutModel",
            "_view_count": null,
            "_view_module": "@jupyter-widgets/base",
            "_view_module_version": "1.2.0",
            "_view_name": "LayoutView",
            "align_content": null,
            "align_items": null,
            "align_self": null,
            "border": null,
            "bottom": null,
            "display": null,
            "flex": null,
            "flex_flow": null,
            "grid_area": null,
            "grid_auto_columns": null,
            "grid_auto_flow": null,
            "grid_auto_rows": null,
            "grid_column": null,
            "grid_gap": null,
            "grid_row": null,
            "grid_template_areas": null,
            "grid_template_columns": null,
            "grid_template_rows": null,
            "height": null,
            "justify_content": null,
            "justify_items": null,
            "left": null,
            "margin": null,
            "max_height": null,
            "max_width": null,
            "min_height": null,
            "min_width": null,
            "object_fit": null,
            "object_position": null,
            "order": null,
            "overflow": null,
            "overflow_x": null,
            "overflow_y": null,
            "padding": null,
            "right": null,
            "top": null,
            "visibility": null,
            "width": null
          }
        },
        "81ba662a9b7445c7a59da20ed4d757b8": {
          "model_module": "@jupyter-widgets/controls",
          "model_name": "ProgressStyleModel",
          "model_module_version": "1.5.0",
          "state": {
            "_model_module": "@jupyter-widgets/controls",
            "_model_module_version": "1.5.0",
            "_model_name": "ProgressStyleModel",
            "_view_count": null,
            "_view_module": "@jupyter-widgets/base",
            "_view_module_version": "1.2.0",
            "_view_name": "StyleView",
            "bar_color": null,
            "description_width": ""
          }
        },
        "53531090d0ee477f82003b0ddd77fbf6": {
          "model_module": "@jupyter-widgets/base",
          "model_name": "LayoutModel",
          "model_module_version": "1.2.0",
          "state": {
            "_model_module": "@jupyter-widgets/base",
            "_model_module_version": "1.2.0",
            "_model_name": "LayoutModel",
            "_view_count": null,
            "_view_module": "@jupyter-widgets/base",
            "_view_module_version": "1.2.0",
            "_view_name": "LayoutView",
            "align_content": null,
            "align_items": null,
            "align_self": null,
            "border": null,
            "bottom": null,
            "display": null,
            "flex": null,
            "flex_flow": null,
            "grid_area": null,
            "grid_auto_columns": null,
            "grid_auto_flow": null,
            "grid_auto_rows": null,
            "grid_column": null,
            "grid_gap": null,
            "grid_row": null,
            "grid_template_areas": null,
            "grid_template_columns": null,
            "grid_template_rows": null,
            "height": null,
            "justify_content": null,
            "justify_items": null,
            "left": null,
            "margin": null,
            "max_height": null,
            "max_width": null,
            "min_height": null,
            "min_width": null,
            "object_fit": null,
            "object_position": null,
            "order": null,
            "overflow": null,
            "overflow_x": null,
            "overflow_y": null,
            "padding": null,
            "right": null,
            "top": null,
            "visibility": null,
            "width": null
          }
        },
        "ec865a97e63f461d93fb536a0562ef54": {
          "model_module": "@jupyter-widgets/controls",
          "model_name": "DescriptionStyleModel",
          "model_module_version": "1.5.0",
          "state": {
            "_model_module": "@jupyter-widgets/controls",
            "_model_module_version": "1.5.0",
            "_model_name": "DescriptionStyleModel",
            "_view_count": null,
            "_view_module": "@jupyter-widgets/base",
            "_view_module_version": "1.2.0",
            "_view_name": "StyleView",
            "description_width": ""
          }
        },
        "b2dc6a2fb2da4189b822f883a6f4677c": {
          "model_module": "@jupyter-widgets/controls",
          "model_name": "HBoxModel",
          "model_module_version": "1.5.0",
          "state": {
            "_dom_classes": [],
            "_model_module": "@jupyter-widgets/controls",
            "_model_module_version": "1.5.0",
            "_model_name": "HBoxModel",
            "_view_count": null,
            "_view_module": "@jupyter-widgets/controls",
            "_view_module_version": "1.5.0",
            "_view_name": "HBoxView",
            "box_style": "",
            "children": [
              "IPY_MODEL_45c3404595f94cf4b2d40b43fd691bc7",
              "IPY_MODEL_536962dbd69e4c63944901ace208099b",
              "IPY_MODEL_e7d0023b29de44d7b8a3d93d2af58c8a"
            ],
            "layout": "IPY_MODEL_c34659aae74b4585af8775e2925d1970"
          }
        },
        "45c3404595f94cf4b2d40b43fd691bc7": {
          "model_module": "@jupyter-widgets/controls",
          "model_name": "HTMLModel",
          "model_module_version": "1.5.0",
          "state": {
            "_dom_classes": [],
            "_model_module": "@jupyter-widgets/controls",
            "_model_module_version": "1.5.0",
            "_model_name": "HTMLModel",
            "_view_count": null,
            "_view_module": "@jupyter-widgets/controls",
            "_view_module_version": "1.5.0",
            "_view_name": "HTMLView",
            "description": "",
            "description_tooltip": null,
            "layout": "IPY_MODEL_478bbaa51f0447c5aaffe2bd929a4379",
            "placeholder": "​",
            "style": "IPY_MODEL_6b1be25955024121bfc1d61a8d625689",
            "value": "pytorch_model.bin: 100%"
          }
        },
        "536962dbd69e4c63944901ace208099b": {
          "model_module": "@jupyter-widgets/controls",
          "model_name": "FloatProgressModel",
          "model_module_version": "1.5.0",
          "state": {
            "_dom_classes": [],
            "_model_module": "@jupyter-widgets/controls",
            "_model_module_version": "1.5.0",
            "_model_name": "FloatProgressModel",
            "_view_count": null,
            "_view_module": "@jupyter-widgets/controls",
            "_view_module_version": "1.5.0",
            "_view_name": "ProgressView",
            "bar_style": "success",
            "description": "",
            "description_tooltip": null,
            "layout": "IPY_MODEL_093cffd186804bb8bca9bbb50b7167be",
            "max": 1113236958,
            "min": 0,
            "orientation": "horizontal",
            "style": "IPY_MODEL_53746164a464483ca98f84ff16c3c6e7",
            "value": 1113236958
          }
        },
        "e7d0023b29de44d7b8a3d93d2af58c8a": {
          "model_module": "@jupyter-widgets/controls",
          "model_name": "HTMLModel",
          "model_module_version": "1.5.0",
          "state": {
            "_dom_classes": [],
            "_model_module": "@jupyter-widgets/controls",
            "_model_module_version": "1.5.0",
            "_model_name": "HTMLModel",
            "_view_count": null,
            "_view_module": "@jupyter-widgets/controls",
            "_view_module_version": "1.5.0",
            "_view_name": "HTMLView",
            "description": "",
            "description_tooltip": null,
            "layout": "IPY_MODEL_d5ca1d862b184928ae51695225f1132b",
            "placeholder": "​",
            "style": "IPY_MODEL_31ab149400184996bdc30dff9c928c25",
            "value": " 1.11G/1.11G [00:14&lt;00:00, 73.9MB/s]"
          }
        },
        "c34659aae74b4585af8775e2925d1970": {
          "model_module": "@jupyter-widgets/base",
          "model_name": "LayoutModel",
          "model_module_version": "1.2.0",
          "state": {
            "_model_module": "@jupyter-widgets/base",
            "_model_module_version": "1.2.0",
            "_model_name": "LayoutModel",
            "_view_count": null,
            "_view_module": "@jupyter-widgets/base",
            "_view_module_version": "1.2.0",
            "_view_name": "LayoutView",
            "align_content": null,
            "align_items": null,
            "align_self": null,
            "border": null,
            "bottom": null,
            "display": null,
            "flex": null,
            "flex_flow": null,
            "grid_area": null,
            "grid_auto_columns": null,
            "grid_auto_flow": null,
            "grid_auto_rows": null,
            "grid_column": null,
            "grid_gap": null,
            "grid_row": null,
            "grid_template_areas": null,
            "grid_template_columns": null,
            "grid_template_rows": null,
            "height": null,
            "justify_content": null,
            "justify_items": null,
            "left": null,
            "margin": null,
            "max_height": null,
            "max_width": null,
            "min_height": null,
            "min_width": null,
            "object_fit": null,
            "object_position": null,
            "order": null,
            "overflow": null,
            "overflow_x": null,
            "overflow_y": null,
            "padding": null,
            "right": null,
            "top": null,
            "visibility": null,
            "width": null
          }
        },
        "478bbaa51f0447c5aaffe2bd929a4379": {
          "model_module": "@jupyter-widgets/base",
          "model_name": "LayoutModel",
          "model_module_version": "1.2.0",
          "state": {
            "_model_module": "@jupyter-widgets/base",
            "_model_module_version": "1.2.0",
            "_model_name": "LayoutModel",
            "_view_count": null,
            "_view_module": "@jupyter-widgets/base",
            "_view_module_version": "1.2.0",
            "_view_name": "LayoutView",
            "align_content": null,
            "align_items": null,
            "align_self": null,
            "border": null,
            "bottom": null,
            "display": null,
            "flex": null,
            "flex_flow": null,
            "grid_area": null,
            "grid_auto_columns": null,
            "grid_auto_flow": null,
            "grid_auto_rows": null,
            "grid_column": null,
            "grid_gap": null,
            "grid_row": null,
            "grid_template_areas": null,
            "grid_template_columns": null,
            "grid_template_rows": null,
            "height": null,
            "justify_content": null,
            "justify_items": null,
            "left": null,
            "margin": null,
            "max_height": null,
            "max_width": null,
            "min_height": null,
            "min_width": null,
            "object_fit": null,
            "object_position": null,
            "order": null,
            "overflow": null,
            "overflow_x": null,
            "overflow_y": null,
            "padding": null,
            "right": null,
            "top": null,
            "visibility": null,
            "width": null
          }
        },
        "6b1be25955024121bfc1d61a8d625689": {
          "model_module": "@jupyter-widgets/controls",
          "model_name": "DescriptionStyleModel",
          "model_module_version": "1.5.0",
          "state": {
            "_model_module": "@jupyter-widgets/controls",
            "_model_module_version": "1.5.0",
            "_model_name": "DescriptionStyleModel",
            "_view_count": null,
            "_view_module": "@jupyter-widgets/base",
            "_view_module_version": "1.2.0",
            "_view_name": "StyleView",
            "description_width": ""
          }
        },
        "093cffd186804bb8bca9bbb50b7167be": {
          "model_module": "@jupyter-widgets/base",
          "model_name": "LayoutModel",
          "model_module_version": "1.2.0",
          "state": {
            "_model_module": "@jupyter-widgets/base",
            "_model_module_version": "1.2.0",
            "_model_name": "LayoutModel",
            "_view_count": null,
            "_view_module": "@jupyter-widgets/base",
            "_view_module_version": "1.2.0",
            "_view_name": "LayoutView",
            "align_content": null,
            "align_items": null,
            "align_self": null,
            "border": null,
            "bottom": null,
            "display": null,
            "flex": null,
            "flex_flow": null,
            "grid_area": null,
            "grid_auto_columns": null,
            "grid_auto_flow": null,
            "grid_auto_rows": null,
            "grid_column": null,
            "grid_gap": null,
            "grid_row": null,
            "grid_template_areas": null,
            "grid_template_columns": null,
            "grid_template_rows": null,
            "height": null,
            "justify_content": null,
            "justify_items": null,
            "left": null,
            "margin": null,
            "max_height": null,
            "max_width": null,
            "min_height": null,
            "min_width": null,
            "object_fit": null,
            "object_position": null,
            "order": null,
            "overflow": null,
            "overflow_x": null,
            "overflow_y": null,
            "padding": null,
            "right": null,
            "top": null,
            "visibility": null,
            "width": null
          }
        },
        "53746164a464483ca98f84ff16c3c6e7": {
          "model_module": "@jupyter-widgets/controls",
          "model_name": "ProgressStyleModel",
          "model_module_version": "1.5.0",
          "state": {
            "_model_module": "@jupyter-widgets/controls",
            "_model_module_version": "1.5.0",
            "_model_name": "ProgressStyleModel",
            "_view_count": null,
            "_view_module": "@jupyter-widgets/base",
            "_view_module_version": "1.2.0",
            "_view_name": "StyleView",
            "bar_color": null,
            "description_width": ""
          }
        },
        "d5ca1d862b184928ae51695225f1132b": {
          "model_module": "@jupyter-widgets/base",
          "model_name": "LayoutModel",
          "model_module_version": "1.2.0",
          "state": {
            "_model_module": "@jupyter-widgets/base",
            "_model_module_version": "1.2.0",
            "_model_name": "LayoutModel",
            "_view_count": null,
            "_view_module": "@jupyter-widgets/base",
            "_view_module_version": "1.2.0",
            "_view_name": "LayoutView",
            "align_content": null,
            "align_items": null,
            "align_self": null,
            "border": null,
            "bottom": null,
            "display": null,
            "flex": null,
            "flex_flow": null,
            "grid_area": null,
            "grid_auto_columns": null,
            "grid_auto_flow": null,
            "grid_auto_rows": null,
            "grid_column": null,
            "grid_gap": null,
            "grid_row": null,
            "grid_template_areas": null,
            "grid_template_columns": null,
            "grid_template_rows": null,
            "height": null,
            "justify_content": null,
            "justify_items": null,
            "left": null,
            "margin": null,
            "max_height": null,
            "max_width": null,
            "min_height": null,
            "min_width": null,
            "object_fit": null,
            "object_position": null,
            "order": null,
            "overflow": null,
            "overflow_x": null,
            "overflow_y": null,
            "padding": null,
            "right": null,
            "top": null,
            "visibility": null,
            "width": null
          }
        },
        "31ab149400184996bdc30dff9c928c25": {
          "model_module": "@jupyter-widgets/controls",
          "model_name": "DescriptionStyleModel",
          "model_module_version": "1.5.0",
          "state": {
            "_model_module": "@jupyter-widgets/controls",
            "_model_module_version": "1.5.0",
            "_model_name": "DescriptionStyleModel",
            "_view_count": null,
            "_view_module": "@jupyter-widgets/base",
            "_view_module_version": "1.2.0",
            "_view_name": "StyleView",
            "description_width": ""
          }
        }
      }
    }
  },
  "nbformat": 4,
  "nbformat_minor": 0
}