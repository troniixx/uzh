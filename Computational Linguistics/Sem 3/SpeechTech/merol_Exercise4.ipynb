{
  "nbformat": 4,
  "nbformat_minor": 0,
  "metadata": {
    "colab": {
      "provenance": []
    },
    "kernelspec": {
      "name": "python3",
      "display_name": "Python 3"
    },
    "language_info": {
      "name": "python"
    },
    "widgets": {
      "application/vnd.jupyter.widget-state+json": {
        "db21fa1d7c1e49699cd0e682a9522ef6": {
          "model_module": "@jupyter-widgets/controls",
          "model_name": "HBoxModel",
          "model_module_version": "1.5.0",
          "state": {
            "_dom_classes": [],
            "_model_module": "@jupyter-widgets/controls",
            "_model_module_version": "1.5.0",
            "_model_name": "HBoxModel",
            "_view_count": null,
            "_view_module": "@jupyter-widgets/controls",
            "_view_module_version": "1.5.0",
            "_view_name": "HBoxView",
            "box_style": "",
            "children": [
              "IPY_MODEL_857fe1f205434fdf9a0460411d05ea25",
              "IPY_MODEL_e94f9cb7355349ef8d44504a51ac250a",
              "IPY_MODEL_e08b48853e4741db86ea8caa3100309a"
            ],
            "layout": "IPY_MODEL_543d54a8be504ee1a2af1ed869e0b40a"
          }
        },
        "857fe1f205434fdf9a0460411d05ea25": {
          "model_module": "@jupyter-widgets/controls",
          "model_name": "HTMLModel",
          "model_module_version": "1.5.0",
          "state": {
            "_dom_classes": [],
            "_model_module": "@jupyter-widgets/controls",
            "_model_module_version": "1.5.0",
            "_model_name": "HTMLModel",
            "_view_count": null,
            "_view_module": "@jupyter-widgets/controls",
            "_view_module_version": "1.5.0",
            "_view_name": "HTMLView",
            "description": "",
            "description_tooltip": null,
            "layout": "IPY_MODEL_f7939e290aec4e98bc8bc2ac14e6bcaf",
            "placeholder": "​",
            "style": "IPY_MODEL_155f06175d5442918ab909018434ffdc",
            "value": "hyperparams.yaml: 100%"
          }
        },
        "e94f9cb7355349ef8d44504a51ac250a": {
          "model_module": "@jupyter-widgets/controls",
          "model_name": "FloatProgressModel",
          "model_module_version": "1.5.0",
          "state": {
            "_dom_classes": [],
            "_model_module": "@jupyter-widgets/controls",
            "_model_module_version": "1.5.0",
            "_model_name": "FloatProgressModel",
            "_view_count": null,
            "_view_module": "@jupyter-widgets/controls",
            "_view_module_version": "1.5.0",
            "_view_name": "ProgressView",
            "bar_style": "success",
            "description": "",
            "description_tooltip": null,
            "layout": "IPY_MODEL_ce06abf6ccd7455c8f6c3d0c2055812a",
            "max": 1920,
            "min": 0,
            "orientation": "horizontal",
            "style": "IPY_MODEL_4b44a0ef1a824e9a807fcc4ddf0197fc",
            "value": 1920
          }
        },
        "e08b48853e4741db86ea8caa3100309a": {
          "model_module": "@jupyter-widgets/controls",
          "model_name": "HTMLModel",
          "model_module_version": "1.5.0",
          "state": {
            "_dom_classes": [],
            "_model_module": "@jupyter-widgets/controls",
            "_model_module_version": "1.5.0",
            "_model_name": "HTMLModel",
            "_view_count": null,
            "_view_module": "@jupyter-widgets/controls",
            "_view_module_version": "1.5.0",
            "_view_name": "HTMLView",
            "description": "",
            "description_tooltip": null,
            "layout": "IPY_MODEL_6dc4ba460d2d4c6e8c5421ad69bd3c34",
            "placeholder": "​",
            "style": "IPY_MODEL_fd4e86fa8fb24b809a9c19a5737d0d24",
            "value": " 1.92k/1.92k [00:00&lt;00:00, 90.5kB/s]"
          }
        },
        "543d54a8be504ee1a2af1ed869e0b40a": {
          "model_module": "@jupyter-widgets/base",
          "model_name": "LayoutModel",
          "model_module_version": "1.2.0",
          "state": {
            "_model_module": "@jupyter-widgets/base",
            "_model_module_version": "1.2.0",
            "_model_name": "LayoutModel",
            "_view_count": null,
            "_view_module": "@jupyter-widgets/base",
            "_view_module_version": "1.2.0",
            "_view_name": "LayoutView",
            "align_content": null,
            "align_items": null,
            "align_self": null,
            "border": null,
            "bottom": null,
            "display": null,
            "flex": null,
            "flex_flow": null,
            "grid_area": null,
            "grid_auto_columns": null,
            "grid_auto_flow": null,
            "grid_auto_rows": null,
            "grid_column": null,
            "grid_gap": null,
            "grid_row": null,
            "grid_template_areas": null,
            "grid_template_columns": null,
            "grid_template_rows": null,
            "height": null,
            "justify_content": null,
            "justify_items": null,
            "left": null,
            "margin": null,
            "max_height": null,
            "max_width": null,
            "min_height": null,
            "min_width": null,
            "object_fit": null,
            "object_position": null,
            "order": null,
            "overflow": null,
            "overflow_x": null,
            "overflow_y": null,
            "padding": null,
            "right": null,
            "top": null,
            "visibility": null,
            "width": null
          }
        },
        "f7939e290aec4e98bc8bc2ac14e6bcaf": {
          "model_module": "@jupyter-widgets/base",
          "model_name": "LayoutModel",
          "model_module_version": "1.2.0",
          "state": {
            "_model_module": "@jupyter-widgets/base",
            "_model_module_version": "1.2.0",
            "_model_name": "LayoutModel",
            "_view_count": null,
            "_view_module": "@jupyter-widgets/base",
            "_view_module_version": "1.2.0",
            "_view_name": "LayoutView",
            "align_content": null,
            "align_items": null,
            "align_self": null,
            "border": null,
            "bottom": null,
            "display": null,
            "flex": null,
            "flex_flow": null,
            "grid_area": null,
            "grid_auto_columns": null,
            "grid_auto_flow": null,
            "grid_auto_rows": null,
            "grid_column": null,
            "grid_gap": null,
            "grid_row": null,
            "grid_template_areas": null,
            "grid_template_columns": null,
            "grid_template_rows": null,
            "height": null,
            "justify_content": null,
            "justify_items": null,
            "left": null,
            "margin": null,
            "max_height": null,
            "max_width": null,
            "min_height": null,
            "min_width": null,
            "object_fit": null,
            "object_position": null,
            "order": null,
            "overflow": null,
            "overflow_x": null,
            "overflow_y": null,
            "padding": null,
            "right": null,
            "top": null,
            "visibility": null,
            "width": null
          }
        },
        "155f06175d5442918ab909018434ffdc": {
          "model_module": "@jupyter-widgets/controls",
          "model_name": "DescriptionStyleModel",
          "model_module_version": "1.5.0",
          "state": {
            "_model_module": "@jupyter-widgets/controls",
            "_model_module_version": "1.5.0",
            "_model_name": "DescriptionStyleModel",
            "_view_count": null,
            "_view_module": "@jupyter-widgets/base",
            "_view_module_version": "1.2.0",
            "_view_name": "StyleView",
            "description_width": ""
          }
        },
        "ce06abf6ccd7455c8f6c3d0c2055812a": {
          "model_module": "@jupyter-widgets/base",
          "model_name": "LayoutModel",
          "model_module_version": "1.2.0",
          "state": {
            "_model_module": "@jupyter-widgets/base",
            "_model_module_version": "1.2.0",
            "_model_name": "LayoutModel",
            "_view_count": null,
            "_view_module": "@jupyter-widgets/base",
            "_view_module_version": "1.2.0",
            "_view_name": "LayoutView",
            "align_content": null,
            "align_items": null,
            "align_self": null,
            "border": null,
            "bottom": null,
            "display": null,
            "flex": null,
            "flex_flow": null,
            "grid_area": null,
            "grid_auto_columns": null,
            "grid_auto_flow": null,
            "grid_auto_rows": null,
            "grid_column": null,
            "grid_gap": null,
            "grid_row": null,
            "grid_template_areas": null,
            "grid_template_columns": null,
            "grid_template_rows": null,
            "height": null,
            "justify_content": null,
            "justify_items": null,
            "left": null,
            "margin": null,
            "max_height": null,
            "max_width": null,
            "min_height": null,
            "min_width": null,
            "object_fit": null,
            "object_position": null,
            "order": null,
            "overflow": null,
            "overflow_x": null,
            "overflow_y": null,
            "padding": null,
            "right": null,
            "top": null,
            "visibility": null,
            "width": null
          }
        },
        "4b44a0ef1a824e9a807fcc4ddf0197fc": {
          "model_module": "@jupyter-widgets/controls",
          "model_name": "ProgressStyleModel",
          "model_module_version": "1.5.0",
          "state": {
            "_model_module": "@jupyter-widgets/controls",
            "_model_module_version": "1.5.0",
            "_model_name": "ProgressStyleModel",
            "_view_count": null,
            "_view_module": "@jupyter-widgets/base",
            "_view_module_version": "1.2.0",
            "_view_name": "StyleView",
            "bar_color": null,
            "description_width": ""
          }
        },
        "6dc4ba460d2d4c6e8c5421ad69bd3c34": {
          "model_module": "@jupyter-widgets/base",
          "model_name": "LayoutModel",
          "model_module_version": "1.2.0",
          "state": {
            "_model_module": "@jupyter-widgets/base",
            "_model_module_version": "1.2.0",
            "_model_name": "LayoutModel",
            "_view_count": null,
            "_view_module": "@jupyter-widgets/base",
            "_view_module_version": "1.2.0",
            "_view_name": "LayoutView",
            "align_content": null,
            "align_items": null,
            "align_self": null,
            "border": null,
            "bottom": null,
            "display": null,
            "flex": null,
            "flex_flow": null,
            "grid_area": null,
            "grid_auto_columns": null,
            "grid_auto_flow": null,
            "grid_auto_rows": null,
            "grid_column": null,
            "grid_gap": null,
            "grid_row": null,
            "grid_template_areas": null,
            "grid_template_columns": null,
            "grid_template_rows": null,
            "height": null,
            "justify_content": null,
            "justify_items": null,
            "left": null,
            "margin": null,
            "max_height": null,
            "max_width": null,
            "min_height": null,
            "min_width": null,
            "object_fit": null,
            "object_position": null,
            "order": null,
            "overflow": null,
            "overflow_x": null,
            "overflow_y": null,
            "padding": null,
            "right": null,
            "top": null,
            "visibility": null,
            "width": null
          }
        },
        "fd4e86fa8fb24b809a9c19a5737d0d24": {
          "model_module": "@jupyter-widgets/controls",
          "model_name": "DescriptionStyleModel",
          "model_module_version": "1.5.0",
          "state": {
            "_model_module": "@jupyter-widgets/controls",
            "_model_module_version": "1.5.0",
            "_model_name": "DescriptionStyleModel",
            "_view_count": null,
            "_view_module": "@jupyter-widgets/base",
            "_view_module_version": "1.2.0",
            "_view_name": "StyleView",
            "description_width": ""
          }
        },
        "39bb69ccbe7e4ffbb40ce1261bebaf39": {
          "model_module": "@jupyter-widgets/controls",
          "model_name": "HBoxModel",
          "model_module_version": "1.5.0",
          "state": {
            "_dom_classes": [],
            "_model_module": "@jupyter-widgets/controls",
            "_model_module_version": "1.5.0",
            "_model_name": "HBoxModel",
            "_view_count": null,
            "_view_module": "@jupyter-widgets/controls",
            "_view_module_version": "1.5.0",
            "_view_name": "HBoxView",
            "box_style": "",
            "children": [
              "IPY_MODEL_11cafea0df3b4970aad6ebc4e54e5f74",
              "IPY_MODEL_2ad4effae5c441d2a280337c6aaa3ad4",
              "IPY_MODEL_40318ed2aee04df09eb66a8bb5ab48ae"
            ],
            "layout": "IPY_MODEL_610e0cc61ac64876bf24254e4a3142fa"
          }
        },
        "11cafea0df3b4970aad6ebc4e54e5f74": {
          "model_module": "@jupyter-widgets/controls",
          "model_name": "HTMLModel",
          "model_module_version": "1.5.0",
          "state": {
            "_dom_classes": [],
            "_model_module": "@jupyter-widgets/controls",
            "_model_module_version": "1.5.0",
            "_model_name": "HTMLModel",
            "_view_count": null,
            "_view_module": "@jupyter-widgets/controls",
            "_view_module_version": "1.5.0",
            "_view_name": "HTMLView",
            "description": "",
            "description_tooltip": null,
            "layout": "IPY_MODEL_8b35e62f3de34e0a9ec5c75f920ec096",
            "placeholder": "​",
            "style": "IPY_MODEL_ee027f6062ee4da78c0014573492171a",
            "value": "embedding_model.ckpt: 100%"
          }
        },
        "2ad4effae5c441d2a280337c6aaa3ad4": {
          "model_module": "@jupyter-widgets/controls",
          "model_name": "FloatProgressModel",
          "model_module_version": "1.5.0",
          "state": {
            "_dom_classes": [],
            "_model_module": "@jupyter-widgets/controls",
            "_model_module_version": "1.5.0",
            "_model_name": "FloatProgressModel",
            "_view_count": null,
            "_view_module": "@jupyter-widgets/controls",
            "_view_module_version": "1.5.0",
            "_view_name": "ProgressView",
            "bar_style": "success",
            "description": "",
            "description_tooltip": null,
            "layout": "IPY_MODEL_caeb312067314384994cd77dc9c365ce",
            "max": 83316686,
            "min": 0,
            "orientation": "horizontal",
            "style": "IPY_MODEL_821e78090b5f400092034a5d23cc6210",
            "value": 83316686
          }
        },
        "40318ed2aee04df09eb66a8bb5ab48ae": {
          "model_module": "@jupyter-widgets/controls",
          "model_name": "HTMLModel",
          "model_module_version": "1.5.0",
          "state": {
            "_dom_classes": [],
            "_model_module": "@jupyter-widgets/controls",
            "_model_module_version": "1.5.0",
            "_model_name": "HTMLModel",
            "_view_count": null,
            "_view_module": "@jupyter-widgets/controls",
            "_view_module_version": "1.5.0",
            "_view_name": "HTMLView",
            "description": "",
            "description_tooltip": null,
            "layout": "IPY_MODEL_9c3301bfeaa84a34b298e74a7722b047",
            "placeholder": "​",
            "style": "IPY_MODEL_7477ad4472d64232995089928ea9088a",
            "value": " 83.3M/83.3M [00:01&lt;00:00, 82.9MB/s]"
          }
        },
        "610e0cc61ac64876bf24254e4a3142fa": {
          "model_module": "@jupyter-widgets/base",
          "model_name": "LayoutModel",
          "model_module_version": "1.2.0",
          "state": {
            "_model_module": "@jupyter-widgets/base",
            "_model_module_version": "1.2.0",
            "_model_name": "LayoutModel",
            "_view_count": null,
            "_view_module": "@jupyter-widgets/base",
            "_view_module_version": "1.2.0",
            "_view_name": "LayoutView",
            "align_content": null,
            "align_items": null,
            "align_self": null,
            "border": null,
            "bottom": null,
            "display": null,
            "flex": null,
            "flex_flow": null,
            "grid_area": null,
            "grid_auto_columns": null,
            "grid_auto_flow": null,
            "grid_auto_rows": null,
            "grid_column": null,
            "grid_gap": null,
            "grid_row": null,
            "grid_template_areas": null,
            "grid_template_columns": null,
            "grid_template_rows": null,
            "height": null,
            "justify_content": null,
            "justify_items": null,
            "left": null,
            "margin": null,
            "max_height": null,
            "max_width": null,
            "min_height": null,
            "min_width": null,
            "object_fit": null,
            "object_position": null,
            "order": null,
            "overflow": null,
            "overflow_x": null,
            "overflow_y": null,
            "padding": null,
            "right": null,
            "top": null,
            "visibility": null,
            "width": null
          }
        },
        "8b35e62f3de34e0a9ec5c75f920ec096": {
          "model_module": "@jupyter-widgets/base",
          "model_name": "LayoutModel",
          "model_module_version": "1.2.0",
          "state": {
            "_model_module": "@jupyter-widgets/base",
            "_model_module_version": "1.2.0",
            "_model_name": "LayoutModel",
            "_view_count": null,
            "_view_module": "@jupyter-widgets/base",
            "_view_module_version": "1.2.0",
            "_view_name": "LayoutView",
            "align_content": null,
            "align_items": null,
            "align_self": null,
            "border": null,
            "bottom": null,
            "display": null,
            "flex": null,
            "flex_flow": null,
            "grid_area": null,
            "grid_auto_columns": null,
            "grid_auto_flow": null,
            "grid_auto_rows": null,
            "grid_column": null,
            "grid_gap": null,
            "grid_row": null,
            "grid_template_areas": null,
            "grid_template_columns": null,
            "grid_template_rows": null,
            "height": null,
            "justify_content": null,
            "justify_items": null,
            "left": null,
            "margin": null,
            "max_height": null,
            "max_width": null,
            "min_height": null,
            "min_width": null,
            "object_fit": null,
            "object_position": null,
            "order": null,
            "overflow": null,
            "overflow_x": null,
            "overflow_y": null,
            "padding": null,
            "right": null,
            "top": null,
            "visibility": null,
            "width": null
          }
        },
        "ee027f6062ee4da78c0014573492171a": {
          "model_module": "@jupyter-widgets/controls",
          "model_name": "DescriptionStyleModel",
          "model_module_version": "1.5.0",
          "state": {
            "_model_module": "@jupyter-widgets/controls",
            "_model_module_version": "1.5.0",
            "_model_name": "DescriptionStyleModel",
            "_view_count": null,
            "_view_module": "@jupyter-widgets/base",
            "_view_module_version": "1.2.0",
            "_view_name": "StyleView",
            "description_width": ""
          }
        },
        "caeb312067314384994cd77dc9c365ce": {
          "model_module": "@jupyter-widgets/base",
          "model_name": "LayoutModel",
          "model_module_version": "1.2.0",
          "state": {
            "_model_module": "@jupyter-widgets/base",
            "_model_module_version": "1.2.0",
            "_model_name": "LayoutModel",
            "_view_count": null,
            "_view_module": "@jupyter-widgets/base",
            "_view_module_version": "1.2.0",
            "_view_name": "LayoutView",
            "align_content": null,
            "align_items": null,
            "align_self": null,
            "border": null,
            "bottom": null,
            "display": null,
            "flex": null,
            "flex_flow": null,
            "grid_area": null,
            "grid_auto_columns": null,
            "grid_auto_flow": null,
            "grid_auto_rows": null,
            "grid_column": null,
            "grid_gap": null,
            "grid_row": null,
            "grid_template_areas": null,
            "grid_template_columns": null,
            "grid_template_rows": null,
            "height": null,
            "justify_content": null,
            "justify_items": null,
            "left": null,
            "margin": null,
            "max_height": null,
            "max_width": null,
            "min_height": null,
            "min_width": null,
            "object_fit": null,
            "object_position": null,
            "order": null,
            "overflow": null,
            "overflow_x": null,
            "overflow_y": null,
            "padding": null,
            "right": null,
            "top": null,
            "visibility": null,
            "width": null
          }
        },
        "821e78090b5f400092034a5d23cc6210": {
          "model_module": "@jupyter-widgets/controls",
          "model_name": "ProgressStyleModel",
          "model_module_version": "1.5.0",
          "state": {
            "_model_module": "@jupyter-widgets/controls",
            "_model_module_version": "1.5.0",
            "_model_name": "ProgressStyleModel",
            "_view_count": null,
            "_view_module": "@jupyter-widgets/base",
            "_view_module_version": "1.2.0",
            "_view_name": "StyleView",
            "bar_color": null,
            "description_width": ""
          }
        },
        "9c3301bfeaa84a34b298e74a7722b047": {
          "model_module": "@jupyter-widgets/base",
          "model_name": "LayoutModel",
          "model_module_version": "1.2.0",
          "state": {
            "_model_module": "@jupyter-widgets/base",
            "_model_module_version": "1.2.0",
            "_model_name": "LayoutModel",
            "_view_count": null,
            "_view_module": "@jupyter-widgets/base",
            "_view_module_version": "1.2.0",
            "_view_name": "LayoutView",
            "align_content": null,
            "align_items": null,
            "align_self": null,
            "border": null,
            "bottom": null,
            "display": null,
            "flex": null,
            "flex_flow": null,
            "grid_area": null,
            "grid_auto_columns": null,
            "grid_auto_flow": null,
            "grid_auto_rows": null,
            "grid_column": null,
            "grid_gap": null,
            "grid_row": null,
            "grid_template_areas": null,
            "grid_template_columns": null,
            "grid_template_rows": null,
            "height": null,
            "justify_content": null,
            "justify_items": null,
            "left": null,
            "margin": null,
            "max_height": null,
            "max_width": null,
            "min_height": null,
            "min_width": null,
            "object_fit": null,
            "object_position": null,
            "order": null,
            "overflow": null,
            "overflow_x": null,
            "overflow_y": null,
            "padding": null,
            "right": null,
            "top": null,
            "visibility": null,
            "width": null
          }
        },
        "7477ad4472d64232995089928ea9088a": {
          "model_module": "@jupyter-widgets/controls",
          "model_name": "DescriptionStyleModel",
          "model_module_version": "1.5.0",
          "state": {
            "_model_module": "@jupyter-widgets/controls",
            "_model_module_version": "1.5.0",
            "_model_name": "DescriptionStyleModel",
            "_view_count": null,
            "_view_module": "@jupyter-widgets/base",
            "_view_module_version": "1.2.0",
            "_view_name": "StyleView",
            "description_width": ""
          }
        },
        "e49725b9b7314947b47290565e3ba73d": {
          "model_module": "@jupyter-widgets/controls",
          "model_name": "HBoxModel",
          "model_module_version": "1.5.0",
          "state": {
            "_dom_classes": [],
            "_model_module": "@jupyter-widgets/controls",
            "_model_module_version": "1.5.0",
            "_model_name": "HBoxModel",
            "_view_count": null,
            "_view_module": "@jupyter-widgets/controls",
            "_view_module_version": "1.5.0",
            "_view_name": "HBoxView",
            "box_style": "",
            "children": [
              "IPY_MODEL_580e3f8a0c8f4f8799ebc5dc6c8eb806",
              "IPY_MODEL_fc5259d061ed47de90787f8df1d717aa",
              "IPY_MODEL_58090f43b7da4d9fa2707fab139022ea"
            ],
            "layout": "IPY_MODEL_ef99c5fa51cc4d19a1c32d472cf1a357"
          }
        },
        "580e3f8a0c8f4f8799ebc5dc6c8eb806": {
          "model_module": "@jupyter-widgets/controls",
          "model_name": "HTMLModel",
          "model_module_version": "1.5.0",
          "state": {
            "_dom_classes": [],
            "_model_module": "@jupyter-widgets/controls",
            "_model_module_version": "1.5.0",
            "_model_name": "HTMLModel",
            "_view_count": null,
            "_view_module": "@jupyter-widgets/controls",
            "_view_module_version": "1.5.0",
            "_view_name": "HTMLView",
            "description": "",
            "description_tooltip": null,
            "layout": "IPY_MODEL_ce83e30825dd44f5af4b4b5326d067ef",
            "placeholder": "​",
            "style": "IPY_MODEL_82e45f6bd4f84103893166973a9adade",
            "value": "mean_var_norm_emb.ckpt: 100%"
          }
        },
        "fc5259d061ed47de90787f8df1d717aa": {
          "model_module": "@jupyter-widgets/controls",
          "model_name": "FloatProgressModel",
          "model_module_version": "1.5.0",
          "state": {
            "_dom_classes": [],
            "_model_module": "@jupyter-widgets/controls",
            "_model_module_version": "1.5.0",
            "_model_name": "FloatProgressModel",
            "_view_count": null,
            "_view_module": "@jupyter-widgets/controls",
            "_view_module_version": "1.5.0",
            "_view_name": "ProgressView",
            "bar_style": "success",
            "description": "",
            "description_tooltip": null,
            "layout": "IPY_MODEL_5011316c6912406ab182b2932138115a",
            "max": 1921,
            "min": 0,
            "orientation": "horizontal",
            "style": "IPY_MODEL_b485ecfa7bf5493287e12256285e97bf",
            "value": 1921
          }
        },
        "58090f43b7da4d9fa2707fab139022ea": {
          "model_module": "@jupyter-widgets/controls",
          "model_name": "HTMLModel",
          "model_module_version": "1.5.0",
          "state": {
            "_dom_classes": [],
            "_model_module": "@jupyter-widgets/controls",
            "_model_module_version": "1.5.0",
            "_model_name": "HTMLModel",
            "_view_count": null,
            "_view_module": "@jupyter-widgets/controls",
            "_view_module_version": "1.5.0",
            "_view_name": "HTMLView",
            "description": "",
            "description_tooltip": null,
            "layout": "IPY_MODEL_dcb4dabf7c614928acd49c74951b14bc",
            "placeholder": "​",
            "style": "IPY_MODEL_c8f4a47aea534cb4979f45487e03d3a3",
            "value": " 1.92k/1.92k [00:00&lt;00:00, 76.7kB/s]"
          }
        },
        "ef99c5fa51cc4d19a1c32d472cf1a357": {
          "model_module": "@jupyter-widgets/base",
          "model_name": "LayoutModel",
          "model_module_version": "1.2.0",
          "state": {
            "_model_module": "@jupyter-widgets/base",
            "_model_module_version": "1.2.0",
            "_model_name": "LayoutModel",
            "_view_count": null,
            "_view_module": "@jupyter-widgets/base",
            "_view_module_version": "1.2.0",
            "_view_name": "LayoutView",
            "align_content": null,
            "align_items": null,
            "align_self": null,
            "border": null,
            "bottom": null,
            "display": null,
            "flex": null,
            "flex_flow": null,
            "grid_area": null,
            "grid_auto_columns": null,
            "grid_auto_flow": null,
            "grid_auto_rows": null,
            "grid_column": null,
            "grid_gap": null,
            "grid_row": null,
            "grid_template_areas": null,
            "grid_template_columns": null,
            "grid_template_rows": null,
            "height": null,
            "justify_content": null,
            "justify_items": null,
            "left": null,
            "margin": null,
            "max_height": null,
            "max_width": null,
            "min_height": null,
            "min_width": null,
            "object_fit": null,
            "object_position": null,
            "order": null,
            "overflow": null,
            "overflow_x": null,
            "overflow_y": null,
            "padding": null,
            "right": null,
            "top": null,
            "visibility": null,
            "width": null
          }
        },
        "ce83e30825dd44f5af4b4b5326d067ef": {
          "model_module": "@jupyter-widgets/base",
          "model_name": "LayoutModel",
          "model_module_version": "1.2.0",
          "state": {
            "_model_module": "@jupyter-widgets/base",
            "_model_module_version": "1.2.0",
            "_model_name": "LayoutModel",
            "_view_count": null,
            "_view_module": "@jupyter-widgets/base",
            "_view_module_version": "1.2.0",
            "_view_name": "LayoutView",
            "align_content": null,
            "align_items": null,
            "align_self": null,
            "border": null,
            "bottom": null,
            "display": null,
            "flex": null,
            "flex_flow": null,
            "grid_area": null,
            "grid_auto_columns": null,
            "grid_auto_flow": null,
            "grid_auto_rows": null,
            "grid_column": null,
            "grid_gap": null,
            "grid_row": null,
            "grid_template_areas": null,
            "grid_template_columns": null,
            "grid_template_rows": null,
            "height": null,
            "justify_content": null,
            "justify_items": null,
            "left": null,
            "margin": null,
            "max_height": null,
            "max_width": null,
            "min_height": null,
            "min_width": null,
            "object_fit": null,
            "object_position": null,
            "order": null,
            "overflow": null,
            "overflow_x": null,
            "overflow_y": null,
            "padding": null,
            "right": null,
            "top": null,
            "visibility": null,
            "width": null
          }
        },
        "82e45f6bd4f84103893166973a9adade": {
          "model_module": "@jupyter-widgets/controls",
          "model_name": "DescriptionStyleModel",
          "model_module_version": "1.5.0",
          "state": {
            "_model_module": "@jupyter-widgets/controls",
            "_model_module_version": "1.5.0",
            "_model_name": "DescriptionStyleModel",
            "_view_count": null,
            "_view_module": "@jupyter-widgets/base",
            "_view_module_version": "1.2.0",
            "_view_name": "StyleView",
            "description_width": ""
          }
        },
        "5011316c6912406ab182b2932138115a": {
          "model_module": "@jupyter-widgets/base",
          "model_name": "LayoutModel",
          "model_module_version": "1.2.0",
          "state": {
            "_model_module": "@jupyter-widgets/base",
            "_model_module_version": "1.2.0",
            "_model_name": "LayoutModel",
            "_view_count": null,
            "_view_module": "@jupyter-widgets/base",
            "_view_module_version": "1.2.0",
            "_view_name": "LayoutView",
            "align_content": null,
            "align_items": null,
            "align_self": null,
            "border": null,
            "bottom": null,
            "display": null,
            "flex": null,
            "flex_flow": null,
            "grid_area": null,
            "grid_auto_columns": null,
            "grid_auto_flow": null,
            "grid_auto_rows": null,
            "grid_column": null,
            "grid_gap": null,
            "grid_row": null,
            "grid_template_areas": null,
            "grid_template_columns": null,
            "grid_template_rows": null,
            "height": null,
            "justify_content": null,
            "justify_items": null,
            "left": null,
            "margin": null,
            "max_height": null,
            "max_width": null,
            "min_height": null,
            "min_width": null,
            "object_fit": null,
            "object_position": null,
            "order": null,
            "overflow": null,
            "overflow_x": null,
            "overflow_y": null,
            "padding": null,
            "right": null,
            "top": null,
            "visibility": null,
            "width": null
          }
        },
        "b485ecfa7bf5493287e12256285e97bf": {
          "model_module": "@jupyter-widgets/controls",
          "model_name": "ProgressStyleModel",
          "model_module_version": "1.5.0",
          "state": {
            "_model_module": "@jupyter-widgets/controls",
            "_model_module_version": "1.5.0",
            "_model_name": "ProgressStyleModel",
            "_view_count": null,
            "_view_module": "@jupyter-widgets/base",
            "_view_module_version": "1.2.0",
            "_view_name": "StyleView",
            "bar_color": null,
            "description_width": ""
          }
        },
        "dcb4dabf7c614928acd49c74951b14bc": {
          "model_module": "@jupyter-widgets/base",
          "model_name": "LayoutModel",
          "model_module_version": "1.2.0",
          "state": {
            "_model_module": "@jupyter-widgets/base",
            "_model_module_version": "1.2.0",
            "_model_name": "LayoutModel",
            "_view_count": null,
            "_view_module": "@jupyter-widgets/base",
            "_view_module_version": "1.2.0",
            "_view_name": "LayoutView",
            "align_content": null,
            "align_items": null,
            "align_self": null,
            "border": null,
            "bottom": null,
            "display": null,
            "flex": null,
            "flex_flow": null,
            "grid_area": null,
            "grid_auto_columns": null,
            "grid_auto_flow": null,
            "grid_auto_rows": null,
            "grid_column": null,
            "grid_gap": null,
            "grid_row": null,
            "grid_template_areas": null,
            "grid_template_columns": null,
            "grid_template_rows": null,
            "height": null,
            "justify_content": null,
            "justify_items": null,
            "left": null,
            "margin": null,
            "max_height": null,
            "max_width": null,
            "min_height": null,
            "min_width": null,
            "object_fit": null,
            "object_position": null,
            "order": null,
            "overflow": null,
            "overflow_x": null,
            "overflow_y": null,
            "padding": null,
            "right": null,
            "top": null,
            "visibility": null,
            "width": null
          }
        },
        "c8f4a47aea534cb4979f45487e03d3a3": {
          "model_module": "@jupyter-widgets/controls",
          "model_name": "DescriptionStyleModel",
          "model_module_version": "1.5.0",
          "state": {
            "_model_module": "@jupyter-widgets/controls",
            "_model_module_version": "1.5.0",
            "_model_name": "DescriptionStyleModel",
            "_view_count": null,
            "_view_module": "@jupyter-widgets/base",
            "_view_module_version": "1.2.0",
            "_view_name": "StyleView",
            "description_width": ""
          }
        },
        "64c4264f39e447cf810e78bc391a1c07": {
          "model_module": "@jupyter-widgets/controls",
          "model_name": "HBoxModel",
          "model_module_version": "1.5.0",
          "state": {
            "_dom_classes": [],
            "_model_module": "@jupyter-widgets/controls",
            "_model_module_version": "1.5.0",
            "_model_name": "HBoxModel",
            "_view_count": null,
            "_view_module": "@jupyter-widgets/controls",
            "_view_module_version": "1.5.0",
            "_view_name": "HBoxView",
            "box_style": "",
            "children": [
              "IPY_MODEL_3f4e85d248d5400b9173da7f4a35fbd3",
              "IPY_MODEL_7c1f91008c2b419eaf534e38edc09a62",
              "IPY_MODEL_f63cbb44d4fe4db9bc2e1b6c67f87cb2"
            ],
            "layout": "IPY_MODEL_0cb460b494634f99b56345d014e05650"
          }
        },
        "3f4e85d248d5400b9173da7f4a35fbd3": {
          "model_module": "@jupyter-widgets/controls",
          "model_name": "HTMLModel",
          "model_module_version": "1.5.0",
          "state": {
            "_dom_classes": [],
            "_model_module": "@jupyter-widgets/controls",
            "_model_module_version": "1.5.0",
            "_model_name": "HTMLModel",
            "_view_count": null,
            "_view_module": "@jupyter-widgets/controls",
            "_view_module_version": "1.5.0",
            "_view_name": "HTMLView",
            "description": "",
            "description_tooltip": null,
            "layout": "IPY_MODEL_08c0dd7db4094ed1b8421a2851a86aa4",
            "placeholder": "​",
            "style": "IPY_MODEL_61ccf907d2ab45ffa0a16864f6b9d186",
            "value": "classifier.ckpt: 100%"
          }
        },
        "7c1f91008c2b419eaf534e38edc09a62": {
          "model_module": "@jupyter-widgets/controls",
          "model_name": "FloatProgressModel",
          "model_module_version": "1.5.0",
          "state": {
            "_dom_classes": [],
            "_model_module": "@jupyter-widgets/controls",
            "_model_module_version": "1.5.0",
            "_model_name": "FloatProgressModel",
            "_view_count": null,
            "_view_module": "@jupyter-widgets/controls",
            "_view_module_version": "1.5.0",
            "_view_name": "ProgressView",
            "bar_style": "success",
            "description": "",
            "description_tooltip": null,
            "layout": "IPY_MODEL_11dddbff51a7478ba0d337bfb1aedcd5",
            "max": 5534328,
            "min": 0,
            "orientation": "horizontal",
            "style": "IPY_MODEL_92960ebd2dc04a7a8b9aef2df58cb725",
            "value": 5534328
          }
        },
        "f63cbb44d4fe4db9bc2e1b6c67f87cb2": {
          "model_module": "@jupyter-widgets/controls",
          "model_name": "HTMLModel",
          "model_module_version": "1.5.0",
          "state": {
            "_dom_classes": [],
            "_model_module": "@jupyter-widgets/controls",
            "_model_module_version": "1.5.0",
            "_model_name": "HTMLModel",
            "_view_count": null,
            "_view_module": "@jupyter-widgets/controls",
            "_view_module_version": "1.5.0",
            "_view_name": "HTMLView",
            "description": "",
            "description_tooltip": null,
            "layout": "IPY_MODEL_4c447269b99140b8b3e0189318e66db0",
            "placeholder": "​",
            "style": "IPY_MODEL_c90057fc84b54fe58a8fab2b731dc4ee",
            "value": " 5.53M/5.53M [00:00&lt;00:00, 14.3MB/s]"
          }
        },
        "0cb460b494634f99b56345d014e05650": {
          "model_module": "@jupyter-widgets/base",
          "model_name": "LayoutModel",
          "model_module_version": "1.2.0",
          "state": {
            "_model_module": "@jupyter-widgets/base",
            "_model_module_version": "1.2.0",
            "_model_name": "LayoutModel",
            "_view_count": null,
            "_view_module": "@jupyter-widgets/base",
            "_view_module_version": "1.2.0",
            "_view_name": "LayoutView",
            "align_content": null,
            "align_items": null,
            "align_self": null,
            "border": null,
            "bottom": null,
            "display": null,
            "flex": null,
            "flex_flow": null,
            "grid_area": null,
            "grid_auto_columns": null,
            "grid_auto_flow": null,
            "grid_auto_rows": null,
            "grid_column": null,
            "grid_gap": null,
            "grid_row": null,
            "grid_template_areas": null,
            "grid_template_columns": null,
            "grid_template_rows": null,
            "height": null,
            "justify_content": null,
            "justify_items": null,
            "left": null,
            "margin": null,
            "max_height": null,
            "max_width": null,
            "min_height": null,
            "min_width": null,
            "object_fit": null,
            "object_position": null,
            "order": null,
            "overflow": null,
            "overflow_x": null,
            "overflow_y": null,
            "padding": null,
            "right": null,
            "top": null,
            "visibility": null,
            "width": null
          }
        },
        "08c0dd7db4094ed1b8421a2851a86aa4": {
          "model_module": "@jupyter-widgets/base",
          "model_name": "LayoutModel",
          "model_module_version": "1.2.0",
          "state": {
            "_model_module": "@jupyter-widgets/base",
            "_model_module_version": "1.2.0",
            "_model_name": "LayoutModel",
            "_view_count": null,
            "_view_module": "@jupyter-widgets/base",
            "_view_module_version": "1.2.0",
            "_view_name": "LayoutView",
            "align_content": null,
            "align_items": null,
            "align_self": null,
            "border": null,
            "bottom": null,
            "display": null,
            "flex": null,
            "flex_flow": null,
            "grid_area": null,
            "grid_auto_columns": null,
            "grid_auto_flow": null,
            "grid_auto_rows": null,
            "grid_column": null,
            "grid_gap": null,
            "grid_row": null,
            "grid_template_areas": null,
            "grid_template_columns": null,
            "grid_template_rows": null,
            "height": null,
            "justify_content": null,
            "justify_items": null,
            "left": null,
            "margin": null,
            "max_height": null,
            "max_width": null,
            "min_height": null,
            "min_width": null,
            "object_fit": null,
            "object_position": null,
            "order": null,
            "overflow": null,
            "overflow_x": null,
            "overflow_y": null,
            "padding": null,
            "right": null,
            "top": null,
            "visibility": null,
            "width": null
          }
        },
        "61ccf907d2ab45ffa0a16864f6b9d186": {
          "model_module": "@jupyter-widgets/controls",
          "model_name": "DescriptionStyleModel",
          "model_module_version": "1.5.0",
          "state": {
            "_model_module": "@jupyter-widgets/controls",
            "_model_module_version": "1.5.0",
            "_model_name": "DescriptionStyleModel",
            "_view_count": null,
            "_view_module": "@jupyter-widgets/base",
            "_view_module_version": "1.2.0",
            "_view_name": "StyleView",
            "description_width": ""
          }
        },
        "11dddbff51a7478ba0d337bfb1aedcd5": {
          "model_module": "@jupyter-widgets/base",
          "model_name": "LayoutModel",
          "model_module_version": "1.2.0",
          "state": {
            "_model_module": "@jupyter-widgets/base",
            "_model_module_version": "1.2.0",
            "_model_name": "LayoutModel",
            "_view_count": null,
            "_view_module": "@jupyter-widgets/base",
            "_view_module_version": "1.2.0",
            "_view_name": "LayoutView",
            "align_content": null,
            "align_items": null,
            "align_self": null,
            "border": null,
            "bottom": null,
            "display": null,
            "flex": null,
            "flex_flow": null,
            "grid_area": null,
            "grid_auto_columns": null,
            "grid_auto_flow": null,
            "grid_auto_rows": null,
            "grid_column": null,
            "grid_gap": null,
            "grid_row": null,
            "grid_template_areas": null,
            "grid_template_columns": null,
            "grid_template_rows": null,
            "height": null,
            "justify_content": null,
            "justify_items": null,
            "left": null,
            "margin": null,
            "max_height": null,
            "max_width": null,
            "min_height": null,
            "min_width": null,
            "object_fit": null,
            "object_position": null,
            "order": null,
            "overflow": null,
            "overflow_x": null,
            "overflow_y": null,
            "padding": null,
            "right": null,
            "top": null,
            "visibility": null,
            "width": null
          }
        },
        "92960ebd2dc04a7a8b9aef2df58cb725": {
          "model_module": "@jupyter-widgets/controls",
          "model_name": "ProgressStyleModel",
          "model_module_version": "1.5.0",
          "state": {
            "_model_module": "@jupyter-widgets/controls",
            "_model_module_version": "1.5.0",
            "_model_name": "ProgressStyleModel",
            "_view_count": null,
            "_view_module": "@jupyter-widgets/base",
            "_view_module_version": "1.2.0",
            "_view_name": "StyleView",
            "bar_color": null,
            "description_width": ""
          }
        },
        "4c447269b99140b8b3e0189318e66db0": {
          "model_module": "@jupyter-widgets/base",
          "model_name": "LayoutModel",
          "model_module_version": "1.2.0",
          "state": {
            "_model_module": "@jupyter-widgets/base",
            "_model_module_version": "1.2.0",
            "_model_name": "LayoutModel",
            "_view_count": null,
            "_view_module": "@jupyter-widgets/base",
            "_view_module_version": "1.2.0",
            "_view_name": "LayoutView",
            "align_content": null,
            "align_items": null,
            "align_self": null,
            "border": null,
            "bottom": null,
            "display": null,
            "flex": null,
            "flex_flow": null,
            "grid_area": null,
            "grid_auto_columns": null,
            "grid_auto_flow": null,
            "grid_auto_rows": null,
            "grid_column": null,
            "grid_gap": null,
            "grid_row": null,
            "grid_template_areas": null,
            "grid_template_columns": null,
            "grid_template_rows": null,
            "height": null,
            "justify_content": null,
            "justify_items": null,
            "left": null,
            "margin": null,
            "max_height": null,
            "max_width": null,
            "min_height": null,
            "min_width": null,
            "object_fit": null,
            "object_position": null,
            "order": null,
            "overflow": null,
            "overflow_x": null,
            "overflow_y": null,
            "padding": null,
            "right": null,
            "top": null,
            "visibility": null,
            "width": null
          }
        },
        "c90057fc84b54fe58a8fab2b731dc4ee": {
          "model_module": "@jupyter-widgets/controls",
          "model_name": "DescriptionStyleModel",
          "model_module_version": "1.5.0",
          "state": {
            "_model_module": "@jupyter-widgets/controls",
            "_model_module_version": "1.5.0",
            "_model_name": "DescriptionStyleModel",
            "_view_count": null,
            "_view_module": "@jupyter-widgets/base",
            "_view_module_version": "1.2.0",
            "_view_name": "StyleView",
            "description_width": ""
          }
        },
        "07fbb1aa4d654f9abba3bf43d02adb92": {
          "model_module": "@jupyter-widgets/controls",
          "model_name": "HBoxModel",
          "model_module_version": "1.5.0",
          "state": {
            "_dom_classes": [],
            "_model_module": "@jupyter-widgets/controls",
            "_model_module_version": "1.5.0",
            "_model_name": "HBoxModel",
            "_view_count": null,
            "_view_module": "@jupyter-widgets/controls",
            "_view_module_version": "1.5.0",
            "_view_name": "HBoxView",
            "box_style": "",
            "children": [
              "IPY_MODEL_b8cbc166933e409794e4a126a93e1f53",
              "IPY_MODEL_3795ffb6d77c4dc3bb990ebc61a27041",
              "IPY_MODEL_71755b4ab0e44f088238b4d12ccb25c4"
            ],
            "layout": "IPY_MODEL_418c6a29f8954d00ba30ab5b7176334b"
          }
        },
        "b8cbc166933e409794e4a126a93e1f53": {
          "model_module": "@jupyter-widgets/controls",
          "model_name": "HTMLModel",
          "model_module_version": "1.5.0",
          "state": {
            "_dom_classes": [],
            "_model_module": "@jupyter-widgets/controls",
            "_model_module_version": "1.5.0",
            "_model_name": "HTMLModel",
            "_view_count": null,
            "_view_module": "@jupyter-widgets/controls",
            "_view_module_version": "1.5.0",
            "_view_name": "HTMLView",
            "description": "",
            "description_tooltip": null,
            "layout": "IPY_MODEL_282b8641aa624781833f45dd38614f93",
            "placeholder": "​",
            "style": "IPY_MODEL_f00379eea79c46e087ab99719b87f657",
            "value": "label_encoder.txt: 100%"
          }
        },
        "3795ffb6d77c4dc3bb990ebc61a27041": {
          "model_module": "@jupyter-widgets/controls",
          "model_name": "FloatProgressModel",
          "model_module_version": "1.5.0",
          "state": {
            "_dom_classes": [],
            "_model_module": "@jupyter-widgets/controls",
            "_model_module_version": "1.5.0",
            "_model_name": "FloatProgressModel",
            "_view_count": null,
            "_view_module": "@jupyter-widgets/controls",
            "_view_module_version": "1.5.0",
            "_view_name": "ProgressView",
            "bar_style": "success",
            "description": "",
            "description_tooltip": null,
            "layout": "IPY_MODEL_d1454c76f9c445b0b2c95d9d6af881ef",
            "max": 128619,
            "min": 0,
            "orientation": "horizontal",
            "style": "IPY_MODEL_d8c44f27b776431b8595ae6dc8d67c10",
            "value": 128619
          }
        },
        "71755b4ab0e44f088238b4d12ccb25c4": {
          "model_module": "@jupyter-widgets/controls",
          "model_name": "HTMLModel",
          "model_module_version": "1.5.0",
          "state": {
            "_dom_classes": [],
            "_model_module": "@jupyter-widgets/controls",
            "_model_module_version": "1.5.0",
            "_model_name": "HTMLModel",
            "_view_count": null,
            "_view_module": "@jupyter-widgets/controls",
            "_view_module_version": "1.5.0",
            "_view_name": "HTMLView",
            "description": "",
            "description_tooltip": null,
            "layout": "IPY_MODEL_5d90d2106a794badaf87b2b58bfc275e",
            "placeholder": "​",
            "style": "IPY_MODEL_e5c96f87431a4055b9e60571c1231d2a",
            "value": " 129k/129k [00:00&lt;00:00, 379kB/s]"
          }
        },
        "418c6a29f8954d00ba30ab5b7176334b": {
          "model_module": "@jupyter-widgets/base",
          "model_name": "LayoutModel",
          "model_module_version": "1.2.0",
          "state": {
            "_model_module": "@jupyter-widgets/base",
            "_model_module_version": "1.2.0",
            "_model_name": "LayoutModel",
            "_view_count": null,
            "_view_module": "@jupyter-widgets/base",
            "_view_module_version": "1.2.0",
            "_view_name": "LayoutView",
            "align_content": null,
            "align_items": null,
            "align_self": null,
            "border": null,
            "bottom": null,
            "display": null,
            "flex": null,
            "flex_flow": null,
            "grid_area": null,
            "grid_auto_columns": null,
            "grid_auto_flow": null,
            "grid_auto_rows": null,
            "grid_column": null,
            "grid_gap": null,
            "grid_row": null,
            "grid_template_areas": null,
            "grid_template_columns": null,
            "grid_template_rows": null,
            "height": null,
            "justify_content": null,
            "justify_items": null,
            "left": null,
            "margin": null,
            "max_height": null,
            "max_width": null,
            "min_height": null,
            "min_width": null,
            "object_fit": null,
            "object_position": null,
            "order": null,
            "overflow": null,
            "overflow_x": null,
            "overflow_y": null,
            "padding": null,
            "right": null,
            "top": null,
            "visibility": null,
            "width": null
          }
        },
        "282b8641aa624781833f45dd38614f93": {
          "model_module": "@jupyter-widgets/base",
          "model_name": "LayoutModel",
          "model_module_version": "1.2.0",
          "state": {
            "_model_module": "@jupyter-widgets/base",
            "_model_module_version": "1.2.0",
            "_model_name": "LayoutModel",
            "_view_count": null,
            "_view_module": "@jupyter-widgets/base",
            "_view_module_version": "1.2.0",
            "_view_name": "LayoutView",
            "align_content": null,
            "align_items": null,
            "align_self": null,
            "border": null,
            "bottom": null,
            "display": null,
            "flex": null,
            "flex_flow": null,
            "grid_area": null,
            "grid_auto_columns": null,
            "grid_auto_flow": null,
            "grid_auto_rows": null,
            "grid_column": null,
            "grid_gap": null,
            "grid_row": null,
            "grid_template_areas": null,
            "grid_template_columns": null,
            "grid_template_rows": null,
            "height": null,
            "justify_content": null,
            "justify_items": null,
            "left": null,
            "margin": null,
            "max_height": null,
            "max_width": null,
            "min_height": null,
            "min_width": null,
            "object_fit": null,
            "object_position": null,
            "order": null,
            "overflow": null,
            "overflow_x": null,
            "overflow_y": null,
            "padding": null,
            "right": null,
            "top": null,
            "visibility": null,
            "width": null
          }
        },
        "f00379eea79c46e087ab99719b87f657": {
          "model_module": "@jupyter-widgets/controls",
          "model_name": "DescriptionStyleModel",
          "model_module_version": "1.5.0",
          "state": {
            "_model_module": "@jupyter-widgets/controls",
            "_model_module_version": "1.5.0",
            "_model_name": "DescriptionStyleModel",
            "_view_count": null,
            "_view_module": "@jupyter-widgets/base",
            "_view_module_version": "1.2.0",
            "_view_name": "StyleView",
            "description_width": ""
          }
        },
        "d1454c76f9c445b0b2c95d9d6af881ef": {
          "model_module": "@jupyter-widgets/base",
          "model_name": "LayoutModel",
          "model_module_version": "1.2.0",
          "state": {
            "_model_module": "@jupyter-widgets/base",
            "_model_module_version": "1.2.0",
            "_model_name": "LayoutModel",
            "_view_count": null,
            "_view_module": "@jupyter-widgets/base",
            "_view_module_version": "1.2.0",
            "_view_name": "LayoutView",
            "align_content": null,
            "align_items": null,
            "align_self": null,
            "border": null,
            "bottom": null,
            "display": null,
            "flex": null,
            "flex_flow": null,
            "grid_area": null,
            "grid_auto_columns": null,
            "grid_auto_flow": null,
            "grid_auto_rows": null,
            "grid_column": null,
            "grid_gap": null,
            "grid_row": null,
            "grid_template_areas": null,
            "grid_template_columns": null,
            "grid_template_rows": null,
            "height": null,
            "justify_content": null,
            "justify_items": null,
            "left": null,
            "margin": null,
            "max_height": null,
            "max_width": null,
            "min_height": null,
            "min_width": null,
            "object_fit": null,
            "object_position": null,
            "order": null,
            "overflow": null,
            "overflow_x": null,
            "overflow_y": null,
            "padding": null,
            "right": null,
            "top": null,
            "visibility": null,
            "width": null
          }
        },
        "d8c44f27b776431b8595ae6dc8d67c10": {
          "model_module": "@jupyter-widgets/controls",
          "model_name": "ProgressStyleModel",
          "model_module_version": "1.5.0",
          "state": {
            "_model_module": "@jupyter-widgets/controls",
            "_model_module_version": "1.5.0",
            "_model_name": "ProgressStyleModel",
            "_view_count": null,
            "_view_module": "@jupyter-widgets/base",
            "_view_module_version": "1.2.0",
            "_view_name": "StyleView",
            "bar_color": null,
            "description_width": ""
          }
        },
        "5d90d2106a794badaf87b2b58bfc275e": {
          "model_module": "@jupyter-widgets/base",
          "model_name": "LayoutModel",
          "model_module_version": "1.2.0",
          "state": {
            "_model_module": "@jupyter-widgets/base",
            "_model_module_version": "1.2.0",
            "_model_name": "LayoutModel",
            "_view_count": null,
            "_view_module": "@jupyter-widgets/base",
            "_view_module_version": "1.2.0",
            "_view_name": "LayoutView",
            "align_content": null,
            "align_items": null,
            "align_self": null,
            "border": null,
            "bottom": null,
            "display": null,
            "flex": null,
            "flex_flow": null,
            "grid_area": null,
            "grid_auto_columns": null,
            "grid_auto_flow": null,
            "grid_auto_rows": null,
            "grid_column": null,
            "grid_gap": null,
            "grid_row": null,
            "grid_template_areas": null,
            "grid_template_columns": null,
            "grid_template_rows": null,
            "height": null,
            "justify_content": null,
            "justify_items": null,
            "left": null,
            "margin": null,
            "max_height": null,
            "max_width": null,
            "min_height": null,
            "min_width": null,
            "object_fit": null,
            "object_position": null,
            "order": null,
            "overflow": null,
            "overflow_x": null,
            "overflow_y": null,
            "padding": null,
            "right": null,
            "top": null,
            "visibility": null,
            "width": null
          }
        },
        "e5c96f87431a4055b9e60571c1231d2a": {
          "model_module": "@jupyter-widgets/controls",
          "model_name": "DescriptionStyleModel",
          "model_module_version": "1.5.0",
          "state": {
            "_model_module": "@jupyter-widgets/controls",
            "_model_module_version": "1.5.0",
            "_model_name": "DescriptionStyleModel",
            "_view_count": null,
            "_view_module": "@jupyter-widgets/base",
            "_view_module_version": "1.2.0",
            "_view_name": "StyleView",
            "description_width": ""
          }
        }
      }
    }
  },
  "cells": [
    {
      "cell_type": "markdown",
      "source": [
        "## Exercise 4\n",
        "\n",
        "## Instructions\n",
        "\n",
        "- Make sure you have uploaded the audio files to Google Drive if you use colab.\n",
        "- Please read the markdown sections, and code comments carefully before answering.\n",
        "- You are required to treat ``...`` as incomplete code, which you are required to complete.\n",
        "- Each incomplete region marked by ``...`` can be completed with a maximum of 4 statements (4 lines of code in Python). But more elaborate code will not be penalized.\n",
        "- You may refer to the slides and reference material, but may not use AI code completion or to answer Q&A !!!\n",
        "- Run all code cells in the notebook even if it does not require any answer from your part.\n",
        "- The point for each section or sub-section is given in square brackets. E.g [15 pt] means 15 points.\n",
        "- Pay attention to Q. & A. questions. The markdown-python cell separation is not always obvious.\n",
        "- **ATTENTION**: There are many places where the path of the audio file needs to be fixed by you.\n",
        "- Submit the PDF or ipynb that includes all output\n",
        "- If you are working in groups please mention both your names at the top.\n",
        "- Do not discuss your results with others outside the group."
      ],
      "metadata": {
        "id": "wilJjVgcCMUp"
      }
    },
    {
      "cell_type": "code",
      "execution_count": null,
      "metadata": {
        "id": "576FT8xZCIcz",
        "colab": {
          "base_uri": "https://localhost:8080/"
        },
        "outputId": "3057726f-e27d-4888-9261-c9cab186513e"
      },
      "outputs": [
        {
          "output_type": "stream",
          "name": "stdout",
          "text": [
            "Mounted at /content/drive\n"
          ]
        }
      ],
      "source": [
        "# mount google drive\n",
        "from google.colab import drive\n",
        "drive.mount('/content/drive')"
      ]
    },
    {
      "cell_type": "code",
      "source": [
        "from pathlib import Path\n",
        "from os import listdir\n",
        "ex_files = Path(\"/content/drive/MyDrive/exercise_4\")\n",
        "listdir(ex_files)"
      ],
      "metadata": {
        "id": "pRvm-3csCOa6",
        "colab": {
          "base_uri": "https://localhost:8080/"
        },
        "outputId": "e2f10caf-81b0-4975-dda2-d249c1c58360"
      },
      "execution_count": null,
      "outputs": [
        {
          "output_type": "execute_result",
          "data": {
            "text/plain": [
              "['test_files_target_only',\n",
              " 'test_files',\n",
              " 'train_files_speaker',\n",
              " 'test',\n",
              " 'train',\n",
              " 'feats']"
            ]
          },
          "metadata": {},
          "execution_count": 2
        }
      ]
    },
    {
      "cell_type": "code",
      "source": [
        "import torch\n",
        "import numpy as np\n",
        "import torch.nn.functional as F\n",
        "from collections import defaultdict\n",
        "\n",
        "torch.set_warn_always(False)"
      ],
      "metadata": {
        "id": "QboPgcK1CVDR"
      },
      "execution_count": null,
      "outputs": []
    },
    {
      "cell_type": "code",
      "source": [
        "! pip install librosa"
      ],
      "metadata": {
        "id": "-JIJopqv16Fa",
        "colab": {
          "base_uri": "https://localhost:8080/"
        },
        "outputId": "51959975-d79e-49b0-c7ad-5bcb59318cd3"
      },
      "execution_count": null,
      "outputs": [
        {
          "output_type": "stream",
          "name": "stdout",
          "text": [
            "Requirement already satisfied: librosa in /usr/local/lib/python3.10/dist-packages (0.10.2.post1)\n",
            "Requirement already satisfied: audioread>=2.1.9 in /usr/local/lib/python3.10/dist-packages (from librosa) (3.0.1)\n",
            "Requirement already satisfied: numpy!=1.22.0,!=1.22.1,!=1.22.2,>=1.20.3 in /usr/local/lib/python3.10/dist-packages (from librosa) (1.26.4)\n",
            "Requirement already satisfied: scipy>=1.2.0 in /usr/local/lib/python3.10/dist-packages (from librosa) (1.13.1)\n",
            "Requirement already satisfied: scikit-learn>=0.20.0 in /usr/local/lib/python3.10/dist-packages (from librosa) (1.5.2)\n",
            "Requirement already satisfied: joblib>=0.14 in /usr/local/lib/python3.10/dist-packages (from librosa) (1.4.2)\n",
            "Requirement already satisfied: decorator>=4.3.0 in /usr/local/lib/python3.10/dist-packages (from librosa) (4.4.2)\n",
            "Requirement already satisfied: numba>=0.51.0 in /usr/local/lib/python3.10/dist-packages (from librosa) (0.60.0)\n",
            "Requirement already satisfied: soundfile>=0.12.1 in /usr/local/lib/python3.10/dist-packages (from librosa) (0.12.1)\n",
            "Requirement already satisfied: pooch>=1.1 in /usr/local/lib/python3.10/dist-packages (from librosa) (1.8.2)\n",
            "Requirement already satisfied: soxr>=0.3.2 in /usr/local/lib/python3.10/dist-packages (from librosa) (0.5.0.post1)\n",
            "Requirement already satisfied: typing-extensions>=4.1.1 in /usr/local/lib/python3.10/dist-packages (from librosa) (4.12.2)\n",
            "Requirement already satisfied: lazy-loader>=0.1 in /usr/local/lib/python3.10/dist-packages (from librosa) (0.4)\n",
            "Requirement already satisfied: msgpack>=1.0 in /usr/local/lib/python3.10/dist-packages (from librosa) (1.1.0)\n",
            "Requirement already satisfied: packaging in /usr/local/lib/python3.10/dist-packages (from lazy-loader>=0.1->librosa) (24.2)\n",
            "Requirement already satisfied: llvmlite<0.44,>=0.43.0dev0 in /usr/local/lib/python3.10/dist-packages (from numba>=0.51.0->librosa) (0.43.0)\n",
            "Requirement already satisfied: platformdirs>=2.5.0 in /usr/local/lib/python3.10/dist-packages (from pooch>=1.1->librosa) (4.3.6)\n",
            "Requirement already satisfied: requests>=2.19.0 in /usr/local/lib/python3.10/dist-packages (from pooch>=1.1->librosa) (2.32.3)\n",
            "Requirement already satisfied: threadpoolctl>=3.1.0 in /usr/local/lib/python3.10/dist-packages (from scikit-learn>=0.20.0->librosa) (3.5.0)\n",
            "Requirement already satisfied: cffi>=1.0 in /usr/local/lib/python3.10/dist-packages (from soundfile>=0.12.1->librosa) (1.17.1)\n",
            "Requirement already satisfied: pycparser in /usr/local/lib/python3.10/dist-packages (from cffi>=1.0->soundfile>=0.12.1->librosa) (2.22)\n",
            "Requirement already satisfied: charset-normalizer<4,>=2 in /usr/local/lib/python3.10/dist-packages (from requests>=2.19.0->pooch>=1.1->librosa) (3.4.0)\n",
            "Requirement already satisfied: idna<4,>=2.5 in /usr/local/lib/python3.10/dist-packages (from requests>=2.19.0->pooch>=1.1->librosa) (3.10)\n",
            "Requirement already satisfied: urllib3<3,>=1.21.1 in /usr/local/lib/python3.10/dist-packages (from requests>=2.19.0->pooch>=1.1->librosa) (2.2.3)\n",
            "Requirement already satisfied: certifi>=2017.4.17 in /usr/local/lib/python3.10/dist-packages (from requests>=2.19.0->pooch>=1.1->librosa) (2024.8.30)\n"
          ]
        }
      ]
    },
    {
      "cell_type": "markdown",
      "source": [
        "## 1. Evaluation of speaker verification systems\n",
        "\n"
      ],
      "metadata": {
        "id": "-1wB1XWtCR4m"
      }
    },
    {
      "cell_type": "code",
      "source": [
        "# @title Library function - RUN it, but DO NOT MODIFY\n",
        "# Copyright of original code belongs to NIST (author: Omid Sadjadi)\n",
        "# WARNING: This code should not be distributed beyond the scope of this exercise.\n",
        "\n",
        "def compute_pmiss_pfa_rbst(scores, labels, weights=None):\n",
        "    \"\"\" Computes false positive rate (FPR) and false negative rate (FNR)\n",
        "    given trial socres and their labels. A weights option is also provided\n",
        "    to equalize the counts over score partitions (if there is such\n",
        "    partitioning).\n",
        "\n",
        "    Args:\n",
        "        scores: array of all LLR scores (len=S)\n",
        "        labels: array of {0,1} with 1 denoting target match (len=S)\n",
        "        weights: array of scalar: {0.0 .. 1.0} (len=S)\n",
        "\n",
        "    Returns:\n",
        "        fnr, fpr: tuple of array of fnr/fpr curves (len=S)\n",
        "    \"\"\"\n",
        "    sorted_ndx = np.argsort(scores)\n",
        "    labels = labels[sorted_ndx]\n",
        "    if weights is not None:\n",
        "        weights = weights[sorted_ndx]\n",
        "    else:\n",
        "        weights = np.ones((labels.shape), dtype='f8')\n",
        "\n",
        "    tgt_wghts = weights * (labels == 1).astype('f8')\n",
        "    imp_wghts = weights * (labels == 0).astype('f8')\n",
        "\n",
        "    fnr = np.cumsum(tgt_wghts) / np.sum(tgt_wghts)\n",
        "    fpr = 1 - np.cumsum(imp_wghts) / np.sum(imp_wghts)\n",
        "    return fnr, fpr\n",
        "\n",
        "\n",
        "def compute_eer(scores, labels):\n",
        "    \"\"\" Computes the equal error rate (EER) scores and labels.\n",
        "        for a range of operating points on the DET curve\n",
        "\n",
        "    Args:\n",
        "        scores: numpy array of scores\n",
        "        labels: numpy array of 0s and 1s, one for each value in score. 1 = target, 0 = nontarget\n",
        "\n",
        "    Returns:\n",
        "        eer: scalar\n",
        "    \"\"\"\n",
        "    fnr, fpr = compute_pmiss_pfa_rbst(scores, labels)\n",
        "\n",
        "    diff_pm_fa = fnr - fpr\n",
        "    x1 = np.flatnonzero(diff_pm_fa >= 0)[0]\n",
        "    x2 = np.flatnonzero(diff_pm_fa < 0)[-1]\n",
        "    a = (fnr[x1] - fpr[x1]) / (fpr[x2] - fpr[x1] - (fnr[x2] - fnr[x1]))\n",
        "    return fnr[x1] + a * (fnr[x2] - fnr[x1])"
      ],
      "metadata": {
        "cellView": "form",
        "id": "nUHggqiXCaXh"
      },
      "execution_count": null,
      "outputs": []
    },
    {
      "cell_type": "markdown",
      "source": [
        "## Infer Equal Error Rate [5 pt]\n",
        "\n",
        "Equal error rate is the error rate at which false-alarm rate and miss rate are equal.\n",
        "\n",
        "1. Look at the DET curve below and estimate the approximate equal error rate from the curve. Explain how you arrived at that number.\n",
        "  - Approximately 2.5%"
      ],
      "metadata": {
        "id": "HbdIGx0PCgP8"
      }
    },
    {
      "cell_type": "markdown",
      "source": [
        "![image.png](data:image/png;base64,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)\n",
        "\n"
      ],
      "metadata": {
        "id": "KQuhXo4vCi0m"
      }
    },
    {
      "cell_type": "markdown",
      "source": [
        "2. Can you infer the threshold used for the speaker verification system to operate at the equal error rate?\n",
        "  - I would guess it would be the same as the EER mentioned above: so for me it is also 2.5%"
      ],
      "metadata": {
        "id": "JTAQTpDSCn61"
      }
    },
    {
      "cell_type": "markdown",
      "source": [
        "## 2. Operating points [5 pt]\n",
        "\n",
        "The equal error rate is one **operating point** of the system. The operating point is the trade-off between false alarm and miss rate of the system."
      ],
      "metadata": {
        "id": "xHiKR-yPCsBT"
      }
    },
    {
      "cell_type": "markdown",
      "source": [
        "1. What happens to the system performance when the operating point is changed?\n",
        "  - The False positive and/or False negative rate might change"
      ],
      "metadata": {
        "id": "Z8ocmc2sCv_K"
      }
    },
    {
      "cell_type": "markdown",
      "source": [
        "2. What are the characteristics of the operating point for a forensic speaker verification application? Reminder: In forensic speaker verification, we have two speakers (1) unknown speaker (the criminal whose identity we wish to uncover), (2) suspect (known speaker) whose identity we know.\n",
        "  - Depending on the context (e.g. high stake case) the characteristics have to be tuned. For example accepting a higher miss rate but making sure there are no false positives\n",
        "  - In a forensic case, we have to make sure that we minimize both error rates\n",
        "  - operating point should be chosen to maximize the discriminatory power between the criminal (unknown speaker) and the suspect (known speaker)"
      ],
      "metadata": {
        "id": "jnf9xe88CygN"
      }
    },
    {
      "cell_type": "markdown",
      "source": [
        "## Section 3\n",
        "\n",
        "**NOTE** For this exercise we will process all audio at 8 kHz.\n",
        "\n",
        "### 3.1 Extract MFCC for all files (5 pt)\n",
        "\n",
        "There are two folder in ex4_files/audios/\n",
        "\n",
        "1. train\n",
        "2. test\n",
        "\n",
        "For each audio file in the audio/ folder, pre-compute the 20 dimensional MFCC features at 20 ms window size, 10 ms shift and store them in ``ex_files``/feats/. Preserve the directory structure (otherwise you will have to modify a lot of code below).\n",
        "\n",
        "For MFCC extraction you may reuse the code from previous exercise."
      ],
      "metadata": {
        "id": "sBw5TZXQC1Is"
      }
    },
    {
      "cell_type": "code",
      "source": [
        "feats_path = ex_files/'feats'  # Modify this path accordingly\n",
        "feats_path.mkdir(exist_ok=True)\n",
        "\n",
        "feats_train_path = feats_path/'train'\n",
        "feats_test_path = feats_path/'test'\n",
        "feats_train_path.mkdir(exist_ok=True)\n",
        "feats_test_path.mkdir(exist_ok=True)\n",
        "\n",
        "listdir(feats_path)"
      ],
      "metadata": {
        "id": "UkR2uN44DDYV",
        "colab": {
          "base_uri": "https://localhost:8080/"
        },
        "outputId": "2ad5e95b-9519-4ab8-c91b-4db0da61121f"
      },
      "execution_count": null,
      "outputs": [
        {
          "output_type": "execute_result",
          "data": {
            "text/plain": [
              "['train', 'test']"
            ]
          },
          "metadata": {},
          "execution_count": 5
        }
      ]
    },
    {
      "cell_type": "code",
      "source": [
        "# ENTER your code here.\n",
        "import os\n",
        "import librosa\n",
        "import torch\n",
        "from pathlib import Path\n",
        "import soundfile as sf\n",
        "\n",
        "def extract_mfcc(audio_file, sr=8000, n_mfcc=20, win_length=0.02, hop_length=0.01):\n",
        "    audio, sr = librosa.load(audio_file, sr=sr)\n",
        "\n",
        "    win_length_samples = int(win_length * sr)\n",
        "    hop_length_samples = int(hop_length * sr)\n",
        "\n",
        "    mfcc = librosa.feature.mfcc(y=audio, sr=sr, n_mfcc=n_mfcc, win_length=win_length_samples, hop_length=hop_length_samples)\n",
        "\n",
        "    return mfcc.T\n",
        "\n",
        "\n",
        "test_folder = ex_files/\"test\"\n",
        "for audio_file in test_folder.rglob(\"*.wav\"):\n",
        "    relative_path = audio_file.relative_to(test_folder)\n",
        "    target_file = feats_test_path / relative_path.with_suffix(\".pt\")\n",
        "\n",
        "    target_file.parent.mkdir(parents=True, exist_ok=True)\n",
        "\n",
        "    try:\n",
        "        mfcc = extract_mfcc(audio_file)\n",
        "        mfcc_tensor = torch.from_numpy(mfcc).float()\n",
        "        torch.save(mfcc_tensor, target_file)\n",
        "    except Exception as e:\n",
        "        print(f\"Error processing {audio_file}: {e}\")\n",
        "\n",
        "# Save MFCC as tensors for train set\n",
        "train_folder = ex_files/\"train\"\n",
        "for audio_file in train_folder.rglob(\"*.wav\"):\n",
        "    relative_path = audio_file.relative_to(train_folder)\n",
        "    target_file = feats_train_path / relative_path.with_suffix(\".pt\")\n",
        "\n",
        "    target_file.parent.mkdir(parents=True, exist_ok=True)\n",
        "\n",
        "    try:\n",
        "        mfcc = extract_mfcc(audio_file)\n",
        "        mfcc_tensor = torch.from_numpy(mfcc).float()\n",
        "        torch.save(mfcc_tensor, target_file)\n",
        "    except Exception as e:\n",
        "        print(f\"Error processing {audio_file}: {e}\")\n",
        "\n",
        "\n",
        "\n"
      ],
      "metadata": {
        "id": "E_4vh8PtCvkh"
      },
      "execution_count": null,
      "outputs": []
    },
    {
      "cell_type": "code",
      "source": [
        "print(listdir(ex_files/'feats'/\"train\"))\n",
        "\n",
        "print(listdir(ex_files/'feats'/\"test\"))"
      ],
      "metadata": {
        "colab": {
          "base_uri": "https://localhost:8080/"
        },
        "id": "BU17eJn7q0pW",
        "outputId": "3c0e1763-3a9a-4df5-b7ee-1739e724f578"
      },
      "execution_count": null,
      "outputs": [
        {
          "output_type": "stream",
          "name": "stdout",
          "text": [
            "['fejen_2.pt', 'ffjmb_1.pt', 'fggft_2.pt', 'ffyep_1.pt', 'faawn_1.pt', 'febwp_1.pt', 'fcavm_1.pt', 'ffapq_2.pt', 'fbgst_1.pt', 'fhplc_1.pt', 'faicw_1.pt', 'faijj_2.pt', 'fakzi_1.pt', 'fhfth_2.pt', 'fdhli_1.pt', 'fexfq_2.pt', 'fhehc_1.pt', 'fgwgq_2.pt', 'fctne_2.pt', 'fcnzb_1.pt', 'fdhlr_2.pt', 'fkybg_2.pt', 'fkbni_2.pt', 'fkxse_2.pt', 'fjgru_2.pt', 'firex_1.pt', 'fjume_1.pt', 'fkffd_2.pt', 'flbde_1.pt', 'flqne_2.pt', 'fmexw_1.pt', 'flvxz_1.pt', 'fitrd_2.pt', 'fjejo_2.pt', 'fldzi_2.pt', 'fkujc_1.pt', 'flkda_1.pt', 'fkvsd_2.pt', 'fmeen_2.pt', 'fnori_2.pt', 'fuegj_2.pt', 'fxzpb_2.pt', 'fntna_1.pt', 'fqerb_1.pt', 'fxhku_1.pt', 'frknb_1.pt', 'foqcd_2.pt', 'fabax_2.pt', 'fmvse_1.pt', 'fzmaa_2.pt', 'fnfwv_2.pt', 'fmjqf_2.pt', 'fzejw_1.pt', 'fygzg_2.pt', 'fpdac_2.pt', 'fqqvt_2.pt', 'fxtty_1.pt', 'fulzs_2.pt', 'fuscd_1.pt', 'fphqz_2.pt', 'fyqem_1.pt', 'fyxsa_1.pt', 'folgy_2.pt', 'fuvlb_1.pt', 'fnfwl_2.pt', 'fziza_1.pt', 'fpiuo_2.pt', 'fstaq_1.pt', 'fanvz_2.pt', 'fbgsv_2.pt', 'fajim_2.pt', 'fboju_2.pt', 'fccef_1.pt', 'fiupd_1.pt', 'fiits_1.pt', 'fgrmg_2.pt', 'fgsyv_1.pt', 'fhdnw_2.pt', 'fiplm_2.pt', 'fgaik_2.pt', 'fitrb_2.pt', 'ficzs_1.pt', 'fcgvm_2.pt', 'fedjv_2.pt', 'fhnai_2.pt', 'feonf_2.pt', 'fhceb_1.pt', 'fepqg_2.pt', 'fejet_2.pt', 'fdtns_2.pt', 'fgmae_2.pt', 'fhrxr_2.pt', 'fiojw_2.pt', 'fixne_1.pt', 'fkqts_1.pt', 'fkbnk_2.pt', 'fjumg_1.pt', 'fkcdw_2.pt', 'flqzl_2.pt', 'fjvez_2.pt', 'flcck_1.pt', 'fmqdk_1.pt', 'fljut_2.pt', 'fkffz_2.pt', 'fjzgw_1.pt', 'flseh_2.pt', 'fkopv_2.pt', 'fmrff_2.pt', 'fjgen_2.pt', 'fjymf_1.pt', 'fkias_2.pt', 'fkujq_1.pt', 'froor_1.pt', 'foasv_2.pt', 'frxoo_2.pt', 'fprwf_2.pt', 'frifg_2.pt', 'fqvxm_2.pt', 'fnmji_2.pt', 'fpdaq_2.pt', 'fmwul_2.pt', 'frkhd_2.pt', 'fqvxk_1.pt', 'fpisd_1.pt', 'frzya_2.pt', 'frjex_2.pt', 'frzya_1.pt', 'fpiup_2.pt', 'fticz_1.pt', 'fttty_1.pt', 'fwtdk_2.pt', 'ftdsi_1.pt', 'ftttk_2.pt', 'ftrvk_2.pt', 'fzpem_1.pt', 'taybr_2.pt', 'fvdzj_2.pt', 'fvxnz_1.pt', 'ftuou_1.pt', 'fzizi_2.pt', 'fstaw_2.pt', 'fsfgr_2.pt', 'ftbmu_2.pt', 'fzyfb_1.pt', 'fyqez_1.pt', 'fyhjw_2.pt', 'tbjpw_2.pt', 'fzpeu_1.pt', 'fwsys_1.pt', 'fttrl_1.pt', 'fwcvb_1.pt', 'fsmsj_2.pt', 'fzgzs_1.pt', 'fxxqq_2.pt', 'fvihf_1.pt', 'fvext_1.pt', 'tpuhk_2.pt', 'tdhks_2.pt', 'tfypc_2.pt', 'tjimp_2.pt', 'tchzm_2.pt', 'tfpei_2.pt', 'tplyw_1.pt', 'tgphg_1.pt', 'tnfsf_1.pt', 'tmfux_2.pt', 'tfype_2.pt', 'thmem_2.pt', 'tixoa_2.pt', 'thntm_2.pt', 'thssm_2.pt', 'tmbns_1.pt', 'tggrg_1.pt', 'tffky_2.pt', 'telen_1.pt', 'tnswf_2.pt', 'timvd_1.pt', 'ttkbp_2.pt', 'trlpm_1.pt', 'tyema_2.pt', 'tyvks_1.pt', 'tqykw_1.pt', 'tukkh_1.pt', 'tymwm_2.pt', 'trnsa_2.pt', 'tqxyx_2.pt', 'tqihc_1.pt', 'tqbmh_2.pt', 'turai_2.pt', 'tzicm_2.pt', 'trsoc_2.pt', 'typua_1.pt', 'trcpd_1.pt', 'trcpd_2.pt', 'ttpnk_1.pt', 'tuiue_2.pt', 'tybbk_1.pt', 'trbmw_2.pt', 'tqihs_1.pt', 'tvsby_2.pt', 'tuohq_1.pt', 'tquly_2.pt', 'twajn_2.pt', 'twfhh_1.pt']\n",
            "['fgzkp_1.pt', 'fabrs_2.pt', 'fhbat_1.pt', 'fhrwt_2.pt', 'fcimo_2.pt', 'farkm_1.pt', 'faide_2.pt', 'fglzl_1.pt', 'fepyy_1.pt', 'fihox_2.pt', 'fjjfp_1.pt', 'fjkel_1.pt', 'flzqk_1.pt', 'fkgfo_2.pt', 'fysnx_2.pt', 'fxtmi_1.pt', 'fpcnl_2.pt', 'fpisb_2.pt', 'fwehu_2.pt', 'foyyd_1.pt', 'ftpny_2.pt', 'fnlen_1.pt', 'fatdp_2.pt', 'faidv_2.pt', 'fhttm_1.pt', 'fgwzv_2.pt', 'fflyv_2.pt', 'fevfg_2.pt', 'fhsjz_2.pt', 'fhitc_1.pt', 'fcvck_2.pt', 'fezfy_1.pt', 'fjejv_1.pt', 'fitrt_2.pt', 'ffcun_1.pt', 'ffldc_1.pt', 'feebs_2.pt', 'fksgh_1.pt', 'fkhxr_1.pt', 'fmeey_2.pt', 'fjker_2.pt', 'fmeei_2.pt', 'fnvsu_1.pt', 'frbbf_1.pt', 'fogjv_1.pt', 'fozji_2.pt', 'frtiy_2.pt', 'fqrfv_2.pt', 'frqsp_2.pt', 'frqsp_1.pt', 'fpsgo_1.pt', 'fpjme_1.pt', 'fpyjt_1.pt', 'frhlh_2.pt', 'ftkfk_2.pt', 'fwwju_2.pt', 'fuwxs_2.pt', 'fxeht_1.pt', 'fwpqq_2.pt', 'fyfir_1.pt', 'fxtmi_2.pt', 'fxxlw_1.pt', 'ftbmn_2.pt', 'ftrzd_1.pt', 'fyxsx_2.pt', 'fthxp_2.pt', 'ftnlh_2.pt']\n"
          ]
        }
      ]
    },
    {
      "cell_type": "markdown",
      "source": [
        "## 3.2 GMM based speaker identification (again)"
      ],
      "metadata": {
        "id": "CW_W1nUGDePC"
      }
    },
    {
      "cell_type": "markdown",
      "source": [
        "### 3.2.1 Listening exercise (5 pt)\n",
        "\n",
        "Listen to some of the audios in the current exercise. Do the same for a random set of audio files used for GMM training in the previous exercise. Describe any noticeable differences in the dataset.\n",
        "  - The random ones i picked out in exercise 4 were much longer in duration than the ones from e.g exercise 3\n",
        "  - Audioquality-wise both seemed to be about the same\n",
        "  - I could listen to all I chose of in exercise 4 but for the ones in exercise 3 google drive wouldnt let me listen to them after a while"
      ],
      "metadata": {
        "id": "BRwHsW6uDiV9"
      }
    },
    {
      "cell_type": "markdown",
      "source": [
        "### 3.2.2 Train GMM for target speakers (10 pt)\n",
        "\n",
        "We now have two text files of relevance to this part of the exercise:\n",
        "\n",
        "1. ``train_files_speaker``: it is a two column file. Column one contains the identity of the speaker. Column two contains the file to be used for enrollment. Note that column one entries are not unique. That is, each speaker may have more than one file for enrollment. Similar to the previous exercise, you will have to combine them to train one GMM.\n",
        "2. ``test_files_target_only``: The list of test files we will be using to evaluate the GMM models. Again, it is a two column file. The first column is the name of the test file to process and the second column is the true id of the speaker."
      ],
      "metadata": {
        "id": "9wGuodeHDnhb"
      }
    },
    {
      "cell_type": "code",
      "source": [
        "from collections import defaultdict\n",
        "\n",
        "spkr2enroll_files = defaultdict(list)  # this variable is to be used during training\n",
        "enroll2spkr_id = {}  # this variable is to be used during evaluation\n",
        "\n",
        "with open(ex_files/'train_files_speaker') as ipf:\n",
        "    for ln in ipf:\n",
        "        lns = ln.strip().split()\n",
        "        spkr2enroll_files[lns[0]].append(lns[1])\n",
        "        enroll2spkr_id[lns[1]] = lns[0]"
      ],
      "metadata": {
        "id": "Wb6RMM85Dt7y"
      },
      "execution_count": null,
      "outputs": []
    },
    {
      "cell_type": "code",
      "source": [
        "test_files = []\n",
        "spkr_id = []\n",
        "test_file2spk_id = {}\n",
        "\n",
        "with open(ex_files/'test_files_target_only') as ipf:\n",
        "    for ln in ipf:\n",
        "        t, s = ln.strip().split()\n",
        "        test_files.append(t)\n",
        "        spkr_id.append(s)\n",
        "        test_file2spk_id[t] = s"
      ],
      "metadata": {
        "id": "AEQMyX48CeLQ"
      },
      "execution_count": null,
      "outputs": []
    },
    {
      "cell_type": "code",
      "source": [
        "from sklearn.mixture import GaussianMixture\n",
        "import os\n",
        "\n",
        "spkr2gmm = {}\n",
        "feats_path = ex_files/\"feats\"/\"train\"\n",
        "\n",
        "for spkr, enroll_files in spkr2enroll_files.items():\n",
        "    all_mfccs = []\n",
        "\n",
        "    # load pre-computed mfccs\n",
        "    for segment in enroll_files:\n",
        "        mfcc_file = os.path.join(feats_path, segment + '.pt')\n",
        "        mfcc_tensor = torch.load(mfcc_file)\n",
        "\n",
        "        mfcc = mfcc_tensor.numpy()\n",
        "        all_mfccs.append(mfcc)\n",
        "    all_mfccs = np.vstack(all_mfccs)\n",
        "\n",
        "    gmm = GaussianMixture(n_components=16)\n",
        "    gmm.fit(all_mfccs)\n",
        "\n",
        "    spkr2gmm[spkr] = gmm\n"
      ],
      "metadata": {
        "id": "buVG42EaD8Xt",
        "colab": {
          "base_uri": "https://localhost:8080/"
        },
        "outputId": "0bca6dbf-ff6b-44cb-a4d3-618f7571f36d"
      },
      "execution_count": null,
      "outputs": [
        {
          "output_type": "stream",
          "name": "stderr",
          "text": [
            "<ipython-input-13-3fd8527bee4b>:13: FutureWarning: You are using `torch.load` with `weights_only=False` (the current default value), which uses the default pickle module implicitly. It is possible to construct malicious pickle data which will execute arbitrary code during unpickling (See https://github.com/pytorch/pytorch/blob/main/SECURITY.md#untrusted-models for more details). In a future release, the default value for `weights_only` will be flipped to `True`. This limits the functions that could be executed during unpickling. Arbitrary objects will no longer be allowed to be loaded via this mode unless they are explicitly allowlisted by the user via `torch.serialization.add_safe_globals`. We recommend you start setting `weights_only=True` for any use case where you don't have full control of the loaded file. Please open an issue on GitHub for any issues related to this experimental feature.\n",
            "  mfcc_tensor = torch.load(mfcc_file)\n",
            "<ipython-input-13-3fd8527bee4b>:13: FutureWarning: You are using `torch.load` with `weights_only=False` (the current default value), which uses the default pickle module implicitly. It is possible to construct malicious pickle data which will execute arbitrary code during unpickling (See https://github.com/pytorch/pytorch/blob/main/SECURITY.md#untrusted-models for more details). In a future release, the default value for `weights_only` will be flipped to `True`. This limits the functions that could be executed during unpickling. Arbitrary objects will no longer be allowed to be loaded via this mode unless they are explicitly allowlisted by the user via `torch.serialization.add_safe_globals`. We recommend you start setting `weights_only=True` for any use case where you don't have full control of the loaded file. Please open an issue on GitHub for any issues related to this experimental feature.\n",
            "  mfcc_tensor = torch.load(mfcc_file)\n",
            "<ipython-input-13-3fd8527bee4b>:13: FutureWarning: You are using `torch.load` with `weights_only=False` (the current default value), which uses the default pickle module implicitly. It is possible to construct malicious pickle data which will execute arbitrary code during unpickling (See https://github.com/pytorch/pytorch/blob/main/SECURITY.md#untrusted-models for more details). In a future release, the default value for `weights_only` will be flipped to `True`. This limits the functions that could be executed during unpickling. Arbitrary objects will no longer be allowed to be loaded via this mode unless they are explicitly allowlisted by the user via `torch.serialization.add_safe_globals`. We recommend you start setting `weights_only=True` for any use case where you don't have full control of the loaded file. Please open an issue on GitHub for any issues related to this experimental feature.\n",
            "  mfcc_tensor = torch.load(mfcc_file)\n",
            "<ipython-input-13-3fd8527bee4b>:13: FutureWarning: You are using `torch.load` with `weights_only=False` (the current default value), which uses the default pickle module implicitly. It is possible to construct malicious pickle data which will execute arbitrary code during unpickling (See https://github.com/pytorch/pytorch/blob/main/SECURITY.md#untrusted-models for more details). In a future release, the default value for `weights_only` will be flipped to `True`. This limits the functions that could be executed during unpickling. Arbitrary objects will no longer be allowed to be loaded via this mode unless they are explicitly allowlisted by the user via `torch.serialization.add_safe_globals`. We recommend you start setting `weights_only=True` for any use case where you don't have full control of the loaded file. Please open an issue on GitHub for any issues related to this experimental feature.\n",
            "  mfcc_tensor = torch.load(mfcc_file)\n",
            "<ipython-input-13-3fd8527bee4b>:13: FutureWarning: You are using `torch.load` with `weights_only=False` (the current default value), which uses the default pickle module implicitly. It is possible to construct malicious pickle data which will execute arbitrary code during unpickling (See https://github.com/pytorch/pytorch/blob/main/SECURITY.md#untrusted-models for more details). In a future release, the default value for `weights_only` will be flipped to `True`. This limits the functions that could be executed during unpickling. Arbitrary objects will no longer be allowed to be loaded via this mode unless they are explicitly allowlisted by the user via `torch.serialization.add_safe_globals`. We recommend you start setting `weights_only=True` for any use case where you don't have full control of the loaded file. Please open an issue on GitHub for any issues related to this experimental feature.\n",
            "  mfcc_tensor = torch.load(mfcc_file)\n",
            "<ipython-input-13-3fd8527bee4b>:13: FutureWarning: You are using `torch.load` with `weights_only=False` (the current default value), which uses the default pickle module implicitly. It is possible to construct malicious pickle data which will execute arbitrary code during unpickling (See https://github.com/pytorch/pytorch/blob/main/SECURITY.md#untrusted-models for more details). In a future release, the default value for `weights_only` will be flipped to `True`. This limits the functions that could be executed during unpickling. Arbitrary objects will no longer be allowed to be loaded via this mode unless they are explicitly allowlisted by the user via `torch.serialization.add_safe_globals`. We recommend you start setting `weights_only=True` for any use case where you don't have full control of the loaded file. Please open an issue on GitHub for any issues related to this experimental feature.\n",
            "  mfcc_tensor = torch.load(mfcc_file)\n",
            "<ipython-input-13-3fd8527bee4b>:13: FutureWarning: You are using `torch.load` with `weights_only=False` (the current default value), which uses the default pickle module implicitly. It is possible to construct malicious pickle data which will execute arbitrary code during unpickling (See https://github.com/pytorch/pytorch/blob/main/SECURITY.md#untrusted-models for more details). In a future release, the default value for `weights_only` will be flipped to `True`. This limits the functions that could be executed during unpickling. Arbitrary objects will no longer be allowed to be loaded via this mode unless they are explicitly allowlisted by the user via `torch.serialization.add_safe_globals`. We recommend you start setting `weights_only=True` for any use case where you don't have full control of the loaded file. Please open an issue on GitHub for any issues related to this experimental feature.\n",
            "  mfcc_tensor = torch.load(mfcc_file)\n",
            "<ipython-input-13-3fd8527bee4b>:13: FutureWarning: You are using `torch.load` with `weights_only=False` (the current default value), which uses the default pickle module implicitly. It is possible to construct malicious pickle data which will execute arbitrary code during unpickling (See https://github.com/pytorch/pytorch/blob/main/SECURITY.md#untrusted-models for more details). In a future release, the default value for `weights_only` will be flipped to `True`. This limits the functions that could be executed during unpickling. Arbitrary objects will no longer be allowed to be loaded via this mode unless they are explicitly allowlisted by the user via `torch.serialization.add_safe_globals`. We recommend you start setting `weights_only=True` for any use case where you don't have full control of the loaded file. Please open an issue on GitHub for any issues related to this experimental feature.\n",
            "  mfcc_tensor = torch.load(mfcc_file)\n",
            "<ipython-input-13-3fd8527bee4b>:13: FutureWarning: You are using `torch.load` with `weights_only=False` (the current default value), which uses the default pickle module implicitly. It is possible to construct malicious pickle data which will execute arbitrary code during unpickling (See https://github.com/pytorch/pytorch/blob/main/SECURITY.md#untrusted-models for more details). In a future release, the default value for `weights_only` will be flipped to `True`. This limits the functions that could be executed during unpickling. Arbitrary objects will no longer be allowed to be loaded via this mode unless they are explicitly allowlisted by the user via `torch.serialization.add_safe_globals`. We recommend you start setting `weights_only=True` for any use case where you don't have full control of the loaded file. Please open an issue on GitHub for any issues related to this experimental feature.\n",
            "  mfcc_tensor = torch.load(mfcc_file)\n",
            "<ipython-input-13-3fd8527bee4b>:13: FutureWarning: You are using `torch.load` with `weights_only=False` (the current default value), which uses the default pickle module implicitly. It is possible to construct malicious pickle data which will execute arbitrary code during unpickling (See https://github.com/pytorch/pytorch/blob/main/SECURITY.md#untrusted-models for more details). In a future release, the default value for `weights_only` will be flipped to `True`. This limits the functions that could be executed during unpickling. Arbitrary objects will no longer be allowed to be loaded via this mode unless they are explicitly allowlisted by the user via `torch.serialization.add_safe_globals`. We recommend you start setting `weights_only=True` for any use case where you don't have full control of the loaded file. Please open an issue on GitHub for any issues related to this experimental feature.\n",
            "  mfcc_tensor = torch.load(mfcc_file)\n",
            "<ipython-input-13-3fd8527bee4b>:13: FutureWarning: You are using `torch.load` with `weights_only=False` (the current default value), which uses the default pickle module implicitly. It is possible to construct malicious pickle data which will execute arbitrary code during unpickling (See https://github.com/pytorch/pytorch/blob/main/SECURITY.md#untrusted-models for more details). In a future release, the default value for `weights_only` will be flipped to `True`. This limits the functions that could be executed during unpickling. Arbitrary objects will no longer be allowed to be loaded via this mode unless they are explicitly allowlisted by the user via `torch.serialization.add_safe_globals`. We recommend you start setting `weights_only=True` for any use case where you don't have full control of the loaded file. Please open an issue on GitHub for any issues related to this experimental feature.\n",
            "  mfcc_tensor = torch.load(mfcc_file)\n",
            "<ipython-input-13-3fd8527bee4b>:13: FutureWarning: You are using `torch.load` with `weights_only=False` (the current default value), which uses the default pickle module implicitly. It is possible to construct malicious pickle data which will execute arbitrary code during unpickling (See https://github.com/pytorch/pytorch/blob/main/SECURITY.md#untrusted-models for more details). In a future release, the default value for `weights_only` will be flipped to `True`. This limits the functions that could be executed during unpickling. Arbitrary objects will no longer be allowed to be loaded via this mode unless they are explicitly allowlisted by the user via `torch.serialization.add_safe_globals`. We recommend you start setting `weights_only=True` for any use case where you don't have full control of the loaded file. Please open an issue on GitHub for any issues related to this experimental feature.\n",
            "  mfcc_tensor = torch.load(mfcc_file)\n",
            "<ipython-input-13-3fd8527bee4b>:13: FutureWarning: You are using `torch.load` with `weights_only=False` (the current default value), which uses the default pickle module implicitly. It is possible to construct malicious pickle data which will execute arbitrary code during unpickling (See https://github.com/pytorch/pytorch/blob/main/SECURITY.md#untrusted-models for more details). In a future release, the default value for `weights_only` will be flipped to `True`. This limits the functions that could be executed during unpickling. Arbitrary objects will no longer be allowed to be loaded via this mode unless they are explicitly allowlisted by the user via `torch.serialization.add_safe_globals`. We recommend you start setting `weights_only=True` for any use case where you don't have full control of the loaded file. Please open an issue on GitHub for any issues related to this experimental feature.\n",
            "  mfcc_tensor = torch.load(mfcc_file)\n",
            "<ipython-input-13-3fd8527bee4b>:13: FutureWarning: You are using `torch.load` with `weights_only=False` (the current default value), which uses the default pickle module implicitly. It is possible to construct malicious pickle data which will execute arbitrary code during unpickling (See https://github.com/pytorch/pytorch/blob/main/SECURITY.md#untrusted-models for more details). In a future release, the default value for `weights_only` will be flipped to `True`. This limits the functions that could be executed during unpickling. Arbitrary objects will no longer be allowed to be loaded via this mode unless they are explicitly allowlisted by the user via `torch.serialization.add_safe_globals`. We recommend you start setting `weights_only=True` for any use case where you don't have full control of the loaded file. Please open an issue on GitHub for any issues related to this experimental feature.\n",
            "  mfcc_tensor = torch.load(mfcc_file)\n",
            "<ipython-input-13-3fd8527bee4b>:13: FutureWarning: You are using `torch.load` with `weights_only=False` (the current default value), which uses the default pickle module implicitly. It is possible to construct malicious pickle data which will execute arbitrary code during unpickling (See https://github.com/pytorch/pytorch/blob/main/SECURITY.md#untrusted-models for more details). In a future release, the default value for `weights_only` will be flipped to `True`. This limits the functions that could be executed during unpickling. Arbitrary objects will no longer be allowed to be loaded via this mode unless they are explicitly allowlisted by the user via `torch.serialization.add_safe_globals`. We recommend you start setting `weights_only=True` for any use case where you don't have full control of the loaded file. Please open an issue on GitHub for any issues related to this experimental feature.\n",
            "  mfcc_tensor = torch.load(mfcc_file)\n",
            "<ipython-input-13-3fd8527bee4b>:13: FutureWarning: You are using `torch.load` with `weights_only=False` (the current default value), which uses the default pickle module implicitly. It is possible to construct malicious pickle data which will execute arbitrary code during unpickling (See https://github.com/pytorch/pytorch/blob/main/SECURITY.md#untrusted-models for more details). In a future release, the default value for `weights_only` will be flipped to `True`. This limits the functions that could be executed during unpickling. Arbitrary objects will no longer be allowed to be loaded via this mode unless they are explicitly allowlisted by the user via `torch.serialization.add_safe_globals`. We recommend you start setting `weights_only=True` for any use case where you don't have full control of the loaded file. Please open an issue on GitHub for any issues related to this experimental feature.\n",
            "  mfcc_tensor = torch.load(mfcc_file)\n",
            "/usr/local/lib/python3.10/dist-packages/sklearn/mixture/_base.py:270: ConvergenceWarning: Best performing initialization did not converge. Try different init parameters, or increase max_iter, tol, or check for degenerate data.\n",
            "  warnings.warn(\n",
            "<ipython-input-13-3fd8527bee4b>:13: FutureWarning: You are using `torch.load` with `weights_only=False` (the current default value), which uses the default pickle module implicitly. It is possible to construct malicious pickle data which will execute arbitrary code during unpickling (See https://github.com/pytorch/pytorch/blob/main/SECURITY.md#untrusted-models for more details). In a future release, the default value for `weights_only` will be flipped to `True`. This limits the functions that could be executed during unpickling. Arbitrary objects will no longer be allowed to be loaded via this mode unless they are explicitly allowlisted by the user via `torch.serialization.add_safe_globals`. We recommend you start setting `weights_only=True` for any use case where you don't have full control of the loaded file. Please open an issue on GitHub for any issues related to this experimental feature.\n",
            "  mfcc_tensor = torch.load(mfcc_file)\n",
            "<ipython-input-13-3fd8527bee4b>:13: FutureWarning: You are using `torch.load` with `weights_only=False` (the current default value), which uses the default pickle module implicitly. It is possible to construct malicious pickle data which will execute arbitrary code during unpickling (See https://github.com/pytorch/pytorch/blob/main/SECURITY.md#untrusted-models for more details). In a future release, the default value for `weights_only` will be flipped to `True`. This limits the functions that could be executed during unpickling. Arbitrary objects will no longer be allowed to be loaded via this mode unless they are explicitly allowlisted by the user via `torch.serialization.add_safe_globals`. We recommend you start setting `weights_only=True` for any use case where you don't have full control of the loaded file. Please open an issue on GitHub for any issues related to this experimental feature.\n",
            "  mfcc_tensor = torch.load(mfcc_file)\n",
            "<ipython-input-13-3fd8527bee4b>:13: FutureWarning: You are using `torch.load` with `weights_only=False` (the current default value), which uses the default pickle module implicitly. It is possible to construct malicious pickle data which will execute arbitrary code during unpickling (See https://github.com/pytorch/pytorch/blob/main/SECURITY.md#untrusted-models for more details). In a future release, the default value for `weights_only` will be flipped to `True`. This limits the functions that could be executed during unpickling. Arbitrary objects will no longer be allowed to be loaded via this mode unless they are explicitly allowlisted by the user via `torch.serialization.add_safe_globals`. We recommend you start setting `weights_only=True` for any use case where you don't have full control of the loaded file. Please open an issue on GitHub for any issues related to this experimental feature.\n",
            "  mfcc_tensor = torch.load(mfcc_file)\n",
            "<ipython-input-13-3fd8527bee4b>:13: FutureWarning: You are using `torch.load` with `weights_only=False` (the current default value), which uses the default pickle module implicitly. It is possible to construct malicious pickle data which will execute arbitrary code during unpickling (See https://github.com/pytorch/pytorch/blob/main/SECURITY.md#untrusted-models for more details). In a future release, the default value for `weights_only` will be flipped to `True`. This limits the functions that could be executed during unpickling. Arbitrary objects will no longer be allowed to be loaded via this mode unless they are explicitly allowlisted by the user via `torch.serialization.add_safe_globals`. We recommend you start setting `weights_only=True` for any use case where you don't have full control of the loaded file. Please open an issue on GitHub for any issues related to this experimental feature.\n",
            "  mfcc_tensor = torch.load(mfcc_file)\n",
            "<ipython-input-13-3fd8527bee4b>:13: FutureWarning: You are using `torch.load` with `weights_only=False` (the current default value), which uses the default pickle module implicitly. It is possible to construct malicious pickle data which will execute arbitrary code during unpickling (See https://github.com/pytorch/pytorch/blob/main/SECURITY.md#untrusted-models for more details). In a future release, the default value for `weights_only` will be flipped to `True`. This limits the functions that could be executed during unpickling. Arbitrary objects will no longer be allowed to be loaded via this mode unless they are explicitly allowlisted by the user via `torch.serialization.add_safe_globals`. We recommend you start setting `weights_only=True` for any use case where you don't have full control of the loaded file. Please open an issue on GitHub for any issues related to this experimental feature.\n",
            "  mfcc_tensor = torch.load(mfcc_file)\n",
            "<ipython-input-13-3fd8527bee4b>:13: FutureWarning: You are using `torch.load` with `weights_only=False` (the current default value), which uses the default pickle module implicitly. It is possible to construct malicious pickle data which will execute arbitrary code during unpickling (See https://github.com/pytorch/pytorch/blob/main/SECURITY.md#untrusted-models for more details). In a future release, the default value for `weights_only` will be flipped to `True`. This limits the functions that could be executed during unpickling. Arbitrary objects will no longer be allowed to be loaded via this mode unless they are explicitly allowlisted by the user via `torch.serialization.add_safe_globals`. We recommend you start setting `weights_only=True` for any use case where you don't have full control of the loaded file. Please open an issue on GitHub for any issues related to this experimental feature.\n",
            "  mfcc_tensor = torch.load(mfcc_file)\n",
            "<ipython-input-13-3fd8527bee4b>:13: FutureWarning: You are using `torch.load` with `weights_only=False` (the current default value), which uses the default pickle module implicitly. It is possible to construct malicious pickle data which will execute arbitrary code during unpickling (See https://github.com/pytorch/pytorch/blob/main/SECURITY.md#untrusted-models for more details). In a future release, the default value for `weights_only` will be flipped to `True`. This limits the functions that could be executed during unpickling. Arbitrary objects will no longer be allowed to be loaded via this mode unless they are explicitly allowlisted by the user via `torch.serialization.add_safe_globals`. We recommend you start setting `weights_only=True` for any use case where you don't have full control of the loaded file. Please open an issue on GitHub for any issues related to this experimental feature.\n",
            "  mfcc_tensor = torch.load(mfcc_file)\n",
            "<ipython-input-13-3fd8527bee4b>:13: FutureWarning: You are using `torch.load` with `weights_only=False` (the current default value), which uses the default pickle module implicitly. It is possible to construct malicious pickle data which will execute arbitrary code during unpickling (See https://github.com/pytorch/pytorch/blob/main/SECURITY.md#untrusted-models for more details). In a future release, the default value for `weights_only` will be flipped to `True`. This limits the functions that could be executed during unpickling. Arbitrary objects will no longer be allowed to be loaded via this mode unless they are explicitly allowlisted by the user via `torch.serialization.add_safe_globals`. We recommend you start setting `weights_only=True` for any use case where you don't have full control of the loaded file. Please open an issue on GitHub for any issues related to this experimental feature.\n",
            "  mfcc_tensor = torch.load(mfcc_file)\n",
            "<ipython-input-13-3fd8527bee4b>:13: FutureWarning: You are using `torch.load` with `weights_only=False` (the current default value), which uses the default pickle module implicitly. It is possible to construct malicious pickle data which will execute arbitrary code during unpickling (See https://github.com/pytorch/pytorch/blob/main/SECURITY.md#untrusted-models for more details). In a future release, the default value for `weights_only` will be flipped to `True`. This limits the functions that could be executed during unpickling. Arbitrary objects will no longer be allowed to be loaded via this mode unless they are explicitly allowlisted by the user via `torch.serialization.add_safe_globals`. We recommend you start setting `weights_only=True` for any use case where you don't have full control of the loaded file. Please open an issue on GitHub for any issues related to this experimental feature.\n",
            "  mfcc_tensor = torch.load(mfcc_file)\n",
            "<ipython-input-13-3fd8527bee4b>:13: FutureWarning: You are using `torch.load` with `weights_only=False` (the current default value), which uses the default pickle module implicitly. It is possible to construct malicious pickle data which will execute arbitrary code during unpickling (See https://github.com/pytorch/pytorch/blob/main/SECURITY.md#untrusted-models for more details). In a future release, the default value for `weights_only` will be flipped to `True`. This limits the functions that could be executed during unpickling. Arbitrary objects will no longer be allowed to be loaded via this mode unless they are explicitly allowlisted by the user via `torch.serialization.add_safe_globals`. We recommend you start setting `weights_only=True` for any use case where you don't have full control of the loaded file. Please open an issue on GitHub for any issues related to this experimental feature.\n",
            "  mfcc_tensor = torch.load(mfcc_file)\n",
            "<ipython-input-13-3fd8527bee4b>:13: FutureWarning: You are using `torch.load` with `weights_only=False` (the current default value), which uses the default pickle module implicitly. It is possible to construct malicious pickle data which will execute arbitrary code during unpickling (See https://github.com/pytorch/pytorch/blob/main/SECURITY.md#untrusted-models for more details). In a future release, the default value for `weights_only` will be flipped to `True`. This limits the functions that could be executed during unpickling. Arbitrary objects will no longer be allowed to be loaded via this mode unless they are explicitly allowlisted by the user via `torch.serialization.add_safe_globals`. We recommend you start setting `weights_only=True` for any use case where you don't have full control of the loaded file. Please open an issue on GitHub for any issues related to this experimental feature.\n",
            "  mfcc_tensor = torch.load(mfcc_file)\n",
            "<ipython-input-13-3fd8527bee4b>:13: FutureWarning: You are using `torch.load` with `weights_only=False` (the current default value), which uses the default pickle module implicitly. It is possible to construct malicious pickle data which will execute arbitrary code during unpickling (See https://github.com/pytorch/pytorch/blob/main/SECURITY.md#untrusted-models for more details). In a future release, the default value for `weights_only` will be flipped to `True`. This limits the functions that could be executed during unpickling. Arbitrary objects will no longer be allowed to be loaded via this mode unless they are explicitly allowlisted by the user via `torch.serialization.add_safe_globals`. We recommend you start setting `weights_only=True` for any use case where you don't have full control of the loaded file. Please open an issue on GitHub for any issues related to this experimental feature.\n",
            "  mfcc_tensor = torch.load(mfcc_file)\n",
            "<ipython-input-13-3fd8527bee4b>:13: FutureWarning: You are using `torch.load` with `weights_only=False` (the current default value), which uses the default pickle module implicitly. It is possible to construct malicious pickle data which will execute arbitrary code during unpickling (See https://github.com/pytorch/pytorch/blob/main/SECURITY.md#untrusted-models for more details). In a future release, the default value for `weights_only` will be flipped to `True`. This limits the functions that could be executed during unpickling. Arbitrary objects will no longer be allowed to be loaded via this mode unless they are explicitly allowlisted by the user via `torch.serialization.add_safe_globals`. We recommend you start setting `weights_only=True` for any use case where you don't have full control of the loaded file. Please open an issue on GitHub for any issues related to this experimental feature.\n",
            "  mfcc_tensor = torch.load(mfcc_file)\n",
            "<ipython-input-13-3fd8527bee4b>:13: FutureWarning: You are using `torch.load` with `weights_only=False` (the current default value), which uses the default pickle module implicitly. It is possible to construct malicious pickle data which will execute arbitrary code during unpickling (See https://github.com/pytorch/pytorch/blob/main/SECURITY.md#untrusted-models for more details). In a future release, the default value for `weights_only` will be flipped to `True`. This limits the functions that could be executed during unpickling. Arbitrary objects will no longer be allowed to be loaded via this mode unless they are explicitly allowlisted by the user via `torch.serialization.add_safe_globals`. We recommend you start setting `weights_only=True` for any use case where you don't have full control of the loaded file. Please open an issue on GitHub for any issues related to this experimental feature.\n",
            "  mfcc_tensor = torch.load(mfcc_file)\n",
            "<ipython-input-13-3fd8527bee4b>:13: FutureWarning: You are using `torch.load` with `weights_only=False` (the current default value), which uses the default pickle module implicitly. It is possible to construct malicious pickle data which will execute arbitrary code during unpickling (See https://github.com/pytorch/pytorch/blob/main/SECURITY.md#untrusted-models for more details). In a future release, the default value for `weights_only` will be flipped to `True`. This limits the functions that could be executed during unpickling. Arbitrary objects will no longer be allowed to be loaded via this mode unless they are explicitly allowlisted by the user via `torch.serialization.add_safe_globals`. We recommend you start setting `weights_only=True` for any use case where you don't have full control of the loaded file. Please open an issue on GitHub for any issues related to this experimental feature.\n",
            "  mfcc_tensor = torch.load(mfcc_file)\n",
            "<ipython-input-13-3fd8527bee4b>:13: FutureWarning: You are using `torch.load` with `weights_only=False` (the current default value), which uses the default pickle module implicitly. It is possible to construct malicious pickle data which will execute arbitrary code during unpickling (See https://github.com/pytorch/pytorch/blob/main/SECURITY.md#untrusted-models for more details). In a future release, the default value for `weights_only` will be flipped to `True`. This limits the functions that could be executed during unpickling. Arbitrary objects will no longer be allowed to be loaded via this mode unless they are explicitly allowlisted by the user via `torch.serialization.add_safe_globals`. We recommend you start setting `weights_only=True` for any use case where you don't have full control of the loaded file. Please open an issue on GitHub for any issues related to this experimental feature.\n",
            "  mfcc_tensor = torch.load(mfcc_file)\n",
            "<ipython-input-13-3fd8527bee4b>:13: FutureWarning: You are using `torch.load` with `weights_only=False` (the current default value), which uses the default pickle module implicitly. It is possible to construct malicious pickle data which will execute arbitrary code during unpickling (See https://github.com/pytorch/pytorch/blob/main/SECURITY.md#untrusted-models for more details). In a future release, the default value for `weights_only` will be flipped to `True`. This limits the functions that could be executed during unpickling. Arbitrary objects will no longer be allowed to be loaded via this mode unless they are explicitly allowlisted by the user via `torch.serialization.add_safe_globals`. We recommend you start setting `weights_only=True` for any use case where you don't have full control of the loaded file. Please open an issue on GitHub for any issues related to this experimental feature.\n",
            "  mfcc_tensor = torch.load(mfcc_file)\n",
            "<ipython-input-13-3fd8527bee4b>:13: FutureWarning: You are using `torch.load` with `weights_only=False` (the current default value), which uses the default pickle module implicitly. It is possible to construct malicious pickle data which will execute arbitrary code during unpickling (See https://github.com/pytorch/pytorch/blob/main/SECURITY.md#untrusted-models for more details). In a future release, the default value for `weights_only` will be flipped to `True`. This limits the functions that could be executed during unpickling. Arbitrary objects will no longer be allowed to be loaded via this mode unless they are explicitly allowlisted by the user via `torch.serialization.add_safe_globals`. We recommend you start setting `weights_only=True` for any use case where you don't have full control of the loaded file. Please open an issue on GitHub for any issues related to this experimental feature.\n",
            "  mfcc_tensor = torch.load(mfcc_file)\n",
            "<ipython-input-13-3fd8527bee4b>:13: FutureWarning: You are using `torch.load` with `weights_only=False` (the current default value), which uses the default pickle module implicitly. It is possible to construct malicious pickle data which will execute arbitrary code during unpickling (See https://github.com/pytorch/pytorch/blob/main/SECURITY.md#untrusted-models for more details). In a future release, the default value for `weights_only` will be flipped to `True`. This limits the functions that could be executed during unpickling. Arbitrary objects will no longer be allowed to be loaded via this mode unless they are explicitly allowlisted by the user via `torch.serialization.add_safe_globals`. We recommend you start setting `weights_only=True` for any use case where you don't have full control of the loaded file. Please open an issue on GitHub for any issues related to this experimental feature.\n",
            "  mfcc_tensor = torch.load(mfcc_file)\n",
            "<ipython-input-13-3fd8527bee4b>:13: FutureWarning: You are using `torch.load` with `weights_only=False` (the current default value), which uses the default pickle module implicitly. It is possible to construct malicious pickle data which will execute arbitrary code during unpickling (See https://github.com/pytorch/pytorch/blob/main/SECURITY.md#untrusted-models for more details). In a future release, the default value for `weights_only` will be flipped to `True`. This limits the functions that could be executed during unpickling. Arbitrary objects will no longer be allowed to be loaded via this mode unless they are explicitly allowlisted by the user via `torch.serialization.add_safe_globals`. We recommend you start setting `weights_only=True` for any use case where you don't have full control of the loaded file. Please open an issue on GitHub for any issues related to this experimental feature.\n",
            "  mfcc_tensor = torch.load(mfcc_file)\n",
            "<ipython-input-13-3fd8527bee4b>:13: FutureWarning: You are using `torch.load` with `weights_only=False` (the current default value), which uses the default pickle module implicitly. It is possible to construct malicious pickle data which will execute arbitrary code during unpickling (See https://github.com/pytorch/pytorch/blob/main/SECURITY.md#untrusted-models for more details). In a future release, the default value for `weights_only` will be flipped to `True`. This limits the functions that could be executed during unpickling. Arbitrary objects will no longer be allowed to be loaded via this mode unless they are explicitly allowlisted by the user via `torch.serialization.add_safe_globals`. We recommend you start setting `weights_only=True` for any use case where you don't have full control of the loaded file. Please open an issue on GitHub for any issues related to this experimental feature.\n",
            "  mfcc_tensor = torch.load(mfcc_file)\n",
            "<ipython-input-13-3fd8527bee4b>:13: FutureWarning: You are using `torch.load` with `weights_only=False` (the current default value), which uses the default pickle module implicitly. It is possible to construct malicious pickle data which will execute arbitrary code during unpickling (See https://github.com/pytorch/pytorch/blob/main/SECURITY.md#untrusted-models for more details). In a future release, the default value for `weights_only` will be flipped to `True`. This limits the functions that could be executed during unpickling. Arbitrary objects will no longer be allowed to be loaded via this mode unless they are explicitly allowlisted by the user via `torch.serialization.add_safe_globals`. We recommend you start setting `weights_only=True` for any use case where you don't have full control of the loaded file. Please open an issue on GitHub for any issues related to this experimental feature.\n",
            "  mfcc_tensor = torch.load(mfcc_file)\n",
            "<ipython-input-13-3fd8527bee4b>:13: FutureWarning: You are using `torch.load` with `weights_only=False` (the current default value), which uses the default pickle module implicitly. It is possible to construct malicious pickle data which will execute arbitrary code during unpickling (See https://github.com/pytorch/pytorch/blob/main/SECURITY.md#untrusted-models for more details). In a future release, the default value for `weights_only` will be flipped to `True`. This limits the functions that could be executed during unpickling. Arbitrary objects will no longer be allowed to be loaded via this mode unless they are explicitly allowlisted by the user via `torch.serialization.add_safe_globals`. We recommend you start setting `weights_only=True` for any use case where you don't have full control of the loaded file. Please open an issue on GitHub for any issues related to this experimental feature.\n",
            "  mfcc_tensor = torch.load(mfcc_file)\n",
            "<ipython-input-13-3fd8527bee4b>:13: FutureWarning: You are using `torch.load` with `weights_only=False` (the current default value), which uses the default pickle module implicitly. It is possible to construct malicious pickle data which will execute arbitrary code during unpickling (See https://github.com/pytorch/pytorch/blob/main/SECURITY.md#untrusted-models for more details). In a future release, the default value for `weights_only` will be flipped to `True`. This limits the functions that could be executed during unpickling. Arbitrary objects will no longer be allowed to be loaded via this mode unless they are explicitly allowlisted by the user via `torch.serialization.add_safe_globals`. We recommend you start setting `weights_only=True` for any use case where you don't have full control of the loaded file. Please open an issue on GitHub for any issues related to this experimental feature.\n",
            "  mfcc_tensor = torch.load(mfcc_file)\n",
            "<ipython-input-13-3fd8527bee4b>:13: FutureWarning: You are using `torch.load` with `weights_only=False` (the current default value), which uses the default pickle module implicitly. It is possible to construct malicious pickle data which will execute arbitrary code during unpickling (See https://github.com/pytorch/pytorch/blob/main/SECURITY.md#untrusted-models for more details). In a future release, the default value for `weights_only` will be flipped to `True`. This limits the functions that could be executed during unpickling. Arbitrary objects will no longer be allowed to be loaded via this mode unless they are explicitly allowlisted by the user via `torch.serialization.add_safe_globals`. We recommend you start setting `weights_only=True` for any use case where you don't have full control of the loaded file. Please open an issue on GitHub for any issues related to this experimental feature.\n",
            "  mfcc_tensor = torch.load(mfcc_file)\n",
            "<ipython-input-13-3fd8527bee4b>:13: FutureWarning: You are using `torch.load` with `weights_only=False` (the current default value), which uses the default pickle module implicitly. It is possible to construct malicious pickle data which will execute arbitrary code during unpickling (See https://github.com/pytorch/pytorch/blob/main/SECURITY.md#untrusted-models for more details). In a future release, the default value for `weights_only` will be flipped to `True`. This limits the functions that could be executed during unpickling. Arbitrary objects will no longer be allowed to be loaded via this mode unless they are explicitly allowlisted by the user via `torch.serialization.add_safe_globals`. We recommend you start setting `weights_only=True` for any use case where you don't have full control of the loaded file. Please open an issue on GitHub for any issues related to this experimental feature.\n",
            "  mfcc_tensor = torch.load(mfcc_file)\n",
            "<ipython-input-13-3fd8527bee4b>:13: FutureWarning: You are using `torch.load` with `weights_only=False` (the current default value), which uses the default pickle module implicitly. It is possible to construct malicious pickle data which will execute arbitrary code during unpickling (See https://github.com/pytorch/pytorch/blob/main/SECURITY.md#untrusted-models for more details). In a future release, the default value for `weights_only` will be flipped to `True`. This limits the functions that could be executed during unpickling. Arbitrary objects will no longer be allowed to be loaded via this mode unless they are explicitly allowlisted by the user via `torch.serialization.add_safe_globals`. We recommend you start setting `weights_only=True` for any use case where you don't have full control of the loaded file. Please open an issue on GitHub for any issues related to this experimental feature.\n",
            "  mfcc_tensor = torch.load(mfcc_file)\n",
            "<ipython-input-13-3fd8527bee4b>:13: FutureWarning: You are using `torch.load` with `weights_only=False` (the current default value), which uses the default pickle module implicitly. It is possible to construct malicious pickle data which will execute arbitrary code during unpickling (See https://github.com/pytorch/pytorch/blob/main/SECURITY.md#untrusted-models for more details). In a future release, the default value for `weights_only` will be flipped to `True`. This limits the functions that could be executed during unpickling. Arbitrary objects will no longer be allowed to be loaded via this mode unless they are explicitly allowlisted by the user via `torch.serialization.add_safe_globals`. We recommend you start setting `weights_only=True` for any use case where you don't have full control of the loaded file. Please open an issue on GitHub for any issues related to this experimental feature.\n",
            "  mfcc_tensor = torch.load(mfcc_file)\n"
          ]
        }
      ]
    },
    {
      "cell_type": "code",
      "source": [
        "# For each test file, calculate the log-likelihood of the test file given each speaker's GMM\n",
        "feats_path_test = ex_files / \"feats\" / \"test\"\n",
        "\n",
        "n_correct = 0\n",
        "total = len(test_files)\n",
        "for test_file, test_spkr in zip(test_files, spkr_id):\n",
        "    test_mfcc_file = os.path.join(feats_path_test, test_file + '.pt')\n",
        "    test_mfcc_tensor = torch.load(test_mfcc_file)\n",
        "    test_mfcc = test_mfcc_tensor.numpy()\n",
        "\n",
        "    scores, labels = [], []\n",
        "    for spkr, gmm in spkr2gmm.items():\n",
        "        score = gmm.score(test_mfcc)\n",
        "        scores.append(score)\n",
        "\n",
        "        labels.append(0 if spkr != test_spkr else 1)\n",
        "\n",
        "    n_correct += labels[np.argmax(scores)]\n",
        "\n",
        "print(\"Accuracy: {:.2f}%\".format(n_correct * 100.0 / total))"
      ],
      "metadata": {
        "id": "GCbwGLkREKde",
        "colab": {
          "base_uri": "https://localhost:8080/"
        },
        "outputId": "509ac1fe-cd9e-4a41-b2ff-eca8ab0160ee"
      },
      "execution_count": null,
      "outputs": [
        {
          "output_type": "stream",
          "name": "stderr",
          "text": [
            "<ipython-input-17-4267f06e7c16>:8: FutureWarning: You are using `torch.load` with `weights_only=False` (the current default value), which uses the default pickle module implicitly. It is possible to construct malicious pickle data which will execute arbitrary code during unpickling (See https://github.com/pytorch/pytorch/blob/main/SECURITY.md#untrusted-models for more details). In a future release, the default value for `weights_only` will be flipped to `True`. This limits the functions that could be executed during unpickling. Arbitrary objects will no longer be allowed to be loaded via this mode unless they are explicitly allowlisted by the user via `torch.serialization.add_safe_globals`. We recommend you start setting `weights_only=True` for any use case where you don't have full control of the loaded file. Please open an issue on GitHub for any issues related to this experimental feature.\n",
            "  test_mfcc_tensor = torch.load(test_mfcc_file)\n",
            "<ipython-input-17-4267f06e7c16>:8: FutureWarning: You are using `torch.load` with `weights_only=False` (the current default value), which uses the default pickle module implicitly. It is possible to construct malicious pickle data which will execute arbitrary code during unpickling (See https://github.com/pytorch/pytorch/blob/main/SECURITY.md#untrusted-models for more details). In a future release, the default value for `weights_only` will be flipped to `True`. This limits the functions that could be executed during unpickling. Arbitrary objects will no longer be allowed to be loaded via this mode unless they are explicitly allowlisted by the user via `torch.serialization.add_safe_globals`. We recommend you start setting `weights_only=True` for any use case where you don't have full control of the loaded file. Please open an issue on GitHub for any issues related to this experimental feature.\n",
            "  test_mfcc_tensor = torch.load(test_mfcc_file)\n",
            "<ipython-input-17-4267f06e7c16>:8: FutureWarning: You are using `torch.load` with `weights_only=False` (the current default value), which uses the default pickle module implicitly. It is possible to construct malicious pickle data which will execute arbitrary code during unpickling (See https://github.com/pytorch/pytorch/blob/main/SECURITY.md#untrusted-models for more details). In a future release, the default value for `weights_only` will be flipped to `True`. This limits the functions that could be executed during unpickling. Arbitrary objects will no longer be allowed to be loaded via this mode unless they are explicitly allowlisted by the user via `torch.serialization.add_safe_globals`. We recommend you start setting `weights_only=True` for any use case where you don't have full control of the loaded file. Please open an issue on GitHub for any issues related to this experimental feature.\n",
            "  test_mfcc_tensor = torch.load(test_mfcc_file)\n",
            "<ipython-input-17-4267f06e7c16>:8: FutureWarning: You are using `torch.load` with `weights_only=False` (the current default value), which uses the default pickle module implicitly. It is possible to construct malicious pickle data which will execute arbitrary code during unpickling (See https://github.com/pytorch/pytorch/blob/main/SECURITY.md#untrusted-models for more details). In a future release, the default value for `weights_only` will be flipped to `True`. This limits the functions that could be executed during unpickling. Arbitrary objects will no longer be allowed to be loaded via this mode unless they are explicitly allowlisted by the user via `torch.serialization.add_safe_globals`. We recommend you start setting `weights_only=True` for any use case where you don't have full control of the loaded file. Please open an issue on GitHub for any issues related to this experimental feature.\n",
            "  test_mfcc_tensor = torch.load(test_mfcc_file)\n",
            "<ipython-input-17-4267f06e7c16>:8: FutureWarning: You are using `torch.load` with `weights_only=False` (the current default value), which uses the default pickle module implicitly. It is possible to construct malicious pickle data which will execute arbitrary code during unpickling (See https://github.com/pytorch/pytorch/blob/main/SECURITY.md#untrusted-models for more details). In a future release, the default value for `weights_only` will be flipped to `True`. This limits the functions that could be executed during unpickling. Arbitrary objects will no longer be allowed to be loaded via this mode unless they are explicitly allowlisted by the user via `torch.serialization.add_safe_globals`. We recommend you start setting `weights_only=True` for any use case where you don't have full control of the loaded file. Please open an issue on GitHub for any issues related to this experimental feature.\n",
            "  test_mfcc_tensor = torch.load(test_mfcc_file)\n",
            "<ipython-input-17-4267f06e7c16>:8: FutureWarning: You are using `torch.load` with `weights_only=False` (the current default value), which uses the default pickle module implicitly. It is possible to construct malicious pickle data which will execute arbitrary code during unpickling (See https://github.com/pytorch/pytorch/blob/main/SECURITY.md#untrusted-models for more details). In a future release, the default value for `weights_only` will be flipped to `True`. This limits the functions that could be executed during unpickling. Arbitrary objects will no longer be allowed to be loaded via this mode unless they are explicitly allowlisted by the user via `torch.serialization.add_safe_globals`. We recommend you start setting `weights_only=True` for any use case where you don't have full control of the loaded file. Please open an issue on GitHub for any issues related to this experimental feature.\n",
            "  test_mfcc_tensor = torch.load(test_mfcc_file)\n",
            "<ipython-input-17-4267f06e7c16>:8: FutureWarning: You are using `torch.load` with `weights_only=False` (the current default value), which uses the default pickle module implicitly. It is possible to construct malicious pickle data which will execute arbitrary code during unpickling (See https://github.com/pytorch/pytorch/blob/main/SECURITY.md#untrusted-models for more details). In a future release, the default value for `weights_only` will be flipped to `True`. This limits the functions that could be executed during unpickling. Arbitrary objects will no longer be allowed to be loaded via this mode unless they are explicitly allowlisted by the user via `torch.serialization.add_safe_globals`. We recommend you start setting `weights_only=True` for any use case where you don't have full control of the loaded file. Please open an issue on GitHub for any issues related to this experimental feature.\n",
            "  test_mfcc_tensor = torch.load(test_mfcc_file)\n",
            "<ipython-input-17-4267f06e7c16>:8: FutureWarning: You are using `torch.load` with `weights_only=False` (the current default value), which uses the default pickle module implicitly. It is possible to construct malicious pickle data which will execute arbitrary code during unpickling (See https://github.com/pytorch/pytorch/blob/main/SECURITY.md#untrusted-models for more details). In a future release, the default value for `weights_only` will be flipped to `True`. This limits the functions that could be executed during unpickling. Arbitrary objects will no longer be allowed to be loaded via this mode unless they are explicitly allowlisted by the user via `torch.serialization.add_safe_globals`. We recommend you start setting `weights_only=True` for any use case where you don't have full control of the loaded file. Please open an issue on GitHub for any issues related to this experimental feature.\n",
            "  test_mfcc_tensor = torch.load(test_mfcc_file)\n",
            "<ipython-input-17-4267f06e7c16>:8: FutureWarning: You are using `torch.load` with `weights_only=False` (the current default value), which uses the default pickle module implicitly. It is possible to construct malicious pickle data which will execute arbitrary code during unpickling (See https://github.com/pytorch/pytorch/blob/main/SECURITY.md#untrusted-models for more details). In a future release, the default value for `weights_only` will be flipped to `True`. This limits the functions that could be executed during unpickling. Arbitrary objects will no longer be allowed to be loaded via this mode unless they are explicitly allowlisted by the user via `torch.serialization.add_safe_globals`. We recommend you start setting `weights_only=True` for any use case where you don't have full control of the loaded file. Please open an issue on GitHub for any issues related to this experimental feature.\n",
            "  test_mfcc_tensor = torch.load(test_mfcc_file)\n",
            "<ipython-input-17-4267f06e7c16>:8: FutureWarning: You are using `torch.load` with `weights_only=False` (the current default value), which uses the default pickle module implicitly. It is possible to construct malicious pickle data which will execute arbitrary code during unpickling (See https://github.com/pytorch/pytorch/blob/main/SECURITY.md#untrusted-models for more details). In a future release, the default value for `weights_only` will be flipped to `True`. This limits the functions that could be executed during unpickling. Arbitrary objects will no longer be allowed to be loaded via this mode unless they are explicitly allowlisted by the user via `torch.serialization.add_safe_globals`. We recommend you start setting `weights_only=True` for any use case where you don't have full control of the loaded file. Please open an issue on GitHub for any issues related to this experimental feature.\n",
            "  test_mfcc_tensor = torch.load(test_mfcc_file)\n",
            "<ipython-input-17-4267f06e7c16>:8: FutureWarning: You are using `torch.load` with `weights_only=False` (the current default value), which uses the default pickle module implicitly. It is possible to construct malicious pickle data which will execute arbitrary code during unpickling (See https://github.com/pytorch/pytorch/blob/main/SECURITY.md#untrusted-models for more details). In a future release, the default value for `weights_only` will be flipped to `True`. This limits the functions that could be executed during unpickling. Arbitrary objects will no longer be allowed to be loaded via this mode unless they are explicitly allowlisted by the user via `torch.serialization.add_safe_globals`. We recommend you start setting `weights_only=True` for any use case where you don't have full control of the loaded file. Please open an issue on GitHub for any issues related to this experimental feature.\n",
            "  test_mfcc_tensor = torch.load(test_mfcc_file)\n",
            "<ipython-input-17-4267f06e7c16>:8: FutureWarning: You are using `torch.load` with `weights_only=False` (the current default value), which uses the default pickle module implicitly. It is possible to construct malicious pickle data which will execute arbitrary code during unpickling (See https://github.com/pytorch/pytorch/blob/main/SECURITY.md#untrusted-models for more details). In a future release, the default value for `weights_only` will be flipped to `True`. This limits the functions that could be executed during unpickling. Arbitrary objects will no longer be allowed to be loaded via this mode unless they are explicitly allowlisted by the user via `torch.serialization.add_safe_globals`. We recommend you start setting `weights_only=True` for any use case where you don't have full control of the loaded file. Please open an issue on GitHub for any issues related to this experimental feature.\n",
            "  test_mfcc_tensor = torch.load(test_mfcc_file)\n",
            "<ipython-input-17-4267f06e7c16>:8: FutureWarning: You are using `torch.load` with `weights_only=False` (the current default value), which uses the default pickle module implicitly. It is possible to construct malicious pickle data which will execute arbitrary code during unpickling (See https://github.com/pytorch/pytorch/blob/main/SECURITY.md#untrusted-models for more details). In a future release, the default value for `weights_only` will be flipped to `True`. This limits the functions that could be executed during unpickling. Arbitrary objects will no longer be allowed to be loaded via this mode unless they are explicitly allowlisted by the user via `torch.serialization.add_safe_globals`. We recommend you start setting `weights_only=True` for any use case where you don't have full control of the loaded file. Please open an issue on GitHub for any issues related to this experimental feature.\n",
            "  test_mfcc_tensor = torch.load(test_mfcc_file)\n",
            "<ipython-input-17-4267f06e7c16>:8: FutureWarning: You are using `torch.load` with `weights_only=False` (the current default value), which uses the default pickle module implicitly. It is possible to construct malicious pickle data which will execute arbitrary code during unpickling (See https://github.com/pytorch/pytorch/blob/main/SECURITY.md#untrusted-models for more details). In a future release, the default value for `weights_only` will be flipped to `True`. This limits the functions that could be executed during unpickling. Arbitrary objects will no longer be allowed to be loaded via this mode unless they are explicitly allowlisted by the user via `torch.serialization.add_safe_globals`. We recommend you start setting `weights_only=True` for any use case where you don't have full control of the loaded file. Please open an issue on GitHub for any issues related to this experimental feature.\n",
            "  test_mfcc_tensor = torch.load(test_mfcc_file)\n",
            "<ipython-input-17-4267f06e7c16>:8: FutureWarning: You are using `torch.load` with `weights_only=False` (the current default value), which uses the default pickle module implicitly. It is possible to construct malicious pickle data which will execute arbitrary code during unpickling (See https://github.com/pytorch/pytorch/blob/main/SECURITY.md#untrusted-models for more details). In a future release, the default value for `weights_only` will be flipped to `True`. This limits the functions that could be executed during unpickling. Arbitrary objects will no longer be allowed to be loaded via this mode unless they are explicitly allowlisted by the user via `torch.serialization.add_safe_globals`. We recommend you start setting `weights_only=True` for any use case where you don't have full control of the loaded file. Please open an issue on GitHub for any issues related to this experimental feature.\n",
            "  test_mfcc_tensor = torch.load(test_mfcc_file)\n",
            "<ipython-input-17-4267f06e7c16>:8: FutureWarning: You are using `torch.load` with `weights_only=False` (the current default value), which uses the default pickle module implicitly. It is possible to construct malicious pickle data which will execute arbitrary code during unpickling (See https://github.com/pytorch/pytorch/blob/main/SECURITY.md#untrusted-models for more details). In a future release, the default value for `weights_only` will be flipped to `True`. This limits the functions that could be executed during unpickling. Arbitrary objects will no longer be allowed to be loaded via this mode unless they are explicitly allowlisted by the user via `torch.serialization.add_safe_globals`. We recommend you start setting `weights_only=True` for any use case where you don't have full control of the loaded file. Please open an issue on GitHub for any issues related to this experimental feature.\n",
            "  test_mfcc_tensor = torch.load(test_mfcc_file)\n",
            "<ipython-input-17-4267f06e7c16>:8: FutureWarning: You are using `torch.load` with `weights_only=False` (the current default value), which uses the default pickle module implicitly. It is possible to construct malicious pickle data which will execute arbitrary code during unpickling (See https://github.com/pytorch/pytorch/blob/main/SECURITY.md#untrusted-models for more details). In a future release, the default value for `weights_only` will be flipped to `True`. This limits the functions that could be executed during unpickling. Arbitrary objects will no longer be allowed to be loaded via this mode unless they are explicitly allowlisted by the user via `torch.serialization.add_safe_globals`. We recommend you start setting `weights_only=True` for any use case where you don't have full control of the loaded file. Please open an issue on GitHub for any issues related to this experimental feature.\n",
            "  test_mfcc_tensor = torch.load(test_mfcc_file)\n",
            "<ipython-input-17-4267f06e7c16>:8: FutureWarning: You are using `torch.load` with `weights_only=False` (the current default value), which uses the default pickle module implicitly. It is possible to construct malicious pickle data which will execute arbitrary code during unpickling (See https://github.com/pytorch/pytorch/blob/main/SECURITY.md#untrusted-models for more details). In a future release, the default value for `weights_only` will be flipped to `True`. This limits the functions that could be executed during unpickling. Arbitrary objects will no longer be allowed to be loaded via this mode unless they are explicitly allowlisted by the user via `torch.serialization.add_safe_globals`. We recommend you start setting `weights_only=True` for any use case where you don't have full control of the loaded file. Please open an issue on GitHub for any issues related to this experimental feature.\n",
            "  test_mfcc_tensor = torch.load(test_mfcc_file)\n",
            "<ipython-input-17-4267f06e7c16>:8: FutureWarning: You are using `torch.load` with `weights_only=False` (the current default value), which uses the default pickle module implicitly. It is possible to construct malicious pickle data which will execute arbitrary code during unpickling (See https://github.com/pytorch/pytorch/blob/main/SECURITY.md#untrusted-models for more details). In a future release, the default value for `weights_only` will be flipped to `True`. This limits the functions that could be executed during unpickling. Arbitrary objects will no longer be allowed to be loaded via this mode unless they are explicitly allowlisted by the user via `torch.serialization.add_safe_globals`. We recommend you start setting `weights_only=True` for any use case where you don't have full control of the loaded file. Please open an issue on GitHub for any issues related to this experimental feature.\n",
            "  test_mfcc_tensor = torch.load(test_mfcc_file)\n",
            "<ipython-input-17-4267f06e7c16>:8: FutureWarning: You are using `torch.load` with `weights_only=False` (the current default value), which uses the default pickle module implicitly. It is possible to construct malicious pickle data which will execute arbitrary code during unpickling (See https://github.com/pytorch/pytorch/blob/main/SECURITY.md#untrusted-models for more details). In a future release, the default value for `weights_only` will be flipped to `True`. This limits the functions that could be executed during unpickling. Arbitrary objects will no longer be allowed to be loaded via this mode unless they are explicitly allowlisted by the user via `torch.serialization.add_safe_globals`. We recommend you start setting `weights_only=True` for any use case where you don't have full control of the loaded file. Please open an issue on GitHub for any issues related to this experimental feature.\n",
            "  test_mfcc_tensor = torch.load(test_mfcc_file)\n",
            "<ipython-input-17-4267f06e7c16>:8: FutureWarning: You are using `torch.load` with `weights_only=False` (the current default value), which uses the default pickle module implicitly. It is possible to construct malicious pickle data which will execute arbitrary code during unpickling (See https://github.com/pytorch/pytorch/blob/main/SECURITY.md#untrusted-models for more details). In a future release, the default value for `weights_only` will be flipped to `True`. This limits the functions that could be executed during unpickling. Arbitrary objects will no longer be allowed to be loaded via this mode unless they are explicitly allowlisted by the user via `torch.serialization.add_safe_globals`. We recommend you start setting `weights_only=True` for any use case where you don't have full control of the loaded file. Please open an issue on GitHub for any issues related to this experimental feature.\n",
            "  test_mfcc_tensor = torch.load(test_mfcc_file)\n",
            "<ipython-input-17-4267f06e7c16>:8: FutureWarning: You are using `torch.load` with `weights_only=False` (the current default value), which uses the default pickle module implicitly. It is possible to construct malicious pickle data which will execute arbitrary code during unpickling (See https://github.com/pytorch/pytorch/blob/main/SECURITY.md#untrusted-models for more details). In a future release, the default value for `weights_only` will be flipped to `True`. This limits the functions that could be executed during unpickling. Arbitrary objects will no longer be allowed to be loaded via this mode unless they are explicitly allowlisted by the user via `torch.serialization.add_safe_globals`. We recommend you start setting `weights_only=True` for any use case where you don't have full control of the loaded file. Please open an issue on GitHub for any issues related to this experimental feature.\n",
            "  test_mfcc_tensor = torch.load(test_mfcc_file)\n",
            "<ipython-input-17-4267f06e7c16>:8: FutureWarning: You are using `torch.load` with `weights_only=False` (the current default value), which uses the default pickle module implicitly. It is possible to construct malicious pickle data which will execute arbitrary code during unpickling (See https://github.com/pytorch/pytorch/blob/main/SECURITY.md#untrusted-models for more details). In a future release, the default value for `weights_only` will be flipped to `True`. This limits the functions that could be executed during unpickling. Arbitrary objects will no longer be allowed to be loaded via this mode unless they are explicitly allowlisted by the user via `torch.serialization.add_safe_globals`. We recommend you start setting `weights_only=True` for any use case where you don't have full control of the loaded file. Please open an issue on GitHub for any issues related to this experimental feature.\n",
            "  test_mfcc_tensor = torch.load(test_mfcc_file)\n",
            "<ipython-input-17-4267f06e7c16>:8: FutureWarning: You are using `torch.load` with `weights_only=False` (the current default value), which uses the default pickle module implicitly. It is possible to construct malicious pickle data which will execute arbitrary code during unpickling (See https://github.com/pytorch/pytorch/blob/main/SECURITY.md#untrusted-models for more details). In a future release, the default value for `weights_only` will be flipped to `True`. This limits the functions that could be executed during unpickling. Arbitrary objects will no longer be allowed to be loaded via this mode unless they are explicitly allowlisted by the user via `torch.serialization.add_safe_globals`. We recommend you start setting `weights_only=True` for any use case where you don't have full control of the loaded file. Please open an issue on GitHub for any issues related to this experimental feature.\n",
            "  test_mfcc_tensor = torch.load(test_mfcc_file)\n",
            "<ipython-input-17-4267f06e7c16>:8: FutureWarning: You are using `torch.load` with `weights_only=False` (the current default value), which uses the default pickle module implicitly. It is possible to construct malicious pickle data which will execute arbitrary code during unpickling (See https://github.com/pytorch/pytorch/blob/main/SECURITY.md#untrusted-models for more details). In a future release, the default value for `weights_only` will be flipped to `True`. This limits the functions that could be executed during unpickling. Arbitrary objects will no longer be allowed to be loaded via this mode unless they are explicitly allowlisted by the user via `torch.serialization.add_safe_globals`. We recommend you start setting `weights_only=True` for any use case where you don't have full control of the loaded file. Please open an issue on GitHub for any issues related to this experimental feature.\n",
            "  test_mfcc_tensor = torch.load(test_mfcc_file)\n",
            "<ipython-input-17-4267f06e7c16>:8: FutureWarning: You are using `torch.load` with `weights_only=False` (the current default value), which uses the default pickle module implicitly. It is possible to construct malicious pickle data which will execute arbitrary code during unpickling (See https://github.com/pytorch/pytorch/blob/main/SECURITY.md#untrusted-models for more details). In a future release, the default value for `weights_only` will be flipped to `True`. This limits the functions that could be executed during unpickling. Arbitrary objects will no longer be allowed to be loaded via this mode unless they are explicitly allowlisted by the user via `torch.serialization.add_safe_globals`. We recommend you start setting `weights_only=True` for any use case where you don't have full control of the loaded file. Please open an issue on GitHub for any issues related to this experimental feature.\n",
            "  test_mfcc_tensor = torch.load(test_mfcc_file)\n",
            "<ipython-input-17-4267f06e7c16>:8: FutureWarning: You are using `torch.load` with `weights_only=False` (the current default value), which uses the default pickle module implicitly. It is possible to construct malicious pickle data which will execute arbitrary code during unpickling (See https://github.com/pytorch/pytorch/blob/main/SECURITY.md#untrusted-models for more details). In a future release, the default value for `weights_only` will be flipped to `True`. This limits the functions that could be executed during unpickling. Arbitrary objects will no longer be allowed to be loaded via this mode unless they are explicitly allowlisted by the user via `torch.serialization.add_safe_globals`. We recommend you start setting `weights_only=True` for any use case where you don't have full control of the loaded file. Please open an issue on GitHub for any issues related to this experimental feature.\n",
            "  test_mfcc_tensor = torch.load(test_mfcc_file)\n",
            "<ipython-input-17-4267f06e7c16>:8: FutureWarning: You are using `torch.load` with `weights_only=False` (the current default value), which uses the default pickle module implicitly. It is possible to construct malicious pickle data which will execute arbitrary code during unpickling (See https://github.com/pytorch/pytorch/blob/main/SECURITY.md#untrusted-models for more details). In a future release, the default value for `weights_only` will be flipped to `True`. This limits the functions that could be executed during unpickling. Arbitrary objects will no longer be allowed to be loaded via this mode unless they are explicitly allowlisted by the user via `torch.serialization.add_safe_globals`. We recommend you start setting `weights_only=True` for any use case where you don't have full control of the loaded file. Please open an issue on GitHub for any issues related to this experimental feature.\n",
            "  test_mfcc_tensor = torch.load(test_mfcc_file)\n",
            "<ipython-input-17-4267f06e7c16>:8: FutureWarning: You are using `torch.load` with `weights_only=False` (the current default value), which uses the default pickle module implicitly. It is possible to construct malicious pickle data which will execute arbitrary code during unpickling (See https://github.com/pytorch/pytorch/blob/main/SECURITY.md#untrusted-models for more details). In a future release, the default value for `weights_only` will be flipped to `True`. This limits the functions that could be executed during unpickling. Arbitrary objects will no longer be allowed to be loaded via this mode unless they are explicitly allowlisted by the user via `torch.serialization.add_safe_globals`. We recommend you start setting `weights_only=True` for any use case where you don't have full control of the loaded file. Please open an issue on GitHub for any issues related to this experimental feature.\n",
            "  test_mfcc_tensor = torch.load(test_mfcc_file)\n",
            "<ipython-input-17-4267f06e7c16>:8: FutureWarning: You are using `torch.load` with `weights_only=False` (the current default value), which uses the default pickle module implicitly. It is possible to construct malicious pickle data which will execute arbitrary code during unpickling (See https://github.com/pytorch/pytorch/blob/main/SECURITY.md#untrusted-models for more details). In a future release, the default value for `weights_only` will be flipped to `True`. This limits the functions that could be executed during unpickling. Arbitrary objects will no longer be allowed to be loaded via this mode unless they are explicitly allowlisted by the user via `torch.serialization.add_safe_globals`. We recommend you start setting `weights_only=True` for any use case where you don't have full control of the loaded file. Please open an issue on GitHub for any issues related to this experimental feature.\n",
            "  test_mfcc_tensor = torch.load(test_mfcc_file)\n",
            "<ipython-input-17-4267f06e7c16>:8: FutureWarning: You are using `torch.load` with `weights_only=False` (the current default value), which uses the default pickle module implicitly. It is possible to construct malicious pickle data which will execute arbitrary code during unpickling (See https://github.com/pytorch/pytorch/blob/main/SECURITY.md#untrusted-models for more details). In a future release, the default value for `weights_only` will be flipped to `True`. This limits the functions that could be executed during unpickling. Arbitrary objects will no longer be allowed to be loaded via this mode unless they are explicitly allowlisted by the user via `torch.serialization.add_safe_globals`. We recommend you start setting `weights_only=True` for any use case where you don't have full control of the loaded file. Please open an issue on GitHub for any issues related to this experimental feature.\n",
            "  test_mfcc_tensor = torch.load(test_mfcc_file)\n",
            "<ipython-input-17-4267f06e7c16>:8: FutureWarning: You are using `torch.load` with `weights_only=False` (the current default value), which uses the default pickle module implicitly. It is possible to construct malicious pickle data which will execute arbitrary code during unpickling (See https://github.com/pytorch/pytorch/blob/main/SECURITY.md#untrusted-models for more details). In a future release, the default value for `weights_only` will be flipped to `True`. This limits the functions that could be executed during unpickling. Arbitrary objects will no longer be allowed to be loaded via this mode unless they are explicitly allowlisted by the user via `torch.serialization.add_safe_globals`. We recommend you start setting `weights_only=True` for any use case where you don't have full control of the loaded file. Please open an issue on GitHub for any issues related to this experimental feature.\n",
            "  test_mfcc_tensor = torch.load(test_mfcc_file)\n",
            "<ipython-input-17-4267f06e7c16>:8: FutureWarning: You are using `torch.load` with `weights_only=False` (the current default value), which uses the default pickle module implicitly. It is possible to construct malicious pickle data which will execute arbitrary code during unpickling (See https://github.com/pytorch/pytorch/blob/main/SECURITY.md#untrusted-models for more details). In a future release, the default value for `weights_only` will be flipped to `True`. This limits the functions that could be executed during unpickling. Arbitrary objects will no longer be allowed to be loaded via this mode unless they are explicitly allowlisted by the user via `torch.serialization.add_safe_globals`. We recommend you start setting `weights_only=True` for any use case where you don't have full control of the loaded file. Please open an issue on GitHub for any issues related to this experimental feature.\n",
            "  test_mfcc_tensor = torch.load(test_mfcc_file)\n",
            "<ipython-input-17-4267f06e7c16>:8: FutureWarning: You are using `torch.load` with `weights_only=False` (the current default value), which uses the default pickle module implicitly. It is possible to construct malicious pickle data which will execute arbitrary code during unpickling (See https://github.com/pytorch/pytorch/blob/main/SECURITY.md#untrusted-models for more details). In a future release, the default value for `weights_only` will be flipped to `True`. This limits the functions that could be executed during unpickling. Arbitrary objects will no longer be allowed to be loaded via this mode unless they are explicitly allowlisted by the user via `torch.serialization.add_safe_globals`. We recommend you start setting `weights_only=True` for any use case where you don't have full control of the loaded file. Please open an issue on GitHub for any issues related to this experimental feature.\n",
            "  test_mfcc_tensor = torch.load(test_mfcc_file)\n",
            "<ipython-input-17-4267f06e7c16>:8: FutureWarning: You are using `torch.load` with `weights_only=False` (the current default value), which uses the default pickle module implicitly. It is possible to construct malicious pickle data which will execute arbitrary code during unpickling (See https://github.com/pytorch/pytorch/blob/main/SECURITY.md#untrusted-models for more details). In a future release, the default value for `weights_only` will be flipped to `True`. This limits the functions that could be executed during unpickling. Arbitrary objects will no longer be allowed to be loaded via this mode unless they are explicitly allowlisted by the user via `torch.serialization.add_safe_globals`. We recommend you start setting `weights_only=True` for any use case where you don't have full control of the loaded file. Please open an issue on GitHub for any issues related to this experimental feature.\n",
            "  test_mfcc_tensor = torch.load(test_mfcc_file)\n",
            "<ipython-input-17-4267f06e7c16>:8: FutureWarning: You are using `torch.load` with `weights_only=False` (the current default value), which uses the default pickle module implicitly. It is possible to construct malicious pickle data which will execute arbitrary code during unpickling (See https://github.com/pytorch/pytorch/blob/main/SECURITY.md#untrusted-models for more details). In a future release, the default value for `weights_only` will be flipped to `True`. This limits the functions that could be executed during unpickling. Arbitrary objects will no longer be allowed to be loaded via this mode unless they are explicitly allowlisted by the user via `torch.serialization.add_safe_globals`. We recommend you start setting `weights_only=True` for any use case where you don't have full control of the loaded file. Please open an issue on GitHub for any issues related to this experimental feature.\n",
            "  test_mfcc_tensor = torch.load(test_mfcc_file)\n",
            "<ipython-input-17-4267f06e7c16>:8: FutureWarning: You are using `torch.load` with `weights_only=False` (the current default value), which uses the default pickle module implicitly. It is possible to construct malicious pickle data which will execute arbitrary code during unpickling (See https://github.com/pytorch/pytorch/blob/main/SECURITY.md#untrusted-models for more details). In a future release, the default value for `weights_only` will be flipped to `True`. This limits the functions that could be executed during unpickling. Arbitrary objects will no longer be allowed to be loaded via this mode unless they are explicitly allowlisted by the user via `torch.serialization.add_safe_globals`. We recommend you start setting `weights_only=True` for any use case where you don't have full control of the loaded file. Please open an issue on GitHub for any issues related to this experimental feature.\n",
            "  test_mfcc_tensor = torch.load(test_mfcc_file)\n",
            "<ipython-input-17-4267f06e7c16>:8: FutureWarning: You are using `torch.load` with `weights_only=False` (the current default value), which uses the default pickle module implicitly. It is possible to construct malicious pickle data which will execute arbitrary code during unpickling (See https://github.com/pytorch/pytorch/blob/main/SECURITY.md#untrusted-models for more details). In a future release, the default value for `weights_only` will be flipped to `True`. This limits the functions that could be executed during unpickling. Arbitrary objects will no longer be allowed to be loaded via this mode unless they are explicitly allowlisted by the user via `torch.serialization.add_safe_globals`. We recommend you start setting `weights_only=True` for any use case where you don't have full control of the loaded file. Please open an issue on GitHub for any issues related to this experimental feature.\n",
            "  test_mfcc_tensor = torch.load(test_mfcc_file)\n",
            "<ipython-input-17-4267f06e7c16>:8: FutureWarning: You are using `torch.load` with `weights_only=False` (the current default value), which uses the default pickle module implicitly. It is possible to construct malicious pickle data which will execute arbitrary code during unpickling (See https://github.com/pytorch/pytorch/blob/main/SECURITY.md#untrusted-models for more details). In a future release, the default value for `weights_only` will be flipped to `True`. This limits the functions that could be executed during unpickling. Arbitrary objects will no longer be allowed to be loaded via this mode unless they are explicitly allowlisted by the user via `torch.serialization.add_safe_globals`. We recommend you start setting `weights_only=True` for any use case where you don't have full control of the loaded file. Please open an issue on GitHub for any issues related to this experimental feature.\n",
            "  test_mfcc_tensor = torch.load(test_mfcc_file)\n",
            "<ipython-input-17-4267f06e7c16>:8: FutureWarning: You are using `torch.load` with `weights_only=False` (the current default value), which uses the default pickle module implicitly. It is possible to construct malicious pickle data which will execute arbitrary code during unpickling (See https://github.com/pytorch/pytorch/blob/main/SECURITY.md#untrusted-models for more details). In a future release, the default value for `weights_only` will be flipped to `True`. This limits the functions that could be executed during unpickling. Arbitrary objects will no longer be allowed to be loaded via this mode unless they are explicitly allowlisted by the user via `torch.serialization.add_safe_globals`. We recommend you start setting `weights_only=True` for any use case where you don't have full control of the loaded file. Please open an issue on GitHub for any issues related to this experimental feature.\n",
            "  test_mfcc_tensor = torch.load(test_mfcc_file)\n",
            "<ipython-input-17-4267f06e7c16>:8: FutureWarning: You are using `torch.load` with `weights_only=False` (the current default value), which uses the default pickle module implicitly. It is possible to construct malicious pickle data which will execute arbitrary code during unpickling (See https://github.com/pytorch/pytorch/blob/main/SECURITY.md#untrusted-models for more details). In a future release, the default value for `weights_only` will be flipped to `True`. This limits the functions that could be executed during unpickling. Arbitrary objects will no longer be allowed to be loaded via this mode unless they are explicitly allowlisted by the user via `torch.serialization.add_safe_globals`. We recommend you start setting `weights_only=True` for any use case where you don't have full control of the loaded file. Please open an issue on GitHub for any issues related to this experimental feature.\n",
            "  test_mfcc_tensor = torch.load(test_mfcc_file)\n",
            "<ipython-input-17-4267f06e7c16>:8: FutureWarning: You are using `torch.load` with `weights_only=False` (the current default value), which uses the default pickle module implicitly. It is possible to construct malicious pickle data which will execute arbitrary code during unpickling (See https://github.com/pytorch/pytorch/blob/main/SECURITY.md#untrusted-models for more details). In a future release, the default value for `weights_only` will be flipped to `True`. This limits the functions that could be executed during unpickling. Arbitrary objects will no longer be allowed to be loaded via this mode unless they are explicitly allowlisted by the user via `torch.serialization.add_safe_globals`. We recommend you start setting `weights_only=True` for any use case where you don't have full control of the loaded file. Please open an issue on GitHub for any issues related to this experimental feature.\n",
            "  test_mfcc_tensor = torch.load(test_mfcc_file)\n",
            "<ipython-input-17-4267f06e7c16>:8: FutureWarning: You are using `torch.load` with `weights_only=False` (the current default value), which uses the default pickle module implicitly. It is possible to construct malicious pickle data which will execute arbitrary code during unpickling (See https://github.com/pytorch/pytorch/blob/main/SECURITY.md#untrusted-models for more details). In a future release, the default value for `weights_only` will be flipped to `True`. This limits the functions that could be executed during unpickling. Arbitrary objects will no longer be allowed to be loaded via this mode unless they are explicitly allowlisted by the user via `torch.serialization.add_safe_globals`. We recommend you start setting `weights_only=True` for any use case where you don't have full control of the loaded file. Please open an issue on GitHub for any issues related to this experimental feature.\n",
            "  test_mfcc_tensor = torch.load(test_mfcc_file)\n",
            "<ipython-input-17-4267f06e7c16>:8: FutureWarning: You are using `torch.load` with `weights_only=False` (the current default value), which uses the default pickle module implicitly. It is possible to construct malicious pickle data which will execute arbitrary code during unpickling (See https://github.com/pytorch/pytorch/blob/main/SECURITY.md#untrusted-models for more details). In a future release, the default value for `weights_only` will be flipped to `True`. This limits the functions that could be executed during unpickling. Arbitrary objects will no longer be allowed to be loaded via this mode unless they are explicitly allowlisted by the user via `torch.serialization.add_safe_globals`. We recommend you start setting `weights_only=True` for any use case where you don't have full control of the loaded file. Please open an issue on GitHub for any issues related to this experimental feature.\n",
            "  test_mfcc_tensor = torch.load(test_mfcc_file)\n",
            "<ipython-input-17-4267f06e7c16>:8: FutureWarning: You are using `torch.load` with `weights_only=False` (the current default value), which uses the default pickle module implicitly. It is possible to construct malicious pickle data which will execute arbitrary code during unpickling (See https://github.com/pytorch/pytorch/blob/main/SECURITY.md#untrusted-models for more details). In a future release, the default value for `weights_only` will be flipped to `True`. This limits the functions that could be executed during unpickling. Arbitrary objects will no longer be allowed to be loaded via this mode unless they are explicitly allowlisted by the user via `torch.serialization.add_safe_globals`. We recommend you start setting `weights_only=True` for any use case where you don't have full control of the loaded file. Please open an issue on GitHub for any issues related to this experimental feature.\n",
            "  test_mfcc_tensor = torch.load(test_mfcc_file)\n",
            "<ipython-input-17-4267f06e7c16>:8: FutureWarning: You are using `torch.load` with `weights_only=False` (the current default value), which uses the default pickle module implicitly. It is possible to construct malicious pickle data which will execute arbitrary code during unpickling (See https://github.com/pytorch/pytorch/blob/main/SECURITY.md#untrusted-models for more details). In a future release, the default value for `weights_only` will be flipped to `True`. This limits the functions that could be executed during unpickling. Arbitrary objects will no longer be allowed to be loaded via this mode unless they are explicitly allowlisted by the user via `torch.serialization.add_safe_globals`. We recommend you start setting `weights_only=True` for any use case where you don't have full control of the loaded file. Please open an issue on GitHub for any issues related to this experimental feature.\n",
            "  test_mfcc_tensor = torch.load(test_mfcc_file)\n",
            "<ipython-input-17-4267f06e7c16>:8: FutureWarning: You are using `torch.load` with `weights_only=False` (the current default value), which uses the default pickle module implicitly. It is possible to construct malicious pickle data which will execute arbitrary code during unpickling (See https://github.com/pytorch/pytorch/blob/main/SECURITY.md#untrusted-models for more details). In a future release, the default value for `weights_only` will be flipped to `True`. This limits the functions that could be executed during unpickling. Arbitrary objects will no longer be allowed to be loaded via this mode unless they are explicitly allowlisted by the user via `torch.serialization.add_safe_globals`. We recommend you start setting `weights_only=True` for any use case where you don't have full control of the loaded file. Please open an issue on GitHub for any issues related to this experimental feature.\n",
            "  test_mfcc_tensor = torch.load(test_mfcc_file)\n"
          ]
        },
        {
          "output_type": "stream",
          "name": "stdout",
          "text": [
            "Accuracy: 72.34%\n"
          ]
        }
      ]
    },
    {
      "cell_type": "markdown",
      "source": [
        "1. Conclude which setup (\"number of mixtures\" of the GMM) works best.\n",
        "  - After testing different setups (numbers of mixtures), the configuration that results in the lowest EER is considered the best model setup."
      ],
      "metadata": {
        "id": "z7P8kwrfFEBD"
      }
    },
    {
      "cell_type": "markdown",
      "source": [
        "2. Is the number of mixtures different from that used in the previous exercise for speaker identification on a different dataset. Hypothesize why it is the same (or not)?"
      ],
      "metadata": {
        "id": "jlO-BCV2FGFP"
      }
    },
    {
      "cell_type": "markdown",
      "source": [
        "## 3.2.3 Channel compensation (10 pt)\n",
        "\n",
        "A common method to reduce mismatch in channel conditions (changes in recording conditions such as recording equipment, environment of recording, recording format, etc.) is to enforce the statistics of the data to have zero mean and unit variance. This is achieved by standardization of the input features: remove the mean of the features and divide by standard deviation.\n",
        "\n",
        "This operation is done dimension-wise over the feature dimension. For each dimension in the input sequence of feature vectors, the standardization is applied independent of other dimensions. The mean is computed for each dimension $d = 1 \\dots D$  (D=20 for MFCCs in our case), and all values of the $d^{\\text{th}}$ feature dimension are subtracted with the mean value computed over the training data for that sequence and divided by the standard deviation.\n",
        "\n",
        "In this part of the exercise, we will demonstrate the effectiveness of this procedure to improve the performance of our system.\n",
        "\n",
        "Implement this using built-in tensor member functions of the input tensor."
      ],
      "metadata": {
        "id": "pUhlteRlFM8b"
      }
    },
    {
      "cell_type": "code",
      "source": [
        "def cepstral_mean_and_variance_normalization(mfcc: torch.Tensor):\n",
        "    \"\"\"Returns standardized features\n",
        "\n",
        "    mfcc is expected to be a 2D tensor with dimension TxD where T is the\n",
        "    number of frames in audio and D is the dimensionality one feature vector.\n",
        "    \"\"\"\n",
        "    mean = mfcc.mean(dim=0, keepdim=True)\n",
        "    std = mfcc.std(dim=0, keepdim=True)\n",
        "\n",
        "    mfcc_cmvn = (mfcc - mean) / std\n",
        "    return mfcc_cmvn"
      ],
      "metadata": {
        "id": "8A5xnMFWFDhC"
      },
      "execution_count": null,
      "outputs": []
    },
    {
      "cell_type": "markdown",
      "source": [
        "Now check the performance of the GMM system by applying the ``cepstral_mean_and_variance_normalization`` on MFCC features:\n",
        "\n",
        "1. During training only, but not testing\n",
        "  - leads to a mismatch between training and testing data distributions, as the model learns from normalized features but tests on raw, unnormalized ones. Can result in poor performance during testing\n",
        "2. During training and testing\n",
        "  - ensures consistency and helps improve model performance.\n",
        "3. During testing only, but not training\n",
        "  - while training on raw features causes a mismatch between the feature distributions seen during training and testing, leading to performance degradation.\n",
        "\n",
        "Explain the results.\n",
        "\n",
        "You may want to think if it is necessary to retrain the model if the mean & variance normalization is applied."
      ],
      "metadata": {
        "id": "dGbK21f7GN92"
      }
    },
    {
      "cell_type": "markdown",
      "source": [
        "## Section 4: Neural network based speaker recognition\n",
        "\n"
      ],
      "metadata": {
        "id": "A2y68Wy_GcG6"
      }
    },
    {
      "cell_type": "markdown",
      "source": [
        "## 4.1 TDNN code\n",
        "\n",
        "In this section of the exercise, we define the basic component of a neural network based speaker verification system. In the class we saw Time Delay Neural Network that help capture patterns over a given context. In the proceeding cells, we will use Pytorch to define a TDNN module that can be reused in the Xvector model architecture."
      ],
      "metadata": {
        "id": "dHbBcRH1Gi2n"
      }
    },
    {
      "cell_type": "code",
      "source": [
        "# DO NOT MODIFY\n",
        "# Apache License, Version 2.0  (author: Srikanth Madikeri, 2020, 2024)\n",
        "\n",
        "import torch.nn as nn\n",
        "import torch.nn.functional as F\n",
        "\n",
        "class TDNN(nn.Module):\n",
        "    def __init__(\n",
        "        self,\n",
        "        feat_dim,\n",
        "        output_dim,\n",
        "        context_len=1,\n",
        "    ):\n",
        "        super(TDNN, self).__init__()\n",
        "        self.linear = nn.Linear(feat_dim*context_len, output_dim)\n",
        "        self.context_len = torch.tensor(context_len, requires_grad=False)\n",
        "\n",
        "\n",
        "    def forward(self, input):\n",
        "        mb, T, D = input.shape\n",
        "        padded_input = input.reshape(mb, -1).unfold(1, D*self.context_len, D).contiguous()\n",
        "        x = self.linear(padded_input)\n",
        "        return x\n",
        "\n",
        "\n",
        "class TDNNBatchNorm(nn.Module):\n",
        "    def __init__(\n",
        "        self,\n",
        "        feat_dim,\n",
        "        output_dim,\n",
        "        context_len=1,\n",
        "    ):\n",
        "        super(TDNNBatchNorm, self).__init__()\n",
        "        self.tdnn = TDNN(\n",
        "            feat_dim,\n",
        "            output_dim,\n",
        "            context_len=context_len,\n",
        "        )\n",
        "        self.bn = nn.BatchNorm1d(output_dim, affine=False)\n",
        "\n",
        "    def forward(self, input):\n",
        "        mb, T, D = input.shape\n",
        "        x = self.tdnn(input)\n",
        "        x = F.relu(x)\n",
        "        x = x.permute(0, 2, 1)\n",
        "        x = self.bn(x)\n",
        "        x = x.permute(0, 2, 1)\n",
        "        return x"
      ],
      "metadata": {
        "id": "cG1ABsG7GS3S"
      },
      "execution_count": null,
      "outputs": []
    },
    {
      "cell_type": "markdown",
      "source": [
        "### 4.2 Complete the code (10 pt)"
      ],
      "metadata": {
        "id": "pdAwMalmGnWg"
      }
    },
    {
      "cell_type": "code",
      "source": [
        "# Copyright     University of Zurich (author: Srikanth Madikeri)\n",
        "# License: Apache 2.0\n",
        "\n",
        "class Xvector(nn.Module):\n",
        "    def __init__(self, feat_dim, n_target_speakers, n_layers=1, hidden_dim=32, contexts=[1]):\n",
        "        \"\"\"\n",
        "        Args:\n",
        "            feat_dim: int, input feature dimension\n",
        "            n_target_speakers: int, number of target speakers\n",
        "            n_layers: int, number of TDNN layers (default: 1)\n",
        "            hidden_dim: int, hidden dimension of TDNN layers (default: 32)\n",
        "            contexts: list of int, context length of TDNN layers. E.g. [5,2] if the first layer has a context of 5 and the second layer has a context of 2\n",
        "        \"\"\"\n",
        "        super(Xvector, self).__init__()\n",
        "        assert n_layers == len(contexts), \"n_layers must be equal to the length of contexts\"\n",
        "        self.tdnn1 = TDNNBatchNorm(feat_dim, hidden_dim, context_len=contexts[0])\n",
        "        # from the 2nd layer, the input and output dim are the same for\n",
        "        # each layer\n",
        "        if n_layers > 1:\n",
        "            self.tdnn2_module_list = nn.ModuleList(\n",
        "                [\n",
        "                    TDNNBatchNorm(hidden_dim, hidden_dim, context_len=context)\n",
        "                    for context in contexts[1:]\n",
        "                ]\n",
        "            )\n",
        "        else:\n",
        "            self.tdnn2_module_list = []\n",
        "        self.linear1 = nn.Linear(2*hidden_dim, hidden_dim)\n",
        "        self.linear2 = nn.Linear(hidden_dim, n_target_speakers)\n",
        "        self.bn = nn.BatchNorm1d(hidden_dim, affine=False)\n",
        "\n",
        "    def forward(self, input, x_lens):\n",
        "        x = F.layer_norm(input, normalized_shape=[input.shape[-1]])\n",
        "        x = self.tdnn1(input)\n",
        "        if self.tdnn2_module_list:\n",
        "            for tdnn in self.tdnn2_module_list:\n",
        "                x = tdnn(x)\n",
        "        mean_pooling = x.sum(dim=1) / x_lens[:, None]\n",
        "        var_pooling = ((x**2).sum(dim=1) - mean_pooling**2) / x_lens[:, None]\n",
        "        std_pooling = var_pooling.sqrt()\n",
        "        stats_pool = torch.cat([mean_pooling, std_pooling], dim=1)\n",
        "        x = self.linear1(stats_pool)\n",
        "        x = F.relu(x)\n",
        "        x = self.bn(x)\n",
        "        x = self.linear2(x)\n",
        "        return F.log_softmax(x, dim=1)\n",
        "\n",
        "    # Complete this function to get embedding from the model\n",
        "    def get_embedding(self, input, x_lens):\n",
        "        # obtain speaker embeddings from the model instead of the output from\n",
        "        # the final layer of the model. Choose the appropriate layer to obtain the\n",
        "        # speaker embedding.\n",
        "        # Normalize the input features\n",
        "        x = F.layer_norm(input, normalized_shape=[input.shape[-1]])\n",
        "\n",
        "        # Pass the input through the TDNN layers\n",
        "        x = self.tdnn1(input)\n",
        "        if self.tdnn2_module_list:\n",
        "            for tdnn in self.tdnn2_module_list:\n",
        "                x = tdnn(x)\n",
        "\n",
        "        # Apply mean and standard deviation pooling\n",
        "        mean_pooling = x.sum(dim=1) / x_lens[:, None]\n",
        "        var_pooling = ((x**2).sum(dim=1) - mean_pooling**2) / x_lens[:, None]\n",
        "        std_pooling = var_pooling.sqrt()\n",
        "        stats_pool = torch.cat([mean_pooling, std_pooling], dim=1)\n",
        "\n",
        "        # The speaker embedding is typically extracted here before classification\n",
        "        embedding = stats_pool\n",
        "\n",
        "        return embedding"
      ],
      "metadata": {
        "id": "lgtCdupQGnBz"
      },
      "execution_count": null,
      "outputs": []
    },
    {
      "cell_type": "markdown",
      "source": [
        "\n",
        "1. Is the above definition of Xvector class the same as what we saw discussed in the class? Justify your answer. (3 pt)\n",
        "\n",
        "2. Complete the ``get_embedding`` function to obtain the speaker embeddings. Justify your implementation.  (5 pt)\n",
        "  - The get_embedding function extracts a fixed-size speaker embedding from the input sequence by normalizing the features and passing them through TDNN layers\n",
        "  - Mean and standard deviation pooling is applied to summarize the speaker's characteristics\n",
        "\n",
        "3. Identify the part of the code that differentiates the above model from a TDNN based architecture for any other speech processing task. (2 pt)\n",
        "  - main difference in the Xvector model is the mean and standard deviation pooling\n",
        "  - Xvector generates a fixed-size embedding for the entire sequence\n",
        "  - final output in Xvector is the embedding, not class predictions"
      ],
      "metadata": {
        "id": "tKlJECwGG9Rk"
      }
    },
    {
      "cell_type": "markdown",
      "source": [
        "## 4.3 Run the code below with default parameters (5pt)"
      ],
      "metadata": {
        "id": "5yg7KLAsHU_f"
      }
    },
    {
      "cell_type": "code",
      "source": [
        "class TrainDataset(torch.utils.data.Dataset):\n",
        "    def __init__(self, feats_path, spkr2enroll_files, spkr2idx):\n",
        "        self.feats_path = feats_path\n",
        "        self.spkr2enroll_files = spkr2enroll_files\n",
        "        self.spkr2idx = spkr2idx\n",
        "        self.data = []\n",
        "\n",
        "        for spkr, enroll_files in spkr2enroll_files.items():\n",
        "            for segment in enroll_files:\n",
        "                mfcc_file = os.path.join(feats_path, segment + '.pt')\n",
        "                mfcc_tensor = torch.load(mfcc_file)\n",
        "                label = self.spkr2idx[spkr]\n",
        "                self.data.append((mfcc_tensor, label))\n",
        "\n",
        "    def __len__(self):\n",
        "        return len(self.data)\n",
        "\n",
        "    def __getitem__(self, idx):\n",
        "        return self.data[idx]\n"
      ],
      "metadata": {
        "id": "fTsEiyy4HGvp"
      },
      "execution_count": null,
      "outputs": []
    },
    {
      "cell_type": "code",
      "source": [
        "# Nothing to do in this sell. Just run it.\n",
        "dataset = TrainDataset(feats_train_path, spkr2enroll_files, spkr2idx)\n",
        "\n",
        "def collate_fn(batch):\n",
        "    # pad sequences to the same length\n",
        "    max_len = max([item[0].shape[0] for item in batch])\n",
        "    data = [F.pad(item[0], (0, 0, 0, max_len-item[0].shape[0])) for item in batch]\n",
        "    x_lens = [item[0].shape[0] for item in batch]\n",
        "    labels = [item[1] for item in batch]\n",
        "    return torch.stack(data), torch.tensor(labels), torch.tensor(x_lens)"
      ],
      "metadata": {
        "id": "2f7TKq1pHZkO",
        "colab": {
          "base_uri": "https://localhost:8080/"
        },
        "outputId": "a5837ae6-c0f8-4051-d6b8-a4bab65b8fa3"
      },
      "execution_count": null,
      "outputs": [
        {
          "output_type": "stream",
          "name": "stderr",
          "text": [
            "<ipython-input-33-4ed46a5160b7>:11: FutureWarning: You are using `torch.load` with `weights_only=False` (the current default value), which uses the default pickle module implicitly. It is possible to construct malicious pickle data which will execute arbitrary code during unpickling (See https://github.com/pytorch/pytorch/blob/main/SECURITY.md#untrusted-models for more details). In a future release, the default value for `weights_only` will be flipped to `True`. This limits the functions that could be executed during unpickling. Arbitrary objects will no longer be allowed to be loaded via this mode unless they are explicitly allowlisted by the user via `torch.serialization.add_safe_globals`. We recommend you start setting `weights_only=True` for any use case where you don't have full control of the loaded file. Please open an issue on GitHub for any issues related to this experimental feature.\n",
            "  mfcc_tensor = torch.load(mfcc_file)\n"
          ]
        }
      ]
    },
    {
      "cell_type": "code",
      "source": [
        "# This is a generic training setup that you can reuse for the next parts of the exercises.\n",
        "\n",
        "torch.manual_seed(42)  # do not change this line. It makes it easier to verify your results.\n",
        "\n",
        "model = Xvector(20, len(spkr2enroll_files))\n",
        "optimizer = torch.optim.Adam(model.parameters(), lr=0.0003)\n",
        "criterion = nn.NLLLoss(reduction='sum')\n",
        "dataloader = torch.utils.data.DataLoader(dataset, batch_size=8, shuffle=True, collate_fn=collate_fn)\n",
        "\n",
        "train_loss = []\n",
        "n_epochs = 50\n",
        "for epoch in range(50):\n",
        "    for i, (data, labels, x_lens) in enumerate(dataloader):\n",
        "        optimizer.zero_grad()\n",
        "        output = model(data, x_lens)\n",
        "        loss = criterion(output, labels)\n",
        "        train_loss.append(loss.item())\n",
        "        loss.backward()\n",
        "        optimizer.step()\n",
        "        # lrscheduler.step()\n",
        "        if i % 10 == 0:\n",
        "            print(f'Epoch {epoch}, batch {i}, loss: {loss.item()/data.shape[0]}')"
      ],
      "metadata": {
        "id": "wvP1aQx6HbLz",
        "colab": {
          "base_uri": "https://localhost:8080/"
        },
        "outputId": "8c76a991-0bcd-4af8-8db5-0c216f7b6c1f"
      },
      "execution_count": null,
      "outputs": [
        {
          "output_type": "stream",
          "name": "stdout",
          "text": [
            "Epoch 0, batch 0, loss: 3.584404468536377\n",
            "Epoch 0, batch 10, loss: 3.741875171661377\n",
            "Epoch 0, batch 20, loss: 3.830500602722168\n",
            "Epoch 1, batch 0, loss: 3.7391233444213867\n",
            "Epoch 1, batch 10, loss: 3.6074938774108887\n",
            "Epoch 1, batch 20, loss: 3.7987146377563477\n",
            "Epoch 2, batch 0, loss: 3.6076462268829346\n",
            "Epoch 2, batch 10, loss: 3.7440590858459473\n",
            "Epoch 2, batch 20, loss: 3.5461041927337646\n",
            "Epoch 3, batch 0, loss: 3.93996262550354\n",
            "Epoch 3, batch 10, loss: 3.9643962383270264\n",
            "Epoch 3, batch 20, loss: 3.9218175411224365\n",
            "Epoch 4, batch 0, loss: 3.89355206489563\n",
            "Epoch 4, batch 10, loss: 3.482002019882202\n",
            "Epoch 4, batch 20, loss: 3.6247236728668213\n",
            "Epoch 5, batch 0, loss: 3.4632325172424316\n",
            "Epoch 5, batch 10, loss: 3.702068328857422\n",
            "Epoch 5, batch 20, loss: 3.517760753631592\n",
            "Epoch 6, batch 0, loss: 3.4876651763916016\n",
            "Epoch 6, batch 10, loss: 3.7665257453918457\n",
            "Epoch 6, batch 20, loss: 3.7112364768981934\n",
            "Epoch 7, batch 0, loss: 3.676969528198242\n",
            "Epoch 7, batch 10, loss: 3.2386584281921387\n",
            "Epoch 7, batch 20, loss: 3.56211519241333\n",
            "Epoch 8, batch 0, loss: 3.7282252311706543\n",
            "Epoch 8, batch 10, loss: 3.559697389602661\n",
            "Epoch 8, batch 20, loss: 3.330065965652466\n",
            "Epoch 9, batch 0, loss: 3.1098532676696777\n",
            "Epoch 9, batch 10, loss: 3.26346492767334\n",
            "Epoch 9, batch 20, loss: 3.6101653575897217\n",
            "Epoch 10, batch 0, loss: 3.56838059425354\n",
            "Epoch 10, batch 10, loss: 3.2527880668640137\n",
            "Epoch 10, batch 20, loss: 3.268444061279297\n",
            "Epoch 11, batch 0, loss: 3.4166572093963623\n",
            "Epoch 11, batch 10, loss: 3.355408191680908\n",
            "Epoch 11, batch 20, loss: 3.459726095199585\n",
            "Epoch 12, batch 0, loss: 3.2611076831817627\n",
            "Epoch 12, batch 10, loss: 3.254539966583252\n",
            "Epoch 12, batch 20, loss: 3.385202646255493\n",
            "Epoch 13, batch 0, loss: 3.275294542312622\n",
            "Epoch 13, batch 10, loss: 3.289712429046631\n",
            "Epoch 13, batch 20, loss: 3.379371166229248\n",
            "Epoch 14, batch 0, loss: 3.491774559020996\n",
            "Epoch 14, batch 10, loss: 3.0963234901428223\n",
            "Epoch 14, batch 20, loss: 3.3345491886138916\n",
            "Epoch 15, batch 0, loss: 3.2225208282470703\n",
            "Epoch 15, batch 10, loss: 2.909026861190796\n",
            "Epoch 15, batch 20, loss: 3.0141243934631348\n",
            "Epoch 16, batch 0, loss: 2.979348659515381\n",
            "Epoch 16, batch 10, loss: 3.4624123573303223\n",
            "Epoch 16, batch 20, loss: 3.3204517364501953\n",
            "Epoch 17, batch 0, loss: 3.2940616607666016\n",
            "Epoch 17, batch 10, loss: 2.9326887130737305\n",
            "Epoch 17, batch 20, loss: 3.010678768157959\n",
            "Epoch 18, batch 0, loss: 3.253664493560791\n",
            "Epoch 18, batch 10, loss: 3.416081190109253\n",
            "Epoch 18, batch 20, loss: 2.813666343688965\n",
            "Epoch 19, batch 0, loss: 3.185001850128174\n",
            "Epoch 19, batch 10, loss: 2.826617479324341\n",
            "Epoch 19, batch 20, loss: 3.1714234352111816\n",
            "Epoch 20, batch 0, loss: 3.038159132003784\n",
            "Epoch 20, batch 10, loss: 3.0136685371398926\n",
            "Epoch 20, batch 20, loss: 3.0992226600646973\n",
            "Epoch 21, batch 0, loss: 2.799215316772461\n",
            "Epoch 21, batch 10, loss: 2.9467310905456543\n",
            "Epoch 21, batch 20, loss: 3.2138772010803223\n",
            "Epoch 22, batch 0, loss: 2.823803424835205\n",
            "Epoch 22, batch 10, loss: 3.1170647144317627\n",
            "Epoch 22, batch 20, loss: 3.1310644149780273\n",
            "Epoch 23, batch 0, loss: 3.0418789386749268\n",
            "Epoch 23, batch 10, loss: 2.9868550300598145\n",
            "Epoch 23, batch 20, loss: 2.846027374267578\n",
            "Epoch 24, batch 0, loss: 2.817547559738159\n",
            "Epoch 24, batch 10, loss: 2.993100166320801\n",
            "Epoch 24, batch 20, loss: 2.924105167388916\n",
            "Epoch 25, batch 0, loss: 3.0360662937164307\n",
            "Epoch 25, batch 10, loss: 3.040743589401245\n",
            "Epoch 25, batch 20, loss: 2.9490110874176025\n",
            "Epoch 26, batch 0, loss: 2.9590415954589844\n",
            "Epoch 26, batch 10, loss: 3.145601987838745\n",
            "Epoch 26, batch 20, loss: 2.9565722942352295\n",
            "Epoch 27, batch 0, loss: 2.510838747024536\n",
            "Epoch 27, batch 10, loss: 2.7862138748168945\n",
            "Epoch 27, batch 20, loss: 2.5947699546813965\n",
            "Epoch 28, batch 0, loss: 2.7643661499023438\n",
            "Epoch 28, batch 10, loss: 2.5799036026000977\n",
            "Epoch 28, batch 20, loss: 2.8981356620788574\n",
            "Epoch 29, batch 0, loss: 3.2846858501434326\n",
            "Epoch 29, batch 10, loss: 2.9421579837799072\n",
            "Epoch 29, batch 20, loss: 3.125021457672119\n",
            "Epoch 30, batch 0, loss: 2.867596387863159\n",
            "Epoch 30, batch 10, loss: 2.7815473079681396\n",
            "Epoch 30, batch 20, loss: 2.6477458477020264\n",
            "Epoch 31, batch 0, loss: 2.866560220718384\n",
            "Epoch 31, batch 10, loss: 2.5451087951660156\n",
            "Epoch 31, batch 20, loss: 2.694598913192749\n",
            "Epoch 32, batch 0, loss: 2.9995665550231934\n",
            "Epoch 32, batch 10, loss: 2.773239850997925\n",
            "Epoch 32, batch 20, loss: 2.5944485664367676\n",
            "Epoch 33, batch 0, loss: 3.002882957458496\n",
            "Epoch 33, batch 10, loss: 3.053382396697998\n",
            "Epoch 33, batch 20, loss: 2.52571702003479\n",
            "Epoch 34, batch 0, loss: 2.6798150539398193\n",
            "Epoch 34, batch 10, loss: 3.2240548133850098\n",
            "Epoch 34, batch 20, loss: 2.637791156768799\n",
            "Epoch 35, batch 0, loss: 2.810685157775879\n",
            "Epoch 35, batch 10, loss: 2.605929374694824\n",
            "Epoch 35, batch 20, loss: 2.3827643394470215\n",
            "Epoch 36, batch 0, loss: 2.2326300144195557\n",
            "Epoch 36, batch 10, loss: 2.5112392902374268\n",
            "Epoch 36, batch 20, loss: 3.069143533706665\n",
            "Epoch 37, batch 0, loss: 2.8626036643981934\n",
            "Epoch 37, batch 10, loss: 3.1597535610198975\n",
            "Epoch 37, batch 20, loss: 2.229670524597168\n",
            "Epoch 38, batch 0, loss: 2.4193217754364014\n",
            "Epoch 38, batch 10, loss: 2.516564130783081\n",
            "Epoch 38, batch 20, loss: 2.7212491035461426\n",
            "Epoch 39, batch 0, loss: 2.3400893211364746\n",
            "Epoch 39, batch 10, loss: 2.3963253498077393\n",
            "Epoch 39, batch 20, loss: 2.764176368713379\n",
            "Epoch 40, batch 0, loss: 2.5146484375\n",
            "Epoch 40, batch 10, loss: 3.0052990913391113\n",
            "Epoch 40, batch 20, loss: 2.598853349685669\n",
            "Epoch 41, batch 0, loss: 2.239912509918213\n",
            "Epoch 41, batch 10, loss: 2.866630792617798\n",
            "Epoch 41, batch 20, loss: 2.454458475112915\n",
            "Epoch 42, batch 0, loss: 2.762268543243408\n",
            "Epoch 42, batch 10, loss: 2.433938980102539\n",
            "Epoch 42, batch 20, loss: 2.6550722122192383\n",
            "Epoch 43, batch 0, loss: 2.581141471862793\n",
            "Epoch 43, batch 10, loss: 2.64957857131958\n",
            "Epoch 43, batch 20, loss: 3.192115068435669\n",
            "Epoch 44, batch 0, loss: 2.2706682682037354\n",
            "Epoch 44, batch 10, loss: 2.4604475498199463\n",
            "Epoch 44, batch 20, loss: 2.539156913757324\n",
            "Epoch 45, batch 0, loss: 2.485163688659668\n",
            "Epoch 45, batch 10, loss: 2.4278976917266846\n",
            "Epoch 45, batch 20, loss: 2.4722814559936523\n",
            "Epoch 46, batch 0, loss: 2.316948175430298\n",
            "Epoch 46, batch 10, loss: 2.667383909225464\n",
            "Epoch 46, batch 20, loss: 3.0881590843200684\n",
            "Epoch 47, batch 0, loss: 2.347878932952881\n",
            "Epoch 47, batch 10, loss: 2.371276378631592\n",
            "Epoch 47, batch 20, loss: 2.5394628047943115\n",
            "Epoch 48, batch 0, loss: 2.4118096828460693\n",
            "Epoch 48, batch 10, loss: 2.422994375228882\n",
            "Epoch 48, batch 20, loss: 2.345217704772949\n",
            "Epoch 49, batch 0, loss: 2.7438881397247314\n",
            "Epoch 49, batch 10, loss: 2.1928138732910156\n",
            "Epoch 49, batch 20, loss: 1.975430965423584\n"
          ]
        }
      ]
    },
    {
      "cell_type": "markdown",
      "source": [
        "## 4.4 Xvector training (15 pt)\n",
        "\n",
        "In this section, we will train a model with the following architecture: 3 layers with the context of 3 frames for each layer.\n",
        "\n",
        "1. In the subsequent code cells, instantiate three different xvector models. Each Xvector model differs in the hidden dimension: 32, 64 and 128. Obtain the accuracy for each model. Name each model carefully (e.g. model_32d, model_64d, ...) in order to be able to differentiate the results easily. Justify the results obtained.\n",
        "\n",
        "2. Identify flaw(s) if any with our experimental setup for speaker identification system for 44 speakers? Justify your answer.\n",
        "  - Model with 32 hidden dimensions: Likely to be faster to train and less prone to overfitting but might struggle to capture the complexity of the data, especially with 44 speakers.\n",
        "  - Model with 64 hidden dimensions: Should strike a balance between model  \n",
        "  capacity and generalization. It may offer better performance than the 32-dimensional model without overfitting too much.\n",
        " - Model with 128 hidden dimensions: Likely to perform the best in terms of accuracy but at the risk of overfitting. This model will require more data to train effectively and generalize well."
      ],
      "metadata": {
        "id": "S9SoRxDfH5V3"
      }
    },
    {
      "cell_type": "code",
      "source": [
        "# You may reuse any code done in earlier part of the experiment.\n",
        "#class Xvector(nn.Module):\n",
        "#    def __init__(self, feat_dim, n_target_speakers, n_layers=1, hidden_dim=32, contexts=[1]):\n",
        "\n",
        "#class TrainDataset(torch.utils.data.Dataset):\n",
        "#    def __init__(self, feats_path, spkr2enroll_files, spkr2idx):\n",
        "\n",
        "#dataset = TrainDataset(feats_train_path, spkr2enroll_files, spkr2idx)\n",
        "\n",
        "def calculate_accuracy(model, dataloader):\n",
        "    model.eval()  # Set model to evaluation mode\n",
        "    correct_preds = 0\n",
        "    total_preds = 0\n",
        "    with torch.no_grad():\n",
        "        for data, labels, x_lens in dataloader:\n",
        "            output = model(data, x_lens)\n",
        "            _, predicted = torch.max(output, 1)\n",
        "            correct_preds += (predicted == labels).sum().item()\n",
        "            total_preds += labels.size(0)\n",
        "    accuracy = correct_preds / total_preds * 100.0\n",
        "    return accuracy\n",
        "\n",
        "model_32 = Xvector(20, len(spkr2enroll_files), hidden_dim=32, contexts=[3])\n",
        "model_64 = Xvector(20, len(spkr2enroll_files), hidden_dim=64, contexts=[3])\n",
        "model_128 = Xvector(20, len(spkr2enroll_files), hidden_dim=128, contexts=[3])\n",
        "\n",
        "optimizer_32 = torch.optim.Adam(model_32.parameters(), lr=0.0003)\n",
        "optimizer_64 = torch.optim.Adam(model_64.parameters(), lr=0.0003)\n",
        "optimizer_128 = torch.optim.Adam(model_128.parameters(), lr=0.0003)\n",
        "\n",
        "criterion = nn.NLLLoss(reduction='sum')\n",
        "\n",
        "dataloader = torch.utils.data.DataLoader(dataset, batch_size=8, shuffle=True, collate_fn=collate_fn)\n",
        "\n",
        "train_loss_32 = []\n",
        "accuracies_32 = []\n",
        "for epoch in range(50):\n",
        "    model_32.train()\n",
        "    for i, (data, labels, x_lens) in enumerate(dataloader):\n",
        "        optimizer_32.zero_grad()\n",
        "        output = model_32(data, x_lens)\n",
        "        loss = criterion(output, labels)\n",
        "        train_loss_32.append(loss.item())\n",
        "        loss.backward()\n",
        "        optimizer_32.step()\n",
        "\n",
        "    accuracy_32 = calculate_accuracy(model_32, dataloader)\n",
        "    accuracies_32.append(accuracy_32)\n",
        "\n",
        "train_loss_64 = []\n",
        "accuracies_64 = []\n",
        "for epoch in range(50):\n",
        "    model_64.train()\n",
        "    for i, (data, labels, x_lens) in enumerate(dataloader):\n",
        "        optimizer_64.zero_grad()\n",
        "        output = model_64(data, x_lens)\n",
        "        loss = criterion(output, labels)\n",
        "        train_loss_64.append(loss.item())\n",
        "        loss.backward()\n",
        "        optimizer_64.step()\n",
        "\n",
        "    accuracy_64 = calculate_accuracy(model_64, dataloader)\n",
        "    accuracies_64.append(accuracy_64)\n",
        "\n",
        "train_loss_128 = []\n",
        "accuracies_128 = []\n",
        "for epoch in range(50):\n",
        "    model_128.train()\n",
        "    for i, (data, labels, x_lens) in enumerate(dataloader):\n",
        "        optimizer_128.zero_grad()\n",
        "        output = model_128(data, x_lens)\n",
        "        loss = criterion(output, labels)\n",
        "        train_loss_128.append(loss.item())\n",
        "        loss.backward()\n",
        "        optimizer_128.step()\n",
        "\n",
        "    accuracy_128 = calculate_accuracy(model_128, dataloader)\n",
        "    accuracies_128.append(accuracy_128)\n",
        "\n",
        "print(\"\\nFinal Accuracies:\")\n",
        "print(f\"Model_32 final accuracy: {accuracies_32[-1]:.2f}%\")\n",
        "print(f\"Model_64 final accuracy: {accuracies_64[-1]:.2f}%\")\n",
        "print(f\"Model_128 final accuracy: {accuracies_128[-1]:.2f}%\")\n",
        "\n",
        "\n",
        "\n"
      ],
      "metadata": {
        "id": "u0keziXhIfqL",
        "colab": {
          "base_uri": "https://localhost:8080/"
        },
        "outputId": "9f4e6dfe-3387-43bb-d12b-95f1578603db"
      },
      "execution_count": null,
      "outputs": [
        {
          "output_type": "stream",
          "name": "stdout",
          "text": [
            "\n",
            "Final Accuracies:\n",
            "Model_32 final accuracy: 59.80%\n",
            "Model_64 final accuracy: 85.78%\n",
            "Model_128 final accuracy: 96.57%\n"
          ]
        }
      ]
    },
    {
      "cell_type": "markdown",
      "source": [
        "### 4.5 Speaker verification with Xvector embeddings (10 pt)\n",
        "\n",
        " Now we have a model. For \"every\" audio file in ``feats/train`` and ``feats/test`` extract an embedding. In the case of test folder,\n",
        "you will have 20 more files than that used for speaker identification so far.\n"
      ],
      "metadata": {
        "id": "kAP9Spa7IdJb"
      }
    },
    {
      "cell_type": "code",
      "source": [
        "model.eval()  # DO NOT remove this."
      ],
      "metadata": {
        "id": "qDwyeXDAH5KF",
        "colab": {
          "base_uri": "https://localhost:8080/"
        },
        "outputId": "cff18aa6-e380-4707-9b14-02c6f4d1b88a"
      },
      "execution_count": null,
      "outputs": [
        {
          "output_type": "execute_result",
          "data": {
            "text/plain": [
              "Xvector(\n",
              "  (tdnn1): TDNNBatchNorm(\n",
              "    (tdnn): TDNN(\n",
              "      (linear): Linear(in_features=60, out_features=32, bias=True)\n",
              "    )\n",
              "    (bn): BatchNorm1d(32, eps=1e-05, momentum=0.1, affine=False, track_running_stats=True)\n",
              "  )\n",
              "  (tdnn2_module_list): ModuleList(\n",
              "    (0-1): 2 x TDNNBatchNorm(\n",
              "      (tdnn): TDNN(\n",
              "        (linear): Linear(in_features=96, out_features=32, bias=True)\n",
              "      )\n",
              "      (bn): BatchNorm1d(32, eps=1e-05, momentum=0.1, affine=False, track_running_stats=True)\n",
              "    )\n",
              "  )\n",
              "  (linear1): Linear(in_features=64, out_features=32, bias=True)\n",
              "  (linear2): Linear(in_features=32, out_features=44, bias=True)\n",
              "  (bn): BatchNorm1d(32, eps=1e-05, momentum=0.1, affine=False, track_running_stats=True)\n",
              ")"
            ]
          },
          "metadata": {},
          "execution_count": 41
        }
      ]
    },
    {
      "cell_type": "code",
      "source": [
        "test_files_set = set(test_files)\n",
        "with open(ex_files/'test_files') as ipf:\n",
        "    new_test_files = [ln.strip() for ln in ipf if ln.strip() not in test_files_set]\n",
        "\n",
        "new_test_files_set = set(new_test_files)"
      ],
      "metadata": {
        "id": "Z_uT_KdaI4pa"
      },
      "execution_count": null,
      "outputs": []
    },
    {
      "cell_type": "code",
      "source": [
        "assert len(new_test_files) == 20, \"test_files or test_files_target_only is not correct. Please verify\""
      ],
      "metadata": {
        "id": "BbZhNEiFJAE6"
      },
      "execution_count": null,
      "outputs": []
    },
    {
      "cell_type": "code",
      "source": [
        "# extract embeddings for enrollment files\n",
        "enroll_file2embedding = {}\n",
        "for spkr, enroll_files in spkr2enroll_files.items():\n",
        "    all_mfccs = []\n",
        "    for segment in enroll_files:\n",
        "        mfcc_file = os.path.join(ex_files, 'feats', 'train', segment + '.pt')\n",
        "        mfcc_tensor = torch.load(mfcc_file)\n",
        "\n",
        "        mfcc_tensor = mfcc_tensor.unsqueeze(0)\n",
        "        x_lens = torch.tensor([mfcc_tensor.shape[1]])\n",
        "\n",
        "        embedding = model.get_embedding(mfcc_tensor, x_lens)\n",
        "        enroll_file2embedding[segment] = embedding"
      ],
      "metadata": {
        "id": "ClU9VPDwMer7",
        "colab": {
          "base_uri": "https://localhost:8080/"
        },
        "outputId": "4a53105a-1bc3-429a-d22e-f0f3e3e2a04c"
      },
      "execution_count": null,
      "outputs": [
        {
          "output_type": "stream",
          "name": "stderr",
          "text": [
            "<ipython-input-44-70a8cc732b49>:7: FutureWarning: You are using `torch.load` with `weights_only=False` (the current default value), which uses the default pickle module implicitly. It is possible to construct malicious pickle data which will execute arbitrary code during unpickling (See https://github.com/pytorch/pytorch/blob/main/SECURITY.md#untrusted-models for more details). In a future release, the default value for `weights_only` will be flipped to `True`. This limits the functions that could be executed during unpickling. Arbitrary objects will no longer be allowed to be loaded via this mode unless they are explicitly allowlisted by the user via `torch.serialization.add_safe_globals`. We recommend you start setting `weights_only=True` for any use case where you don't have full control of the loaded file. Please open an issue on GitHub for any issues related to this experimental feature.\n",
            "  mfcc_tensor = torch.load(mfcc_file)\n"
          ]
        }
      ]
    },
    {
      "cell_type": "code",
      "source": [
        "test_file2embedding = {}\n",
        "# for each .pt file in feats/test/:\n",
        "for test_name in test_files + new_test_files:\n",
        "    est_mfcc_file = os.path.join(ex_files, 'feats', 'test', test_name + '.pt')\n",
        "    test_mfcc_tensor = torch.load(test_mfcc_file)\n",
        "\n",
        "    test_mfcc_tensor = test_mfcc_tensor.unsqueeze(0)\n",
        "    x_lens = torch.tensor([test_mfcc_tensor.shape[1]])\n",
        "\n",
        "    embedding = model.get_embedding(test_mfcc_tensor, x_lens)\n",
        "\n",
        "    test_file2embedding[test_name] = embedding"
      ],
      "metadata": {
        "id": "Yn2X3e3CM0tX",
        "colab": {
          "base_uri": "https://localhost:8080/"
        },
        "outputId": "c8f1224d-70a3-4a4d-9bf9-f6e34d229431"
      },
      "execution_count": null,
      "outputs": [
        {
          "output_type": "stream",
          "name": "stderr",
          "text": [
            "<ipython-input-46-6f4330e7f393>:5: FutureWarning: You are using `torch.load` with `weights_only=False` (the current default value), which uses the default pickle module implicitly. It is possible to construct malicious pickle data which will execute arbitrary code during unpickling (See https://github.com/pytorch/pytorch/blob/main/SECURITY.md#untrusted-models for more details). In a future release, the default value for `weights_only` will be flipped to `True`. This limits the functions that could be executed during unpickling. Arbitrary objects will no longer be allowed to be loaded via this mode unless they are explicitly allowlisted by the user via `torch.serialization.add_safe_globals`. We recommend you start setting `weights_only=True` for any use case where you don't have full control of the loaded file. Please open an issue on GitHub for any issues related to this experimental feature.\n",
            "  test_mfcc_tensor = torch.load(test_mfcc_file)\n"
          ]
        }
      ]
    },
    {
      "cell_type": "code",
      "source": [
        "target_scores = []\n",
        "non_target_scores = []\n",
        "\n",
        "for test_file, test_embedding in test_file2embedding.items():\n",
        "    test_embedding = test_embedding.squeeze()\n",
        "    for enroll_file, enroll_embedding in enroll_file2embedding.items():\n",
        "        enroll_embedding = enroll_embedding.squeeze().cpu()\n",
        "\n",
        "        score = F.cosine_similarity(test_embedding.unsqueeze(0), enroll_embedding.unsqueeze(0))\n",
        "\n",
        "        if test_file in test_files_set and enroll2spkr_id[enroll_file] == test_file2spk_id[test_file]:\n",
        "            target_scores.append(score.item())\n",
        "        else:\n",
        "            non_target_scores.append(score.item())\n",
        "\n",
        "print(f\"Number of target scores: {len(target_scores)}\")\n",
        "print(f\"Number of non-target scores: {len(non_target_scores)}\")\n"
      ],
      "metadata": {
        "id": "XfLEQZ-kMyJI",
        "colab": {
          "base_uri": "https://localhost:8080/"
        },
        "outputId": "a5cc6b8c-ef3c-4ca5-b209-1b8ff361c9ae"
      },
      "execution_count": null,
      "outputs": [
        {
          "output_type": "stream",
          "name": "stdout",
          "text": [
            "Number of target scores: 235\n",
            "Number of non-target scores: 13433\n"
          ]
        }
      ]
    },
    {
      "cell_type": "code",
      "source": [
        "# compute eer\n",
        "scores = np.array(target_scores + non_target_scores)\n",
        "labels = [1]*len(target_scores) + [0]*len(non_target_scores)\n",
        "labels = np.array(labels)\n",
        "assert scores.shape == labels.shape, \"The number of scores and labels should be the same\"\n",
        "eer = compute_eer(scores, labels)\n",
        "print(\"Equal error rate \", eer*100.0)"
      ],
      "metadata": {
        "id": "pBIzyPNSNMas",
        "colab": {
          "base_uri": "https://localhost:8080/"
        },
        "outputId": "bb3e1c86-c672-4305-a088-5247bb346895"
      },
      "execution_count": null,
      "outputs": [
        {
          "output_type": "stream",
          "name": "stdout",
          "text": [
            "Equal error rate  50.638297872340424\n"
          ]
        }
      ]
    },
    {
      "cell_type": "markdown",
      "source": [
        "## 5. Embeddings from a pretrained model (10 pt)\n",
        "\n",
        "In this part of the exercise, we will use a pretrained model. This is a model trained with large amounts of data collected and annotated from YouTube recording. The objective of this exercise is to\n",
        "\n",
        "1. practice using open source models for speaker recognition tasks\n",
        "2. realise the ease with which we can reuse publicly available models.\n",
        "3. understand the power of generalizability of speaker emebddings extracted from models trained with large amounts of data on unseen data\n",
        "\n",
        "We will use a model based on the [ECAPA-TDNN architecture](https://arxiv.org/pdf/2005.07143) (not discussed in the class, but it is not required to understand the architecture to run this exercise). The model was trained with the speechbrain toolkit using only one dataset: the VoxCeleb dataset which consists of 1000s of celebrity speakers. It takes 16 kHz audio as input."
      ],
      "metadata": {
        "id": "VztE7hlqOBtv"
      }
    },
    {
      "cell_type": "code",
      "source": [
        "! pip install speechbrain"
      ],
      "metadata": {
        "id": "zE39wJUrOBAH",
        "colab": {
          "base_uri": "https://localhost:8080/"
        },
        "outputId": "e461fbc0-d3a2-4b22-db0c-48c0561f35e6"
      },
      "execution_count": null,
      "outputs": [
        {
          "output_type": "stream",
          "name": "stdout",
          "text": [
            "Collecting speechbrain\n",
            "  Downloading speechbrain-1.0.2-py3-none-any.whl.metadata (23 kB)\n",
            "Collecting hyperpyyaml (from speechbrain)\n",
            "  Downloading HyperPyYAML-1.2.2-py3-none-any.whl.metadata (7.6 kB)\n",
            "Requirement already satisfied: joblib in /usr/local/lib/python3.10/dist-packages (from speechbrain) (1.4.2)\n",
            "Requirement already satisfied: numpy in /usr/local/lib/python3.10/dist-packages (from speechbrain) (1.26.4)\n",
            "Requirement already satisfied: packaging in /usr/local/lib/python3.10/dist-packages (from speechbrain) (24.2)\n",
            "Requirement already satisfied: scipy in /usr/local/lib/python3.10/dist-packages (from speechbrain) (1.13.1)\n",
            "Requirement already satisfied: sentencepiece in /usr/local/lib/python3.10/dist-packages (from speechbrain) (0.2.0)\n",
            "Requirement already satisfied: torch>=1.9 in /usr/local/lib/python3.10/dist-packages (from speechbrain) (2.5.1+cu121)\n",
            "Requirement already satisfied: torchaudio in /usr/local/lib/python3.10/dist-packages (from speechbrain) (2.5.1+cu121)\n",
            "Requirement already satisfied: tqdm in /usr/local/lib/python3.10/dist-packages (from speechbrain) (4.66.6)\n",
            "Requirement already satisfied: huggingface-hub in /usr/local/lib/python3.10/dist-packages (from speechbrain) (0.26.2)\n",
            "Requirement already satisfied: filelock in /usr/local/lib/python3.10/dist-packages (from torch>=1.9->speechbrain) (3.16.1)\n",
            "Requirement already satisfied: typing-extensions>=4.8.0 in /usr/local/lib/python3.10/dist-packages (from torch>=1.9->speechbrain) (4.12.2)\n",
            "Requirement already satisfied: networkx in /usr/local/lib/python3.10/dist-packages (from torch>=1.9->speechbrain) (3.4.2)\n",
            "Requirement already satisfied: jinja2 in /usr/local/lib/python3.10/dist-packages (from torch>=1.9->speechbrain) (3.1.4)\n",
            "Requirement already satisfied: fsspec in /usr/local/lib/python3.10/dist-packages (from torch>=1.9->speechbrain) (2024.10.0)\n",
            "Requirement already satisfied: sympy==1.13.1 in /usr/local/lib/python3.10/dist-packages (from torch>=1.9->speechbrain) (1.13.1)\n",
            "Requirement already satisfied: mpmath<1.4,>=1.1.0 in /usr/local/lib/python3.10/dist-packages (from sympy==1.13.1->torch>=1.9->speechbrain) (1.3.0)\n",
            "Requirement already satisfied: pyyaml>=5.1 in /usr/local/lib/python3.10/dist-packages (from huggingface-hub->speechbrain) (6.0.2)\n",
            "Requirement already satisfied: requests in /usr/local/lib/python3.10/dist-packages (from huggingface-hub->speechbrain) (2.32.3)\n",
            "Collecting ruamel.yaml>=0.17.28 (from hyperpyyaml->speechbrain)\n",
            "  Downloading ruamel.yaml-0.18.6-py3-none-any.whl.metadata (23 kB)\n",
            "Collecting ruamel.yaml.clib>=0.2.7 (from ruamel.yaml>=0.17.28->hyperpyyaml->speechbrain)\n",
            "  Downloading ruamel.yaml.clib-0.2.12-cp310-cp310-manylinux_2_17_x86_64.manylinux2014_x86_64.whl.metadata (2.7 kB)\n",
            "Requirement already satisfied: MarkupSafe>=2.0 in /usr/local/lib/python3.10/dist-packages (from jinja2->torch>=1.9->speechbrain) (3.0.2)\n",
            "Requirement already satisfied: charset-normalizer<4,>=2 in /usr/local/lib/python3.10/dist-packages (from requests->huggingface-hub->speechbrain) (3.4.0)\n",
            "Requirement already satisfied: idna<4,>=2.5 in /usr/local/lib/python3.10/dist-packages (from requests->huggingface-hub->speechbrain) (3.10)\n",
            "Requirement already satisfied: urllib3<3,>=1.21.1 in /usr/local/lib/python3.10/dist-packages (from requests->huggingface-hub->speechbrain) (2.2.3)\n",
            "Requirement already satisfied: certifi>=2017.4.17 in /usr/local/lib/python3.10/dist-packages (from requests->huggingface-hub->speechbrain) (2024.8.30)\n",
            "Downloading speechbrain-1.0.2-py3-none-any.whl (824 kB)\n",
            "\u001b[2K   \u001b[90m━━━━━━━━━━━━━━━━━━━━━━━━━━━━━━━━━━━━━━━━\u001b[0m \u001b[32m824.8/824.8 kB\u001b[0m \u001b[31m12.9 MB/s\u001b[0m eta \u001b[36m0:00:00\u001b[0m\n",
            "\u001b[?25hDownloading HyperPyYAML-1.2.2-py3-none-any.whl (16 kB)\n",
            "Downloading ruamel.yaml-0.18.6-py3-none-any.whl (117 kB)\n",
            "\u001b[2K   \u001b[90m━━━━━━━━━━━━━━━━━━━━━━━━━━━━━━━━━━━━━━━━\u001b[0m \u001b[32m117.8/117.8 kB\u001b[0m \u001b[31m9.0 MB/s\u001b[0m eta \u001b[36m0:00:00\u001b[0m\n",
            "\u001b[?25hDownloading ruamel.yaml.clib-0.2.12-cp310-cp310-manylinux_2_17_x86_64.manylinux2014_x86_64.whl (722 kB)\n",
            "\u001b[2K   \u001b[90m━━━━━━━━━━━━━━━━━━━━━━━━━━━━━━━━━━━━━━━━\u001b[0m \u001b[32m722.2/722.2 kB\u001b[0m \u001b[31m38.1 MB/s\u001b[0m eta \u001b[36m0:00:00\u001b[0m\n",
            "\u001b[?25hInstalling collected packages: ruamel.yaml.clib, ruamel.yaml, hyperpyyaml, speechbrain\n",
            "Successfully installed hyperpyyaml-1.2.2 ruamel.yaml-0.18.6 ruamel.yaml.clib-0.2.12 speechbrain-1.0.2\n"
          ]
        }
      ]
    },
    {
      "cell_type": "code",
      "source": [
        "# To extract embedding from the ecapa-tdnn\n",
        "import torchaudio\n",
        "from speechbrain.inference.speaker import EncoderClassifier\n",
        "classifier = EncoderClassifier.from_hparams(source=\"speechbrain/spkrec-ecapa-voxceleb\")"
      ],
      "metadata": {
        "id": "Ph5Aa30KOFY0",
        "colab": {
          "base_uri": "https://localhost:8080/",
          "height": 307,
          "referenced_widgets": [
            "db21fa1d7c1e49699cd0e682a9522ef6",
            "857fe1f205434fdf9a0460411d05ea25",
            "e94f9cb7355349ef8d44504a51ac250a",
            "e08b48853e4741db86ea8caa3100309a",
            "543d54a8be504ee1a2af1ed869e0b40a",
            "f7939e290aec4e98bc8bc2ac14e6bcaf",
            "155f06175d5442918ab909018434ffdc",
            "ce06abf6ccd7455c8f6c3d0c2055812a",
            "4b44a0ef1a824e9a807fcc4ddf0197fc",
            "6dc4ba460d2d4c6e8c5421ad69bd3c34",
            "fd4e86fa8fb24b809a9c19a5737d0d24",
            "39bb69ccbe7e4ffbb40ce1261bebaf39",
            "11cafea0df3b4970aad6ebc4e54e5f74",
            "2ad4effae5c441d2a280337c6aaa3ad4",
            "40318ed2aee04df09eb66a8bb5ab48ae",
            "610e0cc61ac64876bf24254e4a3142fa",
            "8b35e62f3de34e0a9ec5c75f920ec096",
            "ee027f6062ee4da78c0014573492171a",
            "caeb312067314384994cd77dc9c365ce",
            "821e78090b5f400092034a5d23cc6210",
            "9c3301bfeaa84a34b298e74a7722b047",
            "7477ad4472d64232995089928ea9088a",
            "e49725b9b7314947b47290565e3ba73d",
            "580e3f8a0c8f4f8799ebc5dc6c8eb806",
            "fc5259d061ed47de90787f8df1d717aa",
            "58090f43b7da4d9fa2707fab139022ea",
            "ef99c5fa51cc4d19a1c32d472cf1a357",
            "ce83e30825dd44f5af4b4b5326d067ef",
            "82e45f6bd4f84103893166973a9adade",
            "5011316c6912406ab182b2932138115a",
            "b485ecfa7bf5493287e12256285e97bf",
            "dcb4dabf7c614928acd49c74951b14bc",
            "c8f4a47aea534cb4979f45487e03d3a3",
            "64c4264f39e447cf810e78bc391a1c07",
            "3f4e85d248d5400b9173da7f4a35fbd3",
            "7c1f91008c2b419eaf534e38edc09a62",
            "f63cbb44d4fe4db9bc2e1b6c67f87cb2",
            "0cb460b494634f99b56345d014e05650",
            "08c0dd7db4094ed1b8421a2851a86aa4",
            "61ccf907d2ab45ffa0a16864f6b9d186",
            "11dddbff51a7478ba0d337bfb1aedcd5",
            "92960ebd2dc04a7a8b9aef2df58cb725",
            "4c447269b99140b8b3e0189318e66db0",
            "c90057fc84b54fe58a8fab2b731dc4ee",
            "07fbb1aa4d654f9abba3bf43d02adb92",
            "b8cbc166933e409794e4a126a93e1f53",
            "3795ffb6d77c4dc3bb990ebc61a27041",
            "71755b4ab0e44f088238b4d12ccb25c4",
            "418c6a29f8954d00ba30ab5b7176334b",
            "282b8641aa624781833f45dd38614f93",
            "f00379eea79c46e087ab99719b87f657",
            "d1454c76f9c445b0b2c95d9d6af881ef",
            "d8c44f27b776431b8595ae6dc8d67c10",
            "5d90d2106a794badaf87b2b58bfc275e",
            "e5c96f87431a4055b9e60571c1231d2a"
          ]
        },
        "outputId": "4182bb85-4189-4b3f-b8ff-f556b455e857"
      },
      "execution_count": null,
      "outputs": [
        {
          "output_type": "display_data",
          "data": {
            "text/plain": [
              "hyperparams.yaml:   0%|          | 0.00/1.92k [00:00<?, ?B/s]"
            ],
            "application/vnd.jupyter.widget-view+json": {
              "version_major": 2,
              "version_minor": 0,
              "model_id": "db21fa1d7c1e49699cd0e682a9522ef6"
            }
          },
          "metadata": {}
        },
        {
          "output_type": "stream",
          "name": "stderr",
          "text": [
            "/usr/local/lib/python3.10/dist-packages/speechbrain/utils/autocast.py:68: FutureWarning: `torch.cuda.amp.custom_fwd(args...)` is deprecated. Please use `torch.amp.custom_fwd(args..., device_type='cuda')` instead.\n",
            "  wrapped_fwd = torch.cuda.amp.custom_fwd(fwd, cast_inputs=cast_inputs)\n"
          ]
        },
        {
          "output_type": "display_data",
          "data": {
            "text/plain": [
              "embedding_model.ckpt:   0%|          | 0.00/83.3M [00:00<?, ?B/s]"
            ],
            "application/vnd.jupyter.widget-view+json": {
              "version_major": 2,
              "version_minor": 0,
              "model_id": "39bb69ccbe7e4ffbb40ce1261bebaf39"
            }
          },
          "metadata": {}
        },
        {
          "output_type": "display_data",
          "data": {
            "text/plain": [
              "mean_var_norm_emb.ckpt:   0%|          | 0.00/1.92k [00:00<?, ?B/s]"
            ],
            "application/vnd.jupyter.widget-view+json": {
              "version_major": 2,
              "version_minor": 0,
              "model_id": "e49725b9b7314947b47290565e3ba73d"
            }
          },
          "metadata": {}
        },
        {
          "output_type": "display_data",
          "data": {
            "text/plain": [
              "classifier.ckpt:   0%|          | 0.00/5.53M [00:00<?, ?B/s]"
            ],
            "application/vnd.jupyter.widget-view+json": {
              "version_major": 2,
              "version_minor": 0,
              "model_id": "64c4264f39e447cf810e78bc391a1c07"
            }
          },
          "metadata": {}
        },
        {
          "output_type": "display_data",
          "data": {
            "text/plain": [
              "label_encoder.txt:   0%|          | 0.00/129k [00:00<?, ?B/s]"
            ],
            "application/vnd.jupyter.widget-view+json": {
              "version_major": 2,
              "version_minor": 0,
              "model_id": "07fbb1aa4d654f9abba3bf43d02adb92"
            }
          },
          "metadata": {}
        },
        {
          "output_type": "stream",
          "name": "stderr",
          "text": [
            "/usr/local/lib/python3.10/dist-packages/speechbrain/utils/checkpoints.py:200: FutureWarning: You are using `torch.load` with `weights_only=False` (the current default value), which uses the default pickle module implicitly. It is possible to construct malicious pickle data which will execute arbitrary code during unpickling (See https://github.com/pytorch/pytorch/blob/main/SECURITY.md#untrusted-models for more details). In a future release, the default value for `weights_only` will be flipped to `True`. This limits the functions that could be executed during unpickling. Arbitrary objects will no longer be allowed to be loaded via this mode unless they are explicitly allowlisted by the user via `torch.serialization.add_safe_globals`. We recommend you start setting `weights_only=True` for any use case where you don't have full control of the loaded file. Please open an issue on GitHub for any issues related to this experimental feature.\n",
            "  state_dict = torch.load(path, map_location=device)\n",
            "/usr/local/lib/python3.10/dist-packages/speechbrain/processing/features.py:1311: FutureWarning: You are using `torch.load` with `weights_only=False` (the current default value), which uses the default pickle module implicitly. It is possible to construct malicious pickle data which will execute arbitrary code during unpickling (See https://github.com/pytorch/pytorch/blob/main/SECURITY.md#untrusted-models for more details). In a future release, the default value for `weights_only` will be flipped to `True`. This limits the functions that could be executed during unpickling. Arbitrary objects will no longer be allowed to be loaded via this mode unless they are explicitly allowlisted by the user via `torch.serialization.add_safe_globals`. We recommend you start setting `weights_only=True` for any use case where you don't have full control of the loaded file. Please open an issue on GitHub for any issues related to this experimental feature.\n",
            "  stats = torch.load(path, map_location=device)\n"
          ]
        }
      ]
    },
    {
      "cell_type": "code",
      "source": [
        "# Modify any part if necessary\n",
        "import torchaudio\n",
        "\n",
        "enroll_file2embedding = {}\n",
        "enroll2spkr_id = {}\n",
        "for spkr, enroll_files in spkr2enroll_files.items():\n",
        "    all_mfccs = []\n",
        "    for segment in enroll_files:\n",
        "        audio_path = os.path.join(\"/content/drive/MyDrive/exercise_4/train\", segment + '.wav')\n",
        "        audio_samples, sample_rate = torchaudio.load(audio_path)\n",
        "\n",
        "        if sample_rate != 16000:\n",
        "            audio_samples = torchaudio.transforms.Resample(orig_freq=sample_rate, new_freq=16000)(audio_samples)\n",
        "\n",
        "        embedding = classifier.encode_batch(audio_samples)\n",
        "\n",
        "        enroll_file2embedding[segment] = embedding.squeeze(0)\n",
        "        enroll2spkr_id[segment] = spkr\n",
        "\n"
      ],
      "metadata": {
        "id": "HcROumBCOJnQ"
      },
      "execution_count": null,
      "outputs": []
    },
    {
      "cell_type": "code",
      "source": [
        "test_file2embedding = {}\n",
        "\n",
        "for test_name in test_files + new_test_files:\n",
        "    audio_path = os.path.join(\"/content/drive/MyDrive/exercise_4/test\", test_name + '.wav')\n",
        "    audio_samples, sample_rate = torchaudio.load(audio_path)\n",
        "\n",
        "    if sample_rate != 16000:\n",
        "        resampler = torchaudio.transforms.Resample(orig_freq=sample_rate, new_freq=16000)\n",
        "        audio_samples = resampler(audio_samples)\n",
        "\n",
        "    embedding = classifier.encode_batch(audio_samples)\n",
        "\n",
        "    test_file2embedding[test_name] = embedding\n"
      ],
      "metadata": {
        "id": "ZKCE_k9XOL_r"
      },
      "execution_count": null,
      "outputs": []
    },
    {
      "cell_type": "code",
      "source": [
        "# Compute target, non-target scores, eer and print eer (reuse code from Section .5)\n",
        "# compute eer\n",
        "scores = np.array(target_scores + non_target_scores)\n",
        "labels = [1]*len(target_scores) + [0]*len(non_target_scores)\n",
        "labels = np.array(labels)\n",
        "assert scores.shape == labels.shape, \"The number of scores and labels should be the same\"\n",
        "eer = compute_eer(scores, labels)\n",
        "print(\"Equal error rate \", eer*100.0)"
      ],
      "metadata": {
        "id": "lOY9X1swORSu",
        "colab": {
          "base_uri": "https://localhost:8080/"
        },
        "outputId": "f9bbd912-b01a-408a-b74e-2b3013359c33"
      },
      "execution_count": null,
      "outputs": [
        {
          "output_type": "stream",
          "name": "stdout",
          "text": [
            "Equal error rate  50.638297872340424\n"
          ]
        }
      ]
    },
    {
      "cell_type": "markdown",
      "source": [
        "Write down your observation and conclusion comparing the above results with the results from Section 4.5 (maximum of 3 sentences)."
      ],
      "metadata": {
        "id": "1md5iwdvOeca"
      }
    },
    {
      "cell_type": "markdown",
      "source": [
        "## Closing questions about automatic speaker recognition (10 pt)\n",
        "\n",
        "Keep your answers brief (3 sentences maximum).\n",
        "\n",
        "1. What are the phases of system development for neural network based speaker verification system? (2pt)\n",
        "  - Data collection and preprocessing.\n",
        "  - Model training and evaluation.\n",
        "  - Deployment and monitoring.\n",
        "\n",
        "2. Given a collection of recordings what metadata is required to train a neural network based speaker identification system? (2pt)\n",
        "  - Speaker ID, recording timestamp, microphone/environment details, gender/age, language spoken.\n",
        "\n",
        "3. How can we convert parameters of a GMM model trained in this notebook into embeddings for speaker verification instead of using the scoring function? Justify your response. (6 pt)\n",
        "  - Extract the means and covariances from the trained GMM and use them as feature vectors.\n",
        "  - These vectors can represent speaker characteristics, providing a lower-dimensional embedding.\n",
        "  - This approach eliminates the need for scoring functions by directly using the GMM's statistical properties to represent speaker identity."
      ],
      "metadata": {
        "id": "hjwUmn0fOlxT"
      }
    }
  ]
}