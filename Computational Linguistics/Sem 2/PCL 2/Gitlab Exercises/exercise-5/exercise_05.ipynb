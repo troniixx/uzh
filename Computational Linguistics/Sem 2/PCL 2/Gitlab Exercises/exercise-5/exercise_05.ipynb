{
 "cells": [
  {
   "cell_type": "markdown",
   "metadata": {},
   "source": [
    "# Exercise 5: Time Complexity and Plotting Time Complexity\n",
    "\n",
    "- Student name: ________\n",
    "- Matriculation number: ________\n",
    "\n",
    "## Introduction\n",
    "This exercise serves as an introduction to time complexity, specifically how to measure the time complexity of a function and how to improve it.\n",
    "\n",
    "The last part of this exercise also shows you how to plot the time complexity of a function.\n",
    "\n",
    "### Submission\n",
    "This is an non-graded exercise, but you can submit your solution to get feedback from us. Make sure to submit your code through GitLab before **April 9th at 23:59**. Late submissions will not be considered for feedback. Please make sure to stick to Python best practices and documenting your code appropriately with comments and docstrings."
   ]
  },
  {
   "cell_type": "markdown",
   "metadata": {},
   "source": [
    "## Task 1: Determine the time complexity of simple algorithms\n",
    "In the cell below you will find three simple algorithms. Your task is to determine the time complexity of each algorithm. Please write your answer in the docstrings."
   ]
  },
  {
   "cell_type": "code",
   "execution_count": null,
   "metadata": {},
   "outputs": [],
   "source": [
    "def triplicates_inefficient(strings: list[str]) -> set[str]:\n",
    "    \"\"\"\n",
    "    Find the set of strings that appear exactly three times in `strings`.\n",
    "\n",
    "    Time complexity: TODO (with respect to `len(strings)`)\n",
    "    \"\"\"\n",
    "    triplicates = set()\n",
    "    for string in strings:\n",
    "        if strings.count(string) == 3:\n",
    "            triplicates.add(string)\n",
    "    return triplicates\n",
    "\n",
    "\n",
    "def longest_repeated_substring_inefficient(string: str) -> str:\n",
    "    \"\"\"\n",
    "    Find the longest substring that is repeated at least once in `string`.\n",
    "\n",
    "    Time complexity: TODO (with respect to `len(string)`)\n",
    "    \"\"\"\n",
    "    longest_substring = \"\"\n",
    "    # Iterate through all possible substrings\n",
    "    for substring1_start in range(len(string)):\n",
    "        for substring1_end in range(substring1_start + 1, len(string)):\n",
    "            substring1 = string[substring1_start:substring1_end]\n",
    "\n",
    "            # Iterate through all possible substrings that start after the first substring\n",
    "            for substring2_start in range(substring1_end, len(string)):\n",
    "                for substring2_end in range(substring2_start + 1, len(string)):\n",
    "                    substring2 = string[substring2_start:substring2_end]\n",
    "\n",
    "                    # Check if we have a new longest repeated substring\n",
    "                    if substring1 == substring2 and len(substring1) > len(longest_substring):\n",
    "                        longest_substring = substring1\n",
    "\n",
    "    return longest_substring\n",
    "\n",
    "\n",
    "def fibonacci_inefficient(n: int) -> int:\n",
    "    \"\"\"\n",
    "    Calculate the `n`th number in the Fibonacci sequence.\n",
    "\n",
    "    Time complexity: TODO (with respect to `number`)\n",
    "    \"\"\"\n",
    "    # See https://en.wikipedia.org/wiki/Fibonacci_sequence\n",
    "    # for more information on the Fibonacci sequence\n",
    "    if n <= 1:\n",
    "        return n\n",
    "    return fibonacci_inefficient(n - 1) + fibonacci_inefficient(n - 2)"
   ]
  },
  {
   "cell_type": "markdown",
   "metadata": {},
   "source": [
    "## Task 2: Improving time complexity\n",
    "Now that you have determined the time complexity of the algorithms, you might have noticed that they are not very efficient. Your task is to improve the time complexity of the algorithms by implementing them in a more efficient way. Please write your implementations at the corresponding `TODO` comments in the cell below."
   ]
  },
  {
   "cell_type": "code",
   "execution_count": null,
   "metadata": {},
   "outputs": [],
   "source": [
    "def triplicates_efficient(strings: list[str]) -> set[str]:\n",
    "    \"\"\"\n",
    "    Find the set of strings that appear exactly three times in `strings`.\n",
    "\n",
    "    Time complexity: TODO (with respect to `len(strings)`)\n",
    "    \"\"\"\n",
    "    # TODO\n",
    "\n",
    "\n",
    "def longest_repeated_substring_efficient(string: str) -> str:\n",
    "    \"\"\"\n",
    "    Find the longest substring that is repeated at least once in `string`.\n",
    "\n",
    "    Time complexity: TODO (with respect to `len(string)`)\n",
    "    \"\"\"\n",
    "    # TODO\n",
    "\n",
    "\n",
    "def fibonacci_efficient(n: int) -> int:\n",
    "    \"\"\"\n",
    "    Calculate the `n`th number in the Fibonacci sequence.\n",
    "\n",
    "    Time complexity: TODO (with respect to `number`)\n",
    "    \"\"\"\n",
    "    # TODO"
   ]
  },
  {
   "cell_type": "markdown",
   "metadata": {},
   "source": [
    "### Task 2.1: Plotting time complexity\n",
    "\n",
    "Use the following code to plot the time complexity of the inefficient implementations and your more efficient implementations. You need to install the packages specified in `requirements.txt`. You don't need to understand the code for plotting (yet).\n",
    "\n",
    "> **NOTE**: Some implementations will take a considerable amount of time to run. If you pick input data that is too large, it will take too long to run. If you pick input data that is too small, you will get a less accurate plot. You may need to adapt the `input_size` variable to find a good balance."
   ]
  },
  {
   "cell_type": "code",
   "execution_count": null,
   "metadata": {},
   "outputs": [],
   "source": [
    "import matplotlib.pyplot as plt\n",
    "import random\n",
    "from utils import plot_time_complexity_sequence, plot_time_complexity_int"
   ]
  },
  {
   "cell_type": "code",
   "execution_count": null,
   "metadata": {},
   "outputs": [],
   "source": [
    "input_size = 1000\n",
    "random_strings = [random.choice(\"abcde\") for _ in range(input_size)]\n",
    "\n",
    "fig, [ax1, ax2] = plt.subplots(1, 2, figsize=(10, 5))\n",
    "plot_time_complexity_sequence(triplicates_inefficient, random_strings, title=\"triplicates_inefficient\", ax=ax1)\n",
    "plot_time_complexity_sequence(triplicates_efficient, random_strings, title=\"triplicates_efficient\", ax=ax2)"
   ]
  },
  {
   "cell_type": "code",
   "execution_count": null,
   "metadata": {},
   "outputs": [],
   "source": [
    "input_size = 100\n",
    "random_string = random.choice(\"abcde\") * input_size\n",
    "\n",
    "fig, [ax1, ax2] = plt.subplots(1, 2, figsize=(10, 5))\n",
    "plot_time_complexity_sequence(longest_repeated_substring_inefficient, random_string, title=\"longest_repeated_substring_inefficient\", ax=ax1)\n",
    "plot_time_complexity_sequence(longest_repeated_substring_efficient, random_string, title=\"longest_repeated_substring_efficient\", ax=ax2)"
   ]
  },
  {
   "cell_type": "code",
   "execution_count": null,
   "metadata": {},
   "outputs": [],
   "source": [
    "input_size = 20\n",
    "\n",
    "fig, [ax1, ax2] = plt.subplots(1, 2, figsize=(10, 5))\n",
    "plot_time_complexity_int(fibonacci_inefficient, input_size, title=\"fibonacci_inefficient\", ax=ax1)\n",
    "plot_time_complexity_int(fibonacci_efficient, input_size, title=\"fibonacci_efficient\", ax=ax2)"
   ]
  },
  {
   "cell_type": "markdown",
   "metadata": {},
   "source": [
    "\n",
    "### Task 2.2: Comment on the results\n",
    "Look at the results of each function pair (inefficient vs efficient) and comment on the differences in time complexity. Did you achieve the expected improvement in time complexity? Was your calculation of the time complexity correct? Write your comments in the cell below."
   ]
  },
  {
   "cell_type": "markdown",
   "metadata": {},
   "source": [
    "**TODO**: Write your answers here."
   ]
  }
 ],
 "metadata": {
  "kernelspec": {
   "display_name": "Python 3",
   "language": "python",
   "name": "python3"
  },
  "language_info": {
   "codemirror_mode": {
    "name": "ipython",
    "version": 3
   },
   "file_extension": ".py",
   "mimetype": "text/x-python",
   "name": "python",
   "nbconvert_exporter": "python",
   "pygments_lexer": "ipython3",
   "version": "3.11.7"
  }
 },
 "nbformat": 4,
 "nbformat_minor": 2
}
