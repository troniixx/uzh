{
 "cells": [
  {
   "cell_type": "markdown",
   "id": "6deb436e",
   "metadata": {
    "slideshow": {
     "slide_type": "slide"
    }
   },
   "source": [
    "Programming Techniques in Computational Linguistics II – FS24\n",
    "\n",
    "\n",
    "# Lecture 5: Functional Programming "
   ]
  },
  {
   "cell_type": "markdown",
   "id": "53835ceb",
   "metadata": {
    "slideshow": {
     "slide_type": "subslide"
    }
   },
   "source": [
    "## Topics\n",
    "\n",
    "- Advanced Programming with Functions\n",
    "- Functional Programming\n",
    "- Iterables, Iterators and Generators"
   ]
  },
  {
   "cell_type": "markdown",
   "id": "66099813",
   "metadata": {
    "slideshow": {
     "slide_type": "subslide"
    }
   },
   "source": [
    "## Learning Objectives\n",
    "\n",
    "- You know how to use higher order functions, anonymous functions and decorators.\n",
    "- You can avoid side effects by using built in functions and list comprehensions.\n",
    "- You can use the `__iter__` special method to make custom classes iterable.\n",
    "- You know generator functions and their use cases."
   ]
  },
  {
   "cell_type": "markdown",
   "id": "903dbb54",
   "metadata": {
    "slideshow": {
     "slide_type": "slide"
    }
   },
   "source": [
    "# Advanced Programming with Functions"
   ]
  },
  {
   "cell_type": "markdown",
   "id": "bc01b377",
   "metadata": {
    "slideshow": {
     "slide_type": "subslide"
    }
   },
   "source": [
    "## Functions as Objects"
   ]
  },
  {
   "cell_type": "markdown",
   "id": "7d134a59",
   "metadata": {
    "slideshow": {
     "slide_type": "subslide"
    }
   },
   "source": [
    "Functions in Python are **objects**."
   ]
  },
  {
   "cell_type": "markdown",
   "id": "2359ba84",
   "metadata": {
    "slideshow": {
     "slide_type": "fragment"
    }
   },
   "source": [
    "In programming language theory, (first‐class) objects are:"
   ]
  },
  {
   "cell_type": "markdown",
   "id": "565dc4af",
   "metadata": {},
   "source": [
    "- Created at runtime\n",
    "- Assigned to a variable or element in a datastructure \n",
    "- Passed as an argument to a function\n",
    "- Returned as the result of a function"
   ]
  },
  {
   "cell_type": "code",
   "execution_count": 1,
   "id": "199d9ae0",
   "metadata": {
    "slideshow": {
     "slide_type": "subslide"
    }
   },
   "outputs": [],
   "source": [
    "def count_characters(s: str) -> int:\n",
    "    '''Returns count of characters in s without whitespace'''\n",
    "    return len(s) - s.count(' ')"
   ]
  },
  {
   "cell_type": "code",
   "execution_count": 2,
   "id": "d4f08176",
   "metadata": {
    "slideshow": {
     "slide_type": "fragment"
    }
   },
   "outputs": [
    {
     "data": {
      "text/plain": [
       "10"
      ]
     },
     "execution_count": 2,
     "metadata": {},
     "output_type": "execute_result"
    }
   ],
   "source": [
    "count_characters(\"Hello World\")"
   ]
  },
  {
   "cell_type": "code",
   "execution_count": 3,
   "id": "6979c271",
   "metadata": {
    "slideshow": {
     "slide_type": "fragment"
    }
   },
   "outputs": [
    {
     "name": "stdout",
     "output_type": "stream",
     "text": [
      "<function count_characters at 0x1060b45e0>\n"
     ]
    }
   ],
   "source": [
    "print(count_characters)"
   ]
  },
  {
   "cell_type": "code",
   "execution_count": 4,
   "id": "80b9188e",
   "metadata": {
    "slideshow": {
     "slide_type": "subslide"
    }
   },
   "outputs": [],
   "source": [
    "cc = count_characters"
   ]
  },
  {
   "cell_type": "code",
   "execution_count": 5,
   "id": "28cc3bcf",
   "metadata": {},
   "outputs": [
    {
     "name": "stdout",
     "output_type": "stream",
     "text": [
      "<function count_characters at 0x1060b45e0>\n"
     ]
    }
   ],
   "source": [
    "print(cc)"
   ]
  },
  {
   "cell_type": "code",
   "execution_count": 6,
   "id": "03317d3f",
   "metadata": {},
   "outputs": [
    {
     "name": "stdout",
     "output_type": "stream",
     "text": [
      "<function count_characters at 0x1060b45e0>\n"
     ]
    }
   ],
   "source": [
    "print(count_characters)"
   ]
  },
  {
   "cell_type": "code",
   "execution_count": 7,
   "id": "ee6f40dd",
   "metadata": {},
   "outputs": [
    {
     "data": {
      "text/plain": [
       "10"
      ]
     },
     "execution_count": 7,
     "metadata": {},
     "output_type": "execute_result"
    }
   ],
   "source": [
    "cc(\"Hello World\")"
   ]
  },
  {
   "cell_type": "markdown",
   "id": "652ccf85",
   "metadata": {
    "slideshow": {
     "slide_type": "subslide"
    }
   },
   "source": [
    "### Higher-order Functions\n",
    "\n",
    "A **higher‐order function** is a function that takes a function as an argument or that returns a function."
   ]
  },
  {
   "cell_type": "code",
   "execution_count": 8,
   "id": "8ed1ebbf",
   "metadata": {
    "slideshow": {
     "slide_type": "fragment"
    }
   },
   "outputs": [
    {
     "data": {
      "text/plain": [
       "['apple', 'cherry', 'banana', 'strawberry']"
      ]
     },
     "execution_count": 8,
     "metadata": {},
     "output_type": "execute_result"
    }
   ],
   "source": [
    "fruit = ['strawberry', 'apple', 'cherry', 'banana']\n",
    "\n",
    "sorted(fruit, key=len)"
   ]
  },
  {
   "cell_type": "markdown",
   "id": "14701468",
   "metadata": {
    "slideshow": {
     "slide_type": "subslide"
    }
   },
   "source": [
    "### Custom Sort Keys\n",
    "\n",
    "A sort key can be any function that takes one argument."
   ]
  },
  {
   "cell_type": "code",
   "execution_count": 9,
   "id": "6ef2f238",
   "metadata": {},
   "outputs": [],
   "source": [
    "fruit = ['strawberry', 'apple', 'cherry', 'banana']\n",
    "\n",
    "def reverse(word):\n",
    "    return word[::-1]"
   ]
  },
  {
   "cell_type": "code",
   "execution_count": 10,
   "id": "e4c702aa",
   "metadata": {},
   "outputs": [
    {
     "data": {
      "text/plain": [
       "'yrrebwarts'"
      ]
     },
     "execution_count": 10,
     "metadata": {},
     "output_type": "execute_result"
    }
   ],
   "source": [
    "reverse(\"strawberry\")"
   ]
  },
  {
   "cell_type": "code",
   "execution_count": 11,
   "id": "c46cffed",
   "metadata": {},
   "outputs": [
    {
     "data": {
      "text/plain": [
       "['banana', 'apple', 'strawberry', 'cherry']"
      ]
     },
     "execution_count": 11,
     "metadata": {},
     "output_type": "execute_result"
    }
   ],
   "source": [
    "sorted(fruit, key=reverse)"
   ]
  },
  {
   "cell_type": "markdown",
   "id": "d43e89ac",
   "metadata": {
    "slideshow": {
     "slide_type": "subslide"
    }
   },
   "source": [
    "### Anynymous Functions\n",
    "\n",
    "To use a higher‐order function, sometimes it is convenient to create a small, one‐off function.\n",
    "\n",
    "The `lambda` keyword creates an **anonymous function** within a Python expression."
   ]
  },
  {
   "cell_type": "code",
   "execution_count": 12,
   "id": "c379875e",
   "metadata": {
    "slideshow": {
     "slide_type": "fragment"
    }
   },
   "outputs": [
    {
     "data": {
      "text/plain": [
       "['banana', 'apple', 'strawberry', 'cherry']"
      ]
     },
     "execution_count": 12,
     "metadata": {},
     "output_type": "execute_result"
    }
   ],
   "source": [
    "fruit = ['strawberry', 'apple', 'cherry', 'banana']\n",
    "\n",
    "sorted(fruit, key=lambda word: word[::-1])"
   ]
  },
  {
   "cell_type": "code",
   "execution_count": 13,
   "id": "b0d54b4a",
   "metadata": {
    "slideshow": {
     "slide_type": "subslide"
    }
   },
   "outputs": [
    {
     "data": {
      "text/plain": [
       "['strawberry', 'cherry', 'apple', 'banana']"
      ]
     },
     "execution_count": 13,
     "metadata": {},
     "output_type": "execute_result"
    }
   ],
   "source": [
    "sorted(fruit, key=lambda word: -word.count('r'))"
   ]
  },
  {
   "cell_type": "markdown",
   "id": "cbcc980e",
   "metadata": {
    "slideshow": {
     "slide_type": "subslide"
    }
   },
   "source": [
    "#### Example: Nested dictionaries"
   ]
  },
  {
   "cell_type": "code",
   "execution_count": 14,
   "id": "cc44944f",
   "metadata": {
    "slideshow": {
     "slide_type": "fragment"
    }
   },
   "outputs": [],
   "source": [
    "from collections import defaultdict\n",
    "\n",
    "d = defaultdict(lambda: defaultdict(int))\n",
    "\n",
    "d[\"SENT_1\"][\"NOUNS\"] = 3\n",
    "d[\"SENT_1\"][\"VERBS\"] = 2\n",
    "d[\"SENT_2\"][\"NOUNS\"] = 2"
   ]
  },
  {
   "cell_type": "code",
   "execution_count": 15,
   "id": "f6fc8613",
   "metadata": {},
   "outputs": [
    {
     "data": {
      "text/plain": [
       "defaultdict(<function __main__.<lambda>()>,\n",
       "            {'SENT_1': defaultdict(int, {'NOUNS': 3, 'VERBS': 2}),\n",
       "             'SENT_2': defaultdict(int, {'NOUNS': 2})})"
      ]
     },
     "execution_count": 15,
     "metadata": {},
     "output_type": "execute_result"
    }
   ],
   "source": [
    "d"
   ]
  },
  {
   "cell_type": "markdown",
   "id": "e55d01aa",
   "metadata": {
    "slideshow": {
     "slide_type": "subslide"
    }
   },
   "source": [
    "### Callable Objects\n",
    "\n",
    "The **call operator** `()` may be applied to other objects beyond standard functions. To determine whether an object is **callable**, use the `callable()` built‐in function."
   ]
  },
  {
   "cell_type": "code",
   "execution_count": 16,
   "id": "54c0b466",
   "metadata": {
    "slideshow": {
     "slide_type": "fragment"
    }
   },
   "outputs": [
    {
     "data": {
      "text/plain": [
       "True"
      ]
     },
     "execution_count": 16,
     "metadata": {},
     "output_type": "execute_result"
    }
   ],
   "source": [
    "callable(print)"
   ]
  },
  {
   "cell_type": "code",
   "execution_count": 17,
   "id": "579f3677",
   "metadata": {
    "slideshow": {
     "slide_type": "fragment"
    }
   },
   "outputs": [
    {
     "data": {
      "text/plain": [
       "True"
      ]
     },
     "execution_count": 17,
     "metadata": {},
     "output_type": "execute_result"
    }
   ],
   "source": [
    "callable(lambda x: x.a)"
   ]
  },
  {
   "cell_type": "code",
   "execution_count": 18,
   "id": "a50768d8",
   "metadata": {
    "slideshow": {
     "slide_type": "fragment"
    }
   },
   "outputs": [
    {
     "data": {
      "text/plain": [
       "False"
      ]
     },
     "execution_count": 18,
     "metadata": {},
     "output_type": "execute_result"
    }
   ],
   "source": [
    "callable(12)"
   ]
  },
  {
   "cell_type": "markdown",
   "id": "d17a90ba",
   "metadata": {
    "slideshow": {
     "slide_type": "subslide"
    }
   },
   "source": [
    "### Types of callables\n",
    "\n",
    "- **User‐defined functions**. Created with `def` statements or `lambda` expressions.\n",
    "- **Built‐in functions**. A function implemented in C like `len` or `time.sleep`.\n",
    "- **Methods**. Functions defined in the body of a class.\n",
    "- **Built‐in methods**. Methods implemented in C, like `dict.get`.\n"
   ]
  },
  {
   "cell_type": "markdown",
   "id": "33aeaa12",
   "metadata": {
    "slideshow": {
     "slide_type": "subslide"
    }
   },
   "source": [
    "- **Classes**. When invoked, a class runs its `__new__` method to create an instance, then `__init__` to initialize it, and finally the instance is returned to the caller.\n",
    "- **Class instances**. If a class defines a `__call__` method, then its instances may be invoked as functions."
   ]
  },
  {
   "cell_type": "code",
   "execution_count": 19,
   "id": "b470a422",
   "metadata": {
    "slideshow": {
     "slide_type": "subslide"
    }
   },
   "outputs": [
    {
     "data": {
      "text/plain": [
       "True"
      ]
     },
     "execution_count": 19,
     "metadata": {},
     "output_type": "execute_result"
    }
   ],
   "source": [
    "class Word:\n",
    "    def __init__(self, text: str):\n",
    "        self.text = text\n",
    "        \n",
    "    def __call__(self):\n",
    "        print(self.text)\n",
    "        \n",
    "callable(Word)"
   ]
  },
  {
   "cell_type": "code",
   "execution_count": 20,
   "id": "321076c2",
   "metadata": {
    "slideshow": {
     "slide_type": "fragment"
    }
   },
   "outputs": [
    {
     "name": "stdout",
     "output_type": "stream",
     "text": [
      "Hello\n"
     ]
    }
   ],
   "source": [
    "word = Word(\"Hello\")\n",
    "word() "
   ]
  },
  {
   "cell_type": "markdown",
   "id": "5b8f8b6d",
   "metadata": {
    "slideshow": {
     "slide_type": "subslide"
    }
   },
   "source": [
    "### Decorators\n",
    "\n",
    "A **decorator** takes a callable as argument and adds behavior without explicitly modifying the callable.\n"
   ]
  },
  {
   "cell_type": "markdown",
   "id": "72ee6acb",
   "metadata": {
    "slideshow": {
     "slide_type": "subslide"
    }
   },
   "source": [
    "Decorators from previous lectures:\n",
    "\n",
    "```python\n",
    "@classmethod\n",
    "def introduce(self):\n",
    "    ...\n",
    "\n",
    "@abstractmethod\n",
    "def do_stuff(self):\n",
    "    ...\n",
    "```"
   ]
  },
  {
   "cell_type": "markdown",
   "id": "22ac1303",
   "metadata": {
    "slideshow": {
     "slide_type": "subslide"
    }
   },
   "source": [
    "Applying a decorator:\n",
    "```python\n",
    "@mydecorator\n",
    "def myfunction():\n",
    "    print('Running myfunction')\n",
    "```"
   ]
  },
  {
   "cell_type": "markdown",
   "id": "0acec345",
   "metadata": {},
   "source": [
    "is equivalent to:\n",
    "```python\n",
    "def myfunction():\n",
    "    print('Running myfunction')\n",
    "\n",
    "myfunction = mydecorator(myfunction)\n",
    "```"
   ]
  },
  {
   "cell_type": "code",
   "execution_count": 21,
   "id": "c9db08ef",
   "metadata": {
    "slideshow": {
     "slide_type": "subslide"
    }
   },
   "outputs": [],
   "source": [
    "def mydecorator(func: callable) -> callable:\n",
    "    def inner():\n",
    "        print(\"Before function call\")\n",
    "        func()\n",
    "        print(\"After function call\")\n",
    "    return inner"
   ]
  },
  {
   "cell_type": "code",
   "execution_count": 22,
   "id": "493da11a",
   "metadata": {
    "slideshow": {
     "slide_type": "subslide"
    }
   },
   "outputs": [],
   "source": [
    "def myfunction():\n",
    "    print(\"Running myfunction\")"
   ]
  },
  {
   "cell_type": "code",
   "execution_count": 23,
   "id": "f7bfcc32",
   "metadata": {},
   "outputs": [
    {
     "name": "stdout",
     "output_type": "stream",
     "text": [
      "Before function call\n",
      "Running myfunction\n",
      "After function call\n"
     ]
    }
   ],
   "source": [
    "decorated_function = mydecorator(myfunction)\n",
    "decorated_function()"
   ]
  },
  {
   "cell_type": "code",
   "execution_count": 24,
   "id": "f8ada4c0",
   "metadata": {
    "slideshow": {
     "slide_type": "subslide"
    }
   },
   "outputs": [],
   "source": [
    "@mydecorator\n",
    "def myfunction():\n",
    "    print(\"Running myfunction\")"
   ]
  },
  {
   "cell_type": "code",
   "execution_count": 25,
   "id": "d11d18a3",
   "metadata": {
    "slideshow": {
     "slide_type": "-"
    }
   },
   "outputs": [
    {
     "name": "stdout",
     "output_type": "stream",
     "text": [
      "Before function call\n",
      "Running myfunction\n",
      "After function call\n"
     ]
    }
   ],
   "source": [
    "myfunction()"
   ]
  },
  {
   "cell_type": "code",
   "execution_count": 1,
   "id": "5da58268",
   "metadata": {
    "slideshow": {
     "slide_type": "subslide"
    }
   },
   "outputs": [],
   "source": [
    "import time\n",
    "def timer(func: callable) -> callable:\n",
    "    def inner(*args, **kwargs):\n",
    "        start_time = time.perf_counter()\n",
    "        f = func(*args, **kwargs)\n",
    "        run_time = time.perf_counter() - start_time\n",
    "        print(f\"Finished {func.__name__}() in {run_time:.4f} secs\")\n",
    "        return f\n",
    "    return inner"
   ]
  },
  {
   "cell_type": "code",
   "execution_count": 2,
   "id": "75fe9f62",
   "metadata": {},
   "outputs": [],
   "source": [
    "@timer\n",
    "def myfunction2(n: int) -> int:\n",
    "    for i in range(n):\n",
    "        p = i*i-i\n",
    "    print(\"Finished for-loop\")\n",
    "    return p"
   ]
  },
  {
   "cell_type": "code",
   "execution_count": 4,
   "id": "050b6b0b",
   "metadata": {
    "slideshow": {
     "slide_type": "fragment"
    }
   },
   "outputs": [
    {
     "name": "stdout",
     "output_type": "stream",
     "text": [
      "Finished for-loop\n",
      "Finished myfunction2() in 3.5708 secs\n"
     ]
    },
    {
     "data": {
      "text/plain": [
       "9999999700000002"
      ]
     },
     "execution_count": 4,
     "metadata": {},
     "output_type": "execute_result"
    }
   ],
   "source": [
    "myfunction2(100000000)"
   ]
  },
  {
   "cell_type": "markdown",
   "id": "6a4fc4d6",
   "metadata": {
    "slideshow": {
     "slide_type": "subslide"
    }
   },
   "source": [
    "### Klicker Quiz\n",
    "\n",
    "https://pwa.klicker.uzh.ch/join/lfische\n",
    "\n",
    "<img src=\"klicker.png\" style=\"height: 300px;\"></img>"
   ]
  },
  {
   "cell_type": "markdown",
   "id": "73564537",
   "metadata": {
    "slideshow": {
     "slide_type": "slide"
    }
   },
   "source": [
    "# Functional Programming"
   ]
  },
  {
   "cell_type": "markdown",
   "id": "b888cb3f",
   "metadata": {
    "slideshow": {
     "slide_type": "subslide"
    }
   },
   "source": [
    "## What is Functional Programming?\n",
    "\n",
    "Theoretically:\n",
    "    \n",
    "- avoiding side effects\n",
    "- avoiding mutable data\n",
    "- preferring expressions over statements\n",
    "- using pure functions"
   ]
  },
  {
   "cell_type": "markdown",
   "id": "b0d669d5",
   "metadata": {
    "slideshow": {
     "slide_type": "subslide"
    }
   },
   "source": [
    "Practically in Python: a frequent use of:\n",
    "\n",
    "- the `lambda` operator\n",
    "- `zip()` and `enumerate()`\n",
    "- `map()` and `filter()`\n",
    "- list comprehensions"
   ]
  },
  {
   "cell_type": "markdown",
   "id": "30da9666",
   "metadata": {
    "slideshow": {
     "slide_type": "subslide"
    }
   },
   "source": [
    "### Pure Functions\n",
    "\n",
    "A function is considered pure if\n",
    "\n",
    "- it has no side effects\n",
    "    - it does not modify or interact with any data outside of its scope\n",
    "    - it does not print anything\n",
    "- always provides the same output for the same inputs"
   ]
  },
  {
   "cell_type": "markdown",
   "id": "55a26398",
   "metadata": {
    "slideshow": {
     "slide_type": "subslide"
    }
   },
   "source": [
    "#### Example: Side Effects"
   ]
  },
  {
   "cell_type": "code",
   "execution_count": 5,
   "id": "965cd9a0",
   "metadata": {},
   "outputs": [],
   "source": [
    "from typing import Iterable\n",
    "\n",
    "tokens = ['This', 'is', 'a', 'Test', '.']\n",
    "\n",
    "def lowercase1(tokens: Iterable[str]) -> Iterable[str]:\n",
    "    for i in range(len(tokens)):\n",
    "        tokens[i] = tokens[i].lower()\n",
    "    return tokens"
   ]
  },
  {
   "cell_type": "code",
   "execution_count": 6,
   "id": "db6e61b8",
   "metadata": {
    "slideshow": {
     "slide_type": "fragment"
    }
   },
   "outputs": [
    {
     "data": {
      "text/plain": [
       "['this', 'is', 'a', 'test', '.']"
      ]
     },
     "execution_count": 6,
     "metadata": {},
     "output_type": "execute_result"
    }
   ],
   "source": [
    "lowercase1(tokens)"
   ]
  },
  {
   "cell_type": "code",
   "execution_count": 7,
   "id": "1cc1d1d9",
   "metadata": {
    "slideshow": {
     "slide_type": "fragment"
    }
   },
   "outputs": [
    {
     "name": "stdout",
     "output_type": "stream",
     "text": [
      "['this', 'is', 'a', 'test', '.']\n"
     ]
    }
   ],
   "source": [
    "print(tokens)"
   ]
  },
  {
   "cell_type": "markdown",
   "id": "59472f32",
   "metadata": {
    "slideshow": {
     "slide_type": "subslide"
    }
   },
   "source": [
    "Without side effects:"
   ]
  },
  {
   "cell_type": "code",
   "execution_count": 8,
   "id": "1d0465af",
   "metadata": {},
   "outputs": [],
   "source": [
    "tokens = ['This', 'is', 'a', 'Test', '.']\n",
    "\n",
    "def lowercase2(tokens: Iterable[str]) -> Iterable[str]:\n",
    "    new_tokens = []\n",
    "    for token in tokens:\n",
    "        new_tokens.append(token.lower())\n",
    "    return new_tokens"
   ]
  },
  {
   "cell_type": "code",
   "execution_count": 9,
   "id": "2be30f37",
   "metadata": {
    "slideshow": {
     "slide_type": "fragment"
    }
   },
   "outputs": [
    {
     "name": "stdout",
     "output_type": "stream",
     "text": [
      "['this', 'is', 'a', 'test', '.']\n"
     ]
    }
   ],
   "source": [
    "print(lowercase2(tokens))"
   ]
  },
  {
   "cell_type": "code",
   "execution_count": 10,
   "id": "38fa8218",
   "metadata": {
    "slideshow": {
     "slide_type": "fragment"
    }
   },
   "outputs": [
    {
     "name": "stdout",
     "output_type": "stream",
     "text": [
      "['This', 'is', 'a', 'Test', '.']\n"
     ]
    }
   ],
   "source": [
    "print(tokens)"
   ]
  },
  {
   "cell_type": "markdown",
   "id": "9be060ad",
   "metadata": {
    "slideshow": {
     "slide_type": "subslide"
    }
   },
   "source": [
    "More elegant solution:"
   ]
  },
  {
   "cell_type": "code",
   "execution_count": 11,
   "id": "2cb4e7e9",
   "metadata": {},
   "outputs": [
    {
     "name": "stdout",
     "output_type": "stream",
     "text": [
      "['this', 'is', 'a', 'test', '.']\n",
      "['This', 'is', 'a', 'Test', '.']\n"
     ]
    }
   ],
   "source": [
    "tokens = ['This', 'is', 'a', 'Test', '.']\n",
    "\n",
    "def lowercase3(tokens: Iterable[str]) -> Iterable[str]:\n",
    "    return [token.lower() for token in tokens]\n",
    "\n",
    "print(lowercase3(tokens))\n",
    "print(tokens)"
   ]
  },
  {
   "cell_type": "markdown",
   "id": "4b0f36ce",
   "metadata": {
    "slideshow": {
     "slide_type": "subslide"
    }
   },
   "source": [
    "#### Klicker-Quiz: \"Is this a pure function?\"\n",
    "\n",
    "https://pwa.klicker.uzh.ch/join/lfische\n",
    "\n",
    "<img src=\"klicker.png\" style=\"height: 300px;\"></img>"
   ]
  },
  {
   "cell_type": "markdown",
   "id": "8ca1f316",
   "metadata": {
    "slideshow": {
     "slide_type": "subslide"
    }
   },
   "source": [
    "### Built‐in Function: `enumerate()`\n",
    "\n",
    "`enumerate()` generates index–element pairs from an iterable"
   ]
  },
  {
   "cell_type": "code",
   "execution_count": 12,
   "id": "8917dda8",
   "metadata": {},
   "outputs": [
    {
     "data": {
      "text/plain": [
       "[(0, 'Fred'),\n",
       " (1, 'fed'),\n",
       " (2, 'Ted'),\n",
       " (3, 'bread'),\n",
       " (4, 'and'),\n",
       " (5, 'Ted'),\n",
       " (6, 'fed'),\n",
       " (7, 'Fred'),\n",
       " (8, 'bread')]"
      ]
     },
     "execution_count": 12,
     "metadata": {},
     "output_type": "execute_result"
    }
   ],
   "source": [
    "l = ['Fred', 'fed', 'Ted', 'bread', 'and', 'Ted', 'fed', 'Fred', 'bread']\n",
    ">>> list(enumerate(l))"
   ]
  },
  {
   "cell_type": "markdown",
   "id": "48a8e0f1",
   "metadata": {
    "slideshow": {
     "slide_type": "subslide"
    }
   },
   "source": [
    "This function is useful when processing a file line by line:\n",
    "\n",
    "```python\n",
    "with open('lyrics.txt', 'r') as f:\n",
    "    for i, line in enumerate(f):\n",
    "        print(i, line)\n",
    "```"
   ]
  },
  {
   "cell_type": "markdown",
   "id": "400cc0d9",
   "metadata": {
    "slideshow": {
     "slide_type": "subslide"
    }
   },
   "source": [
    "### Built‐in Function: `zip()`\n",
    "\n",
    "`zip(iterA, iterB, ...)` takes one element from each iterable and returns them in a tuple:"
   ]
  },
  {
   "cell_type": "code",
   "execution_count": 19,
   "id": "45ad357c",
   "metadata": {},
   "outputs": [
    {
     "name": "stdout",
     "output_type": "stream",
     "text": [
      "Italy Rome\n",
      "France Bern\n"
     ]
    },
    {
     "ename": "ValueError",
     "evalue": "zip() argument 2 is shorter than argument 1",
     "output_type": "error",
     "traceback": [
      "\u001b[0;31m---------------------------------------------------------------------------\u001b[0m",
      "\u001b[0;31mValueError\u001b[0m                                Traceback (most recent call last)",
      "Cell \u001b[0;32mIn[19], line 4\u001b[0m\n\u001b[1;32m      1\u001b[0m l1 \u001b[38;5;241m=\u001b[39m [\u001b[38;5;124m'\u001b[39m\u001b[38;5;124mItaly\u001b[39m\u001b[38;5;124m'\u001b[39m, \u001b[38;5;124m'\u001b[39m\u001b[38;5;124mFrance\u001b[39m\u001b[38;5;124m'\u001b[39m, \u001b[38;5;124m'\u001b[39m\u001b[38;5;124mSwitzerland\u001b[39m\u001b[38;5;124m'\u001b[39m]\n\u001b[1;32m      2\u001b[0m l2 \u001b[38;5;241m=\u001b[39m [\u001b[38;5;124m'\u001b[39m\u001b[38;5;124mRome\u001b[39m\u001b[38;5;124m'\u001b[39m, \u001b[38;5;124m'\u001b[39m\u001b[38;5;124mBern\u001b[39m\u001b[38;5;124m'\u001b[39m]\n\u001b[0;32m----> 4\u001b[0m \u001b[38;5;28;01mfor\u001b[39;00m e1, e2 \u001b[38;5;129;01min\u001b[39;00m \u001b[38;5;28mzip\u001b[39m(l1, l2, strict\u001b[38;5;241m=\u001b[39m\u001b[38;5;28;01mTrue\u001b[39;00m):\n\u001b[1;32m      5\u001b[0m     \u001b[38;5;28mprint\u001b[39m(e1, e2)\n",
      "\u001b[0;31mValueError\u001b[0m: zip() argument 2 is shorter than argument 1"
     ]
    }
   ],
   "source": [
    "l1 = ['Italy', 'France', 'Switzerland']\n",
    "l2 = ['Rome', 'Bern']\n",
    "\n",
    "for e1, e2 in zip(l1, l2, strict=True):\n",
    "    print(e1, e2)"
   ]
  },
  {
   "cell_type": "markdown",
   "id": "dc33b009",
   "metadata": {
    "slideshow": {
     "slide_type": "subslide"
    }
   },
   "source": [
    "### `dict` from `zip()`\n",
    "\n",
    "The `dict()` constructor can accept any iterator that returns a finite stream of (key, value) tuples:"
   ]
  },
  {
   "cell_type": "code",
   "execution_count": 16,
   "id": "30e45340",
   "metadata": {},
   "outputs": [
    {
     "name": "stdout",
     "output_type": "stream",
     "text": [
      "{'Italy': 'Rome', 'France': 'Paris', 'Switzerland': 'Bern'}\n"
     ]
    }
   ],
   "source": [
    "l1 = ['Italy', 'France', 'Switzerland']\n",
    "l2 = ['Rome', 'Paris', 'Bern']\n",
    "\n",
    "d = dict(zip(l1, l2))\n",
    "print(d)"
   ]
  },
  {
   "cell_type": "markdown",
   "id": "19c7ad61",
   "metadata": {
    "slideshow": {
     "slide_type": "subslide"
    }
   },
   "source": [
    "### Built‐in Function: `filter()`\n",
    "\n",
    "`filter(predicate, iter)` returns an iterator over all the sequence elements that meet a certain condition. Its predicate is a function that returns the truth value of some condition."
   ]
  },
  {
   "cell_type": "code",
   "execution_count": 20,
   "id": "a554fc15",
   "metadata": {},
   "outputs": [
    {
     "data": {
      "text/plain": [
       "['WORLD']"
      ]
     },
     "execution_count": 20,
     "metadata": {},
     "output_type": "execute_result"
    }
   ],
   "source": [
    "# isupper() returns True if all the characters \n",
    "# are in upper case, otherwise False.\n",
    "l = ['Hello', 'WORLD', '!!!']\n",
    "list(filter(str.isupper, l))"
   ]
  },
  {
   "cell_type": "markdown",
   "id": "d8505b4b",
   "metadata": {
    "slideshow": {
     "slide_type": "subslide"
    }
   },
   "source": [
    "You can also use an anonymous function as predicate:"
   ]
  },
  {
   "cell_type": "code",
   "execution_count": 21,
   "id": "6d7f68e1",
   "metadata": {},
   "outputs": [
    {
     "name": "stdout",
     "output_type": "stream",
     "text": [
      "Hello\n",
      "WORLD\n"
     ]
    }
   ],
   "source": [
    "l = ['Hello', 'WORLD', '!!!']\n",
    "\n",
    "for x in (filter(lambda s: s != '!!!', l)):\n",
    "    print(x)"
   ]
  },
  {
   "cell_type": "markdown",
   "id": "21e8fbb6",
   "metadata": {
    "slideshow": {
     "slide_type": "subslide"
    }
   },
   "source": [
    "### Built‐in Function: `map()`\n",
    "\n",
    "The function passed into `map(func, iter)` is applied to each item in the iterable."
   ]
  },
  {
   "cell_type": "code",
   "execution_count": 22,
   "id": "53ad4ffc",
   "metadata": {},
   "outputs": [
    {
     "data": {
      "text/plain": [
       "['FOO', 'BAR']"
      ]
     },
     "execution_count": 22,
     "metadata": {},
     "output_type": "execute_result"
    }
   ],
   "source": [
    "list(map(lambda x: x.upper(), ['foo', 'bar']))"
   ]
  },
  {
   "cell_type": "code",
   "execution_count": 23,
   "id": "cf3133ae",
   "metadata": {
    "slideshow": {
     "slide_type": "subslide"
    }
   },
   "outputs": [
    {
     "data": {
      "text/plain": [
       "['hello', '123', \"{'France': 'Paris'}\"]"
      ]
     },
     "execution_count": 23,
     "metadata": {},
     "output_type": "execute_result"
    }
   ],
   "source": [
    "list(map(str, ['hello', 123, {'France': 'Paris'}]))"
   ]
  },
  {
   "cell_type": "markdown",
   "id": "8c0dd0ed",
   "metadata": {
    "slideshow": {
     "slide_type": "subslide"
    }
   },
   "source": [
    "### List Comprehensions\n",
    "\n",
    "Both `filter()` and `map()` can be replaced with list comprehensions:\n"
   ]
  },
  {
   "cell_type": "code",
   "execution_count": 24,
   "id": "f6b71b58",
   "metadata": {},
   "outputs": [
    {
     "data": {
      "text/plain": [
       "['WORLD']"
      ]
     },
     "execution_count": 24,
     "metadata": {},
     "output_type": "execute_result"
    }
   ],
   "source": [
    "l = ['Hello', 'WORLD', '!!!']\n",
    "list(filter(str.isupper, l))"
   ]
  },
  {
   "cell_type": "code",
   "execution_count": 25,
   "id": "26f372d3",
   "metadata": {
    "slideshow": {
     "slide_type": "fragment"
    }
   },
   "outputs": [
    {
     "data": {
      "text/plain": [
       "['WORLD']"
      ]
     },
     "execution_count": 25,
     "metadata": {},
     "output_type": "execute_result"
    }
   ],
   "source": [
    "[word for word in l if word.isupper()]"
   ]
  },
  {
   "cell_type": "code",
   "execution_count": 26,
   "id": "3bea4f26",
   "metadata": {
    "slideshow": {
     "slide_type": "subslide"
    }
   },
   "outputs": [
    {
     "data": {
      "text/plain": [
       "['FOO', 'BAR']"
      ]
     },
     "execution_count": 26,
     "metadata": {},
     "output_type": "execute_result"
    }
   ],
   "source": [
    "list(map(lambda x: x.upper(), ['foo', 'bar']))"
   ]
  },
  {
   "cell_type": "code",
   "execution_count": 27,
   "id": "cd305bc1",
   "metadata": {
    "slideshow": {
     "slide_type": "fragment"
    }
   },
   "outputs": [
    {
     "data": {
      "text/plain": [
       "['FOO', 'BAR']"
      ]
     },
     "execution_count": 27,
     "metadata": {},
     "output_type": "execute_result"
    }
   ],
   "source": [
    "[word.upper() for word in ['foo', 'bar']]"
   ]
  },
  {
   "cell_type": "markdown",
   "id": "74569745",
   "metadata": {
    "slideshow": {
     "slide_type": "subslide"
    }
   },
   "source": [
    "### Dictionary Comprehensions"
   ]
  },
  {
   "cell_type": "code",
   "execution_count": 28,
   "id": "7bfe98bb",
   "metadata": {
    "slideshow": {
     "slide_type": "subslide"
    }
   },
   "outputs": [],
   "source": [
    "DIAL_CODES = [\n",
    "(86, 'China'),\n",
    "(91, 'India'),\n",
    "(1, 'United States'),\n",
    "(41, 'Switzerland'),\n",
    "(880, 'Bangladesh'),\n",
    "]"
   ]
  },
  {
   "cell_type": "code",
   "execution_count": 29,
   "id": "1a62bc35",
   "metadata": {
    "slideshow": {
     "slide_type": "fragment"
    }
   },
   "outputs": [
    {
     "name": "stdout",
     "output_type": "stream",
     "text": [
      "{'China': 86, 'India': 91, 'United States': 1, 'Switzerland': 41, 'Bangladesh': 880}\n"
     ]
    }
   ],
   "source": [
    "d = {country: code\n",
    "     for code, country in DIAL_CODES}\n",
    "print(d)"
   ]
  },
  {
   "cell_type": "code",
   "execution_count": 30,
   "id": "fc33fedb",
   "metadata": {
    "slideshow": {
     "slide_type": "subslide"
    }
   },
   "outputs": [
    {
     "data": {
      "text/plain": [
       "{'China': 86,\n",
       " 'India': 91,\n",
       " 'United States': 1,\n",
       " 'Switzerland': 41,\n",
       " 'Bangladesh': 880}"
      ]
     },
     "execution_count": 30,
     "metadata": {},
     "output_type": "execute_result"
    }
   ],
   "source": [
    "d"
   ]
  },
  {
   "cell_type": "code",
   "execution_count": 31,
   "id": "2585e895",
   "metadata": {},
   "outputs": [
    {
     "data": {
      "text/plain": [
       "{'UNITED STATES': 1, 'SWITZERLAND': 41}"
      ]
     },
     "execution_count": 31,
     "metadata": {},
     "output_type": "execute_result"
    }
   ],
   "source": [
    "{country.upper(): code\n",
    "     for country, code in d.items()\n",
    "     if code < 42}"
   ]
  },
  {
   "cell_type": "markdown",
   "id": "3807dd3e",
   "metadata": {
    "slideshow": {
     "slide_type": "subslide"
    }
   },
   "source": [
    "### Exercise\n",
    "\n",
    "Answer three questions given the sentence:"
   ]
  },
  {
   "cell_type": "code",
   "execution_count": 32,
   "id": "6f36bd93",
   "metadata": {},
   "outputs": [],
   "source": [
    "s = 'Time flies like an arrow , fruit flies like a banana .'\n",
    "tokens = s.split()"
   ]
  },
  {
   "cell_type": "markdown",
   "id": "19667dea",
   "metadata": {},
   "source": [
    "1. Use `map()` to reverse each token individually. Then convert the expression to a **list comprehension**.\n",
    "2. Use `filter()` to filter out commas and periods. Then convert the expression to a **list comprehension**."
   ]
  },
  {
   "cell_type": "markdown",
   "id": "33823435",
   "metadata": {},
   "source": [
    "3. Which syntax do you prefer?"
   ]
  },
  {
   "cell_type": "code",
   "execution_count": 41,
   "id": "4f939164",
   "metadata": {},
   "outputs": [
    {
     "data": {
      "text/plain": [
       "<map at 0x10aa1ac80>"
      ]
     },
     "execution_count": 41,
     "metadata": {},
     "output_type": "execute_result"
    }
   ],
   "source": [
    "map(lambda x: x[::-1], tokens)"
   ]
  },
  {
   "cell_type": "code",
   "execution_count": 42,
   "id": "5467cc5e",
   "metadata": {},
   "outputs": [
    {
     "data": {
      "text/plain": [
       "<generator object <genexpr> at 0x10b059f50>"
      ]
     },
     "execution_count": 42,
     "metadata": {},
     "output_type": "execute_result"
    }
   ],
   "source": [
    "(word[::-1] for word in tokens)"
   ]
  },
  {
   "cell_type": "code",
   "execution_count": 37,
   "id": "43ffbc2a",
   "metadata": {
    "collapsed": true
   },
   "outputs": [
    {
     "data": {
      "text/plain": [
       "['Time',\n",
       " 'flies',\n",
       " 'like',\n",
       " 'an',\n",
       " 'arrow',\n",
       " 'fruit',\n",
       " 'flies',\n",
       " 'like',\n",
       " 'a',\n",
       " 'banana']"
      ]
     },
     "execution_count": 37,
     "metadata": {},
     "output_type": "execute_result"
    }
   ],
   "source": [
    "list(filter(str.isalpha, tokens))"
   ]
  },
  {
   "cell_type": "code",
   "execution_count": 38,
   "id": "36209764",
   "metadata": {
    "collapsed": true
   },
   "outputs": [
    {
     "data": {
      "text/plain": [
       "['Time',\n",
       " 'flies',\n",
       " 'like',\n",
       " 'an',\n",
       " 'arrow',\n",
       " 'fruit',\n",
       " 'flies',\n",
       " 'like',\n",
       " 'a',\n",
       " 'banana']"
      ]
     },
     "execution_count": 38,
     "metadata": {},
     "output_type": "execute_result"
    }
   ],
   "source": [
    "list(filter(lambda x: x not in \",.\", tokens))"
   ]
  },
  {
   "cell_type": "code",
   "execution_count": 40,
   "id": "4c95c374",
   "metadata": {
    "collapsed": true
   },
   "outputs": [
    {
     "data": {
      "text/plain": [
       "['Time',\n",
       " 'flies',\n",
       " 'like',\n",
       " 'an',\n",
       " 'arrow',\n",
       " 'fruit',\n",
       " 'flies',\n",
       " 'like',\n",
       " 'a',\n",
       " 'banana']"
      ]
     },
     "execution_count": 40,
     "metadata": {},
     "output_type": "execute_result"
    }
   ],
   "source": [
    "[word for word in tokens if word not in \",.\"]"
   ]
  },
  {
   "cell_type": "markdown",
   "id": "fd0fc118",
   "metadata": {
    "slideshow": {
     "slide_type": "subslide"
    }
   },
   "source": [
    "### Built‐in Functions: `min()`, `max()`"
   ]
  },
  {
   "cell_type": "code",
   "execution_count": 43,
   "id": "f762f0bd",
   "metadata": {},
   "outputs": [
    {
     "data": {
      "text/plain": [
       "'a'"
      ]
     },
     "execution_count": 43,
     "metadata": {},
     "output_type": "execute_result"
    }
   ],
   "source": [
    "min(['a', 'b', 'c'])"
   ]
  },
  {
   "cell_type": "code",
   "execution_count": 44,
   "id": "0dd48f6c",
   "metadata": {},
   "outputs": [
    {
     "data": {
      "text/plain": [
       "'c'"
      ]
     },
     "execution_count": 44,
     "metadata": {},
     "output_type": "execute_result"
    }
   ],
   "source": [
    "max(['a', 'b', 'c'])"
   ]
  },
  {
   "cell_type": "markdown",
   "id": "ae086f08",
   "metadata": {
    "slideshow": {
     "slide_type": "fragment"
    }
   },
   "source": [
    "Functions like `min()` or `max()` are called *reducing*, *folding* or *accumulating* functions."
   ]
  },
  {
   "cell_type": "markdown",
   "id": "a907c374",
   "metadata": {
    "slideshow": {
     "slide_type": "subslide"
    }
   },
   "source": [
    "### `sum()` and `str.join()`"
   ]
  },
  {
   "cell_type": "code",
   "execution_count": 45,
   "id": "36b9fa32",
   "metadata": {},
   "outputs": [],
   "source": [
    "s = 'Time flies like an arrow , fruit flies like a banana .'\n",
    "tokens = s.split()"
   ]
  },
  {
   "cell_type": "code",
   "execution_count": null,
   "id": "34dd5788",
   "metadata": {
    "slideshow": {
     "slide_type": "skip"
    }
   },
   "outputs": [],
   "source": [
    "sum(tokens)"
   ]
  },
  {
   "cell_type": "code",
   "execution_count": 46,
   "id": "d2b332c9",
   "metadata": {
    "slideshow": {
     "slide_type": "fragment"
    }
   },
   "outputs": [
    {
     "data": {
      "text/plain": [
       "43"
      ]
     },
     "execution_count": 46,
     "metadata": {},
     "output_type": "execute_result"
    }
   ],
   "source": [
    "sum([len(token) for token in tokens])"
   ]
  },
  {
   "cell_type": "code",
   "execution_count": 47,
   "id": "41c178f1",
   "metadata": {
    "slideshow": {
     "slide_type": "fragment"
    }
   },
   "outputs": [
    {
     "data": {
      "text/plain": [
       "'Time\\nflies\\nlike\\nan\\narrow\\n,\\nfruit\\nflies\\nlike\\na\\nbanana\\n.'"
      ]
     },
     "execution_count": 47,
     "metadata": {},
     "output_type": "execute_result"
    }
   ],
   "source": [
    "'\\n'.join(tokens)"
   ]
  },
  {
   "cell_type": "markdown",
   "id": "84c18f44",
   "metadata": {
    "slideshow": {
     "slide_type": "subslide"
    }
   },
   "source": [
    "### Built‐in Functions: `any()` and `all()`\n",
    "\n",
    "`any()` returns `True` if any element in the iterable is a true value.\n",
    "\n",
    "`all()` returns `True` if all of the elements are true values."
   ]
  },
  {
   "cell_type": "code",
   "execution_count": 48,
   "id": "31a5368c",
   "metadata": {
    "slideshow": {
     "slide_type": "subslide"
    }
   },
   "outputs": [],
   "source": [
    "def may_be_german(text: str) -> bool:\n",
    "    return any([char.lower() in 'äöü' for char in text])"
   ]
  },
  {
   "cell_type": "code",
   "execution_count": 49,
   "id": "2c9117b8",
   "metadata": {
    "slideshow": {
     "slide_type": "fragment"
    }
   },
   "outputs": [
    {
     "data": {
      "text/plain": [
       "False"
      ]
     },
     "execution_count": 49,
     "metadata": {},
     "output_type": "execute_result"
    }
   ],
   "source": [
    "may_be_german(\"aou\")"
   ]
  },
  {
   "cell_type": "code",
   "execution_count": 50,
   "id": "17e990a9",
   "metadata": {
    "slideshow": {
     "slide_type": "fragment"
    }
   },
   "outputs": [
    {
     "data": {
      "text/plain": [
       "True"
      ]
     },
     "execution_count": 50,
     "metadata": {},
     "output_type": "execute_result"
    }
   ],
   "source": [
    "may_be_german(\"äou\")"
   ]
  },
  {
   "cell_type": "code",
   "execution_count": 51,
   "id": "cc3aa966",
   "metadata": {
    "slideshow": {
     "slide_type": "fragment"
    }
   },
   "outputs": [
    {
     "data": {
      "text/plain": [
       "True"
      ]
     },
     "execution_count": 51,
     "metadata": {},
     "output_type": "execute_result"
    }
   ],
   "source": [
    "may_be_german(\"äöü\")"
   ]
  },
  {
   "cell_type": "code",
   "execution_count": 52,
   "id": "d4c399fd",
   "metadata": {
    "slideshow": {
     "slide_type": "subslide"
    }
   },
   "outputs": [],
   "source": [
    "def may_be_german(text: str) -> bool:\n",
    "    return all([char.lower() in 'äöü' for char in text])"
   ]
  },
  {
   "cell_type": "code",
   "execution_count": 53,
   "id": "cb444522",
   "metadata": {
    "slideshow": {
     "slide_type": "fragment"
    }
   },
   "outputs": [
    {
     "data": {
      "text/plain": [
       "False"
      ]
     },
     "execution_count": 53,
     "metadata": {},
     "output_type": "execute_result"
    }
   ],
   "source": [
    "may_be_german(\"aou\")"
   ]
  },
  {
   "cell_type": "code",
   "execution_count": 55,
   "id": "6a181e7f",
   "metadata": {
    "slideshow": {
     "slide_type": "fragment"
    }
   },
   "outputs": [
    {
     "data": {
      "text/plain": [
       "False"
      ]
     },
     "execution_count": 55,
     "metadata": {},
     "output_type": "execute_result"
    }
   ],
   "source": [
    "may_be_german(\"äou\")"
   ]
  },
  {
   "cell_type": "code",
   "execution_count": 56,
   "id": "9bc9dcdf",
   "metadata": {
    "slideshow": {
     "slide_type": "fragment"
    }
   },
   "outputs": [
    {
     "data": {
      "text/plain": [
       "True"
      ]
     },
     "execution_count": 56,
     "metadata": {},
     "output_type": "execute_result"
    }
   ],
   "source": [
    "may_be_german(\"äöü\")"
   ]
  },
  {
   "cell_type": "markdown",
   "id": "4f805c05",
   "metadata": {
    "slideshow": {
     "slide_type": "slide"
    }
   },
   "source": [
    "# Iterables, Iterators and Generators"
   ]
  },
  {
   "cell_type": "markdown",
   "id": "d97176ac",
   "metadata": {
    "slideshow": {
     "slide_type": "subslide"
    }
   },
   "source": [
    "### Iterators\n",
    "\n"
   ]
  },
  {
   "cell_type": "code",
   "execution_count": 57,
   "id": "72a48cb2",
   "metadata": {},
   "outputs": [
    {
     "data": {
      "text/plain": [
       "<list_iterator at 0x10aa1b790>"
      ]
     },
     "execution_count": 57,
     "metadata": {},
     "output_type": "execute_result"
    }
   ],
   "source": [
    "fruits = ['strawberry', 'apple', 'cherry']\n",
    "fruits_it = iter(fruits)\n",
    "fruits_it"
   ]
  },
  {
   "cell_type": "code",
   "execution_count": 58,
   "id": "e64166a5",
   "metadata": {},
   "outputs": [
    {
     "data": {
      "text/plain": [
       "'strawberry'"
      ]
     },
     "execution_count": 58,
     "metadata": {},
     "output_type": "execute_result"
    }
   ],
   "source": [
    "fruits_it.__next__()"
   ]
  },
  {
   "cell_type": "code",
   "execution_count": 61,
   "id": "17e48b61",
   "metadata": {},
   "outputs": [
    {
     "ename": "StopIteration",
     "evalue": "",
     "output_type": "error",
     "traceback": [
      "\u001b[0;31m---------------------------------------------------------------------------\u001b[0m",
      "\u001b[0;31mStopIteration\u001b[0m                             Traceback (most recent call last)",
      "Cell \u001b[0;32mIn[61], line 1\u001b[0m\n\u001b[0;32m----> 1\u001b[0m \u001b[38;5;28;43mnext\u001b[39;49m\u001b[43m(\u001b[49m\u001b[43mfruits_it\u001b[49m\u001b[43m)\u001b[49m\n",
      "\u001b[0;31mStopIteration\u001b[0m: "
     ]
    }
   ],
   "source": [
    "next(fruits_it)"
   ]
  },
  {
   "cell_type": "markdown",
   "id": "35e91fa1",
   "metadata": {
    "slideshow": {
     "slide_type": "subslide"
    }
   },
   "source": [
    "Calling iter() on objects of different types:"
   ]
  },
  {
   "cell_type": "code",
   "execution_count": 62,
   "id": "273d3244",
   "metadata": {},
   "outputs": [
    {
     "data": {
      "text/plain": [
       "<dict_keyiterator at 0x10a0dc4a0>"
      ]
     },
     "execution_count": 62,
     "metadata": {},
     "output_type": "execute_result"
    }
   ],
   "source": [
    "iter({'n': .58, 'v': .37, 'a': .05})"
   ]
  },
  {
   "cell_type": "code",
   "execution_count": 63,
   "id": "698cf383",
   "metadata": {
    "slideshow": {
     "slide_type": "fragment"
    }
   },
   "outputs": [
    {
     "data": {
      "text/plain": [
       "<str_iterator at 0x10aa1afb0>"
      ]
     },
     "execution_count": 63,
     "metadata": {},
     "output_type": "execute_result"
    }
   ],
   "source": [
    "iter('TACTTAATAAAAATAAAGCATATTACATTATTCTCACATGGACTAT')"
   ]
  },
  {
   "cell_type": "code",
   "execution_count": 64,
   "id": "0cb7b840",
   "metadata": {
    "slideshow": {
     "slide_type": "subslide"
    }
   },
   "outputs": [
    {
     "data": {
      "text/plain": [
       "<_io.TextIOWrapper name='very_large_file.txt' mode='r' encoding='UTF-8'>"
      ]
     },
     "execution_count": 64,
     "metadata": {},
     "output_type": "execute_result"
    }
   ],
   "source": [
    "iter(open('very_large_file.txt'))"
   ]
  },
  {
   "cell_type": "code",
   "execution_count": 65,
   "id": "9a19e767",
   "metadata": {},
   "outputs": [
    {
     "ename": "TypeError",
     "evalue": "'int' object is not iterable",
     "output_type": "error",
     "traceback": [
      "\u001b[0;31m---------------------------------------------------------------------------\u001b[0m",
      "\u001b[0;31mTypeError\u001b[0m                                 Traceback (most recent call last)",
      "Cell \u001b[0;32mIn[65], line 1\u001b[0m\n\u001b[0;32m----> 1\u001b[0m \u001b[38;5;28;43miter\u001b[39;49m\u001b[43m(\u001b[49m\u001b[38;5;241;43m5\u001b[39;49m\u001b[43m)\u001b[49m\n",
      "\u001b[0;31mTypeError\u001b[0m: 'int' object is not iterable"
     ]
    }
   ],
   "source": [
    "iter(5)"
   ]
  },
  {
   "cell_type": "markdown",
   "id": "191adbd1",
   "metadata": {
    "slideshow": {
     "slide_type": "subslide"
    }
   },
   "source": [
    "### The `iter()` Function"
   ]
  },
  {
   "cell_type": "markdown",
   "id": "37bb8916",
   "metadata": {},
   "source": [
    "Whenever the interpreter needs to **iterate** over an object x, it automatically calls `iter(x)`."
   ]
  },
  {
   "cell_type": "markdown",
   "id": "29dd4ff5",
   "metadata": {
    "slideshow": {
     "slide_type": "subslide"
    }
   },
   "source": [
    "The `iter()` built‐in function:"
   ]
  },
  {
   "cell_type": "markdown",
   "id": "ccd6d9aa",
   "metadata": {
    "slideshow": {
     "slide_type": "fragment"
    }
   },
   "source": [
    "1. Checks whether the object implements `__iter__()`, and calls that to obtain an iterator."
   ]
  },
  {
   "cell_type": "markdown",
   "id": "7afe4050",
   "metadata": {
    "slideshow": {
     "slide_type": "fragment"
    }
   },
   "source": [
    "2. If `__iter__()` is not implemented but `__getitem__()` is implemented, Python creates an iterator that attempts to fetch items in order, starting from index 0.\n"
   ]
  },
  {
   "cell_type": "markdown",
   "id": "76c41919",
   "metadata": {
    "slideshow": {
     "slide_type": "fragment"
    }
   },
   "source": [
    "3. If that fails, Python raises `TypeError`, usually saying \"object is not iterable\"."
   ]
  },
  {
   "cell_type": "markdown",
   "id": "58a5837c",
   "metadata": {
    "slideshow": {
     "slide_type": "subslide"
    }
   },
   "source": [
    "## Iterable Objects"
   ]
  },
  {
   "cell_type": "code",
   "execution_count": 66,
   "id": "6b7493e4",
   "metadata": {},
   "outputs": [],
   "source": [
    "class Sentence:\n",
    "    \n",
    "    def __init__(self, text: str):\n",
    "        self.text = text\n",
    "        self.tokens = text.split()\n",
    "        \n",
    "    def __getitem__(self, index):\n",
    "        return self.tokens[index]"
   ]
  },
  {
   "cell_type": "code",
   "execution_count": 67,
   "id": "7a64aab2",
   "metadata": {
    "slideshow": {
     "slide_type": "subslide"
    }
   },
   "outputs": [],
   "source": [
    "s = Sentence('Hello , World !')"
   ]
  },
  {
   "cell_type": "code",
   "execution_count": 68,
   "id": "ad1b42a5",
   "metadata": {
    "scrolled": true
   },
   "outputs": [
    {
     "name": "stdout",
     "output_type": "stream",
     "text": [
      "Hello\n",
      ",\n",
      "World\n",
      "!\n"
     ]
    }
   ],
   "source": [
    "for token in s:\n",
    "    print(token)"
   ]
  },
  {
   "cell_type": "markdown",
   "id": "6d1d4c56",
   "metadata": {
    "slideshow": {
     "slide_type": "subslide"
    }
   },
   "source": [
    "## Generators"
   ]
  },
  {
   "cell_type": "code",
   "execution_count": null,
   "id": "0338c40b",
   "metadata": {
    "slideshow": {
     "slide_type": "subslide"
    }
   },
   "outputs": [],
   "source": [
    "class Sentence:\n",
    "    \n",
    "    def __init__(self, text: str):\n",
    "        self.text = text\n",
    "        self.tokens = text.split()\n",
    "        \n",
    "    def __iter__(self):\n",
    "        for token in self.tokens:\n",
    "             yield token"
   ]
  },
  {
   "cell_type": "code",
   "execution_count": 69,
   "id": "efcf2472",
   "metadata": {
    "scrolled": true,
    "slideshow": {
     "slide_type": "fragment"
    }
   },
   "outputs": [
    {
     "name": "stdout",
     "output_type": "stream",
     "text": [
      "Hello\n",
      ",\n",
      "World\n",
      "!\n"
     ]
    }
   ],
   "source": [
    "s = Sentence('Hello , World !')\n",
    "for token in s:\n",
    "    print(token)"
   ]
  },
  {
   "cell_type": "markdown",
   "id": "995683e3",
   "metadata": {
    "slideshow": {
     "slide_type": "subslide"
    }
   },
   "source": [
    "Generators are itertators.\n",
    "\n",
    "`yield` is a keyword used to create a generator function.\n",
    "\n",
    "It is similar to `return`, but where `return` will terminate the function, `yield` will only pause it.\n",
    "\n",
    "`yield` is highly memory efficient, as the function is only executed when caller iterates over the object. But it must be handled properly.\n",
    "\n"
   ]
  },
  {
   "cell_type": "markdown",
   "id": "8f2d6a29",
   "metadata": {
    "slideshow": {
     "slide_type": "subslide"
    }
   },
   "source": [
    "## Lazy Iteration through Generators"
   ]
  },
  {
   "cell_type": "code",
   "execution_count": 70,
   "id": "c36c8bc1",
   "metadata": {
    "slideshow": {
     "slide_type": "subslide"
    }
   },
   "outputs": [],
   "source": [
    "class Sentence:\n",
    "    \n",
    "    def __init__(self, text: str):\n",
    "        self.text = text\n",
    "        \n",
    "    def __iter__(self):\n",
    "        while ' ' in self.text:\n",
    "            token, self.text = self.text.split(maxsplit=1)\n",
    "            yield token\n",
    "        yield self.text"
   ]
  },
  {
   "cell_type": "code",
   "execution_count": 71,
   "id": "368e4e6b",
   "metadata": {
    "slideshow": {
     "slide_type": "fragment"
    }
   },
   "outputs": [
    {
     "name": "stdout",
     "output_type": "stream",
     "text": [
      "Hello\n",
      ",\n",
      "World\n",
      "!\n"
     ]
    }
   ],
   "source": [
    "s = Sentence('Hello , World !')\n",
    "for token in s:\n",
    "    print(token)"
   ]
  },
  {
   "cell_type": "markdown",
   "id": "04d57cf8",
   "metadata": {
    "slideshow": {
     "slide_type": "subslide"
    }
   },
   "source": [
    "### Generator Expressions\n",
    "\n",
    "Generator expressions are an alternative to list comprehensions in two cases:\n",
    "\n",
    "- When the iterator returns an infinite stream (e.g. prime numbers)\n",
    "- When the iterator handles a large amount of data."
   ]
  },
  {
   "cell_type": "markdown",
   "id": "9bbb504d",
   "metadata": {
    "slideshow": {
     "slide_type": "fragment"
    }
   },
   "source": [
    "Generator expressions are surrounded by parentheses (`()`) while list comprehensions are surrounded by square brackets (`[]`)."
   ]
  },
  {
   "cell_type": "code",
   "execution_count": 87,
   "id": "5eb303dc",
   "metadata": {
    "slideshow": {
     "slide_type": "subslide"
    }
   },
   "outputs": [],
   "source": [
    "infile = open(\"very_large_file.txt\")\n",
    "generator = (line.strip().upper() for line in infile if line != \"\\n\")"
   ]
  },
  {
   "cell_type": "markdown",
   "id": "7cb09d1e",
   "metadata": {},
   "source": [
    "Read and uppercase lines one by one:"
   ]
  },
  {
   "cell_type": "code",
   "execution_count": 88,
   "id": "df7c4440",
   "metadata": {
    "scrolled": true
   },
   "outputs": [
    {
     "data": {
      "text/plain": [
       "'THE PROJECT GUTENBERG EBOOK OF ULYSSES, BY JAMES JOYCE'"
      ]
     },
     "execution_count": 88,
     "metadata": {},
     "output_type": "execute_result"
    }
   ],
   "source": [
    "next(generator)"
   ]
  },
  {
   "cell_type": "code",
   "execution_count": 89,
   "id": "de65dc7f",
   "metadata": {
    "slideshow": {
     "slide_type": "subslide"
    }
   },
   "outputs": [],
   "source": [
    "from typing import Iterable\n",
    "\n",
    "def fibonacci() -> Iterable[int]:\n",
    "    x, y = 0, 1\n",
    "    while True:\n",
    "        yield y\n",
    "        x, y = y, x + y"
   ]
  },
  {
   "cell_type": "code",
   "execution_count": 90,
   "id": "6612cd2e",
   "metadata": {},
   "outputs": [],
   "source": [
    "generator = fibonacci()"
   ]
  },
  {
   "cell_type": "code",
   "execution_count": 105,
   "id": "4623a70e",
   "metadata": {},
   "outputs": [
    {
     "data": {
      "text/plain": [
       "610"
      ]
     },
     "execution_count": 105,
     "metadata": {},
     "output_type": "execute_result"
    }
   ],
   "source": [
    "next(generator)"
   ]
  },
  {
   "cell_type": "markdown",
   "id": "3fbf87e3",
   "metadata": {
    "slideshow": {
     "slide_type": "subslide"
    }
   },
   "source": [
    "### Klicker Quiz\n",
    "\n",
    "https://pwa.klicker.uzh.ch/join/lfische\n",
    "\n",
    "<img src=\"klicker.png\" style=\"height: 300px;\"></img>"
   ]
  },
  {
   "cell_type": "markdown",
   "id": "c4a2457e",
   "metadata": {
    "slideshow": {
     "slide_type": "slide"
    }
   },
   "source": [
    "## Take-home messages"
   ]
  },
  {
   "cell_type": "markdown",
   "id": "51146ff1",
   "metadata": {},
   "source": [
    "- Higher-order functions have a function as an argument or return value.\n",
    "- Decorators are higher-order functions used to modify the behaviour of a function.\n",
    "- The `lambda` keyword creates anonymous functions.\n",
    "- Functional programming in python means using pure functions, list comprehensions and built in functions like `map`, `filter`, `any`, `zip`, etc.\n",
    "- Iterables are objects that can be iterated over, Iterators are objects created to handle the iteration.\n",
    "- The `yield` keyword creates a generator function, a memory efficient way to iterate over a large dataset."
   ]
  }
 ],
 "metadata": {
  "celltoolbar": "Slideshow",
  "kernelspec": {
   "display_name": "Python 3 (ipykernel)",
   "language": "python",
   "name": "python3"
  },
  "language_info": {
   "codemirror_mode": {
    "name": "ipython",
    "version": 3
   },
   "file_extension": ".py",
   "mimetype": "text/x-python",
   "name": "python",
   "nbconvert_exporter": "python",
   "pygments_lexer": "ipython3",
   "version": "3.10.10"
  }
 },
 "nbformat": 4,
 "nbformat_minor": 5
}
