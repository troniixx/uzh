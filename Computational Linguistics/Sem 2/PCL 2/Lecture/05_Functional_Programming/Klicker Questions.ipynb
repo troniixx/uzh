{
 "cells": [
  {
   "cell_type": "markdown",
   "id": "73331a72",
   "metadata": {
    "slideshow": {
     "slide_type": "slide"
    }
   },
   "source": [
    "What is the order of the mobile phones in x?\n"
   ]
  },
  {
   "cell_type": "code",
   "execution_count": null,
   "id": "90306aaf",
   "metadata": {
    "slideshow": {
     "slide_type": "-"
    }
   },
   "outputs": [],
   "source": [
    "phones = [\n",
    "    {\"make\": \"Nokia\", \"model\": 216, \"color\": \"Black\"},\n",
    "    {\"make\": \"Mi Max\", \"model\": \"2\", \"color\": \"Gold\"},\n",
    "    {\"make\": \"Samsung\", \"model\": 7, \"color\": \"Blue\"},\n",
    "]\n",
    "\n",
    "x = sorted(phones, key=lambda x: x['color'])"
   ]
  },
  {
   "cell_type": "code",
   "execution_count": null,
   "id": "0c2d2185",
   "metadata": {},
   "outputs": [],
   "source": [
    "x"
   ]
  },
  {
   "cell_type": "markdown",
   "id": "8ef0a334",
   "metadata": {
    "slideshow": {
     "slide_type": "slide"
    }
   },
   "source": [
    "What will the following code print?\n"
   ]
  },
  {
   "cell_type": "code",
   "execution_count": null,
   "id": "824f5e25",
   "metadata": {
    "slideshow": {
     "slide_type": "-"
    }
   },
   "outputs": [],
   "source": [
    "from typing import Iterable, Callable"
   ]
  },
  {
   "cell_type": "code",
   "execution_count": null,
   "id": "dfbbee0d",
   "metadata": {
    "slideshow": {
     "slide_type": "-"
    }
   },
   "outputs": [],
   "source": [
    "class Splitter:\n",
    "    def __init__(self, delimiter: str = \" \"):\n",
    "        self.delimiter = delimiter\n",
    "\n",
    "    def __call__(self, a) -> Iterable[str]:\n",
    "        return a.split(self.delimiter)\n",
    "\n",
    "splitter = Splitter(\"a\")\n",
    "print(splitter(\"Banana bread\"))"
   ]
  },
  {
   "cell_type": "markdown",
   "id": "942c2a96",
   "metadata": {
    "slideshow": {
     "slide_type": "slide"
    }
   },
   "source": [
    "What will the following code print?"
   ]
  },
  {
   "cell_type": "code",
   "execution_count": null,
   "id": "6abcabf3",
   "metadata": {
    "slideshow": {
     "slide_type": "-"
    }
   },
   "outputs": [],
   "source": [
    "def mydecorator(func: Callable) -> Callable:\n",
    "    def inner(*args) -> str:\n",
    "        return func(*args).upper()\n",
    "    return inner\n",
    "\n",
    "@mydecorator\n",
    "def myfunc(s: str) -> str:\n",
    "    rev = s[::-1]\n",
    "    print(rev)\n",
    "    return rev\n",
    "\n",
    "print(myfunc(\"Test\"))"
   ]
  },
  {
   "cell_type": "code",
   "execution_count": null,
   "id": "97c583cd",
   "metadata": {
    "slideshow": {
     "slide_type": "slide"
    }
   },
   "outputs": [],
   "source": [
    "def concatenate(list1: list, list2: list) -> list:\n",
    "    for x in list2:\n",
    "        list1.append(x)"
   ]
  },
  {
   "cell_type": "code",
   "execution_count": null,
   "id": "befa0126",
   "metadata": {},
   "outputs": [],
   "source": [
    "x = [1,2,3]\n",
    "y = [4,5,6]\n",
    "concatenate(x,y)\n",
    "print(x)\n",
    "print(y)"
   ]
  },
  {
   "cell_type": "code",
   "execution_count": null,
   "id": "ec429bb5",
   "metadata": {
    "slideshow": {
     "slide_type": "slide"
    }
   },
   "outputs": [],
   "source": [
    "def repeat(text: str) -> str:\n",
    "    return text * REPEAT_FACTOR"
   ]
  },
  {
   "cell_type": "code",
   "execution_count": null,
   "id": "42adbd68",
   "metadata": {},
   "outputs": [],
   "source": [
    "REPEAT_FACTOR = 5\n",
    "repeat(\"Hello\")"
   ]
  },
  {
   "cell_type": "code",
   "execution_count": null,
   "id": "c3e626d6",
   "metadata": {
    "slideshow": {
     "slide_type": "slide"
    }
   },
   "outputs": [],
   "source": [
    "def reverse(lst: list) -> list:\n",
    "    return lst[::-1]"
   ]
  },
  {
   "cell_type": "code",
   "execution_count": null,
   "id": "b6fe904c",
   "metadata": {},
   "outputs": [],
   "source": [
    "x = [1,2,3,4]\n",
    "y = reverse(x)\n",
    "print(x)\n",
    "print(y)"
   ]
  },
  {
   "cell_type": "code",
   "execution_count": null,
   "id": "7745a3e1",
   "metadata": {
    "slideshow": {
     "slide_type": "slide"
    }
   },
   "outputs": [],
   "source": [
    "import random\n",
    "def random_answer(question: str) -> str:\n",
    "    answers = [ \"It is certain\", \"Ask again later\", \n",
    "                  \"My sources say no\"]\n",
    "    return random.choice(answers)\n",
    "    "
   ]
  },
  {
   "cell_type": "code",
   "execution_count": null,
   "id": "33ad5c6d",
   "metadata": {},
   "outputs": [],
   "source": [
    "random_answer(\"Is this a pure function?\")"
   ]
  },
  {
   "cell_type": "markdown",
   "id": "29cda1da",
   "metadata": {
    "slideshow": {
     "slide_type": "slide"
    }
   },
   "source": [
    "Will the following code work?"
   ]
  },
  {
   "cell_type": "code",
   "execution_count": null,
   "id": "a16a477d",
   "metadata": {
    "slideshow": {
     "slide_type": "-"
    }
   },
   "outputs": [],
   "source": [
    "class Word:\n",
    "    \n",
    "    def __init__(self, text: str):\n",
    "        self.text = text\n",
    "        \n",
    "    def __iter__(self):\n",
    "        for char in self.text:\n",
    "            return char\n",
    "\n",
    "for c in Word(\"Banana\"):\n",
    "    print(c)"
   ]
  },
  {
   "cell_type": "markdown",
   "id": "f649e25c",
   "metadata": {
    "slideshow": {
     "slide_type": "slide"
    }
   },
   "source": [
    "What will the following code print?\n"
   ]
  },
  {
   "cell_type": "code",
   "execution_count": null,
   "id": "14f2d8c9",
   "metadata": {
    "slideshow": {
     "slide_type": "-"
    }
   },
   "outputs": [],
   "source": [
    "def foo() -> str:\n",
    "    x = \"world\"\n",
    "    y = \"!?!?\"\n",
    "    yield \"Hello\"\n",
    "    for i in x:\n",
    "        yield i\n",
    "    yield y * 2\n",
    "\n",
    "print(list(foo()))"
   ]
  }
 ],
 "metadata": {
  "celltoolbar": "Slideshow",
  "kernelspec": {
   "display_name": "Python 3 (ipykernel)",
   "language": "python",
   "name": "python3"
  },
  "language_info": {
   "codemirror_mode": {
    "name": "ipython",
    "version": 3
   },
   "file_extension": ".py",
   "mimetype": "text/x-python",
   "name": "python",
   "nbconvert_exporter": "python",
   "pygments_lexer": "ipython3",
   "version": "3.10.10"
  }
 },
 "nbformat": 4,
 "nbformat_minor": 5
}
