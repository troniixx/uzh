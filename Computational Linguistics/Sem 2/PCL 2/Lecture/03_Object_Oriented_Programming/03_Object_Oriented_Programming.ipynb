{
 "cells": [
  {
   "cell_type": "markdown",
   "metadata": {
    "slideshow": {
     "slide_type": "slide"
    }
   },
   "source": [
    "# Lecture 3: Advanced object-oriented programming\n",
    "\n",
    "- Programming paradigms\n",
    "- The motivation for OOP\n",
    "- Advanced concepts: `__special__` methods, class attributes, class methods, static methods\n",
    "- Inheritance: class hierarchies, abstract classes and methods"
   ]
  },
  {
   "cell_type": "markdown",
   "metadata": {
    "slideshow": {
     "slide_type": "slide"
    }
   },
   "source": [
    "## Who am I?\n",
    "\n",
    "- 2021: BA Computational Linguistics and Comparative Linguistics\n",
    "- 2024 (🤞): MA Computational Linguistics and Neuroinformatics\n",
    "- Text simplification research @ UZH\n",
    "- Teaching @ UZH & ZB\n",
    "- Previously: web development @ Idiotikon (Swiss German dictionary)\n",
    "\n",
    "andreas@cl.uzh.ch"
   ]
  },
  {
   "cell_type": "markdown",
   "metadata": {
    "slideshow": {
     "slide_type": "slide"
    }
   },
   "source": [
    "## Learning objectives\n",
    "\n",
    "By the end of this lecture, you should:\n",
    "\n",
    "- Understand the characteristics and advantages of OOP\n",
    "- Be able to design and implement your own classes\n",
    "- Understand what inheritance is and what problems it solves\n",
    "- Understand the concepts of *class attributes/methods*, *parent/child classes*, *abstract classes/methods*, and know their syntax in Python\n",
    "- Be able to understand and extend existing class hierarchies\n",
    "- Be able to design and implement your own class hierarchies\n",
    "\n",
    "Refer to the OOP cheat sheet on OLAT! We will expect you to understand these concepts at the midterm exam."
   ]
  },
  {
   "cell_type": "markdown",
   "metadata": {
    "slideshow": {
     "slide_type": "slide"
    }
   },
   "source": [
    "### Quiz: OOP basics\n",
    "\n",
    "[pwa.klicker.uzh.ch/join/asaeub](https://pwa.klicker.uzh.ch/join/asaeub)\n",
    "\n",
    "<img src=\"img/klicker-qr.png\" width=\"600\" align=\"right\">"
   ]
  },
  {
   "cell_type": "markdown",
   "metadata": {
    "slideshow": {
     "slide_type": "slide"
    }
   },
   "source": [
    "## Programming paradigms\n",
    "\n",
    "- Most problems can be solved in many different *ways*\n",
    "- A programming paradigm is a *way of programming*\n",
    "- Programming paradigms are often used to characterize different programming languages"
   ]
  },
  {
   "cell_type": "markdown",
   "metadata": {
    "slideshow": {
     "slide_type": "slide"
    }
   },
   "source": [
    "### Example using **functional programming**"
   ]
  },
  {
   "cell_type": "code",
   "execution_count": null,
   "metadata": {},
   "outputs": [],
   "source": [
    "def simulate_years(balance: float, interest_rate: float, num_years: int) -> float:\n",
    "    for _ in range(num_years):\n",
    "        balance = balance * (1 + interest_rate)\n",
    "    return balance"
   ]
  },
  {
   "cell_type": "code",
   "execution_count": null,
   "metadata": {
    "slideshow": {
     "slide_type": "fragment"
    }
   },
   "outputs": [],
   "source": [
    "my_balance = 1000.00\n",
    "my_interest_rate = 0.01\n",
    "\n",
    "print(\"My current balance is: \", my_balance)\n",
    "my_balance = simulate_years(my_balance, my_interest_rate, 10)\n",
    "print(\"After 10 years, my balance will be: \", my_balance)\n",
    "my_balance = simulate_years(my_balance, my_interest_rate, 10)\n",
    "print(\"After 10 more years, my balance will be: \", my_balance)"
   ]
  },
  {
   "cell_type": "markdown",
   "metadata": {
    "slideshow": {
     "slide_type": "slide"
    }
   },
   "source": [
    "### Example using **object-oriented programming**"
   ]
  },
  {
   "cell_type": "code",
   "execution_count": null,
   "metadata": {},
   "outputs": [],
   "source": [
    "class BankAccount:\n",
    "    def __init__(self, balance: float, interest_rate: float):\n",
    "        self.balance = balance\n",
    "        self._interest_rate = interest_rate\n",
    "\n",
    "    def simulate_years(self, num_years: int) -> None:\n",
    "        for _ in range(num_years):\n",
    "            self.balance = self.balance * (1 + self._interest_rate)"
   ]
  },
  {
   "cell_type": "code",
   "execution_count": null,
   "metadata": {
    "slideshow": {
     "slide_type": "fragment"
    }
   },
   "outputs": [],
   "source": [
    "my_account = BankAccount(1000.00, 0.01)\n",
    "print(\"My current balance is: \", my_account.balance)\n",
    "my_account.simulate_years(10)\n",
    "print(\"After 10 years, my balance will be: \", my_account.balance)\n",
    "my_account.simulate_years(10)\n",
    "print(\"After 10 more years, my balance will be: \", my_account.balance)"
   ]
  },
  {
   "cell_type": "markdown",
   "metadata": {
    "slideshow": {
     "slide_type": "slide"
    }
   },
   "source": [
    "### Features of **object-oriented programming**\n",
    "\n",
    "**Encapsulation:**\n",
    "\n",
    "- State is handled inside the object\n",
    "- State can be hidden from the user\n",
    "\n",
    "**Mutability:**\n",
    "\n",
    "- The object's state can be modified\n",
    "\n",
    "**Interface:**\n",
    "\n",
    "- The methods tell us what we can do with the object\n",
    "\n",
    "**Inheritance:**\n",
    "\n",
    "- Sharing code between classes with similar functionality"
   ]
  },
  {
   "cell_type": "markdown",
   "metadata": {
    "slideshow": {
     "slide_type": "slide"
    }
   },
   "source": [
    "### Features of **functional programming**\n",
    "\n",
    "**Pure functions:**\n",
    "\n",
    "- Functions don't have side-effects (same input → same output)\n",
    "\n",
    "**Immutability:**\n",
    "\n",
    "- Objects cannot be modified\n",
    "- To modify state, create new objects and discard the old ones\n",
    "\n",
    "**Composition:**\n",
    "\n",
    "- Splitting functions into small, independent units (great for unit tests!)\n",
    "- Maximizing reusability of functions"
   ]
  },
  {
   "cell_type": "markdown",
   "metadata": {
    "slideshow": {
     "slide_type": "slide"
    }
   },
   "source": [
    "## The intuition behind OOP\n",
    "\n",
    "<img src=\"img/still-life.png\" alt=\"Computer-generated still life by Gilles Tran (2006)\" width=\"800\" align=\"left\">\n",
    "\n",
    "<img src=\"img/vehicles.png\" alt=\"Taxonomy of vehicles\" width=\"800\" align=\"right\">"
   ]
  },
  {
   "cell_type": "markdown",
   "metadata": {
    "slideshow": {
     "slide_type": "slide"
    }
   },
   "source": [
    "### Two types of classes\n",
    "\n",
    "Classes that **store data** (in attributes):\n",
    "\n",
    "- a corpus\n",
    "- a dictionary\n",
    "- a chat conversation\n",
    "- ...\n",
    "\n",
    "Classes that **do things** (with methods):\n",
    "\n",
    "- a tokenizer\n",
    "- a search engine\n",
    "- a machine translation system\n",
    "- ...\n",
    "\n",
    "*(plus: classes that do both)*"
   ]
  },
  {
   "cell_type": "markdown",
   "metadata": {
    "slideshow": {
     "slide_type": "slide"
    }
   },
   "source": [
    "## Example implementation: Word-by-word translation"
   ]
  },
  {
   "cell_type": "code",
   "execution_count": null,
   "metadata": {},
   "outputs": [],
   "source": [
    "dictionary = {\n",
    "    \"hello\": \"hallo\",\n",
    "    \"world\": \"Welt\",\n",
    "}\n",
    "\n",
    "def translate(sentence: str, dictionary: dict):\n",
    "    tokens = sentence.split()\n",
    "    translation = \" \".join(dictionary.get(token, token) for token in tokens)\n",
    "    return translation\n",
    "\n",
    "print(translate(\"hello world !\", dictionary))"
   ]
  },
  {
   "cell_type": "markdown",
   "metadata": {
    "slideshow": {
     "slide_type": "subslide"
    }
   },
   "source": [
    "We will design two classes:\n",
    "\n",
    "- `WordByWordTranslator`: can translate text from one language to another\n",
    "- `ParallelDataset`: can store parallel texts in two languages (e.g., for training or evaluation)"
   ]
  },
  {
   "cell_type": "markdown",
   "metadata": {
    "slideshow": {
     "slide_type": "fragment"
    }
   },
   "source": [
    "We will get to know the following concepts along the way:\n",
    "\n",
    "- Encapsulation, public interfaces\n",
    "- `__special__` methods\n",
    "- Class methods\n",
    "- Class attributes\n",
    "- Properties"
   ]
  },
  {
   "cell_type": "markdown",
   "metadata": {
    "slideshow": {
     "slide_type": "slide"
    }
   },
   "source": [
    "### `ParallelDataset` class"
   ]
  },
  {
   "cell_type": "code",
   "execution_count": null,
   "metadata": {},
   "outputs": [],
   "source": [
    "from typing import Sequence, Iterator\n",
    "\n",
    "class ParallelDataset:\n",
    "    def __init__(self, source: Sequence[str], target: Sequence[str]):\n",
    "        self._source = source\n",
    "        self._target = target\n",
    "\n",
    "    def get_parallel_item(self, index: int) -> tuple[str, str]:\n",
    "        return self._source[index], self._target[index]"
   ]
  },
  {
   "cell_type": "markdown",
   "metadata": {
    "slideshow": {
     "slide_type": "slide"
    }
   },
   "source": [
    "### Encapsulation\n",
    "\n",
    "- The **underlying data structure** is hidden from the user.\n",
    "- The user interacts with the object through a **public interface**.\n",
    "- Methods and attributes starting with an underscore `_` are considered **private**.\n",
    "- Private methods and attributes *should* not be accessed from outside the class (but nothing prevents you from doing so)."
   ]
  },
  {
   "cell_type": "code",
   "execution_count": null,
   "metadata": {
    "slideshow": {
     "slide_type": "fragment"
    }
   },
   "outputs": [],
   "source": [
    "dataset_de_en = ParallelDataset(\n",
    "    [\"hello world !\", \"this is a test\"],\n",
    "    [\"hallo Welt !\", \"das ist ein Test\"],\n",
    ")\n",
    "dataset_de_en.get_parallel_item(0)"
   ]
  },
  {
   "cell_type": "markdown",
   "metadata": {
    "slideshow": {
     "slide_type": "slide"
    }
   },
   "source": [
    "### Special methods\n",
    "\n",
    "[Special methods](https://docs.python.org/3/reference/datamodel.html#special-method-names) define how objects implement certain operations and functionalities which are built into Python's syntax, for example:\n",
    "\n",
    "- `__init__()`: called when an object is **constructed** using `ClassName()`\n",
    "- `__str__()`: called when an object is **converted to a string** using `str(obj)`\n",
    "- `__lt__(other)`: called when an object is compared using `<` (less-than operator)\n",
    "- `__gte__(other)`: called when an object is compared using `>=` (**greater-than-or-equal operator**)\n",
    "- `__getitem__(index)`: called when an object is **indexed** using `obj[index]`\n",
    "- `__iter__()`: called when an object is converted to an iterator (e.g. by using it in a `for` loop)"
   ]
  },
  {
   "cell_type": "code",
   "execution_count": null,
   "metadata": {
    "slideshow": {
     "slide_type": "subslide"
    }
   },
   "outputs": [],
   "source": [
    "class ParallelDataset:\n",
    "    def __init__(self, source: Sequence[str], target: Sequence[str]):\n",
    "        self._source = source\n",
    "        self._target = target\n",
    "\n",
    "    def __getitem__(self, index: int) -> tuple[str, str]:\n",
    "        # Enables indexing with []\n",
    "        return self._source[index], self._target[index]\n",
    "\n",
    "    def __len__(self) -> int:\n",
    "        # Enables len()\n",
    "        return len(self._source)\n",
    "\n",
    "    def __iter__(self) -> Iterator[tuple[str, str]]:\n",
    "        # Enables iteration in for loops\n",
    "        for i in range(len(self)):\n",
    "            yield self[i]"
   ]
  },
  {
   "cell_type": "code",
   "execution_count": null,
   "metadata": {
    "slideshow": {
     "slide_type": "subslide"
    }
   },
   "outputs": [],
   "source": [
    "dataset_de_en = ParallelDataset(\n",
    "    [\"hello world !\", \"this is a test\"],\n",
    "    [\"hallo Welt !\", \"das ist ein Test\"],\n",
    ")\n",
    "\n",
    "print(dataset_de_en[0])\n",
    "print(len(dataset_de_en))\n",
    "for source, target in dataset_de_en:\n",
    "    print(source, target)"
   ]
  },
  {
   "cell_type": "markdown",
   "metadata": {
    "slideshow": {
     "slide_type": "slide"
    }
   },
   "source": [
    "### Class methods and static methods\n",
    "\n",
    "![Method types](img/methods.png)\n",
    "\n",
    "*(from the OOP cheat sheet on OLAT)*"
   ]
  },
  {
   "cell_type": "markdown",
   "metadata": {
    "slideshow": {
     "slide_type": "subslide"
    }
   },
   "source": [
    "**Class methods** are often used as an \"alternative constructor\":"
   ]
  },
  {
   "cell_type": "code",
   "execution_count": null,
   "metadata": {},
   "outputs": [],
   "source": [
    "class ParallelDataset:\n",
    "    def __init__(self, source: Sequence[str], target: Sequence[str]):\n",
    "        self._source = source\n",
    "        self._target = target\n",
    "\n",
    "    @classmethod\n",
    "    def load(cls, source_filename: str, target_filename: str) -> \"ParallelDataset\":\n",
    "        with open(source_filename) as f:\n",
    "            source = [line.strip() for line in f]\n",
    "        with open(target_filename) as f:\n",
    "            target = [line.strip() for line in f]\n",
    "        return cls(source, target)\n",
    "\n",
    "    def __getitem__(self, index: int) -> tuple[str, str]:\n",
    "        # Enables indexing with []\n",
    "        return self._source[index], self._target[index]\n",
    "\n",
    "    def __len__(self) -> int:\n",
    "        # Enables len()\n",
    "        return len(self._source)\n",
    "\n",
    "    def __iter__(self) -> Iterator[tuple[str, str]]:\n",
    "        # Enables iteration in for loops\n",
    "        for i in range(len(self)):\n",
    "            yield self[i]"
   ]
  },
  {
   "cell_type": "code",
   "execution_count": null,
   "metadata": {
    "slideshow": {
     "slide_type": "subslide"
    }
   },
   "outputs": [],
   "source": [
    "dataset = ParallelDataset.load(\"translation/test.src\", \"translation/test.trg\")\n",
    "\n",
    "list(dataset)"
   ]
  },
  {
   "cell_type": "markdown",
   "metadata": {
    "slideshow": {
     "slide_type": "slide"
    }
   },
   "source": [
    "### Quiz: encapsulation\n",
    "\n",
    "[pwa.klicker.uzh.ch/join/asaeub](https://pwa.klicker.uzh.ch/join/asaeub)\n",
    "\n",
    "<img src=\"img/klicker-qr.png\" width=\"600\" align=\"right\">"
   ]
  },
  {
   "cell_type": "markdown",
   "metadata": {
    "slideshow": {
     "slide_type": "slide"
    }
   },
   "source": [
    "### `WordByWordTranslator` class"
   ]
  },
  {
   "cell_type": "code",
   "execution_count": null,
   "metadata": {},
   "outputs": [],
   "source": [
    "import sacrebleu\n",
    "\n",
    "class WordByWordTranslator:\n",
    "    def __init__(self, dictionary: dict[str, str]):\n",
    "        self._dictionary = dictionary\n",
    "\n",
    "    def translate(self, text: str) -> str:\n",
    "        tokens = text.split()\n",
    "        translation = \" \".join(self._dictionary.get(token, token) for token in tokens)\n",
    "        return translation\n",
    "\n",
    "    def evaluate(self, dataset: ParallelDataset) -> float:\n",
    "        translations = [self.translate(source) for source, _ in dataset]\n",
    "        targets = [target for _, target in dataset]\n",
    "        return sacrebleu.corpus_bleu(translations, [targets]).score\n",
    "\n",
    "    @classmethod\n",
    "    def load(cls, filename: str) -> \"WordByWordTranslator\":\n",
    "        with open(filename) as f:\n",
    "            dictionary = dict(line.strip().split(\"\\t\") for line in f)\n",
    "        return cls(dictionary)"
   ]
  },
  {
   "cell_type": "code",
   "execution_count": null,
   "metadata": {
    "slideshow": {
     "slide_type": "subslide"
    }
   },
   "outputs": [],
   "source": [
    "translator = WordByWordTranslator.load(\"translation/en-de.tsv\")\n",
    "translator.translate(\"this is a test\")"
   ]
  },
  {
   "cell_type": "code",
   "execution_count": null,
   "metadata": {},
   "outputs": [],
   "source": [
    "translator.evaluate(dataset)"
   ]
  },
  {
   "cell_type": "markdown",
   "metadata": {
    "slideshow": {
     "slide_type": "subslide"
    }
   },
   "source": [
    "Classes can wrap very different implementations into a common public interface."
   ]
  },
  {
   "cell_type": "markdown",
   "metadata": {
    "slideshow": {
     "slide_type": "slide"
    }
   },
   "source": [
    "### `GoogleTranslator` class"
   ]
  },
  {
   "cell_type": "code",
   "execution_count": null,
   "metadata": {},
   "outputs": [],
   "source": [
    "import googletrans\n",
    "\n",
    "class GoogleTranslator:\n",
    "    def __init__(self, source_lang: str, target_lang: str):\n",
    "        self.source_lang = source_lang\n",
    "        self.target_lang = target_lang\n",
    "        self._translator = googletrans.Translator()\n",
    "\n",
    "    def translate(self, text: str) -> str:\n",
    "        translation = self._translator.translate(\n",
    "            text, src=self.source_lang, dest=self.target_lang\n",
    "        )\n",
    "        return translation.text\n",
    "\n",
    "    def evaluate(self, dataset: ParallelDataset) -> float:\n",
    "        translations = [self.translate(source) for source, _ in dataset]\n",
    "        targets = [target for _, target in dataset]\n",
    "        return sacrebleu.corpus_bleu(translations, [targets]).score"
   ]
  },
  {
   "cell_type": "code",
   "execution_count": null,
   "metadata": {
    "slideshow": {
     "slide_type": "subslide"
    }
   },
   "outputs": [],
   "source": [
    "translator1 = WordByWordTranslator.load(\"translation/en-de.tsv\")\n",
    "translator2 = GoogleTranslator(\"en\", \"de\")\n",
    "\n",
    "print(translator1.translate(\"this is a test\"))\n",
    "print(translator2.translate(\"this is a test\"))\n",
    "\n",
    "print(translator1.evaluate(dataset))\n",
    "print(translator2.evaluate(dataset))"
   ]
  },
  {
   "cell_type": "markdown",
   "metadata": {
    "slideshow": {
     "slide_type": "slide"
    }
   },
   "source": [
    "### Inheritance\n",
    "\n",
    "- **Inheritance** allows us to share code and interfaces between similar classes.\n",
    "- **Child classes** inherit all methods and attributes from their **parent class**.\n",
    "\n",
    "![Translator class hierarchy](img/translator-inheritance.png)"
   ]
  },
  {
   "cell_type": "markdown",
   "metadata": {
    "slideshow": {
     "slide_type": "subslide"
    }
   },
   "source": [
    "\n",
    "![Inheritance](img/inheritance.png)\n",
    "\n",
    "*(from the OOP cheat sheet on OLAT)*"
   ]
  },
  {
   "cell_type": "markdown",
   "metadata": {
    "slideshow": {
     "slide_type": "slide"
    }
   },
   "source": [
    "#### Parent class"
   ]
  },
  {
   "cell_type": "code",
   "execution_count": null,
   "metadata": {},
   "outputs": [],
   "source": [
    "class Translator:\n",
    "    def __init__(self, source_lang: str, target_lang: str):\n",
    "        self.source_lang = source_lang\n",
    "        self.target_lang = target_lang\n",
    "\n",
    "    def evaluate(self, dataset: ParallelDataset) -> float:\n",
    "        translations = [self.translate(source) for source, _ in dataset]\n",
    "        targets = [target for _, target in dataset]\n",
    "        return sacrebleu.corpus_bleu(translations, [targets]).score"
   ]
  },
  {
   "cell_type": "markdown",
   "metadata": {
    "slideshow": {
     "slide_type": "subslide"
    }
   },
   "source": [
    "#### Child classes"
   ]
  },
  {
   "cell_type": "code",
   "execution_count": null,
   "metadata": {},
   "outputs": [],
   "source": [
    "import re\n",
    "\n",
    "class WordByWordTranslator(Translator):\n",
    "    def __init__(self, dictionary: dict[str, str], source_lang: str, target_lang: str):\n",
    "        super().__init__(source_lang, target_lang)\n",
    "        self._dictionary = dictionary\n",
    "\n",
    "    def translate(self, text: str) -> str:\n",
    "        tokens = text.split()\n",
    "        translation = \" \".join(self._dictionary.get(token, token) for token in tokens)\n",
    "        return translation\n",
    "\n",
    "    @classmethod\n",
    "    def load(cls, filename: str) -> \"WordByWordTranslator\":\n",
    "        source_lang, target_lang = re.search(r\"([a-z]+)-([a-z]+).tsv\", filename).groups()\n",
    "        with open(filename) as f:\n",
    "            dictionary = dict(line.strip().split(\"\\t\") for line in f)\n",
    "        return cls(dictionary, source_lang, target_lang)"
   ]
  },
  {
   "cell_type": "code",
   "execution_count": null,
   "metadata": {
    "slideshow": {
     "slide_type": "subslide"
    }
   },
   "outputs": [],
   "source": [
    "class GoogleTranslator(Translator):\n",
    "    def __init__(self, source_lang: str, target_lang: str):\n",
    "        super().__init__(source_lang, target_lang)\n",
    "        self._translator = googletrans.Translator()\n",
    "\n",
    "    def translate(self, text: str) -> str:\n",
    "        translation = self._translator.translate(\n",
    "            text, src=self.source_lang, dest=self.target_lang\n",
    "        )\n",
    "        return translation.text"
   ]
  },
  {
   "cell_type": "code",
   "execution_count": null,
   "metadata": {},
   "outputs": [],
   "source": [
    "translator1 = WordByWordTranslator.load(\"translation/en-de.tsv\")\n",
    "translator2 = GoogleTranslator(\"en\", \"de\")\n",
    "\n",
    "print(translator1.translate(\"this is a test\"))\n",
    "print(translator2.translate(\"this is a test\"))"
   ]
  },
  {
   "cell_type": "code",
   "execution_count": null,
   "metadata": {},
   "outputs": [],
   "source": [
    "print(translator1.evaluate(dataset))\n",
    "print(translator2.evaluate(dataset))"
   ]
  },
  {
   "cell_type": "markdown",
   "metadata": {
    "slideshow": {
     "slide_type": "slide"
    }
   },
   "source": [
    "### Abstract classes\n",
    "\n",
    "- Prevent the user from instantiating a parent class\n",
    "- Force all subclasses to implement certain methods\n",
    "\n",
    "![Abstract classes](img/abstract.png)\n",
    "\n",
    "*(from the OOP cheat sheet on OLAT)*"
   ]
  },
  {
   "cell_type": "code",
   "execution_count": null,
   "metadata": {
    "slideshow": {
     "slide_type": "subslide"
    }
   },
   "outputs": [],
   "source": [
    "from abc import ABC, abstractmethod\n",
    "\n",
    "class Translator(ABC):\n",
    "    def __init__(self, source_lang: str, target_lang: str):\n",
    "        self.source_lang = source_lang\n",
    "        self.target_lang = target_lang\n",
    "\n",
    "    @abstractmethod\n",
    "    def translate(self, text: str) -> str:\n",
    "        pass\n",
    "\n",
    "    def evaluate(self, dataset: ParallelDataset) -> float:\n",
    "        translations = [self.translate(source) for source, _ in dataset]\n",
    "        targets = [target for _, target in dataset]\n",
    "        return sacrebleu.corpus_bleu(translations, [targets]).score"
   ]
  },
  {
   "cell_type": "code",
   "execution_count": null,
   "metadata": {
    "slideshow": {
     "slide_type": "subslide"
    }
   },
   "outputs": [],
   "source": [
    "translator = Translator(\"en\", \"de\")"
   ]
  },
  {
   "cell_type": "code",
   "execution_count": null,
   "metadata": {
    "slideshow": {
     "slide_type": "fragment"
    }
   },
   "outputs": [],
   "source": [
    "class IncompleteTranslator(Translator):\n",
    "    pass\n",
    "\n",
    "translator = IncompleteTranslator(\"en\", \"de\")"
   ]
  },
  {
   "cell_type": "markdown",
   "metadata": {
    "slideshow": {
     "slide_type": "slide"
    }
   },
   "source": [
    "### Quiz: inheritance\n",
    "\n",
    "[pwa.klicker.uzh.ch/join/asaeub](https://pwa.klicker.uzh.ch/join/asaeub)\n",
    "\n",
    "<img src=\"img/klicker-qr.png\" width=\"600\" align=\"right\">"
   ]
  },
  {
   "cell_type": "markdown",
   "metadata": {
    "slideshow": {
     "slide_type": "slide"
    }
   },
   "source": [
    "### Class attributes\n",
    "\n",
    "- Shared between all instances of a class\n",
    "- Can be overridden in child classes\n",
    "\n",
    "![Attribute types](img/attributes.png)\n",
    "\n",
    "*(from the OOP cheat sheet on OLAT)*"
   ]
  },
  {
   "cell_type": "markdown",
   "metadata": {
    "slideshow": {
     "slide_type": "subslide"
    }
   },
   "source": [
    "**Class attributes** are often used to store class-specific constants:"
   ]
  },
  {
   "cell_type": "code",
   "execution_count": null,
   "metadata": {},
   "outputs": [],
   "source": [
    "class Translator(ABC):\n",
    "    requires_network = False\n",
    "    ...\n",
    "\n",
    "class WordByWordTranslator(Translator):\n",
    "    ...\n",
    "\n",
    "class GoogleTranslator(Translator):\n",
    "    requires_network = True\n",
    "    ..."
   ]
  },
  {
   "cell_type": "code",
   "execution_count": null,
   "metadata": {
    "slideshow": {
     "slide_type": "fragment"
    }
   },
   "outputs": [],
   "source": [
    "WordByWordTranslator.requires_network"
   ]
  },
  {
   "cell_type": "code",
   "execution_count": null,
   "metadata": {},
   "outputs": [],
   "source": [
    "GoogleTranslator.requires_network"
   ]
  },
  {
   "cell_type": "code",
   "execution_count": null,
   "metadata": {},
   "outputs": [],
   "source": [
    "translator = GoogleTranslator()\n",
    "translator.requires_network"
   ]
  },
  {
   "cell_type": "markdown",
   "metadata": {
    "slideshow": {
     "slide_type": "slide"
    }
   },
   "source": [
    "## Complete example\n",
    "\n",
    "- Find the complete implementation on OLAT (`translation_example.zip`).\n",
    "- Install dependencies using `pip install -r requirements.txt`.\n",
    "- Next week, we will use this code to create our own Python package."
   ]
  },
  {
   "cell_type": "markdown",
   "metadata": {
    "slideshow": {
     "slide_type": "slide"
    }
   },
   "source": [
    "## A final note on OOP\n",
    "\n",
    "- OOP can make your code more **readable, maintainable, and extensible**, but it can also make it more **complex and difficult to test**.\n",
    "- Different programming paradigms lend themselves to different types of problems.\n",
    "- Use the exercises to practice writing classes and get an intuition for when OOP makes sense and when it doesn't."
   ]
  },
  {
   "cell_type": "markdown",
   "metadata": {
    "slideshow": {
     "slide_type": "slide"
    }
   },
   "source": [
    "## Take-home messages\n",
    "\n",
    "- **Encapsulation** allows us to hide the implementation details of a class from the user.\n",
    "- A leading underscore `_` indicates that an attribute or method is **\"private\"** and should not be accessed from outside the class.\n",
    "- **Special methods** like `__len__` and `__iter__` allow us to implement built-in Python operators and functionalities for our own classes.\n",
    "- Different types of methods and attributes:\n",
    "  - **Instance methods** vs. **class methods** vs. **static methods**\n",
    "  - **Instance attributes** vs. **class attributes**\n",
    "- **Inheritance** allows us to share code and interfaces between similar classes.\n",
    "  - **Child classes** inherit all methods and attributes from their **parent class**.\n",
    "  - **`super()`** is used to call the parent class's methods.\n",
    "  - **Abstract classes** cannot be instantiated and require their child classes to implement certain methods.\n",
    "\n",
    "Refer to the OOP cheat sheet on OLAT for an overview with examples!"
   ]
  },
  {
   "cell_type": "markdown",
   "metadata": {
    "slideshow": {
     "slide_type": "slide"
    }
   },
   "source": [
    "## Exercise 2\n",
    "\n",
    "⚠️ This will be the first **graded exercise**! ⚠️\n",
    "\n",
    "It will count 20% towards your exercise grade."
   ]
  }
 ],
 "metadata": {
  "kernelspec": {
   "display_name": "Python 3 (ipykernel)",
   "language": "python",
   "name": "python3"
  },
  "language_info": {
   "codemirror_mode": {
    "name": "ipython",
    "version": 3
   },
   "file_extension": ".py",
   "mimetype": "text/x-python",
   "name": "python",
   "nbconvert_exporter": "python",
   "pygments_lexer": "ipython3",
   "version": "3.11.6"
  },
  "rise": {
   "autolaunch": true,
   "slideNumber": "c/t"
  }
 },
 "nbformat": 4,
 "nbformat_minor": 4
}
