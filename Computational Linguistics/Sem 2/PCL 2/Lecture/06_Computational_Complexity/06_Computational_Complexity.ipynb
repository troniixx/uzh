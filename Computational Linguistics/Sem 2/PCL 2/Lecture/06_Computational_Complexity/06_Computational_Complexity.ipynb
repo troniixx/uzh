{
 "cells": [
  {
   "cell_type": "markdown",
   "metadata": {
    "slideshow": {
     "slide_type": "slide"
    }
   },
   "source": [
    "# Lecture 10: Computational complexity, dynamic programming\n",
    "\n",
    "- Time complexity: Big O notation\n",
    "- Recursive functions\n",
    "- Dynamic programming: Levenshtein distance"
   ]
  },
  {
   "cell_type": "markdown",
   "metadata": {
    "slideshow": {
     "slide_type": "slide"
    }
   },
   "source": [
    "## Midterm exam\n",
    "\n",
    "- April 24, 10:15-11:00 (first half of the lecture), AND-3-02/06\n",
    "- Pen-and-paper, multiple-choice and short text answers (no writing code)\n",
    "- **Not** allowed: computers, documentation, slides, cheat sheet, any other material or devices\n",
    "- More information on OLAT ([\"Exercise & Exam Info\"](https://lms.uzh.ch/auth/RepositoryEntry/17509057977/CourseNode/107214904446406))"
   ]
  },
  {
   "cell_type": "markdown",
   "metadata": {
    "slideshow": {
     "slide_type": "slide"
    }
   },
   "source": [
    "## Learning objectives\n",
    "\n",
    "By the end of this lecture, you should:\n",
    "\n",
    "- Understand what computational complexity is and why it is important\n",
    "- Be able to determine and reduce the time complexity of simple algorithms\n",
    "- Know the time complexity of some commonly used operations with `list`s, `set`s, and `dict`s\n",
    "- Understand how recursion works and be able to write recursive functions\n",
    "- Know what dynamic programming is and why it is useful\n",
    "- Understand the dynamic programming algorithm for calculating the Levenshtein distance"
   ]
  },
  {
   "cell_type": "markdown",
   "metadata": {
    "slideshow": {
     "slide_type": "slide"
    }
   },
   "source": [
    "### Imports"
   ]
  },
  {
   "cell_type": "code",
   "execution_count": 9,
   "metadata": {},
   "outputs": [],
   "source": [
    "import random\n",
    "import string\n",
    "import timeit\n",
    "import utils"
   ]
  },
  {
   "cell_type": "markdown",
   "metadata": {
    "slideshow": {
     "slide_type": "slide"
    }
   },
   "source": [
    "## How can we measure the efficiency of a program?"
   ]
  },
  {
   "cell_type": "markdown",
   "metadata": {
    "slideshow": {
     "slide_type": "slide"
    }
   },
   "source": [
    "### What resources does a program need?\n",
    "\n",
    "- Time (seconds)\n",
    "- Memory (bytes)\n",
    "- Network data (megabits)\n",
    "- Power (kilowatt-hours)\n",
    "- ..."
   ]
  },
  {
   "cell_type": "markdown",
   "metadata": {
    "slideshow": {
     "slide_type": "slide"
    }
   },
   "source": [
    "### How to measure usage of these resources?"
   ]
  },
  {
   "cell_type": "markdown",
   "metadata": {
    "slideshow": {
     "slide_type": "fragment"
    }
   },
   "source": [
    "- **Benchmarking:** Measure how many resources the program uses in absolute units\n",
    "    - Requires running the program (many times, maybe under different conditions)\n",
    "    - Depends on input data, hardware, and other factors"
   ]
  },
  {
   "cell_type": "markdown",
   "metadata": {
    "slideshow": {
     "slide_type": "fragment"
    }
   },
   "source": [
    "- **Computational complexity:** Determine how quickly runtime increases with increasing input length\n",
    "    - Based on inherent characteristics of the program\n",
    "    - Requires theoretical analysis of the code\n",
    "    - Independent of hardware (can be done with pen and paper)"
   ]
  },
  {
   "cell_type": "markdown",
   "metadata": {
    "slideshow": {
     "slide_type": "slide"
    }
   },
   "source": [
    "### Two types of computational complexity\n",
    "\n",
    "- **Time complexity:** How complex is our program in terms of the **time** it takes to run?\n",
    "- **Space complexity:** How complex is our program in terms of the **memory** it takes to run?\n",
    "\n",
    "Computational complexity tells us how **scalable** our algorithms are (e.g., with increasing corpus size, document length, vocabulary size, etc.)"
   ]
  },
  {
   "cell_type": "markdown",
   "metadata": {
    "slideshow": {
     "slide_type": "slide"
    }
   },
   "source": [
    "## Time complexity\n",
    "\n",
    "Given an algorithm, how quickly does the **number of operations** grow when we increase the **input length**?"
   ]
  },
  {
   "cell_type": "markdown",
   "metadata": {
    "slideshow": {
     "slide_type": "fragment"
    }
   },
   "source": [
    "1. For each operation, count how many times it is called\n",
    "2. Sum up the counts\n",
    "3. Keep only highest-order terms, ignore constant factors"
   ]
  },
  {
   "cell_type": "code",
   "execution_count": 10,
   "metadata": {
    "slideshow": {
     "slide_type": "slide"
    }
   },
   "outputs": [],
   "source": [
    "def minimum(numbers):\n",
    "    min_number = float(\"inf\")    # Called 1 time\n",
    "    for number in numbers:\n",
    "        if number < min_number:  # Called n times\n",
    "            min_number = number  # Called n times\n",
    "    return min_number"
   ]
  },
  {
   "cell_type": "markdown",
   "metadata": {
    "slideshow": {
     "slide_type": "fragment"
    }
   },
   "source": [
    "- Total number of operations: $2n + 1$\n",
    "- Drop lower-order terms and constant factors → $n$\n",
    "- **Time complexity: $O(n)$**  \n",
    "  → Runtime increases **linearly** with length of the input ($n$)"
   ]
  },
  {
   "cell_type": "code",
   "execution_count": 11,
   "metadata": {
    "slideshow": {
     "slide_type": "slide"
    }
   },
   "outputs": [
    {
     "ename": "AttributeError",
     "evalue": "module 'utils' has no attribute 'plot_time_complexity'",
     "output_type": "error",
     "traceback": [
      "\u001b[0;31m---------------------------------------------------------------------------\u001b[0m",
      "\u001b[0;31mAttributeError\u001b[0m                            Traceback (most recent call last)",
      "Cell \u001b[0;32mIn[11], line 2\u001b[0m\n\u001b[1;32m      1\u001b[0m random_numbers \u001b[38;5;241m=\u001b[39m [random\u001b[38;5;241m.\u001b[39mrandint(\u001b[38;5;241m0\u001b[39m, \u001b[38;5;241m100\u001b[39m) \u001b[38;5;28;01mfor\u001b[39;00m _ \u001b[38;5;129;01min\u001b[39;00m \u001b[38;5;28mrange\u001b[39m(\u001b[38;5;241m50000\u001b[39m)]\n\u001b[0;32m----> 2\u001b[0m \u001b[43mutils\u001b[49m\u001b[38;5;241;43m.\u001b[39;49m\u001b[43mplot_time_complexity\u001b[49m(minimum, random_numbers, regression_order\u001b[38;5;241m=\u001b[39m\u001b[38;5;241m1\u001b[39m)\n",
      "\u001b[0;31mAttributeError\u001b[0m: module 'utils' has no attribute 'plot_time_complexity'"
     ]
    }
   ],
   "source": [
    "random_numbers = [random.randint(0, 100) for _ in range(50000)]\n",
    "utils.plot_time_complexity(minimum, random_numbers, regression_order=1)"
   ]
  },
  {
   "cell_type": "code",
   "execution_count": null,
   "metadata": {
    "slideshow": {
     "slide_type": "slide"
    }
   },
   "outputs": [],
   "source": [
    "def optimized_minimum(numbers):\n",
    "    min_number = float(\"inf\")        # Called 1 time\n",
    "    for number in numbers:\n",
    "        if number == -float(\"inf\"):  # Called n time\n",
    "            return number\n",
    "        if number < min_number:      # Called n times\n",
    "            min_number = number      # Called n times\n",
    "    return min_number"
   ]
  },
  {
   "cell_type": "markdown",
   "metadata": {
    "slideshow": {
     "slide_type": "fragment"
    }
   },
   "source": [
    "- In the **best case** (if `numbers[0] == -inf`), we only have $2$ operations\n",
    "- But in the **worst case**, we still have $2n + 1$ operations\n",
    "- Big *O* notation always assumes the **worst case** scenario  \n",
    "  → Time complexity is still $O(n)$"
   ]
  },
  {
   "cell_type": "code",
   "execution_count": null,
   "metadata": {
    "slideshow": {
     "slide_type": "slide"
    }
   },
   "outputs": [
    {
     "ename": "AttributeError",
     "evalue": "module 'utils' has no attribute 'plot_time_complexity'",
     "output_type": "error",
     "traceback": [
      "\u001b[0;31m---------------------------------------------------------------------------\u001b[0m",
      "\u001b[0;31mAttributeError\u001b[0m                            Traceback (most recent call last)",
      "Cell \u001b[0;32mIn[6], line 2\u001b[0m\n\u001b[1;32m      1\u001b[0m random_numbers \u001b[38;5;241m=\u001b[39m [random\u001b[38;5;241m.\u001b[39mrandint(\u001b[38;5;241m0\u001b[39m, \u001b[38;5;241m100\u001b[39m) \u001b[38;5;28;01mfor\u001b[39;00m _ \u001b[38;5;129;01min\u001b[39;00m \u001b[38;5;28mrange\u001b[39m(\u001b[38;5;241m5000\u001b[39m)]\n\u001b[0;32m----> 2\u001b[0m \u001b[43mutils\u001b[49m\u001b[38;5;241;43m.\u001b[39;49m\u001b[43mplot_time_complexity\u001b[49m(optimized_minimum, random_numbers, regression_order\u001b[38;5;241m=\u001b[39m\u001b[38;5;241m1\u001b[39m)\n",
      "\u001b[0;31mAttributeError\u001b[0m: module 'utils' has no attribute 'plot_time_complexity'"
     ]
    }
   ],
   "source": [
    "random_numbers = [random.randint(0, 100) for _ in range(5000)]\n",
    "utils.plot_time_complexity(optimized_minimum, random_numbers, regression_order=1)"
   ]
  },
  {
   "cell_type": "code",
   "execution_count": null,
   "metadata": {
    "slideshow": {
     "slide_type": "slide"
    }
   },
   "outputs": [],
   "source": [
    "def pairwise_sums(numbers):\n",
    "    \"\"\"Calculate the sums of all possible pairs of numbers in a list.\"\"\"\n",
    "    sums = []                                     # Called 1 time\n",
    "    for i in range(len(numbers)):\n",
    "        for j in range(len(numbers)):\n",
    "            sums.append(numbers[i] + numbers[j])  # Called n² times\n",
    "    return sums"
   ]
  },
  {
   "cell_type": "markdown",
   "metadata": {
    "slideshow": {
     "slide_type": "fragment"
    }
   },
   "source": [
    "- Total number of operations: $n^2 + 1$\n",
    "- Drop lower-order terms and constant factors → $n^2$\n",
    "- **Time complexity: $O(n^2)$**  \n",
    "  → Runtime increases **quadratically** with length of the input ($n$)"
   ]
  },
  {
   "cell_type": "code",
   "execution_count": null,
   "metadata": {
    "slideshow": {
     "slide_type": "slide"
    }
   },
   "outputs": [],
   "source": [
    "utils.plot_time_complexity(pairwise_sums, list(range(500)), regression_order=2)"
   ]
  },
  {
   "cell_type": "code",
   "execution_count": null,
   "metadata": {
    "slideshow": {
     "slide_type": "slide"
    }
   },
   "outputs": [],
   "source": [
    "def subset_sums(numbers):\n",
    "    \"\"\"Calculate the sums of all possible subsets of a list.\"\"\"\n",
    "    sums = [0]                             # Called 1 time\n",
    "    for number in numbers:\n",
    "        new_sums = []                      # Called n times\n",
    "        for sum in sums:\n",
    "            new_sums.append(sum + number)  # Called 2ⁿ - 1 times\n",
    "        sums.extend(new_sums)              # Called n times\n",
    "    return sums"
   ]
  },
  {
   "cell_type": "markdown",
   "metadata": {
    "slideshow": {
     "slide_type": "fragment"
    }
   },
   "source": [
    "- Total number of operations: $2^n + 2n$\n",
    "- Drop lower-order terms and constant factors → $2^n$\n",
    "- **Time complexity: $O(2^n)$**  \n",
    "  → Runtime increases **exponentially** with length of the input ($n$)"
   ]
  },
  {
   "cell_type": "code",
   "execution_count": 12,
   "metadata": {
    "slideshow": {
     "slide_type": "slide"
    }
   },
   "outputs": [
    {
     "ename": "AttributeError",
     "evalue": "module 'utils' has no attribute 'plot_time_complexity'",
     "output_type": "error",
     "traceback": [
      "\u001b[0;31m---------------------------------------------------------------------------\u001b[0m",
      "\u001b[0;31mAttributeError\u001b[0m                            Traceback (most recent call last)",
      "Cell \u001b[0;32mIn[12], line 1\u001b[0m\n\u001b[0;32m----> 1\u001b[0m \u001b[43mutils\u001b[49m\u001b[38;5;241;43m.\u001b[39;49m\u001b[43mplot_time_complexity\u001b[49m(subset_sums, \u001b[38;5;28mlist\u001b[39m(\u001b[38;5;28mrange\u001b[39m(\u001b[38;5;241m20\u001b[39m)))\n",
      "\u001b[0;31mAttributeError\u001b[0m: module 'utils' has no attribute 'plot_time_complexity'"
     ]
    }
   ],
   "source": [
    "utils.plot_time_complexity(subset_sums, list(range(20)))"
   ]
  },
  {
   "cell_type": "markdown",
   "metadata": {
    "slideshow": {
     "slide_type": "slide"
    }
   },
   "source": [
    "### Common time complexity classes\n",
    "\n",
    "<img alt=\"Complexity classes\" src=\"img/complexity.png\" width=\"1000\">\n",
    "\n",
    "Source: [bigocheatsheet.com](https://www.bigocheatsheet.com/)"
   ]
  },
  {
   "cell_type": "markdown",
   "metadata": {
    "slideshow": {
     "slide_type": "slide"
    }
   },
   "source": [
    "### Remember\n",
    "\n",
    "- We are not interested in absolute runtime (which depends on hardware)  \n",
    "  → Constant factors are irrelevant\n",
    "- We are interested in how quickly runtime increases as inputs become very large  \n",
    "  → Lower-order terms become negligible"
   ]
  },
  {
   "cell_type": "markdown",
   "metadata": {
    "slideshow": {
     "slide_type": "slide"
    }
   },
   "source": [
    "### Quiz: Time complexity\n",
    "\n",
    "[pwa.klicker.uzh.ch/join/asaeub](https://pwa.klicker.uzh.ch/join/asaeub)\n",
    "\n",
    "<img src=\"img/klicker-qr.png\" width=\"600\" align=\"right\">"
   ]
  },
  {
   "cell_type": "markdown",
   "metadata": {
    "slideshow": {
     "slide_type": "slide"
    }
   },
   "source": [
    "### Example: Finding duplicate strings"
   ]
  },
  {
   "cell_type": "markdown",
   "metadata": {},
   "source": [
    "#### [OpenSubtitles](http://www.opensubtitles.org/)\n",
    "\n",
    "- Movie subtitles in many languages\n",
    "- Available in a cleaner, parallelized version as part of the [OPUS corpus](https://opus.nlpl.eu/index.php)  \n",
    "  *The German part can be downloaded as plain text [here](https://opus.nlpl.eu/download.php?f=OpenSubtitles/v2018/mono/OpenSubtitles.raw.de.gz)*\n",
    "- Commonly used for machine translation\n",
    "- Subtitles are usually short and contain a lot of duplicates"
   ]
  },
  {
   "cell_type": "code",
   "execution_count": null,
   "metadata": {
    "slideshow": {
     "slide_type": "slide"
    }
   },
   "outputs": [],
   "source": [
    "with open('de.txt', 'r') as f:\n",
    "    lines = f.readlines()\n",
    "len(lines)"
   ]
  },
  {
   "cell_type": "code",
   "execution_count": null,
   "metadata": {},
   "outputs": [],
   "source": [
    "lines[:10]"
   ]
  },
  {
   "cell_type": "markdown",
   "metadata": {
    "slideshow": {
     "slide_type": "slide"
    }
   },
   "source": [
    "#### A naive approach"
   ]
  },
  {
   "cell_type": "code",
   "execution_count": null,
   "metadata": {},
   "outputs": [],
   "source": [
    "def get_duplicates_naive(lines):\n",
    "    duplicates = set()\n",
    "    for i1, line1 in enumerate(lines):\n",
    "        for i2, line2 in enumerate(lines):\n",
    "            if line1 == line2 and i1 != i2:\n",
    "                duplicates.add(line1)\n",
    "    return duplicates"
   ]
  },
  {
   "cell_type": "code",
   "execution_count": null,
   "metadata": {},
   "outputs": [],
   "source": [
    "get_duplicates_naive(lines[:500])"
   ]
  },
  {
   "cell_type": "code",
   "execution_count": null,
   "metadata": {
    "slideshow": {
     "slide_type": "slide"
    }
   },
   "outputs": [],
   "source": [
    "timeit.timeit(lambda: get_duplicates_naive(lines[:1000]), number=1)"
   ]
  },
  {
   "cell_type": "code",
   "execution_count": null,
   "metadata": {
    "slideshow": {
     "slide_type": "slide"
    }
   },
   "outputs": [],
   "source": [
    "utils.plot_time_complexity(get_duplicates_naive, lines[:1000], regression_order=2)"
   ]
  },
  {
   "cell_type": "markdown",
   "metadata": {
    "slideshow": {
     "slide_type": "slide"
    }
   },
   "source": [
    "#### A better approach?"
   ]
  },
  {
   "cell_type": "code",
   "execution_count": null,
   "metadata": {},
   "outputs": [],
   "source": [
    "def get_duplicates_maybe_better(lines):\n",
    "    duplicates = set()\n",
    "    for line in lines:\n",
    "        count = lines.count(line)\n",
    "        if count > 1:\n",
    "            duplicates.add(line)\n",
    "    return duplicates"
   ]
  },
  {
   "cell_type": "code",
   "execution_count": null,
   "metadata": {
    "slideshow": {
     "slide_type": "slide"
    }
   },
   "outputs": [],
   "source": [
    "utils.plot_time_complexity(get_duplicates_maybe_better, lines[:1000], regression_order=2)"
   ]
  },
  {
   "cell_type": "markdown",
   "metadata": {
    "slideshow": {
     "slide_type": "slide"
    }
   },
   "source": [
    "#### Actually a better approach"
   ]
  },
  {
   "cell_type": "code",
   "execution_count": null,
   "metadata": {},
   "outputs": [],
   "source": [
    "def get_duplicates_really_better(lines):\n",
    "    lines_set = set()\n",
    "    duplicates = set()\n",
    "    for line in lines:\n",
    "        if line in lines_set:\n",
    "            duplicates.add(line)\n",
    "        else:\n",
    "            lines_set.add(line)\n",
    "    return duplicates"
   ]
  },
  {
   "cell_type": "code",
   "execution_count": null,
   "metadata": {
    "slideshow": {
     "slide_type": "slide"
    }
   },
   "outputs": [],
   "source": [
    "utils.plot_time_complexity(get_duplicates_really_better, lines[:1000], regression_order=1)"
   ]
  },
  {
   "cell_type": "markdown",
   "metadata": {
    "slideshow": {
     "slide_type": "slide"
    }
   },
   "source": [
    "### Time complexity in `list`s\n",
    "\n",
    "Due to the way `list` is implemented in Python, the following methods need to iterate over all elements (in the worst case):\n",
    "\n",
    "- `list.count()`\n",
    "- `list.index()`\n",
    "- `list.__contains__()`\n",
    "\n",
    "Their time complexity is $O(n)$ (= linear)."
   ]
  },
  {
   "cell_type": "markdown",
   "metadata": {
    "slideshow": {
     "slide_type": "slide"
    }
   },
   "source": [
    "#### Overview: Time complexity in `list`s\n",
    "\n",
    "| Method | Time complexity |\n",
    "| --- | --- |\n",
    "| `append(x)` | $O(1)$ |\n",
    "| `__getitem__(i)` | $O(1)$ |\n",
    "| `__len__()` | $O(1)$ |\n",
    "| `pop()` | $O(1)$ |\n",
    "| `pop(0)` | $O(n)$ |\n",
    "| `remove(x)` | $O(n)$ |\n",
    "| `insert(i, x)` | $O(n)$ |\n",
    "| `__contains__(x)` | $O(n)$ |\n",
    "| `count(x)` | $O(n)$ |\n",
    "| `reverse()` | $O(n)$ |\n",
    "| `sort()` | $O(n \\log n)$ |\n",
    "\n",
    "More details: [wiki.python.org/moin/TimeComplexity](https://wiki.python.org/moin/TimeComplexity#list)"
   ]
  },
  {
   "cell_type": "markdown",
   "metadata": {
    "slideshow": {
     "slide_type": "slide"
    }
   },
   "source": [
    "### Time complexity in `dict`s and `set`s\n",
    "\n",
    "`dict` and `set` are implemented using **hash tables**. These are very efficient for looking up values:\n",
    "\n",
    "- `set.__contains__()`\n",
    "- `dict.__getitem__()`\n",
    "\n",
    "These methods have time complexity $O(1)$ (= constant)."
   ]
  },
  {
   "cell_type": "markdown",
   "metadata": {
    "slideshow": {
     "slide_type": "slide"
    }
   },
   "source": [
    "#### Overview: Time complexity in `set`s\n",
    "\n",
    "| Method | Time complexity |\n",
    "| --- | --- |\n",
    "| `add(x)` | $O(1)$* |\n",
    "| `pop()` | $O(1)$ |\n",
    "| `__len__()` | $O(1)$ |\n",
    "| `__contains__()` | $O(1)$ |\n",
    "\n",
    "#### Overview: Time complexity in `dict`s\n",
    "\n",
    "| Method | Time complexity |\n",
    "| --- | --- |\n",
    "| `__setitem__(x)` | $O(1)$* |\n",
    "| `__getitem__(x)`, `get(x)` | $O(1)$ |\n",
    "| `pop()` | $O(1)$ |\n",
    "| `__len__()` | $O(1)$ |\n",
    "| `__contains__()` | $O(1)$ |\n",
    "\n",
    "\\* assuming no hash collisions\n",
    "\n",
    "More details: [wiki.python.org/moin/TimeComplexity](https://wiki.python.org/moin/TimeComplexity#set)"
   ]
  },
  {
   "cell_type": "markdown",
   "metadata": {
    "slideshow": {
     "slide_type": "slide"
    }
   },
   "source": [
    "## Space complexity\n",
    "\n",
    "- Big *O* notation can also be used for **memory usage**\n",
    "- Same principle: we look at the implementation of the algorithm and figure out how much memory is used in the **worst case** (not by running the code)"
   ]
  },
  {
   "cell_type": "markdown",
   "metadata": {
    "slideshow": {
     "slide_type": "slide"
    }
   },
   "source": [
    "### Example: Finding the $k$ longest strings"
   ]
  },
  {
   "cell_type": "code",
   "execution_count": null,
   "metadata": {},
   "outputs": [],
   "source": [
    "def longest_naive(strings, k=3):\n",
    "    return sorted(strings, key=len)[-k:]\n",
    "\n",
    "longest_naive(['a', 'ab', 'abc', 'abcd', 'abcde'])"
   ]
  },
  {
   "cell_type": "markdown",
   "metadata": {
    "slideshow": {
     "slide_type": "fragment"
    }
   },
   "source": [
    "- `sorted()` creates a new list of size $n$\n",
    "- The return value is a list of size $k$\n",
    "- **Space complexity: $O(n + k)$**\n",
    "- Time complexity: $O(n \\log n)$"
   ]
  },
  {
   "cell_type": "code",
   "execution_count": null,
   "metadata": {
    "slideshow": {
     "slide_type": "slide"
    }
   },
   "outputs": [],
   "source": [
    "def longest_better(strings, k=3):\n",
    "    longest = []\n",
    "    for string in strings:\n",
    "        if len(longest) < k:\n",
    "            longest.append(string)\n",
    "        else:\n",
    "            shortest_longest = min(longest, key=len)\n",
    "            if len(string) > len(shortest_longest):\n",
    "                longest.remove(shortest_longest)\n",
    "                longest.append(string)\n",
    "    return longest\n",
    "\n",
    "longest_better(['a', 'ab', 'abc', 'abcd', 'abcde'])"
   ]
  },
  {
   "cell_type": "markdown",
   "metadata": {
    "slideshow": {
     "slide_type": "fragment"
    }
   },
   "source": [
    "- The auxiliary list `longest` has size $k$\n",
    "- The return value has size $k$\n",
    "- Everything else requires only constant space\n",
    "- **Space complexity: $O(k)$**\n",
    "- Time complexity: ?"
   ]
  },
  {
   "cell_type": "markdown",
   "metadata": {
    "slideshow": {
     "slide_type": "slide"
    }
   },
   "source": [
    "## Recursive functions\n",
    "\n",
    "**Problem:** Calculate the sum of numbers in arbitrarily nested data structures like this:"
   ]
  },
  {
   "cell_type": "code",
   "execution_count": null,
   "metadata": {},
   "outputs": [],
   "source": [
    "data = [1, 2, [3, 4], 5, [6, [7, 8]]]"
   ]
  },
  {
   "cell_type": "markdown",
   "metadata": {
    "slideshow": {
     "slide_type": "fragment"
    }
   },
   "source": [
    "This won't work:"
   ]
  },
  {
   "cell_type": "code",
   "execution_count": null,
   "metadata": {},
   "outputs": [],
   "source": [
    "sum(data)"
   ]
  },
  {
   "cell_type": "markdown",
   "metadata": {
    "slideshow": {
     "slide_type": "fragment"
    }
   },
   "source": [
    "**Solution:** Recursively sum up elements of nested lists:"
   ]
  },
  {
   "cell_type": "code",
   "execution_count": null,
   "metadata": {
    "slideshow": {
     "slide_type": "slide"
    }
   },
   "outputs": [],
   "source": [
    "def deepsum(data):\n",
    "    total = 0\n",
    "    for item in data:\n",
    "        if isinstance(item, list):\n",
    "            total += deepsum(item)  # Recursive call\n",
    "        else:\n",
    "            total += item           # Termination\n",
    "    return total"
   ]
  },
  {
   "cell_type": "code",
   "execution_count": null,
   "metadata": {},
   "outputs": [],
   "source": [
    "deepsum([1, 2, [3, 4], 5, [6, [7, 8]]])"
   ]
  },
  {
   "cell_type": "markdown",
   "metadata": {
    "slideshow": {
     "slide_type": "fragment"
    }
   },
   "source": [
    "How many times was `deepsum` called?"
   ]
  },
  {
   "cell_type": "code",
   "execution_count": null,
   "metadata": {
    "slideshow": {
     "slide_type": "slide"
    }
   },
   "outputs": [],
   "source": [
    "call_counter = utils.CallCounter()\n",
    "\n",
    "@call_counter.register\n",
    "def deepsum(data):\n",
    "    total = 0\n",
    "    for item in data:\n",
    "        if isinstance(item, list):\n",
    "            total += deepsum(item)\n",
    "        else:\n",
    "            total += item\n",
    "    return total\n",
    "\n",
    "deepsum([1, 2, [3, 4], 5, [6, [7, 8]]])\n",
    "call_counter.print_most_common()"
   ]
  },
  {
   "cell_type": "markdown",
   "metadata": {
    "slideshow": {
     "slide_type": "slide"
    }
   },
   "source": [
    "### Recursion tree\n",
    "\n",
    "![\"Recursion tree for deepsum\"](img/recursion_deepsum.png)"
   ]
  },
  {
   "cell_type": "markdown",
   "metadata": {
    "slideshow": {
     "slide_type": "slide"
    }
   },
   "source": [
    "What about the time complexity of `deepsum`?\n",
    "\n",
    "The deeper the data structure, the longer the runtime:\n",
    "- `deepsum([[1], [[2], [[3]]]])` takes longer than `deepsum([1, 2, 3])`\n",
    "\n",
    "The broader the data structure, the longer the runtime:\n",
    "- `deepsum([1, 2, 3, 4, 5, 6])` takes longer than `deepsum([1, 2, 3])`\n",
    "\n",
    "→ Runtime depends on number of elements and depth: $O(n \\times d)$"
   ]
  },
  {
   "cell_type": "markdown",
   "metadata": {
    "slideshow": {
     "slide_type": "slide"
    }
   },
   "source": [
    "## Levenshtein distance\n",
    "\n",
    "How to turn `zebra` into `amoeba`?\n",
    "\n",
    "- **Edit operations**: we can *insert*, *delete*, or *replace* letters\n",
    "- Every edit operation comes with a **cost**\n",
    "- The **edit distance** is the smallest possible cost to get from word A to word B\n",
    "- The most common variant is the **Levenshtein distance** and defines:\n",
    "\n",
    "| Edit operation | Cost |\n",
    "| --- | --- |\n",
    "| Insertion | 1 |\n",
    "| Deletion | 1 |\n",
    "| Substitution | 1 |\n",
    "\n",
    "→ Levenshtein distance = number of edit operations"
   ]
  },
  {
   "cell_type": "markdown",
   "metadata": {
    "slideshow": {
     "slide_type": "slide"
    }
   },
   "source": [
    "### `zebra` → `amoeba`: naive approach\n",
    "\n",
    "1. Replace `z` with `a` → costs 1\n",
    "1. Replace `e` with `m` → costs 1\n",
    "1. Replace `b` with `o` → costs 1\n",
    "1. Replace `r` with `e` → costs 1\n",
    "1. Replace `a` with `b` → costs 1\n",
    "1. Insert `a` → costs 1"
   ]
  },
  {
   "cell_type": "markdown",
   "metadata": {
    "slideshow": {
     "slide_type": "fragment"
    }
   },
   "source": [
    "**Total cost: 6** → Can we do better?"
   ]
  },
  {
   "cell_type": "markdown",
   "metadata": {
    "slideshow": {
     "slide_type": "slide"
    }
   },
   "source": [
    "### `zebra` → `amoeba`: optimal solution\n",
    "\n",
    "1. Replace `z` with `a` → costs 1\n",
    "1. Insert `m` → costs 1\n",
    "1. Insert `o` → costs 1\n",
    "1. Keep `e`\n",
    "1. Keep `b`\n",
    "1. Delete `r` → costs 1\n",
    "1. Keep `a`"
   ]
  },
  {
   "cell_type": "markdown",
   "metadata": {
    "slideshow": {
     "slide_type": "fragment"
    }
   },
   "source": [
    "**Total cost: 4** (= Levenshtein distance)"
   ]
  },
  {
   "cell_type": "markdown",
   "metadata": {
    "slideshow": {
     "slide_type": "slide"
    }
   },
   "source": [
    "### Quiz: Levenshtein distance\n",
    "\n",
    "[pwa.klicker.uzh.ch/join/asaeub](https://pwa.klicker.uzh.ch/join/asaeub)\n",
    "\n",
    "<img src=\"img/klicker-qr.png\" width=\"600\" align=\"right\">"
   ]
  },
  {
   "cell_type": "markdown",
   "metadata": {
    "slideshow": {
     "slide_type": "slide"
    }
   },
   "source": [
    "### A convenient property of the Levenshtein distance problem\n",
    "\n",
    "We can derive the Levenshtein distance of the **full strings** from the Levenshtein distance between some **substrings**."
   ]
  },
  {
   "cell_type": "markdown",
   "metadata": {
    "slideshow": {
     "slide_type": "fragment"
    }
   },
   "source": [
    "For example, if we already know the following:\n",
    "\n",
    "- **levenshtein(`zebra` → `amoeb`) = 5**\n",
    "- **levenshtein(`zebr` → `amoeba`) = 4**\n",
    "- **levenshtein(`zebr` → `amoeb`) = 4**\n",
    "\n",
    "Then we can easily get **levenshtein(`zebra` → `amoeba`)**."
   ]
  },
  {
   "cell_type": "markdown",
   "metadata": {
    "slideshow": {
     "slide_type": "slide"
    }
   },
   "source": [
    "1. Suppose we already know that **levenshtein(`zebra` → `amoeb`) = 5**  \n",
    "  → Turning `zebra` into `amoeba` is possible with **1 additional edit operation** (inserting `a`)  \n",
    "  → Total cost: **6**"
   ]
  },
  {
   "cell_type": "markdown",
   "metadata": {
    "slideshow": {
     "slide_type": "fragment"
    }
   },
   "source": [
    "2. Suppose we already know that **levenshtein(`zebr` → `amoeba`) = 4**  \n",
    "  → Turning `zebra` into `amoeba` is possible with **1 additional edit operation** (deleting `a`)  \n",
    "  → Total cost: **5**"
   ]
  },
  {
   "cell_type": "markdown",
   "metadata": {
    "slideshow": {
     "slide_type": "fragment"
    }
   },
   "source": [
    "3. Suppose we already know that **levenshtein(`zebr` → `amoeb`) = 4**  \n",
    "  → Turning `zebra` into `amoeba` is possible **without additional edit operations** (keeping `a`)  \n",
    "  → Total cost: **4**"
   ]
  },
  {
   "cell_type": "markdown",
   "metadata": {
    "slideshow": {
     "slide_type": "fragment"
    }
   },
   "source": [
    "Solution 3 is the cheapest, and there are no other solutions.\n",
    "\n",
    "Therefore, **levenshtein(`zebra` → `amoeba`) = 4**"
   ]
  },
  {
   "cell_type": "markdown",
   "metadata": {
    "slideshow": {
     "slide_type": "slide"
    }
   },
   "source": [
    "### Recursive definition of Levenshtein distance\n",
    "\n",
    "$\\operatorname{levenshtein}(a, b) = \\begin{cases}\n",
    "  |a| & \\text{ if } |b| = 0, \\\\\n",
    "  |b| & \\text{ if } |a| = 0, \\\\\n",
    "  \\operatorname{levenshtein}\\big(a[:-1], b[:-1]\\big) & \\text{ if } a[-1] = b[-1], \\\\\n",
    "  1 + \\min \\begin{cases}\n",
    "          \\operatorname{levenshtein}\\big(a, b[:-1]\\big) \\\\\n",
    "          \\operatorname{levenshtein}\\big(a[:-1], b\\big) \\\\\n",
    "          \\operatorname{levenshtein}\\big(a[:-1], b[:-1]\\big) \\\\\n",
    "       \\end{cases} & \\text{ otherwise}\n",
    "\\end{cases}$"
   ]
  },
  {
   "cell_type": "code",
   "execution_count": null,
   "metadata": {
    "slideshow": {
     "slide_type": "slide"
    }
   },
   "outputs": [],
   "source": [
    "def levenshtein(a: str, b: str) -> int:\n",
    "    if a == \"\":\n",
    "        return len(b)                       # Termination\n",
    "    if b == \"\":\n",
    "        return len(a)                       # Termination\n",
    "    if a[-1] == b[-1]:\n",
    "        return levenshtein(a[:-1], b[:-1])  # Recursive call\n",
    "    return 1 + min(\n",
    "        levenshtein(a, b[:-1]),             # Recursive call\n",
    "        levenshtein(a[:-1], b),             # Recursive call\n",
    "        levenshtein(a[:-1], b[:-1]),        # Recursive call\n",
    "    )\n",
    "\n",
    "levenshtein(\"zebra\", \"amoeba\")"
   ]
  },
  {
   "cell_type": "markdown",
   "metadata": {
    "slideshow": {
     "slide_type": "slide"
    }
   },
   "source": [
    "What is the time complexity of the recursive Levenshtein distance algorithm?"
   ]
  },
  {
   "cell_type": "code",
   "execution_count": null,
   "metadata": {},
   "outputs": [],
   "source": [
    "random_string = \"\".join(random.choices(string.ascii_letters, k=12))\n",
    "utils.plot_time_complexity(lambda x: levenshtein(x, \"\".join(reversed(x))), random_string, number=1)"
   ]
  },
  {
   "cell_type": "markdown",
   "metadata": {
    "slideshow": {
     "slide_type": "slide"
    }
   },
   "source": [
    "Why is it so bad?"
   ]
  },
  {
   "cell_type": "code",
   "execution_count": null,
   "metadata": {},
   "outputs": [],
   "source": [
    "call_counter = utils.CallCounter()\n",
    "levenshtein = call_counter.register(levenshtein)\n",
    "levenshtein(\"zebra\", \"amoeba\")\n",
    "call_counter.print_most_common()"
   ]
  },
  {
   "cell_type": "markdown",
   "metadata": {
    "slideshow": {
     "slide_type": "slide"
    }
   },
   "source": [
    "![Recursion tree for Levenshtein](img/recursion_levenshtein.png)"
   ]
  },
  {
   "cell_type": "markdown",
   "metadata": {
    "slideshow": {
     "slide_type": "slide"
    }
   },
   "source": [
    "## More efficient implementation of Levenshtein distance\n",
    "\n",
    "*(See `levenshtein.pdf` or video on OLAT)*\n",
    "\n",
    "Good online demo: https://phiresky.github.io/levenshtein-demo/"
   ]
  },
  {
   "cell_type": "code",
   "execution_count": null,
   "metadata": {
    "slideshow": {
     "slide_type": "slide"
    }
   },
   "outputs": [],
   "source": [
    "def levenshtein_recursive(a: str, b: str) -> int:\n",
    "    \"\"\"Return the Levenshtein distance between two strings using recursion.\"\"\"\n",
    "    if a == \"\":\n",
    "        return len(b)\n",
    "    if b == \"\":\n",
    "        return len(a)\n",
    "    if a[-1] == b[-1]:\n",
    "        return levenshtein_recursive(a[:-1], b[:-1])\n",
    "    return 1 + min(\n",
    "        levenshtein_recursive(a, b[:-1]),\n",
    "        levenshtein_recursive(a[:-1], b),\n",
    "        levenshtein_recursive(a[:-1], b[:-1]),\n",
    "    )\n",
    "\n",
    "levenshtein_recursive(\"zebra\", \"amoeba\")"
   ]
  },
  {
   "cell_type": "code",
   "execution_count": null,
   "metadata": {
    "slideshow": {
     "slide_type": "slide"
    }
   },
   "outputs": [],
   "source": [
    "def levenshtein_dynamic(a: str, b: str) -> int:\n",
    "    \"\"\"Return the Levenshtein distance between two strings using dynamic programming.\"\"\"\n",
    "    # Initialize table\n",
    "    table = [[0] * (len(b) + 1) for _ in range(len(a) + 1)]\n",
    "    for i in range(len(a) + 1):\n",
    "        table[i][0] = i\n",
    "    for j in range(len(b) + 1):\n",
    "        table[0][j] = j\n",
    "    # Fill table\n",
    "    for i in range(1, len(a) + 1):\n",
    "        for j in range(1, len(b) + 1):\n",
    "            if a[i - 1] == b[j - 1]:\n",
    "                table[i][j] = table[i - 1][j - 1]  # Keep\n",
    "            else:\n",
    "                table[i][j] = 1 + min(\n",
    "                    table[i][j - 1],      # Insert\n",
    "                    table[i - 1][j],      # Delete\n",
    "                    table[i - 1][j - 1],  # Replace\n",
    "                )\n",
    "    # Solution in the bottom right corner\n",
    "    return table[-1][-1]\n",
    "\n",
    "levenshtein_dynamic(\"zebra\", \"amoeba\")"
   ]
  },
  {
   "cell_type": "markdown",
   "metadata": {
    "slideshow": {
     "slide_type": "slide"
    }
   },
   "source": [
    "## Dynamic programming\n",
    "\n",
    "- This tabular approach of finding the edit distance is an example of **dynamic programming**\n",
    "- **Some recursive problems** can be solved more efficiently using dynamic programming"
   ]
  },
  {
   "cell_type": "markdown",
   "metadata": {
    "slideshow": {
     "slide_type": "fragment"
    }
   },
   "source": [
    "Requirements for applying dynamic programming:\n",
    "\n",
    "- The problem can be divided into **subproblems**  \n",
    "  *Example: Edit distance between strings > edit distance between substrings*\n",
    "- The optimal solution for the problem can be **derived from optimal solutions for the subproblems**  \n",
    "  *Example: If we know the edit distance between all substrings, we know the edit distance between the full strings*"
   ]
  },
  {
   "cell_type": "markdown",
   "metadata": {
    "slideshow": {
     "slide_type": "slide"
    }
   },
   "source": [
    "### Complexity without dynamic programming"
   ]
  },
  {
   "cell_type": "code",
   "execution_count": null,
   "metadata": {},
   "outputs": [],
   "source": [
    "random_string = \"\".join(random.choices(string.ascii_letters, k=12))\n",
    "utils.plot_time_complexity(lambda x: levenshtein_recursive(x, \"\".join(reversed(x))), random_string, number=1)"
   ]
  },
  {
   "cell_type": "markdown",
   "metadata": {
    "slideshow": {
     "slide_type": "slide"
    }
   },
   "source": [
    "### Time complexity with dynamic programming"
   ]
  },
  {
   "cell_type": "code",
   "execution_count": null,
   "metadata": {},
   "outputs": [],
   "source": [
    "random_string = \"\".join(random.choices(string.ascii_letters, k=12))\n",
    "utils.plot_time_complexity(lambda x: levenshtein_dynamic(x, \"\".join(reversed(x))), random_string, number=10, regression_order=2)"
   ]
  },
  {
   "cell_type": "markdown",
   "metadata": {
    "slideshow": {
     "slide_type": "slide"
    }
   },
   "source": [
    "### More examples of dynamic programming\n",
    "\n",
    "- Text-to-speech: [Viterbi algorithm](https://en.wikipedia.org/wiki/Viterbi_algorithm) for finding the best speech samples in context\n",
    "- Syntax parsing: [CYK algorithm](https://en.wikipedia.org/wiki/CYK_algorithm) for context-free grammar parsing\n",
    "- Graphs (e.g., WordNet): [Dijkstra's algorithm](https://en.wikipedia.org/wiki/Dijkstra%27s_algorithm) for finding the shortest path between two nodes\n",
    "- Sequence alignment (similar to edit distance!): matching DNA or protein sequences"
   ]
  },
  {
   "cell_type": "markdown",
   "metadata": {
    "slideshow": {
     "slide_type": "slide"
    }
   },
   "source": [
    "## Take-home messages\n",
    "\n",
    "- **Computational complexity** measures how efficient an algorithm is as the size of its input increases\n",
    "    - **Time complexity** and **space complexity**\n",
    "    - $O(1)$ < $O(n)$ < $O(n \\log n)$ < $O(n^2)$ < $O(2^n)$\n",
    "    - Complexity is a theoretical concept -- it doesn't tell us anything about how many seconds or bytes the algorithm will take to run!\n",
    "- Checking if a specific value exists in a `list` is slow! Use `set` or `dict` instead\n",
    "- **Recursive functions** are functions that call themselves\n",
    "- **Dynamic programming** is a technique to reduce time complexity by dividing the problem into subproblems and storing the results of those subproblems\n",
    "- **Levenshtein distance** is the lowest number of edit operations (insertions, deletions, substitutions) required to turn one string into another"
   ]
  },
  {
   "cell_type": "markdown",
   "metadata": {
    "slideshow": {
     "slide_type": "slide"
    }
   },
   "source": [
    "## Enjoy your spring break! :)\n",
    "\n",
    "<img src=\"img/easter.jpeg\" width=\"600\">"
   ]
  }
 ],
 "metadata": {
  "kernelspec": {
   "display_name": "Python 3 (ipykernel)",
   "language": "python",
   "name": "python3"
  },
  "language_info": {
   "codemirror_mode": {
    "name": "ipython",
    "version": 3
   },
   "file_extension": ".py",
   "mimetype": "text/x-python",
   "name": "python",
   "nbconvert_exporter": "python",
   "pygments_lexer": "ipython3",
   "version": "3.12.0"
  },
  "rise": {
   "autolaunch": true,
   "enable_chalkboard": true,
   "slideNumber": "c/t",
   "transition": "none"
  },
  "vscode": {
   "interpreter": {
    "hash": "7ca2c2cbbbe4bab7a06683c64b1b96155c093f68e59474fbda709036a7610f06"
   }
  }
 },
 "nbformat": 4,
 "nbformat_minor": 2
}
