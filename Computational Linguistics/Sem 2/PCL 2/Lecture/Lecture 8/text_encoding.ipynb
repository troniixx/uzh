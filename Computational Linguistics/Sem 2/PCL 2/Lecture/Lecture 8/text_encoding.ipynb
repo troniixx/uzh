{
 "cells": [
  {
   "attachments": {},
   "cell_type": "markdown",
   "metadata": {},
   "source": [
    "# Lecture 8: Text encoding, text formats, command-line interfaces\n",
    "\n",
    "**NOTE:** All of the content of this lecture is in the PDF slides. This notebook only contains the code snippets and exercises.\n",
    "\n",
    "Some of the code in this notebook requires example files, which can be downloaded from OLAT."
   ]
  },
  {
   "attachments": {},
   "cell_type": "markdown",
   "metadata": {},
   "source": [
    "## Text encoding"
   ]
  },
  {
   "cell_type": "markdown",
   "metadata": {},
   "source": [
    "### What's in a string?"
   ]
  },
  {
   "cell_type": "code",
   "execution_count": 1,
   "metadata": {},
   "outputs": [],
   "source": [
    "def analyze_string(string, encoding):\n",
    "    chars_encoded = [(char, char.encode(encoding)) for char in string]\n",
    "    chars = []\n",
    "    bytes = []\n",
    "    for char, encoded in chars_encoded:\n",
    "        for byte in encoded:\n",
    "            chars.append(char)\n",
    "            char = None\n",
    "            bytes.append(byte)\n",
    "    blank = \" \" * 8\n",
    "    print(\"         Characters:\", \" \".join(f\"{char:<8}\" if char else blank for char in chars))\n",
    "    print(\"Unicode code points:\", \" \".join(f\"{ord(char):<8}\" if char else blank for char in chars))\n",
    "    print(\"Encoded bytes (bin):\", \" \".join(f\"{byte:08b}\" for byte in bytes))\n",
    "    print(\"Encoded bytes (hex):\", \" \".join(f\"{byte:02x}\".ljust(8) for byte in bytes))"
   ]
  },
  {
   "cell_type": "code",
   "execution_count": 2,
   "metadata": {},
   "outputs": [
    {
     "name": "stdout",
     "output_type": "stream",
     "text": [
      "         Characters: H        e        l        l        o       \n",
      "Unicode code points: 72       101      108      108      111     \n",
      "Encoded bytes (bin): 01001000 01100101 01101100 01101100 01101111\n",
      "Encoded bytes (hex): 48       65       6c       6c       6f      \n"
     ]
    }
   ],
   "source": [
    "analyze_string(\"Hello\", \"ASCII\")"
   ]
  },
  {
   "cell_type": "markdown",
   "metadata": {},
   "source": [
    "### Comparing encodings"
   ]
  },
  {
   "cell_type": "code",
   "execution_count": null,
   "metadata": {},
   "outputs": [],
   "source": [
    "print(\"Latin-1:\")\n",
    "analyze_string(\"hä\", \"Latin-1\")\n",
    "print()\n",
    "print(\"UTF-8:\")\n",
    "analyze_string(\"hä\", \"utf-8\")\n",
    "print()\n",
    "print(\"UTF-16:\")\n",
    "analyze_string(\"hä\", \"utf-16be\")\n",
    "print()\n",
    "print(\"UTF-32:\")\n",
    "analyze_string(\"hä\", \"utf-32be\")"
   ]
  },
  {
   "attachments": {},
   "cell_type": "markdown",
   "metadata": {},
   "source": [
    "### Encoding/decoding strings"
   ]
  },
  {
   "cell_type": "code",
   "execution_count": null,
   "metadata": {},
   "outputs": [],
   "source": [
    "my_string = \"Hi! 🤓\"\n",
    "my_bytes = my_string.encode(\"utf-8\")\n",
    "my_bytes"
   ]
  },
  {
   "cell_type": "code",
   "execution_count": null,
   "metadata": {},
   "outputs": [],
   "source": [
    "my_bytes.decode(\"utf-8\")"
   ]
  },
  {
   "attachments": {},
   "cell_type": "markdown",
   "metadata": {},
   "source": [
    "### Opening and reading files"
   ]
  },
  {
   "attachments": {},
   "cell_type": "markdown",
   "metadata": {},
   "source": [
    "#### Text mode"
   ]
  },
  {
   "cell_type": "code",
   "execution_count": null,
   "metadata": {},
   "outputs": [],
   "source": [
    "my_file = open(\"/Users/merterol/uzh/Computational Linguistics/Sem 2/PCL 2/Lecture/Lecture 8/my_file.txt\")\n",
    "my_file"
   ]
  },
  {
   "cell_type": "code",
   "execution_count": null,
   "metadata": {},
   "outputs": [],
   "source": [
    "my_file.read()"
   ]
  },
  {
   "cell_type": "code",
   "execution_count": null,
   "metadata": {},
   "outputs": [],
   "source": [
    "# Wrong encoding!\n",
    "my_file = open(\"/Users/merterol/uzh/Computational Linguistics/Sem 2/PCL 2/Lecture/Lecture 8/my_file.txt\", encoding=\"ascii\")\n",
    "my_file.read()"
   ]
  },
  {
   "cell_type": "code",
   "execution_count": null,
   "metadata": {},
   "outputs": [],
   "source": [
    "# Wrong encoding!\n",
    "my_file = open(\"/Users/merterol/uzh/Computational Linguistics/Sem 2/PCL 2/Lecture/Lecture 8/my_file.txt\", encoding=\"latin-1\")\n",
    "my_file.read()"
   ]
  },
  {
   "attachments": {},
   "cell_type": "markdown",
   "metadata": {},
   "source": [
    "#### Byte mode"
   ]
  },
  {
   "cell_type": "code",
   "execution_count": null,
   "metadata": {},
   "outputs": [],
   "source": [
    "my_file = open(\"/Users/merterol/uzh/Computational Linguistics/Sem 2/PCL 2/Lecture/Lecture 8/my_file.txt\", \"rb\")\n",
    "my_file"
   ]
  },
  {
   "cell_type": "code",
   "execution_count": null,
   "metadata": {},
   "outputs": [],
   "source": [
    "my_file.read()"
   ]
  },
  {
   "attachments": {},
   "cell_type": "markdown",
   "metadata": {},
   "source": [
    "### Unicode normal forms"
   ]
  },
  {
   "cell_type": "code",
   "execution_count": null,
   "metadata": {},
   "outputs": [],
   "source": [
    "import unicodedata\n",
    "\n",
    "word = \"hétérogénéité\"\n",
    "nfd_normalized = unicodedata.normalize(\"NFD\", word)\n",
    "print(\"NFD:\", nfd_normalized, len(nfd_normalized))\n",
    "nfc_normalized = unicodedata.normalize(\"NFC\", word)\n",
    "print(\"NFC:\", nfc_normalized, len(nfc_normalized))"
   ]
  },
  {
   "cell_type": "markdown",
   "metadata": {},
   "source": [
    "### Fun with emojis"
   ]
  },
  {
   "cell_type": "code",
   "execution_count": null,
   "metadata": {},
   "outputs": [],
   "source": [
    "PERSON = \"\\U0001F9D1\"\n",
    "MAN = \"\\U0001F468\"\n",
    "WOMAN = \"\\U0001F469\"\n",
    "SKIN_TONE_1 = \"\\U0001F3FB\"\n",
    "SKIN_TONE_2 = \"\\U0001F3FC\"\n",
    "SKIN_TONE_3 = \"\\U0001F3FD\"\n",
    "SKIN_TONE_4 = \"\\U0001F3FE\"\n",
    "SKIN_TONE_5 = \"\\U0001F3FF\"\n",
    "ZERO_WIDTH_JOINER = \"\\U0000200D\"\n",
    "RIGHTWARDS_HAND = \"\\U0001FAF1\"\n",
    "LEFTWARDS_HAND = \"\\U0001FAF2\"\n",
    "HEART = \"\\U00002764\"\n",
    "KISS = \"\\U0001F48B\"\n",
    "RED_HAIR = \"\\U0001F9B0\"\n",
    "BLOND_HAIR = \"\\U0001F471\"\n",
    "BALD = \"\\U0001F9B2\"\n",
    "WHITE_HAIR = \"\\U0001F9B3\"\n",
    "\n",
    "print(MAN + ZERO_WIDTH_JOINER + RED_HAIR)\n",
    "print(WOMAN + ZERO_WIDTH_JOINER + BALD)\n",
    "print(RIGHTWARDS_HAND + SKIN_TONE_2 + ZERO_WIDTH_JOINER + LEFTWARDS_HAND + SKIN_TONE_3)\n",
    "print(WOMAN + SKIN_TONE_5 + ZERO_WIDTH_JOINER + HEART + ZERO_WIDTH_JOINER + KISS + ZERO_WIDTH_JOINER + MAN + SKIN_TONE_1)"
   ]
  },
  {
   "attachments": {},
   "cell_type": "markdown",
   "metadata": {},
   "source": [
    "## Text-based data formats"
   ]
  },
  {
   "attachments": {},
   "cell_type": "markdown",
   "metadata": {},
   "source": [
    "### CSV"
   ]
  },
  {
   "cell_type": "code",
   "execution_count": null,
   "metadata": {},
   "outputs": [],
   "source": [
    "import csv"
   ]
  },
  {
   "attachments": {},
   "cell_type": "markdown",
   "metadata": {},
   "source": [
    "#### Reading CSV files"
   ]
  },
  {
   "cell_type": "code",
   "execution_count": null,
   "metadata": {},
   "outputs": [],
   "source": [
    "with open(\"/Users/merterol/uzh/Computational Linguistics/Sem 2/PCL 2/Lecture/Lecture 8/tweets.csv\", encoding=\"utf-8\") as infile:\n",
    "    reader = csv.reader(infile)\n",
    "    for row in reader:\n",
    "        print(row)"
   ]
  },
  {
   "cell_type": "code",
   "execution_count": null,
   "metadata": {},
   "outputs": [],
   "source": [
    "with open(\"/Users/merterol/uzh/Computational Linguistics/Sem 2/PCL 2/Lecture/Lecture 8/tweets.csv\", encoding=\"utf-8\") as infile:\n",
    "\treader = csv.DictReader(infile)\n",
    "\tfor row in reader:\n",
    "        \tprint(row)"
   ]
  },
  {
   "attachments": {},
   "cell_type": "markdown",
   "metadata": {},
   "source": [
    "#### Writing CSV files"
   ]
  },
  {
   "cell_type": "code",
   "execution_count": null,
   "metadata": {},
   "outputs": [],
   "source": [
    "with open(\"new.csv\", \"w\", encoding=\"utf-8\") as outfile:\n",
    "    writer = csv.writer(outfile)\n",
    "    writer.writerow([\"name\", \"age\"])\n",
    "    writer.writerow([\"Martha\", 36])\n",
    "    writer.writerow([\"Carl\", 19])"
   ]
  },
  {
   "cell_type": "code",
   "execution_count": null,
   "metadata": {},
   "outputs": [],
   "source": [
    "with open(\"new.csv\", \"w\", encoding=\"utf-8\") as outfile:\n",
    "    writer = csv.DictWriter(outfile, [\"name\", \"age\"])\n",
    "    writer.writeheader()\n",
    "    writer.writerow({\"name\": \"Martha\", \"age\": 36})\n",
    "    writer.writerow({\"name\": \"Carl\", \"age\": 19})"
   ]
  },
  {
   "attachments": {},
   "cell_type": "markdown",
   "metadata": {},
   "source": [
    "### JSON"
   ]
  },
  {
   "cell_type": "code",
   "execution_count": null,
   "metadata": {},
   "outputs": [],
   "source": [
    "import json"
   ]
  },
  {
   "attachments": {},
   "cell_type": "markdown",
   "metadata": {},
   "source": [
    "#### Reading JSON files"
   ]
  },
  {
   "cell_type": "code",
   "execution_count": null,
   "metadata": {},
   "outputs": [],
   "source": [
    "with open(\"/Users/merterol/uzh/Computational Linguistics/Sem 2/PCL 2/Lecture/Lecture 8/tweets.json\", encoding=\"utf-8\") as infile:\n",
    "    data = json.load(infile)\n",
    "data"
   ]
  },
  {
   "attachments": {},
   "cell_type": "markdown",
   "metadata": {},
   "source": [
    "#### Writing JSON"
   ]
  },
  {
   "cell_type": "code",
   "execution_count": null,
   "metadata": {},
   "outputs": [],
   "source": [
    "with open(\"/Users/merterol/uzh/Computational Linguistics/Sem 2/PCL 2/Lecture/Lecture 8/tweets.json\", \"w\", encoding=\"utf-8\") as outfile:\n",
    "    data = {\"example\": [1, 2, 3]}\n",
    "    json.dump(data, outfile)"
   ]
  },
  {
   "attachments": {},
   "cell_type": "markdown",
   "metadata": {},
   "source": [
    "### XML"
   ]
  },
  {
   "cell_type": "code",
   "execution_count": null,
   "metadata": {},
   "outputs": [],
   "source": [
    "import xml.etree.ElementTree as ET"
   ]
  },
  {
   "attachments": {},
   "cell_type": "markdown",
   "metadata": {},
   "source": [
    "#### Reading XML files"
   ]
  },
  {
   "cell_type": "code",
   "execution_count": null,
   "metadata": {},
   "outputs": [],
   "source": [
    "tree = ET.parse(\"/Users/merterol/uzh/Computational Linguistics/Sem 2/PCL 2/Lecture/Lecture 8/tweets.xml\")\n",
    "tree"
   ]
  },
  {
   "cell_type": "code",
   "execution_count": null,
   "metadata": {},
   "outputs": [],
   "source": [
    "texts = tree.findall(\"./tweet/text\")\n",
    "texts"
   ]
  },
  {
   "cell_type": "code",
   "execution_count": null,
   "metadata": {},
   "outputs": [],
   "source": [
    "texts[-1].text"
   ]
  },
  {
   "attachments": {},
   "cell_type": "markdown",
   "metadata": {},
   "source": [
    "#### Writing XML files"
   ]
  },
  {
   "cell_type": "code",
   "execution_count": null,
   "metadata": {},
   "outputs": [],
   "source": [
    "root = ET.Element(\"examples\")\n",
    "ET.SubElement(root, \"example\")\n",
    "subelement = ET.SubElement(root, \"example\", id=\"123\")\n",
    "subelement.text = \"Content! <:-)\"\n",
    "tree = ET.ElementTree(root)\n",
    "with open(\"new.xml\", \"wb\") as outfile:\n",
    "\ttree.write(outfile, xml_declaration=True, encoding=\"utf-8\")"
   ]
  },
  {
   "attachments": {},
   "cell_type": "markdown",
   "metadata": {},
   "source": [
    "## Exercise: Extracting information from XML\n",
    "\n",
    "[*The ArchiMob Corpus*](https://www.spur.uzh.ch/en/departments/research/textgroup/ArchiMob.html) is a collection of transcribed texts in Swiss German."
   ]
  },
  {
   "attachments": {},
   "cell_type": "markdown",
   "metadata": {},
   "source": [
    "### Downloading the XML file:"
   ]
  },
  {
   "cell_type": "code",
   "execution_count": null,
   "metadata": {},
   "outputs": [],
   "source": [
    "from urllib.request import urlretrieve\n",
    "\n",
    "urlretrieve(\"https://drive.switch.ch/index.php/s/vYZv9sNKetuPYTn/download?path=%2F&files=1044.xml\", \"archimob_1044.xml\")"
   ]
  },
  {
   "attachments": {},
   "cell_type": "markdown",
   "metadata": {},
   "source": [
    "### Parsing the XML file:"
   ]
  },
  {
   "cell_type": "code",
   "execution_count": null,
   "metadata": {},
   "outputs": [],
   "source": [
    "import xml.etree.ElementTree as ET\n",
    "\n",
    "tree = ET.parse('archimob_1044.xml')\n",
    "\n",
    "# Use TEI as default namespace (without prefix)\n",
    "ns = {\"\": \"http://www.tei-c.org/ns/1.0\"}"
   ]
  },
  {
   "cell_type": "code",
   "execution_count": null,
   "metadata": {},
   "outputs": [],
   "source": [
    "# Example: Find the <title> element, and get its text\n",
    "tree.find(\"./teiHeader//title\", ns).text"
   ]
  },
  {
   "attachments": {},
   "cell_type": "markdown",
   "metadata": {},
   "source": [
    "### Finding the longest noun:"
   ]
  },
  {
   "cell_type": "code",
   "execution_count": null,
   "metadata": {},
   "outputs": [],
   "source": [
    "# TODO: Your code here"
   ]
  }
 ],
 "metadata": {
  "kernelspec": {
   "display_name": "venv",
   "language": "python",
   "name": "python3"
  },
  "language_info": {
   "codemirror_mode": {
    "name": "ipython",
    "version": 3
   },
   "file_extension": ".py",
   "mimetype": "text/x-python",
   "name": "python",
   "nbconvert_exporter": "python",
   "pygments_lexer": "ipython3",
   "version": "3.12.3"
  },
  "orig_nbformat": 4,
  "vscode": {
   "interpreter": {
    "hash": "7ca2c2cbbbe4bab7a06683c64b1b96155c093f68e59474fbda709036a7610f06"
   }
  }
 },
 "nbformat": 4,
 "nbformat_minor": 2
}
