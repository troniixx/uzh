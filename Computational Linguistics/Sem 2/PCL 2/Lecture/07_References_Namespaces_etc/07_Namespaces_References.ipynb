{
 "cells": [
  {
   "cell_type": "markdown",
   "id": "1028c7c7",
   "metadata": {
    "slideshow": {
     "slide_type": "slide"
    }
   },
   "source": [
    "Programming Techniques in Computational Linguistics II – FS23\n",
    "\n",
    "\n",
    "# Lecture 7"
   ]
  },
  {
   "cell_type": "markdown",
   "id": "e559a223",
   "metadata": {
    "slideshow": {
     "slide_type": "-"
    }
   },
   "source": [
    "## Topics\n",
    "\n",
    "- References\n",
    "- Namespaces\n",
    "- Exceptions\n",
    "- Argument Packing\n",
    "- `argparse`"
   ]
  },
  {
   "cell_type": "markdown",
   "id": "09741b10",
   "metadata": {
    "slideshow": {
     "slide_type": "subslide"
    }
   },
   "source": [
    "## Learning Objectives\n",
    "\n",
    "- You know that binding an existing object to a new variable name does not copy the object.\n",
    "- You know the (global, local, builtin) python namespaces and how to access them.\n",
    "- You know how to handle exceptions and how to write custom exceptions.\n",
    "- You can use the `*` and `**` operators to unpack function arguments.\n",
    "- You can write command line interfaces (CLIs) using `argparse`."
   ]
  },
  {
   "cell_type": "markdown",
   "id": "70798509",
   "metadata": {
    "slideshow": {
     "slide_type": "slide"
    }
   },
   "source": [
    "# References"
   ]
  },
  {
   "cell_type": "markdown",
   "id": "603600fa",
   "metadata": {
    "slideshow": {
     "slide_type": "subslide"
    }
   },
   "source": [
    "## New Assignment vs. Object Method"
   ]
  },
  {
   "cell_type": "markdown",
   "id": "a52fde19",
   "metadata": {
    "slideshow": {
     "slide_type": "subslide"
    }
   },
   "source": [
    "### New assignment"
   ]
  },
  {
   "cell_type": "code",
   "execution_count": 1,
   "id": "229fa20c",
   "metadata": {},
   "outputs": [
    {
     "data": {
      "text/plain": [
       "[1, 2, 3]"
      ]
     },
     "execution_count": 1,
     "metadata": {},
     "output_type": "execute_result"
    }
   ],
   "source": [
    "l = [1, 2, 3]\n",
    "c = l\n",
    "l = []\n",
    "c"
   ]
  },
  {
   "cell_type": "markdown",
   "id": "362ef4b6",
   "metadata": {
    "slideshow": {
     "slide_type": "subslide"
    }
   },
   "source": [
    "### Object method"
   ]
  },
  {
   "cell_type": "code",
   "execution_count": 2,
   "id": "b98b1324",
   "metadata": {},
   "outputs": [
    {
     "data": {
      "text/plain": [
       "[]"
      ]
     },
     "execution_count": 2,
     "metadata": {},
     "output_type": "execute_result"
    }
   ],
   "source": [
    "l = [1, 2, 3]\n",
    "c = l\n",
    "l.clear()\n",
    "c"
   ]
  },
  {
   "cell_type": "code",
   "execution_count": 3,
   "id": "0ac282ea",
   "metadata": {
    "slideshow": {
     "slide_type": "subslide"
    }
   },
   "outputs": [
    {
     "data": {
      "text/plain": [
       "['a', 'b', 'c', 'd']"
      ]
     },
     "execution_count": 3,
     "metadata": {},
     "output_type": "execute_result"
    }
   ],
   "source": [
    "l = [1, 2, 3]\n",
    "c = l\n",
    "l[:] = [\"a\", \"b\", \"c\", \"d\"]\n",
    "c"
   ]
  },
  {
   "cell_type": "markdown",
   "id": "458c1a19",
   "metadata": {
    "slideshow": {
     "slide_type": "skip"
    }
   },
   "source": [
    "`l[:]` calls `__setitem__` on the list"
   ]
  },
  {
   "cell_type": "markdown",
   "id": "644b9306",
   "metadata": {
    "slideshow": {
     "slide_type": "subslide"
    }
   },
   "source": [
    "## Mutable vs. Immutable Types"
   ]
  },
  {
   "cell_type": "markdown",
   "id": "8ddae559",
   "metadata": {
    "slideshow": {
     "slide_type": "subslide"
    }
   },
   "source": [
    "### Immutable: String"
   ]
  },
  {
   "cell_type": "code",
   "execution_count": 4,
   "id": "9cfbf1f2",
   "metadata": {},
   "outputs": [
    {
     "data": {
      "text/plain": [
       "'lower case'"
      ]
     },
     "execution_count": 4,
     "metadata": {},
     "output_type": "execute_result"
    }
   ],
   "source": [
    "s = \"Title Case\"\n",
    "c = s\n",
    "\n",
    "s = s.lower()\n",
    "s = s.replace(\"title\", \"lower\")\n",
    "\n",
    "s"
   ]
  },
  {
   "cell_type": "code",
   "execution_count": 5,
   "id": "0ded9a10",
   "metadata": {
    "slideshow": {
     "slide_type": "fragment"
    }
   },
   "outputs": [
    {
     "data": {
      "text/plain": [
       "'Title Case'"
      ]
     },
     "execution_count": 5,
     "metadata": {},
     "output_type": "execute_result"
    }
   ],
   "source": [
    "c"
   ]
  },
  {
   "cell_type": "markdown",
   "id": "39ff48f2",
   "metadata": {
    "slideshow": {
     "slide_type": "subslide"
    }
   },
   "source": [
    "### Mutable: List"
   ]
  },
  {
   "cell_type": "code",
   "execution_count": 6,
   "id": "000f89c3",
   "metadata": {},
   "outputs": [
    {
     "data": {
      "text/plain": [
       "[1, 2, 7, 4, 5, 6]"
      ]
     },
     "execution_count": 6,
     "metadata": {},
     "output_type": "execute_result"
    }
   ],
   "source": [
    "l = [1, 2, 3]\n",
    "c = l\n",
    "\n",
    "l.extend([4, 5, 6])\n",
    "l[2] = 7\n",
    "\n",
    "l"
   ]
  },
  {
   "cell_type": "code",
   "execution_count": 7,
   "id": "0b5974c4",
   "metadata": {
    "slideshow": {
     "slide_type": "fragment"
    }
   },
   "outputs": [
    {
     "data": {
      "text/plain": [
       "[1, 2, 7, 4, 5, 6]"
      ]
     },
     "execution_count": 7,
     "metadata": {},
     "output_type": "execute_result"
    }
   ],
   "source": [
    "c"
   ]
  },
  {
   "cell_type": "markdown",
   "id": "20c7072c",
   "metadata": {
    "slideshow": {
     "slide_type": "subslide"
    }
   },
   "source": [
    "## Equality and Identity"
   ]
  },
  {
   "cell_type": "code",
   "execution_count": 8,
   "id": "b4fdbcff",
   "metadata": {
    "slideshow": {
     "slide_type": "subslide"
    }
   },
   "outputs": [
    {
     "data": {
      "text/plain": [
       "True"
      ]
     },
     "execution_count": 8,
     "metadata": {},
     "output_type": "execute_result"
    }
   ],
   "source": [
    "l = [\"one\", \"two\", \"three\"]\n",
    "c = l\n",
    "\n",
    "l == c"
   ]
  },
  {
   "cell_type": "code",
   "execution_count": 9,
   "id": "ad752e30",
   "metadata": {
    "slideshow": {
     "slide_type": "fragment"
    }
   },
   "outputs": [
    {
     "data": {
      "text/plain": [
       "True"
      ]
     },
     "execution_count": 9,
     "metadata": {},
     "output_type": "execute_result"
    }
   ],
   "source": [
    "l is c"
   ]
  },
  {
   "cell_type": "code",
   "execution_count": 10,
   "id": "581bad65",
   "metadata": {
    "slideshow": {
     "slide_type": "subslide"
    }
   },
   "outputs": [
    {
     "data": {
      "text/plain": [
       "True"
      ]
     },
     "execution_count": 10,
     "metadata": {},
     "output_type": "execute_result"
    }
   ],
   "source": [
    "l = [\"one\", \"two\", \"three\"]\n",
    "c = [\"one\", \"two\", \"three\"]\n",
    "\n",
    "l == c"
   ]
  },
  {
   "cell_type": "code",
   "execution_count": 11,
   "id": "b6e3a990",
   "metadata": {
    "slideshow": {
     "slide_type": "fragment"
    }
   },
   "outputs": [
    {
     "data": {
      "text/plain": [
       "False"
      ]
     },
     "execution_count": 11,
     "metadata": {},
     "output_type": "execute_result"
    }
   ],
   "source": [
    "l is c"
   ]
  },
  {
   "cell_type": "markdown",
   "id": "01bb769b",
   "metadata": {
    "slideshow": {
     "slide_type": "subslide"
    }
   },
   "source": [
    "## Loop Variables"
   ]
  },
  {
   "cell_type": "code",
   "execution_count": 12,
   "id": "76dcd9a1",
   "metadata": {
    "slideshow": {
     "slide_type": "-"
    }
   },
   "outputs": [
    {
     "name": "stdout",
     "output_type": "stream",
     "text": [
      "[[1, 2, 3, 0], [4, 5, 0], [6, 0]]\n"
     ]
    }
   ],
   "source": [
    "l = [ [1, 2, 3], [4, 5], [6] ]\n",
    "\n",
    "for elem in l:\n",
    "    elem.append(0)\n",
    "\n",
    "print(l)"
   ]
  },
  {
   "cell_type": "code",
   "execution_count": 13,
   "id": "a2487bfe",
   "metadata": {
    "slideshow": {
     "slide_type": "subslide"
    }
   },
   "outputs": [
    {
     "name": "stdout",
     "output_type": "stream",
     "text": [
      "[1, 2, 3]\n",
      "4\n"
     ]
    }
   ],
   "source": [
    "l = [1, 2, 3]\n",
    "\n",
    "for elem in l:\n",
    "    elem += 1\n",
    "\n",
    "print(l)\n",
    "print(elem)"
   ]
  },
  {
   "cell_type": "markdown",
   "id": "5ca3f7c0",
   "metadata": {
    "slideshow": {
     "slide_type": "fragment"
    }
   },
   "source": [
    "- Loop variable references the individual objects over which we iterate\n",
    "- Immutable objects cannot be changed/replaced like this."
   ]
  },
  {
   "cell_type": "markdown",
   "id": "64d94760",
   "metadata": {
    "slideshow": {
     "slide_type": "subslide"
    }
   },
   "source": [
    "## Classic Mistake"
   ]
  },
  {
   "cell_type": "code",
   "execution_count": 14,
   "id": "108b8a27",
   "metadata": {},
   "outputs": [
    {
     "data": {
      "text/plain": [
       "[[], [], []]"
      ]
     },
     "execution_count": 14,
     "metadata": {},
     "output_type": "execute_result"
    }
   ],
   "source": [
    "nested = [[]] * 3\n",
    "nested"
   ]
  },
  {
   "cell_type": "code",
   "execution_count": 15,
   "id": "ce4c9f8a",
   "metadata": {},
   "outputs": [
    {
     "data": {
      "text/plain": [
       "[['first list'], ['first list'], ['first list']]"
      ]
     },
     "execution_count": 15,
     "metadata": {},
     "output_type": "execute_result"
    }
   ],
   "source": [
    "nested[0].append(\"first list\")\n",
    "nested"
   ]
  },
  {
   "cell_type": "code",
   "execution_count": 16,
   "id": "1da57fc3",
   "metadata": {
    "slideshow": {
     "slide_type": "subslide"
    }
   },
   "outputs": [
    {
     "data": {
      "text/plain": [
       "[['first list'], [], []]"
      ]
     },
     "execution_count": 16,
     "metadata": {},
     "output_type": "execute_result"
    }
   ],
   "source": [
    "# initialize nested list like this instead:\n",
    "nested = [[], [], []]\n",
    "nested[0].append(\"first list\")\n",
    "nested"
   ]
  },
  {
   "cell_type": "markdown",
   "id": "bbefe9cf",
   "metadata": {
    "slideshow": {
     "slide_type": "subslide"
    }
   },
   "source": [
    "## Learning Goals\n",
    "\n",
    "- `x = y` does not create a copy"
   ]
  },
  {
   "cell_type": "markdown",
   "id": "07a35364",
   "metadata": {
    "slideshow": {
     "slide_type": "fragment"
    }
   },
   "source": [
    "- Multiple variables can point to the same changeable object."
   ]
  },
  {
   "cell_type": "markdown",
   "id": "e653d123",
   "metadata": {
    "slideshow": {
     "slide_type": "fragment"
    }
   },
   "source": [
    "- New assignment of a variable does not change its value but binds the name to a different object."
   ]
  },
  {
   "cell_type": "markdown",
   "id": "c7d74a63",
   "metadata": {
    "slideshow": {
     "slide_type": "slide"
    }
   },
   "source": [
    "# Namespaces"
   ]
  },
  {
   "cell_type": "markdown",
   "id": "f744cd30",
   "metadata": {
    "slideshow": {
     "slide_type": "subslide"
    }
   },
   "source": [
    "Definition from the official Python glossary:\n",
    "\n",
    "> **namespace** <br> The place where a variable is stored. Namespaces are implemented as dictionaries. There are the local, global and built‐in namespaces as well as nested namespaces [...]."
   ]
  },
  {
   "cell_type": "markdown",
   "id": "43d27973",
   "metadata": {
    "slideshow": {
     "slide_type": "subslide"
    }
   },
   "source": [
    "## Variables\n",
    "\n",
    "- Variables in Python are names\n",
    "- Every variable belongs to exactly one namespace\n",
    "- It is possible to have variables with the same name in different namespaces"
   ]
  },
  {
   "cell_type": "code",
   "execution_count": 17,
   "id": "6e3a8dd2",
   "metadata": {
    "slideshow": {
     "slide_type": "fragment"
    }
   },
   "outputs": [
    {
     "data": {
      "text/plain": [
       "<function io.open(file, mode='r', buffering=-1, encoding=None, errors=None, newline=None, closefd=True, opener=None)>"
      ]
     },
     "execution_count": 17,
     "metadata": {},
     "output_type": "execute_result"
    }
   ],
   "source": [
    "open"
   ]
  },
  {
   "cell_type": "code",
   "execution_count": 18,
   "id": "6f50bfc8",
   "metadata": {},
   "outputs": [
    {
     "data": {
      "text/plain": [
       "<function posix.open(path, flags, mode=511, *, dir_fd=None)>"
      ]
     },
     "execution_count": 18,
     "metadata": {},
     "output_type": "execute_result"
    }
   ],
   "source": [
    "import os\n",
    "os.open"
   ]
  },
  {
   "cell_type": "code",
   "execution_count": 19,
   "id": "e3a5a595",
   "metadata": {},
   "outputs": [
    {
     "data": {
      "text/plain": [
       "<function codecs.open(filename, mode='r', encoding=None, errors='strict', buffering=-1)>"
      ]
     },
     "execution_count": 19,
     "metadata": {},
     "output_type": "execute_result"
    }
   ],
   "source": [
    "import codecs\n",
    "codecs.open"
   ]
  },
  {
   "cell_type": "markdown",
   "id": "510245cd",
   "metadata": {
    "slideshow": {
     "slide_type": "subslide"
    }
   },
   "source": [
    "## Name Space as a Dictionary\n",
    "\n",
    "The namespace of an object is a dictionary."
   ]
  },
  {
   "cell_type": "code",
   "execution_count": 20,
   "id": "1468f796",
   "metadata": {
    "slideshow": {
     "slide_type": "-"
    }
   },
   "outputs": [],
   "source": [
    "class Dish:\n",
    "    'Create a tasty meal.'\n",
    "    def __init__(self, spam: int, eggs: int):\n",
    "        self.spam = spam\n",
    "        self.eggs = eggs"
   ]
  },
  {
   "cell_type": "code",
   "execution_count": 21,
   "id": "b5654281",
   "metadata": {},
   "outputs": [
    {
     "data": {
      "text/plain": [
       "{'spam': 2, 'eggs': 4}"
      ]
     },
     "execution_count": 21,
     "metadata": {},
     "output_type": "execute_result"
    }
   ],
   "source": [
    "d = Dish(2, 4)\n",
    "d.__dict__"
   ]
  },
  {
   "cell_type": "code",
   "execution_count": 22,
   "id": "1e161837",
   "metadata": {
    "scrolled": true,
    "slideshow": {
     "slide_type": "subslide"
    }
   },
   "outputs": [
    {
     "data": {
      "text/plain": [
       "{'spam': 2, 'eggs': 4, 'bacon': 3}"
      ]
     },
     "execution_count": 22,
     "metadata": {},
     "output_type": "execute_result"
    }
   ],
   "source": [
    "d.bacon = 3\n",
    "d.__dict__"
   ]
  },
  {
   "cell_type": "markdown",
   "id": "e4b8940c",
   "metadata": {
    "slideshow": {
     "slide_type": "subslide"
    }
   },
   "source": [
    "## Immediate name spaces\n",
    "\n",
    "Three namespaces* are directly accessible (without period):\n",
    "\n",
    "- Local names\n",
    "- Global names\n",
    "- `builtins`\n",
    "\n",
    "When accessing a name, the namespaces are searched in this order."
   ]
  },
  {
   "cell_type": "markdown",
   "id": "b82f8a85",
   "metadata": {
    "slideshow": {
     "slide_type": "fragment"
    }
   },
   "source": [
    "\\* In the case of nested functions, additional namespaces are accessible."
   ]
  },
  {
   "cell_type": "code",
   "execution_count": 23,
   "id": "59c2dcaa",
   "metadata": {
    "slideshow": {
     "slide_type": "fragment"
    }
   },
   "outputs": [
    {
     "data": {
      "text/plain": [
       "'global namespace'"
      ]
     },
     "execution_count": 23,
     "metadata": {},
     "output_type": "execute_result"
    }
   ],
   "source": [
    "x = \"global namespace\"\n",
    "x"
   ]
  },
  {
   "cell_type": "code",
   "execution_count": 24,
   "id": "d00ec48a",
   "metadata": {
    "slideshow": {
     "slide_type": "fragment"
    }
   },
   "outputs": [],
   "source": [
    "def foo():\n",
    "    x = \"local namespace\"\n",
    "    print(x)"
   ]
  },
  {
   "cell_type": "code",
   "execution_count": 25,
   "id": "41038de1",
   "metadata": {
    "slideshow": {
     "slide_type": "fragment"
    }
   },
   "outputs": [
    {
     "name": "stdout",
     "output_type": "stream",
     "text": [
      "global namespace\n",
      "local namespace\n",
      "global namespace\n"
     ]
    }
   ],
   "source": [
    "print(x)\n",
    "foo()\n",
    "print(x)"
   ]
  },
  {
   "cell_type": "markdown",
   "id": "87eb1315",
   "metadata": {
    "slideshow": {
     "slide_type": "subslide"
    }
   },
   "source": [
    "## Function Namespace\n",
    "\n",
    "- The global namespace is accessible (for reading).\n",
    "- Assignments always happen in the local function namespace!\n",
    "- Externally, the local function namespace is not accessible."
   ]
  },
  {
   "cell_type": "markdown",
   "id": "aee82a7b",
   "metadata": {
    "slideshow": {
     "slide_type": "fragment"
    }
   },
   "source": [
    "- Exception: when keywords `global` or `nonlocal` are used."
   ]
  },
  {
   "cell_type": "markdown",
   "id": "41799732",
   "metadata": {
    "slideshow": {
     "slide_type": "subslide"
    }
   },
   "source": [
    "### `global` keyword"
   ]
  },
  {
   "cell_type": "code",
   "execution_count": 27,
   "id": "6a969197",
   "metadata": {},
   "outputs": [
    {
     "name": "stdout",
     "output_type": "stream",
     "text": [
      "scope?\n"
     ]
    }
   ],
   "source": [
    "mystring = \"global string\"\n",
    "\n",
    "def foo():\n",
    "    global mystring\n",
    "    mystring = \"scope?\"\n",
    "\n",
    "foo()\n",
    "\n",
    "print(mystring)"
   ]
  },
  {
   "cell_type": "markdown",
   "id": "542ceef8",
   "metadata": {
    "slideshow": {
     "slide_type": "fragment"
    }
   },
   "source": [
    "`global` can be used to modify variables from a non-global scope.\n",
    "\n",
    "Accessing global variables from a non-global scope (for reading) is possible even  without `global`."
   ]
  },
  {
   "cell_type": "markdown",
   "id": "dd951b37",
   "metadata": {
    "slideshow": {
     "slide_type": "subslide"
    }
   },
   "source": [
    "### `nonlocal` keyword"
   ]
  },
  {
   "cell_type": "code",
   "execution_count": 29,
   "id": "67f46358",
   "metadata": {
    "scrolled": true
   },
   "outputs": [
    {
     "name": "stdout",
     "output_type": "stream",
     "text": [
      "local to inner\n"
     ]
    }
   ],
   "source": [
    "def outer():\n",
    "    mystring = \"local to outer\"\n",
    "\n",
    "    def inner():\n",
    "        nonlocal mystring\n",
    "        mystring = \"local to inner\"\n",
    "    inner()\n",
    "    \n",
    "    print(mystring)\n",
    "    \n",
    "outer()"
   ]
  },
  {
   "cell_type": "markdown",
   "id": "043579cb",
   "metadata": {
    "slideshow": {
     "slide_type": "fragment"
    }
   },
   "source": [
    "`nonlocal` can be used in nested functions, if the variable should not belong to the scope of the inner function."
   ]
  },
  {
   "cell_type": "markdown",
   "id": "dd2b86b0",
   "metadata": {
    "slideshow": {
     "slide_type": "subslide"
    }
   },
   "source": [
    "## Local Namespace, Scope"
   ]
  },
  {
   "cell_type": "markdown",
   "id": "cb180a93",
   "metadata": {
    "slideshow": {
     "slide_type": "-"
    }
   },
   "source": [
    "Code blocks with their own (local) namespace:\n",
    "\n",
    "- Modules\n",
    "- Classes\n",
    "- Functions/methods"
   ]
  },
  {
   "cell_type": "markdown",
   "id": "b118aa9b",
   "metadata": {
    "slideshow": {
     "slide_type": "fragment"
    }
   },
   "source": [
    "The part of the code where a name(‐space) is directly accessible is called scope.\n"
   ]
  },
  {
   "cell_type": "markdown",
   "id": "8e12f233",
   "metadata": {
    "slideshow": {
     "slide_type": "fragment"
    }
   },
   "source": [
    "Other blocks have no own namespace / scope (`for, while, if, with, try`)."
   ]
  },
  {
   "cell_type": "markdown",
   "id": "37ed1324",
   "metadata": {
    "slideshow": {
     "slide_type": "subslide"
    }
   },
   "source": [
    "<center><img src=\"scope.png\" style=\"height: 800px;\"></img></center>"
   ]
  },
  {
   "cell_type": "markdown",
   "id": "24e3a544",
   "metadata": {
    "slideshow": {
     "slide_type": "slide"
    }
   },
   "source": [
    "# Exception Handling"
   ]
  },
  {
   "cell_type": "markdown",
   "id": "dc0406d2",
   "metadata": {
    "slideshow": {
     "slide_type": "subslide"
    }
   },
   "source": [
    "## Typical Use Cases"
   ]
  },
  {
   "cell_type": "markdown",
   "id": "2ff44020",
   "metadata": {
    "slideshow": {
     "slide_type": "subslide"
    }
   },
   "source": [
    "### Logical Structure\n",
    "\n",
    "Standard case and exception"
   ]
  },
  {
   "cell_type": "code",
   "execution_count": 32,
   "id": "6ce07603",
   "metadata": {},
   "outputs": [
    {
     "name": "stdout",
     "output_type": "stream",
     "text": [
      "directory exists, but continue anyway\n"
     ]
    }
   ],
   "source": [
    "import os\n",
    "\n",
    "try:\n",
    "    os.mkdir(\"Lecture Notes\")\n",
    "except FileExistsError:\n",
    "    print(\"directory exists, but continue anyway\")\n"
   ]
  },
  {
   "cell_type": "markdown",
   "id": "a669e53b",
   "metadata": {
    "slideshow": {
     "slide_type": "subslide"
    }
   },
   "source": [
    "### Control Structure\n",
    "\n",
    "Breaking out of an infinite loop\n"
   ]
  },
  {
   "cell_type": "markdown",
   "id": "302280c1",
   "metadata": {},
   "source": [
    "```python\n",
    "try:\n",
    "    server.serve_forever()\n",
    "except KeyboardInterrupt:\n",
    "    clean_up()\n",
    "    sys.exit(0)\n",
    "```"
   ]
  },
  {
   "cell_type": "markdown",
   "id": "269a0f88",
   "metadata": {
    "slideshow": {
     "slide_type": "subslide"
    }
   },
   "source": [
    "### Back-Off\n",
    "\n",
    "Cascade of trial and error"
   ]
  },
  {
   "cell_type": "markdown",
   "id": "547525cb",
   "metadata": {},
   "source": [
    "```python\n",
    "try:\n",
    "    text = data.decode('utf8')\n",
    "except UnicodeDecodeError:\n",
    "    try:\n",
    "        text = data.decode('cp1252')\n",
    "    except UnicodeDecodeError:\n",
    "        text = data.decode('latin1')\n",
    "```"
   ]
  },
  {
   "cell_type": "markdown",
   "id": "3abe456e",
   "metadata": {
    "slideshow": {
     "slide_type": "subslide"
    }
   },
   "source": [
    "## Syntax"
   ]
  },
  {
   "cell_type": "markdown",
   "id": "6855205a",
   "metadata": {},
   "source": [
    "### Form\n",
    "\n",
    "```python\n",
    "try:\n",
    "    [...]\n",
    "except Exception_1:\n",
    "    [...]\n",
    ":\n",
    "except Exception_n:\n",
    "    [...]\n",
    "else:\n",
    "    [...]\n",
    "finally:\n",
    "    [...]\n",
    "```"
   ]
  },
  {
   "cell_type": "markdown",
   "id": "3e14402b",
   "metadata": {
    "slideshow": {
     "slide_type": "subslide"
    }
   },
   "source": [
    "### Execution\n",
    "- `try` block works:\n",
    "    - `else` block\n",
    "    - `finally` block\n",
    "- try block fails with a planned Exception:\n",
    "    - first matching except block is executed (only one!)\n",
    "    - `finally` block\n",
    "- try block fails with an unplanned Exception:\n",
    "    - `finally` block\n",
    "    - Exception is passed on"
   ]
  },
  {
   "cell_type": "markdown",
   "id": "12874028",
   "metadata": {
    "slideshow": {
     "slide_type": "subslide"
    }
   },
   "source": [
    "### Elements\n",
    "\n",
    "- `except` block\n",
    "    - handles exceptions\n",
    "- `else` block\n",
    "    - **NO** exception in `try` block\n",
    "    - whitout protection from new exceptions\n",
    "- `finally` block\n",
    "    - executed in all cases\n",
    "    - ideal for \"cleaning up\""
   ]
  },
  {
   "cell_type": "markdown",
   "id": "23ffadb2",
   "metadata": {
    "slideshow": {
     "slide_type": "subslide"
    }
   },
   "source": [
    "## Exception Hierarchy"
   ]
  },
  {
   "cell_type": "code",
   "execution_count": 35,
   "id": "18948699",
   "metadata": {},
   "outputs": [
    {
     "name": "stdout",
     "output_type": "stream",
     "text": [
      "Length>> 10 µm\n",
      "invalid number\n"
     ]
    }
   ],
   "source": [
    "try:\n",
    "    inp = input('Length>> ').split()\n",
    "    length = float(inp[0])\n",
    "    unit = inp[-1].encode('ascii')\n",
    "except ValueError:\n",
    "    print('invalid number')\n",
    "except UnicodeEncodeError:\n",
    "    print('only ASCII characters allowed')"
   ]
  },
  {
   "cell_type": "markdown",
   "id": "3e0da590",
   "metadata": {
    "slideshow": {
     "slide_type": "skip"
    }
   },
   "source": [
    "```python\n",
    "Length>> two mm\n",
    "invalid number\n",
    "\n",
    "Length>> 34 μm\n",
    "invalid number\n",
    "```"
   ]
  },
  {
   "cell_type": "markdown",
   "id": "2add93ce",
   "metadata": {
    "slideshow": {
     "slide_type": "fragment"
    }
   },
   "source": [
    "Why?"
   ]
  },
  {
   "cell_type": "code",
   "execution_count": 36,
   "id": "f70cc712",
   "metadata": {
    "slideshow": {
     "slide_type": "subslide"
    }
   },
   "outputs": [
    {
     "data": {
      "text/plain": [
       "[UnicodeEncodeError,\n",
       " UnicodeError,\n",
       " ValueError,\n",
       " Exception,\n",
       " BaseException,\n",
       " object]"
      ]
     },
     "execution_count": 36,
     "metadata": {},
     "output_type": "execute_result"
    }
   ],
   "source": [
    "UnicodeEncodeError.mro()"
   ]
  },
  {
   "cell_type": "markdown",
   "id": "30c04644",
   "metadata": {
    "slideshow": {
     "slide_type": "fragment"
    }
   },
   "source": [
    "$\\rightarrow$ `UnicodeEncodeError` is a `ValueError`!"
   ]
  },
  {
   "cell_type": "markdown",
   "id": "884ff6c8",
   "metadata": {},
   "source": [
    "- Exceptions are organised as a class hierarchy\n",
    "- Exceptions are also caught by their parent class"
   ]
  },
  {
   "cell_type": "markdown",
   "id": "57b6d8df",
   "metadata": {
    "slideshow": {
     "slide_type": "subslide"
    }
   },
   "source": [
    "- Order of except statements is relevant: More specific cases first"
   ]
  },
  {
   "cell_type": "code",
   "execution_count": 37,
   "id": "f9b6a849",
   "metadata": {},
   "outputs": [
    {
     "name": "stdout",
     "output_type": "stream",
     "text": [
      "Length>> 10 µm\n",
      "only ASCII characters allowed\n"
     ]
    }
   ],
   "source": [
    "try:\n",
    "    inp = input('Length>> ').split()\n",
    "    length = float(inp[0])\n",
    "    unit = inp[-1].encode('ascii')\n",
    "except UnicodeEncodeError:\n",
    "    print('only ASCII characters allowed')\n",
    "except ValueError:\n",
    "    print('invalid number')"
   ]
  },
  {
   "cell_type": "markdown",
   "id": "6c2bbad9",
   "metadata": {
    "slideshow": {
     "slide_type": "subslide"
    }
   },
   "source": [
    "## Inspection of an Exception\n",
    "Caught exceptions can be bound to a variable with `as`\n",
    "\n",
    "Access to its arguments is granted with `.args` (→ Tuple)"
   ]
  },
  {
   "cell_type": "code",
   "execution_count": 38,
   "id": "8387c886",
   "metadata": {},
   "outputs": [
    {
     "name": "stdout",
     "output_type": "stream",
     "text": [
      "('lines',)\n",
      "unknown key: lines\n"
     ]
    }
   ],
   "source": [
    "d = dict(tokens=20, types=12)\n",
    "try:\n",
    "    print(d[\"lines\"])\n",
    "except KeyError as e:\n",
    "    # dict raises a key error if key does not exist.\n",
    "    print(e.args)\n",
    "    print(f\"unknown key: {e.args[0]}\")"
   ]
  },
  {
   "cell_type": "markdown",
   "id": "97aaf954",
   "metadata": {
    "slideshow": {
     "slide_type": "subslide"
    }
   },
   "source": [
    "Some exceptions have more information:"
   ]
  },
  {
   "cell_type": "code",
   "execution_count": 39,
   "id": "7a19bf70",
   "metadata": {},
   "outputs": [
    {
     "name": "stdout",
     "output_type": "stream",
     "text": [
      "('ascii', 'Računalnik', 2, 3, 'ordinal not in range(128)')\n"
     ]
    }
   ],
   "source": [
    "try:\n",
    "    'Računalnik'.encode('ascii')\n",
    "except UnicodeEncodeError as e:\n",
    "    print(e.args)"
   ]
  },
  {
   "cell_type": "markdown",
   "id": "43e11eed",
   "metadata": {
    "slideshow": {
     "slide_type": "subslide"
    }
   },
   "source": [
    "## Passing Exceptions On\n",
    "\n",
    "### Create an exception"
   ]
  },
  {
   "cell_type": "code",
   "execution_count": 40,
   "id": "92c5f4ac",
   "metadata": {},
   "outputs": [
    {
     "ename": "TypeError",
     "evalue": "expected str, got <class 'int'>",
     "output_type": "error",
     "traceback": [
      "\u001b[0;31m---------------------------------------------------------------------------\u001b[0m",
      "\u001b[0;31mTypeError\u001b[0m                                 Traceback (most recent call last)",
      "Cell \u001b[0;32mIn[40], line 4\u001b[0m\n\u001b[1;32m      1\u001b[0m token \u001b[38;5;241m=\u001b[39m \u001b[38;5;241m123\u001b[39m\n\u001b[1;32m      3\u001b[0m \u001b[38;5;28;01mif\u001b[39;00m \u001b[38;5;129;01mnot\u001b[39;00m \u001b[38;5;28misinstance\u001b[39m(token, \u001b[38;5;28mstr\u001b[39m):\n\u001b[0;32m----> 4\u001b[0m     \u001b[38;5;28;01mraise\u001b[39;00m \u001b[38;5;167;01mTypeError\u001b[39;00m(\u001b[38;5;124m'\u001b[39m\u001b[38;5;124mexpected str, got \u001b[39m\u001b[38;5;132;01m{}\u001b[39;00m\u001b[38;5;124m'\u001b[39m\u001b[38;5;241m.\u001b[39mformat(\u001b[38;5;28mtype\u001b[39m(token)))\n",
      "\u001b[0;31mTypeError\u001b[0m: expected str, got <class 'int'>"
     ]
    }
   ],
   "source": [
    "token = 123\n",
    "\n",
    "if not isinstance(token, str):\n",
    "    raise TypeError('expected str, got {}'.format(type(token)))"
   ]
  },
  {
   "cell_type": "markdown",
   "id": "7c1c9eba",
   "metadata": {
    "slideshow": {
     "slide_type": "subslide"
    }
   },
   "source": [
    "### Changing the error type"
   ]
  },
  {
   "cell_type": "code",
   "execution_count": 41,
   "id": "61a2bf6b",
   "metadata": {},
   "outputs": [],
   "source": [
    "def average(seq): \n",
    "    try:\n",
    "        return sum(seq) / len(seq)\n",
    "    except ZeroDivisionError:\n",
    "        raise ValueError('sequence must not be empty')"
   ]
  },
  {
   "cell_type": "code",
   "execution_count": 43,
   "id": "6b9820ec",
   "metadata": {
    "scrolled": true
   },
   "outputs": [
    {
     "ename": "ValueError",
     "evalue": "sequence must not be empty",
     "output_type": "error",
     "traceback": [
      "\u001b[0;31m---------------------------------------------------------------------------\u001b[0m",
      "\u001b[0;31mZeroDivisionError\u001b[0m                         Traceback (most recent call last)",
      "Cell \u001b[0;32mIn[41], line 3\u001b[0m, in \u001b[0;36maverage\u001b[0;34m(seq)\u001b[0m\n\u001b[1;32m      2\u001b[0m \u001b[38;5;28;01mtry\u001b[39;00m:\n\u001b[0;32m----> 3\u001b[0m     \u001b[38;5;28;01mreturn\u001b[39;00m \u001b[38;5;28;43msum\u001b[39;49m\u001b[43m(\u001b[49m\u001b[43mseq\u001b[49m\u001b[43m)\u001b[49m\u001b[43m \u001b[49m\u001b[38;5;241;43m/\u001b[39;49m\u001b[43m \u001b[49m\u001b[38;5;28;43mlen\u001b[39;49m\u001b[43m(\u001b[49m\u001b[43mseq\u001b[49m\u001b[43m)\u001b[49m\n\u001b[1;32m      4\u001b[0m \u001b[38;5;28;01mexcept\u001b[39;00m \u001b[38;5;167;01mZeroDivisionError\u001b[39;00m:\n",
      "\u001b[0;31mZeroDivisionError\u001b[0m: division by zero",
      "\nDuring handling of the above exception, another exception occurred:\n",
      "\u001b[0;31mValueError\u001b[0m                                Traceback (most recent call last)",
      "Cell \u001b[0;32mIn[43], line 1\u001b[0m\n\u001b[0;32m----> 1\u001b[0m \u001b[43maverage\u001b[49m\u001b[43m(\u001b[49m\u001b[43m[\u001b[49m\u001b[43m]\u001b[49m\u001b[43m)\u001b[49m\n",
      "Cell \u001b[0;32mIn[41], line 5\u001b[0m, in \u001b[0;36maverage\u001b[0;34m(seq)\u001b[0m\n\u001b[1;32m      3\u001b[0m     \u001b[38;5;28;01mreturn\u001b[39;00m \u001b[38;5;28msum\u001b[39m(seq) \u001b[38;5;241m/\u001b[39m \u001b[38;5;28mlen\u001b[39m(seq)\n\u001b[1;32m      4\u001b[0m \u001b[38;5;28;01mexcept\u001b[39;00m \u001b[38;5;167;01mZeroDivisionError\u001b[39;00m:\n\u001b[0;32m----> 5\u001b[0m     \u001b[38;5;28;01mraise\u001b[39;00m \u001b[38;5;167;01mValueError\u001b[39;00m(\u001b[38;5;124m'\u001b[39m\u001b[38;5;124msequence must not be empty\u001b[39m\u001b[38;5;124m'\u001b[39m)\n",
      "\u001b[0;31mValueError\u001b[0m: sequence must not be empty"
     ]
    }
   ],
   "source": [
    "average([])"
   ]
  },
  {
   "cell_type": "markdown",
   "id": "598f398e",
   "metadata": {
    "slideshow": {
     "slide_type": "subslide"
    }
   },
   "source": [
    "### Defining your own exception classes\n",
    "\n",
    "- Use built‐in classes where they make sense (e.g. `ValueError, TypeError, KeyError`)\n",
    "- If needed, write own exceptions\n",
    "```python\n",
    "class InvalidFormatError(Exception):\n",
    "       '''Input data does not conform to the CoNLL format.'''\n",
    "```\n",
    "Important: Exceptions should always inherit from `Exception` (or one of its subclass)!"
   ]
  },
  {
   "cell_type": "markdown",
   "id": "10810bc0",
   "metadata": {
    "slideshow": {
     "slide_type": "subslide"
    }
   },
   "source": [
    "- Exceptions with arguments:"
   ]
  },
  {
   "cell_type": "code",
   "execution_count": 44,
   "id": "d842af20",
   "metadata": {},
   "outputs": [],
   "source": [
    "class InvalidFormatError(Exception):\n",
    "     '''Input data does not conform to the CoNLL format.'''\n",
    "\n",
    "def foo(fields):\n",
    "    if len(fields) < 3:\n",
    "        msg = f'too few columns: expected 3, got {len(fields)}'\n",
    "        raise InvalidFormatError(msg)"
   ]
  },
  {
   "cell_type": "code",
   "execution_count": 45,
   "id": "994a6118",
   "metadata": {},
   "outputs": [
    {
     "ename": "InvalidFormatError",
     "evalue": "too few columns: expected 3, got 2",
     "output_type": "error",
     "traceback": [
      "\u001b[0;31m---------------------------------------------------------------------------\u001b[0m",
      "\u001b[0;31mInvalidFormatError\u001b[0m                        Traceback (most recent call last)",
      "Cell \u001b[0;32mIn[45], line 1\u001b[0m\n\u001b[0;32m----> 1\u001b[0m \u001b[43mfoo\u001b[49m\u001b[43m(\u001b[49m\u001b[43m[\u001b[49m\u001b[38;5;124;43m'\u001b[39;49m\u001b[38;5;124;43mcol1\u001b[39;49m\u001b[38;5;124;43m'\u001b[39;49m\u001b[43m,\u001b[49m\u001b[43m \u001b[49m\u001b[38;5;124;43m'\u001b[39;49m\u001b[38;5;124;43mcol2\u001b[39;49m\u001b[38;5;124;43m'\u001b[39;49m\u001b[43m]\u001b[49m\u001b[43m)\u001b[49m\n",
      "Cell \u001b[0;32mIn[44], line 7\u001b[0m, in \u001b[0;36mfoo\u001b[0;34m(fields)\u001b[0m\n\u001b[1;32m      5\u001b[0m \u001b[38;5;28;01mif\u001b[39;00m \u001b[38;5;28mlen\u001b[39m(fields) \u001b[38;5;241m<\u001b[39m \u001b[38;5;241m3\u001b[39m:\n\u001b[1;32m      6\u001b[0m     msg \u001b[38;5;241m=\u001b[39m \u001b[38;5;124mf\u001b[39m\u001b[38;5;124m'\u001b[39m\u001b[38;5;124mtoo few columns: expected 3, got \u001b[39m\u001b[38;5;132;01m{\u001b[39;00m\u001b[38;5;28mlen\u001b[39m(fields)\u001b[38;5;132;01m}\u001b[39;00m\u001b[38;5;124m'\u001b[39m\n\u001b[0;32m----> 7\u001b[0m     \u001b[38;5;28;01mraise\u001b[39;00m InvalidFormatError(msg)\n",
      "\u001b[0;31mInvalidFormatError\u001b[0m: too few columns: expected 3, got 2"
     ]
    }
   ],
   "source": [
    "foo(['col1', 'col2'])"
   ]
  },
  {
   "cell_type": "markdown",
   "id": "4972a34b",
   "metadata": {
    "slideshow": {
     "slide_type": "subslide"
    }
   },
   "source": [
    "## Bad Habits"
   ]
  },
  {
   "cell_type": "markdown",
   "id": "98a316c4",
   "metadata": {},
   "source": [
    "```python\n",
    "try:\n",
    "    [many\n",
    "    lines\n",
    "    of\n",
    "    code]\n",
    "except:\n",
    "    ...\n",
    "```"
   ]
  },
  {
   "cell_type": "markdown",
   "id": "f610d3f4",
   "metadata": {
    "slideshow": {
     "slide_type": "fragment"
    }
   },
   "source": [
    "`try` blocks should be short"
   ]
  },
  {
   "cell_type": "markdown",
   "id": "376ea618",
   "metadata": {
    "slideshow": {
     "slide_type": "subslide"
    }
   },
   "source": [
    "```python\n",
    "try:\n",
    "    # do something\n",
    "except:\n",
    "    pass\n",
    "```"
   ]
  },
  {
   "cell_type": "markdown",
   "id": "0ca169b5",
   "metadata": {
    "slideshow": {
     "slide_type": "fragment"
    }
   },
   "source": [
    "`except` without a type catches everything (including e.g. `KeyboardInterrupt`)"
   ]
  },
  {
   "cell_type": "markdown",
   "id": "9670d40d",
   "metadata": {
    "slideshow": {
     "slide_type": "subslide"
    }
   },
   "source": [
    "```python\n",
    "try:\n",
    "    # do something\n",
    "except Exception as e:\n",
    "    print(e)\n",
    "```"
   ]
  },
  {
   "cell_type": "markdown",
   "id": "ed5f9425",
   "metadata": {
    "slideshow": {
     "slide_type": "fragment"
    }
   },
   "source": [
    "Handle errors or pass them on with `raise`, but do not just continue"
   ]
  },
  {
   "cell_type": "markdown",
   "id": "ab17d23f",
   "metadata": {
    "slideshow": {
     "slide_type": "subslide"
    }
   },
   "source": [
    "### Klicker Quiz\n",
    "\n",
    "https://pwa.klicker.uzh.ch/join/lfische\n",
    "\n",
    "<img src=\"klicker.png\" style=\"height: 300px;\"></img>"
   ]
  },
  {
   "cell_type": "markdown",
   "id": "e101e58d",
   "metadata": {
    "slideshow": {
     "slide_type": "slide"
    }
   },
   "source": [
    "# Argument Packing"
   ]
  },
  {
   "cell_type": "markdown",
   "id": "41571c9f",
   "metadata": {
    "slideshow": {
     "slide_type": "subslide"
    }
   },
   "source": [
    "## Variable number of arguments"
   ]
  },
  {
   "cell_type": "code",
   "execution_count": 46,
   "id": "73268ef3",
   "metadata": {},
   "outputs": [
    {
     "data": {
      "text/plain": [
       "'3'"
      ]
     },
     "execution_count": 46,
     "metadata": {},
     "output_type": "execute_result"
    }
   ],
   "source": [
    "max('123')"
   ]
  },
  {
   "cell_type": "code",
   "execution_count": 47,
   "id": "b3f57199",
   "metadata": {},
   "outputs": [
    {
     "data": {
      "text/plain": [
       "'456'"
      ]
     },
     "execution_count": 47,
     "metadata": {},
     "output_type": "execute_result"
    }
   ],
   "source": [
    "max('123', '456')"
   ]
  },
  {
   "cell_type": "markdown",
   "id": "6b6d5c1c",
   "metadata": {
    "slideshow": {
     "slide_type": "fragment"
    }
   },
   "source": [
    "How can we write such a function?"
   ]
  },
  {
   "cell_type": "code",
   "execution_count": 51,
   "id": "def0959e",
   "metadata": {
    "slideshow": {
     "slide_type": "subslide"
    }
   },
   "outputs": [],
   "source": [
    "from typing import Iterable, Any\n",
    "def find_largest(sequence: Iterable) -> Any:\n",
    "    \"find the largest element in a sequence\"\n",
    "    largest = sequence[0]\n",
    "    for element in sequence[1:]:\n",
    "        if element > largest:\n",
    "            largest = element\n",
    "    return largest"
   ]
  },
  {
   "cell_type": "code",
   "execution_count": 48,
   "id": "f97fd1e0",
   "metadata": {
    "slideshow": {
     "slide_type": "subslide"
    }
   },
   "outputs": [],
   "source": [
    "def custom_max(*args):\n",
    "    # store all arguments as a tuple in variable args\n",
    "    if len(args) == 0:\n",
    "        raise TypeError(\"max expects at least one argument\")\n",
    "    if len(args) == 1:\n",
    "        return find_largest(args[0])\n",
    "    else:\n",
    "        return find_largest(args)"
   ]
  },
  {
   "cell_type": "code",
   "execution_count": 53,
   "id": "c0dc4290",
   "metadata": {
    "slideshow": {
     "slide_type": "fragment"
    }
   },
   "outputs": [
    {
     "data": {
      "text/plain": [
       "'4634'"
      ]
     },
     "execution_count": 53,
     "metadata": {},
     "output_type": "execute_result"
    }
   ],
   "source": [
    "custom_max('123', '4634', '2343')"
   ]
  },
  {
   "cell_type": "markdown",
   "id": "db18845c",
   "metadata": {
    "slideshow": {
     "slide_type": "subslide"
    }
   },
   "source": [
    "## Positional and Keyword Arguments"
   ]
  },
  {
   "cell_type": "markdown",
   "id": "93ef2e1e",
   "metadata": {
    "slideshow": {
     "slide_type": "-"
    }
   },
   "source": [
    "### Positional\n",
    "*args $\\rightarrow$ `tuple`"
   ]
  },
  {
   "cell_type": "code",
   "execution_count": 55,
   "id": "4a9b2257",
   "metadata": {},
   "outputs": [
    {
     "name": "stdout",
     "output_type": "stream",
     "text": [
      "(1, 2, 'three', (1, 2))\n"
     ]
    }
   ],
   "source": [
    "def func(*args):\n",
    "    print(args)\n",
    "    \n",
    "func(1, 2, \"three\", (1,2))"
   ]
  },
  {
   "cell_type": "markdown",
   "id": "9bb2febb",
   "metadata": {
    "slideshow": {
     "slide_type": "subslide"
    }
   },
   "source": [
    "Unpack any iterable with `*` into function arguments:"
   ]
  },
  {
   "cell_type": "code",
   "execution_count": 56,
   "id": "36c8643a",
   "metadata": {
    "slideshow": {
     "slide_type": "-"
    }
   },
   "outputs": [
    {
     "name": "stdout",
     "output_type": "stream",
     "text": [
      "('H', 'e', 'l', 'l', 'o')\n"
     ]
    }
   ],
   "source": [
    "params = \"Hello\"\n",
    "func(*params)"
   ]
  },
  {
   "cell_type": "markdown",
   "id": "8f25058d",
   "metadata": {
    "slideshow": {
     "slide_type": "subslide"
    }
   },
   "source": [
    "### Keyword arguments\n",
    "**kwargs → `dict`"
   ]
  },
  {
   "cell_type": "code",
   "execution_count": 57,
   "id": "400bf951",
   "metadata": {},
   "outputs": [
    {
     "name": "stdout",
     "output_type": "stream",
     "text": [
      "{'a': 1, 'b': 'B'}\n"
     ]
    }
   ],
   "source": [
    "def func(**kwargs):\n",
    "    print(kwargs)\n",
    "\n",
    "func(a=1, b='B')"
   ]
  },
  {
   "cell_type": "markdown",
   "id": "4af05689",
   "metadata": {
    "slideshow": {
     "slide_type": "subslide"
    }
   },
   "source": [
    "Unpack dictionaries with `**` into function arguments:"
   ]
  },
  {
   "cell_type": "code",
   "execution_count": 58,
   "id": "1c4dafab",
   "metadata": {},
   "outputs": [
    {
     "name": "stdout",
     "output_type": "stream",
     "text": [
      "{'city': 'Zürich', 'postal_code': 8050}\n"
     ]
    }
   ],
   "source": [
    "d = dict(city=\"Zürich\", postal_code=8050)\n",
    "func(**d)"
   ]
  },
  {
   "cell_type": "markdown",
   "id": "7574e909",
   "metadata": {
    "slideshow": {
     "slide_type": "subslide"
    }
   },
   "source": [
    "### Mixed Arguments\n",
    "\n"
   ]
  },
  {
   "cell_type": "code",
   "execution_count": 59,
   "id": "15961ae1",
   "metadata": {},
   "outputs": [],
   "source": [
    "def func(a, b, *args, x=3, y=5, **kwargs):\n",
    "    print(f'a: {a}, b: {b}, args: {args}, x: {x}, y: {y}, kwargs: {kwargs}')"
   ]
  },
  {
   "cell_type": "code",
   "execution_count": 63,
   "id": "e0c39c19",
   "metadata": {
    "scrolled": true
   },
   "outputs": [
    {
     "ename": "TypeError",
     "evalue": "func() got multiple values for argument 'a'",
     "output_type": "error",
     "traceback": [
      "\u001b[0;31m---------------------------------------------------------------------------\u001b[0m",
      "\u001b[0;31mTypeError\u001b[0m                                 Traceback (most recent call last)",
      "Cell \u001b[0;32mIn[63], line 1\u001b[0m\n\u001b[0;32m----> 1\u001b[0m \u001b[43mfunc\u001b[49m\u001b[43m(\u001b[49m\u001b[38;5;241;43m0\u001b[39;49m\u001b[43m,\u001b[49m\u001b[43m \u001b[49m\u001b[43mx\u001b[49m\u001b[38;5;241;43m=\u001b[39;49m\u001b[38;5;241;43m1\u001b[39;49m\u001b[43m,\u001b[49m\u001b[43m \u001b[49m\u001b[43ma\u001b[49m\u001b[38;5;241;43m=\u001b[39;49m\u001b[38;5;241;43m2\u001b[39;49m\u001b[43m)\u001b[49m\n",
      "\u001b[0;31mTypeError\u001b[0m: func() got multiple values for argument 'a'"
     ]
    }
   ],
   "source": [
    "func(0, x=1, a=2)"
   ]
  },
  {
   "cell_type": "code",
   "execution_count": null,
   "id": "01d223f3",
   "metadata": {
    "slideshow": {
     "slide_type": "skip"
    }
   },
   "outputs": [],
   "source": [
    "func(0, x=1, b=2)"
   ]
  },
  {
   "cell_type": "code",
   "execution_count": null,
   "id": "7c6b8ecc",
   "metadata": {
    "slideshow": {
     "slide_type": "skip"
    }
   },
   "outputs": [],
   "source": [
    "func(0, x=1, y=2)"
   ]
  },
  {
   "cell_type": "code",
   "execution_count": null,
   "id": "b5011775",
   "metadata": {
    "scrolled": true,
    "slideshow": {
     "slide_type": "skip"
    }
   },
   "outputs": [],
   "source": [
    "func(0, x=1, a=2)"
   ]
  },
  {
   "cell_type": "code",
   "execution_count": 71,
   "id": "5363d0d4",
   "metadata": {
    "slideshow": {
     "slide_type": "fragment"
    }
   },
   "outputs": [
    {
     "name": "stdout",
     "output_type": "stream",
     "text": [
      "a: a, b: b, args: (), x: c, y: 5, kwargs: {}\n"
     ]
    }
   ],
   "source": [
    "params = {'a': 0, 'b': 1, 'c': 2}\n",
    "func(*params)"
   ]
  },
  {
   "cell_type": "markdown",
   "id": "31a40016",
   "metadata": {
    "slideshow": {
     "slide_type": "subslide"
    }
   },
   "source": [
    "Alternative order:"
   ]
  },
  {
   "cell_type": "code",
   "execution_count": 65,
   "id": "a2667226",
   "metadata": {},
   "outputs": [],
   "source": [
    "def func(a, b, x=3, y=5, *args, **kwargs):\n",
    "    print(f'a: {a}, b: {b}, args: {args}, x: {x}, y: {y}, kwargs: {kwargs}')"
   ]
  },
  {
   "cell_type": "code",
   "execution_count": 66,
   "id": "3a07a2c3",
   "metadata": {
    "slideshow": {
     "slide_type": "-"
    }
   },
   "outputs": [
    {
     "name": "stdout",
     "output_type": "stream",
     "text": [
      "a: 0, b: 1, args: (), x: 2, y: 7, kwargs: {'c': 3}\n"
     ]
    }
   ],
   "source": [
    "func(0, 1, 2, c=3, y=7)"
   ]
  },
  {
   "cell_type": "markdown",
   "id": "18aa4bc8",
   "metadata": {
    "slideshow": {
     "slide_type": "subslide"
    }
   },
   "source": [
    "### Exercise: Practice Function Calls With Argument Packing\n",
    "```python\n",
    "def func(a, b, x=3, y=5, *args, **kwargs):\n",
    "    ...\n",
    "```\n",
    "\n",
    "Try these function calls. Do they work?\n",
    "\n",
    "```python\n",
    "params = [0, 1]\n",
    "func(*params)\n",
    "```\n",
    "\n",
    "```python\n",
    "params = (3, 2)\n",
    "func(*params, y=1, b=2)\n",
    "```\n",
    "\n",
    "```python\n",
    "params = {'a': 0, 'b': 3, 'c': 2}\n",
    "func(*params, y=1)\n",
    "```"
   ]
  },
  {
   "cell_type": "code",
   "execution_count": 67,
   "id": "13cf93f2",
   "metadata": {
    "slideshow": {
     "slide_type": "subslide"
    }
   },
   "outputs": [
    {
     "name": "stdout",
     "output_type": "stream",
     "text": [
      "a: 0, b: 1, args: (), x: 3, y: 5, kwargs: {}\n"
     ]
    }
   ],
   "source": [
    "params = [0, 1]\n",
    "func(*params)"
   ]
  },
  {
   "cell_type": "code",
   "execution_count": 68,
   "id": "ec5a5308",
   "metadata": {},
   "outputs": [
    {
     "ename": "TypeError",
     "evalue": "func() got multiple values for argument 'b'",
     "output_type": "error",
     "traceback": [
      "\u001b[0;31m---------------------------------------------------------------------------\u001b[0m",
      "\u001b[0;31mTypeError\u001b[0m                                 Traceback (most recent call last)",
      "Cell \u001b[0;32mIn[68], line 2\u001b[0m\n\u001b[1;32m      1\u001b[0m params \u001b[38;5;241m=\u001b[39m (\u001b[38;5;241m3\u001b[39m, \u001b[38;5;241m2\u001b[39m)\n\u001b[0;32m----> 2\u001b[0m \u001b[43mfunc\u001b[49m\u001b[43m(\u001b[49m\u001b[38;5;241;43m*\u001b[39;49m\u001b[43mparams\u001b[49m\u001b[43m,\u001b[49m\u001b[43m \u001b[49m\u001b[43my\u001b[49m\u001b[38;5;241;43m=\u001b[39;49m\u001b[38;5;241;43m1\u001b[39;49m\u001b[43m,\u001b[49m\u001b[43m \u001b[49m\u001b[43mb\u001b[49m\u001b[38;5;241;43m=\u001b[39;49m\u001b[38;5;241;43m2\u001b[39;49m\u001b[43m)\u001b[49m\n",
      "\u001b[0;31mTypeError\u001b[0m: func() got multiple values for argument 'b'"
     ]
    }
   ],
   "source": [
    "params = (3, 2)\n",
    "func(*params, y=1, b=2)"
   ]
  },
  {
   "cell_type": "code",
   "execution_count": 70,
   "id": "f7e5f7e1",
   "metadata": {},
   "outputs": [
    {
     "name": "stdout",
     "output_type": "stream",
     "text": [
      "a: 0, b: 3, args: (), x: 3, y: 1, kwargs: {'c': 2}\n"
     ]
    }
   ],
   "source": [
    "params = {'a': 0, 'b': 3, 'c': 2}\n",
    "func(**params, y=1)"
   ]
  },
  {
   "cell_type": "markdown",
   "id": "533126b3",
   "metadata": {
    "slideshow": {
     "slide_type": "slide"
    }
   },
   "source": [
    "# `argparse`"
   ]
  },
  {
   "cell_type": "markdown",
   "id": "4dbf7550",
   "metadata": {
    "slideshow": {
     "slide_type": "subslide"
    }
   },
   "source": [
    "## Motivation\n",
    "\n",
    "A command line interface (CLI) provides a way for a user to interact with a program running in a text‐based shell interpreter."
   ]
  },
  {
   "cell_type": "markdown",
   "id": "cece4bdb",
   "metadata": {
    "slideshow": {
     "slide_type": "subslide"
    }
   },
   "source": [
    "```python\n",
    "import sys\n",
    "if __name__ == \"__main__\":\n",
    "    for i, arg in enumerate(sys.argv):\n",
    "        print(f\"Argument {i}: {arg}\")\n",
    "```\n",
    "---\n",
    "```shell\n",
    "$ python main.py arg1 arg2 arg3 arg4\n",
    "```"
   ]
  },
  {
   "cell_type": "markdown",
   "id": "975465a8",
   "metadata": {},
   "source": [
    "With `sys`, you need to remember how many / what arguments your program takes and which argument should be provided at what position."
   ]
  },
  {
   "cell_type": "markdown",
   "id": "f3c5cf2b",
   "metadata": {
    "slideshow": {
     "slide_type": "subslide"
    }
   },
   "source": [
    "### The Module `argparse` ..."
   ]
  },
  {
   "cell_type": "markdown",
   "id": "0b53163b",
   "metadata": {},
   "source": [
    "- automatically generates help messages\n",
    "- provides detailed information about what each argument should be \n",
    "- greatly increases user experience"
   ]
  },
  {
   "cell_type": "markdown",
   "id": "8c915d60",
   "metadata": {
    "slideshow": {
     "slide_type": "subslide"
    }
   },
   "source": [
    "Important calls:\n",
    "\n",
    "```python\n",
    "parser = ArgumentParser() # Creates a parser object\n",
    "\n",
    "parser.add_argument() # Defines how an argument should be parsed\n",
    "\n",
    "parser.parse_args() # Parses arguments from command line with correct type\n",
    "```"
   ]
  },
  {
   "cell_type": "markdown",
   "id": "04370c76",
   "metadata": {
    "slideshow": {
     "slide_type": "subslide"
    }
   },
   "source": [
    "## `argparse` Arguments\n"
   ]
  },
  {
   "cell_type": "markdown",
   "id": "a153ca61",
   "metadata": {},
   "source": [
    "### Optional Arguments\n",
    "```python\n",
    "parser.add_argument('-n', '--number', type=int, help=\"a number\")\n",
    "```"
   ]
  },
  {
   "cell_type": "markdown",
   "id": "0da49e79",
   "metadata": {
    "slideshow": {
     "slide_type": "fragment"
    }
   },
   "source": [
    "### Required Arguments\n",
    "```python\n",
    "parser.add_argument('-n', '--number', type=int, help=\"a number\", required=True)\n",
    "```"
   ]
  },
  {
   "cell_type": "markdown",
   "id": "109e1835",
   "metadata": {
    "slideshow": {
     "slide_type": "subslide"
    }
   },
   "source": [
    "### Positional Arguments\n",
    "```python\n",
    "parser.add_argument('n1', type=int, help=\"first number\")\n",
    "parser.add_argument('n2', type=int, help=\"second number\")\n",
    "```"
   ]
  },
  {
   "cell_type": "markdown",
   "id": "6e8a67c0",
   "metadata": {
    "slideshow": {
     "slide_type": "fragment"
    }
   },
   "source": [
    "### Choice Arguments\n",
    "```python\n",
    "parser.add_argument('n', type=int, choices=[0, 1, 2], help=\"either 0, 1 or 2\")\n",
    "```"
   ]
  },
  {
   "cell_type": "markdown",
   "id": "781b6e20",
   "metadata": {
    "slideshow": {
     "slide_type": "subslide"
    }
   },
   "source": [
    "### Default Arguments\n",
    "```python\n",
    "parser.add_argument('-n', '--number', type=int, default=0, help=\"a number\")\n",
    "```"
   ]
  },
  {
   "cell_type": "markdown",
   "id": "a56d1c5d",
   "metadata": {},
   "source": [
    "### Append Action\n",
    "```python\n",
    "# Appends all values with '-n' to a list\n",
    "parser.add_argument('-n', type=int, action='append', help=\"a list of numbers\")\n",
    "```\n",
    "---\n",
    "```shell\n",
    "$ python test.py -n 1 -n 2 -n 3\n",
    "```"
   ]
  },
  {
   "cell_type": "markdown",
   "id": "8d990023",
   "metadata": {
    "slideshow": {
     "slide_type": "subslide"
    }
   },
   "source": [
    "### Multiple Arguments\n",
    "```python\n",
    "# Similar behaviour as append action, given as -n1 1 2 3\n",
    "parser.add_argument('n1', type=int, nargs='3', help=\"a list of three numbers\")\n",
    "parser.add_argument('n2', type=int, nargs='+', help=\"a list of 1 ... n numbers\")\n",
    "parser.add_argument('n3', type=int, nargs='*', help=\"a list of 0 ... n numbers\")\n",
    "```\n",
    "---\n",
    "```shell\n",
    "$ python test.py -n1 1 2 3 -n2 4 5 6 7 8\n",
    "```"
   ]
  },
  {
   "cell_type": "markdown",
   "id": "898cb26e",
   "metadata": {
    "slideshow": {
     "slide_type": "subslide"
    }
   },
   "source": [
    "## `argparse` Demo"
   ]
  },
  {
   "cell_type": "markdown",
   "id": "3b325b57",
   "metadata": {
    "slideshow": {
     "slide_type": "slide"
    }
   },
   "source": [
    "## Take-home messages\n",
    "\n",
    "- Binding an existing object to a new variable name does not copy the object.\n",
    "- Python namespaces (global, local, builtin) store variables and objects.\n",
    "- `try/except` blocks are used to handle exceptions, and `raise` is used to throw exceptions.\n",
    "- The `*` and `**` operators are used to (un)pack function arguments.\n",
    "- Use `argparse` to write command line interfaces (CLIs)."
   ]
  }
 ],
 "metadata": {
  "celltoolbar": "Slideshow",
  "kernelspec": {
   "display_name": "Python 3 (ipykernel)",
   "language": "python",
   "name": "python3"
  },
  "language_info": {
   "codemirror_mode": {
    "name": "ipython",
    "version": 3
   },
   "file_extension": ".py",
   "mimetype": "text/x-python",
   "name": "python",
   "nbconvert_exporter": "python",
   "pygments_lexer": "ipython3",
   "version": "3.10.10"
  }
 },
 "nbformat": 4,
 "nbformat_minor": 5
}
