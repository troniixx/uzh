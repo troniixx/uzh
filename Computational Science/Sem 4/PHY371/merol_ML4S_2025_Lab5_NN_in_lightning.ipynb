{
 "cells": [
  {
   "cell_type": "markdown",
   "metadata": {},
   "source": [
    "# Deep Learning with Lightning\n",
    "\n",
    "This lab is design for investigating the basic architecture and parameter searching techniques in deep learning literature. We use a fundamental dataset, MNIST, with the help of PyTorch Lightning and design our model to handle image classification task.\n",
    "\n",
    "#### Instructions\n",
    "\n",
    "* You can achieve up to **20 points** for this graded notebook. The points for each task are clearly declared in the task descriptions. Fill in the missing code fragments and answer questions whenever you see this symbol: &#x1F536;. Please do not change any of the provided code. Notice that one symbol &#x1F536; does NOT mean one-line code: sometimes it can require several code of lines.\n",
    "\n",
    "* Team work is not allowed! Everybody implements his/her own code. Discussing issues with others is fine, sharing code with others is not. \n",
    "\n",
    "* If you use any code fragments found on the internet, make sure you reference them properly.\n",
    "\n",
    "* The responsible TA for this lab are **Yuchang** and **Sara**, if you have further questions please reach out to them directly: **yuchang.jiang@uzh.ch** and **sara.zoccheddu@uzh.ch**.\n",
    "\n",
    "* Since the lab sessions are specifically designed to answer your questions please make sure to attend those and only reach out if further questions pop up later.\n",
    "\n",
    "* Hand in your solution via OLAT until <span style=\"color:#4ea373\">**15.05.2025**</span>. Make sure that all cells are execute as we will not rerun any code. Any cell that is not executed will automatically result in 0 points for this task. \n",
    "</div>\n",
    "\n",
    "#### Suggestions\n",
    "\n",
    "Please install pytorch lightning packages via conda or pip before starting the lab session. You can use the tutorials of [Pytorch Lightning](https://lightning.ai/docs/pytorch/stable/notebooks/lightning_examples/mnist-hello-world.html).\n",
    "\n",
    "Please also check: [Tensorboard](https://pytorch.org/tutorials/recipes/recipes/tensorboard_with_pytorch.html)\n",
    "\n",
    "For installing lightning: [Link](https://lightning.ai/pytorch-lightning)\n",
    "\n",
    "Please keep in mind that this is a valuable opportunity to develop self-learning skills. When working with a new package like PyTorch Lightning, always refer to the official documentation or search for solutions online when encountering errors, rather than immediately asking a friend or TA. This habit will greatly enhance your ability to troubleshoot and learn independently."
   ]
  },
  {
   "cell_type": "markdown",
   "metadata": {},
   "source": [
    "#### Task Overview\n",
    "\n",
    "------------------------------------------------------------------------------------------\n",
    "\n",
    "1. **Datasets** <span style=\"color:#4ea373\">**[3pt]**</span>\n",
    "2. **NN Architectures** <span style=\"color:#4ea373\">**[5pt]**</span>\n",
    "2. **Experiments** <span style=\"color:#4ea373\">**[5pt]**</span>\n",
    "2. **Results** <span style=\"color:#4ea373\">**[4pt]**</span>\n",
    "2. **Conclusions** <span style=\"color:#4ea373\">**[3pt]**</span>"
   ]
  },
  {
   "cell_type": "code",
   "execution_count": 26,
   "metadata": {
    "collapsed": true,
    "tags": []
   },
   "outputs": [
    {
     "name": "stderr",
     "output_type": "stream",
     "text": [
      "Seed set to 42\n"
     ]
    }
   ],
   "source": [
    "# Basic Machine Learning Modules\n",
    "import pandas\n",
    "import numpy\n",
    "import sklearn\n",
    "\n",
    "# Deep Learning Modules\n",
    "import torch\n",
    "import lightning.pytorch as pl\n",
    "\n",
    "# Visualization Modules\n",
    "import matplotlib.pyplot as plt\n",
    "\n",
    "# Others\n",
    "from torchvision.datasets import MNIST\n",
    "from torchvision import transforms\n",
    "from torchmetrics import Accuracy\n",
    "from lightning.pytorch.loggers import CSVLogger, TensorBoardLogger\n",
    "from lightning.pytorch.callbacks.early_stopping import EarlyStopping\n",
    "from lightning.pytorch.callbacks import TQDMProgressBar\n",
    "import warnings\n",
    "warnings.filterwarnings(\"ignore\")  # You can comment out this line while debuging, not in submission!\n",
    "\n",
    "numpy.random.seed(42)\n",
    "torch.set_float32_matmul_precision('medium')\n",
    "torch.manual_seed(42)\n",
    "pl.seed_everything(42, workers=True)\n",
    "\n",
    "DATASET_PATH = '/Users/merterol/Desktop/iMac27_github/uzh/Computational Science/Sem 4/PHY371/MNIST'  # You can change them\n",
    "EXPERIMENTS_PATH = '/Users/merterol/Desktop/iMac27_github/uzh/Computational Science/Sem 4/PHY371/MNIST_exp'  # You can change them"
   ]
  },
  {
   "cell_type": "markdown",
   "metadata": {},
   "source": [
    "# 1) Dataset (3 Points)"
   ]
  },
  {
   "cell_type": "markdown",
   "metadata": {},
   "source": [
    "- Design a DataModule for MNIST.\n",
    "- Use 80/20 % split for train/val sets."
   ]
  },
  {
   "cell_type": "code",
   "execution_count": 27,
   "metadata": {
    "collapsed": true
   },
   "outputs": [
    {
     "name": "stdout",
     "output_type": "stream",
     "text": [
      "[tensor([[[[-0.4242, -0.4242, -0.4242,  ..., -0.4242, -0.4242, -0.4242],\n",
      "          [-0.4242, -0.4242, -0.4242,  ..., -0.4242, -0.4242, -0.4242],\n",
      "          [-0.4242, -0.4242, -0.4242,  ..., -0.4242, -0.4242, -0.4242],\n",
      "          ...,\n",
      "          [-0.4242, -0.4242, -0.4242,  ..., -0.4242, -0.4242, -0.4242],\n",
      "          [-0.4242, -0.4242, -0.4242,  ..., -0.4242, -0.4242, -0.4242],\n",
      "          [-0.4242, -0.4242, -0.4242,  ..., -0.4242, -0.4242, -0.4242]]],\n",
      "\n",
      "\n",
      "        [[[-0.4242, -0.4242, -0.4242,  ..., -0.4242, -0.4242, -0.4242],\n",
      "          [-0.4242, -0.4242, -0.4242,  ..., -0.4242, -0.4242, -0.4242],\n",
      "          [-0.4242, -0.4242, -0.4242,  ..., -0.4242, -0.4242, -0.4242],\n",
      "          ...,\n",
      "          [-0.4242, -0.4242, -0.4242,  ..., -0.4242, -0.4242, -0.4242],\n",
      "          [-0.4242, -0.4242, -0.4242,  ..., -0.4242, -0.4242, -0.4242],\n",
      "          [-0.4242, -0.4242, -0.4242,  ..., -0.4242, -0.4242, -0.4242]]],\n",
      "\n",
      "\n",
      "        [[[-0.4242, -0.4242, -0.4242,  ..., -0.4242, -0.4242, -0.4242],\n",
      "          [-0.4242, -0.4242, -0.4242,  ..., -0.4242, -0.4242, -0.4242],\n",
      "          [-0.4242, -0.4242, -0.4242,  ..., -0.4242, -0.4242, -0.4242],\n",
      "          ...,\n",
      "          [-0.4242, -0.4242, -0.4242,  ..., -0.4242, -0.4242, -0.4242],\n",
      "          [-0.4242, -0.4242, -0.4242,  ..., -0.4242, -0.4242, -0.4242],\n",
      "          [-0.4242, -0.4242, -0.4242,  ..., -0.4242, -0.4242, -0.4242]]],\n",
      "\n",
      "\n",
      "        ...,\n",
      "\n",
      "\n",
      "        [[[-0.4242, -0.4242, -0.4242,  ..., -0.4242, -0.4242, -0.4242],\n",
      "          [-0.4242, -0.4242, -0.4242,  ..., -0.4242, -0.4242, -0.4242],\n",
      "          [-0.4242, -0.4242, -0.4242,  ..., -0.4242, -0.4242, -0.4242],\n",
      "          ...,\n",
      "          [-0.4242, -0.4242, -0.4242,  ..., -0.4242, -0.4242, -0.4242],\n",
      "          [-0.4242, -0.4242, -0.4242,  ..., -0.4242, -0.4242, -0.4242],\n",
      "          [-0.4242, -0.4242, -0.4242,  ..., -0.4242, -0.4242, -0.4242]]],\n",
      "\n",
      "\n",
      "        [[[-0.4242, -0.4242, -0.4242,  ..., -0.4242, -0.4242, -0.4242],\n",
      "          [-0.4242, -0.4242, -0.4242,  ..., -0.4242, -0.4242, -0.4242],\n",
      "          [-0.4242, -0.4242, -0.4242,  ..., -0.4242, -0.4242, -0.4242],\n",
      "          ...,\n",
      "          [-0.4242, -0.4242, -0.4242,  ..., -0.4242, -0.4242, -0.4242],\n",
      "          [-0.4242, -0.4242, -0.4242,  ..., -0.4242, -0.4242, -0.4242],\n",
      "          [-0.4242, -0.4242, -0.4242,  ..., -0.4242, -0.4242, -0.4242]]],\n",
      "\n",
      "\n",
      "        [[[-0.4242, -0.4242, -0.4242,  ..., -0.4242, -0.4242, -0.4242],\n",
      "          [-0.4242, -0.4242, -0.4242,  ..., -0.4242, -0.4242, -0.4242],\n",
      "          [-0.4242, -0.4242, -0.4242,  ..., -0.4242, -0.4242, -0.4242],\n",
      "          ...,\n",
      "          [-0.4242, -0.4242, -0.4242,  ..., -0.4242, -0.4242, -0.4242],\n",
      "          [-0.4242, -0.4242, -0.4242,  ..., -0.4242, -0.4242, -0.4242],\n",
      "          [-0.4242, -0.4242, -0.4242,  ..., -0.4242, -0.4242, -0.4242]]]]), tensor([5, 8, 4, 4, 4, 0, 3, 9, 1, 3, 6, 2, 1, 3, 5, 7, 4, 6, 0, 4, 8, 4, 0, 4,\n",
      "        3, 3, 4, 3, 2, 4, 2, 6, 0, 2, 8, 9, 9, 6, 8, 1, 3, 1, 8, 1, 3, 2, 9, 9,\n",
      "        5, 8, 3, 0, 5, 7, 1, 1, 5, 7, 5, 6, 1, 3, 1, 4])]\n"
     ]
    }
   ],
   "source": [
    "class MNISTDataModule(pl.LightningDataModule):\n",
    "    def __init__(self, data_folder: str = DATASET_PATH, batch_size: int = 64, num_cpu: int = 1):\n",
    "        super().__init__()\n",
    "        self.path = data_folder\n",
    "        self.batch_size = batch_size\n",
    "        self.num_cpu = num_cpu\n",
    "        self.transform = transforms.Compose([\n",
    "            transforms.ToTensor(), \n",
    "            transforms.Normalize((0.1307,), (0.3081,))\n",
    "        ])\n",
    "    \n",
    "    def prepare_data(self) -> None:\n",
    "        # 🔶 TODO: Download MNIST Data in self.path\n",
    "        MNIST(root = self.path, train=True, download=True)\n",
    "        MNIST(root = self.path, train=False, download=True)\n",
    "\n",
    "    \n",
    "    def setup(self, stage: str = 'fit') -> None:\n",
    "        # 🔶 TODO: Insert your code \n",
    "        # HINT: how to split the whole dataset into train, val sets? \n",
    "        # and how should those sets be used in different stages?\n",
    "        \n",
    "        if stage in ['fit', 'tune']:\n",
    "            full_train = MNIST(root=self.path, train=True, transform=self.transform)\n",
    "            train_size = int(0.8 * len(full_train))\n",
    "            val_size = len(full_train) - train_size\n",
    "            self.train_dataset, self.val_dataset = torch.utils.data.random_split(full_train, [train_size, val_size])\n",
    "        \n",
    "        if stage in ['fit', 'tune', 'validate']:\n",
    "            if not hasattr(self, 'val_dataset'):\n",
    "                full_train = MNIST(root=self.path, train=True, transform=self.transform)\n",
    "                train_size = int(0.8 * len(full_train))\n",
    "                val_size = len(full_train) - train_size\n",
    "                _, self.val_dataset = torch.utils.data.random_split(full_train, [train_size, val_size])\n",
    "        \n",
    "        elif stage in ['test', 'predict']:\n",
    "            self.test_dataset = MNIST(root = self.path, train = False, transform = self.transform)  # 🔶 TODO: Insert your code \n",
    "        \n",
    "        else:\n",
    "            raise NotImplementedError('Unknown Stage: {}'.format(stage))\n",
    "            \n",
    "    def train_dataloader(self) -> torch.utils.data.DataLoader:\n",
    "        return torch.utils.data.DataLoader(\n",
    "            batch_size=self.batch_size, num_workers=self.num_cpu,  # DO NOT CHANGE IN VAL/TEST LOADERS\n",
    "            dataset=self.train_dataset, shuffle=True,  # Could be changed in val/test loaders\n",
    "        )\n",
    "    def val_dataloader(self) -> torch.utils.data.DataLoader:\n",
    "        # 🔶 TODO: Insert your code\n",
    "        # HINT: check docs of 'torch.utils.data.DataLoader'.\n",
    "        return torch.utils.data.DataLoader(\n",
    "            dataset = self.val_dataset,\n",
    "            batch_size = self.batch_size,\n",
    "            num_workers = self.num_cpu,\n",
    "            shuffle = False,\n",
    "        )\n",
    "    \n",
    "    def test_dataloader(self) -> torch.utils.data.DataLoader:\n",
    "        # 🔶 TODO: Insert your code\n",
    "        # HINT: what's the difference between 'val_dataloader' and 'test_dataloader'?\n",
    "        return torch.utils.data.DataLoader(\n",
    "            dataset = self.test_dataset,\n",
    "            batch_size = self.batch_size,\n",
    "            num_workers = self.num_cpu,\n",
    "            shuffle = False,\n",
    "        )\n",
    "        \n",
    "    def predict_dataloader(self) -> torch.utils.data.DataLoader:\n",
    "        return self.test_dataloader()\n",
    "\n",
    "data_module = MNISTDataModule()\n",
    "data_module.prepare_data()\n",
    "data_module.setup('fit')\n",
    "dl = data_module.train_dataloader()\n",
    "print(next(dl.__iter__()))  # DO NOT CHANGE | will be used for checking"
   ]
  },
  {
   "cell_type": "code",
   "execution_count": 28,
   "metadata": {
    "collapsed": true
   },
   "outputs": [
    {
     "name": "stdout",
     "output_type": "stream",
     "text": [
      "Shape of Images: [B x C x H x W] =  torch.Size([64, 1, 28, 28])\n",
      "Shape of Labels: [B] =  torch.Size([64])\n"
     ]
    }
   ],
   "source": [
    "# Do not change! Only for checking.\n",
    "print('Shape of Images: [B x C x H x W] = ', next(dl.__iter__())[0].shape)\n",
    "print('Shape of Labels: [B] = ', next(dl.__iter__())[1].shape)"
   ]
  },
  {
   "cell_type": "markdown",
   "metadata": {},
   "source": [
    "## 2) Neural Network Architecture (5 Points)"
   ]
  },
  {
   "cell_type": "markdown",
   "metadata": {},
   "source": [
    "- Design an model with 3 Convolutional layers and 1 fully-connected layer, in this order:\n",
    "    - Convolution: Kernel size = 3x3, padding = 'same', number of filters = 4\n",
    "    - Convolution: Kernel size = 3x3, padding = 'same', number of filters = 8\n",
    "    - Convolution: Kernel size = 3x3, padding = 'same', number of filters = 4\n",
    "    - Linear: No Bias, num_class = 10 in MNIST Dataset\n",
    "- Use rectified linear unit (ReLU) for activation function (when necessary). \n",
    "- Initialize all the weights with `xavier_uniform`."
   ]
  },
  {
   "cell_type": "code",
   "execution_count": 29,
   "metadata": {
    "collapsed": true
   },
   "outputs": [
    {
     "name": "stdout",
     "output_type": "stream",
     "text": [
      "torch.Size([4, 10]) torch.float32\n",
      "tensor([[-1.3407,  0.6474,  1.3574,  0.7361,  1.8476, -0.3699, -0.1215, -0.0558,\n",
      "         -0.7714, -0.3651],\n",
      "        [-1.1083,  0.7181,  1.3379,  0.8089,  2.0845, -0.8070,  0.0117,  0.3289,\n",
      "         -0.7864, -0.8928],\n",
      "        [-1.5244,  0.4468,  1.2048,  0.9522,  1.9017, -0.7932,  0.0053,  0.1596,\n",
      "         -0.7596, -0.6852],\n",
      "        [-1.5235,  0.5117,  0.9190,  0.7907,  2.2066, -0.6643, -0.2235,  0.2211,\n",
      "         -0.5628, -0.6289]])\n"
     ]
    }
   ],
   "source": [
    "import torch\n",
    "import torch.nn as nn\n",
    "import torch.nn.functional as F\n",
    "\n",
    "class RawModel(torch.nn.Module):\n",
    "    def __init__(self):\n",
    "        super().__init__()\n",
    "        # 🔶 TODO: Insert your code\n",
    "        # HINT: define model layers based on the given model design (Conv2d...)\n",
    "        \n",
    "        self.model = nn.Sequential(\n",
    "            nn.Conv2d(in_channels = 1, out_channels = 4, kernel_size = 3, padding = 1),\n",
    "            nn.ReLU(),\n",
    "            nn.Conv2d(in_channels = 4, out_channels = 8, kernel_size = 3, padding = 1),\n",
    "            nn.ReLU(),\n",
    "            nn.Conv2d(in_channels = 8, out_channels = 4, kernel_size = 3, padding = 1),\n",
    "            nn.ReLU(),\n",
    "            nn.Flatten(),\n",
    "            nn.Linear(in_features = 4 * 28 * 28, out_features = 10),\n",
    "        )\n",
    "        \n",
    "        self.model.apply(self.initialize_weights)\n",
    "    \n",
    "    @staticmethod\n",
    "    def initialize_weights(module: torch.nn.Module) -> None:\n",
    "        # 🔶 TODO: Insert your code\n",
    "        if isinstance(module, (nn.Conv2d, nn.Linear)):\n",
    "            nn.init.xavier_uniform_(module.weight)\n",
    "        \n",
    "    def forward(self, images: torch.Tensor) -> torch.Tensor:\n",
    "        \"\"\"\n",
    "        Input: torch.Tensor | dtype=torch.float | shape=[B, C, H, W]\n",
    "        Output: torch.Tensor | dtype=torch.float | shape=[B, num_class]\n",
    "        \"\"\"\n",
    "        # 🔶 TODO: Insert your code\n",
    "        return self.model(images)\n",
    "\n",
    "model = RawModel()\n",
    "with torch.no_grad():  # DO NOT REMOVE THIS LINES BELOW\n",
    "    sample_image = torch.rand(size=(4, 1, 28, 28))\n",
    "    output = model(sample_image)\n",
    "    print(output.shape, output.dtype)  \n",
    "    print(output)\n"
   ]
  },
  {
   "cell_type": "markdown",
   "metadata": {},
   "source": [
    "## 3) Experiments (5 Points)"
   ]
  },
  {
   "cell_type": "markdown",
   "metadata": {},
   "source": [
    "- Define training/validation/test step and optimizer with cross-entropy loss and `AdamW` optimizer.\n",
    "- Use accuracy scores for monitoring the experiment. (you can use multiclass accuracy from Lightning Metrics)"
   ]
  },
  {
   "cell_type": "code",
   "execution_count": 33,
   "metadata": {
    "collapsed": true
   },
   "outputs": [],
   "source": [
    "import torch\n",
    "import torch.nn as nn\n",
    "from torchmetrics import Accuracy\n",
    "import lightning.pytorch as pl\n",
    "\n",
    "class MNISTExperiment(pl.LightningModule):\n",
    "    def __init__(self, learning_rate: float = 1e-3):\n",
    "        super().__init__()\n",
    "        self.model = RawModel()\n",
    "        self.learning_rate = learning_rate\n",
    "        self.criterion = nn.CrossEntropyLoss()\n",
    "        self.train_scores = Accuracy(task = \"multiclass\", num_classes = 10)   # 🔶 TODO: Insert your code\n",
    "        # HINT: define the metric used in this classification task.\n",
    "        self.validation_scores = Accuracy(task = \"multiclass\", num_classes = 10)  # 🔶 TODO: Insert your code\n",
    "        self.test_scores = Accuracy(task = \"multiclass\", num_classes = 10)  # 🔶 TODO: Insert your code\n",
    "\n",
    "    def forward(self, x: torch.Tensor) -> torch.Tensor:\n",
    "        return self.model(x)\n",
    "\n",
    "    def training_step(self, batch, batch_idx) -> torch.Tensor:\n",
    "        x, y = batch\n",
    "        y_hat = self(x)\n",
    "        \n",
    "        # 🔶 TODO: Insert your code: Loss Calculation\n",
    "        loss = self.criterion(y_hat, y)\n",
    "        # 🔶 TODO: Insert your code: Score Calculation\n",
    "        acc = self.train_scores(y_hat, y)\n",
    "        self.log('train_loss', loss)\n",
    "        self.log('train_accuracy', acc)\n",
    "        return loss\n",
    "    \n",
    "    def validation_step(self, batch, batch_idx) -> None:\n",
    "        # 🔶 TODO: Insert your code\n",
    "        x, y = batch\n",
    "        y_hat = self(x)\n",
    "        acc = self.validation_scores(y_hat, y)\n",
    "        self.log('validation_accuracy', acc)\n",
    "    \n",
    "    def test_step(self, batch, batch_idx) -> None:\n",
    "        # 🔶 TODO: Insert your code\n",
    "        x, y = batch\n",
    "        y_hat = self(x)\n",
    "        acc = self.test_scores(y_hat, y)\n",
    "        self.log('test_accuracy', acc)\n",
    "\n",
    "    def configure_optimizers(self):\n",
    "        optimizer = torch.optim.Adam(self.parameters(), lr = self.learning_rate)  # 🔶 TODO: Insert your code \n",
    "        return optimizer\n",
    "\n",
    "experiment = MNISTExperiment()"
   ]
  },
  {
   "cell_type": "markdown",
   "metadata": {},
   "source": [
    "- Define a lightning `Trainer`:\n",
    "    - Maximum epoch = 20\n",
    "    - accelerator = 'auto'\n",
    "    - Use `CSVLogger` and `TensorBoardLogger`\n",
    "    - Use `EarlyStopping` with patience epoch = 3\n",
    "    - Use `TQDMProgressBar` with refresh rate = 10"
   ]
  },
  {
   "cell_type": "code",
   "execution_count": 31,
   "metadata": {
    "collapsed": true
   },
   "outputs": [
    {
     "name": "stderr",
     "output_type": "stream",
     "text": [
      "Using default `ModelCheckpoint`. Consider installing `litmodels` package to enable `LitModelCheckpoint` for automatic upload to the Lightning model registry.\n",
      "GPU available: False, used: False\n",
      "TPU available: False, using: 0 TPU cores\n",
      "HPU available: False, using: 0 HPUs\n"
     ]
    }
   ],
   "source": [
    "trainer = pl.Trainer(\n",
    "    max_epochs=20,\n",
    "    accelerator='auto',\n",
    "    logger=[\n",
    "        CSVLogger(EXPERIMENTS_PATH, name='MNIST_Experiment'),\n",
    "        TensorBoardLogger(EXPERIMENTS_PATH, name='MNIST_Experiment')\n",
    "    ],\n",
    "    callbacks=[TQDMProgressBar(refresh_rate=10)]\n",
    ")"
   ]
  },
  {
   "cell_type": "markdown",
   "metadata": {},
   "source": [
    "## 4) Results (4 Points)\n",
    "- Train and test the `RawModel` and plot the score and loss values versus epoch."
   ]
  },
  {
   "cell_type": "code",
   "execution_count": 34,
   "metadata": {
    "collapsed": true
   },
   "outputs": [
    {
     "name": "stderr",
     "output_type": "stream",
     "text": [
      "\n",
      "  | Name              | Type               | Params | Mode \n",
      "-----------------------------------------------------------------\n",
      "0 | model             | RawModel           | 32.0 K | train\n",
      "1 | criterion         | CrossEntropyLoss   | 0      | train\n",
      "2 | train_scores      | MulticlassAccuracy | 0      | train\n",
      "3 | validation_scores | MulticlassAccuracy | 0      | train\n",
      "4 | test_scores       | MulticlassAccuracy | 0      | train\n",
      "-----------------------------------------------------------------\n",
      "32.0 K    Trainable params\n",
      "0         Non-trainable params\n",
      "32.0 K    Total params\n",
      "0.128     Total estimated model params size (MB)\n",
      "14        Modules in train mode\n",
      "0         Modules in eval mode\n"
     ]
    },
    {
     "data": {
      "application/vnd.jupyter.widget-view+json": {
       "model_id": "4303df80d05541c0b0d24869d8914f26",
       "version_major": 2,
       "version_minor": 0
      },
      "text/plain": [
       "Sanity Checking: |          | 0/? [00:00<?, ?it/s]"
      ]
     },
     "metadata": {},
     "output_type": "display_data"
    },
    {
     "data": {
      "application/vnd.jupyter.widget-view+json": {
       "model_id": "5d53959b21d84bdfb3879e70e817ff2e",
       "version_major": 2,
       "version_minor": 0
      },
      "text/plain": [
       "Training: |          | 0/? [00:00<?, ?it/s]"
      ]
     },
     "metadata": {},
     "output_type": "display_data"
    },
    {
     "data": {
      "application/vnd.jupyter.widget-view+json": {
       "model_id": "a36948060cbc4c2d8855d7fa27dbb43e",
       "version_major": 2,
       "version_minor": 0
      },
      "text/plain": [
       "Validation: |          | 0/? [00:00<?, ?it/s]"
      ]
     },
     "metadata": {},
     "output_type": "display_data"
    },
    {
     "data": {
      "application/vnd.jupyter.widget-view+json": {
       "model_id": "290331c7ce8f46c9bb9f23d18042fe23",
       "version_major": 2,
       "version_minor": 0
      },
      "text/plain": [
       "Validation: |          | 0/? [00:00<?, ?it/s]"
      ]
     },
     "metadata": {},
     "output_type": "display_data"
    },
    {
     "data": {
      "application/vnd.jupyter.widget-view+json": {
       "model_id": "c23e54a34e914938b7e8f506834f328c",
       "version_major": 2,
       "version_minor": 0
      },
      "text/plain": [
       "Validation: |          | 0/? [00:00<?, ?it/s]"
      ]
     },
     "metadata": {},
     "output_type": "display_data"
    },
    {
     "data": {
      "application/vnd.jupyter.widget-view+json": {
       "model_id": "9ba1d2ec9f5e41eb831a3ff9f7399e25",
       "version_major": 2,
       "version_minor": 0
      },
      "text/plain": [
       "Validation: |          | 0/? [00:00<?, ?it/s]"
      ]
     },
     "metadata": {},
     "output_type": "display_data"
    },
    {
     "data": {
      "application/vnd.jupyter.widget-view+json": {
       "model_id": "d8d88c259c2646e5a5a21776d152c485",
       "version_major": 2,
       "version_minor": 0
      },
      "text/plain": [
       "Validation: |          | 0/? [00:00<?, ?it/s]"
      ]
     },
     "metadata": {},
     "output_type": "display_data"
    },
    {
     "data": {
      "application/vnd.jupyter.widget-view+json": {
       "model_id": "9e2bc343e0dd4849a42355a26c815ee0",
       "version_major": 2,
       "version_minor": 0
      },
      "text/plain": [
       "Validation: |          | 0/? [00:00<?, ?it/s]"
      ]
     },
     "metadata": {},
     "output_type": "display_data"
    },
    {
     "data": {
      "application/vnd.jupyter.widget-view+json": {
       "model_id": "e65fb4b4ba494b4cbc4162817619e18d",
       "version_major": 2,
       "version_minor": 0
      },
      "text/plain": [
       "Validation: |          | 0/? [00:00<?, ?it/s]"
      ]
     },
     "metadata": {},
     "output_type": "display_data"
    },
    {
     "data": {
      "application/vnd.jupyter.widget-view+json": {
       "model_id": "2a1dbbf5990e4b1894654635c0d2f18b",
       "version_major": 2,
       "version_minor": 0
      },
      "text/plain": [
       "Validation: |          | 0/? [00:00<?, ?it/s]"
      ]
     },
     "metadata": {},
     "output_type": "display_data"
    },
    {
     "data": {
      "application/vnd.jupyter.widget-view+json": {
       "model_id": "c3ae3eca1eae4bec951d5feb400a1249",
       "version_major": 2,
       "version_minor": 0
      },
      "text/plain": [
       "Validation: |          | 0/? [00:00<?, ?it/s]"
      ]
     },
     "metadata": {},
     "output_type": "display_data"
    },
    {
     "data": {
      "application/vnd.jupyter.widget-view+json": {
       "model_id": "d1acf1acbb624f25bbb17ff7cc5c90a7",
       "version_major": 2,
       "version_minor": 0
      },
      "text/plain": [
       "Validation: |          | 0/? [00:00<?, ?it/s]"
      ]
     },
     "metadata": {},
     "output_type": "display_data"
    },
    {
     "data": {
      "application/vnd.jupyter.widget-view+json": {
       "model_id": "427ed9899d444ec5877a480acdae3d90",
       "version_major": 2,
       "version_minor": 0
      },
      "text/plain": [
       "Validation: |          | 0/? [00:00<?, ?it/s]"
      ]
     },
     "metadata": {},
     "output_type": "display_data"
    },
    {
     "data": {
      "application/vnd.jupyter.widget-view+json": {
       "model_id": "f989f95c61204931a27dfab285efa98d",
       "version_major": 2,
       "version_minor": 0
      },
      "text/plain": [
       "Validation: |          | 0/? [00:00<?, ?it/s]"
      ]
     },
     "metadata": {},
     "output_type": "display_data"
    },
    {
     "data": {
      "application/vnd.jupyter.widget-view+json": {
       "model_id": "7256c40e744a4549b51d30e64f68f808",
       "version_major": 2,
       "version_minor": 0
      },
      "text/plain": [
       "Validation: |          | 0/? [00:00<?, ?it/s]"
      ]
     },
     "metadata": {},
     "output_type": "display_data"
    },
    {
     "data": {
      "application/vnd.jupyter.widget-view+json": {
       "model_id": "2290014cf3cf434bb27cec3192e72890",
       "version_major": 2,
       "version_minor": 0
      },
      "text/plain": [
       "Validation: |          | 0/? [00:00<?, ?it/s]"
      ]
     },
     "metadata": {},
     "output_type": "display_data"
    },
    {
     "data": {
      "application/vnd.jupyter.widget-view+json": {
       "model_id": "5c81dc7a03b949308875761364a9e9f8",
       "version_major": 2,
       "version_minor": 0
      },
      "text/plain": [
       "Validation: |          | 0/? [00:00<?, ?it/s]"
      ]
     },
     "metadata": {},
     "output_type": "display_data"
    },
    {
     "data": {
      "application/vnd.jupyter.widget-view+json": {
       "model_id": "878df90873854ea8817247e25cc5b2aa",
       "version_major": 2,
       "version_minor": 0
      },
      "text/plain": [
       "Validation: |          | 0/? [00:00<?, ?it/s]"
      ]
     },
     "metadata": {},
     "output_type": "display_data"
    },
    {
     "data": {
      "application/vnd.jupyter.widget-view+json": {
       "model_id": "a800286efea6403f903e1f17e56ae906",
       "version_major": 2,
       "version_minor": 0
      },
      "text/plain": [
       "Validation: |          | 0/? [00:00<?, ?it/s]"
      ]
     },
     "metadata": {},
     "output_type": "display_data"
    },
    {
     "data": {
      "application/vnd.jupyter.widget-view+json": {
       "model_id": "920a6dd7d3f1490bbb4135d44214754d",
       "version_major": 2,
       "version_minor": 0
      },
      "text/plain": [
       "Validation: |          | 0/? [00:00<?, ?it/s]"
      ]
     },
     "metadata": {},
     "output_type": "display_data"
    },
    {
     "data": {
      "application/vnd.jupyter.widget-view+json": {
       "model_id": "6cd8a0fa88cb420d84d0b276ccd8508c",
       "version_major": 2,
       "version_minor": 0
      },
      "text/plain": [
       "Validation: |          | 0/? [00:00<?, ?it/s]"
      ]
     },
     "metadata": {},
     "output_type": "display_data"
    },
    {
     "data": {
      "application/vnd.jupyter.widget-view+json": {
       "model_id": "d6120289975640338cc49419f98f21c4",
       "version_major": 2,
       "version_minor": 0
      },
      "text/plain": [
       "Validation: |          | 0/? [00:00<?, ?it/s]"
      ]
     },
     "metadata": {},
     "output_type": "display_data"
    },
    {
     "name": "stderr",
     "output_type": "stream",
     "text": [
      "`Trainer.fit` stopped: `max_epochs=20` reached.\n"
     ]
    },
    {
     "data": {
      "application/vnd.jupyter.widget-view+json": {
       "model_id": "ce902024b0e542ae8975b3c7c91ea2a4",
       "version_major": 2,
       "version_minor": 0
      },
      "text/plain": [
       "Testing: |          | 0/? [00:00<?, ?it/s]"
      ]
     },
     "metadata": {},
     "output_type": "display_data"
    },
    {
     "data": {
      "text/html": [
       "<pre style=\"white-space:pre;overflow-x:auto;line-height:normal;font-family:Menlo,'DejaVu Sans Mono',consolas,'Courier New',monospace\">┏━━━━━━━━━━━━━━━━━━━━━━━━━━━┳━━━━━━━━━━━━━━━━━━━━━━━━━━━┓\n",
       "┃<span style=\"font-weight: bold\">        Test metric        </span>┃<span style=\"font-weight: bold\">       DataLoader 0        </span>┃\n",
       "┡━━━━━━━━━━━━━━━━━━━━━━━━━━━╇━━━━━━━━━━━━━━━━━━━━━━━━━━━┩\n",
       "│<span style=\"color: #008080; text-decoration-color: #008080\">       test_accuracy       </span>│<span style=\"color: #800080; text-decoration-color: #800080\">    0.9811000227928162     </span>│\n",
       "└───────────────────────────┴───────────────────────────┘\n",
       "</pre>\n"
      ],
      "text/plain": [
       "┏━━━━━━━━━━━━━━━━━━━━━━━━━━━┳━━━━━━━━━━━━━━━━━━━━━━━━━━━┓\n",
       "┃\u001b[1m \u001b[0m\u001b[1m       Test metric       \u001b[0m\u001b[1m \u001b[0m┃\u001b[1m \u001b[0m\u001b[1m      DataLoader 0       \u001b[0m\u001b[1m \u001b[0m┃\n",
       "┡━━━━━━━━━━━━━━━━━━━━━━━━━━━╇━━━━━━━━━━━━━━━━━━━━━━━━━━━┩\n",
       "│\u001b[36m \u001b[0m\u001b[36m      test_accuracy      \u001b[0m\u001b[36m \u001b[0m│\u001b[35m \u001b[0m\u001b[35m   0.9811000227928162    \u001b[0m\u001b[35m \u001b[0m│\n",
       "└───────────────────────────┴───────────────────────────┘\n"
      ]
     },
     "metadata": {},
     "output_type": "display_data"
    },
    {
     "data": {
      "text/plain": [
       "[{'test_accuracy': 0.9811000227928162}]"
      ]
     },
     "execution_count": 34,
     "metadata": {},
     "output_type": "execute_result"
    }
   ],
   "source": [
    "data_module = MNISTDataModule(DATASET_PATH)\n",
    "experiment = MNISTExperiment()\n",
    "\n",
    "data_module.prepare_data()\n",
    "data_module.setup(\"fit\")\n",
    "trainer.fit(experiment, datamodule=data_module)\n",
    "trainer.test(experiment, datamodule=data_module)"
   ]
  },
  {
   "cell_type": "code",
   "execution_count": 38,
   "id": "94bd52f5",
   "metadata": {},
   "outputs": [
    {
     "data": {
      "image/png": "[encoded data removed]",
      "text/plain": [
       "<Figure size 600x400 with 1 Axes>"
      ]
     },
     "metadata": {},
     "output_type": "display_data"
    }
   ],
   "source": [
    "metrics_path = os.path.join(EXPERIMENTS_PATH, 'MNIST_Experiment', 'version_0', 'metrics.csv')\n",
    "\n",
    "df = pd.read_csv(metrics_path)\n",
    "\n",
    "df = df.dropna(subset=[\"train_loss\"])\n",
    "\n",
    "loss_per_epoch = df.groupby(\"epoch\")[\"train_loss\"].mean()\n",
    "\n",
    "plt.figure(figsize=(6, 4))\n",
    "plt.plot(loss_per_epoch.index, loss_per_epoch.values, marker='o', color='red')\n",
    "plt.title(\"Train Loss vs Epoch\")\n",
    "plt.xlabel(\"Epoch\")\n",
    "plt.ylabel(\"Train Loss\")\n",
    "plt.grid(True)\n",
    "plt.tight_layout()\n",
    "plt.show()\n"
   ]
  },
  {
   "cell_type": "markdown",
   "metadata": {},
   "source": [
    "- Re-design the model with `Dropout` layer in-between the convolutional layers and re-train the model. as like `RawModel` and create a new module as `ModelWithDropout`. Try:\n",
    "    - dropout probability = 0.1\n",
    "    - dropout probability = 0.5\n",
    "    - dropout probability = 0.9"
   ]
  },
  {
   "cell_type": "code",
   "execution_count": 42,
   "metadata": {
    "collapsed": true
   },
   "outputs": [
    {
     "name": "stderr",
     "output_type": "stream",
     "text": [
      "Using default `ModelCheckpoint`. Consider installing `litmodels` package to enable `LitModelCheckpoint` for automatic upload to the Lightning model registry.\n",
      "GPU available: False, used: False\n",
      "TPU available: False, using: 0 TPU cores\n",
      "HPU available: False, using: 0 HPUs\n"
     ]
    },
    {
     "name": "stdout",
     "output_type": "stream",
     "text": [
      "torch.Size([4, 10]) torch.float32\n",
      "tensor([[-0.1130,  0.5840,  0.4929, -0.1218,  0.2292, -0.5304,  0.3191, -0.6564,\n",
      "         -0.6525,  0.1134],\n",
      "        [ 0.4570, -0.3260, -0.0510,  0.1589, -0.5678,  0.3177,  0.5075, -1.1602,\n",
      "          0.2247,  0.0102],\n",
      "        [-0.2246, -1.1844,  0.0146, -0.7843,  0.6153, -0.6491, -0.8870, -0.2787,\n",
      "          0.7755, -0.6285],\n",
      "        [-0.5714,  0.2856, -0.1741, -1.9984, -0.4427,  0.4169, -0.8520,  0.0058,\n",
      "         -0.5759,  0.0983]])\n",
      "Dropout Probability: 0.1\n"
     ]
    },
    {
     "name": "stderr",
     "output_type": "stream",
     "text": [
      "\n",
      "  | Name              | Type               | Params | Mode \n",
      "-----------------------------------------------------------------\n",
      "0 | model             | DropoutModel       | 32.0 K | train\n",
      "1 | criterion         | CrossEntropyLoss   | 0      | train\n",
      "2 | train_scores      | MulticlassAccuracy | 0      | train\n",
      "3 | validation_scores | MulticlassAccuracy | 0      | train\n",
      "4 | test_scores       | MulticlassAccuracy | 0      | train\n",
      "-----------------------------------------------------------------\n",
      "32.0 K    Trainable params\n",
      "0         Non-trainable params\n",
      "32.0 K    Total params\n",
      "0.128     Total estimated model params size (MB)\n",
      "15        Modules in train mode\n",
      "0         Modules in eval mode\n"
     ]
    },
    {
     "data": {
      "application/vnd.jupyter.widget-view+json": {
       "model_id": "474a735e27404d1f883161302c1d7968",
       "version_major": 2,
       "version_minor": 0
      },
      "text/plain": [
       "Sanity Checking: |          | 0/? [00:00<?, ?it/s]"
      ]
     },
     "metadata": {},
     "output_type": "display_data"
    },
    {
     "data": {
      "application/vnd.jupyter.widget-view+json": {
       "model_id": "09031787ea93494fa4188d35f85754a2",
       "version_major": 2,
       "version_minor": 0
      },
      "text/plain": [
       "Training: |          | 0/? [00:00<?, ?it/s]"
      ]
     },
     "metadata": {},
     "output_type": "display_data"
    },
    {
     "data": {
      "application/vnd.jupyter.widget-view+json": {
       "model_id": "74e4b1ea5e2c4d5d9efc141a67396d53",
       "version_major": 2,
       "version_minor": 0
      },
      "text/plain": [
       "Validation: |          | 0/? [00:00<?, ?it/s]"
      ]
     },
     "metadata": {},
     "output_type": "display_data"
    },
    {
     "data": {
      "application/vnd.jupyter.widget-view+json": {
       "model_id": "4e243639a09c4980b769f12034f4e730",
       "version_major": 2,
       "version_minor": 0
      },
      "text/plain": [
       "Validation: |          | 0/? [00:00<?, ?it/s]"
      ]
     },
     "metadata": {},
     "output_type": "display_data"
    },
    {
     "data": {
      "application/vnd.jupyter.widget-view+json": {
       "model_id": "34c8ecf1447d405eab77e274f8c977ee",
       "version_major": 2,
       "version_minor": 0
      },
      "text/plain": [
       "Validation: |          | 0/? [00:00<?, ?it/s]"
      ]
     },
     "metadata": {},
     "output_type": "display_data"
    },
    {
     "data": {
      "application/vnd.jupyter.widget-view+json": {
       "model_id": "79b4784bc23a4ef8badc68be571a7a6b",
       "version_major": 2,
       "version_minor": 0
      },
      "text/plain": [
       "Validation: |          | 0/? [00:00<?, ?it/s]"
      ]
     },
     "metadata": {},
     "output_type": "display_data"
    },
    {
     "data": {
      "application/vnd.jupyter.widget-view+json": {
       "model_id": "a336d1dd85f748d9b0f095cbb1ef2320",
       "version_major": 2,
       "version_minor": 0
      },
      "text/plain": [
       "Validation: |          | 0/? [00:00<?, ?it/s]"
      ]
     },
     "metadata": {},
     "output_type": "display_data"
    },
    {
     "data": {
      "application/vnd.jupyter.widget-view+json": {
       "model_id": "9ea8e52524c344e79df36530ebdeabc1",
       "version_major": 2,
       "version_minor": 0
      },
      "text/plain": [
       "Validation: |          | 0/? [00:00<?, ?it/s]"
      ]
     },
     "metadata": {},
     "output_type": "display_data"
    },
    {
     "data": {
      "application/vnd.jupyter.widget-view+json": {
       "model_id": "463f9263c8884aa6be7ef120bbd875c6",
       "version_major": 2,
       "version_minor": 0
      },
      "text/plain": [
       "Validation: |          | 0/? [00:00<?, ?it/s]"
      ]
     },
     "metadata": {},
     "output_type": "display_data"
    },
    {
     "data": {
      "application/vnd.jupyter.widget-view+json": {
       "model_id": "737d3c2733a94591be436e7a737ec4bb",
       "version_major": 2,
       "version_minor": 0
      },
      "text/plain": [
       "Validation: |          | 0/? [00:00<?, ?it/s]"
      ]
     },
     "metadata": {},
     "output_type": "display_data"
    },
    {
     "data": {
      "application/vnd.jupyter.widget-view+json": {
       "model_id": "03a1985eed264a48b8df14b6bd2905c7",
       "version_major": 2,
       "version_minor": 0
      },
      "text/plain": [
       "Validation: |          | 0/? [00:00<?, ?it/s]"
      ]
     },
     "metadata": {},
     "output_type": "display_data"
    },
    {
     "data": {
      "application/vnd.jupyter.widget-view+json": {
       "model_id": "355b19292f4d4268bebe223845dc3b07",
       "version_major": 2,
       "version_minor": 0
      },
      "text/plain": [
       "Validation: |          | 0/? [00:00<?, ?it/s]"
      ]
     },
     "metadata": {},
     "output_type": "display_data"
    },
    {
     "data": {
      "application/vnd.jupyter.widget-view+json": {
       "model_id": "bf929c6b7e0e4412a4fe539e65d13f0e",
       "version_major": 2,
       "version_minor": 0
      },
      "text/plain": [
       "Validation: |          | 0/? [00:00<?, ?it/s]"
      ]
     },
     "metadata": {},
     "output_type": "display_data"
    },
    {
     "data": {
      "application/vnd.jupyter.widget-view+json": {
       "model_id": "58016a2540394506aaaa009734890204",
       "version_major": 2,
       "version_minor": 0
      },
      "text/plain": [
       "Validation: |          | 0/? [00:00<?, ?it/s]"
      ]
     },
     "metadata": {},
     "output_type": "display_data"
    },
    {
     "data": {
      "application/vnd.jupyter.widget-view+json": {
       "model_id": "e359402e1bef40cd9c4e26b8e7331d18",
       "version_major": 2,
       "version_minor": 0
      },
      "text/plain": [
       "Validation: |          | 0/? [00:00<?, ?it/s]"
      ]
     },
     "metadata": {},
     "output_type": "display_data"
    },
    {
     "data": {
      "application/vnd.jupyter.widget-view+json": {
       "model_id": "208ab411bbf5462d8f0a544cd126a764",
       "version_major": 2,
       "version_minor": 0
      },
      "text/plain": [
       "Validation: |          | 0/? [00:00<?, ?it/s]"
      ]
     },
     "metadata": {},
     "output_type": "display_data"
    },
    {
     "data": {
      "application/vnd.jupyter.widget-view+json": {
       "model_id": "4f35b913aec6444188cbc6be6e83089e",
       "version_major": 2,
       "version_minor": 0
      },
      "text/plain": [
       "Validation: |          | 0/? [00:00<?, ?it/s]"
      ]
     },
     "metadata": {},
     "output_type": "display_data"
    },
    {
     "data": {
      "application/vnd.jupyter.widget-view+json": {
       "model_id": "dca0adb5f063497d85ee86303b7937dd",
       "version_major": 2,
       "version_minor": 0
      },
      "text/plain": [
       "Validation: |          | 0/? [00:00<?, ?it/s]"
      ]
     },
     "metadata": {},
     "output_type": "display_data"
    },
    {
     "data": {
      "application/vnd.jupyter.widget-view+json": {
       "model_id": "aca531bedcc64974a79efefd2319401e",
       "version_major": 2,
       "version_minor": 0
      },
      "text/plain": [
       "Validation: |          | 0/? [00:00<?, ?it/s]"
      ]
     },
     "metadata": {},
     "output_type": "display_data"
    },
    {
     "data": {
      "application/vnd.jupyter.widget-view+json": {
       "model_id": "f30c7ff714a546f087d6dd45d73761fc",
       "version_major": 2,
       "version_minor": 0
      },
      "text/plain": [
       "Validation: |          | 0/? [00:00<?, ?it/s]"
      ]
     },
     "metadata": {},
     "output_type": "display_data"
    },
    {
     "data": {
      "application/vnd.jupyter.widget-view+json": {
       "model_id": "201bd78f3ccc4fb3bafa398f6fb0e333",
       "version_major": 2,
       "version_minor": 0
      },
      "text/plain": [
       "Validation: |          | 0/? [00:00<?, ?it/s]"
      ]
     },
     "metadata": {},
     "output_type": "display_data"
    },
    {
     "data": {
      "application/vnd.jupyter.widget-view+json": {
       "model_id": "6802051a0a214e5ab7fc2612b5320d82",
       "version_major": 2,
       "version_minor": 0
      },
      "text/plain": [
       "Validation: |          | 0/? [00:00<?, ?it/s]"
      ]
     },
     "metadata": {},
     "output_type": "display_data"
    },
    {
     "name": "stderr",
     "output_type": "stream",
     "text": [
      "`Trainer.fit` stopped: `max_epochs=20` reached.\n"
     ]
    },
    {
     "data": {
      "application/vnd.jupyter.widget-view+json": {
       "model_id": "060e68d2a11e4550ac273c1612e52051",
       "version_major": 2,
       "version_minor": 0
      },
      "text/plain": [
       "Testing: |          | 0/? [00:00<?, ?it/s]"
      ]
     },
     "metadata": {},
     "output_type": "display_data"
    },
    {
     "data": {
      "text/html": [
       "<pre style=\"white-space:pre;overflow-x:auto;line-height:normal;font-family:Menlo,'DejaVu Sans Mono',consolas,'Courier New',monospace\">┏━━━━━━━━━━━━━━━━━━━━━━━━━━━┳━━━━━━━━━━━━━━━━━━━━━━━━━━━┓\n",
       "┃<span style=\"font-weight: bold\">        Test metric        </span>┃<span style=\"font-weight: bold\">       DataLoader 0        </span>┃\n",
       "┡━━━━━━━━━━━━━━━━━━━━━━━━━━━╇━━━━━━━━━━━━━━━━━━━━━━━━━━━┩\n",
       "│<span style=\"color: #008080; text-decoration-color: #008080\">       test_accuracy       </span>│<span style=\"color: #800080; text-decoration-color: #800080\">    0.9825999736785889     </span>│\n",
       "└───────────────────────────┴───────────────────────────┘\n",
       "</pre>\n"
      ],
      "text/plain": [
       "┏━━━━━━━━━━━━━━━━━━━━━━━━━━━┳━━━━━━━━━━━━━━━━━━━━━━━━━━━┓\n",
       "┃\u001b[1m \u001b[0m\u001b[1m       Test metric       \u001b[0m\u001b[1m \u001b[0m┃\u001b[1m \u001b[0m\u001b[1m      DataLoader 0       \u001b[0m\u001b[1m \u001b[0m┃\n",
       "┡━━━━━━━━━━━━━━━━━━━━━━━━━━━╇━━━━━━━━━━━━━━━━━━━━━━━━━━━┩\n",
       "│\u001b[36m \u001b[0m\u001b[36m      test_accuracy      \u001b[0m\u001b[36m \u001b[0m│\u001b[35m \u001b[0m\u001b[35m   0.9825999736785889    \u001b[0m\u001b[35m \u001b[0m│\n",
       "└───────────────────────────┴───────────────────────────┘\n"
      ]
     },
     "metadata": {},
     "output_type": "display_data"
    },
    {
     "name": "stderr",
     "output_type": "stream",
     "text": [
      "Using default `ModelCheckpoint`. Consider installing `litmodels` package to enable `LitModelCheckpoint` for automatic upload to the Lightning model registry.\n",
      "GPU available: False, used: False\n",
      "TPU available: False, using: 0 TPU cores\n",
      "HPU available: False, using: 0 HPUs\n",
      "\n",
      "  | Name              | Type               | Params | Mode \n",
      "-----------------------------------------------------------------\n",
      "0 | model             | DropoutModel       | 32.0 K | train\n",
      "1 | criterion         | CrossEntropyLoss   | 0      | train\n",
      "2 | train_scores      | MulticlassAccuracy | 0      | train\n",
      "3 | validation_scores | MulticlassAccuracy | 0      | train\n",
      "4 | test_scores       | MulticlassAccuracy | 0      | train\n",
      "-----------------------------------------------------------------\n",
      "32.0 K    Trainable params\n",
      "0         Non-trainable params\n",
      "32.0 K    Total params\n",
      "0.128     Total estimated model params size (MB)\n",
      "15        Modules in train mode\n",
      "0         Modules in eval mode\n"
     ]
    },
    {
     "name": "stdout",
     "output_type": "stream",
     "text": [
      "Dropout Probability: 0.5\n"
     ]
    },
    {
     "data": {
      "application/vnd.jupyter.widget-view+json": {
       "model_id": "c886ede1ed784b48b04e1040f5e0a126",
       "version_major": 2,
       "version_minor": 0
      },
      "text/plain": [
       "Sanity Checking: |          | 0/? [00:00<?, ?it/s]"
      ]
     },
     "metadata": {},
     "output_type": "display_data"
    },
    {
     "data": {
      "application/vnd.jupyter.widget-view+json": {
       "model_id": "fdc627b42b6a41d586aa18d168f70a73",
       "version_major": 2,
       "version_minor": 0
      },
      "text/plain": [
       "Training: |          | 0/? [00:00<?, ?it/s]"
      ]
     },
     "metadata": {},
     "output_type": "display_data"
    },
    {
     "data": {
      "application/vnd.jupyter.widget-view+json": {
       "model_id": "acf1dd42b04845138e4eb94b0c18695e",
       "version_major": 2,
       "version_minor": 0
      },
      "text/plain": [
       "Validation: |          | 0/? [00:00<?, ?it/s]"
      ]
     },
     "metadata": {},
     "output_type": "display_data"
    },
    {
     "data": {
      "application/vnd.jupyter.widget-view+json": {
       "model_id": "ae950664ae714fcc876f4ed7ace34caf",
       "version_major": 2,
       "version_minor": 0
      },
      "text/plain": [
       "Validation: |          | 0/? [00:00<?, ?it/s]"
      ]
     },
     "metadata": {},
     "output_type": "display_data"
    },
    {
     "data": {
      "application/vnd.jupyter.widget-view+json": {
       "model_id": "9287d3cd725143409cfe41bcc5b6c0e4",
       "version_major": 2,
       "version_minor": 0
      },
      "text/plain": [
       "Validation: |          | 0/? [00:00<?, ?it/s]"
      ]
     },
     "metadata": {},
     "output_type": "display_data"
    },
    {
     "data": {
      "application/vnd.jupyter.widget-view+json": {
       "model_id": "0a56464964dc4b6e85b7fd3c7fc7b722",
       "version_major": 2,
       "version_minor": 0
      },
      "text/plain": [
       "Validation: |          | 0/? [00:00<?, ?it/s]"
      ]
     },
     "metadata": {},
     "output_type": "display_data"
    },
    {
     "data": {
      "application/vnd.jupyter.widget-view+json": {
       "model_id": "da6267562e9545089587b5bc987d72b5",
       "version_major": 2,
       "version_minor": 0
      },
      "text/plain": [
       "Validation: |          | 0/? [00:00<?, ?it/s]"
      ]
     },
     "metadata": {},
     "output_type": "display_data"
    },
    {
     "data": {
      "application/vnd.jupyter.widget-view+json": {
       "model_id": "1733e77d201842e1aa884c620d88e106",
       "version_major": 2,
       "version_minor": 0
      },
      "text/plain": [
       "Validation: |          | 0/? [00:00<?, ?it/s]"
      ]
     },
     "metadata": {},
     "output_type": "display_data"
    },
    {
     "data": {
      "application/vnd.jupyter.widget-view+json": {
       "model_id": "e481bb7d495f432ea642acdc721538c9",
       "version_major": 2,
       "version_minor": 0
      },
      "text/plain": [
       "Validation: |          | 0/? [00:00<?, ?it/s]"
      ]
     },
     "metadata": {},
     "output_type": "display_data"
    },
    {
     "data": {
      "application/vnd.jupyter.widget-view+json": {
       "model_id": "6130ddd9873643d49b750c7bb269a459",
       "version_major": 2,
       "version_minor": 0
      },
      "text/plain": [
       "Validation: |          | 0/? [00:00<?, ?it/s]"
      ]
     },
     "metadata": {},
     "output_type": "display_data"
    },
    {
     "data": {
      "application/vnd.jupyter.widget-view+json": {
       "model_id": "2e3c2352eb6e4211b19d5135a7393b95",
       "version_major": 2,
       "version_minor": 0
      },
      "text/plain": [
       "Validation: |          | 0/? [00:00<?, ?it/s]"
      ]
     },
     "metadata": {},
     "output_type": "display_data"
    },
    {
     "data": {
      "application/vnd.jupyter.widget-view+json": {
       "model_id": "2157253ba12c43529c65d20f54644bfd",
       "version_major": 2,
       "version_minor": 0
      },
      "text/plain": [
       "Validation: |          | 0/? [00:00<?, ?it/s]"
      ]
     },
     "metadata": {},
     "output_type": "display_data"
    },
    {
     "data": {
      "application/vnd.jupyter.widget-view+json": {
       "model_id": "0a03d13569c0494d95d93a7741bc11d0",
       "version_major": 2,
       "version_minor": 0
      },
      "text/plain": [
       "Validation: |          | 0/? [00:00<?, ?it/s]"
      ]
     },
     "metadata": {},
     "output_type": "display_data"
    },
    {
     "data": {
      "application/vnd.jupyter.widget-view+json": {
       "model_id": "029c6e58446d4d6b960393bed56b2a21",
       "version_major": 2,
       "version_minor": 0
      },
      "text/plain": [
       "Validation: |          | 0/? [00:00<?, ?it/s]"
      ]
     },
     "metadata": {},
     "output_type": "display_data"
    },
    {
     "data": {
      "application/vnd.jupyter.widget-view+json": {
       "model_id": "ad3e3d698261435ba2e8edb28f156aea",
       "version_major": 2,
       "version_minor": 0
      },
      "text/plain": [
       "Validation: |          | 0/? [00:00<?, ?it/s]"
      ]
     },
     "metadata": {},
     "output_type": "display_data"
    },
    {
     "data": {
      "application/vnd.jupyter.widget-view+json": {
       "model_id": "7506892116744904af41766c31def5e1",
       "version_major": 2,
       "version_minor": 0
      },
      "text/plain": [
       "Validation: |          | 0/? [00:00<?, ?it/s]"
      ]
     },
     "metadata": {},
     "output_type": "display_data"
    },
    {
     "data": {
      "application/vnd.jupyter.widget-view+json": {
       "model_id": "bef9a97088204b1d8c07eab263977239",
       "version_major": 2,
       "version_minor": 0
      },
      "text/plain": [
       "Validation: |          | 0/? [00:00<?, ?it/s]"
      ]
     },
     "metadata": {},
     "output_type": "display_data"
    },
    {
     "data": {
      "application/vnd.jupyter.widget-view+json": {
       "model_id": "91a67f3080934d91a54357265c59f14a",
       "version_major": 2,
       "version_minor": 0
      },
      "text/plain": [
       "Validation: |          | 0/? [00:00<?, ?it/s]"
      ]
     },
     "metadata": {},
     "output_type": "display_data"
    },
    {
     "data": {
      "application/vnd.jupyter.widget-view+json": {
       "model_id": "52b2a1282310477b85b6c98efeff13b6",
       "version_major": 2,
       "version_minor": 0
      },
      "text/plain": [
       "Validation: |          | 0/? [00:00<?, ?it/s]"
      ]
     },
     "metadata": {},
     "output_type": "display_data"
    },
    {
     "data": {
      "application/vnd.jupyter.widget-view+json": {
       "model_id": "32eedb765ae843bd8d5c2a6d09dae74f",
       "version_major": 2,
       "version_minor": 0
      },
      "text/plain": [
       "Validation: |          | 0/? [00:00<?, ?it/s]"
      ]
     },
     "metadata": {},
     "output_type": "display_data"
    },
    {
     "data": {
      "application/vnd.jupyter.widget-view+json": {
       "model_id": "05db74d24d454e2088450dfec893dcb5",
       "version_major": 2,
       "version_minor": 0
      },
      "text/plain": [
       "Validation: |          | 0/? [00:00<?, ?it/s]"
      ]
     },
     "metadata": {},
     "output_type": "display_data"
    },
    {
     "data": {
      "application/vnd.jupyter.widget-view+json": {
       "model_id": "34d4d8573b9a4d5e96510e6cfdfc3cde",
       "version_major": 2,
       "version_minor": 0
      },
      "text/plain": [
       "Validation: |          | 0/? [00:00<?, ?it/s]"
      ]
     },
     "metadata": {},
     "output_type": "display_data"
    },
    {
     "name": "stderr",
     "output_type": "stream",
     "text": [
      "`Trainer.fit` stopped: `max_epochs=20` reached.\n"
     ]
    },
    {
     "data": {
      "application/vnd.jupyter.widget-view+json": {
       "model_id": "cd47ba57c82f4c249f3769dc1b9841ab",
       "version_major": 2,
       "version_minor": 0
      },
      "text/plain": [
       "Testing: |          | 0/? [00:00<?, ?it/s]"
      ]
     },
     "metadata": {},
     "output_type": "display_data"
    },
    {
     "data": {
      "text/html": [
       "<pre style=\"white-space:pre;overflow-x:auto;line-height:normal;font-family:Menlo,'DejaVu Sans Mono',consolas,'Courier New',monospace\">┏━━━━━━━━━━━━━━━━━━━━━━━━━━━┳━━━━━━━━━━━━━━━━━━━━━━━━━━━┓\n",
       "┃<span style=\"font-weight: bold\">        Test metric        </span>┃<span style=\"font-weight: bold\">       DataLoader 0        </span>┃\n",
       "┡━━━━━━━━━━━━━━━━━━━━━━━━━━━╇━━━━━━━━━━━━━━━━━━━━━━━━━━━┩\n",
       "│<span style=\"color: #008080; text-decoration-color: #008080\">       test_accuracy       </span>│<span style=\"color: #800080; text-decoration-color: #800080\">    0.9865999817848206     </span>│\n",
       "└───────────────────────────┴───────────────────────────┘\n",
       "</pre>\n"
      ],
      "text/plain": [
       "┏━━━━━━━━━━━━━━━━━━━━━━━━━━━┳━━━━━━━━━━━━━━━━━━━━━━━━━━━┓\n",
       "┃\u001b[1m \u001b[0m\u001b[1m       Test metric       \u001b[0m\u001b[1m \u001b[0m┃\u001b[1m \u001b[0m\u001b[1m      DataLoader 0       \u001b[0m\u001b[1m \u001b[0m┃\n",
       "┡━━━━━━━━━━━━━━━━━━━━━━━━━━━╇━━━━━━━━━━━━━━━━━━━━━━━━━━━┩\n",
       "│\u001b[36m \u001b[0m\u001b[36m      test_accuracy      \u001b[0m\u001b[36m \u001b[0m│\u001b[35m \u001b[0m\u001b[35m   0.9865999817848206    \u001b[0m\u001b[35m \u001b[0m│\n",
       "└───────────────────────────┴───────────────────────────┘\n"
      ]
     },
     "metadata": {},
     "output_type": "display_data"
    },
    {
     "name": "stderr",
     "output_type": "stream",
     "text": [
      "Using default `ModelCheckpoint`. Consider installing `litmodels` package to enable `LitModelCheckpoint` for automatic upload to the Lightning model registry.\n",
      "GPU available: False, used: False\n",
      "TPU available: False, using: 0 TPU cores\n",
      "HPU available: False, using: 0 HPUs\n",
      "\n",
      "  | Name              | Type               | Params | Mode \n",
      "-----------------------------------------------------------------\n",
      "0 | model             | DropoutModel       | 32.0 K | train\n",
      "1 | criterion         | CrossEntropyLoss   | 0      | train\n",
      "2 | train_scores      | MulticlassAccuracy | 0      | train\n",
      "3 | validation_scores | MulticlassAccuracy | 0      | train\n",
      "4 | test_scores       | MulticlassAccuracy | 0      | train\n",
      "-----------------------------------------------------------------\n",
      "32.0 K    Trainable params\n",
      "0         Non-trainable params\n",
      "32.0 K    Total params\n",
      "0.128     Total estimated model params size (MB)\n",
      "15        Modules in train mode\n",
      "0         Modules in eval mode\n"
     ]
    },
    {
     "name": "stdout",
     "output_type": "stream",
     "text": [
      "Dropout Probability: 0.9\n"
     ]
    },
    {
     "data": {
      "application/vnd.jupyter.widget-view+json": {
       "model_id": "7d7ef477886a41b8b8dc56202f7024b1",
       "version_major": 2,
       "version_minor": 0
      },
      "text/plain": [
       "Sanity Checking: |          | 0/? [00:00<?, ?it/s]"
      ]
     },
     "metadata": {},
     "output_type": "display_data"
    },
    {
     "data": {
      "application/vnd.jupyter.widget-view+json": {
       "model_id": "98e5d92559fc4d7eb0e7bcfc1f51e704",
       "version_major": 2,
       "version_minor": 0
      },
      "text/plain": [
       "Training: |          | 0/? [00:00<?, ?it/s]"
      ]
     },
     "metadata": {},
     "output_type": "display_data"
    },
    {
     "data": {
      "application/vnd.jupyter.widget-view+json": {
       "model_id": "9d07f869a9854c5e98db87718c6ba1e6",
       "version_major": 2,
       "version_minor": 0
      },
      "text/plain": [
       "Validation: |          | 0/? [00:00<?, ?it/s]"
      ]
     },
     "metadata": {},
     "output_type": "display_data"
    },
    {
     "data": {
      "application/vnd.jupyter.widget-view+json": {
       "model_id": "e02a776d2403487bbc95bc8c27261c5b",
       "version_major": 2,
       "version_minor": 0
      },
      "text/plain": [
       "Validation: |          | 0/? [00:00<?, ?it/s]"
      ]
     },
     "metadata": {},
     "output_type": "display_data"
    },
    {
     "data": {
      "application/vnd.jupyter.widget-view+json": {
       "model_id": "dcde88a2563c4abea850afc91eb90cae",
       "version_major": 2,
       "version_minor": 0
      },
      "text/plain": [
       "Validation: |          | 0/? [00:00<?, ?it/s]"
      ]
     },
     "metadata": {},
     "output_type": "display_data"
    },
    {
     "data": {
      "application/vnd.jupyter.widget-view+json": {
       "model_id": "d107e63a6257492a8681538f1b08066f",
       "version_major": 2,
       "version_minor": 0
      },
      "text/plain": [
       "Validation: |          | 0/? [00:00<?, ?it/s]"
      ]
     },
     "metadata": {},
     "output_type": "display_data"
    },
    {
     "data": {
      "application/vnd.jupyter.widget-view+json": {
       "model_id": "e49708cea2bf49c2aee3a1c9e3c62062",
       "version_major": 2,
       "version_minor": 0
      },
      "text/plain": [
       "Validation: |          | 0/? [00:00<?, ?it/s]"
      ]
     },
     "metadata": {},
     "output_type": "display_data"
    },
    {
     "data": {
      "application/vnd.jupyter.widget-view+json": {
       "model_id": "344003421e3f4b64b308a2aeefb4490d",
       "version_major": 2,
       "version_minor": 0
      },
      "text/plain": [
       "Validation: |          | 0/? [00:00<?, ?it/s]"
      ]
     },
     "metadata": {},
     "output_type": "display_data"
    },
    {
     "data": {
      "application/vnd.jupyter.widget-view+json": {
       "model_id": "d2a53bd12dfc4d48846c6d1cdd31afa2",
       "version_major": 2,
       "version_minor": 0
      },
      "text/plain": [
       "Validation: |          | 0/? [00:00<?, ?it/s]"
      ]
     },
     "metadata": {},
     "output_type": "display_data"
    },
    {
     "data": {
      "application/vnd.jupyter.widget-view+json": {
       "model_id": "96b426c8ee7b433da52820c4da5dbe1c",
       "version_major": 2,
       "version_minor": 0
      },
      "text/plain": [
       "Validation: |          | 0/? [00:00<?, ?it/s]"
      ]
     },
     "metadata": {},
     "output_type": "display_data"
    },
    {
     "data": {
      "application/vnd.jupyter.widget-view+json": {
       "model_id": "02c89980d0fc448e91ec19fc8512bbbf",
       "version_major": 2,
       "version_minor": 0
      },
      "text/plain": [
       "Validation: |          | 0/? [00:00<?, ?it/s]"
      ]
     },
     "metadata": {},
     "output_type": "display_data"
    },
    {
     "data": {
      "application/vnd.jupyter.widget-view+json": {
       "model_id": "bac624b19317482980dc4c66f5fc0046",
       "version_major": 2,
       "version_minor": 0
      },
      "text/plain": [
       "Validation: |          | 0/? [00:00<?, ?it/s]"
      ]
     },
     "metadata": {},
     "output_type": "display_data"
    },
    {
     "data": {
      "application/vnd.jupyter.widget-view+json": {
       "model_id": "d12e97fd98ae430ca12ac2950852f3ef",
       "version_major": 2,
       "version_minor": 0
      },
      "text/plain": [
       "Validation: |          | 0/? [00:00<?, ?it/s]"
      ]
     },
     "metadata": {},
     "output_type": "display_data"
    },
    {
     "data": {
      "application/vnd.jupyter.widget-view+json": {
       "model_id": "517bdb44e9404e0ab56856d2dfee4623",
       "version_major": 2,
       "version_minor": 0
      },
      "text/plain": [
       "Validation: |          | 0/? [00:00<?, ?it/s]"
      ]
     },
     "metadata": {},
     "output_type": "display_data"
    },
    {
     "data": {
      "application/vnd.jupyter.widget-view+json": {
       "model_id": "8646412e103c48e387924f35975c003a",
       "version_major": 2,
       "version_minor": 0
      },
      "text/plain": [
       "Validation: |          | 0/? [00:00<?, ?it/s]"
      ]
     },
     "metadata": {},
     "output_type": "display_data"
    },
    {
     "data": {
      "application/vnd.jupyter.widget-view+json": {
       "model_id": "f6925dccca004dfab41011bbac673240",
       "version_major": 2,
       "version_minor": 0
      },
      "text/plain": [
       "Validation: |          | 0/? [00:00<?, ?it/s]"
      ]
     },
     "metadata": {},
     "output_type": "display_data"
    },
    {
     "data": {
      "application/vnd.jupyter.widget-view+json": {
       "model_id": "3a6b2e1931324a20b4874247ebec0636",
       "version_major": 2,
       "version_minor": 0
      },
      "text/plain": [
       "Validation: |          | 0/? [00:00<?, ?it/s]"
      ]
     },
     "metadata": {},
     "output_type": "display_data"
    },
    {
     "data": {
      "application/vnd.jupyter.widget-view+json": {
       "model_id": "cade137f4b9845a0be825f75dfbe82a7",
       "version_major": 2,
       "version_minor": 0
      },
      "text/plain": [
       "Validation: |          | 0/? [00:00<?, ?it/s]"
      ]
     },
     "metadata": {},
     "output_type": "display_data"
    },
    {
     "data": {
      "application/vnd.jupyter.widget-view+json": {
       "model_id": "0d30e99b28f342a9958dc2af911cdad6",
       "version_major": 2,
       "version_minor": 0
      },
      "text/plain": [
       "Validation: |          | 0/? [00:00<?, ?it/s]"
      ]
     },
     "metadata": {},
     "output_type": "display_data"
    },
    {
     "data": {
      "application/vnd.jupyter.widget-view+json": {
       "model_id": "5a915f0df78f485aa40e272d028a4f0a",
       "version_major": 2,
       "version_minor": 0
      },
      "text/plain": [
       "Validation: |          | 0/? [00:00<?, ?it/s]"
      ]
     },
     "metadata": {},
     "output_type": "display_data"
    },
    {
     "data": {
      "application/vnd.jupyter.widget-view+json": {
       "model_id": "f5b1c1ff255548c8824a873727168098",
       "version_major": 2,
       "version_minor": 0
      },
      "text/plain": [
       "Validation: |          | 0/? [00:00<?, ?it/s]"
      ]
     },
     "metadata": {},
     "output_type": "display_data"
    },
    {
     "data": {
      "application/vnd.jupyter.widget-view+json": {
       "model_id": "0ecb434dcbf44a73ac918e9f9d86fa1d",
       "version_major": 2,
       "version_minor": 0
      },
      "text/plain": [
       "Validation: |          | 0/? [00:00<?, ?it/s]"
      ]
     },
     "metadata": {},
     "output_type": "display_data"
    },
    {
     "name": "stderr",
     "output_type": "stream",
     "text": [
      "`Trainer.fit` stopped: `max_epochs=20` reached.\n"
     ]
    },
    {
     "data": {
      "application/vnd.jupyter.widget-view+json": {
       "model_id": "e7a1e2e7806643dcb3a1855746be3d3f",
       "version_major": 2,
       "version_minor": 0
      },
      "text/plain": [
       "Testing: |          | 0/? [00:00<?, ?it/s]"
      ]
     },
     "metadata": {},
     "output_type": "display_data"
    },
    {
     "data": {
      "text/html": [
       "<pre style=\"white-space:pre;overflow-x:auto;line-height:normal;font-family:Menlo,'DejaVu Sans Mono',consolas,'Courier New',monospace\">┏━━━━━━━━━━━━━━━━━━━━━━━━━━━┳━━━━━━━━━━━━━━━━━━━━━━━━━━━┓\n",
       "┃<span style=\"font-weight: bold\">        Test metric        </span>┃<span style=\"font-weight: bold\">       DataLoader 0        </span>┃\n",
       "┡━━━━━━━━━━━━━━━━━━━━━━━━━━━╇━━━━━━━━━━━━━━━━━━━━━━━━━━━┩\n",
       "│<span style=\"color: #008080; text-decoration-color: #008080\">       test_accuracy       </span>│<span style=\"color: #800080; text-decoration-color: #800080\">    0.9822999835014343     </span>│\n",
       "└───────────────────────────┴───────────────────────────┘\n",
       "</pre>\n"
      ],
      "text/plain": [
       "┏━━━━━━━━━━━━━━━━━━━━━━━━━━━┳━━━━━━━━━━━━━━━━━━━━━━━━━━━┓\n",
       "┃\u001b[1m \u001b[0m\u001b[1m       Test metric       \u001b[0m\u001b[1m \u001b[0m┃\u001b[1m \u001b[0m\u001b[1m      DataLoader 0       \u001b[0m\u001b[1m \u001b[0m┃\n",
       "┡━━━━━━━━━━━━━━━━━━━━━━━━━━━╇━━━━━━━━━━━━━━━━━━━━━━━━━━━┩\n",
       "│\u001b[36m \u001b[0m\u001b[36m      test_accuracy      \u001b[0m\u001b[36m \u001b[0m│\u001b[35m \u001b[0m\u001b[35m   0.9822999835014343    \u001b[0m\u001b[35m \u001b[0m│\n",
       "└───────────────────────────┴───────────────────────────┘\n"
      ]
     },
     "metadata": {},
     "output_type": "display_data"
    }
   ],
   "source": [
    "# 🔶 Insert your code\n",
    "# HINT: \n",
    "# re-create a new model class like 'class RawModel(torch.nn.Module)'. \n",
    "# add Dropout layers.\n",
    "# then run trainer.fit(...) and trainer.test(...) with this new model architecture.\n",
    "class DropoutModel(torch.nn.Module):\n",
    "    def __init__(self, dp=0.5):\n",
    "        super().__init__()\n",
    "        self.dp = dp\n",
    "        \n",
    "        self.model = nn.Sequential(\n",
    "            nn.Conv2d(in_channels = 1, out_channels = 4, kernel_size = 3, padding = 1),\n",
    "            nn.ReLU(),\n",
    "            nn.Conv2d(in_channels = 4, out_channels = 8, kernel_size = 3, padding = 1),\n",
    "            nn.ReLU(),\n",
    "            nn.Conv2d(in_channels = 8, out_channels = 4, kernel_size = 3, padding = 1),\n",
    "            nn.ReLU(),\n",
    "            nn.Dropout(p=self.dp),\n",
    "            nn.Flatten(),\n",
    "            nn.Linear(in_features = 4 * 28 * 28, out_features = 10),\n",
    "        )\n",
    "        self.model.apply(self.initialize_weights)\n",
    "        \n",
    "    @staticmethod\n",
    "    def initialize_weights(module: torch.nn.Module) -> None:\n",
    "        if isinstance(module, (nn.Conv2d, nn.Linear)):\n",
    "            nn.init.xavier_uniform_(module.weight)\n",
    "    \n",
    "    def forward(self, images: torch.Tensor) -> torch.Tensor:\n",
    "        \"\"\"\n",
    "        Input: torch.Tensor | dtype=torch.float | shape=[B, C, H, W]\n",
    "        Output: torch.Tensor | dtype=torch.float | shape=[B, num_class]\n",
    "        \"\"\"\n",
    "        return self.model(images)\n",
    "\n",
    "model = DropoutModel()\n",
    "with torch.no_grad():  # DO NOT REMOVE THIS LINES BELOW\n",
    "    sample_image = torch.rand(size=(4, 1, 28, 28))\n",
    "    output = model(sample_image)\n",
    "    print(output.shape, output.dtype)  \n",
    "    print(output)\n",
    "\n",
    "class MNISTExperimentDP(pl.LightningModule):\n",
    "    def __init__(self, learning_rate: float = 1e-3, dp = 0.5):\n",
    "        super().__init__()\n",
    "        self.dp = dp\n",
    "        self.model = DropoutModel(self.dp)\n",
    "        self.learning_rate = learning_rate\n",
    "        self.criterion = nn.CrossEntropyLoss()\n",
    "        self.train_scores = Accuracy(task = \"multiclass\", num_classes = 10)   # 🔶 TODO: Insert your code\n",
    "        # HINT: define the metric used in this classification task.\n",
    "        self.validation_scores = Accuracy(task = \"multiclass\", num_classes = 10)  # 🔶 TODO: Insert your code\n",
    "        self.test_scores = Accuracy(task = \"multiclass\", num_classes = 10)  # 🔶 TODO: Insert your code\n",
    "\n",
    "    def forward(self, x: torch.Tensor) -> torch.Tensor:\n",
    "        return self.model(x)\n",
    "\n",
    "    def training_step(self, batch, batch_idx) -> torch.Tensor:\n",
    "        x, y = batch\n",
    "        y_hat = self(x)\n",
    "        \n",
    "        # 🔶 TODO: Insert your code: Loss Calculation\n",
    "        loss = self.criterion(y_hat, y)\n",
    "        # 🔶 TODO: Insert your code: Score Calculation\n",
    "        acc = self.train_scores(y_hat, y)\n",
    "        self.log('train_loss', loss)\n",
    "        self.log('train_accuracy', acc)\n",
    "        return loss\n",
    "    \n",
    "    def validation_step(self, batch, batch_idx) -> None:\n",
    "        # 🔶 TODO: Insert your code\n",
    "        x, y = batch\n",
    "        y_hat = self(x)\n",
    "        acc = self.validation_scores(y_hat, y)\n",
    "        self.log('validation_accuracy', acc)\n",
    "    \n",
    "    def test_step(self, batch, batch_idx) -> None:\n",
    "        # 🔶 TODO: Insert your code\n",
    "        x, y = batch\n",
    "        y_hat = self(x)\n",
    "        acc = self.test_scores(y_hat, y)\n",
    "        self.log('test_accuracy', acc)\n",
    "\n",
    "    def configure_optimizers(self):\n",
    "        optimizer = torch.optim.Adam(self.parameters(), lr = self.learning_rate)  # 🔶 TODO: Insert your code \n",
    "        return optimizer\n",
    "\n",
    "for val in [0.1, 0.5, 0.9]:\n",
    "    print(f\"Dropout Probability: {val}\")\n",
    "    model = DropoutModel(val)\n",
    "    experiment = MNISTExperimentDP()\n",
    "    \n",
    "    trainer_dp = pl.Trainer(\n",
    "        max_epochs=20,\n",
    "        accelerator='auto',\n",
    "        logger=[\n",
    "            CSVLogger(EXPERIMENTS_PATH, name='MNIST_Experiment'),\n",
    "            TensorBoardLogger(EXPERIMENTS_PATH, name='MNIST_Experiment')\n",
    "        ],\n",
    "        callbacks=[TQDMProgressBar(refresh_rate=10)]\n",
    "    )\n",
    "    \n",
    "    experiment.model = model\n",
    "    trainer_dp.fit(experiment, datamodule=data_module)\n",
    "    trainer_dp.test(experiment, datamodule=data_module)\n"
   ]
  },
  {
   "cell_type": "code",
   "execution_count": 43,
   "id": "17c9908d",
   "metadata": {},
   "outputs": [
    {
     "data": {
      "image/png": "[encoded data removed]",
      "text/plain": [
       "<Figure size 600x400 with 1 Axes>"
      ]
     },
     "metadata": {},
     "output_type": "display_data"
    }
   ],
   "source": [
    "df = pd.read_csv(\"/Users/merterol/Desktop/iMac27_github/uzh/Computational Science/Sem 4/PHY371/MNIST_exp/MNIST_Experiment/version_2/metrics.csv\")\n",
    "\n",
    "df = df.dropna(subset=[\"train_loss\"])\n",
    "\n",
    "loss_per_epoch = df.groupby(\"epoch\")[\"train_loss\"].mean()\n",
    "\n",
    "plt.figure(figsize=(6, 4))\n",
    "plt.plot(loss_per_epoch.index, loss_per_epoch.values, marker='o', color='red')\n",
    "plt.title(\"Train Loss vs Epoch (dp = 0.1)\")\n",
    "plt.xlabel(\"Epoch\")\n",
    "plt.ylabel(\"Train Loss\")\n",
    "plt.grid(True)\n",
    "plt.tight_layout()\n",
    "plt.show()\n"
   ]
  },
  {
   "cell_type": "code",
   "execution_count": 44,
   "id": "24765667",
   "metadata": {},
   "outputs": [
    {
     "data": {
      "image/png": "[encoded data removed]",
      "text/plain": [
       "<Figure size 600x400 with 1 Axes>"
      ]
     },
     "metadata": {},
     "output_type": "display_data"
    }
   ],
   "source": [
    "df = pd.read_csv(\"/Users/merterol/Desktop/iMac27_github/uzh/Computational Science/Sem 4/PHY371/MNIST_exp/MNIST_Experiment/version_4/metrics.csv\")\n",
    "\n",
    "df = df.dropna(subset=[\"train_loss\"])\n",
    "\n",
    "loss_per_epoch = df.groupby(\"epoch\")[\"train_loss\"].mean()\n",
    "\n",
    "plt.figure(figsize=(6, 4))\n",
    "plt.plot(loss_per_epoch.index, loss_per_epoch.values, marker='o', color='red')\n",
    "plt.title(\"Train Loss vs Epoch (dp = 0.5)\")\n",
    "plt.xlabel(\"Epoch\")\n",
    "plt.ylabel(\"Train Loss\")\n",
    "plt.grid(True)\n",
    "plt.tight_layout()\n",
    "plt.show()"
   ]
  },
  {
   "cell_type": "code",
   "execution_count": 45,
   "id": "b2af2bc2",
   "metadata": {},
   "outputs": [
    {
     "data": {
      "image/png": "[encoded data removed]",
      "text/plain": [
       "<Figure size 600x400 with 1 Axes>"
      ]
     },
     "metadata": {},
     "output_type": "display_data"
    }
   ],
   "source": [
    "df = pd.read_csv(\"/Users/merterol/Desktop/iMac27_github/uzh/Computational Science/Sem 4/PHY371/MNIST_exp/MNIST_Experiment/version_6/metrics.csv\")\n",
    "\n",
    "df = df.dropna(subset=[\"train_loss\"])\n",
    "\n",
    "loss_per_epoch = df.groupby(\"epoch\")[\"train_loss\"].mean()\n",
    "\n",
    "plt.figure(figsize=(6, 4))\n",
    "plt.plot(loss_per_epoch.index, loss_per_epoch.values, marker='o', color='red')\n",
    "plt.title(\"Train Loss vs Epoch (dp = 0.9)\")\n",
    "plt.xlabel(\"Epoch\")\n",
    "plt.ylabel(\"Train Loss\")\n",
    "plt.grid(True)\n",
    "plt.tight_layout()\n",
    "plt.show()"
   ]
  },
  {
   "cell_type": "markdown",
   "metadata": {},
   "source": [
    "- Re-design the model with `BatchNorm` layer in-between the convolutional layers and re-train the model."
   ]
  },
  {
   "cell_type": "code",
   "execution_count": null,
   "metadata": {
    "collapsed": true
   },
   "outputs": [],
   "source": [
    "# 🔶 Insert your code\n",
    "\n",
    "class BatchNormModel(nn.Module):\n",
    "    def __init__(self):\n",
    "        super().__init__()\n",
    "        \n",
    "        self.model = nn.Sequential(\n",
    "            nn.Conv2d(in_channels=1, out_channels=4, kernel_size=3, padding=1),\n",
    "            nn.BatchNorm2d(4),\n",
    "            nn.ReLU(),\n",
    "            \n",
    "            nn.Conv2d(in_channels=4, out_channels=8, kernel_size=3, padding=1),\n",
    "            nn.BatchNorm2d(8),\n",
    "            nn.ReLU(),\n",
    "            \n",
    "            nn.Conv2d(in_channels=8, out_channels=4, kernel_size=3, padding=1),\n",
    "            nn.BatchNorm2d(4),\n",
    "            nn.ReLU(),\n",
    "            \n",
    "            nn.Flatten(),\n",
    "            nn.Linear(in_features=4 * 28 * 28, out_features=10),\n",
    "        )\n",
    "        self.model.apply(self.initialize_weights)\n",
    "        \n",
    "    @staticmethod\n",
    "    def initialize_weights(module: nn.Module) -> None:\n",
    "        if isinstance(module, (nn.Conv2d, nn.Linear)):\n",
    "            nn.init.xavier_uniform_(module.weight)\n",
    "    \n",
    "    def forward(self, images: torch.Tensor) -> torch.Tensor:\n",
    "        return self.model(images)\n",
    "\n",
    "class MNISTExperimentBatchNormOnly(pl.LightningModule):\n",
    "    def __init__(self, learning_rate=1e-3):\n",
    "        super().__init__()\n",
    "        self.model = BatchNormModel()\n",
    "        self.learning_rate = learning_rate\n",
    "        self.criterion = nn.CrossEntropyLoss()\n",
    "        self.train_scores = Accuracy(task=\"multiclass\", num_classes=10)\n",
    "        self.validation_scores = Accuracy(task=\"multiclass\", num_classes=10)\n",
    "        self.test_scores = Accuracy(task=\"multiclass\", num_classes=10)\n",
    "\n",
    "    def forward(self, x: torch.Tensor) -> torch.Tensor:\n",
    "        return self.model(x)\n",
    "\n",
    "    def training_step(self, batch, batch_idx) -> torch.Tensor:\n",
    "        x, y = batch\n",
    "        y_hat = self(x)\n",
    "        loss = self.criterion(y_hat, y)\n",
    "        acc = self.train_scores(y_hat, y)\n",
    "        self.log('train_loss', loss)\n",
    "        self.log('train_accuracy', acc)\n",
    "        return loss\n",
    "    \n",
    "    def validation_step(self, batch, batch_idx) -> None:\n",
    "        x, y = batch\n",
    "        y_hat = self(x)\n",
    "        acc = self.validation_scores(y_hat, y)\n",
    "        self.log('validation_accuracy', acc)\n",
    "    \n",
    "    def test_step(self, batch, batch_idx) -> None:\n",
    "        x, y = batch\n",
    "        y_hat = self(x)\n",
    "        acc = self.test_scores(y_hat, y)\n",
    "        self.log('test_accuracy', acc)\n",
    "\n",
    "    def configure_optimizers(self):\n",
    "        optimizer = torch.optim.Adam(self.parameters(), lr=self.learning_rate)\n",
    "        return optimizer\n",
    "\n",
    "data_module = MNISTDataModule()\n",
    "\n",
    "print(\"Training with BatchNorm Only\")\n",
    "model = BatchNormModel()\n",
    "experiment = MNISTExperimentBatchNormOnly()\n",
    "\n",
    "trainer_bn_only = pl.Trainer(\n",
    "    max_epochs=20,\n",
    "    accelerator='auto',\n",
    "    logger=[\n",
    "        CSVLogger(EXPERIMENTS_PATH, name='MNIST_Experiment_BatchNorm_Only'),\n",
    "        TensorBoardLogger(EXPERIMENTS_PATH, name='MNIST_Experiment_BatchNorm_Only')\n",
    "    ],\n",
    "    callbacks=[TQDMProgressBar(refresh_rate=10)]\n",
    ")\n",
    "\n",
    "experiment.model = model\n",
    "trainer_bn_only.fit(experiment, datamodule=data_module)\n",
    "trainer_bn_only.test(experiment, datamodule=data_module)"
   ]
  },
  {
   "cell_type": "markdown",
   "metadata": {},
   "source": [
    "## 5) Conclusion (3 Point)\n",
    "Comment on your findings:\n",
    "- Which method is better? Why?"
   ]
  },
  {
   "cell_type": "markdown",
   "metadata": {},
   "source": [
    "ANSWER: ... # 🔶 TODO"
   ]
  },
  {
   "cell_type": "markdown",
   "metadata": {},
   "source": [
    "- Are the results statistically significant? If not, how can we get significant ones?"
   ]
  },
  {
   "cell_type": "markdown",
   "metadata": {},
   "source": [
    "ANSWER: ... # 🔶 TODO"
   ]
  },
  {
   "cell_type": "markdown",
   "metadata": {},
   "source": [
    "* Comment on different normalization techniques: `BatchNorm`, `LayerNorm` , `InstanceNorm` and `GroupNorm`. Explain the purpose of usage of them in general (for the RGB datasets, etc)."
   ]
  },
  {
   "cell_type": "markdown",
   "id": "5c85fc87",
   "metadata": {},
   "source": [
    "ANSWER:\n",
    "- Batch Norm\n",
    "  - Normalizes activations across a mini batch (lovers internal covariate shift)\n",
    "  - Computes mean and variance for each feature across the batch, then scalees and shift the normalized output\n",
    "  - Common in CNNs (captures spatial dependencies well and speeds up convergence)\n",
    "  - Worse performance with small batch sizes\n",
    "- Layer Norm\n",
    "  - Normalize across the features within each training sample (effective for RNNs and NLP tasks)\n",
    "  - Computes statistics independently for eah sample (considers all features in a layer)\n",
    "  - Used often in transformers and attention-based models where input length varies alot\n",
    "  - Less effective in CNNs\n",
    "- Instance Norm\n",
    "  - Used in syle transfer and image generation tasks (norms eachg feature map independently for each sample)\n",
    "  - Like LayerNorm but without considering the entire batch\n",
    "  - Ideal for GANs\n",
    "  - Can reduce model expressive ess if used inappropiately\n",
    "- Group Norm\n",
    "  - Balances BathNorm and LayerNorm (groups channels to norm)\n",
    "  - Divides channels into groups and normalizes each group seperately\n",
    "  - Effictive in 3D vision tasks, object detection (smaller batch sizes)\n",
    "  - Requires careful tuning fo the number of groups for optimal performance"
   ]
  },
  {
   "cell_type": "markdown",
   "id": "d03bd514",
   "metadata": {},
   "source": [
    "* Explain the operations of the `Dropout` layer in training and testing phase. Is there any difference, or are they always the same?"
   ]
  },
  {
   "cell_type": "markdown",
   "id": "8927b0de",
   "metadata": {},
   "source": [
    "ANSWER:\n",
    "- Training:\n",
    "  - Dropout randomly sets a fraction p of the neurons to 0 at each forward pass\n",
    "  - Tis is done to prevent overfitting by reducing co-adaptation between neursons\n",
    "  - Remaining neurons are scaled up to maintain the expected output magnitude\n",
    "- Testing\n",
    "  - Dropout is disabled\n",
    "  - Scaling i snot applied"
   ]
  },
  {
   "cell_type": "markdown",
   "id": "54d7e11c",
   "metadata": {},
   "source": [
    "* Explain the difference between `AdamW` and `Adam` optimizers in a few sentences.\n",
    "\n",
    "Hint: https://arxiv.org/abs/1711.05101 for more information."
   ]
  },
  {
   "cell_type": "markdown",
   "id": "455c6d48",
   "metadata": {},
   "source": [
    "ANSWER:\n",
    "- Adam:\n",
    "  - Applies weight decay as part of the gradient update\n",
    "  - Weight decay acts like an l2 penalty (affects both direction and magnitude of gradient)\n",
    "  - Can lead to suboptimal convergence and maybe overfitting\n",
    "- AdamW\n",
    "  - Seperates weight decay from gradient update (apply directly to weights after optim step)\n",
    "  - True weight decay (affects only the magnitude)\n",
    "  - Results in better generalization and more robust training"
   ]
  },
  {
   "cell_type": "markdown",
   "id": "7a5e1247",
   "metadata": {},
   "source": [
    "* Compare the Kaiming (He) and Xavier (Glorot) Initialization techniques and explain their differences in a few sentences. \n",
    "\n",
    "Hint: You can find more information from their original papers."
   ]
  },
  {
   "cell_type": "markdown",
   "id": "37dac01b",
   "metadata": {},
   "source": [
    "ANSWER:\n",
    "- Kaiming:\n",
    "  - Designed for deep nets with ReLU or similar functions\n",
    "  - Helps mitigate the vanishing gradient problem by keeping variance high\n",
    "- Xavier:\n",
    "  - Designed for networks with symmetric, linear, or tanh activation\n",
    "  - Balanced starting point for forward and backward signal flow (but might struggle with very deep nets using ReLU)"
   ]
  }
 ],
 "metadata": {
  "anaconda-cloud": {},
  "kernelspec": {
   "display_name": "Python 3",
   "language": "python",
   "name": "python3"
  },
  "language_info": {
   "codemirror_mode": {
    "name": "ipython",
    "version": 3
   },
   "file_extension": ".py",
   "mimetype": "text/x-python",
   "name": "python",
   "nbconvert_exporter": "python",
   "pygments_lexer": "ipython3",
   "version": "3.12.3"
  }
 },
 "nbformat": 4,
 "nbformat_minor": 5
}
