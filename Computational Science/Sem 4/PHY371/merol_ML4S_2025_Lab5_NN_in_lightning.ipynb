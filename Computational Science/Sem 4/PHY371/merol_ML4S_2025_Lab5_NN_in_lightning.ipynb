{
 "cells": [
  {
   "cell_type": "markdown",
   "metadata": {},
   "source": [
    "# Deep Learning with Lightning\n",
    "\n",
    "This lab is design for investigating the basic architecture and parameter searching techniques in deep learning literature. We use a fundamental dataset, MNIST, with the help of PyTorch Lightning and design our model to handle image classification task.\n",
    "\n",
    "#### Instructions\n",
    "\n",
    "* You can achieve up to **20 points** for this graded notebook. The points for each task are clearly declared in the task descriptions. Fill in the missing code fragments and answer questions whenever you see this symbol: &#x1F536;. Please do not change any of the provided code. Notice that one symbol &#x1F536; does NOT mean one-line code: sometimes it can require several code of lines.\n",
    "\n",
    "* Team work is not allowed! Everybody implements his/her own code. Discussing issues with others is fine, sharing code with others is not. \n",
    "\n",
    "* If you use any code fragments found on the internet, make sure you reference them properly.\n",
    "\n",
    "* The responsible TA for this lab are **Yuchang** and **Sara**, if you have further questions please reach out to them directly: **yuchang.jiang@uzh.ch** and **sara.zoccheddu@uzh.ch**.\n",
    "\n",
    "* Since the lab sessions are specifically designed to answer your questions please make sure to attend those and only reach out if further questions pop up later.\n",
    "\n",
    "* Hand in your solution via OLAT until <span style=\"color:#4ea373\">**15.05.2025**</span>. Make sure that all cells are execute as we will not rerun any code. Any cell that is not executed will automatically result in 0 points for this task. \n",
    "</div>\n",
    "\n",
    "#### Suggestions\n",
    "\n",
    "Please install pytorch lightning packages via conda or pip before starting the lab session. You can use the tutorials of [Pytorch Lightning](https://lightning.ai/docs/pytorch/stable/notebooks/lightning_examples/mnist-hello-world.html).\n",
    "\n",
    "Please also check: [Tensorboard](https://pytorch.org/tutorials/recipes/recipes/tensorboard_with_pytorch.html)\n",
    "\n",
    "For installing lightning: [Link](https://lightning.ai/pytorch-lightning)\n",
    "\n",
    "Please keep in mind that this is a valuable opportunity to develop self-learning skills. When working with a new package like PyTorch Lightning, always refer to the official documentation or search for solutions online when encountering errors, rather than immediately asking a friend or TA. This habit will greatly enhance your ability to troubleshoot and learn independently."
   ]
  },
  {
   "cell_type": "markdown",
   "metadata": {},
   "source": [
    "#### Task Overview\n",
    "\n",
    "------------------------------------------------------------------------------------------\n",
    "\n",
    "1. **Datasets** <span style=\"color:#4ea373\">**[3pt]**</span>\n",
    "2. **NN Architectures** <span style=\"color:#4ea373\">**[5pt]**</span>\n",
    "2. **Experiments** <span style=\"color:#4ea373\">**[5pt]**</span>\n",
    "2. **Results** <span style=\"color:#4ea373\">**[4pt]**</span>\n",
    "2. **Conclusions** <span style=\"color:#4ea373\">**[3pt]**</span>"
   ]
  },
  {
   "cell_type": "code",
   "execution_count": 3,
   "metadata": {
    "collapsed": true,
    "tags": []
   },
   "outputs": [
    {
     "name": "stderr",
     "output_type": "stream",
     "text": [
      "Seed set to 42\n"
     ]
    }
   ],
   "source": [
    "# Basic Machine Learning Modules\n",
    "import pandas\n",
    "import numpy\n",
    "import sklearn\n",
    "\n",
    "# Deep Learning Modules\n",
    "import torch\n",
    "import lightning.pytorch as pl\n",
    "\n",
    "# Visualization Modules\n",
    "import matplotlib.pyplot as plt\n",
    "\n",
    "# Others\n",
    "from torchvision.datasets import MNIST\n",
    "from torchvision import transforms\n",
    "from torchmetrics import Accuracy\n",
    "from lightning.pytorch.loggers import CSVLogger, TensorBoardLogger\n",
    "from lightning.pytorch.callbacks.early_stopping import EarlyStopping\n",
    "from lightning.pytorch.callbacks import TQDMProgressBar\n",
    "import warnings\n",
    "warnings.filterwarnings(\"ignore\")  # You can comment out this line while debuging, not in submission!\n",
    "\n",
    "numpy.random.seed(42)\n",
    "torch.set_float32_matmul_precision('medium')\n",
    "torch.manual_seed(42)\n",
    "pl.seed_everything(42, workers=True)\n",
    "\n",
    "DATASET_PATH = '/Users/merterol/Desktop/iMac27_github/uzh/Computational Science/Sem 4/PHY371/MNIST'  # You can change them\n",
    "EXPERIMENTS_PATH = '/Users/merterol/Desktop/iMac27_github/uzh/Computational Science/Sem 4/PHY371/MNIST_exp'  # You can change them"
   ]
  },
  {
   "cell_type": "markdown",
   "metadata": {},
   "source": [
    "# 1) Dataset (3 Points)"
   ]
  },
  {
   "cell_type": "markdown",
   "metadata": {},
   "source": [
    "- Design a DataModule for MNIST.\n",
    "- Use 80/20 % split for train/val sets."
   ]
  },
  {
   "cell_type": "code",
   "execution_count": 4,
   "metadata": {
    "collapsed": true
   },
   "outputs": [
    {
     "name": "stdout",
     "output_type": "stream",
     "text": [
      "[tensor([[[[-0.4242, -0.4242, -0.4242,  ..., -0.4242, -0.4242, -0.4242],\n",
      "          [-0.4242, -0.4242, -0.4242,  ..., -0.4242, -0.4242, -0.4242],\n",
      "          [-0.4242, -0.4242, -0.4242,  ..., -0.4242, -0.4242, -0.4242],\n",
      "          ...,\n",
      "          [-0.4242, -0.4242, -0.4242,  ..., -0.4242, -0.4242, -0.4242],\n",
      "          [-0.4242, -0.4242, -0.4242,  ..., -0.4242, -0.4242, -0.4242],\n",
      "          [-0.4242, -0.4242, -0.4242,  ..., -0.4242, -0.4242, -0.4242]]],\n",
      "\n",
      "\n",
      "        [[[-0.4242, -0.4242, -0.4242,  ..., -0.4242, -0.4242, -0.4242],\n",
      "          [-0.4242, -0.4242, -0.4242,  ..., -0.4242, -0.4242, -0.4242],\n",
      "          [-0.4242, -0.4242, -0.4242,  ..., -0.4242, -0.4242, -0.4242],\n",
      "          ...,\n",
      "          [-0.4242, -0.4242, -0.4242,  ..., -0.4242, -0.4242, -0.4242],\n",
      "          [-0.4242, -0.4242, -0.4242,  ..., -0.4242, -0.4242, -0.4242],\n",
      "          [-0.4242, -0.4242, -0.4242,  ..., -0.4242, -0.4242, -0.4242]]],\n",
      "\n",
      "\n",
      "        [[[-0.4242, -0.4242, -0.4242,  ..., -0.4242, -0.4242, -0.4242],\n",
      "          [-0.4242, -0.4242, -0.4242,  ..., -0.4242, -0.4242, -0.4242],\n",
      "          [-0.4242, -0.4242, -0.4242,  ..., -0.4242, -0.4242, -0.4242],\n",
      "          ...,\n",
      "          [-0.4242, -0.4242, -0.4242,  ..., -0.4242, -0.4242, -0.4242],\n",
      "          [-0.4242, -0.4242, -0.4242,  ..., -0.4242, -0.4242, -0.4242],\n",
      "          [-0.4242, -0.4242, -0.4242,  ..., -0.4242, -0.4242, -0.4242]]],\n",
      "\n",
      "\n",
      "        ...,\n",
      "\n",
      "\n",
      "        [[[-0.4242, -0.4242, -0.4242,  ..., -0.4242, -0.4242, -0.4242],\n",
      "          [-0.4242, -0.4242, -0.4242,  ..., -0.4242, -0.4242, -0.4242],\n",
      "          [-0.4242, -0.4242, -0.4242,  ..., -0.4242, -0.4242, -0.4242],\n",
      "          ...,\n",
      "          [-0.4242, -0.4242, -0.4242,  ..., -0.4242, -0.4242, -0.4242],\n",
      "          [-0.4242, -0.4242, -0.4242,  ..., -0.4242, -0.4242, -0.4242],\n",
      "          [-0.4242, -0.4242, -0.4242,  ..., -0.4242, -0.4242, -0.4242]]],\n",
      "\n",
      "\n",
      "        [[[-0.4242, -0.4242, -0.4242,  ..., -0.4242, -0.4242, -0.4242],\n",
      "          [-0.4242, -0.4242, -0.4242,  ..., -0.4242, -0.4242, -0.4242],\n",
      "          [-0.4242, -0.4242, -0.4242,  ..., -0.4242, -0.4242, -0.4242],\n",
      "          ...,\n",
      "          [-0.4242, -0.4242, -0.4242,  ..., -0.4242, -0.4242, -0.4242],\n",
      "          [-0.4242, -0.4242, -0.4242,  ..., -0.4242, -0.4242, -0.4242],\n",
      "          [-0.4242, -0.4242, -0.4242,  ..., -0.4242, -0.4242, -0.4242]]],\n",
      "\n",
      "\n",
      "        [[[-0.4242, -0.4242, -0.4242,  ..., -0.4242, -0.4242, -0.4242],\n",
      "          [-0.4242, -0.4242, -0.4242,  ..., -0.4242, -0.4242, -0.4242],\n",
      "          [-0.4242, -0.4242, -0.4242,  ..., -0.4242, -0.4242, -0.4242],\n",
      "          ...,\n",
      "          [-0.4242, -0.4242, -0.4242,  ..., -0.4242, -0.4242, -0.4242],\n",
      "          [-0.4242, -0.4242, -0.4242,  ..., -0.4242, -0.4242, -0.4242],\n",
      "          [-0.4242, -0.4242, -0.4242,  ..., -0.4242, -0.4242, -0.4242]]]]), tensor([5, 8, 4, 4, 4, 0, 3, 9, 1, 3, 6, 2, 1, 3, 5, 7, 4, 6, 0, 4, 8, 4, 0, 4,\n",
      "        3, 3, 4, 3, 2, 4, 2, 6, 0, 2, 8, 9, 9, 6, 8, 1, 3, 1, 8, 1, 3, 2, 9, 9,\n",
      "        5, 8, 3, 0, 5, 7, 1, 1, 5, 7, 5, 6, 1, 3, 1, 4])]\n"
     ]
    }
   ],
   "source": [
    "class MNISTDataModule(pl.LightningDataModule):\n",
    "    def __init__(self, data_folder: str = DATASET_PATH, batch_size: int = 64, num_cpu: int = 1):\n",
    "        super().__init__()\n",
    "        self.path = data_folder\n",
    "        self.batch_size = batch_size\n",
    "        self.num_cpu = num_cpu\n",
    "        self.transform = transforms.Compose([\n",
    "            transforms.ToTensor(), \n",
    "            transforms.Normalize((0.1307,), (0.3081,))\n",
    "        ])\n",
    "    \n",
    "    def prepare_data(self) -> None:\n",
    "        # 🔶 TODO: Download MNIST Data in self.path\n",
    "        MNIST(root = self.path, train=True, download=True)\n",
    "        MNIST(root = self.path, train=False, download=True)\n",
    "\n",
    "    \n",
    "    def setup(self, stage: str = 'fit') -> None:\n",
    "        # 🔶 TODO: Insert your code \n",
    "        # HINT: how to split the whole dataset into train, val sets? \n",
    "        # and how should those sets be used in different stages?\n",
    "        \n",
    "        if stage in ['fit', 'tune']:\n",
    "            full_train = MNIST(root=self.path, train=True, transform=self.transform)\n",
    "            train_size = int(0.8 * len(full_train))\n",
    "            val_size = len(full_train) - train_size\n",
    "            self.train_dataset, self.val_dataset = torch.utils.data.random_split(full_train, [train_size, val_size])\n",
    "        \n",
    "        if stage in ['fit', 'tune', 'validate']:\n",
    "            if not hasattr(self, 'val_dataset'):\n",
    "                full_train = MNIST(root=self.path, train=True, transform=self.transform)\n",
    "                train_size = int(0.8 * len(full_train))\n",
    "                val_size = len(full_train) - train_size\n",
    "                _, self.val_dataset = torch.utils.data.random_split(full_train, [train_size, val_size])\n",
    "        \n",
    "        elif stage in ['test', 'predict']:\n",
    "            self.test_dataset = MNIST(root = self.path, train = False, transform = self.transform)  # 🔶 TODO: Insert your code \n",
    "        \n",
    "        else:\n",
    "            raise NotImplementedError('Unknown Stage: {}'.format(stage))\n",
    "            \n",
    "    def train_dataloader(self) -> torch.utils.data.DataLoader:\n",
    "        return torch.utils.data.DataLoader(\n",
    "            batch_size=self.batch_size, num_workers=self.num_cpu,  # DO NOT CHANGE IN VAL/TEST LOADERS\n",
    "            dataset=self.train_dataset, shuffle=True,  # Could be changed in val/test loaders\n",
    "        )\n",
    "    def val_dataloader(self) -> torch.utils.data.DataLoader:\n",
    "        # 🔶 TODO: Insert your code\n",
    "        # HINT: check docs of 'torch.utils.data.DataLoader'.\n",
    "        return torch.utils.data.DataLoader(\n",
    "            dataset = self.val_dataset,\n",
    "            batch_size = self.batch_size,\n",
    "            num_workers = self.num_cpu,\n",
    "            shuffle = False,\n",
    "        )\n",
    "    \n",
    "    def test_dataloader(self) -> torch.utils.data.DataLoader:\n",
    "        # 🔶 TODO: Insert your code\n",
    "        # HINT: what's the difference between 'val_dataloader' and 'test_dataloader'?\n",
    "        return torch.utils.data.DataLoader(\n",
    "            dataset = self.test_dataset,\n",
    "            batch_size = self.batch_size,\n",
    "            num_workers = self.num_cpu,\n",
    "            shuffle = False,\n",
    "        )\n",
    "        \n",
    "    def predict_dataloader(self) -> torch.utils.data.DataLoader:\n",
    "        return self.test_dataloader()\n",
    "\n",
    "data_module = MNISTDataModule()\n",
    "data_module.prepare_data()\n",
    "data_module.setup('fit')\n",
    "dl = data_module.train_dataloader()\n",
    "print(next(dl.__iter__()))  # DO NOT CHANGE | will be used for checking"
   ]
  },
  {
   "cell_type": "code",
   "execution_count": 5,
   "metadata": {
    "collapsed": true
   },
   "outputs": [
    {
     "name": "stdout",
     "output_type": "stream",
     "text": [
      "Shape of Images: [B x C x H x W] =  torch.Size([64, 1, 28, 28])\n",
      "Shape of Labels: [B] =  torch.Size([64])\n"
     ]
    }
   ],
   "source": [
    "# Do not change! Only for checking.\n",
    "print('Shape of Images: [B x C x H x W] = ', next(dl.__iter__())[0].shape)\n",
    "print('Shape of Labels: [B] = ', next(dl.__iter__())[1].shape)"
   ]
  },
  {
   "cell_type": "markdown",
   "metadata": {},
   "source": [
    "## 2) Neural Network Architecture (5 Points)"
   ]
  },
  {
   "cell_type": "markdown",
   "metadata": {},
   "source": [
    "- Design an model with 3 Convolutional layers and 1 fully-connected layer, in this order:\n",
    "    - Convolution: Kernel size = 3x3, padding = 'same', number of filters = 4\n",
    "    - Convolution: Kernel size = 3x3, padding = 'same', number of filters = 8\n",
    "    - Convolution: Kernel size = 3x3, padding = 'same', number of filters = 4\n",
    "    - Linear: No Bias, num_class = 10 in MNIST Dataset\n",
    "- Use rectified linear unit (ReLU) for activation function (when necessary). \n",
    "- Initialize all the weights with `xavier_uniform`."
   ]
  },
  {
   "cell_type": "code",
   "execution_count": 6,
   "metadata": {
    "collapsed": true
   },
   "outputs": [
    {
     "name": "stdout",
     "output_type": "stream",
     "text": [
      "torch.Size([4, 10]) torch.float32\n",
      "tensor([[-1.3407,  0.6474,  1.3574,  0.7361,  1.8476, -0.3699, -0.1215, -0.0558,\n",
      "         -0.7714, -0.3651],\n",
      "        [-1.1083,  0.7181,  1.3379,  0.8089,  2.0845, -0.8070,  0.0117,  0.3289,\n",
      "         -0.7864, -0.8928],\n",
      "        [-1.5244,  0.4468,  1.2048,  0.9522,  1.9017, -0.7932,  0.0053,  0.1596,\n",
      "         -0.7596, -0.6852],\n",
      "        [-1.5235,  0.5117,  0.9190,  0.7907,  2.2066, -0.6643, -0.2235,  0.2211,\n",
      "         -0.5628, -0.6289]])\n"
     ]
    }
   ],
   "source": [
    "import torch\n",
    "import torch.nn as nn\n",
    "import torch.nn.functional as F\n",
    "\n",
    "class RawModel(torch.nn.Module):\n",
    "    def __init__(self):\n",
    "        super().__init__()\n",
    "        # 🔶 TODO: Insert your code\n",
    "        # HINT: define model layers based on the given model design (Conv2d...)\n",
    "        \n",
    "        self.model = nn.Sequential(\n",
    "            nn.Conv2d(in_channels = 1, out_channels = 4, kernel_size = 3, padding = 1),\n",
    "            nn.ReLU(),\n",
    "            nn.Conv2d(in_channels = 4, out_channels = 8, kernel_size = 3, padding = 1),\n",
    "            nn.ReLU(),\n",
    "            nn.Conv2d(in_channels = 8, out_channels = 4, kernel_size = 3, padding = 1),\n",
    "            nn.ReLU(),\n",
    "            nn.Flatten(),\n",
    "            nn.Linear(in_features = 4 * 28 * 28, out_features = 10),\n",
    "        )\n",
    "        \n",
    "        self.model.apply(self.initialize_weights)\n",
    "    \n",
    "    @staticmethod\n",
    "    def initialize_weights(module: torch.nn.Module) -> None:\n",
    "        # 🔶 TODO: Insert your code\n",
    "        if isinstance(module, (nn.Conv2d, nn.Linear)):\n",
    "            nn.init.xavier_uniform_(module.weight)\n",
    "        \n",
    "    def forward(self, images: torch.Tensor) -> torch.Tensor:\n",
    "        \"\"\"\n",
    "        Input: torch.Tensor | dtype=torch.float | shape=[B, C, H, W]\n",
    "        Output: torch.Tensor | dtype=torch.float | shape=[B, num_class]\n",
    "        \"\"\"\n",
    "        # 🔶 TODO: Insert your code\n",
    "        return self.model(images)\n",
    "\n",
    "model = RawModel()\n",
    "with torch.no_grad():  # DO NOT REMOVE THIS LINES BELOW\n",
    "    sample_image = torch.rand(size=(4, 1, 28, 28))\n",
    "    output = model(sample_image)\n",
    "    print(output.shape, output.dtype)  \n",
    "    print(output)\n"
   ]
  },
  {
   "cell_type": "markdown",
   "metadata": {},
   "source": [
    "## 3) Experiments (5 Points)"
   ]
  },
  {
   "cell_type": "markdown",
   "metadata": {},
   "source": [
    "- Define training/validation/test step and optimizer with cross-entropy loss and `AdamW` optimizer.\n",
    "- Use accuracy scores for monitoring the experiment. (you can use multiclass accuracy from Lightning Metrics)"
   ]
  },
  {
   "cell_type": "code",
   "execution_count": 7,
   "metadata": {
    "collapsed": true
   },
   "outputs": [],
   "source": [
    "import torch\n",
    "import torch.nn as nn\n",
    "from torchmetrics import Accuracy\n",
    "import lightning.pytorch as pl\n",
    "\n",
    "class MNISTExperiment(pl.LightningModule):\n",
    "    def __init__(self, learning_rate: float = 1e-3):\n",
    "        super().__init__()\n",
    "        self.model = RawModel()\n",
    "        self.learning_rate = learning_rate\n",
    "        self.criterion = nn.CrossEntropyLoss()\n",
    "        self.train_scores = Accuracy(task = \"multiclass\", num_classes = 10)   # 🔶 TODO: Insert your code\n",
    "        # HINT: define the metric used in this classification task.\n",
    "        self.validation_scores = Accuracy(task = \"multiclass\", num_classes = 10)  # 🔶 TODO: Insert your code\n",
    "        self.test_scores = Accuracy(task = \"multiclass\", num_classes = 10)  # 🔶 TODO: Insert your code\n",
    "\n",
    "    def forward(self, x: torch.Tensor) -> torch.Tensor:\n",
    "        return self.model(x)\n",
    "\n",
    "    def training_step(self, batch, batch_idx) -> torch.Tensor:\n",
    "        x, y = batch\n",
    "        y_hat = self(x)\n",
    "        \n",
    "        # 🔶 TODO: Insert your code: Loss Calculation\n",
    "        loss = self.criterion(y_hat, y)\n",
    "        # 🔶 TODO: Insert your code: Score Calculation\n",
    "        acc = self.train_scores(y_hat, y)\n",
    "        self.log('train_loss', loss)\n",
    "        self.log('train_accuracy', acc)\n",
    "        return loss\n",
    "    \n",
    "    def validation_step(self, batch, batch_idx) -> None:\n",
    "        # 🔶 TODO: Insert your code\n",
    "        x, y = batch\n",
    "        y_hat = self(x)\n",
    "        acc = self.validation_scores(y_hat, y)\n",
    "        self.log('validation_accuracy', acc)\n",
    "    \n",
    "    def test_step(self, batch, batch_idx) -> None:\n",
    "        # 🔶 TODO: Insert your code\n",
    "        x, y = batch\n",
    "        y_hat = self(x)\n",
    "        acc = self.test_scores(y_hat, y)\n",
    "        self.log('test_accuracy', acc)\n",
    "\n",
    "    def configure_optimizers(self):\n",
    "        optimizer = torch.optim.Adam(self.parameters(), lr = self.learning_rate)  # 🔶 TODO: Insert your code \n",
    "        return optimizer\n",
    "\n",
    "experiment = MNISTExperiment()"
   ]
  },
  {
   "cell_type": "markdown",
   "metadata": {},
   "source": [
    "- Define a lightning `Trainer`:\n",
    "    - Maximum epoch = 20\n",
    "    - accelerator = 'auto'\n",
    "    - Use `CSVLogger` and `TensorBoardLogger`\n",
    "    - Use `EarlyStopping` with patience epoch = 3\n",
    "    - Use `TQDMProgressBar` with refresh rate = 10"
   ]
  },
  {
   "cell_type": "code",
   "execution_count": 8,
   "metadata": {
    "collapsed": true
   },
   "outputs": [
    {
     "name": "stderr",
     "output_type": "stream",
     "text": [
      "Using default `ModelCheckpoint`. Consider installing `litmodels` package to enable `LitModelCheckpoint` for automatic upload to the Lightning model registry.\n",
      "GPU available: False, used: False\n",
      "TPU available: False, using: 0 TPU cores\n",
      "HPU available: False, using: 0 HPUs\n"
     ]
    }
   ],
   "source": [
    "trainer = pl.Trainer(\n",
    "    max_epochs=20,\n",
    "    accelerator='auto',\n",
    "    logger=[\n",
    "        CSVLogger(EXPERIMENTS_PATH, name='MNIST_Experiment'),\n",
    "        TensorBoardLogger(EXPERIMENTS_PATH, name='MNIST_Experiment')\n",
    "    ],\n",
    "    callbacks=[TQDMProgressBar(refresh_rate=10)]\n",
    ")"
   ]
  },
  {
   "cell_type": "markdown",
   "metadata": {},
   "source": [
    "## 4) Results (4 Points)\n",
    "- Train and test the `RawModel` and plot the score and loss values versus epoch."
   ]
  },
  {
   "cell_type": "code",
   "execution_count": 9,
   "metadata": {
    "collapsed": true
   },
   "outputs": [
    {
     "name": "stderr",
     "output_type": "stream",
     "text": [
      "2025-05-13 18:44:16.266616: I tensorflow/core/platform/cpu_feature_guard.cc:210] This TensorFlow binary is optimized to use available CPU instructions in performance-critical operations.\n",
      "To enable the following instructions: AVX2 FMA, in other operations, rebuild TensorFlow with the appropriate compiler flags.\n",
      "\n",
      "  | Name              | Type               | Params | Mode \n",
      "-----------------------------------------------------------------\n",
      "0 | model             | RawModel           | 32.0 K | train\n",
      "1 | criterion         | CrossEntropyLoss   | 0      | train\n",
      "2 | train_scores      | MulticlassAccuracy | 0      | train\n",
      "3 | validation_scores | MulticlassAccuracy | 0      | train\n",
      "4 | test_scores       | MulticlassAccuracy | 0      | train\n",
      "-----------------------------------------------------------------\n",
      "32.0 K    Trainable params\n",
      "0         Non-trainable params\n",
      "32.0 K    Total params\n",
      "0.128     Total estimated model params size (MB)\n",
      "14        Modules in train mode\n",
      "0         Modules in eval mode\n"
     ]
    },
    {
     "data": {
      "application/vnd.jupyter.widget-view+json": {
       "model_id": "ac17dd754b5446fab1c00ddb8376d55a",
       "version_major": 2,
       "version_minor": 0
      },
      "text/plain": [
       "Sanity Checking: |          | 0/? [00:00<?, ?it/s]"
      ]
     },
     "metadata": {},
     "output_type": "display_data"
    },
    {
     "data": {
      "application/vnd.jupyter.widget-view+json": {
       "model_id": "21c34577f8364431b089b027c18ef603",
       "version_major": 2,
       "version_minor": 0
      },
      "text/plain": [
       "Training: |          | 0/? [00:00<?, ?it/s]"
      ]
     },
     "metadata": {},
     "output_type": "display_data"
    },
    {
     "data": {
      "application/vnd.jupyter.widget-view+json": {
       "model_id": "d19a09862dfb47c5b4129848b1b9eb17",
       "version_major": 2,
       "version_minor": 0
      },
      "text/plain": [
       "Validation: |          | 0/? [00:00<?, ?it/s]"
      ]
     },
     "metadata": {},
     "output_type": "display_data"
    },
    {
     "data": {
      "application/vnd.jupyter.widget-view+json": {
       "model_id": "db2e397f598b4907b43bf2910e89f8ae",
       "version_major": 2,
       "version_minor": 0
      },
      "text/plain": [
       "Validation: |          | 0/? [00:00<?, ?it/s]"
      ]
     },
     "metadata": {},
     "output_type": "display_data"
    },
    {
     "data": {
      "application/vnd.jupyter.widget-view+json": {
       "model_id": "d604a5ef785343819b3bdc0aab8466db",
       "version_major": 2,
       "version_minor": 0
      },
      "text/plain": [
       "Validation: |          | 0/? [00:00<?, ?it/s]"
      ]
     },
     "metadata": {},
     "output_type": "display_data"
    },
    {
     "data": {
      "application/vnd.jupyter.widget-view+json": {
       "model_id": "13ea337a07224e05ab17c7af2ad5ebee",
       "version_major": 2,
       "version_minor": 0
      },
      "text/plain": [
       "Validation: |          | 0/? [00:00<?, ?it/s]"
      ]
     },
     "metadata": {},
     "output_type": "display_data"
    },
    {
     "data": {
      "application/vnd.jupyter.widget-view+json": {
       "model_id": "ef177504f3044c9a8ba0c273caa4b9c5",
       "version_major": 2,
       "version_minor": 0
      },
      "text/plain": [
       "Validation: |          | 0/? [00:00<?, ?it/s]"
      ]
     },
     "metadata": {},
     "output_type": "display_data"
    },
    {
     "data": {
      "application/vnd.jupyter.widget-view+json": {
       "model_id": "7c2abee555ca459fae8ae0790f08b307",
       "version_major": 2,
       "version_minor": 0
      },
      "text/plain": [
       "Validation: |          | 0/? [00:00<?, ?it/s]"
      ]
     },
     "metadata": {},
     "output_type": "display_data"
    },
    {
     "data": {
      "application/vnd.jupyter.widget-view+json": {
       "model_id": "461d0a82627e4c7ba89ac3fc7ba6d963",
       "version_major": 2,
       "version_minor": 0
      },
      "text/plain": [
       "Validation: |          | 0/? [00:00<?, ?it/s]"
      ]
     },
     "metadata": {},
     "output_type": "display_data"
    },
    {
     "data": {
      "application/vnd.jupyter.widget-view+json": {
       "model_id": "e652790e15714e45947009b194546cd1",
       "version_major": 2,
       "version_minor": 0
      },
      "text/plain": [
       "Validation: |          | 0/? [00:00<?, ?it/s]"
      ]
     },
     "metadata": {},
     "output_type": "display_data"
    },
    {
     "data": {
      "application/vnd.jupyter.widget-view+json": {
       "model_id": "c090917e53c74c6b9661945d3c1e3b7e",
       "version_major": 2,
       "version_minor": 0
      },
      "text/plain": [
       "Validation: |          | 0/? [00:00<?, ?it/s]"
      ]
     },
     "metadata": {},
     "output_type": "display_data"
    },
    {
     "data": {
      "application/vnd.jupyter.widget-view+json": {
       "model_id": "7ca1c4ae294c4edda8a36acf6e1ef854",
       "version_major": 2,
       "version_minor": 0
      },
      "text/plain": [
       "Validation: |          | 0/? [00:00<?, ?it/s]"
      ]
     },
     "metadata": {},
     "output_type": "display_data"
    },
    {
     "data": {
      "application/vnd.jupyter.widget-view+json": {
       "model_id": "ca2b1c09fd6f4733b1e7f6a53a2dc42e",
       "version_major": 2,
       "version_minor": 0
      },
      "text/plain": [
       "Validation: |          | 0/? [00:00<?, ?it/s]"
      ]
     },
     "metadata": {},
     "output_type": "display_data"
    },
    {
     "data": {
      "application/vnd.jupyter.widget-view+json": {
       "model_id": "3eac5cc918d8401fb41065c296d429a8",
       "version_major": 2,
       "version_minor": 0
      },
      "text/plain": [
       "Validation: |          | 0/? [00:00<?, ?it/s]"
      ]
     },
     "metadata": {},
     "output_type": "display_data"
    },
    {
     "data": {
      "application/vnd.jupyter.widget-view+json": {
       "model_id": "95a0f8f28fad42c98e3493d8695c9b5a",
       "version_major": 2,
       "version_minor": 0
      },
      "text/plain": [
       "Validation: |          | 0/? [00:00<?, ?it/s]"
      ]
     },
     "metadata": {},
     "output_type": "display_data"
    },
    {
     "data": {
      "application/vnd.jupyter.widget-view+json": {
       "model_id": "c300e2f6617a49599348938b4c60136c",
       "version_major": 2,
       "version_minor": 0
      },
      "text/plain": [
       "Validation: |          | 0/? [00:00<?, ?it/s]"
      ]
     },
     "metadata": {},
     "output_type": "display_data"
    },
    {
     "data": {
      "application/vnd.jupyter.widget-view+json": {
       "model_id": "bdbe7cb44ee544178eaac784c7904476",
       "version_major": 2,
       "version_minor": 0
      },
      "text/plain": [
       "Validation: |          | 0/? [00:00<?, ?it/s]"
      ]
     },
     "metadata": {},
     "output_type": "display_data"
    },
    {
     "data": {
      "application/vnd.jupyter.widget-view+json": {
       "model_id": "872865cffdc84c63a87a66445131b4e7",
       "version_major": 2,
       "version_minor": 0
      },
      "text/plain": [
       "Validation: |          | 0/? [00:00<?, ?it/s]"
      ]
     },
     "metadata": {},
     "output_type": "display_data"
    },
    {
     "data": {
      "application/vnd.jupyter.widget-view+json": {
       "model_id": "34519ae2d6e943a9a4ea77ab71071cfc",
       "version_major": 2,
       "version_minor": 0
      },
      "text/plain": [
       "Validation: |          | 0/? [00:00<?, ?it/s]"
      ]
     },
     "metadata": {},
     "output_type": "display_data"
    },
    {
     "data": {
      "application/vnd.jupyter.widget-view+json": {
       "model_id": "05a9447f4fcf4255a2125ce387b9ba96",
       "version_major": 2,
       "version_minor": 0
      },
      "text/plain": [
       "Validation: |          | 0/? [00:00<?, ?it/s]"
      ]
     },
     "metadata": {},
     "output_type": "display_data"
    },
    {
     "data": {
      "application/vnd.jupyter.widget-view+json": {
       "model_id": "baa2dc16e5474e2688074d00d54a1a19",
       "version_major": 2,
       "version_minor": 0
      },
      "text/plain": [
       "Validation: |          | 0/? [00:00<?, ?it/s]"
      ]
     },
     "metadata": {},
     "output_type": "display_data"
    },
    {
     "data": {
      "application/vnd.jupyter.widget-view+json": {
       "model_id": "3350fd1d49554d53b1cb56bfb463a832",
       "version_major": 2,
       "version_minor": 0
      },
      "text/plain": [
       "Validation: |          | 0/? [00:00<?, ?it/s]"
      ]
     },
     "metadata": {},
     "output_type": "display_data"
    },
    {
     "name": "stderr",
     "output_type": "stream",
     "text": [
      "`Trainer.fit` stopped: `max_epochs=20` reached.\n"
     ]
    },
    {
     "data": {
      "application/vnd.jupyter.widget-view+json": {
       "model_id": "d5468741b8344ef0b05694600030a4ca",
       "version_major": 2,
       "version_minor": 0
      },
      "text/plain": [
       "Testing: |          | 0/? [00:00<?, ?it/s]"
      ]
     },
     "metadata": {},
     "output_type": "display_data"
    },
    {
     "data": {
      "text/html": [
       "<pre style=\"white-space:pre;overflow-x:auto;line-height:normal;font-family:Menlo,'DejaVu Sans Mono',consolas,'Courier New',monospace\">┏━━━━━━━━━━━━━━━━━━━━━━━━━━━┳━━━━━━━━━━━━━━━━━━━━━━━━━━━┓\n",
       "┃<span style=\"font-weight: bold\">        Test metric        </span>┃<span style=\"font-weight: bold\">       DataLoader 0        </span>┃\n",
       "┡━━━━━━━━━━━━━━━━━━━━━━━━━━━╇━━━━━━━━━━━━━━━━━━━━━━━━━━━┩\n",
       "│<span style=\"color: #008080; text-decoration-color: #008080\">       test_accuracy       </span>│<span style=\"color: #800080; text-decoration-color: #800080\">    0.9796000123023987     </span>│\n",
       "└───────────────────────────┴───────────────────────────┘\n",
       "</pre>\n"
      ],
      "text/plain": [
       "┏━━━━━━━━━━━━━━━━━━━━━━━━━━━┳━━━━━━━━━━━━━━━━━━━━━━━━━━━┓\n",
       "┃\u001b[1m \u001b[0m\u001b[1m       Test metric       \u001b[0m\u001b[1m \u001b[0m┃\u001b[1m \u001b[0m\u001b[1m      DataLoader 0       \u001b[0m\u001b[1m \u001b[0m┃\n",
       "┡━━━━━━━━━━━━━━━━━━━━━━━━━━━╇━━━━━━━━━━━━━━━━━━━━━━━━━━━┩\n",
       "│\u001b[36m \u001b[0m\u001b[36m      test_accuracy      \u001b[0m\u001b[36m \u001b[0m│\u001b[35m \u001b[0m\u001b[35m   0.9796000123023987    \u001b[0m\u001b[35m \u001b[0m│\n",
       "└───────────────────────────┴───────────────────────────┘\n"
      ]
     },
     "metadata": {},
     "output_type": "display_data"
    },
    {
     "data": {
      "text/plain": [
       "[{'test_accuracy': 0.9796000123023987}]"
      ]
     },
     "execution_count": 9,
     "metadata": {},
     "output_type": "execute_result"
    }
   ],
   "source": [
    "data_module = MNISTDataModule(DATASET_PATH)\n",
    "experiment = MNISTExperiment()\n",
    "\n",
    "data_module.prepare_data()\n",
    "data_module.setup(\"fit\")\n",
    "trainer.fit(experiment, datamodule=data_module)\n",
    "trainer.test(experiment, datamodule=data_module)"
   ]
  },
  {
   "cell_type": "code",
   "execution_count": 12,
   "id": "94bd52f5",
   "metadata": {},
   "outputs": [
    {
     "data": {
      "image/png": "[encoded data removed]",
      "text/plain": [
       "<Figure size 600x400 with 1 Axes>"
      ]
     },
     "metadata": {},
     "output_type": "display_data"
    }
   ],
   "source": [
    "import pandas as pd\n",
    "\n",
    "metrics_path = \"/Users/merterol/Desktop/iMac27_github/uzh/Computational Science/Sem 4/PHY371/MNIST_exp/MNIST_Experiment/version_0/metrics.csv\"\n",
    "\n",
    "df = pd.read_csv(metrics_path)\n",
    "\n",
    "df = df.dropna(subset=[\"train_loss\"])\n",
    "\n",
    "loss_per_epoch = df.groupby(\"epoch\")[\"train_loss\"].mean()\n",
    "\n",
    "plt.figure(figsize=(6, 4))\n",
    "plt.plot(loss_per_epoch.index, loss_per_epoch.values, marker='o', color='red')\n",
    "plt.title(\"Train Loss vs Epoch\")\n",
    "plt.xlabel(\"Epoch\")\n",
    "plt.ylabel(\"Train Loss\")\n",
    "plt.grid(True)\n",
    "plt.tight_layout()\n",
    "plt.show()\n"
   ]
  },
  {
   "cell_type": "markdown",
   "metadata": {},
   "source": [
    "- Re-design the model with `Dropout` layer in-between the convolutional layers and re-train the model. as like `RawModel` and create a new module as `ModelWithDropout`. Try:\n",
    "    - dropout probability = 0.1\n",
    "    - dropout probability = 0.5\n",
    "    - dropout probability = 0.9"
   ]
  },
  {
   "cell_type": "code",
   "execution_count": 13,
   "metadata": {
    "collapsed": true
   },
   "outputs": [
    {
     "name": "stderr",
     "output_type": "stream",
     "text": [
      "Using default `ModelCheckpoint`. Consider installing `litmodels` package to enable `LitModelCheckpoint` for automatic upload to the Lightning model registry.\n"
     ]
    },
    {
     "name": "stderr",
     "output_type": "stream",
     "text": [
      "GPU available: False, used: False\n",
      "TPU available: False, using: 0 TPU cores\n",
      "HPU available: False, using: 0 HPUs\n",
      "\n",
      "  | Name              | Type               | Params | Mode \n",
      "-----------------------------------------------------------------\n",
      "0 | model             | DropoutModel       | 32.0 K | train\n",
      "1 | criterion         | CrossEntropyLoss   | 0      | train\n",
      "2 | train_scores      | MulticlassAccuracy | 0      | train\n",
      "3 | validation_scores | MulticlassAccuracy | 0      | train\n",
      "4 | test_scores       | MulticlassAccuracy | 0      | train\n",
      "-----------------------------------------------------------------\n",
      "32.0 K    Trainable params\n",
      "0         Non-trainable params\n",
      "32.0 K    Total params\n",
      "0.128     Total estimated model params size (MB)\n",
      "15        Modules in train mode\n",
      "0         Modules in eval mode\n"
     ]
    },
    {
     "name": "stdout",
     "output_type": "stream",
     "text": [
      "torch.Size([4, 10]) torch.float32\n",
      "tensor([[-0.0221, -0.0485,  0.0219,  0.0022, -0.0137,  0.0883,  0.0074,  0.2441,\n",
      "         -0.1822, -0.0408],\n",
      "        [-0.0541, -0.0359,  0.0562, -0.0094, -0.1926,  0.1289,  0.0519, -0.0148,\n",
      "         -0.0260, -0.0033],\n",
      "        [-0.0727, -0.0472,  0.0379,  0.0188, -0.0636,  0.0600, -0.1129,  0.0514,\n",
      "         -0.0946, -0.0291],\n",
      "        [ 0.0304, -0.1269, -0.0980, -0.0229, -0.0597,  0.1392, -0.0423,  0.1226,\n",
      "          0.0888,  0.0476]])\n",
      "Dropout Probability: 0.1\n"
     ]
    },
    {
     "data": {
      "application/vnd.jupyter.widget-view+json": {
       "model_id": "f3593a585b4d4191a57ad006d33c3686",
       "version_major": 2,
       "version_minor": 0
      },
      "text/plain": [
       "Sanity Checking: |          | 0/? [00:00<?, ?it/s]"
      ]
     },
     "metadata": {},
     "output_type": "display_data"
    },
    {
     "data": {
      "application/vnd.jupyter.widget-view+json": {
       "model_id": "23687ff0f5924d748d37557d4499b3ae",
       "version_major": 2,
       "version_minor": 0
      },
      "text/plain": [
       "Training: |          | 0/? [00:00<?, ?it/s]"
      ]
     },
     "metadata": {},
     "output_type": "display_data"
    },
    {
     "data": {
      "application/vnd.jupyter.widget-view+json": {
       "model_id": "bb8976ff0b0c461b9473c966daf1927f",
       "version_major": 2,
       "version_minor": 0
      },
      "text/plain": [
       "Validation: |          | 0/? [00:00<?, ?it/s]"
      ]
     },
     "metadata": {},
     "output_type": "display_data"
    },
    {
     "data": {
      "application/vnd.jupyter.widget-view+json": {
       "model_id": "d91c39b498374d0bb490a5b0aa2df7c3",
       "version_major": 2,
       "version_minor": 0
      },
      "text/plain": [
       "Validation: |          | 0/? [00:00<?, ?it/s]"
      ]
     },
     "metadata": {},
     "output_type": "display_data"
    },
    {
     "data": {
      "application/vnd.jupyter.widget-view+json": {
       "model_id": "3e9735136a6641bb983ff89b16fece8b",
       "version_major": 2,
       "version_minor": 0
      },
      "text/plain": [
       "Validation: |          | 0/? [00:00<?, ?it/s]"
      ]
     },
     "metadata": {},
     "output_type": "display_data"
    },
    {
     "data": {
      "application/vnd.jupyter.widget-view+json": {
       "model_id": "c98bc9068099465fa71b7d38731e16fe",
       "version_major": 2,
       "version_minor": 0
      },
      "text/plain": [
       "Validation: |          | 0/? [00:00<?, ?it/s]"
      ]
     },
     "metadata": {},
     "output_type": "display_data"
    },
    {
     "data": {
      "application/vnd.jupyter.widget-view+json": {
       "model_id": "1405812f76e84043a07e3cc39b58070c",
       "version_major": 2,
       "version_minor": 0
      },
      "text/plain": [
       "Validation: |          | 0/? [00:00<?, ?it/s]"
      ]
     },
     "metadata": {},
     "output_type": "display_data"
    },
    {
     "data": {
      "application/vnd.jupyter.widget-view+json": {
       "model_id": "146f0b0094da40a787b6d492fefdaee1",
       "version_major": 2,
       "version_minor": 0
      },
      "text/plain": [
       "Validation: |          | 0/? [00:00<?, ?it/s]"
      ]
     },
     "metadata": {},
     "output_type": "display_data"
    },
    {
     "data": {
      "application/vnd.jupyter.widget-view+json": {
       "model_id": "e951d76895a64f548381f53e693613b6",
       "version_major": 2,
       "version_minor": 0
      },
      "text/plain": [
       "Validation: |          | 0/? [00:00<?, ?it/s]"
      ]
     },
     "metadata": {},
     "output_type": "display_data"
    },
    {
     "data": {
      "application/vnd.jupyter.widget-view+json": {
       "model_id": "21a51f7994a746daaa914c9b30c60eaf",
       "version_major": 2,
       "version_minor": 0
      },
      "text/plain": [
       "Validation: |          | 0/? [00:00<?, ?it/s]"
      ]
     },
     "metadata": {},
     "output_type": "display_data"
    },
    {
     "data": {
      "application/vnd.jupyter.widget-view+json": {
       "model_id": "85920dc67e434266ad7467b545f60c2c",
       "version_major": 2,
       "version_minor": 0
      },
      "text/plain": [
       "Validation: |          | 0/? [00:00<?, ?it/s]"
      ]
     },
     "metadata": {},
     "output_type": "display_data"
    },
    {
     "data": {
      "application/vnd.jupyter.widget-view+json": {
       "model_id": "96adbcf990004d67b31f0792619e35df",
       "version_major": 2,
       "version_minor": 0
      },
      "text/plain": [
       "Validation: |          | 0/? [00:00<?, ?it/s]"
      ]
     },
     "metadata": {},
     "output_type": "display_data"
    },
    {
     "data": {
      "application/vnd.jupyter.widget-view+json": {
       "model_id": "8072ca6f382940159fa63a5419e1b089",
       "version_major": 2,
       "version_minor": 0
      },
      "text/plain": [
       "Validation: |          | 0/? [00:00<?, ?it/s]"
      ]
     },
     "metadata": {},
     "output_type": "display_data"
    },
    {
     "data": {
      "application/vnd.jupyter.widget-view+json": {
       "model_id": "f457e5f3cf2d49ed95d7deaf9a682a53",
       "version_major": 2,
       "version_minor": 0
      },
      "text/plain": [
       "Validation: |          | 0/? [00:00<?, ?it/s]"
      ]
     },
     "metadata": {},
     "output_type": "display_data"
    },
    {
     "data": {
      "application/vnd.jupyter.widget-view+json": {
       "model_id": "c98284e751d240bdaf4ffffad3f008b0",
       "version_major": 2,
       "version_minor": 0
      },
      "text/plain": [
       "Validation: |          | 0/? [00:00<?, ?it/s]"
      ]
     },
     "metadata": {},
     "output_type": "display_data"
    },
    {
     "data": {
      "application/vnd.jupyter.widget-view+json": {
       "model_id": "499ac57c539845fdbd61d59706030e19",
       "version_major": 2,
       "version_minor": 0
      },
      "text/plain": [
       "Validation: |          | 0/? [00:00<?, ?it/s]"
      ]
     },
     "metadata": {},
     "output_type": "display_data"
    },
    {
     "data": {
      "application/vnd.jupyter.widget-view+json": {
       "model_id": "dd2cc1b1d56942719acce3f0bc5b399d",
       "version_major": 2,
       "version_minor": 0
      },
      "text/plain": [
       "Validation: |          | 0/? [00:00<?, ?it/s]"
      ]
     },
     "metadata": {},
     "output_type": "display_data"
    },
    {
     "data": {
      "application/vnd.jupyter.widget-view+json": {
       "model_id": "26580af59b2e4f248eff83988653d535",
       "version_major": 2,
       "version_minor": 0
      },
      "text/plain": [
       "Validation: |          | 0/? [00:00<?, ?it/s]"
      ]
     },
     "metadata": {},
     "output_type": "display_data"
    },
    {
     "data": {
      "application/vnd.jupyter.widget-view+json": {
       "model_id": "c274dd70ce0e47b3a2fbdd8ef8c3369c",
       "version_major": 2,
       "version_minor": 0
      },
      "text/plain": [
       "Validation: |          | 0/? [00:00<?, ?it/s]"
      ]
     },
     "metadata": {},
     "output_type": "display_data"
    },
    {
     "data": {
      "application/vnd.jupyter.widget-view+json": {
       "model_id": "abc34d167fc04cef94ce9171cc737c1f",
       "version_major": 2,
       "version_minor": 0
      },
      "text/plain": [
       "Validation: |          | 0/? [00:00<?, ?it/s]"
      ]
     },
     "metadata": {},
     "output_type": "display_data"
    },
    {
     "data": {
      "application/vnd.jupyter.widget-view+json": {
       "model_id": "2072e948fb26421e981eaad30237744e",
       "version_major": 2,
       "version_minor": 0
      },
      "text/plain": [
       "Validation: |          | 0/? [00:00<?, ?it/s]"
      ]
     },
     "metadata": {},
     "output_type": "display_data"
    },
    {
     "data": {
      "application/vnd.jupyter.widget-view+json": {
       "model_id": "30ebba53e25b4e1a9301a5e78964be01",
       "version_major": 2,
       "version_minor": 0
      },
      "text/plain": [
       "Validation: |          | 0/? [00:00<?, ?it/s]"
      ]
     },
     "metadata": {},
     "output_type": "display_data"
    },
    {
     "name": "stderr",
     "output_type": "stream",
     "text": [
      "`Trainer.fit` stopped: `max_epochs=20` reached.\n"
     ]
    },
    {
     "data": {
      "application/vnd.jupyter.widget-view+json": {
       "model_id": "09c0cd830f014a1d9297d95ac4477a28",
       "version_major": 2,
       "version_minor": 0
      },
      "text/plain": [
       "Testing: |          | 0/? [00:00<?, ?it/s]"
      ]
     },
     "metadata": {},
     "output_type": "display_data"
    },
    {
     "data": {
      "text/html": [
       "<pre style=\"white-space:pre;overflow-x:auto;line-height:normal;font-family:Menlo,'DejaVu Sans Mono',consolas,'Courier New',monospace\">┏━━━━━━━━━━━━━━━━━━━━━━━━━━━┳━━━━━━━━━━━━━━━━━━━━━━━━━━━┓\n",
       "┃<span style=\"font-weight: bold\">        Test metric        </span>┃<span style=\"font-weight: bold\">       DataLoader 0        </span>┃\n",
       "┡━━━━━━━━━━━━━━━━━━━━━━━━━━━╇━━━━━━━━━━━━━━━━━━━━━━━━━━━┩\n",
       "│<span style=\"color: #008080; text-decoration-color: #008080\">       test_accuracy       </span>│<span style=\"color: #800080; text-decoration-color: #800080\">    0.9825000166893005     </span>│\n",
       "└───────────────────────────┴───────────────────────────┘\n",
       "</pre>\n"
      ],
      "text/plain": [
       "┏━━━━━━━━━━━━━━━━━━━━━━━━━━━┳━━━━━━━━━━━━━━━━━━━━━━━━━━━┓\n",
       "┃\u001b[1m \u001b[0m\u001b[1m       Test metric       \u001b[0m\u001b[1m \u001b[0m┃\u001b[1m \u001b[0m\u001b[1m      DataLoader 0       \u001b[0m\u001b[1m \u001b[0m┃\n",
       "┡━━━━━━━━━━━━━━━━━━━━━━━━━━━╇━━━━━━━━━━━━━━━━━━━━━━━━━━━┩\n",
       "│\u001b[36m \u001b[0m\u001b[36m      test_accuracy      \u001b[0m\u001b[36m \u001b[0m│\u001b[35m \u001b[0m\u001b[35m   0.9825000166893005    \u001b[0m\u001b[35m \u001b[0m│\n",
       "└───────────────────────────┴───────────────────────────┘\n"
      ]
     },
     "metadata": {},
     "output_type": "display_data"
    },
    {
     "name": "stderr",
     "output_type": "stream",
     "text": [
      "Using default `ModelCheckpoint`. Consider installing `litmodels` package to enable `LitModelCheckpoint` for automatic upload to the Lightning model registry.\n",
      "GPU available: False, used: False\n",
      "TPU available: False, using: 0 TPU cores\n",
      "HPU available: False, using: 0 HPUs\n",
      "\n",
      "  | Name              | Type               | Params | Mode \n",
      "-----------------------------------------------------------------\n",
      "0 | model             | DropoutModel       | 32.0 K | train\n",
      "1 | criterion         | CrossEntropyLoss   | 0      | train\n",
      "2 | train_scores      | MulticlassAccuracy | 0      | train\n",
      "3 | validation_scores | MulticlassAccuracy | 0      | train\n",
      "4 | test_scores       | MulticlassAccuracy | 0      | train\n",
      "-----------------------------------------------------------------\n",
      "32.0 K    Trainable params\n",
      "0         Non-trainable params\n",
      "32.0 K    Total params\n",
      "0.128     Total estimated model params size (MB)\n",
      "15        Modules in train mode\n",
      "0         Modules in eval mode\n"
     ]
    },
    {
     "name": "stdout",
     "output_type": "stream",
     "text": [
      "Dropout Probability: 0.5\n"
     ]
    },
    {
     "data": {
      "application/vnd.jupyter.widget-view+json": {
       "model_id": "d968451e6cd54b1595dfed37b3cb92f0",
       "version_major": 2,
       "version_minor": 0
      },
      "text/plain": [
       "Sanity Checking: |          | 0/? [00:00<?, ?it/s]"
      ]
     },
     "metadata": {},
     "output_type": "display_data"
    },
    {
     "data": {
      "application/vnd.jupyter.widget-view+json": {
       "model_id": "7cacba0175c04ead9e242f191f35ce41",
       "version_major": 2,
       "version_minor": 0
      },
      "text/plain": [
       "Training: |          | 0/? [00:00<?, ?it/s]"
      ]
     },
     "metadata": {},
     "output_type": "display_data"
    },
    {
     "data": {
      "application/vnd.jupyter.widget-view+json": {
       "model_id": "8dc31429ea264711a1ad54fc93fa0bcc",
       "version_major": 2,
       "version_minor": 0
      },
      "text/plain": [
       "Validation: |          | 0/? [00:00<?, ?it/s]"
      ]
     },
     "metadata": {},
     "output_type": "display_data"
    },
    {
     "data": {
      "application/vnd.jupyter.widget-view+json": {
       "model_id": "d3ff294c49f34d97a47b60f8e1d3c7e2",
       "version_major": 2,
       "version_minor": 0
      },
      "text/plain": [
       "Validation: |          | 0/? [00:00<?, ?it/s]"
      ]
     },
     "metadata": {},
     "output_type": "display_data"
    },
    {
     "data": {
      "application/vnd.jupyter.widget-view+json": {
       "model_id": "80d82066a7b049d6b00f5b34ed48bc49",
       "version_major": 2,
       "version_minor": 0
      },
      "text/plain": [
       "Validation: |          | 0/? [00:00<?, ?it/s]"
      ]
     },
     "metadata": {},
     "output_type": "display_data"
    },
    {
     "data": {
      "application/vnd.jupyter.widget-view+json": {
       "model_id": "fd2349ca09334cdfa07d65afba3f620b",
       "version_major": 2,
       "version_minor": 0
      },
      "text/plain": [
       "Validation: |          | 0/? [00:00<?, ?it/s]"
      ]
     },
     "metadata": {},
     "output_type": "display_data"
    },
    {
     "data": {
      "application/vnd.jupyter.widget-view+json": {
       "model_id": "8fa34cc0082f4f4cbc791eea817308b7",
       "version_major": 2,
       "version_minor": 0
      },
      "text/plain": [
       "Validation: |          | 0/? [00:00<?, ?it/s]"
      ]
     },
     "metadata": {},
     "output_type": "display_data"
    },
    {
     "data": {
      "application/vnd.jupyter.widget-view+json": {
       "model_id": "37f906ce763849198d32510109adbd71",
       "version_major": 2,
       "version_minor": 0
      },
      "text/plain": [
       "Validation: |          | 0/? [00:00<?, ?it/s]"
      ]
     },
     "metadata": {},
     "output_type": "display_data"
    },
    {
     "data": {
      "application/vnd.jupyter.widget-view+json": {
       "model_id": "a27acd05ae1e44028bf1d9e9dd9b4acd",
       "version_major": 2,
       "version_minor": 0
      },
      "text/plain": [
       "Validation: |          | 0/? [00:00<?, ?it/s]"
      ]
     },
     "metadata": {},
     "output_type": "display_data"
    },
    {
     "data": {
      "application/vnd.jupyter.widget-view+json": {
       "model_id": "ab64d53e15d643ceb29f0ed393f38cad",
       "version_major": 2,
       "version_minor": 0
      },
      "text/plain": [
       "Validation: |          | 0/? [00:00<?, ?it/s]"
      ]
     },
     "metadata": {},
     "output_type": "display_data"
    },
    {
     "data": {
      "application/vnd.jupyter.widget-view+json": {
       "model_id": "df83a3e36b3a4018b7e1d6e9bc0d791d",
       "version_major": 2,
       "version_minor": 0
      },
      "text/plain": [
       "Validation: |          | 0/? [00:00<?, ?it/s]"
      ]
     },
     "metadata": {},
     "output_type": "display_data"
    },
    {
     "data": {
      "application/vnd.jupyter.widget-view+json": {
       "model_id": "cf5a95efd81d49f185ba4ff205fb383d",
       "version_major": 2,
       "version_minor": 0
      },
      "text/plain": [
       "Validation: |          | 0/? [00:00<?, ?it/s]"
      ]
     },
     "metadata": {},
     "output_type": "display_data"
    },
    {
     "data": {
      "application/vnd.jupyter.widget-view+json": {
       "model_id": "96c40e5e3aca4c6c80702e13a624c466",
       "version_major": 2,
       "version_minor": 0
      },
      "text/plain": [
       "Validation: |          | 0/? [00:00<?, ?it/s]"
      ]
     },
     "metadata": {},
     "output_type": "display_data"
    },
    {
     "data": {
      "application/vnd.jupyter.widget-view+json": {
       "model_id": "529c49f152af4147b1af48bacc7ca20a",
       "version_major": 2,
       "version_minor": 0
      },
      "text/plain": [
       "Validation: |          | 0/? [00:00<?, ?it/s]"
      ]
     },
     "metadata": {},
     "output_type": "display_data"
    },
    {
     "data": {
      "application/vnd.jupyter.widget-view+json": {
       "model_id": "de2acae5aeaa43a0ac38847fde542466",
       "version_major": 2,
       "version_minor": 0
      },
      "text/plain": [
       "Validation: |          | 0/? [00:00<?, ?it/s]"
      ]
     },
     "metadata": {},
     "output_type": "display_data"
    },
    {
     "data": {
      "application/vnd.jupyter.widget-view+json": {
       "model_id": "b3d2583dfe6949a989cf0494f8d13e3f",
       "version_major": 2,
       "version_minor": 0
      },
      "text/plain": [
       "Validation: |          | 0/? [00:00<?, ?it/s]"
      ]
     },
     "metadata": {},
     "output_type": "display_data"
    },
    {
     "data": {
      "application/vnd.jupyter.widget-view+json": {
       "model_id": "12e5196e48c34158a9f38249ac6be073",
       "version_major": 2,
       "version_minor": 0
      },
      "text/plain": [
       "Validation: |          | 0/? [00:00<?, ?it/s]"
      ]
     },
     "metadata": {},
     "output_type": "display_data"
    },
    {
     "data": {
      "application/vnd.jupyter.widget-view+json": {
       "model_id": "7b1e16fabf3d4050bbe9e96dd4d44a16",
       "version_major": 2,
       "version_minor": 0
      },
      "text/plain": [
       "Validation: |          | 0/? [00:00<?, ?it/s]"
      ]
     },
     "metadata": {},
     "output_type": "display_data"
    },
    {
     "data": {
      "application/vnd.jupyter.widget-view+json": {
       "model_id": "3ba448182c05450ea8cf207176541679",
       "version_major": 2,
       "version_minor": 0
      },
      "text/plain": [
       "Validation: |          | 0/? [00:00<?, ?it/s]"
      ]
     },
     "metadata": {},
     "output_type": "display_data"
    },
    {
     "data": {
      "application/vnd.jupyter.widget-view+json": {
       "model_id": "e90dbbfc4f3f404a9d9f96452b3e6bb1",
       "version_major": 2,
       "version_minor": 0
      },
      "text/plain": [
       "Validation: |          | 0/? [00:00<?, ?it/s]"
      ]
     },
     "metadata": {},
     "output_type": "display_data"
    },
    {
     "data": {
      "application/vnd.jupyter.widget-view+json": {
       "model_id": "13bf32f313244efd8c11be58cfcb9534",
       "version_major": 2,
       "version_minor": 0
      },
      "text/plain": [
       "Validation: |          | 0/? [00:00<?, ?it/s]"
      ]
     },
     "metadata": {},
     "output_type": "display_data"
    },
    {
     "data": {
      "application/vnd.jupyter.widget-view+json": {
       "model_id": "275eef310cd24cf196b3624077ee3885",
       "version_major": 2,
       "version_minor": 0
      },
      "text/plain": [
       "Validation: |          | 0/? [00:00<?, ?it/s]"
      ]
     },
     "metadata": {},
     "output_type": "display_data"
    },
    {
     "name": "stderr",
     "output_type": "stream",
     "text": [
      "`Trainer.fit` stopped: `max_epochs=20` reached.\n"
     ]
    },
    {
     "data": {
      "application/vnd.jupyter.widget-view+json": {
       "model_id": "df5df2a2085b4a548b1d3b62d4ab2c44",
       "version_major": 2,
       "version_minor": 0
      },
      "text/plain": [
       "Testing: |          | 0/? [00:00<?, ?it/s]"
      ]
     },
     "metadata": {},
     "output_type": "display_data"
    },
    {
     "data": {
      "text/html": [
       "<pre style=\"white-space:pre;overflow-x:auto;line-height:normal;font-family:Menlo,'DejaVu Sans Mono',consolas,'Courier New',monospace\">┏━━━━━━━━━━━━━━━━━━━━━━━━━━━┳━━━━━━━━━━━━━━━━━━━━━━━━━━━┓\n",
       "┃<span style=\"font-weight: bold\">        Test metric        </span>┃<span style=\"font-weight: bold\">       DataLoader 0        </span>┃\n",
       "┡━━━━━━━━━━━━━━━━━━━━━━━━━━━╇━━━━━━━━━━━━━━━━━━━━━━━━━━━┩\n",
       "│<span style=\"color: #008080; text-decoration-color: #008080\">       test_accuracy       </span>│<span style=\"color: #800080; text-decoration-color: #800080\">    0.9868999719619751     </span>│\n",
       "└───────────────────────────┴───────────────────────────┘\n",
       "</pre>\n"
      ],
      "text/plain": [
       "┏━━━━━━━━━━━━━━━━━━━━━━━━━━━┳━━━━━━━━━━━━━━━━━━━━━━━━━━━┓\n",
       "┃\u001b[1m \u001b[0m\u001b[1m       Test metric       \u001b[0m\u001b[1m \u001b[0m┃\u001b[1m \u001b[0m\u001b[1m      DataLoader 0       \u001b[0m\u001b[1m \u001b[0m┃\n",
       "┡━━━━━━━━━━━━━━━━━━━━━━━━━━━╇━━━━━━━━━━━━━━━━━━━━━━━━━━━┩\n",
       "│\u001b[36m \u001b[0m\u001b[36m      test_accuracy      \u001b[0m\u001b[36m \u001b[0m│\u001b[35m \u001b[0m\u001b[35m   0.9868999719619751    \u001b[0m\u001b[35m \u001b[0m│\n",
       "└───────────────────────────┴───────────────────────────┘\n"
      ]
     },
     "metadata": {},
     "output_type": "display_data"
    },
    {
     "name": "stderr",
     "output_type": "stream",
     "text": [
      "Using default `ModelCheckpoint`. Consider installing `litmodels` package to enable `LitModelCheckpoint` for automatic upload to the Lightning model registry.\n",
      "GPU available: False, used: False\n",
      "TPU available: False, using: 0 TPU cores\n",
      "HPU available: False, using: 0 HPUs\n",
      "\n",
      "  | Name              | Type               | Params | Mode \n",
      "-----------------------------------------------------------------\n",
      "0 | model             | DropoutModel       | 32.0 K | train\n",
      "1 | criterion         | CrossEntropyLoss   | 0      | train\n",
      "2 | train_scores      | MulticlassAccuracy | 0      | train\n",
      "3 | validation_scores | MulticlassAccuracy | 0      | train\n",
      "4 | test_scores       | MulticlassAccuracy | 0      | train\n",
      "-----------------------------------------------------------------\n",
      "32.0 K    Trainable params\n",
      "0         Non-trainable params\n",
      "32.0 K    Total params\n",
      "0.128     Total estimated model params size (MB)\n",
      "15        Modules in train mode\n",
      "0         Modules in eval mode\n"
     ]
    },
    {
     "name": "stdout",
     "output_type": "stream",
     "text": [
      "Dropout Probability: 0.9\n"
     ]
    },
    {
     "data": {
      "application/vnd.jupyter.widget-view+json": {
       "model_id": "50eecfe9976d42f09c9b1c3df7792961",
       "version_major": 2,
       "version_minor": 0
      },
      "text/plain": [
       "Sanity Checking: |          | 0/? [00:00<?, ?it/s]"
      ]
     },
     "metadata": {},
     "output_type": "display_data"
    },
    {
     "data": {
      "application/vnd.jupyter.widget-view+json": {
       "model_id": "7f8a300c61fe4a8db64cd2be67094a18",
       "version_major": 2,
       "version_minor": 0
      },
      "text/plain": [
       "Training: |          | 0/? [00:00<?, ?it/s]"
      ]
     },
     "metadata": {},
     "output_type": "display_data"
    },
    {
     "data": {
      "application/vnd.jupyter.widget-view+json": {
       "model_id": "c3e3ef355fd34219a410866dcfb49c2e",
       "version_major": 2,
       "version_minor": 0
      },
      "text/plain": [
       "Validation: |          | 0/? [00:00<?, ?it/s]"
      ]
     },
     "metadata": {},
     "output_type": "display_data"
    },
    {
     "data": {
      "application/vnd.jupyter.widget-view+json": {
       "model_id": "8daeafa20b0b44cba1eb5a6e6725ecb4",
       "version_major": 2,
       "version_minor": 0
      },
      "text/plain": [
       "Validation: |          | 0/? [00:00<?, ?it/s]"
      ]
     },
     "metadata": {},
     "output_type": "display_data"
    },
    {
     "data": {
      "application/vnd.jupyter.widget-view+json": {
       "model_id": "13f52a64b94f49fa8abea014ddb0c8e1",
       "version_major": 2,
       "version_minor": 0
      },
      "text/plain": [
       "Validation: |          | 0/? [00:00<?, ?it/s]"
      ]
     },
     "metadata": {},
     "output_type": "display_data"
    },
    {
     "data": {
      "application/vnd.jupyter.widget-view+json": {
       "model_id": "0c541d4675bb4d9f98b389f0777786cd",
       "version_major": 2,
       "version_minor": 0
      },
      "text/plain": [
       "Validation: |          | 0/? [00:00<?, ?it/s]"
      ]
     },
     "metadata": {},
     "output_type": "display_data"
    },
    {
     "data": {
      "application/vnd.jupyter.widget-view+json": {
       "model_id": "2d5f65a1c7bd4f5da3d111d7d25e051b",
       "version_major": 2,
       "version_minor": 0
      },
      "text/plain": [
       "Validation: |          | 0/? [00:00<?, ?it/s]"
      ]
     },
     "metadata": {},
     "output_type": "display_data"
    },
    {
     "data": {
      "application/vnd.jupyter.widget-view+json": {
       "model_id": "dc93e2069bef4f9186e6d7e144ee4c61",
       "version_major": 2,
       "version_minor": 0
      },
      "text/plain": [
       "Validation: |          | 0/? [00:00<?, ?it/s]"
      ]
     },
     "metadata": {},
     "output_type": "display_data"
    },
    {
     "data": {
      "application/vnd.jupyter.widget-view+json": {
       "model_id": "ffbdaaea076a4467857ac98b7610712f",
       "version_major": 2,
       "version_minor": 0
      },
      "text/plain": [
       "Validation: |          | 0/? [00:00<?, ?it/s]"
      ]
     },
     "metadata": {},
     "output_type": "display_data"
    },
    {
     "data": {
      "application/vnd.jupyter.widget-view+json": {
       "model_id": "5b4ab3e15ade444d869a280113b72ba4",
       "version_major": 2,
       "version_minor": 0
      },
      "text/plain": [
       "Validation: |          | 0/? [00:00<?, ?it/s]"
      ]
     },
     "metadata": {},
     "output_type": "display_data"
    },
    {
     "data": {
      "application/vnd.jupyter.widget-view+json": {
       "model_id": "1f92c2c747fb46fba3b5017e6b1a84c4",
       "version_major": 2,
       "version_minor": 0
      },
      "text/plain": [
       "Validation: |          | 0/? [00:00<?, ?it/s]"
      ]
     },
     "metadata": {},
     "output_type": "display_data"
    },
    {
     "data": {
      "application/vnd.jupyter.widget-view+json": {
       "model_id": "3cf0d7bef226411dafd738aff5303259",
       "version_major": 2,
       "version_minor": 0
      },
      "text/plain": [
       "Validation: |          | 0/? [00:00<?, ?it/s]"
      ]
     },
     "metadata": {},
     "output_type": "display_data"
    },
    {
     "data": {
      "application/vnd.jupyter.widget-view+json": {
       "model_id": "f3d44deec6d64010861ae3c53ec7f67a",
       "version_major": 2,
       "version_minor": 0
      },
      "text/plain": [
       "Validation: |          | 0/? [00:00<?, ?it/s]"
      ]
     },
     "metadata": {},
     "output_type": "display_data"
    },
    {
     "data": {
      "application/vnd.jupyter.widget-view+json": {
       "model_id": "2e1cfad927da4047b4417509a458f0ba",
       "version_major": 2,
       "version_minor": 0
      },
      "text/plain": [
       "Validation: |          | 0/? [00:00<?, ?it/s]"
      ]
     },
     "metadata": {},
     "output_type": "display_data"
    },
    {
     "data": {
      "application/vnd.jupyter.widget-view+json": {
       "model_id": "706b179558e34faa99438e360be0c5b2",
       "version_major": 2,
       "version_minor": 0
      },
      "text/plain": [
       "Validation: |          | 0/? [00:00<?, ?it/s]"
      ]
     },
     "metadata": {},
     "output_type": "display_data"
    },
    {
     "data": {
      "application/vnd.jupyter.widget-view+json": {
       "model_id": "c0cfae0d29ee4612856723e44b386dbd",
       "version_major": 2,
       "version_minor": 0
      },
      "text/plain": [
       "Validation: |          | 0/? [00:00<?, ?it/s]"
      ]
     },
     "metadata": {},
     "output_type": "display_data"
    },
    {
     "data": {
      "application/vnd.jupyter.widget-view+json": {
       "model_id": "bf11ad69664446c3acc35aa0ee389db6",
       "version_major": 2,
       "version_minor": 0
      },
      "text/plain": [
       "Validation: |          | 0/? [00:00<?, ?it/s]"
      ]
     },
     "metadata": {},
     "output_type": "display_data"
    },
    {
     "data": {
      "application/vnd.jupyter.widget-view+json": {
       "model_id": "cae4fa54d36546cbbe9b993c63a03c4f",
       "version_major": 2,
       "version_minor": 0
      },
      "text/plain": [
       "Validation: |          | 0/? [00:00<?, ?it/s]"
      ]
     },
     "metadata": {},
     "output_type": "display_data"
    },
    {
     "data": {
      "application/vnd.jupyter.widget-view+json": {
       "model_id": "c273aad9dfbd4620acb2434a4c7b0b29",
       "version_major": 2,
       "version_minor": 0
      },
      "text/plain": [
       "Validation: |          | 0/? [00:00<?, ?it/s]"
      ]
     },
     "metadata": {},
     "output_type": "display_data"
    },
    {
     "data": {
      "application/vnd.jupyter.widget-view+json": {
       "model_id": "3c19877dee124a09a399199cdc268539",
       "version_major": 2,
       "version_minor": 0
      },
      "text/plain": [
       "Validation: |          | 0/? [00:00<?, ?it/s]"
      ]
     },
     "metadata": {},
     "output_type": "display_data"
    },
    {
     "data": {
      "application/vnd.jupyter.widget-view+json": {
       "model_id": "8f31fdd5e6544e38aa4a7f57323dd1ea",
       "version_major": 2,
       "version_minor": 0
      },
      "text/plain": [
       "Validation: |          | 0/? [00:00<?, ?it/s]"
      ]
     },
     "metadata": {},
     "output_type": "display_data"
    },
    {
     "data": {
      "application/vnd.jupyter.widget-view+json": {
       "model_id": "7d4711807e0d48ebadd8fb60216ce338",
       "version_major": 2,
       "version_minor": 0
      },
      "text/plain": [
       "Validation: |          | 0/? [00:00<?, ?it/s]"
      ]
     },
     "metadata": {},
     "output_type": "display_data"
    },
    {
     "name": "stderr",
     "output_type": "stream",
     "text": [
      "`Trainer.fit` stopped: `max_epochs=20` reached.\n"
     ]
    },
    {
     "data": {
      "application/vnd.jupyter.widget-view+json": {
       "model_id": "95d5b4291de84971918390bb4dc95262",
       "version_major": 2,
       "version_minor": 0
      },
      "text/plain": [
       "Testing: |          | 0/? [00:00<?, ?it/s]"
      ]
     },
     "metadata": {},
     "output_type": "display_data"
    },
    {
     "data": {
      "text/html": [
       "<pre style=\"white-space:pre;overflow-x:auto;line-height:normal;font-family:Menlo,'DejaVu Sans Mono',consolas,'Courier New',monospace\">┏━━━━━━━━━━━━━━━━━━━━━━━━━━━┳━━━━━━━━━━━━━━━━━━━━━━━━━━━┓\n",
       "┃<span style=\"font-weight: bold\">        Test metric        </span>┃<span style=\"font-weight: bold\">       DataLoader 0        </span>┃\n",
       "┡━━━━━━━━━━━━━━━━━━━━━━━━━━━╇━━━━━━━━━━━━━━━━━━━━━━━━━━━┩\n",
       "│<span style=\"color: #008080; text-decoration-color: #008080\">       test_accuracy       </span>│<span style=\"color: #800080; text-decoration-color: #800080\">    0.9829999804496765     </span>│\n",
       "└───────────────────────────┴───────────────────────────┘\n",
       "</pre>\n"
      ],
      "text/plain": [
       "┏━━━━━━━━━━━━━━━━━━━━━━━━━━━┳━━━━━━━━━━━━━━━━━━━━━━━━━━━┓\n",
       "┃\u001b[1m \u001b[0m\u001b[1m       Test metric       \u001b[0m\u001b[1m \u001b[0m┃\u001b[1m \u001b[0m\u001b[1m      DataLoader 0       \u001b[0m\u001b[1m \u001b[0m┃\n",
       "┡━━━━━━━━━━━━━━━━━━━━━━━━━━━╇━━━━━━━━━━━━━━━━━━━━━━━━━━━┩\n",
       "│\u001b[36m \u001b[0m\u001b[36m      test_accuracy      \u001b[0m\u001b[36m \u001b[0m│\u001b[35m \u001b[0m\u001b[35m   0.9829999804496765    \u001b[0m\u001b[35m \u001b[0m│\n",
       "└───────────────────────────┴───────────────────────────┘\n"
      ]
     },
     "metadata": {},
     "output_type": "display_data"
    }
   ],
   "source": [
    "# 🔶 Insert your code\n",
    "# HINT: \n",
    "# re-create a new model class like 'class RawModel(torch.nn.Module)'. \n",
    "# add Dropout layers.\n",
    "# then run trainer.fit(...) and trainer.test(...) with this new model architecture.\n",
    "class DropoutModel(torch.nn.Module):\n",
    "    def __init__(self, dp=0.5):\n",
    "        super().__init__()\n",
    "        self.dp = dp\n",
    "        \n",
    "        self.model = nn.Sequential(\n",
    "            nn.Conv2d(in_channels = 1, out_channels = 4, kernel_size = 3, padding = 1),\n",
    "            nn.ReLU(),\n",
    "            nn.Conv2d(in_channels = 4, out_channels = 8, kernel_size = 3, padding = 1),\n",
    "            nn.ReLU(),\n",
    "            nn.Conv2d(in_channels = 8, out_channels = 4, kernel_size = 3, padding = 1),\n",
    "            nn.ReLU(),\n",
    "            nn.Dropout(p=self.dp),\n",
    "            nn.Flatten(),\n",
    "            nn.Linear(in_features = 4 * 28 * 28, out_features = 10),\n",
    "        )\n",
    "        self.model.apply(self.initialize_weights)\n",
    "        \n",
    "    @staticmethod\n",
    "    def initialize_weights(module: torch.nn.Module) -> None:\n",
    "        if isinstance(module, (nn.Conv2d, nn.Linear)):\n",
    "            nn.init.xavier_uniform_(module.weight)\n",
    "    \n",
    "    def forward(self, images: torch.Tensor) -> torch.Tensor:\n",
    "        \"\"\"\n",
    "        Input: torch.Tensor | dtype=torch.float | shape=[B, C, H, W]\n",
    "        Output: torch.Tensor | dtype=torch.float | shape=[B, num_class]\n",
    "        \"\"\"\n",
    "        return self.model(images)\n",
    "\n",
    "model = DropoutModel()\n",
    "with torch.no_grad():  # DO NOT REMOVE THIS LINES BELOW\n",
    "    sample_image = torch.rand(size=(4, 1, 28, 28))\n",
    "    output = model(sample_image)\n",
    "    print(output.shape, output.dtype)  \n",
    "    print(output)\n",
    "\n",
    "class MNISTExperimentDP(pl.LightningModule):\n",
    "    def __init__(self, learning_rate: float = 1e-3, dp = 0.5):\n",
    "        super().__init__()\n",
    "        self.dp = dp\n",
    "        self.model = DropoutModel(self.dp)\n",
    "        self.learning_rate = learning_rate\n",
    "        self.criterion = nn.CrossEntropyLoss()\n",
    "        self.train_scores = Accuracy(task = \"multiclass\", num_classes = 10)   # 🔶 TODO: Insert your code\n",
    "        # HINT: define the metric used in this classification task.\n",
    "        self.validation_scores = Accuracy(task = \"multiclass\", num_classes = 10)  # 🔶 TODO: Insert your code\n",
    "        self.test_scores = Accuracy(task = \"multiclass\", num_classes = 10)  # 🔶 TODO: Insert your code\n",
    "\n",
    "    def forward(self, x: torch.Tensor) -> torch.Tensor:\n",
    "        return self.model(x)\n",
    "\n",
    "    def training_step(self, batch, batch_idx) -> torch.Tensor:\n",
    "        x, y = batch\n",
    "        y_hat = self(x)\n",
    "        \n",
    "        # 🔶 TODO: Insert your code: Loss Calculation\n",
    "        loss = self.criterion(y_hat, y)\n",
    "        # 🔶 TODO: Insert your code: Score Calculation\n",
    "        acc = self.train_scores(y_hat, y)\n",
    "        self.log('train_loss', loss)\n",
    "        self.log('train_accuracy', acc)\n",
    "        return loss\n",
    "    \n",
    "    def validation_step(self, batch, batch_idx) -> None:\n",
    "        # 🔶 TODO: Insert your code\n",
    "        x, y = batch\n",
    "        y_hat = self(x)\n",
    "        acc = self.validation_scores(y_hat, y)\n",
    "        self.log('validation_accuracy', acc)\n",
    "    \n",
    "    def test_step(self, batch, batch_idx) -> None:\n",
    "        # 🔶 TODO: Insert your code\n",
    "        x, y = batch\n",
    "        y_hat = self(x)\n",
    "        acc = self.test_scores(y_hat, y)\n",
    "        self.log('test_accuracy', acc)\n",
    "\n",
    "    def configure_optimizers(self):\n",
    "        optimizer = torch.optim.Adam(self.parameters(), lr = self.learning_rate)  # 🔶 TODO: Insert your code \n",
    "        return optimizer\n",
    "\n",
    "for val in [0.1, 0.5, 0.9]:\n",
    "    print(f\"Dropout Probability: {val}\")\n",
    "    model = DropoutModel(val)\n",
    "    experiment = MNISTExperimentDP()\n",
    "    \n",
    "    trainer_dp = pl.Trainer(\n",
    "        max_epochs=20,\n",
    "        accelerator='auto',\n",
    "        logger=[\n",
    "            CSVLogger(EXPERIMENTS_PATH, name='MNIST_Experiment'),\n",
    "            TensorBoardLogger(EXPERIMENTS_PATH, name='MNIST_Experiment')\n",
    "        ],\n",
    "        callbacks=[TQDMProgressBar(refresh_rate=10)]\n",
    "    )\n",
    "    \n",
    "    experiment.model = model\n",
    "    trainer_dp.fit(experiment, datamodule=data_module)\n",
    "    trainer_dp.test(experiment, datamodule=data_module)\n"
   ]
  },
  {
   "cell_type": "code",
   "execution_count": 14,
   "id": "17c9908d",
   "metadata": {},
   "outputs": [
    {
     "data": {
      "image/png": "[encoded data removed]",
      "text/plain": [
       "<Figure size 600x400 with 1 Axes>"
      ]
     },
     "metadata": {},
     "output_type": "display_data"
    }
   ],
   "source": [
    "df = pd.read_csv(\"/Users/merterol/Desktop/iMac27_github/uzh/Computational Science/Sem 4/PHY371/MNIST_exp/MNIST_Experiment/version_2/metrics.csv\")\n",
    "\n",
    "df = df.dropna(subset=[\"train_loss\"])\n",
    "\n",
    "loss_per_epoch = df.groupby(\"epoch\")[\"train_loss\"].mean()\n",
    "\n",
    "plt.figure(figsize=(6, 4))\n",
    "plt.plot(loss_per_epoch.index, loss_per_epoch.values, marker='o', color='red')\n",
    "plt.title(\"Train Loss vs Epoch (dp = 0.1)\")\n",
    "plt.xlabel(\"Epoch\")\n",
    "plt.ylabel(\"Train Loss\")\n",
    "plt.grid(True)\n",
    "plt.tight_layout()\n",
    "plt.show()\n"
   ]
  },
  {
   "cell_type": "code",
   "execution_count": 15,
   "id": "24765667",
   "metadata": {},
   "outputs": [
    {
     "data": {
      "image/png": "[encoded data removed]",
      "text/plain": [
       "<Figure size 600x400 with 1 Axes>"
      ]
     },
     "metadata": {},
     "output_type": "display_data"
    }
   ],
   "source": [
    "df = pd.read_csv(\"/Users/merterol/Desktop/iMac27_github/uzh/Computational Science/Sem 4/PHY371/MNIST_exp/MNIST_Experiment/version_4/metrics.csv\")\n",
    "\n",
    "df = df.dropna(subset=[\"train_loss\"])\n",
    "\n",
    "loss_per_epoch = df.groupby(\"epoch\")[\"train_loss\"].mean()\n",
    "\n",
    "plt.figure(figsize=(6, 4))\n",
    "plt.plot(loss_per_epoch.index, loss_per_epoch.values, marker='o', color='red')\n",
    "plt.title(\"Train Loss vs Epoch (dp = 0.5)\")\n",
    "plt.xlabel(\"Epoch\")\n",
    "plt.ylabel(\"Train Loss\")\n",
    "plt.grid(True)\n",
    "plt.tight_layout()\n",
    "plt.show()"
   ]
  },
  {
   "cell_type": "code",
   "execution_count": 16,
   "id": "b2af2bc2",
   "metadata": {},
   "outputs": [
    {
     "data": {
      "image/png": "[encoded data removed]",
      "text/plain": [
       "<Figure size 600x400 with 1 Axes>"
      ]
     },
     "metadata": {},
     "output_type": "display_data"
    }
   ],
   "source": [
    "df = pd.read_csv(\"/Users/merterol/Desktop/iMac27_github/uzh/Computational Science/Sem 4/PHY371/MNIST_exp/MNIST_Experiment/version_6/metrics.csv\")\n",
    "\n",
    "df = df.dropna(subset=[\"train_loss\"])\n",
    "\n",
    "loss_per_epoch = df.groupby(\"epoch\")[\"train_loss\"].mean()\n",
    "\n",
    "plt.figure(figsize=(6, 4))\n",
    "plt.plot(loss_per_epoch.index, loss_per_epoch.values, marker='o', color='red')\n",
    "plt.title(\"Train Loss vs Epoch (dp = 0.9)\")\n",
    "plt.xlabel(\"Epoch\")\n",
    "plt.ylabel(\"Train Loss\")\n",
    "plt.grid(True)\n",
    "plt.tight_layout()\n",
    "plt.show()"
   ]
  },
  {
   "cell_type": "markdown",
   "metadata": {},
   "source": [
    "- Re-design the model with `BatchNorm` layer in-between the convolutional layers and re-train the model."
   ]
  },
  {
   "cell_type": "code",
   "execution_count": 22,
   "metadata": {
    "collapsed": true
   },
   "outputs": [
    {
     "name": "stderr",
     "output_type": "stream",
     "text": [
      "Using default `ModelCheckpoint`. Consider installing `litmodels` package to enable `LitModelCheckpoint` for automatic upload to the Lightning model registry.\n",
      "GPU available: False, used: False\n",
      "TPU available: False, using: 0 TPU cores\n",
      "HPU available: False, using: 0 HPUs\n",
      "\n",
      "  | Name      | Type               | Params | Mode \n",
      "---------------------------------------------------------\n",
      "0 | model     | BatchNormModel     | 26.3 K | train\n",
      "1 | criterion | CrossEntropyLoss   | 0      | train\n",
      "2 | train_acc | MulticlassAccuracy | 0      | train\n",
      "3 | val_acc   | MulticlassAccuracy | 0      | train\n",
      "4 | test_acc  | MulticlassAccuracy | 0      | train\n",
      "---------------------------------------------------------\n",
      "26.3 K    Trainable params\n",
      "0         Non-trainable params\n",
      "26.3 K    Total params\n",
      "0.105     Total estimated model params size (MB)\n",
      "19        Modules in train mode\n",
      "0         Modules in eval mode\n"
     ]
    },
    {
     "name": "stdout",
     "output_type": "stream",
     "text": [
      "torch.Size([4, 10]) torch.float32\n",
      "tensor([[ 1.8089,  0.4296, -1.0365,  0.8193,  1.9710,  1.5695, -0.6644,  0.1124,\n",
      "          0.4616,  0.0458],\n",
      "        [ 0.5772,  1.2641, -0.9808,  1.0377,  0.6632,  0.6705, -0.1455, -0.6985,\n",
      "          1.1066,  1.1175],\n",
      "        [-0.0691, -0.0125,  1.0433, -0.0379, -0.4801,  1.7013, -0.7016,  0.3021,\n",
      "          0.7479,  1.0664],\n",
      "        [-1.0271, -0.5341,  0.0064,  0.5166,  0.6660,  0.0750, -0.0234,  0.4332,\n",
      "         -0.2447,  1.1221]])\n"
     ]
    },
    {
     "data": {
      "application/vnd.jupyter.widget-view+json": {
       "model_id": "b463941f159c42429a35f808e9b2f0dc",
       "version_major": 2,
       "version_minor": 0
      },
      "text/plain": [
       "Sanity Checking: |          | 0/? [00:00<?, ?it/s]"
      ]
     },
     "metadata": {},
     "output_type": "display_data"
    },
    {
     "data": {
      "application/vnd.jupyter.widget-view+json": {
       "model_id": "6c0d118f5e2d4d8586004be8f7295d2c",
       "version_major": 2,
       "version_minor": 0
      },
      "text/plain": [
       "Training: |          | 0/? [00:00<?, ?it/s]"
      ]
     },
     "metadata": {},
     "output_type": "display_data"
    },
    {
     "data": {
      "application/vnd.jupyter.widget-view+json": {
       "model_id": "df3b82e289254299872191c8abe29816",
       "version_major": 2,
       "version_minor": 0
      },
      "text/plain": [
       "Validation: |          | 0/? [00:00<?, ?it/s]"
      ]
     },
     "metadata": {},
     "output_type": "display_data"
    },
    {
     "data": {
      "application/vnd.jupyter.widget-view+json": {
       "model_id": "30cc399518dd4268b46c907a06e5b178",
       "version_major": 2,
       "version_minor": 0
      },
      "text/plain": [
       "Validation: |          | 0/? [00:00<?, ?it/s]"
      ]
     },
     "metadata": {},
     "output_type": "display_data"
    },
    {
     "data": {
      "application/vnd.jupyter.widget-view+json": {
       "model_id": "8e406ea0de6c4611a66c08b9b4112f3f",
       "version_major": 2,
       "version_minor": 0
      },
      "text/plain": [
       "Validation: |          | 0/? [00:00<?, ?it/s]"
      ]
     },
     "metadata": {},
     "output_type": "display_data"
    },
    {
     "data": {
      "application/vnd.jupyter.widget-view+json": {
       "model_id": "9e7b14598d1e4098a95124a52b8177d0",
       "version_major": 2,
       "version_minor": 0
      },
      "text/plain": [
       "Validation: |          | 0/? [00:00<?, ?it/s]"
      ]
     },
     "metadata": {},
     "output_type": "display_data"
    },
    {
     "data": {
      "application/vnd.jupyter.widget-view+json": {
       "model_id": "5d65281d40a64bc8a0906695b754c549",
       "version_major": 2,
       "version_minor": 0
      },
      "text/plain": [
       "Validation: |          | 0/? [00:00<?, ?it/s]"
      ]
     },
     "metadata": {},
     "output_type": "display_data"
    },
    {
     "data": {
      "application/vnd.jupyter.widget-view+json": {
       "model_id": "fc85a6f90d814040b80576c162145d30",
       "version_major": 2,
       "version_minor": 0
      },
      "text/plain": [
       "Validation: |          | 0/? [00:00<?, ?it/s]"
      ]
     },
     "metadata": {},
     "output_type": "display_data"
    },
    {
     "data": {
      "application/vnd.jupyter.widget-view+json": {
       "model_id": "2272cd9c8e8346ba8d9a4a1020483322",
       "version_major": 2,
       "version_minor": 0
      },
      "text/plain": [
       "Validation: |          | 0/? [00:00<?, ?it/s]"
      ]
     },
     "metadata": {},
     "output_type": "display_data"
    },
    {
     "data": {
      "application/vnd.jupyter.widget-view+json": {
       "model_id": "ec69f506b83d408ea746c5bb421ba7a1",
       "version_major": 2,
       "version_minor": 0
      },
      "text/plain": [
       "Validation: |          | 0/? [00:00<?, ?it/s]"
      ]
     },
     "metadata": {},
     "output_type": "display_data"
    },
    {
     "data": {
      "application/vnd.jupyter.widget-view+json": {
       "model_id": "55efef501233404ea4b18dd52a98e15a",
       "version_major": 2,
       "version_minor": 0
      },
      "text/plain": [
       "Validation: |          | 0/? [00:00<?, ?it/s]"
      ]
     },
     "metadata": {},
     "output_type": "display_data"
    },
    {
     "data": {
      "application/vnd.jupyter.widget-view+json": {
       "model_id": "e7205677a2134b7bab82fa64a88cfc41",
       "version_major": 2,
       "version_minor": 0
      },
      "text/plain": [
       "Validation: |          | 0/? [00:00<?, ?it/s]"
      ]
     },
     "metadata": {},
     "output_type": "display_data"
    },
    {
     "data": {
      "application/vnd.jupyter.widget-view+json": {
       "model_id": "50aafa036e6c410a8e631fabc58e5fff",
       "version_major": 2,
       "version_minor": 0
      },
      "text/plain": [
       "Validation: |          | 0/? [00:00<?, ?it/s]"
      ]
     },
     "metadata": {},
     "output_type": "display_data"
    },
    {
     "data": {
      "application/vnd.jupyter.widget-view+json": {
       "model_id": "986597c83c3c48149bb46bb39beacc5d",
       "version_major": 2,
       "version_minor": 0
      },
      "text/plain": [
       "Validation: |          | 0/? [00:00<?, ?it/s]"
      ]
     },
     "metadata": {},
     "output_type": "display_data"
    },
    {
     "data": {
      "application/vnd.jupyter.widget-view+json": {
       "model_id": "246cba95959f483389427aa1a5af990f",
       "version_major": 2,
       "version_minor": 0
      },
      "text/plain": [
       "Validation: |          | 0/? [00:00<?, ?it/s]"
      ]
     },
     "metadata": {},
     "output_type": "display_data"
    },
    {
     "data": {
      "application/vnd.jupyter.widget-view+json": {
       "model_id": "9bb9fcff62424c2c8c02a3359a40e88b",
       "version_major": 2,
       "version_minor": 0
      },
      "text/plain": [
       "Validation: |          | 0/? [00:00<?, ?it/s]"
      ]
     },
     "metadata": {},
     "output_type": "display_data"
    },
    {
     "data": {
      "application/vnd.jupyter.widget-view+json": {
       "model_id": "237703e5d6a74fbabd5713f8ecf584e9",
       "version_major": 2,
       "version_minor": 0
      },
      "text/plain": [
       "Validation: |          | 0/? [00:00<?, ?it/s]"
      ]
     },
     "metadata": {},
     "output_type": "display_data"
    },
    {
     "data": {
      "application/vnd.jupyter.widget-view+json": {
       "model_id": "231d22cfdbd8486295bb44a4b6e89b33",
       "version_major": 2,
       "version_minor": 0
      },
      "text/plain": [
       "Validation: |          | 0/? [00:00<?, ?it/s]"
      ]
     },
     "metadata": {},
     "output_type": "display_data"
    },
    {
     "data": {
      "application/vnd.jupyter.widget-view+json": {
       "model_id": "44f97f2192774d77bfc56d40ad632d2e",
       "version_major": 2,
       "version_minor": 0
      },
      "text/plain": [
       "Validation: |          | 0/? [00:00<?, ?it/s]"
      ]
     },
     "metadata": {},
     "output_type": "display_data"
    },
    {
     "data": {
      "application/vnd.jupyter.widget-view+json": {
       "model_id": "8503627128c74b0db7b4a5649e1bfd00",
       "version_major": 2,
       "version_minor": 0
      },
      "text/plain": [
       "Validation: |          | 0/? [00:00<?, ?it/s]"
      ]
     },
     "metadata": {},
     "output_type": "display_data"
    },
    {
     "data": {
      "application/vnd.jupyter.widget-view+json": {
       "model_id": "4e1d38575296424b9f33d0f127e355bc",
       "version_major": 2,
       "version_minor": 0
      },
      "text/plain": [
       "Validation: |          | 0/? [00:00<?, ?it/s]"
      ]
     },
     "metadata": {},
     "output_type": "display_data"
    },
    {
     "data": {
      "application/vnd.jupyter.widget-view+json": {
       "model_id": "d77518c313624e539fde9148dbf52e07",
       "version_major": 2,
       "version_minor": 0
      },
      "text/plain": [
       "Validation: |          | 0/? [00:00<?, ?it/s]"
      ]
     },
     "metadata": {},
     "output_type": "display_data"
    },
    {
     "name": "stderr",
     "output_type": "stream",
     "text": [
      "`Trainer.fit` stopped: `max_epochs=20` reached.\n"
     ]
    },
    {
     "data": {
      "application/vnd.jupyter.widget-view+json": {
       "model_id": "4cf67d0c0954477eb0b3ab49409b3d56",
       "version_major": 2,
       "version_minor": 0
      },
      "text/plain": [
       "Testing: |          | 0/? [00:00<?, ?it/s]"
      ]
     },
     "metadata": {},
     "output_type": "display_data"
    },
    {
     "data": {
      "text/html": [
       "<pre style=\"white-space:pre;overflow-x:auto;line-height:normal;font-family:Menlo,'DejaVu Sans Mono',consolas,'Courier New',monospace\">┏━━━━━━━━━━━━━━━━━━━━━━━━━━━┳━━━━━━━━━━━━━━━━━━━━━━━━━━━┓\n",
       "┃<span style=\"font-weight: bold\">        Test metric        </span>┃<span style=\"font-weight: bold\">       DataLoader 0        </span>┃\n",
       "┡━━━━━━━━━━━━━━━━━━━━━━━━━━━╇━━━━━━━━━━━━━━━━━━━━━━━━━━━┩\n",
       "│<span style=\"color: #008080; text-decoration-color: #008080\">         test_acc          </span>│<span style=\"color: #800080; text-decoration-color: #800080\">    0.9865000247955322     </span>│\n",
       "└───────────────────────────┴───────────────────────────┘\n",
       "</pre>\n"
      ],
      "text/plain": [
       "┏━━━━━━━━━━━━━━━━━━━━━━━━━━━┳━━━━━━━━━━━━━━━━━━━━━━━━━━━┓\n",
       "┃\u001b[1m \u001b[0m\u001b[1m       Test metric       \u001b[0m\u001b[1m \u001b[0m┃\u001b[1m \u001b[0m\u001b[1m      DataLoader 0       \u001b[0m\u001b[1m \u001b[0m┃\n",
       "┡━━━━━━━━━━━━━━━━━━━━━━━━━━━╇━━━━━━━━━━━━━━━━━━━━━━━━━━━┩\n",
       "│\u001b[36m \u001b[0m\u001b[36m        test_acc         \u001b[0m\u001b[36m \u001b[0m│\u001b[35m \u001b[0m\u001b[35m   0.9865000247955322    \u001b[0m\u001b[35m \u001b[0m│\n",
       "└───────────────────────────┴───────────────────────────┘\n"
      ]
     },
     "metadata": {},
     "output_type": "display_data"
    },
    {
     "data": {
      "text/plain": [
       "[{'test_acc': 0.9865000247955322}]"
      ]
     },
     "execution_count": 22,
     "metadata": {},
     "output_type": "execute_result"
    }
   ],
   "source": [
    "# Always got broken pipe error when running differently\n",
    "\n",
    "class BatchNormModel(torch.nn.Module):\n",
    "    def __init__(self):\n",
    "        super().__init__()\n",
    "        \n",
    "        self.model = nn.Sequential(\n",
    "            nn.Conv2d(in_channels=1, out_channels=4, kernel_size=3, padding=1),\n",
    "            nn.BatchNorm2d(4),\n",
    "            nn.ReLU(),\n",
    "            nn.MaxPool2d(kernel_size=2, stride=2),  # Added pooling to reduce dimensions\n",
    "            \n",
    "            nn.Conv2d(in_channels=4, out_channels=8, kernel_size=3, padding=1),\n",
    "            nn.BatchNorm2d(8),\n",
    "            nn.ReLU(),\n",
    "            nn.MaxPool2d(kernel_size=2, stride=2),  # Added pooling\n",
    "            \n",
    "            nn.Flatten(),\n",
    "            nn.Linear(in_features=8 * 7 * 7, out_features=64),  # Adjusted for pooling\n",
    "            nn.BatchNorm1d(64),\n",
    "            nn.ReLU(),\n",
    "            nn.Linear(in_features=64, out_features=10),\n",
    "        )\n",
    "        self.model.apply(self.initialize_weights)\n",
    "        \n",
    "    @staticmethod\n",
    "    def initialize_weights(module: torch.nn.Module) -> None:\n",
    "        if isinstance(module, (nn.Conv2d, nn.Linear)):\n",
    "            nn.init.xavier_uniform_(module.weight)\n",
    "            if module.bias is not None:\n",
    "                nn.init.constant_(module.bias, 0)\n",
    "    \n",
    "    def forward(self, images: torch.Tensor) -> torch.Tensor:\n",
    "        return self.model(images)\n",
    "\n",
    "# Test the model\n",
    "model = BatchNormModel()\n",
    "with torch.no_grad():\n",
    "    sample_image = torch.rand(size=(4, 1, 28, 28))\n",
    "    output = model(sample_image)\n",
    "    print(output.shape, output.dtype)\n",
    "    print(output)\n",
    "\n",
    "class MNISTExperimentBN(pl.LightningModule):\n",
    "    def __init__(self, learning_rate: float = 1e-3):\n",
    "        super().__init__()\n",
    "        self.save_hyperparameters()\n",
    "        self.model = BatchNormModel()\n",
    "        self.criterion = nn.CrossEntropyLoss()\n",
    "        self.train_acc = Accuracy(task=\"multiclass\", num_classes=10)\n",
    "        self.val_acc = Accuracy(task=\"multiclass\", num_classes=10)\n",
    "        self.test_acc = Accuracy(task=\"multiclass\", num_classes=10)\n",
    "\n",
    "    def forward(self, x):\n",
    "        return self.model(x)\n",
    "\n",
    "    def training_step(self, batch, batch_idx):\n",
    "        x, y = batch\n",
    "        y_hat = self(x)\n",
    "        loss = self.criterion(y_hat, y)\n",
    "        self.train_acc(y_hat, y)\n",
    "        self.log(\"train_loss\", loss, on_step=True, on_epoch=True, prog_bar=True)\n",
    "        self.log(\"train_acc\", self.train_acc, on_step=True, on_epoch=True, prog_bar=True)\n",
    "        return loss\n",
    "\n",
    "    def validation_step(self, batch, batch_idx):\n",
    "        x, y = batch\n",
    "        y_hat = self(x)\n",
    "        self.val_acc(y_hat, y)\n",
    "        self.log(\"val_acc\", self.val_acc, on_step=False, on_epoch=True, prog_bar=True)\n",
    "\n",
    "    def test_step(self, batch, batch_idx):\n",
    "        x, y = batch\n",
    "        y_hat = self(x)\n",
    "        self.test_acc(y_hat, y)\n",
    "        self.log(\"test_acc\", self.test_acc, on_step=False, on_epoch=True)\n",
    "\n",
    "    def configure_optimizers(self):\n",
    "        optimizer = torch.optim.Adam(self.parameters(), lr=self.hparams.learning_rate)\n",
    "        return optimizer\n",
    "\n",
    "trainer = pl.Trainer(\n",
    "    max_epochs=20,\n",
    "    accelerator='auto',\n",
    "    devices=1,\n",
    "    logger=[\n",
    "        CSVLogger(EXPERIMENTS_PATH, name='MNIST_Experiment_BN'),\n",
    "        TensorBoardLogger(EXPERIMENTS_PATH, name='MNIST_Experiment_BN')\n",
    "    ],\n",
    "    callbacks=[TQDMProgressBar(refresh_rate=10)],\n",
    "    deterministic=True\n",
    ")\n",
    "\n",
    "experiment = MNISTExperimentBN(learning_rate=1e-3)\n",
    "trainer.fit(experiment, datamodule=data_module)\n",
    "trainer.test(experiment, datamodule=data_module)"
   ]
  },
  {
   "cell_type": "code",
   "execution_count": 23,
   "id": "0270677d",
   "metadata": {},
   "outputs": [
    {
     "data": {
      "image/png": "[encoded data removed]",
      "text/plain": [
       "<Figure size 600x400 with 1 Axes>"
      ]
     },
     "metadata": {},
     "output_type": "display_data"
    }
   ],
   "source": [
    "df = pd.read_csv(\"/Users/merterol/Desktop/iMac27_github/uzh/Computational Science/Sem 4/PHY371/MNIST_exp/MNIST_Experiment_BN/version_4/metrics.csv\")\n",
    "\n",
    "df = df.dropna(subset=[\"train_loss_epoch\"])\n",
    "\n",
    "loss_per_epoch = df.groupby(\"epoch\")[\"train_loss_epoch\"].mean()\n",
    "\n",
    "plt.figure(figsize=(6, 4))\n",
    "plt.plot(loss_per_epoch.index, loss_per_epoch.values, marker='o', color='red')\n",
    "plt.title(\"Train Loss vs Epoch (BatchNorm)\")\n",
    "plt.xlabel(\"Epoch\")\n",
    "plt.ylabel(\"Train Loss\")\n",
    "plt.grid(True)\n",
    "plt.tight_layout()\n",
    "plt.show()"
   ]
  },
  {
   "cell_type": "markdown",
   "metadata": {},
   "source": [
    "## 5) Conclusion (3 Point)\n",
    "Comment on your findings:\n",
    "- Which method is better? Why?"
   ]
  },
  {
   "cell_type": "markdown",
   "metadata": {},
   "source": [
    "ANSWER:\n",
    "\n",
    "BatchNorm alone is clearly the most effective here, providing the lowest final loss and most stable training."
   ]
  },
  {
   "cell_type": "markdown",
   "metadata": {},
   "source": [
    "- Are the results statistically significant? If not, how can we get significant ones?"
   ]
  },
  {
   "cell_type": "markdown",
   "metadata": {},
   "source": [
    "ANSWER:\n",
    "\n",
    "The stability and lower loss indicate a statistically significant difference, as the variance in the dropout models is much higher."
   ]
  },
  {
   "cell_type": "markdown",
   "metadata": {},
   "source": [
    "* Comment on different normalization techniques: `BatchNorm`, `LayerNorm` , `InstanceNorm` and `GroupNorm`. Explain the purpose of usage of them in general (for the RGB datasets, etc)."
   ]
  },
  {
   "cell_type": "markdown",
   "id": "5c85fc87",
   "metadata": {},
   "source": [
    "ANSWER:\n",
    "- Batch Norm\n",
    "  - Normalizes activations across a mini batch (lovers internal covariate shift)\n",
    "  - Computes mean and variance for each feature across the batch, then scalees and shift the normalized output\n",
    "  - Common in CNNs (captures spatial dependencies well and speeds up convergence)\n",
    "  - Worse performance with small batch sizes\n",
    "- Layer Norm\n",
    "  - Normalize across the features within each training sample (effective for RNNs and NLP tasks)\n",
    "  - Computes statistics independently for eah sample (considers all features in a layer)\n",
    "  - Used often in transformers and attention-based models where input length varies alot\n",
    "  - Less effective in CNNs\n",
    "- Instance Norm\n",
    "  - Used in syle transfer and image generation tasks (norms eachg feature map independently for each sample)\n",
    "  - Like LayerNorm but without considering the entire batch\n",
    "  - Ideal for GANs\n",
    "  - Can reduce model expressive ess if used inappropiately\n",
    "- Group Norm\n",
    "  - Balances BathNorm and LayerNorm (groups channels to norm)\n",
    "  - Divides channels into groups and normalizes each group seperately\n",
    "  - Effictive in 3D vision tasks, object detection (smaller batch sizes)\n",
    "  - Requires careful tuning fo the number of groups for optimal performance"
   ]
  },
  {
   "cell_type": "markdown",
   "id": "d03bd514",
   "metadata": {},
   "source": [
    "* Explain the operations of the `Dropout` layer in training and testing phase. Is there any difference, or are they always the same?"
   ]
  },
  {
   "cell_type": "markdown",
   "id": "8927b0de",
   "metadata": {},
   "source": [
    "ANSWER:\n",
    "- Training:\n",
    "  - Dropout randomly sets a fraction p of the neurons to 0 at each forward pass\n",
    "  - Tis is done to prevent overfitting by reducing co-adaptation between neursons\n",
    "  - Remaining neurons are scaled up to maintain the expected output magnitude\n",
    "- Testing\n",
    "  - Dropout is disabled\n",
    "  - Scaling i snot applied"
   ]
  },
  {
   "cell_type": "markdown",
   "id": "54d7e11c",
   "metadata": {},
   "source": [
    "* Explain the difference between `AdamW` and `Adam` optimizers in a few sentences.\n",
    "\n",
    "Hint: https://arxiv.org/abs/1711.05101 for more information."
   ]
  },
  {
   "cell_type": "markdown",
   "id": "455c6d48",
   "metadata": {},
   "source": [
    "ANSWER:\n",
    "- Adam:\n",
    "  - Applies weight decay as part of the gradient update\n",
    "  - Weight decay acts like an l2 penalty (affects both direction and magnitude of gradient)\n",
    "  - Can lead to suboptimal convergence and maybe overfitting\n",
    "- AdamW\n",
    "  - Seperates weight decay from gradient update (apply directly to weights after optim step)\n",
    "  - True weight decay (affects only the magnitude)\n",
    "  - Results in better generalization and more robust training"
   ]
  },
  {
   "cell_type": "markdown",
   "id": "7a5e1247",
   "metadata": {},
   "source": [
    "* Compare the Kaiming (He) and Xavier (Glorot) Initialization techniques and explain their differences in a few sentences. \n",
    "\n",
    "Hint: You can find more information from their original papers."
   ]
  },
  {
   "cell_type": "markdown",
   "id": "37dac01b",
   "metadata": {},
   "source": [
    "ANSWER:\n",
    "- Kaiming:\n",
    "  - Designed for deep nets with ReLU or similar functions\n",
    "  - Helps mitigate the vanishing gradient problem by keeping variance high\n",
    "- Xavier:\n",
    "  - Designed for networks with symmetric, linear, or tanh activation\n",
    "  - Balanced starting point for forward and backward signal flow (but might struggle with very deep nets using ReLU)"
   ]
  }
 ],
 "metadata": {
  "anaconda-cloud": {},
  "kernelspec": {
   "display_name": "Python 3",
   "language": "python",
   "name": "python3"
  },
  "language_info": {
   "codemirror_mode": {
    "name": "ipython",
    "version": 3
   },
   "file_extension": ".py",
   "mimetype": "text/x-python",
   "name": "python",
   "nbconvert_exporter": "python",
   "pygments_lexer": "ipython3",
   "version": "3.12.3"
  }
 },
 "nbformat": 4,
 "nbformat_minor": 5
}
